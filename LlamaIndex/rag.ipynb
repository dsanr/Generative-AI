{
 "cells": [
  {
   "cell_type": "code",
   "execution_count": 1,
   "id": "613023a5-97e9-4f3d-9416-21e3fed7b5ee",
   "metadata": {
    "id": "cKlax-updNW-"
   },
   "outputs": [],
   "source": [
    "import os"
   ]
  },
  {
   "cell_type": "code",
   "execution_count": 2,
   "id": "fb897ef8-254c-4340-829e-feafdab05730",
   "metadata": {},
   "outputs": [],
   "source": [
    "from dotenv import load_dotenv"
   ]
  },
  {
   "cell_type": "code",
   "execution_count": 3,
   "id": "754ec735-0df3-458e-9f7f-5d84c971844a",
   "metadata": {},
   "outputs": [
    {
     "data": {
      "text/plain": [
       "True"
      ]
     },
     "execution_count": 3,
     "metadata": {},
     "output_type": "execute_result"
    }
   ],
   "source": [
    "load_dotenv('/home/santhosh/Projects/courses/Pinnacle/.env')"
   ]
  },
  {
   "cell_type": "code",
   "execution_count": 4,
   "id": "a13342a0-2e8e-403d-964b-6c0b82cadf70",
   "metadata": {},
   "outputs": [],
   "source": [
    "OPENAI_API_KEY = os.environ['OPENAI_API_KEY']"
   ]
  },
  {
   "cell_type": "markdown",
   "id": "8587232f-b19d-4dfd-a888-49ce735bea85",
   "metadata": {},
   "source": [
    "# File Loader"
   ]
  },
  {
   "cell_type": "code",
   "execution_count": 5,
   "id": "4b16ed1e-eeb6-4ee1-96a0-51d2662aea8e",
   "metadata": {},
   "outputs": [],
   "source": [
    "import json"
   ]
  },
  {
   "cell_type": "code",
   "execution_count": 6,
   "id": "1abf7252-672d-44aa-83c2-c13bba638848",
   "metadata": {},
   "outputs": [],
   "source": [
    "from llama_index.core import SimpleDirectoryReader"
   ]
  },
  {
   "cell_type": "markdown",
   "id": "cc2c2e96-7e71-4339-8832-6d9125a46497",
   "metadata": {},
   "source": [
    "https://github.com/run-llama/llama_index/blob/main/docs/docs/examples/data/paul_graham/paul_graham_essay.txt"
   ]
  },
  {
   "cell_type": "code",
   "execution_count": 7,
   "id": "0da4ab10-8b86-43c9-b029-61ee0afe0879",
   "metadata": {},
   "outputs": [
    {
     "name": "stderr",
     "output_type": "stream",
     "text": [
      "Loading files: 100%|██████████| 1/1 [00:00<00:00, 113.98file/s]\n"
     ]
    }
   ],
   "source": [
    "documents = SimpleDirectoryReader(input_files=[\"./data/paul_graham_essay.txt\"], \n",
    "                                  filename_as_id=True).load_data(show_progress=True)"
   ]
  },
  {
   "cell_type": "code",
   "execution_count": 8,
   "id": "c5fcd3a8-9aa0-422e-acfe-099e44673655",
   "metadata": {},
   "outputs": [
    {
     "data": {
      "text/plain": [
       "list"
      ]
     },
     "execution_count": 8,
     "metadata": {},
     "output_type": "execute_result"
    }
   ],
   "source": [
    "type(documents)"
   ]
  },
  {
   "cell_type": "code",
   "execution_count": 9,
   "id": "37f630ea-cd79-46c1-a8a6-9237a46911d8",
   "metadata": {},
   "outputs": [
    {
     "data": {
      "text/plain": [
       "1"
      ]
     },
     "execution_count": 9,
     "metadata": {},
     "output_type": "execute_result"
    }
   ],
   "source": [
    "len(documents)"
   ]
  },
  {
   "cell_type": "code",
   "execution_count": 10,
   "id": "1426fa9b-28a1-4eb5-91bf-2eab20094a80",
   "metadata": {},
   "outputs": [
    {
     "data": {
      "text/plain": [
       "dict_keys(['id_', 'embedding', 'metadata', 'excluded_embed_metadata_keys', 'excluded_llm_metadata_keys', 'relationships', 'text', 'mimetype', 'start_char_idx', 'end_char_idx', 'text_template', 'metadata_template', 'metadata_seperator', 'class_name'])"
      ]
     },
     "execution_count": 10,
     "metadata": {},
     "output_type": "execute_result"
    }
   ],
   "source": [
    "documents[0].to_dict().keys()"
   ]
  },
  {
   "cell_type": "code",
   "execution_count": 11,
   "id": "3e292cc2-f36a-4a63-9c4c-ec93e3524950",
   "metadata": {},
   "outputs": [
    {
     "data": {
      "text/plain": [
       "'data/paul_graham_essay.txt'"
      ]
     },
     "execution_count": 11,
     "metadata": {},
     "output_type": "execute_result"
    }
   ],
   "source": [
    "documents[0].id_"
   ]
  },
  {
   "cell_type": "code",
   "execution_count": 12,
   "id": "2c75241b-5b1d-409b-bbbf-c23436cab810",
   "metadata": {},
   "outputs": [
    {
     "data": {
      "text/plain": [
       "'data/paul_graham_essay.txt'"
      ]
     },
     "execution_count": 12,
     "metadata": {},
     "output_type": "execute_result"
    }
   ],
   "source": [
    "documents[0].doc_id"
   ]
  },
  {
   "cell_type": "code",
   "execution_count": 13,
   "id": "46974d71-b392-4e39-ad03-1c49972765f1",
   "metadata": {},
   "outputs": [
    {
     "data": {
      "text/plain": [
       "'data/paul_graham_essay.txt'"
      ]
     },
     "execution_count": 13,
     "metadata": {},
     "output_type": "execute_result"
    }
   ],
   "source": [
    "documents[0].node_id"
   ]
  },
  {
   "cell_type": "code",
   "execution_count": 14,
   "id": "709a3838-7ee9-4b71-8206-2e3ca6304137",
   "metadata": {},
   "outputs": [
    {
     "data": {
      "text/plain": [
       "'17d7c59760a41d9abe07ffe931fd7ee08790e081aff1789642dc0351e954585f'"
      ]
     },
     "execution_count": 14,
     "metadata": {},
     "output_type": "execute_result"
    }
   ],
   "source": [
    "documents[0].hash"
   ]
  },
  {
   "cell_type": "code",
   "execution_count": 15,
   "id": "9052ab3d-58a0-432f-b6c2-bc915eb8505e",
   "metadata": {},
   "outputs": [
    {
     "data": {
      "text/plain": [
       "{'file_path': 'data/paul_graham_essay.txt',\n",
       " 'file_name': 'paul_graham_essay.txt',\n",
       " 'file_type': 'text/plain',\n",
       " 'file_size': 75042,\n",
       " 'creation_date': '2024-04-16',\n",
       " 'last_modified_date': '2024-04-15'}"
      ]
     },
     "execution_count": 15,
     "metadata": {},
     "output_type": "execute_result"
    }
   ],
   "source": [
    "documents[0].metadata"
   ]
  },
  {
   "cell_type": "code",
   "execution_count": 16,
   "id": "cab49bd2-393b-4bc0-850b-b9c8d1e44c87",
   "metadata": {},
   "outputs": [],
   "source": [
    "documents[0].metadata.update({'author': 'paul_graham'})"
   ]
  },
  {
   "cell_type": "code",
   "execution_count": 17,
   "id": "19366e69-1ad6-4f3a-adec-7a05ab6762db",
   "metadata": {},
   "outputs": [
    {
     "data": {
      "text/plain": [
       "{'file_path': 'data/paul_graham_essay.txt',\n",
       " 'file_name': 'paul_graham_essay.txt',\n",
       " 'file_type': 'text/plain',\n",
       " 'file_size': 75042,\n",
       " 'creation_date': '2024-04-16',\n",
       " 'last_modified_date': '2024-04-15',\n",
       " 'author': 'paul_graham'}"
      ]
     },
     "execution_count": 17,
     "metadata": {},
     "output_type": "execute_result"
    }
   ],
   "source": [
    "documents[0].metadata"
   ]
  },
  {
   "cell_type": "code",
   "execution_count": 18,
   "id": "4c59d3c9-0b39-4abc-bc94-3a93f4d12f30",
   "metadata": {},
   "outputs": [
    {
     "data": {
      "text/plain": [
       "['file_name',\n",
       " 'file_type',\n",
       " 'file_size',\n",
       " 'creation_date',\n",
       " 'last_modified_date',\n",
       " 'last_accessed_date']"
      ]
     },
     "execution_count": 18,
     "metadata": {},
     "output_type": "execute_result"
    }
   ],
   "source": [
    "documents[0].excluded_llm_metadata_keys"
   ]
  },
  {
   "cell_type": "code",
   "execution_count": 19,
   "id": "58182d12-754c-4cb8-9c90-a556c8a038f0",
   "metadata": {
    "scrolled": true
   },
   "outputs": [
    {
     "data": {
      "text/plain": [
       "'\\n\\nWhat I Worked On\\n\\nFebruary 2021\\n\\nBefore college the two main things I worked on, outside of school, were writing and programming. I didn\\'t write essays. I wrote what beginning writers were supposed to write then, and probably still are: short stories. My stories were awful. They had hardly any plot, just characters with strong feelings, which I imagined made them deep.\\n\\nThe first programs I tried writing were on the IBM 1401 that our school district used for what was then called \"data processing.\" This was in 9th grade, so I was 13 or 14. The school district\\'s 1401 happened to be in the basement of our junior high school, and my friend Rich Draves and I got permission to use it. It was like a mini Bond villain\\'s lair down there, with all these alien-looking machines — CPU, disk drives, printer, card reader — sitting up on a raised floor under bright fluorescent lights.\\n\\nThe language we used was an early version of Fortran. You had to type programs on punch cards, then stack them in the card reader and press a button to load the program into memory and run it. The result would ordinarily be to print something on the spectacularly loud printer.\\n\\nI was puzzled by the 1401. I couldn\\'t figure out what to do with it. And in retrospect there\\'s not much I could have done with it. The only form of input to programs was data stored on punched cards, and I didn\\'t have any data stored on punched cards. The only other option was to do things that didn\\'t rely on any input, like calculate approximations of pi, but I didn\\'t know enough math to do anything interesting of that type. So I\\'m not surprised I can\\'t remember any programs I wrote, because they can\\'t have done much. My clearest memory is of the moment I learned it was possible for programs not to terminate, when one of mine didn\\'t. On a machine without time-sharing, this was a social as well as a technical error, as the data center manager\\'s expression made clear.\\n\\nWith microcomputers, everything changed. Now you could have a computer sitting right in front of you, on a desk, that could respond to your keystrokes as it was running instead of just churning through a stack of punch cards and then stopping. [1]\\n\\nThe first of my friends to get a microcomputer built it himself. It was sold as a kit by Heathkit. I remember vividly how impressed and envious I felt watching him sitting in front of it, typing programs right into the computer.\\n\\nComputers were expensive in those days and it took me years of nagging before I convinced my father to buy one, a TRS-80, in about 1980. The gold standard then was the Apple II, but a TRS-80 was good enough. This was when I really started programming. I wrote simple games, a program to predict how high my model rockets would fly, and a word processor that my father used to write at least one book. There was only room in memory for about 2 pages of text, so he\\'d write 2 pages at a time and then print them out, but it was a lot better than a typewriter.\\n\\nThough I liked programming, I didn\\'t plan to study it in college. In college I was going to study philosophy, which sounded much more powerful. It seemed, to my naive high school self, to be the study of the ultimate truths, compared to which the things studied in other fields would be mere domain knowledge. What I discovered when I got to college was that the other fields took up so much of the space of ideas that there wasn\\'t much left for these supposed ultimate truths. All that seemed left for philosophy were edge cases that people in other fields felt could safely be ignored.\\n\\nI couldn\\'t have put this into words when I was 18. All I knew at the time was that I kept taking philosophy courses and they kept being boring. So I decided to switch to AI.\\n\\nAI was in the air in the mid 1980s, but there were two things especially that made me want to work on it: a novel by Heinlein called The Moon is a Harsh Mistress, which featured an intelligent computer called Mike, and a PBS documentary that showed Terry Winograd using SHRDLU. I haven\\'t tried rereading The Moon is a Harsh Mistress, so I don\\'t know how well it has aged, but when I read it I was drawn entirely into its world. It seemed only a matter of time before we\\'d have Mike, and when I saw Winograd using SHRDLU, it seemed like that time would be a few years at most. All you had to do was teach SHRDLU more words.\\n\\nThere weren\\'t any classes in AI at Cornell then, not even graduate classes, so I started trying to teach myself. Which meant learning Lisp, since in those days Lisp was regarded as the language of AI. The commonly used programming languages then were pretty primitive, and programmers\\' ideas correspondingly so. The default language at Cornell was a Pascal-like language called PL/I, and the situation was similar elsewhere. Learning Lisp expanded my concept of a program so fast that it was years before I started to have a sense of where the new limits were. This was more like it; this was what I had expected college to do. It wasn\\'t happening in a class, like it was supposed to, but that was ok. For the next couple years I was on a roll. I knew what I was going to do.\\n\\nFor my undergraduate thesis, I reverse-engineered SHRDLU. My God did I love working on that program. It was a pleasing bit of code, but what made it even more exciting was my belief — hard to imagine now, but not unique in 1985 — that it was already climbing the lower slopes of intelligence.\\n\\nI had gotten into a program at Cornell that didn\\'t make you choose a major. You could take whatever classes you liked, and choose whatever you liked to put on your degree. I of course chose \"Artificial Intelligence.\" When I got the actual physical diploma, I was dismayed to find that the quotes had been included, which made them read as scare-quotes. At the time this bothered me, but now it seems amusingly accurate, for reasons I was about to discover.\\n\\nI applied to 3 grad schools: MIT and Yale, which were renowned for AI at the time, and Harvard, which I\\'d visited because Rich Draves went there, and was also home to Bill Woods, who\\'d invented the type of parser I used in my SHRDLU clone. Only Harvard accepted me, so that was where I went.\\n\\nI don\\'t remember the moment it happened, or if there even was a specific moment, but during the first year of grad school I realized that AI, as practiced at the time, was a hoax. By which I mean the sort of AI in which a program that\\'s told \"the dog is sitting on the chair\" translates this into some formal representation and adds it to the list of things it knows.\\n\\nWhat these programs really showed was that there\\'s a subset of natural language that\\'s a formal language. But a very proper subset. It was clear that there was an unbridgeable gap between what they could do and actually understanding natural language. It was not, in fact, simply a matter of teaching SHRDLU more words. That whole way of doing AI, with explicit data structures representing concepts, was not going to work. Its brokenness did, as so often happens, generate a lot of opportunities to write papers about various band-aids that could be applied to it, but it was never going to get us Mike.\\n\\nSo I looked around to see what I could salvage from the wreckage of my plans, and there was Lisp. I knew from experience that Lisp was interesting for its own sake and not just for its association with AI, even though that was the main reason people cared about it at the time. So I decided to focus on Lisp. In fact, I decided to write a book about Lisp hacking. It\\'s scary to think how little I knew about Lisp hacking when I started writing that book. But there\\'s nothing like writing a book about something to help you learn it. The book, On Lisp, wasn\\'t published till 1993, but I wrote much of it in grad school.\\n\\nComputer Science is an uneasy alliance between two halves, theory and systems. The theory people prove things, and the systems people build things. I wanted to build things. I had plenty of respect for theory — indeed, a sneaking suspicion that it was the more admirable of the two halves — but building things seemed so much more exciting.\\n\\nThe problem with systems work, though, was that it didn\\'t last. Any program you wrote today, no matter how good, would be obsolete in a couple decades at best. People might mention your software in footnotes, but no one would actually use it. And indeed, it would seem very feeble work. Only people with a sense of the history of the field would even realize that, in its time, it had been good.\\n\\nThere were some surplus Xerox Dandelions floating around the computer lab at one point. Anyone who wanted one to play around with could have one. I was briefly tempted, but they were so slow by present standards; what was the point? No one else wanted one either, so off they went. That was what happened to systems work.\\n\\nI wanted not just to build things, but to build things that would last.\\n\\nIn this dissatisfied state I went in 1988 to visit Rich Draves at CMU, where he was in grad school. One day I went to visit the Carnegie Institute, where I\\'d spent a lot of time as a kid. While looking at a painting there I realized something that might seem obvious, but was a big surprise to me. There, right on the wall, was something you could make that would last. Paintings didn\\'t become obsolete. Some of the best ones were hundreds of years old.\\n\\nAnd moreover this was something you could make a living doing. Not as easily as you could by writing software, of course, but I thought if you were really industrious and lived really cheaply, it had to be possible to make enough to survive. And as an artist you could be truly independent. You wouldn\\'t have a boss, or even need to get research funding.\\n\\nI had always liked looking at paintings. Could I make them? I had no idea. I\\'d never imagined it was even possible. I knew intellectually that people made art — that it didn\\'t just appear spontaneously — but it was as if the people who made it were a different species. They either lived long ago or were mysterious geniuses doing strange things in profiles in Life magazine. The idea of actually being able to make art, to put that verb before that noun, seemed almost miraculous.\\n\\nThat fall I started taking art classes at Harvard. Grad students could take classes in any department, and my advisor, Tom Cheatham, was very easy going. If he even knew about the strange classes I was taking, he never said anything.\\n\\nSo now I was in a PhD program in computer science, yet planning to be an artist, yet also genuinely in love with Lisp hacking and working away at On Lisp. In other words, like many a grad student, I was working energetically on multiple projects that were not my thesis.\\n\\nI didn\\'t see a way out of this situation. I didn\\'t want to drop out of grad school, but how else was I going to get out? I remember when my friend Robert Morris got kicked out of Cornell for writing the internet worm of 1988, I was envious that he\\'d found such a spectacular way to get out of grad school.\\n\\nThen one day in April 1990 a crack appeared in the wall. I ran into professor Cheatham and he asked if I was far enough along to graduate that June. I didn\\'t have a word of my dissertation written, but in what must have been the quickest bit of thinking in my life, I decided to take a shot at writing one in the 5 weeks or so that remained before the deadline, reusing parts of On Lisp where I could, and I was able to respond, with no perceptible delay \"Yes, I think so. I\\'ll give you something to read in a few days.\"\\n\\nI picked applications of continuations as the topic. In retrospect I should have written about macros and embedded languages. There\\'s a whole world there that\\'s barely been explored. But all I wanted was to get out of grad school, and my rapidly written dissertation sufficed, just barely.\\n\\nMeanwhile I was applying to art schools. I applied to two: RISD in the US, and the Accademia di Belli Arti in Florence, which, because it was the oldest art school, I imagined would be good. RISD accepted me, and I never heard back from the Accademia, so off to Providence I went.\\n\\nI\\'d applied for the BFA program at RISD, which meant in effect that I had to go to college again. This was not as strange as it sounds, because I was only 25, and art schools are full of people of different ages. RISD counted me as a transfer sophomore and said I had to do the foundation that summer. The foundation means the classes that everyone has to take in fundamental subjects like drawing, color, and design.\\n\\nToward the end of the summer I got a big surprise: a letter from the Accademia, which had been delayed because they\\'d sent it to Cambridge England instead of Cambridge Massachusetts, inviting me to take the entrance exam in Florence that fall. This was now only weeks away. My nice landlady let me leave my stuff in her attic. I had some money saved from consulting work I\\'d done in grad school; there was probably enough to last a year if I lived cheaply. Now all I had to do was learn Italian.\\n\\nOnly stranieri (foreigners) had to take this entrance exam. In retrospect it may well have been a way of excluding them, because there were so many stranieri attracted by the idea of studying art in Florence that the Italian students would otherwise have been outnumbered. I was in decent shape at painting and drawing from the RISD foundation that summer, but I still don\\'t know how I managed to pass the written exam. I remember that I answered the essay question by writing about Cezanne, and that I cranked up the intellectual level as high as I could to make the most of my limited vocabulary. [2]\\n\\nI\\'m only up to age 25 and already there are such conspicuous patterns. Here I was, yet again about to attend some august institution in the hopes of learning about some prestigious subject, and yet again about to be disappointed. The students and faculty in the painting department at the Accademia were the nicest people you could imagine, but they had long since arrived at an arrangement whereby the students wouldn\\'t require the faculty to teach anything, and in return the faculty wouldn\\'t require the students to learn anything. And at the same time all involved would adhere outwardly to the conventions of a 19th century atelier. We actually had one of those little stoves, fed with kindling, that you see in 19th century studio paintings, and a nude model sitting as close to it as possible without getting burned. Except hardly anyone else painted her besides me. The rest of the students spent their time chatting or occasionally trying to imitate things they\\'d seen in American art magazines.\\n\\nOur model turned out to live just down the street from me. She made a living from a combination of modelling and making fakes for a local antique dealer. She\\'d copy an obscure old painting out of a book, and then he\\'d take the copy and maltreat it to make it look old. [3]\\n\\nWhile I was a student at the Accademia I started painting still lives in my bedroom at night. These paintings were tiny, because the room was, and because I painted them on leftover scraps of canvas, which was all I could afford at the time. Painting still lives is different from painting people, because the subject, as its name suggests, can\\'t move. People can\\'t sit for more than about 15 minutes at a time, and when they do they don\\'t sit very still. So the traditional m.o. for painting people is to know how to paint a generic person, which you then modify to match the specific person you\\'re painting. Whereas a still life you can, if you want, copy pixel by pixel from what you\\'re seeing. You don\\'t want to stop there, of course, or you get merely photographic accuracy, and what makes a still life interesting is that it\\'s been through a head. You want to emphasize the visual cues that tell you, for example, that the reason the color changes suddenly at a certain point is that it\\'s the edge of an object. By subtly emphasizing such things you can make paintings that are more realistic than photographs not just in some metaphorical sense, but in the strict information-theoretic sense. [4]\\n\\nI liked painting still lives because I was curious about what I was seeing. In everyday life, we aren\\'t consciously aware of much we\\'re seeing. Most visual perception is handled by low-level processes that merely tell your brain \"that\\'s a water droplet\" without telling you details like where the lightest and darkest points are, or \"that\\'s a bush\" without telling you the shape and position of every leaf. This is a feature of brains, not a bug. In everyday life it would be distracting to notice every leaf on every bush. But when you have to paint something, you have to look more closely, and when you do there\\'s a lot to see. You can still be noticing new things after days of trying to paint something people usually take for granted, just as you can after days of trying to write an essay about something people usually take for granted.\\n\\nThis is not the only way to paint. I\\'m not 100% sure it\\'s even a good way to paint. But it seemed a good enough bet to be worth trying.\\n\\nOur teacher, professor Ulivi, was a nice guy. He could see I worked hard, and gave me a good grade, which he wrote down in a sort of passport each student had. But the Accademia wasn\\'t teaching me anything except Italian, and my money was running out, so at the end of the first year I went back to the US.\\n\\nI wanted to go back to RISD, but I was now broke and RISD was very expensive, so I decided to get a job for a year and then return to RISD the next fall. I got one at a company called Interleaf, which made software for creating documents. You mean like Microsoft Word? Exactly. That was how I learned that low end software tends to eat high end software. But Interleaf still had a few years to live yet. [5]\\n\\nInterleaf had done something pretty bold. Inspired by Emacs, they\\'d added a scripting language, and even made the scripting language a dialect of Lisp. Now they wanted a Lisp hacker to write things in it. This was the closest thing I\\'ve had to a normal job, and I hereby apologize to my boss and coworkers, because I was a bad employee. Their Lisp was the thinnest icing on a giant C cake, and since I didn\\'t know C and didn\\'t want to learn it, I never understood most of the software. Plus I was terribly irresponsible. This was back when a programming job meant showing up every day during certain working hours. That seemed unnatural to me, and on this point the rest of the world is coming around to my way of thinking, but at the time it caused a lot of friction. Toward the end of the year I spent much of my time surreptitiously working on On Lisp, which I had by this time gotten a contract to publish.\\n\\nThe good part was that I got paid huge amounts of money, especially by art student standards. In Florence, after paying my part of the rent, my budget for everything else had been $7 a day. Now I was getting paid more than 4 times that every hour, even when I was just sitting in a meeting. By living cheaply I not only managed to save enough to go back to RISD, but also paid off my college loans.\\n\\nI learned some useful things at Interleaf, though they were mostly about what not to do. I learned that it\\'s better for technology companies to be run by product people than sales people (though sales is a real skill and people who are good at it are really good at it), that it leads to bugs when code is edited by too many people, that cheap office space is no bargain if it\\'s depressing, that planned meetings are inferior to corridor conversations, that big, bureaucratic customers are a dangerous source of money, and that there\\'s not much overlap between conventional office hours and the optimal time for hacking, or conventional offices and the optimal place for it.\\n\\nBut the most important thing I learned, and which I used in both Viaweb and Y Combinator, is that the low end eats the high end: that it\\'s good to be the \"entry level\" option, even though that will be less prestigious, because if you\\'re not, someone else will be, and will squash you against the ceiling. Which in turn means that prestige is a danger sign.\\n\\nWhen I left to go back to RISD the next fall, I arranged to do freelance work for the group that did projects for customers, and this was how I survived for the next several years. When I came back to visit for a project later on, someone told me about a new thing called HTML, which was, as he described it, a derivative of SGML. Markup language enthusiasts were an occupational hazard at Interleaf and I ignored him, but this HTML thing later became a big part of my life.\\n\\nIn the fall of 1992 I moved back to Providence to continue at RISD. The foundation had merely been intro stuff, and the Accademia had been a (very civilized) joke. Now I was going to see what real art school was like. But alas it was more like the Accademia than not. Better organized, certainly, and a lot more expensive, but it was now becoming clear that art school did not bear the same relationship to art that medical school bore to medicine. At least not the painting department. The textile department, which my next door neighbor belonged to, seemed to be pretty rigorous. No doubt illustration and architecture were too. But painting was post-rigorous. Painting students were supposed to express themselves, which to the more worldly ones meant to try to cook up some sort of distinctive signature style.\\n\\nA signature style is the visual equivalent of what in show business is known as a \"schtick\": something that immediately identifies the work as yours and no one else\\'s. For example, when you see a painting that looks like a certain kind of cartoon, you know it\\'s by Roy Lichtenstein. So if you see a big painting of this type hanging in the apartment of a hedge fund manager, you know he paid millions of dollars for it. That\\'s not always why artists have a signature style, but it\\'s usually why buyers pay a lot for such work. [6]\\n\\nThere were plenty of earnest students too: kids who \"could draw\" in high school, and now had come to what was supposed to be the best art school in the country, to learn to draw even better. They tended to be confused and demoralized by what they found at RISD, but they kept going, because painting was what they did. I was not one of the kids who could draw in high school, but at RISD I was definitely closer to their tribe than the tribe of signature style seekers.\\n\\nI learned a lot in the color class I took at RISD, but otherwise I was basically teaching myself to paint, and I could do that for free. So in 1993 I dropped out. I hung around Providence for a bit, and then my college friend Nancy Parmet did me a big favor. A rent-controlled apartment in a building her mother owned in New York was becoming vacant. Did I want it? It wasn\\'t much more than my current place, and New York was supposed to be where the artists were. So yes, I wanted it! [7]\\n\\nAsterix comics begin by zooming in on a tiny corner of Roman Gaul that turns out not to be controlled by the Romans. You can do something similar on a map of New York City: if you zoom in on the Upper East Side, there\\'s a tiny corner that\\'s not rich, or at least wasn\\'t in 1993. It\\'s called Yorkville, and that was my new home. Now I was a New York artist — in the strictly technical sense of making paintings and living in New York.\\n\\nI was nervous about money, because I could sense that Interleaf was on the way down. Freelance Lisp hacking work was very rare, and I didn\\'t want to have to program in another language, which in those days would have meant C++ if I was lucky. So with my unerring nose for financial opportunity, I decided to write another book on Lisp. This would be a popular book, the sort of book that could be used as a textbook. I imagined myself living frugally off the royalties and spending all my time painting. (The painting on the cover of this book, ANSI Common Lisp, is one that I painted around this time.)\\n\\nThe best thing about New York for me was the presence of Idelle and Julian Weber. Idelle Weber was a painter, one of the early photorealists, and I\\'d taken her painting class at Harvard. I\\'ve never known a teacher more beloved by her students. Large numbers of former students kept in touch with her, including me. After I moved to New York I became her de facto studio assistant.\\n\\nShe liked to paint on big, square canvases, 4 to 5 feet on a side. One day in late 1994 as I was stretching one of these monsters there was something on the radio about a famous fund manager. He wasn\\'t that much older than me, and was super rich. The thought suddenly occurred to me: why don\\'t I become rich? Then I\\'ll be able to work on whatever I want.\\n\\nMeanwhile I\\'d been hearing more and more about this new thing called the World Wide Web. Robert Morris showed it to me when I visited him in Cambridge, where he was now in grad school at Harvard. It seemed to me that the web would be a big deal. I\\'d seen what graphical user interfaces had done for the popularity of microcomputers. It seemed like the web would do the same for the internet.\\n\\nIf I wanted to get rich, here was the next train leaving the station. I was right about that part. What I got wrong was the idea. I decided we should start a company to put art galleries online. I can\\'t honestly say, after reading so many Y Combinator applications, that this was the worst startup idea ever, but it was up there. Art galleries didn\\'t want to be online, and still don\\'t, not the fancy ones. That\\'s not how they sell. I wrote some software to generate web sites for galleries, and Robert wrote some to resize images and set up an http server to serve the pages. Then we tried to sign up galleries. To call this a difficult sale would be an understatement. It was difficult to give away. A few galleries let us make sites for them for free, but none paid us.\\n\\nThen some online stores started to appear, and I realized that except for the order buttons they were identical to the sites we\\'d been generating for galleries. This impressive-sounding thing called an \"internet storefront\" was something we already knew how to build.\\n\\nSo in the summer of 1995, after I submitted the camera-ready copy of ANSI Common Lisp to the publishers, we started trying to write software to build online stores. At first this was going to be normal desktop software, which in those days meant Windows software. That was an alarming prospect, because neither of us knew how to write Windows software or wanted to learn. We lived in the Unix world. But we decided we\\'d at least try writing a prototype store builder on Unix. Robert wrote a shopping cart, and I wrote a new site generator for stores — in Lisp, of course.\\n\\nWe were working out of Robert\\'s apartment in Cambridge. His roommate was away for big chunks of time, during which I got to sleep in his room. For some reason there was no bed frame or sheets, just a mattress on the floor. One morning as I was lying on this mattress I had an idea that made me sit up like a capital L. What if we ran the software on the server, and let users control it by clicking on links? Then we\\'d never have to write anything to run on users\\' computers. We could generate the sites on the same server we\\'d serve them from. Users wouldn\\'t need anything more than a browser.\\n\\nThis kind of software, known as a web app, is common now, but at the time it wasn\\'t clear that it was even possible. To find out, we decided to try making a version of our store builder that you could control through the browser. A couple days later, on August 12, we had one that worked. The UI was horrible, but it proved you could build a whole store through the browser, without any client software or typing anything into the command line on the server.\\n\\nNow we felt like we were really onto something. I had visions of a whole new generation of software working this way. You wouldn\\'t need versions, or ports, or any of that crap. At Interleaf there had been a whole group called Release Engineering that seemed to be at least as big as the group that actually wrote the software. Now you could just update the software right on the server.\\n\\nWe started a new company we called Viaweb, after the fact that our software worked via the web, and we got $10,000 in seed funding from Idelle\\'s husband Julian. In return for that and doing the initial legal work and giving us business advice, we gave him 10% of the company. Ten years later this deal became the model for Y Combinator\\'s. We knew founders needed something like this, because we\\'d needed it ourselves.\\n\\nAt this stage I had a negative net worth, because the thousand dollars or so I had in the bank was more than counterbalanced by what I owed the government in taxes. (Had I diligently set aside the proper proportion of the money I\\'d made consulting for Interleaf? No, I had not.) So although Robert had his graduate student stipend, I needed that seed funding to live on.\\n\\nWe originally hoped to launch in September, but we got more ambitious about the software as we worked on it. Eventually we managed to build a WYSIWYG site builder, in the sense that as you were creating pages, they looked exactly like the static ones that would be generated later, except that instead of leading to static pages, the links all referred to closures stored in a hash table on the server.\\n\\nIt helped to have studied art, because the main goal of an online store builder is to make users look legit, and the key to looking legit is high production values. If you get page layouts and fonts and colors right, you can make a guy running a store out of his bedroom look more legit than a big company.\\n\\n(If you\\'re curious why my site looks so old-fashioned, it\\'s because it\\'s still made with this software. It may look clunky today, but in 1996 it was the last word in slick.)\\n\\nIn September, Robert rebelled. \"We\\'ve been working on this for a month,\" he said, \"and it\\'s still not done.\" This is funny in retrospect, because he would still be working on it almost 3 years later. But I decided it might be prudent to recruit more programmers, and I asked Robert who else in grad school with him was really good. He recommended Trevor Blackwell, which surprised me at first, because at that point I knew Trevor mainly for his plan to reduce everything in his life to a stack of notecards, which he carried around with him. But Rtm was right, as usual. Trevor turned out to be a frighteningly effective hacker.\\n\\nIt was a lot of fun working with Robert and Trevor. They\\'re the two most independent-minded people I know, and in completely different ways. If you could see inside Rtm\\'s brain it would look like a colonial New England church, and if you could see inside Trevor\\'s it would look like the worst excesses of Austrian Rococo.\\n\\nWe opened for business, with 6 stores, in January 1996. It was just as well we waited a few months, because although we worried we were late, we were actually almost fatally early. There was a lot of talk in the press then about ecommerce, but not many people actually wanted online stores. [8]\\n\\nThere were three main parts to the software: the editor, which people used to build sites and which I wrote, the shopping cart, which Robert wrote, and the manager, which kept track of orders and statistics, and which Trevor wrote. In its time, the editor was one of the best general-purpose site builders. I kept the code tight and didn\\'t have to integrate with any other software except Robert\\'s and Trevor\\'s, so it was quite fun to work on. If all I\\'d had to do was work on this software, the next 3 years would have been the easiest of my life. Unfortunately I had to do a lot more, all of it stuff I was worse at than programming, and the next 3 years were instead the most stressful.\\n\\nThere were a lot of startups making ecommerce software in the second half of the 90s. We were determined to be the Microsoft Word, not the Interleaf. Which meant being easy to use and inexpensive. It was lucky for us that we were poor, because that caused us to make Viaweb even more inexpensive than we realized. We charged $100 a month for a small store and $300 a month for a big one. This low price was a big attraction, and a constant thorn in the sides of competitors, but it wasn\\'t because of some clever insight that we set the price low. We had no idea what businesses paid for things. $300 a month seemed like a lot of money to us.\\n\\nWe did a lot of things right by accident like that. For example, we did what\\'s now called \"doing things that don\\'t scale,\" although at the time we would have described it as \"being so lame that we\\'re driven to the most desperate measures to get users.\" The most common of which was building stores for them. This seemed particularly humiliating, since the whole raison d\\'etre of our software was that people could use it to make their own stores. But anything to get users.\\n\\nWe learned a lot more about retail than we wanted to know. For example, that if you could only have a small image of a man\\'s shirt (and all images were small then by present standards), it was better to have a closeup of the collar than a picture of the whole shirt. The reason I remember learning this was that it meant I had to rescan about 30 images of men\\'s shirts. My first set of scans were so beautiful too.\\n\\nThough this felt wrong, it was exactly the right thing to be doing. Building stores for users taught us about retail, and about how it felt to use our software. I was initially both mystified and repelled by \"business\" and thought we needed a \"business person\" to be in charge of it, but once we started to get users, I was converted, in much the same way I was converted to fatherhood once I had kids. Whatever users wanted, I was all theirs. Maybe one day we\\'d have so many users that I couldn\\'t scan their images for them, but in the meantime there was nothing more important to do.\\n\\nAnother thing I didn\\'t get at the time is that growth rate is the ultimate test of a startup. Our growth rate was fine. We had about 70 stores at the end of 1996 and about 500 at the end of 1997. I mistakenly thought the thing that mattered was the absolute number of users. And that is the thing that matters in the sense that that\\'s how much money you\\'re making, and if you\\'re not making enough, you might go out of business. But in the long term the growth rate takes care of the absolute number. If we\\'d been a startup I was advising at Y Combinator, I would have said: Stop being so stressed out, because you\\'re doing fine. You\\'re growing 7x a year. Just don\\'t hire too many more people and you\\'ll soon be profitable, and then you\\'ll control your own destiny.\\n\\nAlas I hired lots more people, partly because our investors wanted me to, and partly because that\\'s what startups did during the Internet Bubble. A company with just a handful of employees would have seemed amateurish. So we didn\\'t reach breakeven until about when Yahoo bought us in the summer of 1998. Which in turn meant we were at the mercy of investors for the entire life of the company. And since both we and our investors were noobs at startups, the result was a mess even by startup standards.\\n\\nIt was a huge relief when Yahoo bought us. In principle our Viaweb stock was valuable. It was a share in a business that was profitable and growing rapidly. But it didn\\'t feel very valuable to me; I had no idea how to value a business, but I was all too keenly aware of the near-death experiences we seemed to have every few months. Nor had I changed my grad student lifestyle significantly since we started. So when Yahoo bought us it felt like going from rags to riches. Since we were going to California, I bought a car, a yellow 1998 VW GTI. I remember thinking that its leather seats alone were by far the most luxurious thing I owned.\\n\\nThe next year, from the summer of 1998 to the summer of 1999, must have been the least productive of my life. I didn\\'t realize it at the time, but I was worn out from the effort and stress of running Viaweb. For a while after I got to California I tried to continue my usual m.o. of programming till 3 in the morning, but fatigue combined with Yahoo\\'s prematurely aged culture and grim cube farm in Santa Clara gradually dragged me down. After a few months it felt disconcertingly like working at Interleaf.\\n\\nYahoo had given us a lot of options when they bought us. At the time I thought Yahoo was so overvalued that they\\'d never be worth anything, but to my astonishment the stock went up 5x in the next year. I hung on till the first chunk of options vested, then in the summer of 1999 I left. It had been so long since I\\'d painted anything that I\\'d half forgotten why I was doing this. My brain had been entirely full of software and men\\'s shirts for 4 years. But I had done this to get rich so I could paint, I reminded myself, and now I was rich, so I should go paint.\\n\\nWhen I said I was leaving, my boss at Yahoo had a long conversation with me about my plans. I told him all about the kinds of pictures I wanted to paint. At the time I was touched that he took such an interest in me. Now I realize it was because he thought I was lying. My options at that point were worth about $2 million a month. If I was leaving that kind of money on the table, it could only be to go and start some new startup, and if I did, I might take people with me. This was the height of the Internet Bubble, and Yahoo was ground zero of it. My boss was at that moment a billionaire. Leaving then to start a new startup must have seemed to him an insanely, and yet also plausibly, ambitious plan.\\n\\nBut I really was quitting to paint, and I started immediately. There was no time to lose. I\\'d already burned 4 years getting rich. Now when I talk to founders who are leaving after selling their companies, my advice is always the same: take a vacation. That\\'s what I should have done, just gone off somewhere and done nothing for a month or two, but the idea never occurred to me.\\n\\nSo I tried to paint, but I just didn\\'t seem to have any energy or ambition. Part of the problem was that I didn\\'t know many people in California. I\\'d compounded this problem by buying a house up in the Santa Cruz Mountains, with a beautiful view but miles from anywhere. I stuck it out for a few more months, then in desperation I went back to New York, where unless you understand about rent control you\\'ll be surprised to hear I still had my apartment, sealed up like a tomb of my old life. Idelle was in New York at least, and there were other people trying to paint there, even though I didn\\'t know any of them.\\n\\nWhen I got back to New York I resumed my old life, except now I was rich. It was as weird as it sounds. I resumed all my old patterns, except now there were doors where there hadn\\'t been. Now when I was tired of walking, all I had to do was raise my hand, and (unless it was raining) a taxi would stop to pick me up. Now when I walked past charming little restaurants I could go in and order lunch. It was exciting for a while. Painting started to go better. I experimented with a new kind of still life where I\\'d paint one painting in the old way, then photograph it and print it, blown up, on canvas, and then use that as the underpainting for a second still life, painted from the same objects (which hopefully hadn\\'t rotted yet).\\n\\nMeanwhile I looked for an apartment to buy. Now I could actually choose what neighborhood to live in. Where, I asked myself and various real estate agents, is the Cambridge of New York? Aided by occasional visits to actual Cambridge, I gradually realized there wasn\\'t one. Huh.\\n\\nAround this time, in the spring of 2000, I had an idea. It was clear from our experience with Viaweb that web apps were the future. Why not build a web app for making web apps? Why not let people edit code on our server through the browser, and then host the resulting applications for them? [9] You could run all sorts of services on the servers that these applications could use just by making an API call: making and receiving phone calls, manipulating images, taking credit card payments, etc.\\n\\nI got so excited about this idea that I couldn\\'t think about anything else. It seemed obvious that this was the future. I didn\\'t particularly want to start another company, but it was clear that this idea would have to be embodied as one, so I decided to move to Cambridge and start it. I hoped to lure Robert into working on it with me, but there I ran into a hitch. Robert was now a postdoc at MIT, and though he\\'d made a lot of money the last time I\\'d lured him into working on one of my schemes, it had also been a huge time sink. So while he agreed that it sounded like a plausible idea, he firmly refused to work on it.\\n\\nHmph. Well, I\\'d do it myself then. I recruited Dan Giffin, who had worked for Viaweb, and two undergrads who wanted summer jobs, and we got to work trying to build what it\\'s now clear is about twenty companies and several open source projects worth of software. The language for defining applications would of course be a dialect of Lisp. But I wasn\\'t so naive as to assume I could spring an overt Lisp on a general audience; we\\'d hide the parentheses, like Dylan did.\\n\\nBy then there was a name for the kind of company Viaweb was, an \"application service provider,\" or ASP. This name didn\\'t last long before it was replaced by \"software as a service,\" but it was current for long enough that I named this new company after it: it was going to be called Aspra.\\n\\nI started working on the application builder, Dan worked on network infrastructure, and the two undergrads worked on the first two services (images and phone calls). But about halfway through the summer I realized I really didn\\'t want to run a company — especially not a big one, which it was looking like this would have to be. I\\'d only started Viaweb because I needed the money. Now that I didn\\'t need money anymore, why was I doing this? If this vision had to be realized as a company, then screw the vision. I\\'d build a subset that could be done as an open source project.\\n\\nMuch to my surprise, the time I spent working on this stuff was not wasted after all. After we started Y Combinator, I would often encounter startups working on parts of this new architecture, and it was very useful to have spent so much time thinking about it and even trying to write some of it.\\n\\nThe subset I would build as an open source project was the new Lisp, whose parentheses I now wouldn\\'t even have to hide. A lot of Lisp hackers dream of building a new Lisp, partly because one of the distinctive features of the language is that it has dialects, and partly, I think, because we have in our minds a Platonic form of Lisp that all existing dialects fall short of. I certainly did. So at the end of the summer Dan and I switched to working on this new dialect of Lisp, which I called Arc, in a house I bought in Cambridge.\\n\\nThe following spring, lightning struck. I was invited to give a talk at a Lisp conference, so I gave one about how we\\'d used Lisp at Viaweb. Afterward I put a postscript file of this talk online, on paulgraham.com, which I\\'d created years before using Viaweb but had never used for anything. In one day it got 30,000 page views. What on earth had happened? The referring urls showed that someone had posted it on Slashdot. [10]\\n\\nWow, I thought, there\\'s an audience. If I write something and put it on the web, anyone can read it. That may seem obvious now, but it was surprising then. In the print era there was a narrow channel to readers, guarded by fierce monsters known as editors. The only way to get an audience for anything you wrote was to get it published as a book, or in a newspaper or magazine. Now anyone could publish anything.\\n\\nThis had been possible in principle since 1993, but not many people had realized it yet. I had been intimately involved with building the infrastructure of the web for most of that time, and a writer as well, and it had taken me 8 years to realize it. Even then it took me several years to understand the implications. It meant there would be a whole new generation of essays. [11]\\n\\nIn the print era, the channel for publishing essays had been vanishingly small. Except for a few officially anointed thinkers who went to the right parties in New York, the only people allowed to publish essays were specialists writing about their specialties. There were so many essays that had never been written, because there had been no way to publish them. Now they could be, and I was going to write them. [12]\\n\\nI\\'ve worked on several different things, but to the extent there was a turning point where I figured out what to work on, it was when I started publishing essays online. From then on I knew that whatever else I did, I\\'d always write essays too.\\n\\nI knew that online essays would be a marginal medium at first. Socially they\\'d seem more like rants posted by nutjobs on their GeoCities sites than the genteel and beautifully typeset compositions published in The New Yorker. But by this point I knew enough to find that encouraging instead of discouraging.\\n\\nOne of the most conspicuous patterns I\\'ve noticed in my life is how well it has worked, for me at least, to work on things that weren\\'t prestigious. Still life has always been the least prestigious form of painting. Viaweb and Y Combinator both seemed lame when we started them. I still get the glassy eye from strangers when they ask what I\\'m writing, and I explain that it\\'s an essay I\\'m going to publish on my web site. Even Lisp, though prestigious intellectually in something like the way Latin is, also seems about as hip.\\n\\nIt\\'s not that unprestigious types of work are good per se. But when you find yourself drawn to some kind of work despite its current lack of prestige, it\\'s a sign both that there\\'s something real to be discovered there, and that you have the right kind of motives. Impure motives are a big danger for the ambitious. If anything is going to lead you astray, it will be the desire to impress people. So while working on things that aren\\'t prestigious doesn\\'t guarantee you\\'re on the right track, it at least guarantees you\\'re not on the most common type of wrong one.\\n\\nOver the next several years I wrote lots of essays about all kinds of different topics. O\\'Reilly reprinted a collection of them as a book, called Hackers & Painters after one of the essays in it. I also worked on spam filters, and did some more painting. I used to have dinners for a group of friends every thursday night, which taught me how to cook for groups. And I bought another building in Cambridge, a former candy factory (and later, twas said, porn studio), to use as an office.\\n\\nOne night in October 2003 there was a big party at my house. It was a clever idea of my friend Maria Daniels, who was one of the thursday diners. Three separate hosts would all invite their friends to one party. So for every guest, two thirds of the other guests would be people they didn\\'t know but would probably like. One of the guests was someone I didn\\'t know but would turn out to like a lot: a woman called Jessica Livingston. A couple days later I asked her out.\\n\\nJessica was in charge of marketing at a Boston investment bank. This bank thought it understood startups, but over the next year, as she met friends of mine from the startup world, she was surprised how different reality was. And how colorful their stories were. So she decided to compile a book of interviews with startup founders.\\n\\nWhen the bank had financial problems and she had to fire half her staff, she started looking for a new job. In early 2005 she interviewed for a marketing job at a Boston VC firm. It took them weeks to make up their minds, and during this time I started telling her about all the things that needed to be fixed about venture capital. They should make a larger number of smaller investments instead of a handful of giant ones, they should be funding younger, more technical founders instead of MBAs, they should let the founders remain as CEO, and so on.\\n\\nOne of my tricks for writing essays had always been to give talks. The prospect of having to stand up in front of a group of people and tell them something that won\\'t waste their time is a great spur to the imagination. When the Harvard Computer Society, the undergrad computer club, asked me to give a talk, I decided I would tell them how to start a startup. Maybe they\\'d be able to avoid the worst of the mistakes we\\'d made.\\n\\nSo I gave this talk, in the course of which I told them that the best sources of seed funding were successful startup founders, because then they\\'d be sources of advice too. Whereupon it seemed they were all looking expectantly at me. Horrified at the prospect of having my inbox flooded by business plans (if I\\'d only known), I blurted out \"But not me!\" and went on with the talk. But afterward it occurred to me that I should really stop procrastinating about angel investing. I\\'d been meaning to since Yahoo bought us, and now it was 7 years later and I still hadn\\'t done one angel investment.\\n\\nMeanwhile I had been scheming with Robert and Trevor about projects we could work on together. I missed working with them, and it seemed like there had to be something we could collaborate on.\\n\\nAs Jessica and I were walking home from dinner on March 11, at the corner of Garden and Walker streets, these three threads converged. Screw the VCs who were taking so long to make up their minds. We\\'d start our own investment firm and actually implement the ideas we\\'d been talking about. I\\'d fund it, and Jessica could quit her job and work for it, and we\\'d get Robert and Trevor as partners too. [13]\\n\\nOnce again, ignorance worked in our favor. We had no idea how to be angel investors, and in Boston in 2005 there were no Ron Conways to learn from. So we just made what seemed like the obvious choices, and some of the things we did turned out to be novel.\\n\\nThere are multiple components to Y Combinator, and we didn\\'t figure them all out at once. The part we got first was to be an angel firm. In those days, those two words didn\\'t go together. There were VC firms, which were organized companies with people whose job it was to make investments, but they only did big, million dollar investments. And there were angels, who did smaller investments, but these were individuals who were usually focused on other things and made investments on the side. And neither of them helped founders enough in the beginning. We knew how helpless founders were in some respects, because we remembered how helpless we\\'d been. For example, one thing Julian had done for us that seemed to us like magic was to get us set up as a company. We were fine writing fairly difficult software, but actually getting incorporated, with bylaws and stock and all that stuff, how on earth did you do that? Our plan was not only to make seed investments, but to do for startups everything Julian had done for us.\\n\\nYC was not organized as a fund. It was cheap enough to run that we funded it with our own money. That went right by 99% of readers, but professional investors are thinking \"Wow, that means they got all the returns.\" But once again, this was not due to any particular insight on our part. We didn\\'t know how VC firms were organized. It never occurred to us to try to raise a fund, and if it had, we wouldn\\'t have known where to start. [14]\\n\\nThe most distinctive thing about YC is the batch model: to fund a bunch of startups all at once, twice a year, and then to spend three months focusing intensively on trying to help them. That part we discovered by accident, not merely implicitly but explicitly due to our ignorance about investing. We needed to get experience as investors. What better way, we thought, than to fund a whole bunch of startups at once? We knew undergrads got temporary jobs at tech companies during the summer. Why not organize a summer program where they\\'d start startups instead? We wouldn\\'t feel guilty for being in a sense fake investors, because they would in a similar sense be fake founders. So while we probably wouldn\\'t make much money out of it, we\\'d at least get to practice being investors on them, and they for their part would probably have a more interesting summer than they would working at Microsoft.\\n\\nWe\\'d use the building I owned in Cambridge as our headquarters. We\\'d all have dinner there once a week — on tuesdays, since I was already cooking for the thursday diners on thursdays — and after dinner we\\'d bring in experts on startups to give talks.\\n\\nWe knew undergrads were deciding then about summer jobs, so in a matter of days we cooked up something we called the Summer Founders Program, and I posted an announcement on my site, inviting undergrads to apply. I had never imagined that writing essays would be a way to get \"deal flow,\" as investors call it, but it turned out to be the perfect source. [15] We got 225 applications for the Summer Founders Program, and we were surprised to find that a lot of them were from people who\\'d already graduated, or were about to that spring. Already this SFP thing was starting to feel more serious than we\\'d intended.\\n\\nWe invited about 20 of the 225 groups to interview in person, and from those we picked 8 to fund. They were an impressive group. That first batch included reddit, Justin Kan and Emmett Shear, who went on to found Twitch, Aaron Swartz, who had already helped write the RSS spec and would a few years later become a martyr for open access, and Sam Altman, who would later become the second president of YC. I don\\'t think it was entirely luck that the first batch was so good. You had to be pretty bold to sign up for a weird thing like the Summer Founders Program instead of a summer job at a legit place like Microsoft or Goldman Sachs.\\n\\nThe deal for startups was based on a combination of the deal we did with Julian ($10k for 10%) and what Robert said MIT grad students got for the summer ($6k). We invested $6k per founder, which in the typical two-founder case was $12k, in return for 6%. That had to be fair, because it was twice as good as the deal we ourselves had taken. Plus that first summer, which was really hot, Jessica brought the founders free air conditioners. [16]\\n\\nFairly quickly I realized that we had stumbled upon the way to scale startup funding. Funding startups in batches was more convenient for us, because it meant we could do things for a lot of startups at once, but being part of a batch was better for the startups too. It solved one of the biggest problems faced by founders: the isolation. Now you not only had colleagues, but colleagues who understood the problems you were facing and could tell you how they were solving them.\\n\\nAs YC grew, we started to notice other advantages of scale. The alumni became a tight community, dedicated to helping one another, and especially the current batch, whose shoes they remembered being in. We also noticed that the startups were becoming one another\\'s customers. We used to refer jokingly to the \"YC GDP,\" but as YC grows this becomes less and less of a joke. Now lots of startups get their initial set of customers almost entirely from among their batchmates.\\n\\nI had not originally intended YC to be a full-time job. I was going to do three things: hack, write essays, and work on YC. As YC grew, and I grew more excited about it, it started to take up a lot more than a third of my attention. But for the first few years I was still able to work on other things.\\n\\nIn the summer of 2006, Robert and I started working on a new version of Arc. This one was reasonably fast, because it was compiled into Scheme. To test this new Arc, I wrote Hacker News in it. It was originally meant to be a news aggregator for startup founders and was called Startup News, but after a few months I got tired of reading about nothing but startups. Plus it wasn\\'t startup founders we wanted to reach. It was future startup founders. So I changed the name to Hacker News and the topic to whatever engaged one\\'s intellectual curiosity.\\n\\nHN was no doubt good for YC, but it was also by far the biggest source of stress for me. If all I\\'d had to do was select and help founders, life would have been so easy. And that implies that HN was a mistake. Surely the biggest source of stress in one\\'s work should at least be something close to the core of the work. Whereas I was like someone who was in pain while running a marathon not from the exertion of running, but because I had a blister from an ill-fitting shoe. When I was dealing with some urgent problem during YC, there was about a 60% chance it had to do with HN, and a 40% chance it had do with everything else combined. [17]\\n\\nAs well as HN, I wrote all of YC\\'s internal software in Arc. But while I continued to work a good deal in Arc, I gradually stopped working on Arc, partly because I didn\\'t have time to, and partly because it was a lot less attractive to mess around with the language now that we had all this infrastructure depending on it. So now my three projects were reduced to two: writing essays and working on YC.\\n\\nYC was different from other kinds of work I\\'ve done. Instead of deciding for myself what to work on, the problems came to me. Every 6 months there was a new batch of startups, and their problems, whatever they were, became our problems. It was very engaging work, because their problems were quite varied, and the good founders were very effective. If you were trying to learn the most you could about startups in the shortest possible time, you couldn\\'t have picked a better way to do it.\\n\\nThere were parts of the job I didn\\'t like. Disputes between cofounders, figuring out when people were lying to us, fighting with people who maltreated the startups, and so on. But I worked hard even at the parts I didn\\'t like. I was haunted by something Kevin Hale once said about companies: \"No one works harder than the boss.\" He meant it both descriptively and prescriptively, and it was the second part that scared me. I wanted YC to be good, so if how hard I worked set the upper bound on how hard everyone else worked, I\\'d better work very hard.\\n\\nOne day in 2010, when he was visiting California for interviews, Robert Morris did something astonishing: he offered me unsolicited advice. I can only remember him doing that once before. One day at Viaweb, when I was bent over double from a kidney stone, he suggested that it would be a good idea for him to take me to the hospital. That was what it took for Rtm to offer unsolicited advice. So I remember his exact words very clearly. \"You know,\" he said, \"you should make sure Y Combinator isn\\'t the last cool thing you do.\"\\n\\nAt the time I didn\\'t understand what he meant, but gradually it dawned on me that he was saying I should quit. This seemed strange advice, because YC was doing great. But if there was one thing rarer than Rtm offering advice, it was Rtm being wrong. So this set me thinking. It was true that on my current trajectory, YC would be the last thing I did, because it was only taking up more of my attention. It had already eaten Arc, and was in the process of eating essays too. Either YC was my life\\'s work or I\\'d have to leave eventually. And it wasn\\'t, so I would.\\n\\nIn the summer of 2012 my mother had a stroke, and the cause turned out to be a blood clot caused by colon cancer. The stroke destroyed her balance, and she was put in a nursing home, but she really wanted to get out of it and back to her house, and my sister and I were determined to help her do it. I used to fly up to Oregon to visit her regularly, and I had a lot of time to think on those flights. On one of them I realized I was ready to hand YC over to someone else.\\n\\nI asked Jessica if she wanted to be president, but she didn\\'t, so we decided we\\'d try to recruit Sam Altman. We talked to Robert and Trevor and we agreed to make it a complete changing of the guard. Up till that point YC had been controlled by the original LLC we four had started. But we wanted YC to last for a long time, and to do that it couldn\\'t be controlled by the founders. So if Sam said yes, we\\'d let him reorganize YC. Robert and I would retire, and Jessica and Trevor would become ordinary partners.\\n\\nWhen we asked Sam if he wanted to be president of YC, initially he said no. He wanted to start a startup to make nuclear reactors. But I kept at it, and in October 2013 he finally agreed. We decided he\\'d take over starting with the winter 2014 batch. For the rest of 2013 I left running YC more and more to Sam, partly so he could learn the job, and partly because I was focused on my mother, whose cancer had returned.\\n\\nShe died on January 15, 2014. We knew this was coming, but it was still hard when it did.\\n\\nI kept working on YC till March, to help get that batch of startups through Demo Day, then I checked out pretty completely. (I still talk to alumni and to new startups working on things I\\'m interested in, but that only takes a few hours a week.)\\n\\nWhat should I do next? Rtm\\'s advice hadn\\'t included anything about that. I wanted to do something completely different, so I decided I\\'d paint. I wanted to see how good I could get if I really focused on it. So the day after I stopped working on YC, I started painting. I was rusty and it took a while to get back into shape, but it was at least completely engaging. [18]\\n\\nI spent most of the rest of 2014 painting. I\\'d never been able to work so uninterruptedly before, and I got to be better than I had been. Not good enough, but better. Then in November, right in the middle of a painting, I ran out of steam. Up till that point I\\'d always been curious to see how the painting I was working on would turn out, but suddenly finishing this one seemed like a chore. So I stopped working on it and cleaned my brushes and haven\\'t painted since. So far anyway.\\n\\nI realize that sounds rather wimpy. But attention is a zero sum game. If you can choose what to work on, and you choose a project that\\'s not the best one (or at least a good one) for you, then it\\'s getting in the way of another project that is. And at 50 there was some opportunity cost to screwing around.\\n\\nI started writing essays again, and wrote a bunch of new ones over the next few months. I even wrote a couple that weren\\'t about startups. Then in March 2015 I started working on Lisp again.\\n\\nThe distinctive thing about Lisp is that its core is a language defined by writing an interpreter in itself. It wasn\\'t originally intended as a programming language in the ordinary sense. It was meant to be a formal model of computation, an alternative to the Turing machine. If you want to write an interpreter for a language in itself, what\\'s the minimum set of predefined operators you need? The Lisp that John McCarthy invented, or more accurately discovered, is an answer to that question. [19]\\n\\nMcCarthy didn\\'t realize this Lisp could even be used to program computers till his grad student Steve Russell suggested it. Russell translated McCarthy\\'s interpreter into IBM 704 machine language, and from that point Lisp started also to be a programming language in the ordinary sense. But its origins as a model of computation gave it a power and elegance that other languages couldn\\'t match. It was this that attracted me in college, though I didn\\'t understand why at the time.\\n\\nMcCarthy\\'s 1960 Lisp did nothing more than interpret Lisp expressions. It was missing a lot of things you\\'d want in a programming language. So these had to be added, and when they were, they weren\\'t defined using McCarthy\\'s original axiomatic approach. That wouldn\\'t have been feasible at the time. McCarthy tested his interpreter by hand-simulating the execution of programs. But it was already getting close to the limit of interpreters you could test that way — indeed, there was a bug in it that McCarthy had overlooked. To test a more complicated interpreter, you\\'d have had to run it, and computers then weren\\'t powerful enough.\\n\\nNow they are, though. Now you could continue using McCarthy\\'s axiomatic approach till you\\'d defined a complete programming language. And as long as every change you made to McCarthy\\'s Lisp was a discoveredness-preserving transformation, you could, in principle, end up with a complete language that had this quality. Harder to do than to talk about, of course, but if it was possible in principle, why not try? So I decided to take a shot at it. It took 4 years, from March 26, 2015 to October 12, 2019. It was fortunate that I had a precisely defined goal, or it would have been hard to keep at it for so long.\\n\\nI wrote this new Lisp, called Bel, in itself in Arc. That may sound like a contradiction, but it\\'s an indication of the sort of trickery I had to engage in to make this work. By means of an egregious collection of hacks I managed to make something close enough to an interpreter written in itself that could actually run. Not fast, but fast enough to test.\\n\\nI had to ban myself from writing essays during most of this time, or I\\'d never have finished. In late 2015 I spent 3 months writing essays, and when I went back to working on Bel I could barely understand the code. Not so much because it was badly written as because the problem is so convoluted. When you\\'re working on an interpreter written in itself, it\\'s hard to keep track of what\\'s happening at what level, and errors can be practically encrypted by the time you get them.\\n\\nSo I said no more essays till Bel was done. But I told few people about Bel while I was working on it. So for years it must have seemed that I was doing nothing, when in fact I was working harder than I\\'d ever worked on anything. Occasionally after wrestling for hours with some gruesome bug I\\'d check Twitter or HN and see someone asking \"Does Paul Graham still code?\"\\n\\nWorking on Bel was hard but satisfying. I worked on it so intensively that at any given time I had a decent chunk of the code in my head and could write more there. I remember taking the boys to the coast on a sunny day in 2015 and figuring out how to deal with some problem involving continuations while I watched them play in the tide pools. It felt like I was doing life right. I remember that because I was slightly dismayed at how novel it felt. The good news is that I had more moments like this over the next few years.\\n\\nIn the summer of 2016 we moved to England. We wanted our kids to see what it was like living in another country, and since I was a British citizen by birth, that seemed the obvious choice. We only meant to stay for a year, but we liked it so much that we still live there. So most of Bel was written in England.\\n\\nIn the fall of 2019, Bel was finally finished. Like McCarthy\\'s original Lisp, it\\'s a spec rather than an implementation, although like McCarthy\\'s Lisp it\\'s a spec expressed as code.\\n\\nNow that I could write essays again, I wrote a bunch about topics I\\'d had stacked up. I kept writing essays through 2020, but I also started to think about other things I could work on. How should I choose what to do? Well, how had I chosen what to work on in the past? I wrote an essay for myself to answer that question, and I was surprised how long and messy the answer turned out to be. If this surprised me, who\\'d lived it, then I thought perhaps it would be interesting to other people, and encouraging to those with similarly messy lives. So I wrote a more detailed version for others to read, and this is the last sentence of it.\\n\\n\\n\\n\\n\\n\\n\\n\\n\\nNotes\\n\\n[1] My experience skipped a step in the evolution of computers: time-sharing machines with interactive OSes. I went straight from batch processing to microcomputers, which made microcomputers seem all the more exciting.\\n\\n[2] Italian words for abstract concepts can nearly always be predicted from their English cognates (except for occasional traps like polluzione). It\\'s the everyday words that differ. So if you string together a lot of abstract concepts with a few simple verbs, you can make a little Italian go a long way.\\n\\n[3] I lived at Piazza San Felice 4, so my walk to the Accademia went straight down the spine of old Florence: past the Pitti, across the bridge, past Orsanmichele, between the Duomo and the Baptistery, and then up Via Ricasoli to Piazza San Marco. I saw Florence at street level in every possible condition, from empty dark winter evenings to sweltering summer days when the streets were packed with tourists.\\n\\n[4] You can of course paint people like still lives if you want to, and they\\'re willing. That sort of portrait is arguably the apex of still life painting, though the long sitting does tend to produce pained expressions in the sitters.\\n\\n[5] Interleaf was one of many companies that had smart people and built impressive technology, and yet got crushed by Moore\\'s Law. In the 1990s the exponential growth in the power of commodity (i.e. Intel) processors rolled up high-end, special-purpose hardware and software companies like a bulldozer.\\n\\n[6] The signature style seekers at RISD weren\\'t specifically mercenary. In the art world, money and coolness are tightly coupled. Anything expensive comes to be seen as cool, and anything seen as cool will soon become equally expensive.\\n\\n[7] Technically the apartment wasn\\'t rent-controlled but rent-stabilized, but this is a refinement only New Yorkers would know or care about. The point is that it was really cheap, less than half market price.\\n\\n[8] Most software you can launch as soon as it\\'s done. But when the software is an online store builder and you\\'re hosting the stores, if you don\\'t have any users yet, that fact will be painfully obvious. So before we could launch publicly we had to launch privately, in the sense of recruiting an initial set of users and making sure they had decent-looking stores.\\n\\n[9] We\\'d had a code editor in Viaweb for users to define their own page styles. They didn\\'t know it, but they were editing Lisp expressions underneath. But this wasn\\'t an app editor, because the code ran when the merchants\\' sites were generated, not when shoppers visited them.\\n\\n[10] This was the first instance of what is now a familiar experience, and so was what happened next, when I read the comments and found they were full of angry people. How could I claim that Lisp was better than other languages? Weren\\'t they all Turing complete? People who see the responses to essays I write sometimes tell me how sorry they feel for me, but I\\'m not exaggerating when I reply that it has always been like this, since the very beginning. It comes with the territory. An essay must tell readers things they don\\'t already know, and some people dislike being told such things.\\n\\n[11] People put plenty of stuff on the internet in the 90s of course, but putting something online is not the same as publishing it online. Publishing online means you treat the online version as the (or at least a) primary version.\\n\\n[12] There is a general lesson here that our experience with Y Combinator also teaches: Customs continue to constrain you long after the restrictions that caused them have disappeared. Customary VC practice had once, like the customs about publishing essays, been based on real constraints. Startups had once been much more expensive to start, and proportionally rare. Now they could be cheap and common, but the VCs\\' customs still reflected the old world, just as customs about writing essays still reflected the constraints of the print era.\\n\\nWhich in turn implies that people who are independent-minded (i.e. less influenced by custom) will have an advantage in fields affected by rapid change (where customs are more likely to be obsolete).\\n\\nHere\\'s an interesting point, though: you can\\'t always predict which fields will be affected by rapid change. Obviously software and venture capital will be, but who would have predicted that essay writing would be?\\n\\n[13] Y Combinator was not the original name. At first we were called Cambridge Seed. But we didn\\'t want a regional name, in case someone copied us in Silicon Valley, so we renamed ourselves after one of the coolest tricks in the lambda calculus, the Y combinator.\\n\\nI picked orange as our color partly because it\\'s the warmest, and partly because no VC used it. In 2005 all the VCs used staid colors like maroon, navy blue, and forest green, because they were trying to appeal to LPs, not founders. The YC logo itself is an inside joke: the Viaweb logo had been a white V on a red circle, so I made the YC logo a white Y on an orange square.\\n\\n[14] YC did become a fund for a couple years starting in 2009, because it was getting so big I could no longer afford to fund it personally. But after Heroku got bought we had enough money to go back to being self-funded.\\n\\n[15] I\\'ve never liked the term \"deal flow,\" because it implies that the number of new startups at any given time is fixed. This is not only false, but it\\'s the purpose of YC to falsify it, by causing startups to be founded that would not otherwise have existed.\\n\\n[16] She reports that they were all different shapes and sizes, because there was a run on air conditioners and she had to get whatever she could, but that they were all heavier than she could carry now.\\n\\n[17] Another problem with HN was a bizarre edge case that occurs when you both write essays and run a forum. When you run a forum, you\\'re assumed to see if not every conversation, at least every conversation involving you. And when you write essays, people post highly imaginative misinterpretations of them on forums. Individually these two phenomena are tedious but bearable, but the combination is disastrous. You actually have to respond to the misinterpretations, because the assumption that you\\'re present in the conversation means that not responding to any sufficiently upvoted misinterpretation reads as a tacit admission that it\\'s correct. But that in turn encourages more; anyone who wants to pick a fight with you senses that now is their chance.\\n\\n[18] The worst thing about leaving YC was not working with Jessica anymore. We\\'d been working on YC almost the whole time we\\'d known each other, and we\\'d neither tried nor wanted to separate it from our personal lives, so leaving was like pulling up a deeply rooted tree.\\n\\n[19] One way to get more precise about the concept of invented vs discovered is to talk about space aliens. Any sufficiently advanced alien civilization would certainly know about the Pythagorean theorem, for example. I believe, though with less certainty, that they would also know about the Lisp in McCarthy\\'s 1960 paper.\\n\\nBut if so there\\'s no reason to suppose that this is the limit of the language that might be known to them. Presumably aliens need numbers and errors and I/O too. So it seems likely there exists at least one path out of McCarthy\\'s Lisp along which discoveredness is preserved.\\n\\n\\n\\nThanks to Trevor Blackwell, John Collison, Patrick Collison, Daniel Gackle, Ralph Hazell, Jessica Livingston, Robert Morris, and Harj Taggar for reading drafts of this.\\n'"
      ]
     },
     "execution_count": 19,
     "metadata": {},
     "output_type": "execute_result"
    }
   ],
   "source": [
    "documents[0].text"
   ]
  },
  {
   "cell_type": "markdown",
   "id": "07dad61c-4835-43b5-b193-357a901a044d",
   "metadata": {},
   "source": [
    "# Ingestion Pipeline"
   ]
  },
  {
   "cell_type": "code",
   "execution_count": 20,
   "id": "f409cab9-16d3-4531-b357-2cf29c7d5669",
   "metadata": {},
   "outputs": [],
   "source": [
    "import tiktoken"
   ]
  },
  {
   "cell_type": "code",
   "execution_count": 21,
   "id": "a279b679-2e4a-4e22-9d10-19c5587efba2",
   "metadata": {},
   "outputs": [],
   "source": [
    "from llama_index.core.callbacks import CallbackManager, TokenCountingHandler"
   ]
  },
  {
   "cell_type": "code",
   "execution_count": 22,
   "id": "5cb56512-3590-44a5-bf78-a6068840bc95",
   "metadata": {},
   "outputs": [],
   "source": [
    "from llama_index.core import VectorStoreIndex, StorageContext"
   ]
  },
  {
   "cell_type": "code",
   "execution_count": 23,
   "id": "edf979f6-cf42-433a-ab96-54ceda792591",
   "metadata": {},
   "outputs": [],
   "source": [
    "from llama_index.core.node_parser import SentenceSplitter, SentenceWindowNodeParser"
   ]
  },
  {
   "cell_type": "code",
   "execution_count": 24,
   "id": "1ab498c7-5d99-4f00-9c62-cb8a80ed359d",
   "metadata": {},
   "outputs": [],
   "source": [
    "from llama_index.core.ingestion import IngestionPipeline"
   ]
  },
  {
   "cell_type": "code",
   "execution_count": 25,
   "id": "996f4e5b-630e-47fd-ae3f-ebe91a1b7047",
   "metadata": {},
   "outputs": [],
   "source": [
    "from llama_index.embeddings.openai import OpenAIEmbedding"
   ]
  },
  {
   "cell_type": "code",
   "execution_count": 26,
   "id": "8c75a1b1-e1b4-4bd4-b12d-83c7b8e55ba7",
   "metadata": {},
   "outputs": [],
   "source": [
    "from llama_index.core.storage.docstore import SimpleDocumentStore"
   ]
  },
  {
   "cell_type": "code",
   "execution_count": 27,
   "id": "d55a7f7b-e9c8-4c8c-b5ec-9f8cca9ff45c",
   "metadata": {},
   "outputs": [],
   "source": [
    "from llama_index.vector_stores.chroma import ChromaVectorStore"
   ]
  },
  {
   "cell_type": "code",
   "execution_count": 28,
   "id": "341f4fb0-9cfe-445a-9de6-4258b49ea434",
   "metadata": {},
   "outputs": [],
   "source": [
    "import chromadb"
   ]
  },
  {
   "cell_type": "code",
   "execution_count": 29,
   "id": "692ccfd1-7c2e-4943-a2e8-0d857ca396c1",
   "metadata": {},
   "outputs": [],
   "source": [
    "token_counter = TokenCountingHandler(\n",
    "    tokenizer=tiktoken.encoding_for_model(\"gpt-3.5-turbo\").encode,\n",
    "    verbose=True\n",
    ")"
   ]
  },
  {
   "cell_type": "code",
   "execution_count": 30,
   "id": "0a227efd-065e-49bc-aa5b-e1328456edab",
   "metadata": {},
   "outputs": [],
   "source": [
    "token_counter = TokenCountingHandler(\n",
    "    tokenizer=tiktoken.encoding_for_model(\"gpt-4o\").encode,\n",
    "    verbose=True\n",
    ")"
   ]
  },
  {
   "cell_type": "code",
   "execution_count": 31,
   "id": "a39149c9-45f7-42b5-a084-79911b811d09",
   "metadata": {},
   "outputs": [],
   "source": [
    "token_counter.reset_counts()"
   ]
  },
  {
   "cell_type": "code",
   "execution_count": 32,
   "id": "08788401-1d3a-4c10-8c28-5e9f6fd7ccf3",
   "metadata": {},
   "outputs": [
    {
     "data": {
      "text/plain": [
       "0"
      ]
     },
     "execution_count": 32,
     "metadata": {},
     "output_type": "execute_result"
    }
   ],
   "source": [
    "token_counter.total_embedding_token_count"
   ]
  },
  {
   "cell_type": "markdown",
   "id": "6d71a724-ae6c-44cb-9dde-6becb2c10075",
   "metadata": {},
   "source": [
    "## create"
   ]
  },
  {
   "cell_type": "code",
   "execution_count": 33,
   "id": "f3e10bcc-19b5-47f7-a3ff-8bef7ac9de0e",
   "metadata": {},
   "outputs": [],
   "source": [
    "doc_store = SimpleDocumentStore()"
   ]
  },
  {
   "cell_type": "code",
   "execution_count": 34,
   "id": "032c7b24-77ba-4f9e-a2dc-41ee8b0dd595",
   "metadata": {
    "scrolled": true
   },
   "outputs": [
    {
     "data": {
      "text/plain": [
       "{}"
      ]
     },
     "execution_count": 34,
     "metadata": {},
     "output_type": "execute_result"
    }
   ],
   "source": [
    "doc_store.docs"
   ]
  },
  {
   "cell_type": "code",
   "execution_count": 35,
   "id": "d295e90c-7759-472b-960c-0bcdf4d2212e",
   "metadata": {},
   "outputs": [],
   "source": [
    "for i in doc_store.docs.keys():\n",
    "    print(i)"
   ]
  },
  {
   "cell_type": "code",
   "execution_count": 36,
   "id": "8b7ddeb4-104e-47fa-a145-c48bb7853d94",
   "metadata": {},
   "outputs": [],
   "source": [
    "chroma_client = chromadb.PersistentClient(path=\"./chroma_db\")"
   ]
  },
  {
   "cell_type": "code",
   "execution_count": 37,
   "id": "9bd132ee-9552-467a-b5b6-0aa3d0327664",
   "metadata": {},
   "outputs": [
    {
     "data": {
      "text/plain": [
       "0"
      ]
     },
     "execution_count": 37,
     "metadata": {},
     "output_type": "execute_result"
    }
   ],
   "source": [
    "chroma_client.count_collections()"
   ]
  },
  {
   "cell_type": "code",
   "execution_count": 38,
   "id": "672ea278-26e6-4437-b388-0df594788b33",
   "metadata": {},
   "outputs": [],
   "source": [
    "chroma_collection = chroma_client.get_or_create_collection(\"paul_essay\")"
   ]
  },
  {
   "cell_type": "code",
   "execution_count": 39,
   "id": "c99d3a07-eb45-41fc-a13b-aecc39caf67d",
   "metadata": {},
   "outputs": [
    {
     "data": {
      "text/plain": [
       "[Collection(name=paul_essay)]"
      ]
     },
     "execution_count": 39,
     "metadata": {},
     "output_type": "execute_result"
    }
   ],
   "source": [
    "chroma_client.list_collections()"
   ]
  },
  {
   "cell_type": "code",
   "execution_count": 40,
   "id": "4832b7f0-3645-4ef7-835e-309fbafe5446",
   "metadata": {},
   "outputs": [
    {
     "data": {
      "text/plain": [
       "0"
      ]
     },
     "execution_count": 40,
     "metadata": {},
     "output_type": "execute_result"
    }
   ],
   "source": [
    "chroma_collection.count()"
   ]
  },
  {
   "cell_type": "code",
   "execution_count": 41,
   "id": "69c53b1f-9d7f-44ff-8a33-89d2aaf35c9a",
   "metadata": {
    "scrolled": true
   },
   "outputs": [
    {
     "data": {
      "text/plain": [
       "{'ids': [],\n",
       " 'embeddings': None,\n",
       " 'metadatas': [],\n",
       " 'documents': [],\n",
       " 'uris': None,\n",
       " 'data': None}"
      ]
     },
     "execution_count": 41,
     "metadata": {},
     "output_type": "execute_result"
    }
   ],
   "source": [
    "chroma_collection.get()"
   ]
  },
  {
   "cell_type": "code",
   "execution_count": 42,
   "id": "a29e94fc-07ee-4156-a57c-38de99328e9a",
   "metadata": {},
   "outputs": [],
   "source": [
    "vector_store = ChromaVectorStore(chroma_collection=chroma_collection)"
   ]
  },
  {
   "cell_type": "code",
   "execution_count": 43,
   "id": "569fe139-7d29-427f-86e4-3940614c6e26",
   "metadata": {},
   "outputs": [],
   "source": [
    "storage_context = StorageContext.from_defaults(vector_store=vector_store)"
   ]
  },
  {
   "cell_type": "code",
   "execution_count": 44,
   "id": "c85a116a-6706-4b1b-9d9e-4871fa9f11b6",
   "metadata": {},
   "outputs": [],
   "source": [
    "pipeline = IngestionPipeline(\n",
    "    transformations = [SentenceSplitter(chunk_size=512, chunk_overlap=128),\n",
    "                       OpenAIEmbedding(model_name='text-embedding-3-small', callback_manager=CallbackManager([token_counter]))],\n",
    "    docstore=doc_store,\n",
    "    vector_store=vector_store\n",
    ")"
   ]
  },
  {
   "cell_type": "code",
   "execution_count": 45,
   "id": "b1127812-3583-44c2-bd54-c155535c9b8c",
   "metadata": {},
   "outputs": [
    {
     "data": {
      "text/plain": [
       "{'include_metadata': True,\n",
       " 'include_prev_next_rel': True,\n",
       " 'chunk_size': 512,\n",
       " 'chunk_overlap': 128,\n",
       " 'separator': ' ',\n",
       " 'paragraph_separator': '\\n\\n\\n',\n",
       " 'secondary_chunking_regex': '[^,.;。？！]+[,.;。？！]?',\n",
       " 'class_name': 'SentenceSplitter'}"
      ]
     },
     "execution_count": 45,
     "metadata": {},
     "output_type": "execute_result"
    }
   ],
   "source": [
    "pipeline.transformations[0].dict()"
   ]
  },
  {
   "cell_type": "code",
   "execution_count": 46,
   "id": "54b6774d-38ed-4910-bf92-853e2aec8738",
   "metadata": {
    "scrolled": true
   },
   "outputs": [
    {
     "data": {
      "application/vnd.jupyter.widget-view+json": {
       "model_id": "94bc9fde83b34d9d91a7309ad5b95642",
       "version_major": 2,
       "version_minor": 0
      },
      "text/plain": [
       "Parsing nodes:   0%|          | 0/1 [00:00<?, ?it/s]"
      ]
     },
     "metadata": {},
     "output_type": "display_data"
    },
    {
     "data": {
      "application/vnd.jupyter.widget-view+json": {
       "model_id": "194965d2d4b941aebfc8ab7f9448aa84",
       "version_major": 2,
       "version_minor": 0
      },
      "text/plain": [
       "Generating embeddings:   0%|          | 0/47 [00:00<?, ?it/s]"
      ]
     },
     "metadata": {},
     "output_type": "display_data"
    },
    {
     "name": "stdout",
     "output_type": "stream",
     "text": [
      "Embedding Token Usage: 21949\n"
     ]
    }
   ],
   "source": [
    "nodes = pipeline.run(documents=documents, show_progress=True, num_workers=-1)"
   ]
  },
  {
   "cell_type": "code",
   "execution_count": 47,
   "id": "1c45b96d-fd5a-4ace-aef4-54a462212fc5",
   "metadata": {},
   "outputs": [],
   "source": [
    "doc_store.persist('./document storage/doc_store.json')"
   ]
  },
  {
   "cell_type": "code",
   "execution_count": 48,
   "id": "c3edf505-8742-46ea-9b2c-6ee09c0d666a",
   "metadata": {},
   "outputs": [
    {
     "data": {
      "text/plain": [
       "21949"
      ]
     },
     "execution_count": 48,
     "metadata": {},
     "output_type": "execute_result"
    }
   ],
   "source": [
    "token_counter.total_embedding_token_count"
   ]
  },
  {
   "cell_type": "markdown",
   "id": "fb330750-0d8a-4c86-87d8-8364385b9310",
   "metadata": {},
   "source": [
    "## Load"
   ]
  },
  {
   "cell_type": "code",
   "execution_count": 33,
   "id": "7a7f0415-4d30-4bf6-9772-e7bdb9b61128",
   "metadata": {},
   "outputs": [],
   "source": [
    "doc_store = SimpleDocumentStore.from_persist_path('./document storage/doc_store.json')"
   ]
  },
  {
   "cell_type": "code",
   "execution_count": 34,
   "id": "bc4cb168-96f0-48e5-b178-a697052ae556",
   "metadata": {
    "scrolled": true
   },
   "outputs": [
    {
     "data": {
      "text/plain": [
       "{'data/paul_graham_essay.txt': Document(id_='data/paul_graham_essay.txt', embedding=None, metadata={'file_path': 'data/paul_graham_essay.txt', 'file_name': 'paul_graham_essay.txt', 'file_type': 'text/plain', 'file_size': 75042, 'creation_date': '2024-04-16', 'last_modified_date': '2024-04-15', 'author': 'paul_graham'}, excluded_embed_metadata_keys=['file_name', 'file_type', 'file_size', 'creation_date', 'last_modified_date', 'last_accessed_date'], excluded_llm_metadata_keys=['file_name', 'file_type', 'file_size', 'creation_date', 'last_modified_date', 'last_accessed_date'], relationships={}, text='\\n\\nWhat I Worked On\\n\\nFebruary 2021\\n\\nBefore college the two main things I worked on, outside of school, were writing and programming. I didn\\'t write essays. I wrote what beginning writers were supposed to write then, and probably still are: short stories. My stories were awful. They had hardly any plot, just characters with strong feelings, which I imagined made them deep.\\n\\nThe first programs I tried writing were on the IBM 1401 that our school district used for what was then called \"data processing.\" This was in 9th grade, so I was 13 or 14. The school district\\'s 1401 happened to be in the basement of our junior high school, and my friend Rich Draves and I got permission to use it. It was like a mini Bond villain\\'s lair down there, with all these alien-looking machines — CPU, disk drives, printer, card reader — sitting up on a raised floor under bright fluorescent lights.\\n\\nThe language we used was an early version of Fortran. You had to type programs on punch cards, then stack them in the card reader and press a button to load the program into memory and run it. The result would ordinarily be to print something on the spectacularly loud printer.\\n\\nI was puzzled by the 1401. I couldn\\'t figure out what to do with it. And in retrospect there\\'s not much I could have done with it. The only form of input to programs was data stored on punched cards, and I didn\\'t have any data stored on punched cards. The only other option was to do things that didn\\'t rely on any input, like calculate approximations of pi, but I didn\\'t know enough math to do anything interesting of that type. So I\\'m not surprised I can\\'t remember any programs I wrote, because they can\\'t have done much. My clearest memory is of the moment I learned it was possible for programs not to terminate, when one of mine didn\\'t. On a machine without time-sharing, this was a social as well as a technical error, as the data center manager\\'s expression made clear.\\n\\nWith microcomputers, everything changed. Now you could have a computer sitting right in front of you, on a desk, that could respond to your keystrokes as it was running instead of just churning through a stack of punch cards and then stopping. [1]\\n\\nThe first of my friends to get a microcomputer built it himself. It was sold as a kit by Heathkit. I remember vividly how impressed and envious I felt watching him sitting in front of it, typing programs right into the computer.\\n\\nComputers were expensive in those days and it took me years of nagging before I convinced my father to buy one, a TRS-80, in about 1980. The gold standard then was the Apple II, but a TRS-80 was good enough. This was when I really started programming. I wrote simple games, a program to predict how high my model rockets would fly, and a word processor that my father used to write at least one book. There was only room in memory for about 2 pages of text, so he\\'d write 2 pages at a time and then print them out, but it was a lot better than a typewriter.\\n\\nThough I liked programming, I didn\\'t plan to study it in college. In college I was going to study philosophy, which sounded much more powerful. It seemed, to my naive high school self, to be the study of the ultimate truths, compared to which the things studied in other fields would be mere domain knowledge. What I discovered when I got to college was that the other fields took up so much of the space of ideas that there wasn\\'t much left for these supposed ultimate truths. All that seemed left for philosophy were edge cases that people in other fields felt could safely be ignored.\\n\\nI couldn\\'t have put this into words when I was 18. All I knew at the time was that I kept taking philosophy courses and they kept being boring. So I decided to switch to AI.\\n\\nAI was in the air in the mid 1980s, but there were two things especially that made me want to work on it: a novel by Heinlein called The Moon is a Harsh Mistress, which featured an intelligent computer called Mike, and a PBS documentary that showed Terry Winograd using SHRDLU. I haven\\'t tried rereading The Moon is a Harsh Mistress, so I don\\'t know how well it has aged, but when I read it I was drawn entirely into its world. It seemed only a matter of time before we\\'d have Mike, and when I saw Winograd using SHRDLU, it seemed like that time would be a few years at most. All you had to do was teach SHRDLU more words.\\n\\nThere weren\\'t any classes in AI at Cornell then, not even graduate classes, so I started trying to teach myself. Which meant learning Lisp, since in those days Lisp was regarded as the language of AI. The commonly used programming languages then were pretty primitive, and programmers\\' ideas correspondingly so. The default language at Cornell was a Pascal-like language called PL/I, and the situation was similar elsewhere. Learning Lisp expanded my concept of a program so fast that it was years before I started to have a sense of where the new limits were. This was more like it; this was what I had expected college to do. It wasn\\'t happening in a class, like it was supposed to, but that was ok. For the next couple years I was on a roll. I knew what I was going to do.\\n\\nFor my undergraduate thesis, I reverse-engineered SHRDLU. My God did I love working on that program. It was a pleasing bit of code, but what made it even more exciting was my belief — hard to imagine now, but not unique in 1985 — that it was already climbing the lower slopes of intelligence.\\n\\nI had gotten into a program at Cornell that didn\\'t make you choose a major. You could take whatever classes you liked, and choose whatever you liked to put on your degree. I of course chose \"Artificial Intelligence.\" When I got the actual physical diploma, I was dismayed to find that the quotes had been included, which made them read as scare-quotes. At the time this bothered me, but now it seems amusingly accurate, for reasons I was about to discover.\\n\\nI applied to 3 grad schools: MIT and Yale, which were renowned for AI at the time, and Harvard, which I\\'d visited because Rich Draves went there, and was also home to Bill Woods, who\\'d invented the type of parser I used in my SHRDLU clone. Only Harvard accepted me, so that was where I went.\\n\\nI don\\'t remember the moment it happened, or if there even was a specific moment, but during the first year of grad school I realized that AI, as practiced at the time, was a hoax. By which I mean the sort of AI in which a program that\\'s told \"the dog is sitting on the chair\" translates this into some formal representation and adds it to the list of things it knows.\\n\\nWhat these programs really showed was that there\\'s a subset of natural language that\\'s a formal language. But a very proper subset. It was clear that there was an unbridgeable gap between what they could do and actually understanding natural language. It was not, in fact, simply a matter of teaching SHRDLU more words. That whole way of doing AI, with explicit data structures representing concepts, was not going to work. Its brokenness did, as so often happens, generate a lot of opportunities to write papers about various band-aids that could be applied to it, but it was never going to get us Mike.\\n\\nSo I looked around to see what I could salvage from the wreckage of my plans, and there was Lisp. I knew from experience that Lisp was interesting for its own sake and not just for its association with AI, even though that was the main reason people cared about it at the time. So I decided to focus on Lisp. In fact, I decided to write a book about Lisp hacking. It\\'s scary to think how little I knew about Lisp hacking when I started writing that book. But there\\'s nothing like writing a book about something to help you learn it. The book, On Lisp, wasn\\'t published till 1993, but I wrote much of it in grad school.\\n\\nComputer Science is an uneasy alliance between two halves, theory and systems. The theory people prove things, and the systems people build things. I wanted to build things. I had plenty of respect for theory — indeed, a sneaking suspicion that it was the more admirable of the two halves — but building things seemed so much more exciting.\\n\\nThe problem with systems work, though, was that it didn\\'t last. Any program you wrote today, no matter how good, would be obsolete in a couple decades at best. People might mention your software in footnotes, but no one would actually use it. And indeed, it would seem very feeble work. Only people with a sense of the history of the field would even realize that, in its time, it had been good.\\n\\nThere were some surplus Xerox Dandelions floating around the computer lab at one point. Anyone who wanted one to play around with could have one. I was briefly tempted, but they were so slow by present standards; what was the point? No one else wanted one either, so off they went. That was what happened to systems work.\\n\\nI wanted not just to build things, but to build things that would last.\\n\\nIn this dissatisfied state I went in 1988 to visit Rich Draves at CMU, where he was in grad school. One day I went to visit the Carnegie Institute, where I\\'d spent a lot of time as a kid. While looking at a painting there I realized something that might seem obvious, but was a big surprise to me. There, right on the wall, was something you could make that would last. Paintings didn\\'t become obsolete. Some of the best ones were hundreds of years old.\\n\\nAnd moreover this was something you could make a living doing. Not as easily as you could by writing software, of course, but I thought if you were really industrious and lived really cheaply, it had to be possible to make enough to survive. And as an artist you could be truly independent. You wouldn\\'t have a boss, or even need to get research funding.\\n\\nI had always liked looking at paintings. Could I make them? I had no idea. I\\'d never imagined it was even possible. I knew intellectually that people made art — that it didn\\'t just appear spontaneously — but it was as if the people who made it were a different species. They either lived long ago or were mysterious geniuses doing strange things in profiles in Life magazine. The idea of actually being able to make art, to put that verb before that noun, seemed almost miraculous.\\n\\nThat fall I started taking art classes at Harvard. Grad students could take classes in any department, and my advisor, Tom Cheatham, was very easy going. If he even knew about the strange classes I was taking, he never said anything.\\n\\nSo now I was in a PhD program in computer science, yet planning to be an artist, yet also genuinely in love with Lisp hacking and working away at On Lisp. In other words, like many a grad student, I was working energetically on multiple projects that were not my thesis.\\n\\nI didn\\'t see a way out of this situation. I didn\\'t want to drop out of grad school, but how else was I going to get out? I remember when my friend Robert Morris got kicked out of Cornell for writing the internet worm of 1988, I was envious that he\\'d found such a spectacular way to get out of grad school.\\n\\nThen one day in April 1990 a crack appeared in the wall. I ran into professor Cheatham and he asked if I was far enough along to graduate that June. I didn\\'t have a word of my dissertation written, but in what must have been the quickest bit of thinking in my life, I decided to take a shot at writing one in the 5 weeks or so that remained before the deadline, reusing parts of On Lisp where I could, and I was able to respond, with no perceptible delay \"Yes, I think so. I\\'ll give you something to read in a few days.\"\\n\\nI picked applications of continuations as the topic. In retrospect I should have written about macros and embedded languages. There\\'s a whole world there that\\'s barely been explored. But all I wanted was to get out of grad school, and my rapidly written dissertation sufficed, just barely.\\n\\nMeanwhile I was applying to art schools. I applied to two: RISD in the US, and the Accademia di Belli Arti in Florence, which, because it was the oldest art school, I imagined would be good. RISD accepted me, and I never heard back from the Accademia, so off to Providence I went.\\n\\nI\\'d applied for the BFA program at RISD, which meant in effect that I had to go to college again. This was not as strange as it sounds, because I was only 25, and art schools are full of people of different ages. RISD counted me as a transfer sophomore and said I had to do the foundation that summer. The foundation means the classes that everyone has to take in fundamental subjects like drawing, color, and design.\\n\\nToward the end of the summer I got a big surprise: a letter from the Accademia, which had been delayed because they\\'d sent it to Cambridge England instead of Cambridge Massachusetts, inviting me to take the entrance exam in Florence that fall. This was now only weeks away. My nice landlady let me leave my stuff in her attic. I had some money saved from consulting work I\\'d done in grad school; there was probably enough to last a year if I lived cheaply. Now all I had to do was learn Italian.\\n\\nOnly stranieri (foreigners) had to take this entrance exam. In retrospect it may well have been a way of excluding them, because there were so many stranieri attracted by the idea of studying art in Florence that the Italian students would otherwise have been outnumbered. I was in decent shape at painting and drawing from the RISD foundation that summer, but I still don\\'t know how I managed to pass the written exam. I remember that I answered the essay question by writing about Cezanne, and that I cranked up the intellectual level as high as I could to make the most of my limited vocabulary. [2]\\n\\nI\\'m only up to age 25 and already there are such conspicuous patterns. Here I was, yet again about to attend some august institution in the hopes of learning about some prestigious subject, and yet again about to be disappointed. The students and faculty in the painting department at the Accademia were the nicest people you could imagine, but they had long since arrived at an arrangement whereby the students wouldn\\'t require the faculty to teach anything, and in return the faculty wouldn\\'t require the students to learn anything. And at the same time all involved would adhere outwardly to the conventions of a 19th century atelier. We actually had one of those little stoves, fed with kindling, that you see in 19th century studio paintings, and a nude model sitting as close to it as possible without getting burned. Except hardly anyone else painted her besides me. The rest of the students spent their time chatting or occasionally trying to imitate things they\\'d seen in American art magazines.\\n\\nOur model turned out to live just down the street from me. She made a living from a combination of modelling and making fakes for a local antique dealer. She\\'d copy an obscure old painting out of a book, and then he\\'d take the copy and maltreat it to make it look old. [3]\\n\\nWhile I was a student at the Accademia I started painting still lives in my bedroom at night. These paintings were tiny, because the room was, and because I painted them on leftover scraps of canvas, which was all I could afford at the time. Painting still lives is different from painting people, because the subject, as its name suggests, can\\'t move. People can\\'t sit for more than about 15 minutes at a time, and when they do they don\\'t sit very still. So the traditional m.o. for painting people is to know how to paint a generic person, which you then modify to match the specific person you\\'re painting. Whereas a still life you can, if you want, copy pixel by pixel from what you\\'re seeing. You don\\'t want to stop there, of course, or you get merely photographic accuracy, and what makes a still life interesting is that it\\'s been through a head. You want to emphasize the visual cues that tell you, for example, that the reason the color changes suddenly at a certain point is that it\\'s the edge of an object. By subtly emphasizing such things you can make paintings that are more realistic than photographs not just in some metaphorical sense, but in the strict information-theoretic sense. [4]\\n\\nI liked painting still lives because I was curious about what I was seeing. In everyday life, we aren\\'t consciously aware of much we\\'re seeing. Most visual perception is handled by low-level processes that merely tell your brain \"that\\'s a water droplet\" without telling you details like where the lightest and darkest points are, or \"that\\'s a bush\" without telling you the shape and position of every leaf. This is a feature of brains, not a bug. In everyday life it would be distracting to notice every leaf on every bush. But when you have to paint something, you have to look more closely, and when you do there\\'s a lot to see. You can still be noticing new things after days of trying to paint something people usually take for granted, just as you can after days of trying to write an essay about something people usually take for granted.\\n\\nThis is not the only way to paint. I\\'m not 100% sure it\\'s even a good way to paint. But it seemed a good enough bet to be worth trying.\\n\\nOur teacher, professor Ulivi, was a nice guy. He could see I worked hard, and gave me a good grade, which he wrote down in a sort of passport each student had. But the Accademia wasn\\'t teaching me anything except Italian, and my money was running out, so at the end of the first year I went back to the US.\\n\\nI wanted to go back to RISD, but I was now broke and RISD was very expensive, so I decided to get a job for a year and then return to RISD the next fall. I got one at a company called Interleaf, which made software for creating documents. You mean like Microsoft Word? Exactly. That was how I learned that low end software tends to eat high end software. But Interleaf still had a few years to live yet. [5]\\n\\nInterleaf had done something pretty bold. Inspired by Emacs, they\\'d added a scripting language, and even made the scripting language a dialect of Lisp. Now they wanted a Lisp hacker to write things in it. This was the closest thing I\\'ve had to a normal job, and I hereby apologize to my boss and coworkers, because I was a bad employee. Their Lisp was the thinnest icing on a giant C cake, and since I didn\\'t know C and didn\\'t want to learn it, I never understood most of the software. Plus I was terribly irresponsible. This was back when a programming job meant showing up every day during certain working hours. That seemed unnatural to me, and on this point the rest of the world is coming around to my way of thinking, but at the time it caused a lot of friction. Toward the end of the year I spent much of my time surreptitiously working on On Lisp, which I had by this time gotten a contract to publish.\\n\\nThe good part was that I got paid huge amounts of money, especially by art student standards. In Florence, after paying my part of the rent, my budget for everything else had been $7 a day. Now I was getting paid more than 4 times that every hour, even when I was just sitting in a meeting. By living cheaply I not only managed to save enough to go back to RISD, but also paid off my college loans.\\n\\nI learned some useful things at Interleaf, though they were mostly about what not to do. I learned that it\\'s better for technology companies to be run by product people than sales people (though sales is a real skill and people who are good at it are really good at it), that it leads to bugs when code is edited by too many people, that cheap office space is no bargain if it\\'s depressing, that planned meetings are inferior to corridor conversations, that big, bureaucratic customers are a dangerous source of money, and that there\\'s not much overlap between conventional office hours and the optimal time for hacking, or conventional offices and the optimal place for it.\\n\\nBut the most important thing I learned, and which I used in both Viaweb and Y Combinator, is that the low end eats the high end: that it\\'s good to be the \"entry level\" option, even though that will be less prestigious, because if you\\'re not, someone else will be, and will squash you against the ceiling. Which in turn means that prestige is a danger sign.\\n\\nWhen I left to go back to RISD the next fall, I arranged to do freelance work for the group that did projects for customers, and this was how I survived for the next several years. When I came back to visit for a project later on, someone told me about a new thing called HTML, which was, as he described it, a derivative of SGML. Markup language enthusiasts were an occupational hazard at Interleaf and I ignored him, but this HTML thing later became a big part of my life.\\n\\nIn the fall of 1992 I moved back to Providence to continue at RISD. The foundation had merely been intro stuff, and the Accademia had been a (very civilized) joke. Now I was going to see what real art school was like. But alas it was more like the Accademia than not. Better organized, certainly, and a lot more expensive, but it was now becoming clear that art school did not bear the same relationship to art that medical school bore to medicine. At least not the painting department. The textile department, which my next door neighbor belonged to, seemed to be pretty rigorous. No doubt illustration and architecture were too. But painting was post-rigorous. Painting students were supposed to express themselves, which to the more worldly ones meant to try to cook up some sort of distinctive signature style.\\n\\nA signature style is the visual equivalent of what in show business is known as a \"schtick\": something that immediately identifies the work as yours and no one else\\'s. For example, when you see a painting that looks like a certain kind of cartoon, you know it\\'s by Roy Lichtenstein. So if you see a big painting of this type hanging in the apartment of a hedge fund manager, you know he paid millions of dollars for it. That\\'s not always why artists have a signature style, but it\\'s usually why buyers pay a lot for such work. [6]\\n\\nThere were plenty of earnest students too: kids who \"could draw\" in high school, and now had come to what was supposed to be the best art school in the country, to learn to draw even better. They tended to be confused and demoralized by what they found at RISD, but they kept going, because painting was what they did. I was not one of the kids who could draw in high school, but at RISD I was definitely closer to their tribe than the tribe of signature style seekers.\\n\\nI learned a lot in the color class I took at RISD, but otherwise I was basically teaching myself to paint, and I could do that for free. So in 1993 I dropped out. I hung around Providence for a bit, and then my college friend Nancy Parmet did me a big favor. A rent-controlled apartment in a building her mother owned in New York was becoming vacant. Did I want it? It wasn\\'t much more than my current place, and New York was supposed to be where the artists were. So yes, I wanted it! [7]\\n\\nAsterix comics begin by zooming in on a tiny corner of Roman Gaul that turns out not to be controlled by the Romans. You can do something similar on a map of New York City: if you zoom in on the Upper East Side, there\\'s a tiny corner that\\'s not rich, or at least wasn\\'t in 1993. It\\'s called Yorkville, and that was my new home. Now I was a New York artist — in the strictly technical sense of making paintings and living in New York.\\n\\nI was nervous about money, because I could sense that Interleaf was on the way down. Freelance Lisp hacking work was very rare, and I didn\\'t want to have to program in another language, which in those days would have meant C++ if I was lucky. So with my unerring nose for financial opportunity, I decided to write another book on Lisp. This would be a popular book, the sort of book that could be used as a textbook. I imagined myself living frugally off the royalties and spending all my time painting. (The painting on the cover of this book, ANSI Common Lisp, is one that I painted around this time.)\\n\\nThe best thing about New York for me was the presence of Idelle and Julian Weber. Idelle Weber was a painter, one of the early photorealists, and I\\'d taken her painting class at Harvard. I\\'ve never known a teacher more beloved by her students. Large numbers of former students kept in touch with her, including me. After I moved to New York I became her de facto studio assistant.\\n\\nShe liked to paint on big, square canvases, 4 to 5 feet on a side. One day in late 1994 as I was stretching one of these monsters there was something on the radio about a famous fund manager. He wasn\\'t that much older than me, and was super rich. The thought suddenly occurred to me: why don\\'t I become rich? Then I\\'ll be able to work on whatever I want.\\n\\nMeanwhile I\\'d been hearing more and more about this new thing called the World Wide Web. Robert Morris showed it to me when I visited him in Cambridge, where he was now in grad school at Harvard. It seemed to me that the web would be a big deal. I\\'d seen what graphical user interfaces had done for the popularity of microcomputers. It seemed like the web would do the same for the internet.\\n\\nIf I wanted to get rich, here was the next train leaving the station. I was right about that part. What I got wrong was the idea. I decided we should start a company to put art galleries online. I can\\'t honestly say, after reading so many Y Combinator applications, that this was the worst startup idea ever, but it was up there. Art galleries didn\\'t want to be online, and still don\\'t, not the fancy ones. That\\'s not how they sell. I wrote some software to generate web sites for galleries, and Robert wrote some to resize images and set up an http server to serve the pages. Then we tried to sign up galleries. To call this a difficult sale would be an understatement. It was difficult to give away. A few galleries let us make sites for them for free, but none paid us.\\n\\nThen some online stores started to appear, and I realized that except for the order buttons they were identical to the sites we\\'d been generating for galleries. This impressive-sounding thing called an \"internet storefront\" was something we already knew how to build.\\n\\nSo in the summer of 1995, after I submitted the camera-ready copy of ANSI Common Lisp to the publishers, we started trying to write software to build online stores. At first this was going to be normal desktop software, which in those days meant Windows software. That was an alarming prospect, because neither of us knew how to write Windows software or wanted to learn. We lived in the Unix world. But we decided we\\'d at least try writing a prototype store builder on Unix. Robert wrote a shopping cart, and I wrote a new site generator for stores — in Lisp, of course.\\n\\nWe were working out of Robert\\'s apartment in Cambridge. His roommate was away for big chunks of time, during which I got to sleep in his room. For some reason there was no bed frame or sheets, just a mattress on the floor. One morning as I was lying on this mattress I had an idea that made me sit up like a capital L. What if we ran the software on the server, and let users control it by clicking on links? Then we\\'d never have to write anything to run on users\\' computers. We could generate the sites on the same server we\\'d serve them from. Users wouldn\\'t need anything more than a browser.\\n\\nThis kind of software, known as a web app, is common now, but at the time it wasn\\'t clear that it was even possible. To find out, we decided to try making a version of our store builder that you could control through the browser. A couple days later, on August 12, we had one that worked. The UI was horrible, but it proved you could build a whole store through the browser, without any client software or typing anything into the command line on the server.\\n\\nNow we felt like we were really onto something. I had visions of a whole new generation of software working this way. You wouldn\\'t need versions, or ports, or any of that crap. At Interleaf there had been a whole group called Release Engineering that seemed to be at least as big as the group that actually wrote the software. Now you could just update the software right on the server.\\n\\nWe started a new company we called Viaweb, after the fact that our software worked via the web, and we got $10,000 in seed funding from Idelle\\'s husband Julian. In return for that and doing the initial legal work and giving us business advice, we gave him 10% of the company. Ten years later this deal became the model for Y Combinator\\'s. We knew founders needed something like this, because we\\'d needed it ourselves.\\n\\nAt this stage I had a negative net worth, because the thousand dollars or so I had in the bank was more than counterbalanced by what I owed the government in taxes. (Had I diligently set aside the proper proportion of the money I\\'d made consulting for Interleaf? No, I had not.) So although Robert had his graduate student stipend, I needed that seed funding to live on.\\n\\nWe originally hoped to launch in September, but we got more ambitious about the software as we worked on it. Eventually we managed to build a WYSIWYG site builder, in the sense that as you were creating pages, they looked exactly like the static ones that would be generated later, except that instead of leading to static pages, the links all referred to closures stored in a hash table on the server.\\n\\nIt helped to have studied art, because the main goal of an online store builder is to make users look legit, and the key to looking legit is high production values. If you get page layouts and fonts and colors right, you can make a guy running a store out of his bedroom look more legit than a big company.\\n\\n(If you\\'re curious why my site looks so old-fashioned, it\\'s because it\\'s still made with this software. It may look clunky today, but in 1996 it was the last word in slick.)\\n\\nIn September, Robert rebelled. \"We\\'ve been working on this for a month,\" he said, \"and it\\'s still not done.\" This is funny in retrospect, because he would still be working on it almost 3 years later. But I decided it might be prudent to recruit more programmers, and I asked Robert who else in grad school with him was really good. He recommended Trevor Blackwell, which surprised me at first, because at that point I knew Trevor mainly for his plan to reduce everything in his life to a stack of notecards, which he carried around with him. But Rtm was right, as usual. Trevor turned out to be a frighteningly effective hacker.\\n\\nIt was a lot of fun working with Robert and Trevor. They\\'re the two most independent-minded people I know, and in completely different ways. If you could see inside Rtm\\'s brain it would look like a colonial New England church, and if you could see inside Trevor\\'s it would look like the worst excesses of Austrian Rococo.\\n\\nWe opened for business, with 6 stores, in January 1996. It was just as well we waited a few months, because although we worried we were late, we were actually almost fatally early. There was a lot of talk in the press then about ecommerce, but not many people actually wanted online stores. [8]\\n\\nThere were three main parts to the software: the editor, which people used to build sites and which I wrote, the shopping cart, which Robert wrote, and the manager, which kept track of orders and statistics, and which Trevor wrote. In its time, the editor was one of the best general-purpose site builders. I kept the code tight and didn\\'t have to integrate with any other software except Robert\\'s and Trevor\\'s, so it was quite fun to work on. If all I\\'d had to do was work on this software, the next 3 years would have been the easiest of my life. Unfortunately I had to do a lot more, all of it stuff I was worse at than programming, and the next 3 years were instead the most stressful.\\n\\nThere were a lot of startups making ecommerce software in the second half of the 90s. We were determined to be the Microsoft Word, not the Interleaf. Which meant being easy to use and inexpensive. It was lucky for us that we were poor, because that caused us to make Viaweb even more inexpensive than we realized. We charged $100 a month for a small store and $300 a month for a big one. This low price was a big attraction, and a constant thorn in the sides of competitors, but it wasn\\'t because of some clever insight that we set the price low. We had no idea what businesses paid for things. $300 a month seemed like a lot of money to us.\\n\\nWe did a lot of things right by accident like that. For example, we did what\\'s now called \"doing things that don\\'t scale,\" although at the time we would have described it as \"being so lame that we\\'re driven to the most desperate measures to get users.\" The most common of which was building stores for them. This seemed particularly humiliating, since the whole raison d\\'etre of our software was that people could use it to make their own stores. But anything to get users.\\n\\nWe learned a lot more about retail than we wanted to know. For example, that if you could only have a small image of a man\\'s shirt (and all images were small then by present standards), it was better to have a closeup of the collar than a picture of the whole shirt. The reason I remember learning this was that it meant I had to rescan about 30 images of men\\'s shirts. My first set of scans were so beautiful too.\\n\\nThough this felt wrong, it was exactly the right thing to be doing. Building stores for users taught us about retail, and about how it felt to use our software. I was initially both mystified and repelled by \"business\" and thought we needed a \"business person\" to be in charge of it, but once we started to get users, I was converted, in much the same way I was converted to fatherhood once I had kids. Whatever users wanted, I was all theirs. Maybe one day we\\'d have so many users that I couldn\\'t scan their images for them, but in the meantime there was nothing more important to do.\\n\\nAnother thing I didn\\'t get at the time is that growth rate is the ultimate test of a startup. Our growth rate was fine. We had about 70 stores at the end of 1996 and about 500 at the end of 1997. I mistakenly thought the thing that mattered was the absolute number of users. And that is the thing that matters in the sense that that\\'s how much money you\\'re making, and if you\\'re not making enough, you might go out of business. But in the long term the growth rate takes care of the absolute number. If we\\'d been a startup I was advising at Y Combinator, I would have said: Stop being so stressed out, because you\\'re doing fine. You\\'re growing 7x a year. Just don\\'t hire too many more people and you\\'ll soon be profitable, and then you\\'ll control your own destiny.\\n\\nAlas I hired lots more people, partly because our investors wanted me to, and partly because that\\'s what startups did during the Internet Bubble. A company with just a handful of employees would have seemed amateurish. So we didn\\'t reach breakeven until about when Yahoo bought us in the summer of 1998. Which in turn meant we were at the mercy of investors for the entire life of the company. And since both we and our investors were noobs at startups, the result was a mess even by startup standards.\\n\\nIt was a huge relief when Yahoo bought us. In principle our Viaweb stock was valuable. It was a share in a business that was profitable and growing rapidly. But it didn\\'t feel very valuable to me; I had no idea how to value a business, but I was all too keenly aware of the near-death experiences we seemed to have every few months. Nor had I changed my grad student lifestyle significantly since we started. So when Yahoo bought us it felt like going from rags to riches. Since we were going to California, I bought a car, a yellow 1998 VW GTI. I remember thinking that its leather seats alone were by far the most luxurious thing I owned.\\n\\nThe next year, from the summer of 1998 to the summer of 1999, must have been the least productive of my life. I didn\\'t realize it at the time, but I was worn out from the effort and stress of running Viaweb. For a while after I got to California I tried to continue my usual m.o. of programming till 3 in the morning, but fatigue combined with Yahoo\\'s prematurely aged culture and grim cube farm in Santa Clara gradually dragged me down. After a few months it felt disconcertingly like working at Interleaf.\\n\\nYahoo had given us a lot of options when they bought us. At the time I thought Yahoo was so overvalued that they\\'d never be worth anything, but to my astonishment the stock went up 5x in the next year. I hung on till the first chunk of options vested, then in the summer of 1999 I left. It had been so long since I\\'d painted anything that I\\'d half forgotten why I was doing this. My brain had been entirely full of software and men\\'s shirts for 4 years. But I had done this to get rich so I could paint, I reminded myself, and now I was rich, so I should go paint.\\n\\nWhen I said I was leaving, my boss at Yahoo had a long conversation with me about my plans. I told him all about the kinds of pictures I wanted to paint. At the time I was touched that he took such an interest in me. Now I realize it was because he thought I was lying. My options at that point were worth about $2 million a month. If I was leaving that kind of money on the table, it could only be to go and start some new startup, and if I did, I might take people with me. This was the height of the Internet Bubble, and Yahoo was ground zero of it. My boss was at that moment a billionaire. Leaving then to start a new startup must have seemed to him an insanely, and yet also plausibly, ambitious plan.\\n\\nBut I really was quitting to paint, and I started immediately. There was no time to lose. I\\'d already burned 4 years getting rich. Now when I talk to founders who are leaving after selling their companies, my advice is always the same: take a vacation. That\\'s what I should have done, just gone off somewhere and done nothing for a month or two, but the idea never occurred to me.\\n\\nSo I tried to paint, but I just didn\\'t seem to have any energy or ambition. Part of the problem was that I didn\\'t know many people in California. I\\'d compounded this problem by buying a house up in the Santa Cruz Mountains, with a beautiful view but miles from anywhere. I stuck it out for a few more months, then in desperation I went back to New York, where unless you understand about rent control you\\'ll be surprised to hear I still had my apartment, sealed up like a tomb of my old life. Idelle was in New York at least, and there were other people trying to paint there, even though I didn\\'t know any of them.\\n\\nWhen I got back to New York I resumed my old life, except now I was rich. It was as weird as it sounds. I resumed all my old patterns, except now there were doors where there hadn\\'t been. Now when I was tired of walking, all I had to do was raise my hand, and (unless it was raining) a taxi would stop to pick me up. Now when I walked past charming little restaurants I could go in and order lunch. It was exciting for a while. Painting started to go better. I experimented with a new kind of still life where I\\'d paint one painting in the old way, then photograph it and print it, blown up, on canvas, and then use that as the underpainting for a second still life, painted from the same objects (which hopefully hadn\\'t rotted yet).\\n\\nMeanwhile I looked for an apartment to buy. Now I could actually choose what neighborhood to live in. Where, I asked myself and various real estate agents, is the Cambridge of New York? Aided by occasional visits to actual Cambridge, I gradually realized there wasn\\'t one. Huh.\\n\\nAround this time, in the spring of 2000, I had an idea. It was clear from our experience with Viaweb that web apps were the future. Why not build a web app for making web apps? Why not let people edit code on our server through the browser, and then host the resulting applications for them? [9] You could run all sorts of services on the servers that these applications could use just by making an API call: making and receiving phone calls, manipulating images, taking credit card payments, etc.\\n\\nI got so excited about this idea that I couldn\\'t think about anything else. It seemed obvious that this was the future. I didn\\'t particularly want to start another company, but it was clear that this idea would have to be embodied as one, so I decided to move to Cambridge and start it. I hoped to lure Robert into working on it with me, but there I ran into a hitch. Robert was now a postdoc at MIT, and though he\\'d made a lot of money the last time I\\'d lured him into working on one of my schemes, it had also been a huge time sink. So while he agreed that it sounded like a plausible idea, he firmly refused to work on it.\\n\\nHmph. Well, I\\'d do it myself then. I recruited Dan Giffin, who had worked for Viaweb, and two undergrads who wanted summer jobs, and we got to work trying to build what it\\'s now clear is about twenty companies and several open source projects worth of software. The language for defining applications would of course be a dialect of Lisp. But I wasn\\'t so naive as to assume I could spring an overt Lisp on a general audience; we\\'d hide the parentheses, like Dylan did.\\n\\nBy then there was a name for the kind of company Viaweb was, an \"application service provider,\" or ASP. This name didn\\'t last long before it was replaced by \"software as a service,\" but it was current for long enough that I named this new company after it: it was going to be called Aspra.\\n\\nI started working on the application builder, Dan worked on network infrastructure, and the two undergrads worked on the first two services (images and phone calls). But about halfway through the summer I realized I really didn\\'t want to run a company — especially not a big one, which it was looking like this would have to be. I\\'d only started Viaweb because I needed the money. Now that I didn\\'t need money anymore, why was I doing this? If this vision had to be realized as a company, then screw the vision. I\\'d build a subset that could be done as an open source project.\\n\\nMuch to my surprise, the time I spent working on this stuff was not wasted after all. After we started Y Combinator, I would often encounter startups working on parts of this new architecture, and it was very useful to have spent so much time thinking about it and even trying to write some of it.\\n\\nThe subset I would build as an open source project was the new Lisp, whose parentheses I now wouldn\\'t even have to hide. A lot of Lisp hackers dream of building a new Lisp, partly because one of the distinctive features of the language is that it has dialects, and partly, I think, because we have in our minds a Platonic form of Lisp that all existing dialects fall short of. I certainly did. So at the end of the summer Dan and I switched to working on this new dialect of Lisp, which I called Arc, in a house I bought in Cambridge.\\n\\nThe following spring, lightning struck. I was invited to give a talk at a Lisp conference, so I gave one about how we\\'d used Lisp at Viaweb. Afterward I put a postscript file of this talk online, on paulgraham.com, which I\\'d created years before using Viaweb but had never used for anything. In one day it got 30,000 page views. What on earth had happened? The referring urls showed that someone had posted it on Slashdot. [10]\\n\\nWow, I thought, there\\'s an audience. If I write something and put it on the web, anyone can read it. That may seem obvious now, but it was surprising then. In the print era there was a narrow channel to readers, guarded by fierce monsters known as editors. The only way to get an audience for anything you wrote was to get it published as a book, or in a newspaper or magazine. Now anyone could publish anything.\\n\\nThis had been possible in principle since 1993, but not many people had realized it yet. I had been intimately involved with building the infrastructure of the web for most of that time, and a writer as well, and it had taken me 8 years to realize it. Even then it took me several years to understand the implications. It meant there would be a whole new generation of essays. [11]\\n\\nIn the print era, the channel for publishing essays had been vanishingly small. Except for a few officially anointed thinkers who went to the right parties in New York, the only people allowed to publish essays were specialists writing about their specialties. There were so many essays that had never been written, because there had been no way to publish them. Now they could be, and I was going to write them. [12]\\n\\nI\\'ve worked on several different things, but to the extent there was a turning point where I figured out what to work on, it was when I started publishing essays online. From then on I knew that whatever else I did, I\\'d always write essays too.\\n\\nI knew that online essays would be a marginal medium at first. Socially they\\'d seem more like rants posted by nutjobs on their GeoCities sites than the genteel and beautifully typeset compositions published in The New Yorker. But by this point I knew enough to find that encouraging instead of discouraging.\\n\\nOne of the most conspicuous patterns I\\'ve noticed in my life is how well it has worked, for me at least, to work on things that weren\\'t prestigious. Still life has always been the least prestigious form of painting. Viaweb and Y Combinator both seemed lame when we started them. I still get the glassy eye from strangers when they ask what I\\'m writing, and I explain that it\\'s an essay I\\'m going to publish on my web site. Even Lisp, though prestigious intellectually in something like the way Latin is, also seems about as hip.\\n\\nIt\\'s not that unprestigious types of work are good per se. But when you find yourself drawn to some kind of work despite its current lack of prestige, it\\'s a sign both that there\\'s something real to be discovered there, and that you have the right kind of motives. Impure motives are a big danger for the ambitious. If anything is going to lead you astray, it will be the desire to impress people. So while working on things that aren\\'t prestigious doesn\\'t guarantee you\\'re on the right track, it at least guarantees you\\'re not on the most common type of wrong one.\\n\\nOver the next several years I wrote lots of essays about all kinds of different topics. O\\'Reilly reprinted a collection of them as a book, called Hackers & Painters after one of the essays in it. I also worked on spam filters, and did some more painting. I used to have dinners for a group of friends every thursday night, which taught me how to cook for groups. And I bought another building in Cambridge, a former candy factory (and later, twas said, porn studio), to use as an office.\\n\\nOne night in October 2003 there was a big party at my house. It was a clever idea of my friend Maria Daniels, who was one of the thursday diners. Three separate hosts would all invite their friends to one party. So for every guest, two thirds of the other guests would be people they didn\\'t know but would probably like. One of the guests was someone I didn\\'t know but would turn out to like a lot: a woman called Jessica Livingston. A couple days later I asked her out.\\n\\nJessica was in charge of marketing at a Boston investment bank. This bank thought it understood startups, but over the next year, as she met friends of mine from the startup world, she was surprised how different reality was. And how colorful their stories were. So she decided to compile a book of interviews with startup founders.\\n\\nWhen the bank had financial problems and she had to fire half her staff, she started looking for a new job. In early 2005 she interviewed for a marketing job at a Boston VC firm. It took them weeks to make up their minds, and during this time I started telling her about all the things that needed to be fixed about venture capital. They should make a larger number of smaller investments instead of a handful of giant ones, they should be funding younger, more technical founders instead of MBAs, they should let the founders remain as CEO, and so on.\\n\\nOne of my tricks for writing essays had always been to give talks. The prospect of having to stand up in front of a group of people and tell them something that won\\'t waste their time is a great spur to the imagination. When the Harvard Computer Society, the undergrad computer club, asked me to give a talk, I decided I would tell them how to start a startup. Maybe they\\'d be able to avoid the worst of the mistakes we\\'d made.\\n\\nSo I gave this talk, in the course of which I told them that the best sources of seed funding were successful startup founders, because then they\\'d be sources of advice too. Whereupon it seemed they were all looking expectantly at me. Horrified at the prospect of having my inbox flooded by business plans (if I\\'d only known), I blurted out \"But not me!\" and went on with the talk. But afterward it occurred to me that I should really stop procrastinating about angel investing. I\\'d been meaning to since Yahoo bought us, and now it was 7 years later and I still hadn\\'t done one angel investment.\\n\\nMeanwhile I had been scheming with Robert and Trevor about projects we could work on together. I missed working with them, and it seemed like there had to be something we could collaborate on.\\n\\nAs Jessica and I were walking home from dinner on March 11, at the corner of Garden and Walker streets, these three threads converged. Screw the VCs who were taking so long to make up their minds. We\\'d start our own investment firm and actually implement the ideas we\\'d been talking about. I\\'d fund it, and Jessica could quit her job and work for it, and we\\'d get Robert and Trevor as partners too. [13]\\n\\nOnce again, ignorance worked in our favor. We had no idea how to be angel investors, and in Boston in 2005 there were no Ron Conways to learn from. So we just made what seemed like the obvious choices, and some of the things we did turned out to be novel.\\n\\nThere are multiple components to Y Combinator, and we didn\\'t figure them all out at once. The part we got first was to be an angel firm. In those days, those two words didn\\'t go together. There were VC firms, which were organized companies with people whose job it was to make investments, but they only did big, million dollar investments. And there were angels, who did smaller investments, but these were individuals who were usually focused on other things and made investments on the side. And neither of them helped founders enough in the beginning. We knew how helpless founders were in some respects, because we remembered how helpless we\\'d been. For example, one thing Julian had done for us that seemed to us like magic was to get us set up as a company. We were fine writing fairly difficult software, but actually getting incorporated, with bylaws and stock and all that stuff, how on earth did you do that? Our plan was not only to make seed investments, but to do for startups everything Julian had done for us.\\n\\nYC was not organized as a fund. It was cheap enough to run that we funded it with our own money. That went right by 99% of readers, but professional investors are thinking \"Wow, that means they got all the returns.\" But once again, this was not due to any particular insight on our part. We didn\\'t know how VC firms were organized. It never occurred to us to try to raise a fund, and if it had, we wouldn\\'t have known where to start. [14]\\n\\nThe most distinctive thing about YC is the batch model: to fund a bunch of startups all at once, twice a year, and then to spend three months focusing intensively on trying to help them. That part we discovered by accident, not merely implicitly but explicitly due to our ignorance about investing. We needed to get experience as investors. What better way, we thought, than to fund a whole bunch of startups at once? We knew undergrads got temporary jobs at tech companies during the summer. Why not organize a summer program where they\\'d start startups instead? We wouldn\\'t feel guilty for being in a sense fake investors, because they would in a similar sense be fake founders. So while we probably wouldn\\'t make much money out of it, we\\'d at least get to practice being investors on them, and they for their part would probably have a more interesting summer than they would working at Microsoft.\\n\\nWe\\'d use the building I owned in Cambridge as our headquarters. We\\'d all have dinner there once a week — on tuesdays, since I was already cooking for the thursday diners on thursdays — and after dinner we\\'d bring in experts on startups to give talks.\\n\\nWe knew undergrads were deciding then about summer jobs, so in a matter of days we cooked up something we called the Summer Founders Program, and I posted an announcement on my site, inviting undergrads to apply. I had never imagined that writing essays would be a way to get \"deal flow,\" as investors call it, but it turned out to be the perfect source. [15] We got 225 applications for the Summer Founders Program, and we were surprised to find that a lot of them were from people who\\'d already graduated, or were about to that spring. Already this SFP thing was starting to feel more serious than we\\'d intended.\\n\\nWe invited about 20 of the 225 groups to interview in person, and from those we picked 8 to fund. They were an impressive group. That first batch included reddit, Justin Kan and Emmett Shear, who went on to found Twitch, Aaron Swartz, who had already helped write the RSS spec and would a few years later become a martyr for open access, and Sam Altman, who would later become the second president of YC. I don\\'t think it was entirely luck that the first batch was so good. You had to be pretty bold to sign up for a weird thing like the Summer Founders Program instead of a summer job at a legit place like Microsoft or Goldman Sachs.\\n\\nThe deal for startups was based on a combination of the deal we did with Julian ($10k for 10%) and what Robert said MIT grad students got for the summer ($6k). We invested $6k per founder, which in the typical two-founder case was $12k, in return for 6%. That had to be fair, because it was twice as good as the deal we ourselves had taken. Plus that first summer, which was really hot, Jessica brought the founders free air conditioners. [16]\\n\\nFairly quickly I realized that we had stumbled upon the way to scale startup funding. Funding startups in batches was more convenient for us, because it meant we could do things for a lot of startups at once, but being part of a batch was better for the startups too. It solved one of the biggest problems faced by founders: the isolation. Now you not only had colleagues, but colleagues who understood the problems you were facing and could tell you how they were solving them.\\n\\nAs YC grew, we started to notice other advantages of scale. The alumni became a tight community, dedicated to helping one another, and especially the current batch, whose shoes they remembered being in. We also noticed that the startups were becoming one another\\'s customers. We used to refer jokingly to the \"YC GDP,\" but as YC grows this becomes less and less of a joke. Now lots of startups get their initial set of customers almost entirely from among their batchmates.\\n\\nI had not originally intended YC to be a full-time job. I was going to do three things: hack, write essays, and work on YC. As YC grew, and I grew more excited about it, it started to take up a lot more than a third of my attention. But for the first few years I was still able to work on other things.\\n\\nIn the summer of 2006, Robert and I started working on a new version of Arc. This one was reasonably fast, because it was compiled into Scheme. To test this new Arc, I wrote Hacker News in it. It was originally meant to be a news aggregator for startup founders and was called Startup News, but after a few months I got tired of reading about nothing but startups. Plus it wasn\\'t startup founders we wanted to reach. It was future startup founders. So I changed the name to Hacker News and the topic to whatever engaged one\\'s intellectual curiosity.\\n\\nHN was no doubt good for YC, but it was also by far the biggest source of stress for me. If all I\\'d had to do was select and help founders, life would have been so easy. And that implies that HN was a mistake. Surely the biggest source of stress in one\\'s work should at least be something close to the core of the work. Whereas I was like someone who was in pain while running a marathon not from the exertion of running, but because I had a blister from an ill-fitting shoe. When I was dealing with some urgent problem during YC, there was about a 60% chance it had to do with HN, and a 40% chance it had do with everything else combined. [17]\\n\\nAs well as HN, I wrote all of YC\\'s internal software in Arc. But while I continued to work a good deal in Arc, I gradually stopped working on Arc, partly because I didn\\'t have time to, and partly because it was a lot less attractive to mess around with the language now that we had all this infrastructure depending on it. So now my three projects were reduced to two: writing essays and working on YC.\\n\\nYC was different from other kinds of work I\\'ve done. Instead of deciding for myself what to work on, the problems came to me. Every 6 months there was a new batch of startups, and their problems, whatever they were, became our problems. It was very engaging work, because their problems were quite varied, and the good founders were very effective. If you were trying to learn the most you could about startups in the shortest possible time, you couldn\\'t have picked a better way to do it.\\n\\nThere were parts of the job I didn\\'t like. Disputes between cofounders, figuring out when people were lying to us, fighting with people who maltreated the startups, and so on. But I worked hard even at the parts I didn\\'t like. I was haunted by something Kevin Hale once said about companies: \"No one works harder than the boss.\" He meant it both descriptively and prescriptively, and it was the second part that scared me. I wanted YC to be good, so if how hard I worked set the upper bound on how hard everyone else worked, I\\'d better work very hard.\\n\\nOne day in 2010, when he was visiting California for interviews, Robert Morris did something astonishing: he offered me unsolicited advice. I can only remember him doing that once before. One day at Viaweb, when I was bent over double from a kidney stone, he suggested that it would be a good idea for him to take me to the hospital. That was what it took for Rtm to offer unsolicited advice. So I remember his exact words very clearly. \"You know,\" he said, \"you should make sure Y Combinator isn\\'t the last cool thing you do.\"\\n\\nAt the time I didn\\'t understand what he meant, but gradually it dawned on me that he was saying I should quit. This seemed strange advice, because YC was doing great. But if there was one thing rarer than Rtm offering advice, it was Rtm being wrong. So this set me thinking. It was true that on my current trajectory, YC would be the last thing I did, because it was only taking up more of my attention. It had already eaten Arc, and was in the process of eating essays too. Either YC was my life\\'s work or I\\'d have to leave eventually. And it wasn\\'t, so I would.\\n\\nIn the summer of 2012 my mother had a stroke, and the cause turned out to be a blood clot caused by colon cancer. The stroke destroyed her balance, and she was put in a nursing home, but she really wanted to get out of it and back to her house, and my sister and I were determined to help her do it. I used to fly up to Oregon to visit her regularly, and I had a lot of time to think on those flights. On one of them I realized I was ready to hand YC over to someone else.\\n\\nI asked Jessica if she wanted to be president, but she didn\\'t, so we decided we\\'d try to recruit Sam Altman. We talked to Robert and Trevor and we agreed to make it a complete changing of the guard. Up till that point YC had been controlled by the original LLC we four had started. But we wanted YC to last for a long time, and to do that it couldn\\'t be controlled by the founders. So if Sam said yes, we\\'d let him reorganize YC. Robert and I would retire, and Jessica and Trevor would become ordinary partners.\\n\\nWhen we asked Sam if he wanted to be president of YC, initially he said no. He wanted to start a startup to make nuclear reactors. But I kept at it, and in October 2013 he finally agreed. We decided he\\'d take over starting with the winter 2014 batch. For the rest of 2013 I left running YC more and more to Sam, partly so he could learn the job, and partly because I was focused on my mother, whose cancer had returned.\\n\\nShe died on January 15, 2014. We knew this was coming, but it was still hard when it did.\\n\\nI kept working on YC till March, to help get that batch of startups through Demo Day, then I checked out pretty completely. (I still talk to alumni and to new startups working on things I\\'m interested in, but that only takes a few hours a week.)\\n\\nWhat should I do next? Rtm\\'s advice hadn\\'t included anything about that. I wanted to do something completely different, so I decided I\\'d paint. I wanted to see how good I could get if I really focused on it. So the day after I stopped working on YC, I started painting. I was rusty and it took a while to get back into shape, but it was at least completely engaging. [18]\\n\\nI spent most of the rest of 2014 painting. I\\'d never been able to work so uninterruptedly before, and I got to be better than I had been. Not good enough, but better. Then in November, right in the middle of a painting, I ran out of steam. Up till that point I\\'d always been curious to see how the painting I was working on would turn out, but suddenly finishing this one seemed like a chore. So I stopped working on it and cleaned my brushes and haven\\'t painted since. So far anyway.\\n\\nI realize that sounds rather wimpy. But attention is a zero sum game. If you can choose what to work on, and you choose a project that\\'s not the best one (or at least a good one) for you, then it\\'s getting in the way of another project that is. And at 50 there was some opportunity cost to screwing around.\\n\\nI started writing essays again, and wrote a bunch of new ones over the next few months. I even wrote a couple that weren\\'t about startups. Then in March 2015 I started working on Lisp again.\\n\\nThe distinctive thing about Lisp is that its core is a language defined by writing an interpreter in itself. It wasn\\'t originally intended as a programming language in the ordinary sense. It was meant to be a formal model of computation, an alternative to the Turing machine. If you want to write an interpreter for a language in itself, what\\'s the minimum set of predefined operators you need? The Lisp that John McCarthy invented, or more accurately discovered, is an answer to that question. [19]\\n\\nMcCarthy didn\\'t realize this Lisp could even be used to program computers till his grad student Steve Russell suggested it. Russell translated McCarthy\\'s interpreter into IBM 704 machine language, and from that point Lisp started also to be a programming language in the ordinary sense. But its origins as a model of computation gave it a power and elegance that other languages couldn\\'t match. It was this that attracted me in college, though I didn\\'t understand why at the time.\\n\\nMcCarthy\\'s 1960 Lisp did nothing more than interpret Lisp expressions. It was missing a lot of things you\\'d want in a programming language. So these had to be added, and when they were, they weren\\'t defined using McCarthy\\'s original axiomatic approach. That wouldn\\'t have been feasible at the time. McCarthy tested his interpreter by hand-simulating the execution of programs. But it was already getting close to the limit of interpreters you could test that way — indeed, there was a bug in it that McCarthy had overlooked. To test a more complicated interpreter, you\\'d have had to run it, and computers then weren\\'t powerful enough.\\n\\nNow they are, though. Now you could continue using McCarthy\\'s axiomatic approach till you\\'d defined a complete programming language. And as long as every change you made to McCarthy\\'s Lisp was a discoveredness-preserving transformation, you could, in principle, end up with a complete language that had this quality. Harder to do than to talk about, of course, but if it was possible in principle, why not try? So I decided to take a shot at it. It took 4 years, from March 26, 2015 to October 12, 2019. It was fortunate that I had a precisely defined goal, or it would have been hard to keep at it for so long.\\n\\nI wrote this new Lisp, called Bel, in itself in Arc. That may sound like a contradiction, but it\\'s an indication of the sort of trickery I had to engage in to make this work. By means of an egregious collection of hacks I managed to make something close enough to an interpreter written in itself that could actually run. Not fast, but fast enough to test.\\n\\nI had to ban myself from writing essays during most of this time, or I\\'d never have finished. In late 2015 I spent 3 months writing essays, and when I went back to working on Bel I could barely understand the code. Not so much because it was badly written as because the problem is so convoluted. When you\\'re working on an interpreter written in itself, it\\'s hard to keep track of what\\'s happening at what level, and errors can be practically encrypted by the time you get them.\\n\\nSo I said no more essays till Bel was done. But I told few people about Bel while I was working on it. So for years it must have seemed that I was doing nothing, when in fact I was working harder than I\\'d ever worked on anything. Occasionally after wrestling for hours with some gruesome bug I\\'d check Twitter or HN and see someone asking \"Does Paul Graham still code?\"\\n\\nWorking on Bel was hard but satisfying. I worked on it so intensively that at any given time I had a decent chunk of the code in my head and could write more there. I remember taking the boys to the coast on a sunny day in 2015 and figuring out how to deal with some problem involving continuations while I watched them play in the tide pools. It felt like I was doing life right. I remember that because I was slightly dismayed at how novel it felt. The good news is that I had more moments like this over the next few years.\\n\\nIn the summer of 2016 we moved to England. We wanted our kids to see what it was like living in another country, and since I was a British citizen by birth, that seemed the obvious choice. We only meant to stay for a year, but we liked it so much that we still live there. So most of Bel was written in England.\\n\\nIn the fall of 2019, Bel was finally finished. Like McCarthy\\'s original Lisp, it\\'s a spec rather than an implementation, although like McCarthy\\'s Lisp it\\'s a spec expressed as code.\\n\\nNow that I could write essays again, I wrote a bunch about topics I\\'d had stacked up. I kept writing essays through 2020, but I also started to think about other things I could work on. How should I choose what to do? Well, how had I chosen what to work on in the past? I wrote an essay for myself to answer that question, and I was surprised how long and messy the answer turned out to be. If this surprised me, who\\'d lived it, then I thought perhaps it would be interesting to other people, and encouraging to those with similarly messy lives. So I wrote a more detailed version for others to read, and this is the last sentence of it.\\n\\n\\n\\n\\n\\n\\n\\n\\n\\nNotes\\n\\n[1] My experience skipped a step in the evolution of computers: time-sharing machines with interactive OSes. I went straight from batch processing to microcomputers, which made microcomputers seem all the more exciting.\\n\\n[2] Italian words for abstract concepts can nearly always be predicted from their English cognates (except for occasional traps like polluzione). It\\'s the everyday words that differ. So if you string together a lot of abstract concepts with a few simple verbs, you can make a little Italian go a long way.\\n\\n[3] I lived at Piazza San Felice 4, so my walk to the Accademia went straight down the spine of old Florence: past the Pitti, across the bridge, past Orsanmichele, between the Duomo and the Baptistery, and then up Via Ricasoli to Piazza San Marco. I saw Florence at street level in every possible condition, from empty dark winter evenings to sweltering summer days when the streets were packed with tourists.\\n\\n[4] You can of course paint people like still lives if you want to, and they\\'re willing. That sort of portrait is arguably the apex of still life painting, though the long sitting does tend to produce pained expressions in the sitters.\\n\\n[5] Interleaf was one of many companies that had smart people and built impressive technology, and yet got crushed by Moore\\'s Law. In the 1990s the exponential growth in the power of commodity (i.e. Intel) processors rolled up high-end, special-purpose hardware and software companies like a bulldozer.\\n\\n[6] The signature style seekers at RISD weren\\'t specifically mercenary. In the art world, money and coolness are tightly coupled. Anything expensive comes to be seen as cool, and anything seen as cool will soon become equally expensive.\\n\\n[7] Technically the apartment wasn\\'t rent-controlled but rent-stabilized, but this is a refinement only New Yorkers would know or care about. The point is that it was really cheap, less than half market price.\\n\\n[8] Most software you can launch as soon as it\\'s done. But when the software is an online store builder and you\\'re hosting the stores, if you don\\'t have any users yet, that fact will be painfully obvious. So before we could launch publicly we had to launch privately, in the sense of recruiting an initial set of users and making sure they had decent-looking stores.\\n\\n[9] We\\'d had a code editor in Viaweb for users to define their own page styles. They didn\\'t know it, but they were editing Lisp expressions underneath. But this wasn\\'t an app editor, because the code ran when the merchants\\' sites were generated, not when shoppers visited them.\\n\\n[10] This was the first instance of what is now a familiar experience, and so was what happened next, when I read the comments and found they were full of angry people. How could I claim that Lisp was better than other languages? Weren\\'t they all Turing complete? People who see the responses to essays I write sometimes tell me how sorry they feel for me, but I\\'m not exaggerating when I reply that it has always been like this, since the very beginning. It comes with the territory. An essay must tell readers things they don\\'t already know, and some people dislike being told such things.\\n\\n[11] People put plenty of stuff on the internet in the 90s of course, but putting something online is not the same as publishing it online. Publishing online means you treat the online version as the (or at least a) primary version.\\n\\n[12] There is a general lesson here that our experience with Y Combinator also teaches: Customs continue to constrain you long after the restrictions that caused them have disappeared. Customary VC practice had once, like the customs about publishing essays, been based on real constraints. Startups had once been much more expensive to start, and proportionally rare. Now they could be cheap and common, but the VCs\\' customs still reflected the old world, just as customs about writing essays still reflected the constraints of the print era.\\n\\nWhich in turn implies that people who are independent-minded (i.e. less influenced by custom) will have an advantage in fields affected by rapid change (where customs are more likely to be obsolete).\\n\\nHere\\'s an interesting point, though: you can\\'t always predict which fields will be affected by rapid change. Obviously software and venture capital will be, but who would have predicted that essay writing would be?\\n\\n[13] Y Combinator was not the original name. At first we were called Cambridge Seed. But we didn\\'t want a regional name, in case someone copied us in Silicon Valley, so we renamed ourselves after one of the coolest tricks in the lambda calculus, the Y combinator.\\n\\nI picked orange as our color partly because it\\'s the warmest, and partly because no VC used it. In 2005 all the VCs used staid colors like maroon, navy blue, and forest green, because they were trying to appeal to LPs, not founders. The YC logo itself is an inside joke: the Viaweb logo had been a white V on a red circle, so I made the YC logo a white Y on an orange square.\\n\\n[14] YC did become a fund for a couple years starting in 2009, because it was getting so big I could no longer afford to fund it personally. But after Heroku got bought we had enough money to go back to being self-funded.\\n\\n[15] I\\'ve never liked the term \"deal flow,\" because it implies that the number of new startups at any given time is fixed. This is not only false, but it\\'s the purpose of YC to falsify it, by causing startups to be founded that would not otherwise have existed.\\n\\n[16] She reports that they were all different shapes and sizes, because there was a run on air conditioners and she had to get whatever she could, but that they were all heavier than she could carry now.\\n\\n[17] Another problem with HN was a bizarre edge case that occurs when you both write essays and run a forum. When you run a forum, you\\'re assumed to see if not every conversation, at least every conversation involving you. And when you write essays, people post highly imaginative misinterpretations of them on forums. Individually these two phenomena are tedious but bearable, but the combination is disastrous. You actually have to respond to the misinterpretations, because the assumption that you\\'re present in the conversation means that not responding to any sufficiently upvoted misinterpretation reads as a tacit admission that it\\'s correct. But that in turn encourages more; anyone who wants to pick a fight with you senses that now is their chance.\\n\\n[18] The worst thing about leaving YC was not working with Jessica anymore. We\\'d been working on YC almost the whole time we\\'d known each other, and we\\'d neither tried nor wanted to separate it from our personal lives, so leaving was like pulling up a deeply rooted tree.\\n\\n[19] One way to get more precise about the concept of invented vs discovered is to talk about space aliens. Any sufficiently advanced alien civilization would certainly know about the Pythagorean theorem, for example. I believe, though with less certainty, that they would also know about the Lisp in McCarthy\\'s 1960 paper.\\n\\nBut if so there\\'s no reason to suppose that this is the limit of the language that might be known to them. Presumably aliens need numbers and errors and I/O too. So it seems likely there exists at least one path out of McCarthy\\'s Lisp along which discoveredness is preserved.\\n\\n\\n\\nThanks to Trevor Blackwell, John Collison, Patrick Collison, Daniel Gackle, Ralph Hazell, Jessica Livingston, Robert Morris, and Harj Taggar for reading drafts of this.\\n', mimetype='text/plain', start_char_idx=None, end_char_idx=None, text_template='{metadata_str}\\n\\n{content}', metadata_template='{key}: {value}', metadata_seperator='\\n')}"
      ]
     },
     "execution_count": 34,
     "metadata": {},
     "output_type": "execute_result"
    }
   ],
   "source": [
    "doc_store.docs"
   ]
  },
  {
   "cell_type": "code",
   "execution_count": 35,
   "id": "a9b088dc-a2ab-4cda-b3c0-b6a1126adbe9",
   "metadata": {},
   "outputs": [
    {
     "name": "stdout",
     "output_type": "stream",
     "text": [
      "data/paul_graham_essay.txt\n"
     ]
    }
   ],
   "source": [
    "for i in doc_store.docs.keys():\n",
    "    print(i)"
   ]
  },
  {
   "cell_type": "code",
   "execution_count": 36,
   "id": "b0c9f51d-e16d-49d9-9492-3c5e265b60b3",
   "metadata": {},
   "outputs": [
    {
     "data": {
      "text/plain": [
       "'48f3b379e825cf288ae03eb7b6746d9f6703c698ab5b0ec7b83426fa8725d5dc'"
      ]
     },
     "execution_count": 36,
     "metadata": {},
     "output_type": "execute_result"
    }
   ],
   "source": [
    "doc_store.docs['data/paul_graham_essay.txt'].hash"
   ]
  },
  {
   "cell_type": "code",
   "execution_count": 37,
   "id": "f9a6c6d2-26f7-4a25-b72c-7c2621a6282a",
   "metadata": {},
   "outputs": [
    {
     "data": {
      "text/plain": [
       "'48f3b379e825cf288ae03eb7b6746d9f6703c698ab5b0ec7b83426fa8725d5dc'"
      ]
     },
     "execution_count": 37,
     "metadata": {},
     "output_type": "execute_result"
    }
   ],
   "source": [
    "documents[0].hash"
   ]
  },
  {
   "cell_type": "code",
   "execution_count": 38,
   "id": "d0ae754d-0fae-45e2-b19b-4bebb83219f5",
   "metadata": {},
   "outputs": [
    {
     "data": {
      "text/plain": [
       "{'48f3b379e825cf288ae03eb7b6746d9f6703c698ab5b0ec7b83426fa8725d5dc': 'data/paul_graham_essay.txt'}"
      ]
     },
     "execution_count": 38,
     "metadata": {},
     "output_type": "execute_result"
    }
   ],
   "source": [
    "doc_store.get_all_document_hashes()"
   ]
  },
  {
   "cell_type": "code",
   "execution_count": 39,
   "id": "9aaf275a-2a88-4905-9788-d437bbb33426",
   "metadata": {},
   "outputs": [],
   "source": [
    "chroma_client = chromadb.PersistentClient(path=\"./chroma_db\")"
   ]
  },
  {
   "cell_type": "code",
   "execution_count": 40,
   "id": "b918aee8-0837-44e1-8214-fc93c56f4623",
   "metadata": {},
   "outputs": [
    {
     "data": {
      "text/plain": [
       "1"
      ]
     },
     "execution_count": 40,
     "metadata": {},
     "output_type": "execute_result"
    }
   ],
   "source": [
    "chroma_client.count_collections()"
   ]
  },
  {
   "cell_type": "code",
   "execution_count": 41,
   "id": "d942ba2a-24f9-4c47-89d3-252e3f515be8",
   "metadata": {},
   "outputs": [],
   "source": [
    "chroma_collection = chroma_client.get_or_create_collection(\"paul_essay\")"
   ]
  },
  {
   "cell_type": "code",
   "execution_count": 42,
   "id": "379e87c1-256a-4539-b7fb-dcd1d00d3490",
   "metadata": {},
   "outputs": [
    {
     "data": {
      "text/plain": [
       "[Collection(name=paul_essay)]"
      ]
     },
     "execution_count": 42,
     "metadata": {},
     "output_type": "execute_result"
    }
   ],
   "source": [
    "chroma_client.list_collections()"
   ]
  },
  {
   "cell_type": "code",
   "execution_count": 43,
   "id": "6ec8e1f2-2907-43c9-a79b-15640bf46685",
   "metadata": {},
   "outputs": [
    {
     "data": {
      "text/plain": [
       "47"
      ]
     },
     "execution_count": 43,
     "metadata": {},
     "output_type": "execute_result"
    }
   ],
   "source": [
    "chroma_collection.count()"
   ]
  },
  {
   "cell_type": "code",
   "execution_count": 44,
   "id": "15f0b61d-a4b9-4261-acf6-84b5ace3303a",
   "metadata": {
    "scrolled": true
   },
   "outputs": [
    {
     "data": {
      "text/plain": [
       "{'ids': ['05ffd0b1-1bcc-4fc1-adf6-d00ca14ba8a3',\n",
       "  '0e99333f-5d85-4eac-9bf3-8e1702e73e45',\n",
       "  '0feabd85-759d-467c-9370-9145573e668a',\n",
       "  '12124b7a-6b9f-4761-a36a-d20d374f5ec5',\n",
       "  '19b26c9f-977d-4444-9857-998b5ae1986c',\n",
       "  '21e3d7ce-75e1-4847-9197-2ab0b9210dad',\n",
       "  '29bb4441-e404-431f-a474-0bf23a191063',\n",
       "  '29cebd28-0234-432c-aeea-74cc32639cf8',\n",
       "  '2aeb9044-3857-4fad-8541-b96b45bfb7fc',\n",
       "  '309fbdb4-eb98-43de-9580-3890dc6d1128',\n",
       "  '3193e1a8-a068-4d10-94a3-3432e6ceaacd',\n",
       "  '32005ce9-b109-4fb8-9928-dedf64eee000',\n",
       "  '3540f211-0fdc-429d-b366-0484188a6c4e',\n",
       "  '42d97852-fdee-459c-b3af-e541bc4eef92',\n",
       "  '47e36330-f7c7-41ba-8048-8782a9c14b5c',\n",
       "  '5217fe28-a8ae-4ff9-bf73-4143e30f28a7',\n",
       "  '560af57d-391d-4886-b434-68532964aa11',\n",
       "  '57d4e51c-ed24-4af0-9c3c-71989852b953',\n",
       "  '5a2dfe6d-c8a3-464d-99ab-5add5032eb2f',\n",
       "  '5c5630f3-4acf-4e73-b722-e3bda9964a03',\n",
       "  '5db817b4-e925-454f-a6af-1d323c7d7e6a',\n",
       "  '5e784a9a-b642-4dde-8933-244ce96d2652',\n",
       "  '6880f29f-8015-460a-ba53-fb3e27b3fd71',\n",
       "  '6a5d88bd-65a3-4394-adba-76711ed263d1',\n",
       "  '6cfa2afb-cf70-470c-851f-0f859939ee81',\n",
       "  '741c6c61-4b48-4f1a-9e5f-d3b8039b93fe',\n",
       "  '8a3f2503-8b0f-4ac8-97bc-fb679ef0820d',\n",
       "  '8d0a94e6-6da7-4576-a4a4-799be95752a4',\n",
       "  '8ee70872-e17f-4d77-8af8-d60d7a10489e',\n",
       "  '94e84d9f-b1f9-4d16-945e-7521cb8097cf',\n",
       "  '9677e6a8-14de-4b72-be23-8eb02fb21988',\n",
       "  '9df02686-5b04-41f0-84b5-ba9ce30e5519',\n",
       "  'a1895cee-17c5-4744-8f89-a5326515717e',\n",
       "  'a65b346c-aba5-4960-8373-59a25c108e4b',\n",
       "  'acd9cd8e-fc40-4b0c-bdf8-18242b248a0e',\n",
       "  'b4fac5b6-258a-4daa-a43f-78c249a33cd1',\n",
       "  'b770821a-4fe7-4ad2-9929-7a25e13b30d0',\n",
       "  'b9861eed-acc9-4c21-bab2-f16635890896',\n",
       "  'c8df8580-779c-4b01-b072-d236c93b2250',\n",
       "  'cac2a750-40cf-492a-aaeb-a4402b83c03a',\n",
       "  'cb011e7d-139a-4b0f-b573-7411de78dccd',\n",
       "  'd62d524e-c1db-438c-9cf4-68e8e05161a3',\n",
       "  'd82d5109-a07d-4280-8367-aaaf2848bd3a',\n",
       "  'dc3bcc31-d6b8-45a1-9421-a59b3af609f3',\n",
       "  'ece2bbc0-1fae-47ee-a5f6-e84c7f755578',\n",
       "  'f4b32e16-afef-4a0b-8110-77e5ae5296c2',\n",
       "  'f7272bb3-abe3-4619-8845-b7d71ab41eff'],\n",
       " 'embeddings': None,\n",
       " 'metadatas': [{'_node_content': '{\"id_\": \"05ffd0b1-1bcc-4fc1-adf6-d00ca14ba8a3\", \"embedding\": null, \"metadata\": {\"file_path\": \"data/paul_graham_essay.txt\", \"file_name\": \"paul_graham_essay.txt\", \"file_type\": \"text/plain\", \"file_size\": 75042, \"creation_date\": \"2024-04-16\", \"last_modified_date\": \"2024-04-15\", \"author\": \"paul_graham\"}, \"excluded_embed_metadata_keys\": [\"file_name\", \"file_type\", \"file_size\", \"creation_date\", \"last_modified_date\", \"last_accessed_date\"], \"excluded_llm_metadata_keys\": [\"file_name\", \"file_type\", \"file_size\", \"creation_date\", \"last_modified_date\", \"last_accessed_date\"], \"relationships\": {\"1\": {\"node_id\": \"data/paul_graham_essay.txt\", \"node_type\": \"4\", \"metadata\": {\"file_path\": \"data/paul_graham_essay.txt\", \"file_name\": \"paul_graham_essay.txt\", \"file_type\": \"text/plain\", \"file_size\": 75042, \"creation_date\": \"2024-04-16\", \"last_modified_date\": \"2024-04-15\", \"author\": \"paul_graham\"}, \"hash\": \"48f3b379e825cf288ae03eb7b6746d9f6703c698ab5b0ec7b83426fa8725d5dc\", \"class_name\": \"RelatedNodeInfo\"}, \"2\": {\"node_id\": \"29cebd28-0234-432c-aeea-74cc32639cf8\", \"node_type\": \"1\", \"metadata\": {\"file_path\": \"data/paul_graham_essay.txt\", \"file_name\": \"paul_graham_essay.txt\", \"file_type\": \"text/plain\", \"file_size\": 75042, \"creation_date\": \"2024-04-16\", \"last_modified_date\": \"2024-04-15\", \"author\": \"paul_graham\"}, \"hash\": \"a7a57c9c2aa7911f1441bb52debb00a7c1cc257db5ac72d4b5078cbbe2510092\", \"class_name\": \"RelatedNodeInfo\"}, \"3\": {\"node_id\": \"a65b346c-aba5-4960-8373-59a25c108e4b\", \"node_type\": \"1\", \"metadata\": {}, \"hash\": \"ccbe6b003e2d62b26a215b15063afd7751066207349741d87028eb0d3942248d\", \"class_name\": \"RelatedNodeInfo\"}}, \"text\": \"\", \"mimetype\": \"text/plain\", \"start_char_idx\": 44529, \"end_char_idx\": 46599, \"text_template\": \"{metadata_str}\\\\n\\\\n{content}\", \"metadata_template\": \"{key}: {value}\", \"metadata_seperator\": \"\\\\n\", \"class_name\": \"TextNode\"}',\n",
       "   '_node_type': 'TextNode',\n",
       "   'author': 'paul_graham',\n",
       "   'creation_date': '2024-04-16',\n",
       "   'doc_id': 'data/paul_graham_essay.txt',\n",
       "   'document_id': 'data/paul_graham_essay.txt',\n",
       "   'file_name': 'paul_graham_essay.txt',\n",
       "   'file_path': 'data/paul_graham_essay.txt',\n",
       "   'file_size': 75042,\n",
       "   'file_type': 'text/plain',\n",
       "   'last_modified_date': '2024-04-15',\n",
       "   'ref_doc_id': 'data/paul_graham_essay.txt'},\n",
       "  {'_node_content': '{\"id_\": \"0e99333f-5d85-4eac-9bf3-8e1702e73e45\", \"embedding\": null, \"metadata\": {\"file_path\": \"data/paul_graham_essay.txt\", \"file_name\": \"paul_graham_essay.txt\", \"file_type\": \"text/plain\", \"file_size\": 75042, \"creation_date\": \"2024-04-16\", \"last_modified_date\": \"2024-04-15\", \"author\": \"paul_graham\"}, \"excluded_embed_metadata_keys\": [\"file_name\", \"file_type\", \"file_size\", \"creation_date\", \"last_modified_date\", \"last_accessed_date\"], \"excluded_llm_metadata_keys\": [\"file_name\", \"file_type\", \"file_size\", \"creation_date\", \"last_modified_date\", \"last_accessed_date\"], \"relationships\": {\"1\": {\"node_id\": \"data/paul_graham_essay.txt\", \"node_type\": \"4\", \"metadata\": {\"file_path\": \"data/paul_graham_essay.txt\", \"file_name\": \"paul_graham_essay.txt\", \"file_type\": \"text/plain\", \"file_size\": 75042, \"creation_date\": \"2024-04-16\", \"last_modified_date\": \"2024-04-15\", \"author\": \"paul_graham\"}, \"hash\": \"48f3b379e825cf288ae03eb7b6746d9f6703c698ab5b0ec7b83426fa8725d5dc\", \"class_name\": \"RelatedNodeInfo\"}, \"2\": {\"node_id\": \"5217fe28-a8ae-4ff9-bf73-4143e30f28a7\", \"node_type\": \"1\", \"metadata\": {\"file_path\": \"data/paul_graham_essay.txt\", \"file_name\": \"paul_graham_essay.txt\", \"file_type\": \"text/plain\", \"file_size\": 75042, \"creation_date\": \"2024-04-16\", \"last_modified_date\": \"2024-04-15\", \"author\": \"paul_graham\"}, \"hash\": \"56a1f165a813aba4221d8e851aabc67ed223a29e723b1a0e336b9f96948dd167\", \"class_name\": \"RelatedNodeInfo\"}, \"3\": {\"node_id\": \"d62d524e-c1db-438c-9cf4-68e8e05161a3\", \"node_type\": \"1\", \"metadata\": {}, \"hash\": \"44d15de67f0d595a3b8f113381b4052164672569184576118097161a033c5baf\", \"class_name\": \"RelatedNodeInfo\"}}, \"text\": \"\", \"mimetype\": \"text/plain\", \"start_char_idx\": 22190, \"end_char_idx\": 24187, \"text_template\": \"{metadata_str}\\\\n\\\\n{content}\", \"metadata_template\": \"{key}: {value}\", \"metadata_seperator\": \"\\\\n\", \"class_name\": \"TextNode\"}',\n",
       "   '_node_type': 'TextNode',\n",
       "   'author': 'paul_graham',\n",
       "   'creation_date': '2024-04-16',\n",
       "   'doc_id': 'data/paul_graham_essay.txt',\n",
       "   'document_id': 'data/paul_graham_essay.txt',\n",
       "   'file_name': 'paul_graham_essay.txt',\n",
       "   'file_path': 'data/paul_graham_essay.txt',\n",
       "   'file_size': 75042,\n",
       "   'file_type': 'text/plain',\n",
       "   'last_modified_date': '2024-04-15',\n",
       "   'ref_doc_id': 'data/paul_graham_essay.txt'},\n",
       "  {'_node_content': '{\"id_\": \"0feabd85-759d-467c-9370-9145573e668a\", \"embedding\": null, \"metadata\": {\"file_path\": \"data/paul_graham_essay.txt\", \"file_name\": \"paul_graham_essay.txt\", \"file_type\": \"text/plain\", \"file_size\": 75042, \"creation_date\": \"2024-04-16\", \"last_modified_date\": \"2024-04-15\", \"author\": \"paul_graham\"}, \"excluded_embed_metadata_keys\": [\"file_name\", \"file_type\", \"file_size\", \"creation_date\", \"last_modified_date\", \"last_accessed_date\"], \"excluded_llm_metadata_keys\": [\"file_name\", \"file_type\", \"file_size\", \"creation_date\", \"last_modified_date\", \"last_accessed_date\"], \"relationships\": {\"1\": {\"node_id\": \"data/paul_graham_essay.txt\", \"node_type\": \"4\", \"metadata\": {\"file_path\": \"data/paul_graham_essay.txt\", \"file_name\": \"paul_graham_essay.txt\", \"file_type\": \"text/plain\", \"file_size\": 75042, \"creation_date\": \"2024-04-16\", \"last_modified_date\": \"2024-04-15\", \"author\": \"paul_graham\"}, \"hash\": \"48f3b379e825cf288ae03eb7b6746d9f6703c698ab5b0ec7b83426fa8725d5dc\", \"class_name\": \"RelatedNodeInfo\"}, \"2\": {\"node_id\": \"ece2bbc0-1fae-47ee-a5f6-e84c7f755578\", \"node_type\": \"1\", \"metadata\": {\"file_path\": \"data/paul_graham_essay.txt\", \"file_name\": \"paul_graham_essay.txt\", \"file_type\": \"text/plain\", \"file_size\": 75042, \"creation_date\": \"2024-04-16\", \"last_modified_date\": \"2024-04-15\", \"author\": \"paul_graham\"}, \"hash\": \"6b347bdebff718a26f1b4a4b9ded3cd6f32c4e263118d967d4a621b723f9b78f\", \"class_name\": \"RelatedNodeInfo\"}, \"3\": {\"node_id\": \"cac2a750-40cf-492a-aaeb-a4402b83c03a\", \"node_type\": \"1\", \"metadata\": {}, \"hash\": \"58862966a72b68b6f207d9a4b4b8ecfedb428c015e6fe7b01c7918f16cb788b9\", \"class_name\": \"RelatedNodeInfo\"}}, \"text\": \"\", \"mimetype\": \"text/plain\", \"start_char_idx\": 6138, \"end_char_idx\": 8287, \"text_template\": \"{metadata_str}\\\\n\\\\n{content}\", \"metadata_template\": \"{key}: {value}\", \"metadata_seperator\": \"\\\\n\", \"class_name\": \"TextNode\"}',\n",
       "   '_node_type': 'TextNode',\n",
       "   'author': 'paul_graham',\n",
       "   'creation_date': '2024-04-16',\n",
       "   'doc_id': 'data/paul_graham_essay.txt',\n",
       "   'document_id': 'data/paul_graham_essay.txt',\n",
       "   'file_name': 'paul_graham_essay.txt',\n",
       "   'file_path': 'data/paul_graham_essay.txt',\n",
       "   'file_size': 75042,\n",
       "   'file_type': 'text/plain',\n",
       "   'last_modified_date': '2024-04-15',\n",
       "   'ref_doc_id': 'data/paul_graham_essay.txt'},\n",
       "  {'_node_content': '{\"id_\": \"12124b7a-6b9f-4761-a36a-d20d374f5ec5\", \"embedding\": null, \"metadata\": {\"file_path\": \"data/paul_graham_essay.txt\", \"file_name\": \"paul_graham_essay.txt\", \"file_type\": \"text/plain\", \"file_size\": 75042, \"creation_date\": \"2024-04-16\", \"last_modified_date\": \"2024-04-15\", \"author\": \"paul_graham\"}, \"excluded_embed_metadata_keys\": [\"file_name\", \"file_type\", \"file_size\", \"creation_date\", \"last_modified_date\", \"last_accessed_date\"], \"excluded_llm_metadata_keys\": [\"file_name\", \"file_type\", \"file_size\", \"creation_date\", \"last_modified_date\", \"last_accessed_date\"], \"relationships\": {\"1\": {\"node_id\": \"data/paul_graham_essay.txt\", \"node_type\": \"4\", \"metadata\": {\"file_path\": \"data/paul_graham_essay.txt\", \"file_name\": \"paul_graham_essay.txt\", \"file_type\": \"text/plain\", \"file_size\": 75042, \"creation_date\": \"2024-04-16\", \"last_modified_date\": \"2024-04-15\", \"author\": \"paul_graham\"}, \"hash\": \"48f3b379e825cf288ae03eb7b6746d9f6703c698ab5b0ec7b83426fa8725d5dc\", \"class_name\": \"RelatedNodeInfo\"}, \"2\": {\"node_id\": \"6cfa2afb-cf70-470c-851f-0f859939ee81\", \"node_type\": \"1\", \"metadata\": {\"file_path\": \"data/paul_graham_essay.txt\", \"file_name\": \"paul_graham_essay.txt\", \"file_type\": \"text/plain\", \"file_size\": 75042, \"creation_date\": \"2024-04-16\", \"last_modified_date\": \"2024-04-15\", \"author\": \"paul_graham\"}, \"hash\": \"370dc59e073814cd4583f43efb85dc374fb91caf27e89aad84569228dab8de97\", \"class_name\": \"RelatedNodeInfo\"}, \"3\": {\"node_id\": \"19b26c9f-977d-4444-9857-998b5ae1986c\", \"node_type\": \"1\", \"metadata\": {}, \"hash\": \"9d1331ad6fe3d1cf240ea131adf3b0fc9276ecc443f56b5f543f43c30b610a87\", \"class_name\": \"RelatedNodeInfo\"}}, \"text\": \"\", \"mimetype\": \"text/plain\", \"start_char_idx\": 34843, \"end_char_idx\": 36916, \"text_template\": \"{metadata_str}\\\\n\\\\n{content}\", \"metadata_template\": \"{key}: {value}\", \"metadata_seperator\": \"\\\\n\", \"class_name\": \"TextNode\"}',\n",
       "   '_node_type': 'TextNode',\n",
       "   'author': 'paul_graham',\n",
       "   'creation_date': '2024-04-16',\n",
       "   'doc_id': 'data/paul_graham_essay.txt',\n",
       "   'document_id': 'data/paul_graham_essay.txt',\n",
       "   'file_name': 'paul_graham_essay.txt',\n",
       "   'file_path': 'data/paul_graham_essay.txt',\n",
       "   'file_size': 75042,\n",
       "   'file_type': 'text/plain',\n",
       "   'last_modified_date': '2024-04-15',\n",
       "   'ref_doc_id': 'data/paul_graham_essay.txt'},\n",
       "  {'_node_content': '{\"id_\": \"19b26c9f-977d-4444-9857-998b5ae1986c\", \"embedding\": null, \"metadata\": {\"file_path\": \"data/paul_graham_essay.txt\", \"file_name\": \"paul_graham_essay.txt\", \"file_type\": \"text/plain\", \"file_size\": 75042, \"creation_date\": \"2024-04-16\", \"last_modified_date\": \"2024-04-15\", \"author\": \"paul_graham\"}, \"excluded_embed_metadata_keys\": [\"file_name\", \"file_type\", \"file_size\", \"creation_date\", \"last_modified_date\", \"last_accessed_date\"], \"excluded_llm_metadata_keys\": [\"file_name\", \"file_type\", \"file_size\", \"creation_date\", \"last_modified_date\", \"last_accessed_date\"], \"relationships\": {\"1\": {\"node_id\": \"data/paul_graham_essay.txt\", \"node_type\": \"4\", \"metadata\": {\"file_path\": \"data/paul_graham_essay.txt\", \"file_name\": \"paul_graham_essay.txt\", \"file_type\": \"text/plain\", \"file_size\": 75042, \"creation_date\": \"2024-04-16\", \"last_modified_date\": \"2024-04-15\", \"author\": \"paul_graham\"}, \"hash\": \"48f3b379e825cf288ae03eb7b6746d9f6703c698ab5b0ec7b83426fa8725d5dc\", \"class_name\": \"RelatedNodeInfo\"}, \"2\": {\"node_id\": \"12124b7a-6b9f-4761-a36a-d20d374f5ec5\", \"node_type\": \"1\", \"metadata\": {\"file_path\": \"data/paul_graham_essay.txt\", \"file_name\": \"paul_graham_essay.txt\", \"file_type\": \"text/plain\", \"file_size\": 75042, \"creation_date\": \"2024-04-16\", \"last_modified_date\": \"2024-04-15\", \"author\": \"paul_graham\"}, \"hash\": \"1345f9402d6a99dbbe8a97633c65e3c4ff9c007e749d10d3ca477a47ec95b609\", \"class_name\": \"RelatedNodeInfo\"}, \"3\": {\"node_id\": \"8a3f2503-8b0f-4ac8-97bc-fb679ef0820d\", \"node_type\": \"1\", \"metadata\": {}, \"hash\": \"65af5f103dec1781d061c2f35d05a4c363de3ffe191c77257ae74edddf161d28\", \"class_name\": \"RelatedNodeInfo\"}}, \"text\": \"\", \"mimetype\": \"text/plain\", \"start_char_idx\": 36554, \"end_char_idx\": 38624, \"text_template\": \"{metadata_str}\\\\n\\\\n{content}\", \"metadata_template\": \"{key}: {value}\", \"metadata_seperator\": \"\\\\n\", \"class_name\": \"TextNode\"}',\n",
       "   '_node_type': 'TextNode',\n",
       "   'author': 'paul_graham',\n",
       "   'creation_date': '2024-04-16',\n",
       "   'doc_id': 'data/paul_graham_essay.txt',\n",
       "   'document_id': 'data/paul_graham_essay.txt',\n",
       "   'file_name': 'paul_graham_essay.txt',\n",
       "   'file_path': 'data/paul_graham_essay.txt',\n",
       "   'file_size': 75042,\n",
       "   'file_type': 'text/plain',\n",
       "   'last_modified_date': '2024-04-15',\n",
       "   'ref_doc_id': 'data/paul_graham_essay.txt'},\n",
       "  {'_node_content': '{\"id_\": \"21e3d7ce-75e1-4847-9197-2ab0b9210dad\", \"embedding\": null, \"metadata\": {\"file_path\": \"data/paul_graham_essay.txt\", \"file_name\": \"paul_graham_essay.txt\", \"file_type\": \"text/plain\", \"file_size\": 75042, \"creation_date\": \"2024-04-16\", \"last_modified_date\": \"2024-04-15\", \"author\": \"paul_graham\"}, \"excluded_embed_metadata_keys\": [\"file_name\", \"file_type\", \"file_size\", \"creation_date\", \"last_modified_date\", \"last_accessed_date\"], \"excluded_llm_metadata_keys\": [\"file_name\", \"file_type\", \"file_size\", \"creation_date\", \"last_modified_date\", \"last_accessed_date\"], \"relationships\": {\"1\": {\"node_id\": \"data/paul_graham_essay.txt\", \"node_type\": \"4\", \"metadata\": {\"file_path\": \"data/paul_graham_essay.txt\", \"file_name\": \"paul_graham_essay.txt\", \"file_type\": \"text/plain\", \"file_size\": 75042, \"creation_date\": \"2024-04-16\", \"last_modified_date\": \"2024-04-15\", \"author\": \"paul_graham\"}, \"hash\": \"48f3b379e825cf288ae03eb7b6746d9f6703c698ab5b0ec7b83426fa8725d5dc\", \"class_name\": \"RelatedNodeInfo\"}, \"2\": {\"node_id\": \"f4b32e16-afef-4a0b-8110-77e5ae5296c2\", \"node_type\": \"1\", \"metadata\": {\"file_path\": \"data/paul_graham_essay.txt\", \"file_name\": \"paul_graham_essay.txt\", \"file_type\": \"text/plain\", \"file_size\": 75042, \"creation_date\": \"2024-04-16\", \"last_modified_date\": \"2024-04-15\", \"author\": \"paul_graham\"}, \"hash\": \"6941bb77f7bc0343dd21bb04cf0853e8bad5caefd3ad2be9401ab54c24b71dfa\", \"class_name\": \"RelatedNodeInfo\"}, \"3\": {\"node_id\": \"b4fac5b6-258a-4daa-a43f-78c249a33cd1\", \"node_type\": \"1\", \"metadata\": {}, \"hash\": \"2c4fa0aa3629a692cce2a8ab8d77bebd9ea3d574d9880f2308e9ef9a93d9fae7\", \"class_name\": \"RelatedNodeInfo\"}}, \"text\": \"\", \"mimetype\": \"text/plain\", \"start_char_idx\": 14179, \"end_char_idx\": 16272, \"text_template\": \"{metadata_str}\\\\n\\\\n{content}\", \"metadata_template\": \"{key}: {value}\", \"metadata_seperator\": \"\\\\n\", \"class_name\": \"TextNode\"}',\n",
       "   '_node_type': 'TextNode',\n",
       "   'author': 'paul_graham',\n",
       "   'creation_date': '2024-04-16',\n",
       "   'doc_id': 'data/paul_graham_essay.txt',\n",
       "   'document_id': 'data/paul_graham_essay.txt',\n",
       "   'file_name': 'paul_graham_essay.txt',\n",
       "   'file_path': 'data/paul_graham_essay.txt',\n",
       "   'file_size': 75042,\n",
       "   'file_type': 'text/plain',\n",
       "   'last_modified_date': '2024-04-15',\n",
       "   'ref_doc_id': 'data/paul_graham_essay.txt'},\n",
       "  {'_node_content': '{\"id_\": \"29bb4441-e404-431f-a474-0bf23a191063\", \"embedding\": null, \"metadata\": {\"file_path\": \"data/paul_graham_essay.txt\", \"file_name\": \"paul_graham_essay.txt\", \"file_type\": \"text/plain\", \"file_size\": 75042, \"creation_date\": \"2024-04-16\", \"last_modified_date\": \"2024-04-15\", \"author\": \"paul_graham\"}, \"excluded_embed_metadata_keys\": [\"file_name\", \"file_type\", \"file_size\", \"creation_date\", \"last_modified_date\", \"last_accessed_date\"], \"excluded_llm_metadata_keys\": [\"file_name\", \"file_type\", \"file_size\", \"creation_date\", \"last_modified_date\", \"last_accessed_date\"], \"relationships\": {\"1\": {\"node_id\": \"data/paul_graham_essay.txt\", \"node_type\": \"4\", \"metadata\": {\"file_path\": \"data/paul_graham_essay.txt\", \"file_name\": \"paul_graham_essay.txt\", \"file_type\": \"text/plain\", \"file_size\": 75042, \"creation_date\": \"2024-04-16\", \"last_modified_date\": \"2024-04-15\", \"author\": \"paul_graham\"}, \"hash\": \"48f3b379e825cf288ae03eb7b6746d9f6703c698ab5b0ec7b83426fa8725d5dc\", \"class_name\": \"RelatedNodeInfo\"}, \"2\": {\"node_id\": \"b9861eed-acc9-4c21-bab2-f16635890896\", \"node_type\": \"1\", \"metadata\": {\"file_path\": \"data/paul_graham_essay.txt\", \"file_name\": \"paul_graham_essay.txt\", \"file_type\": \"text/plain\", \"file_size\": 75042, \"creation_date\": \"2024-04-16\", \"last_modified_date\": \"2024-04-15\", \"author\": \"paul_graham\"}, \"hash\": \"517de3c6515d220a841d18c6181888b40bdf75857b14e3c0a3bbc446f722a66c\", \"class_name\": \"RelatedNodeInfo\"}, \"3\": {\"node_id\": \"560af57d-391d-4886-b434-68532964aa11\", \"node_type\": \"1\", \"metadata\": {}, \"hash\": \"3bfa2a0d6b8121fd0ffe3f737ec4fc4f31a2fb1c066bd79b8177bdb4be1ffe70\", \"class_name\": \"RelatedNodeInfo\"}}, \"text\": \"\", \"mimetype\": \"text/plain\", \"start_char_idx\": 52803, \"end_char_idx\": 54970, \"text_template\": \"{metadata_str}\\\\n\\\\n{content}\", \"metadata_template\": \"{key}: {value}\", \"metadata_seperator\": \"\\\\n\", \"class_name\": \"TextNode\"}',\n",
       "   '_node_type': 'TextNode',\n",
       "   'author': 'paul_graham',\n",
       "   'creation_date': '2024-04-16',\n",
       "   'doc_id': 'data/paul_graham_essay.txt',\n",
       "   'document_id': 'data/paul_graham_essay.txt',\n",
       "   'file_name': 'paul_graham_essay.txt',\n",
       "   'file_path': 'data/paul_graham_essay.txt',\n",
       "   'file_size': 75042,\n",
       "   'file_type': 'text/plain',\n",
       "   'last_modified_date': '2024-04-15',\n",
       "   'ref_doc_id': 'data/paul_graham_essay.txt'},\n",
       "  {'_node_content': '{\"id_\": \"29cebd28-0234-432c-aeea-74cc32639cf8\", \"embedding\": null, \"metadata\": {\"file_path\": \"data/paul_graham_essay.txt\", \"file_name\": \"paul_graham_essay.txt\", \"file_type\": \"text/plain\", \"file_size\": 75042, \"creation_date\": \"2024-04-16\", \"last_modified_date\": \"2024-04-15\", \"author\": \"paul_graham\"}, \"excluded_embed_metadata_keys\": [\"file_name\", \"file_type\", \"file_size\", \"creation_date\", \"last_modified_date\", \"last_accessed_date\"], \"excluded_llm_metadata_keys\": [\"file_name\", \"file_type\", \"file_size\", \"creation_date\", \"last_modified_date\", \"last_accessed_date\"], \"relationships\": {\"1\": {\"node_id\": \"data/paul_graham_essay.txt\", \"node_type\": \"4\", \"metadata\": {\"file_path\": \"data/paul_graham_essay.txt\", \"file_name\": \"paul_graham_essay.txt\", \"file_type\": \"text/plain\", \"file_size\": 75042, \"creation_date\": \"2024-04-16\", \"last_modified_date\": \"2024-04-15\", \"author\": \"paul_graham\"}, \"hash\": \"48f3b379e825cf288ae03eb7b6746d9f6703c698ab5b0ec7b83426fa8725d5dc\", \"class_name\": \"RelatedNodeInfo\"}, \"2\": {\"node_id\": \"cb011e7d-139a-4b0f-b573-7411de78dccd\", \"node_type\": \"1\", \"metadata\": {\"file_path\": \"data/paul_graham_essay.txt\", \"file_name\": \"paul_graham_essay.txt\", \"file_type\": \"text/plain\", \"file_size\": 75042, \"creation_date\": \"2024-04-16\", \"last_modified_date\": \"2024-04-15\", \"author\": \"paul_graham\"}, \"hash\": \"6cc07f8b1d2c0b1903ef9c4248882759ae8812aee565505cb3ab15d2cfeca027\", \"class_name\": \"RelatedNodeInfo\"}, \"3\": {\"node_id\": \"05ffd0b1-1bcc-4fc1-adf6-d00ca14ba8a3\", \"node_type\": \"1\", \"metadata\": {}, \"hash\": \"6bfb4628c9b3d9ea26f3ac43b86b92d9ee050972d88ed24c78da51c855519c94\", \"class_name\": \"RelatedNodeInfo\"}}, \"text\": \"\", \"mimetype\": \"text/plain\", \"start_char_idx\": 42940, \"end_char_idx\": 45056, \"text_template\": \"{metadata_str}\\\\n\\\\n{content}\", \"metadata_template\": \"{key}: {value}\", \"metadata_seperator\": \"\\\\n\", \"class_name\": \"TextNode\"}',\n",
       "   '_node_type': 'TextNode',\n",
       "   'author': 'paul_graham',\n",
       "   'creation_date': '2024-04-16',\n",
       "   'doc_id': 'data/paul_graham_essay.txt',\n",
       "   'document_id': 'data/paul_graham_essay.txt',\n",
       "   'file_name': 'paul_graham_essay.txt',\n",
       "   'file_path': 'data/paul_graham_essay.txt',\n",
       "   'file_size': 75042,\n",
       "   'file_type': 'text/plain',\n",
       "   'last_modified_date': '2024-04-15',\n",
       "   'ref_doc_id': 'data/paul_graham_essay.txt'},\n",
       "  {'_node_content': '{\"id_\": \"2aeb9044-3857-4fad-8541-b96b45bfb7fc\", \"embedding\": null, \"metadata\": {\"file_path\": \"data/paul_graham_essay.txt\", \"file_name\": \"paul_graham_essay.txt\", \"file_type\": \"text/plain\", \"file_size\": 75042, \"creation_date\": \"2024-04-16\", \"last_modified_date\": \"2024-04-15\", \"author\": \"paul_graham\"}, \"excluded_embed_metadata_keys\": [\"file_name\", \"file_type\", \"file_size\", \"creation_date\", \"last_modified_date\", \"last_accessed_date\"], \"excluded_llm_metadata_keys\": [\"file_name\", \"file_type\", \"file_size\", \"creation_date\", \"last_modified_date\", \"last_accessed_date\"], \"relationships\": {\"1\": {\"node_id\": \"data/paul_graham_essay.txt\", \"node_type\": \"4\", \"metadata\": {\"file_path\": \"data/paul_graham_essay.txt\", \"file_name\": \"paul_graham_essay.txt\", \"file_type\": \"text/plain\", \"file_size\": 75042, \"creation_date\": \"2024-04-16\", \"last_modified_date\": \"2024-04-15\", \"author\": \"paul_graham\"}, \"hash\": \"48f3b379e825cf288ae03eb7b6746d9f6703c698ab5b0ec7b83426fa8725d5dc\", \"class_name\": \"RelatedNodeInfo\"}, \"2\": {\"node_id\": \"d82d5109-a07d-4280-8367-aaaf2848bd3a\", \"node_type\": \"1\", \"metadata\": {\"file_path\": \"data/paul_graham_essay.txt\", \"file_name\": \"paul_graham_essay.txt\", \"file_type\": \"text/plain\", \"file_size\": 75042, \"creation_date\": \"2024-04-16\", \"last_modified_date\": \"2024-04-15\", \"author\": \"paul_graham\"}, \"hash\": \"e2ec925b96fbffbbc65592abe9fe331c9d82f99d0f9d8e00bef03be2b8976afd\", \"class_name\": \"RelatedNodeInfo\"}, \"3\": {\"node_id\": \"57d4e51c-ed24-4af0-9c3c-71989852b953\", \"node_type\": \"1\", \"metadata\": {}, \"hash\": \"8bd15077a99c6c532da5ecb3574ce4e33fab5817d4a16ef2ba620b2d0b356217\", \"class_name\": \"RelatedNodeInfo\"}}, \"text\": \"\", \"mimetype\": \"text/plain\", \"start_char_idx\": 1416, \"end_char_idx\": 3568, \"text_template\": \"{metadata_str}\\\\n\\\\n{content}\", \"metadata_template\": \"{key}: {value}\", \"metadata_seperator\": \"\\\\n\", \"class_name\": \"TextNode\"}',\n",
       "   '_node_type': 'TextNode',\n",
       "   'author': 'paul_graham',\n",
       "   'creation_date': '2024-04-16',\n",
       "   'doc_id': 'data/paul_graham_essay.txt',\n",
       "   'document_id': 'data/paul_graham_essay.txt',\n",
       "   'file_name': 'paul_graham_essay.txt',\n",
       "   'file_path': 'data/paul_graham_essay.txt',\n",
       "   'file_size': 75042,\n",
       "   'file_type': 'text/plain',\n",
       "   'last_modified_date': '2024-04-15',\n",
       "   'ref_doc_id': 'data/paul_graham_essay.txt'},\n",
       "  {'_node_content': '{\"id_\": \"309fbdb4-eb98-43de-9580-3890dc6d1128\", \"embedding\": null, \"metadata\": {\"file_path\": \"data/paul_graham_essay.txt\", \"file_name\": \"paul_graham_essay.txt\", \"file_type\": \"text/plain\", \"file_size\": 75042, \"creation_date\": \"2024-04-16\", \"last_modified_date\": \"2024-04-15\", \"author\": \"paul_graham\"}, \"excluded_embed_metadata_keys\": [\"file_name\", \"file_type\", \"file_size\", \"creation_date\", \"last_modified_date\", \"last_accessed_date\"], \"excluded_llm_metadata_keys\": [\"file_name\", \"file_type\", \"file_size\", \"creation_date\", \"last_modified_date\", \"last_accessed_date\"], \"relationships\": {\"1\": {\"node_id\": \"data/paul_graham_essay.txt\", \"node_type\": \"4\", \"metadata\": {\"file_path\": \"data/paul_graham_essay.txt\", \"file_name\": \"paul_graham_essay.txt\", \"file_type\": \"text/plain\", \"file_size\": 75042, \"creation_date\": \"2024-04-16\", \"last_modified_date\": \"2024-04-15\", \"author\": \"paul_graham\"}, \"hash\": \"48f3b379e825cf288ae03eb7b6746d9f6703c698ab5b0ec7b83426fa8725d5dc\", \"class_name\": \"RelatedNodeInfo\"}, \"2\": {\"node_id\": \"560af57d-391d-4886-b434-68532964aa11\", \"node_type\": \"1\", \"metadata\": {\"file_path\": \"data/paul_graham_essay.txt\", \"file_name\": \"paul_graham_essay.txt\", \"file_type\": \"text/plain\", \"file_size\": 75042, \"creation_date\": \"2024-04-16\", \"last_modified_date\": \"2024-04-15\", \"author\": \"paul_graham\"}, \"hash\": \"e29ccac7dab36351276c64fbd664899c6649eba5ef3ddae2aa6c3e7238e95009\", \"class_name\": \"RelatedNodeInfo\"}, \"3\": {\"node_id\": \"94e84d9f-b1f9-4d16-945e-7521cb8097cf\", \"node_type\": \"1\", \"metadata\": {}, \"hash\": \"3487b2e0627ede76b7f497bece5599a9bd573e6ca2f46112536f9a86114ea50f\", \"class_name\": \"RelatedNodeInfo\"}}, \"text\": \"\", \"mimetype\": \"text/plain\", \"start_char_idx\": 55912, \"end_char_idx\": 57967, \"text_template\": \"{metadata_str}\\\\n\\\\n{content}\", \"metadata_template\": \"{key}: {value}\", \"metadata_seperator\": \"\\\\n\", \"class_name\": \"TextNode\"}',\n",
       "   '_node_type': 'TextNode',\n",
       "   'author': 'paul_graham',\n",
       "   'creation_date': '2024-04-16',\n",
       "   'doc_id': 'data/paul_graham_essay.txt',\n",
       "   'document_id': 'data/paul_graham_essay.txt',\n",
       "   'file_name': 'paul_graham_essay.txt',\n",
       "   'file_path': 'data/paul_graham_essay.txt',\n",
       "   'file_size': 75042,\n",
       "   'file_type': 'text/plain',\n",
       "   'last_modified_date': '2024-04-15',\n",
       "   'ref_doc_id': 'data/paul_graham_essay.txt'},\n",
       "  {'_node_content': '{\"id_\": \"3193e1a8-a068-4d10-94a3-3432e6ceaacd\", \"embedding\": null, \"metadata\": {\"file_path\": \"data/paul_graham_essay.txt\", \"file_name\": \"paul_graham_essay.txt\", \"file_type\": \"text/plain\", \"file_size\": 75042, \"creation_date\": \"2024-04-16\", \"last_modified_date\": \"2024-04-15\", \"author\": \"paul_graham\"}, \"excluded_embed_metadata_keys\": [\"file_name\", \"file_type\", \"file_size\", \"creation_date\", \"last_modified_date\", \"last_accessed_date\"], \"excluded_llm_metadata_keys\": [\"file_name\", \"file_type\", \"file_size\", \"creation_date\", \"last_modified_date\", \"last_accessed_date\"], \"relationships\": {\"1\": {\"node_id\": \"data/paul_graham_essay.txt\", \"node_type\": \"4\", \"metadata\": {\"file_path\": \"data/paul_graham_essay.txt\", \"file_name\": \"paul_graham_essay.txt\", \"file_type\": \"text/plain\", \"file_size\": 75042, \"creation_date\": \"2024-04-16\", \"last_modified_date\": \"2024-04-15\", \"author\": \"paul_graham\"}, \"hash\": \"48f3b379e825cf288ae03eb7b6746d9f6703c698ab5b0ec7b83426fa8725d5dc\", \"class_name\": \"RelatedNodeInfo\"}, \"2\": {\"node_id\": \"d62d524e-c1db-438c-9cf4-68e8e05161a3\", \"node_type\": \"1\", \"metadata\": {\"file_path\": \"data/paul_graham_essay.txt\", \"file_name\": \"paul_graham_essay.txt\", \"file_type\": \"text/plain\", \"file_size\": 75042, \"creation_date\": \"2024-04-16\", \"last_modified_date\": \"2024-04-15\", \"author\": \"paul_graham\"}, \"hash\": \"a958d5b7c0f8c615c4f4113fefa640f486c88f05d0520a7494fa4f9e8410530e\", \"class_name\": \"RelatedNodeInfo\"}, \"3\": {\"node_id\": \"5a2dfe6d-c8a3-464d-99ab-5add5032eb2f\", \"node_type\": \"1\", \"metadata\": {}, \"hash\": \"a6cfaeaa261550f36bce71534ac9df9de5f9ed9d61f589076a5d0cc693c3644e\", \"class_name\": \"RelatedNodeInfo\"}}, \"text\": \"\", \"mimetype\": \"text/plain\", \"start_char_idx\": 25202, \"end_char_idx\": 27342, \"text_template\": \"{metadata_str}\\\\n\\\\n{content}\", \"metadata_template\": \"{key}: {value}\", \"metadata_seperator\": \"\\\\n\", \"class_name\": \"TextNode\"}',\n",
       "   '_node_type': 'TextNode',\n",
       "   'author': 'paul_graham',\n",
       "   'creation_date': '2024-04-16',\n",
       "   'doc_id': 'data/paul_graham_essay.txt',\n",
       "   'document_id': 'data/paul_graham_essay.txt',\n",
       "   'file_name': 'paul_graham_essay.txt',\n",
       "   'file_path': 'data/paul_graham_essay.txt',\n",
       "   'file_size': 75042,\n",
       "   'file_type': 'text/plain',\n",
       "   'last_modified_date': '2024-04-15',\n",
       "   'ref_doc_id': 'data/paul_graham_essay.txt'},\n",
       "  {'_node_content': '{\"id_\": \"32005ce9-b109-4fb8-9928-dedf64eee000\", \"embedding\": null, \"metadata\": {\"file_path\": \"data/paul_graham_essay.txt\", \"file_name\": \"paul_graham_essay.txt\", \"file_type\": \"text/plain\", \"file_size\": 75042, \"creation_date\": \"2024-04-16\", \"last_modified_date\": \"2024-04-15\", \"author\": \"paul_graham\"}, \"excluded_embed_metadata_keys\": [\"file_name\", \"file_type\", \"file_size\", \"creation_date\", \"last_modified_date\", \"last_accessed_date\"], \"excluded_llm_metadata_keys\": [\"file_name\", \"file_type\", \"file_size\", \"creation_date\", \"last_modified_date\", \"last_accessed_date\"], \"relationships\": {\"1\": {\"node_id\": \"data/paul_graham_essay.txt\", \"node_type\": \"4\", \"metadata\": {\"file_path\": \"data/paul_graham_essay.txt\", \"file_name\": \"paul_graham_essay.txt\", \"file_type\": \"text/plain\", \"file_size\": 75042, \"creation_date\": \"2024-04-16\", \"last_modified_date\": \"2024-04-15\", \"author\": \"paul_graham\"}, \"hash\": \"48f3b379e825cf288ae03eb7b6746d9f6703c698ab5b0ec7b83426fa8725d5dc\", \"class_name\": \"RelatedNodeInfo\"}, \"2\": {\"node_id\": \"cac2a750-40cf-492a-aaeb-a4402b83c03a\", \"node_type\": \"1\", \"metadata\": {\"file_path\": \"data/paul_graham_essay.txt\", \"file_name\": \"paul_graham_essay.txt\", \"file_type\": \"text/plain\", \"file_size\": 75042, \"creation_date\": \"2024-04-16\", \"last_modified_date\": \"2024-04-15\", \"author\": \"paul_graham\"}, \"hash\": \"9c15d32be14b2cd096df49b19cb90564cb496b9b3b23114f96fbf5b53c5489c6\", \"class_name\": \"RelatedNodeInfo\"}, \"3\": {\"node_id\": \"9df02686-5b04-41f0-84b5-ba9ce30e5519\", \"node_type\": \"1\", \"metadata\": {}, \"hash\": \"9bb78ffff166de52e09898db51e102f68f7cda3948bd3a9a956f7b743650cf5d\", \"class_name\": \"RelatedNodeInfo\"}}, \"text\": \"\", \"mimetype\": \"text/plain\", \"start_char_idx\": 9325, \"end_char_idx\": 11177, \"text_template\": \"{metadata_str}\\\\n\\\\n{content}\", \"metadata_template\": \"{key}: {value}\", \"metadata_seperator\": \"\\\\n\", \"class_name\": \"TextNode\"}',\n",
       "   '_node_type': 'TextNode',\n",
       "   'author': 'paul_graham',\n",
       "   'creation_date': '2024-04-16',\n",
       "   'doc_id': 'data/paul_graham_essay.txt',\n",
       "   'document_id': 'data/paul_graham_essay.txt',\n",
       "   'file_name': 'paul_graham_essay.txt',\n",
       "   'file_path': 'data/paul_graham_essay.txt',\n",
       "   'file_size': 75042,\n",
       "   'file_type': 'text/plain',\n",
       "   'last_modified_date': '2024-04-15',\n",
       "   'ref_doc_id': 'data/paul_graham_essay.txt'},\n",
       "  {'_node_content': '{\"id_\": \"3540f211-0fdc-429d-b366-0484188a6c4e\", \"embedding\": null, \"metadata\": {\"file_path\": \"data/paul_graham_essay.txt\", \"file_name\": \"paul_graham_essay.txt\", \"file_type\": \"text/plain\", \"file_size\": 75042, \"creation_date\": \"2024-04-16\", \"last_modified_date\": \"2024-04-15\", \"author\": \"paul_graham\"}, \"excluded_embed_metadata_keys\": [\"file_name\", \"file_type\", \"file_size\", \"creation_date\", \"last_modified_date\", \"last_accessed_date\"], \"excluded_llm_metadata_keys\": [\"file_name\", \"file_type\", \"file_size\", \"creation_date\", \"last_modified_date\", \"last_accessed_date\"], \"relationships\": {\"1\": {\"node_id\": \"data/paul_graham_essay.txt\", \"node_type\": \"4\", \"metadata\": {\"file_path\": \"data/paul_graham_essay.txt\", \"file_name\": \"paul_graham_essay.txt\", \"file_type\": \"text/plain\", \"file_size\": 75042, \"creation_date\": \"2024-04-16\", \"last_modified_date\": \"2024-04-15\", \"author\": \"paul_graham\"}, \"hash\": \"48f3b379e825cf288ae03eb7b6746d9f6703c698ab5b0ec7b83426fa8725d5dc\", \"class_name\": \"RelatedNodeInfo\"}, \"2\": {\"node_id\": \"dc3bcc31-d6b8-45a1-9421-a59b3af609f3\", \"node_type\": \"1\", \"metadata\": {\"file_path\": \"data/paul_graham_essay.txt\", \"file_name\": \"paul_graham_essay.txt\", \"file_type\": \"text/plain\", \"file_size\": 75042, \"creation_date\": \"2024-04-16\", \"last_modified_date\": \"2024-04-15\", \"author\": \"paul_graham\"}, \"hash\": \"68c8c5910793351e186ea186d3364f87ff60e87c0ea162638ff4a5573ba94f9d\", \"class_name\": \"RelatedNodeInfo\"}, \"3\": {\"node_id\": \"5217fe28-a8ae-4ff9-bf73-4143e30f28a7\", \"node_type\": \"1\", \"metadata\": {}, \"hash\": \"d59d8874c63eb7c4bf5c2b8891b38b66f118d7cea309c3b552a042f844af6bab\", \"class_name\": \"RelatedNodeInfo\"}}, \"text\": \"\", \"mimetype\": \"text/plain\", \"start_char_idx\": 18741, \"end_char_idx\": 20918, \"text_template\": \"{metadata_str}\\\\n\\\\n{content}\", \"metadata_template\": \"{key}: {value}\", \"metadata_seperator\": \"\\\\n\", \"class_name\": \"TextNode\"}',\n",
       "   '_node_type': 'TextNode',\n",
       "   'author': 'paul_graham',\n",
       "   'creation_date': '2024-04-16',\n",
       "   'doc_id': 'data/paul_graham_essay.txt',\n",
       "   'document_id': 'data/paul_graham_essay.txt',\n",
       "   'file_name': 'paul_graham_essay.txt',\n",
       "   'file_path': 'data/paul_graham_essay.txt',\n",
       "   'file_size': 75042,\n",
       "   'file_type': 'text/plain',\n",
       "   'last_modified_date': '2024-04-15',\n",
       "   'ref_doc_id': 'data/paul_graham_essay.txt'},\n",
       "  {'_node_content': '{\"id_\": \"42d97852-fdee-459c-b3af-e541bc4eef92\", \"embedding\": null, \"metadata\": {\"file_path\": \"data/paul_graham_essay.txt\", \"file_name\": \"paul_graham_essay.txt\", \"file_type\": \"text/plain\", \"file_size\": 75042, \"creation_date\": \"2024-04-16\", \"last_modified_date\": \"2024-04-15\", \"author\": \"paul_graham\"}, \"excluded_embed_metadata_keys\": [\"file_name\", \"file_type\", \"file_size\", \"creation_date\", \"last_modified_date\", \"last_accessed_date\"], \"excluded_llm_metadata_keys\": [\"file_name\", \"file_type\", \"file_size\", \"creation_date\", \"last_modified_date\", \"last_accessed_date\"], \"relationships\": {\"1\": {\"node_id\": \"data/paul_graham_essay.txt\", \"node_type\": \"4\", \"metadata\": {\"file_path\": \"data/paul_graham_essay.txt\", \"file_name\": \"paul_graham_essay.txt\", \"file_type\": \"text/plain\", \"file_size\": 75042, \"creation_date\": \"2024-04-16\", \"last_modified_date\": \"2024-04-15\", \"author\": \"paul_graham\"}, \"hash\": \"48f3b379e825cf288ae03eb7b6746d9f6703c698ab5b0ec7b83426fa8725d5dc\", \"class_name\": \"RelatedNodeInfo\"}, \"2\": {\"node_id\": \"8d0a94e6-6da7-4576-a4a4-799be95752a4\", \"node_type\": \"1\", \"metadata\": {\"file_path\": \"data/paul_graham_essay.txt\", \"file_name\": \"paul_graham_essay.txt\", \"file_type\": \"text/plain\", \"file_size\": 75042, \"creation_date\": \"2024-04-16\", \"last_modified_date\": \"2024-04-15\", \"author\": \"paul_graham\"}, \"hash\": \"d54cd4da47b793066730920aa8e88e721a5ec7da373dbae4c604b9e11b249261\", \"class_name\": \"RelatedNodeInfo\"}, \"3\": {\"node_id\": \"9677e6a8-14de-4b72-be23-8eb02fb21988\", \"node_type\": \"1\", \"metadata\": {}, \"hash\": \"f0b9806110c9d9e585e953cf945d81d67db5cc777d16b76edc2bad0f1487f170\", \"class_name\": \"RelatedNodeInfo\"}}, \"text\": \"\", \"mimetype\": \"text/plain\", \"start_char_idx\": 66633, \"end_char_idx\": 68684, \"text_template\": \"{metadata_str}\\\\n\\\\n{content}\", \"metadata_template\": \"{key}: {value}\", \"metadata_seperator\": \"\\\\n\", \"class_name\": \"TextNode\"}',\n",
       "   '_node_type': 'TextNode',\n",
       "   'author': 'paul_graham',\n",
       "   'creation_date': '2024-04-16',\n",
       "   'doc_id': 'data/paul_graham_essay.txt',\n",
       "   'document_id': 'data/paul_graham_essay.txt',\n",
       "   'file_name': 'paul_graham_essay.txt',\n",
       "   'file_path': 'data/paul_graham_essay.txt',\n",
       "   'file_size': 75042,\n",
       "   'file_type': 'text/plain',\n",
       "   'last_modified_date': '2024-04-15',\n",
       "   'ref_doc_id': 'data/paul_graham_essay.txt'},\n",
       "  {'_node_content': '{\"id_\": \"47e36330-f7c7-41ba-8048-8782a9c14b5c\", \"embedding\": null, \"metadata\": {\"file_path\": \"data/paul_graham_essay.txt\", \"file_name\": \"paul_graham_essay.txt\", \"file_type\": \"text/plain\", \"file_size\": 75042, \"creation_date\": \"2024-04-16\", \"last_modified_date\": \"2024-04-15\", \"author\": \"paul_graham\"}, \"excluded_embed_metadata_keys\": [\"file_name\", \"file_type\", \"file_size\", \"creation_date\", \"last_modified_date\", \"last_accessed_date\"], \"excluded_llm_metadata_keys\": [\"file_name\", \"file_type\", \"file_size\", \"creation_date\", \"last_modified_date\", \"last_accessed_date\"], \"relationships\": {\"1\": {\"node_id\": \"data/paul_graham_essay.txt\", \"node_type\": \"4\", \"metadata\": {\"file_path\": \"data/paul_graham_essay.txt\", \"file_name\": \"paul_graham_essay.txt\", \"file_type\": \"text/plain\", \"file_size\": 75042, \"creation_date\": \"2024-04-16\", \"last_modified_date\": \"2024-04-15\", \"author\": \"paul_graham\"}, \"hash\": \"48f3b379e825cf288ae03eb7b6746d9f6703c698ab5b0ec7b83426fa8725d5dc\", \"class_name\": \"RelatedNodeInfo\"}, \"2\": {\"node_id\": \"8a3f2503-8b0f-4ac8-97bc-fb679ef0820d\", \"node_type\": \"1\", \"metadata\": {\"file_path\": \"data/paul_graham_essay.txt\", \"file_name\": \"paul_graham_essay.txt\", \"file_type\": \"text/plain\", \"file_size\": 75042, \"creation_date\": \"2024-04-16\", \"last_modified_date\": \"2024-04-15\", \"author\": \"paul_graham\"}, \"hash\": \"eb2f74465e1287828fbeadffef427c144d0259ffe49563870d4bc733edb144c6\", \"class_name\": \"RelatedNodeInfo\"}, \"3\": {\"node_id\": \"cb011e7d-139a-4b0f-b573-7411de78dccd\", \"node_type\": \"1\", \"metadata\": {}, \"hash\": \"20b0b57696bd1b5b4017b19e3bb01aad7e131539e78e1138cde74e0f715165bb\", \"class_name\": \"RelatedNodeInfo\"}}, \"text\": \"\", \"mimetype\": \"text/plain\", \"start_char_idx\": 39696, \"end_char_idx\": 41855, \"text_template\": \"{metadata_str}\\\\n\\\\n{content}\", \"metadata_template\": \"{key}: {value}\", \"metadata_seperator\": \"\\\\n\", \"class_name\": \"TextNode\"}',\n",
       "   '_node_type': 'TextNode',\n",
       "   'author': 'paul_graham',\n",
       "   'creation_date': '2024-04-16',\n",
       "   'doc_id': 'data/paul_graham_essay.txt',\n",
       "   'document_id': 'data/paul_graham_essay.txt',\n",
       "   'file_name': 'paul_graham_essay.txt',\n",
       "   'file_path': 'data/paul_graham_essay.txt',\n",
       "   'file_size': 75042,\n",
       "   'file_type': 'text/plain',\n",
       "   'last_modified_date': '2024-04-15',\n",
       "   'ref_doc_id': 'data/paul_graham_essay.txt'},\n",
       "  {'_node_content': '{\"id_\": \"5217fe28-a8ae-4ff9-bf73-4143e30f28a7\", \"embedding\": null, \"metadata\": {\"file_path\": \"data/paul_graham_essay.txt\", \"file_name\": \"paul_graham_essay.txt\", \"file_type\": \"text/plain\", \"file_size\": 75042, \"creation_date\": \"2024-04-16\", \"last_modified_date\": \"2024-04-15\", \"author\": \"paul_graham\"}, \"excluded_embed_metadata_keys\": [\"file_name\", \"file_type\", \"file_size\", \"creation_date\", \"last_modified_date\", \"last_accessed_date\"], \"excluded_llm_metadata_keys\": [\"file_name\", \"file_type\", \"file_size\", \"creation_date\", \"last_modified_date\", \"last_accessed_date\"], \"relationships\": {\"1\": {\"node_id\": \"data/paul_graham_essay.txt\", \"node_type\": \"4\", \"metadata\": {\"file_path\": \"data/paul_graham_essay.txt\", \"file_name\": \"paul_graham_essay.txt\", \"file_type\": \"text/plain\", \"file_size\": 75042, \"creation_date\": \"2024-04-16\", \"last_modified_date\": \"2024-04-15\", \"author\": \"paul_graham\"}, \"hash\": \"48f3b379e825cf288ae03eb7b6746d9f6703c698ab5b0ec7b83426fa8725d5dc\", \"class_name\": \"RelatedNodeInfo\"}, \"2\": {\"node_id\": \"3540f211-0fdc-429d-b366-0484188a6c4e\", \"node_type\": \"1\", \"metadata\": {\"file_path\": \"data/paul_graham_essay.txt\", \"file_name\": \"paul_graham_essay.txt\", \"file_type\": \"text/plain\", \"file_size\": 75042, \"creation_date\": \"2024-04-16\", \"last_modified_date\": \"2024-04-15\", \"author\": \"paul_graham\"}, \"hash\": \"3663b638bc301bba87bdee94c49f94ecbf3a79caf0c5bb240225bddf94ee3af5\", \"class_name\": \"RelatedNodeInfo\"}, \"3\": {\"node_id\": \"0e99333f-5d85-4eac-9bf3-8e1702e73e45\", \"node_type\": \"1\", \"metadata\": {}, \"hash\": \"33e7a911f21c7a99a67795b7eb8c49f879100c3533912bc6c9a0a7a83030d05f\", \"class_name\": \"RelatedNodeInfo\"}}, \"text\": \"\", \"mimetype\": \"text/plain\", \"start_char_idx\": 20506, \"end_char_idx\": 22632, \"text_template\": \"{metadata_str}\\\\n\\\\n{content}\", \"metadata_template\": \"{key}: {value}\", \"metadata_seperator\": \"\\\\n\", \"class_name\": \"TextNode\"}',\n",
       "   '_node_type': 'TextNode',\n",
       "   'author': 'paul_graham',\n",
       "   'creation_date': '2024-04-16',\n",
       "   'doc_id': 'data/paul_graham_essay.txt',\n",
       "   'document_id': 'data/paul_graham_essay.txt',\n",
       "   'file_name': 'paul_graham_essay.txt',\n",
       "   'file_path': 'data/paul_graham_essay.txt',\n",
       "   'file_size': 75042,\n",
       "   'file_type': 'text/plain',\n",
       "   'last_modified_date': '2024-04-15',\n",
       "   'ref_doc_id': 'data/paul_graham_essay.txt'},\n",
       "  {'_node_content': '{\"id_\": \"560af57d-391d-4886-b434-68532964aa11\", \"embedding\": null, \"metadata\": {\"file_path\": \"data/paul_graham_essay.txt\", \"file_name\": \"paul_graham_essay.txt\", \"file_type\": \"text/plain\", \"file_size\": 75042, \"creation_date\": \"2024-04-16\", \"last_modified_date\": \"2024-04-15\", \"author\": \"paul_graham\"}, \"excluded_embed_metadata_keys\": [\"file_name\", \"file_type\", \"file_size\", \"creation_date\", \"last_modified_date\", \"last_accessed_date\"], \"excluded_llm_metadata_keys\": [\"file_name\", \"file_type\", \"file_size\", \"creation_date\", \"last_modified_date\", \"last_accessed_date\"], \"relationships\": {\"1\": {\"node_id\": \"data/paul_graham_essay.txt\", \"node_type\": \"4\", \"metadata\": {\"file_path\": \"data/paul_graham_essay.txt\", \"file_name\": \"paul_graham_essay.txt\", \"file_type\": \"text/plain\", \"file_size\": 75042, \"creation_date\": \"2024-04-16\", \"last_modified_date\": \"2024-04-15\", \"author\": \"paul_graham\"}, \"hash\": \"48f3b379e825cf288ae03eb7b6746d9f6703c698ab5b0ec7b83426fa8725d5dc\", \"class_name\": \"RelatedNodeInfo\"}, \"2\": {\"node_id\": \"29bb4441-e404-431f-a474-0bf23a191063\", \"node_type\": \"1\", \"metadata\": {\"file_path\": \"data/paul_graham_essay.txt\", \"file_name\": \"paul_graham_essay.txt\", \"file_type\": \"text/plain\", \"file_size\": 75042, \"creation_date\": \"2024-04-16\", \"last_modified_date\": \"2024-04-15\", \"author\": \"paul_graham\"}, \"hash\": \"d8bef5626662292cff2b77ad7a24df083cb2d4fd5f4b30be1b58fc3f40f69f0b\", \"class_name\": \"RelatedNodeInfo\"}, \"3\": {\"node_id\": \"309fbdb4-eb98-43de-9580-3890dc6d1128\", \"node_type\": \"1\", \"metadata\": {}, \"hash\": \"7d51bac2866f79a1b873c3bb5caff95fca81cc16ecd8591941b66e9e20b73c68\", \"class_name\": \"RelatedNodeInfo\"}}, \"text\": \"\", \"mimetype\": \"text/plain\", \"start_char_idx\": 54374, \"end_char_idx\": 56417, \"text_template\": \"{metadata_str}\\\\n\\\\n{content}\", \"metadata_template\": \"{key}: {value}\", \"metadata_seperator\": \"\\\\n\", \"class_name\": \"TextNode\"}',\n",
       "   '_node_type': 'TextNode',\n",
       "   'author': 'paul_graham',\n",
       "   'creation_date': '2024-04-16',\n",
       "   'doc_id': 'data/paul_graham_essay.txt',\n",
       "   'document_id': 'data/paul_graham_essay.txt',\n",
       "   'file_name': 'paul_graham_essay.txt',\n",
       "   'file_path': 'data/paul_graham_essay.txt',\n",
       "   'file_size': 75042,\n",
       "   'file_type': 'text/plain',\n",
       "   'last_modified_date': '2024-04-15',\n",
       "   'ref_doc_id': 'data/paul_graham_essay.txt'},\n",
       "  {'_node_content': '{\"id_\": \"57d4e51c-ed24-4af0-9c3c-71989852b953\", \"embedding\": null, \"metadata\": {\"file_path\": \"data/paul_graham_essay.txt\", \"file_name\": \"paul_graham_essay.txt\", \"file_type\": \"text/plain\", \"file_size\": 75042, \"creation_date\": \"2024-04-16\", \"last_modified_date\": \"2024-04-15\", \"author\": \"paul_graham\"}, \"excluded_embed_metadata_keys\": [\"file_name\", \"file_type\", \"file_size\", \"creation_date\", \"last_modified_date\", \"last_accessed_date\"], \"excluded_llm_metadata_keys\": [\"file_name\", \"file_type\", \"file_size\", \"creation_date\", \"last_modified_date\", \"last_accessed_date\"], \"relationships\": {\"1\": {\"node_id\": \"data/paul_graham_essay.txt\", \"node_type\": \"4\", \"metadata\": {\"file_path\": \"data/paul_graham_essay.txt\", \"file_name\": \"paul_graham_essay.txt\", \"file_type\": \"text/plain\", \"file_size\": 75042, \"creation_date\": \"2024-04-16\", \"last_modified_date\": \"2024-04-15\", \"author\": \"paul_graham\"}, \"hash\": \"48f3b379e825cf288ae03eb7b6746d9f6703c698ab5b0ec7b83426fa8725d5dc\", \"class_name\": \"RelatedNodeInfo\"}, \"2\": {\"node_id\": \"2aeb9044-3857-4fad-8541-b96b45bfb7fc\", \"node_type\": \"1\", \"metadata\": {\"file_path\": \"data/paul_graham_essay.txt\", \"file_name\": \"paul_graham_essay.txt\", \"file_type\": \"text/plain\", \"file_size\": 75042, \"creation_date\": \"2024-04-16\", \"last_modified_date\": \"2024-04-15\", \"author\": \"paul_graham\"}, \"hash\": \"da6e2d271ab46383060ce5d99b695b02727c93a84e3c3755b7f4218a3a44b5b8\", \"class_name\": \"RelatedNodeInfo\"}, \"3\": {\"node_id\": \"ece2bbc0-1fae-47ee-a5f6-e84c7f755578\", \"node_type\": \"1\", \"metadata\": {}, \"hash\": \"124dec1922a9bcd5aa446eb158ef94acc586c13ca1e3d3410c537055ad65ade3\", \"class_name\": \"RelatedNodeInfo\"}}, \"text\": \"\", \"mimetype\": \"text/plain\", \"start_char_idx\": 2981, \"end_char_idx\": 5144, \"text_template\": \"{metadata_str}\\\\n\\\\n{content}\", \"metadata_template\": \"{key}: {value}\", \"metadata_seperator\": \"\\\\n\", \"class_name\": \"TextNode\"}',\n",
       "   '_node_type': 'TextNode',\n",
       "   'author': 'paul_graham',\n",
       "   'creation_date': '2024-04-16',\n",
       "   'doc_id': 'data/paul_graham_essay.txt',\n",
       "   'document_id': 'data/paul_graham_essay.txt',\n",
       "   'file_name': 'paul_graham_essay.txt',\n",
       "   'file_path': 'data/paul_graham_essay.txt',\n",
       "   'file_size': 75042,\n",
       "   'file_type': 'text/plain',\n",
       "   'last_modified_date': '2024-04-15',\n",
       "   'ref_doc_id': 'data/paul_graham_essay.txt'},\n",
       "  {'_node_content': '{\"id_\": \"5a2dfe6d-c8a3-464d-99ab-5add5032eb2f\", \"embedding\": null, \"metadata\": {\"file_path\": \"data/paul_graham_essay.txt\", \"file_name\": \"paul_graham_essay.txt\", \"file_type\": \"text/plain\", \"file_size\": 75042, \"creation_date\": \"2024-04-16\", \"last_modified_date\": \"2024-04-15\", \"author\": \"paul_graham\"}, \"excluded_embed_metadata_keys\": [\"file_name\", \"file_type\", \"file_size\", \"creation_date\", \"last_modified_date\", \"last_accessed_date\"], \"excluded_llm_metadata_keys\": [\"file_name\", \"file_type\", \"file_size\", \"creation_date\", \"last_modified_date\", \"last_accessed_date\"], \"relationships\": {\"1\": {\"node_id\": \"data/paul_graham_essay.txt\", \"node_type\": \"4\", \"metadata\": {\"file_path\": \"data/paul_graham_essay.txt\", \"file_name\": \"paul_graham_essay.txt\", \"file_type\": \"text/plain\", \"file_size\": 75042, \"creation_date\": \"2024-04-16\", \"last_modified_date\": \"2024-04-15\", \"author\": \"paul_graham\"}, \"hash\": \"48f3b379e825cf288ae03eb7b6746d9f6703c698ab5b0ec7b83426fa8725d5dc\", \"class_name\": \"RelatedNodeInfo\"}, \"2\": {\"node_id\": \"3193e1a8-a068-4d10-94a3-3432e6ceaacd\", \"node_type\": \"1\", \"metadata\": {\"file_path\": \"data/paul_graham_essay.txt\", \"file_name\": \"paul_graham_essay.txt\", \"file_type\": \"text/plain\", \"file_size\": 75042, \"creation_date\": \"2024-04-16\", \"last_modified_date\": \"2024-04-15\", \"author\": \"paul_graham\"}, \"hash\": \"c3c8f9d224b9c9b08d8cf36e9a2c683c9d81bd10fa5957f8492f635162565e83\", \"class_name\": \"RelatedNodeInfo\"}, \"3\": {\"node_id\": \"5c5630f3-4acf-4e73-b722-e3bda9964a03\", \"node_type\": \"1\", \"metadata\": {}, \"hash\": \"d007a8e01b5f156f103bde5c3df8b5025cb24357fae1c049a94167a4082a1fe8\", \"class_name\": \"RelatedNodeInfo\"}}, \"text\": \"\", \"mimetype\": \"text/plain\", \"start_char_idx\": 26804, \"end_char_idx\": 28889, \"text_template\": \"{metadata_str}\\\\n\\\\n{content}\", \"metadata_template\": \"{key}: {value}\", \"metadata_seperator\": \"\\\\n\", \"class_name\": \"TextNode\"}',\n",
       "   '_node_type': 'TextNode',\n",
       "   'author': 'paul_graham',\n",
       "   'creation_date': '2024-04-16',\n",
       "   'doc_id': 'data/paul_graham_essay.txt',\n",
       "   'document_id': 'data/paul_graham_essay.txt',\n",
       "   'file_name': 'paul_graham_essay.txt',\n",
       "   'file_path': 'data/paul_graham_essay.txt',\n",
       "   'file_size': 75042,\n",
       "   'file_type': 'text/plain',\n",
       "   'last_modified_date': '2024-04-15',\n",
       "   'ref_doc_id': 'data/paul_graham_essay.txt'},\n",
       "  {'_node_content': '{\"id_\": \"5c5630f3-4acf-4e73-b722-e3bda9964a03\", \"embedding\": null, \"metadata\": {\"file_path\": \"data/paul_graham_essay.txt\", \"file_name\": \"paul_graham_essay.txt\", \"file_type\": \"text/plain\", \"file_size\": 75042, \"creation_date\": \"2024-04-16\", \"last_modified_date\": \"2024-04-15\", \"author\": \"paul_graham\"}, \"excluded_embed_metadata_keys\": [\"file_name\", \"file_type\", \"file_size\", \"creation_date\", \"last_modified_date\", \"last_accessed_date\"], \"excluded_llm_metadata_keys\": [\"file_name\", \"file_type\", \"file_size\", \"creation_date\", \"last_modified_date\", \"last_accessed_date\"], \"relationships\": {\"1\": {\"node_id\": \"data/paul_graham_essay.txt\", \"node_type\": \"4\", \"metadata\": {\"file_path\": \"data/paul_graham_essay.txt\", \"file_name\": \"paul_graham_essay.txt\", \"file_type\": \"text/plain\", \"file_size\": 75042, \"creation_date\": \"2024-04-16\", \"last_modified_date\": \"2024-04-15\", \"author\": \"paul_graham\"}, \"hash\": \"48f3b379e825cf288ae03eb7b6746d9f6703c698ab5b0ec7b83426fa8725d5dc\", \"class_name\": \"RelatedNodeInfo\"}, \"2\": {\"node_id\": \"5a2dfe6d-c8a3-464d-99ab-5add5032eb2f\", \"node_type\": \"1\", \"metadata\": {\"file_path\": \"data/paul_graham_essay.txt\", \"file_name\": \"paul_graham_essay.txt\", \"file_type\": \"text/plain\", \"file_size\": 75042, \"creation_date\": \"2024-04-16\", \"last_modified_date\": \"2024-04-15\", \"author\": \"paul_graham\"}, \"hash\": \"6d1300a53da670440ea581444b6c3163397fb51a3cbf8a8b75f99dd10fdd83c1\", \"class_name\": \"RelatedNodeInfo\"}, \"3\": {\"node_id\": \"741c6c61-4b48-4f1a-9e5f-d3b8039b93fe\", \"node_type\": \"1\", \"metadata\": {}, \"hash\": \"c900ba0729cc43c499c3c63f19a4497ecde2f8566cc84aa142169ec489b77396\", \"class_name\": \"RelatedNodeInfo\"}}, \"text\": \"\", \"mimetype\": \"text/plain\", \"start_char_idx\": 28353, \"end_char_idx\": 30498, \"text_template\": \"{metadata_str}\\\\n\\\\n{content}\", \"metadata_template\": \"{key}: {value}\", \"metadata_seperator\": \"\\\\n\", \"class_name\": \"TextNode\"}',\n",
       "   '_node_type': 'TextNode',\n",
       "   'author': 'paul_graham',\n",
       "   'creation_date': '2024-04-16',\n",
       "   'doc_id': 'data/paul_graham_essay.txt',\n",
       "   'document_id': 'data/paul_graham_essay.txt',\n",
       "   'file_name': 'paul_graham_essay.txt',\n",
       "   'file_path': 'data/paul_graham_essay.txt',\n",
       "   'file_size': 75042,\n",
       "   'file_type': 'text/plain',\n",
       "   'last_modified_date': '2024-04-15',\n",
       "   'ref_doc_id': 'data/paul_graham_essay.txt'},\n",
       "  {'_node_content': '{\"id_\": \"5db817b4-e925-454f-a6af-1d323c7d7e6a\", \"embedding\": null, \"metadata\": {\"file_path\": \"data/paul_graham_essay.txt\", \"file_name\": \"paul_graham_essay.txt\", \"file_type\": \"text/plain\", \"file_size\": 75042, \"creation_date\": \"2024-04-16\", \"last_modified_date\": \"2024-04-15\", \"author\": \"paul_graham\"}, \"excluded_embed_metadata_keys\": [\"file_name\", \"file_type\", \"file_size\", \"creation_date\", \"last_modified_date\", \"last_accessed_date\"], \"excluded_llm_metadata_keys\": [\"file_name\", \"file_type\", \"file_size\", \"creation_date\", \"last_modified_date\", \"last_accessed_date\"], \"relationships\": {\"1\": {\"node_id\": \"data/paul_graham_essay.txt\", \"node_type\": \"4\", \"metadata\": {\"file_path\": \"data/paul_graham_essay.txt\", \"file_name\": \"paul_graham_essay.txt\", \"file_type\": \"text/plain\", \"file_size\": 75042, \"creation_date\": \"2024-04-16\", \"last_modified_date\": \"2024-04-15\", \"author\": \"paul_graham\"}, \"hash\": \"48f3b379e825cf288ae03eb7b6746d9f6703c698ab5b0ec7b83426fa8725d5dc\", \"class_name\": \"RelatedNodeInfo\"}, \"2\": {\"node_id\": \"a1895cee-17c5-4744-8f89-a5326515717e\", \"node_type\": \"1\", \"metadata\": {\"file_path\": \"data/paul_graham_essay.txt\", \"file_name\": \"paul_graham_essay.txt\", \"file_type\": \"text/plain\", \"file_size\": 75042, \"creation_date\": \"2024-04-16\", \"last_modified_date\": \"2024-04-15\", \"author\": \"paul_graham\"}, \"hash\": \"7463488c5e8eba974d6ea33e9c12bef6c1815d07533e589a181f03e1eaa74748\", \"class_name\": \"RelatedNodeInfo\"}, \"3\": {\"node_id\": \"5e784a9a-b642-4dde-8933-244ce96d2652\", \"node_type\": \"1\", \"metadata\": {}, \"hash\": \"1b9a0b7e1762b200ae7e7c07d0a270b47b4c6e489fcab598629d7d7d13c57a96\", \"class_name\": \"RelatedNodeInfo\"}}, \"text\": \"\", \"mimetype\": \"text/plain\", \"start_char_idx\": 61875, \"end_char_idx\": 64031, \"text_template\": \"{metadata_str}\\\\n\\\\n{content}\", \"metadata_template\": \"{key}: {value}\", \"metadata_seperator\": \"\\\\n\", \"class_name\": \"TextNode\"}',\n",
       "   '_node_type': 'TextNode',\n",
       "   'author': 'paul_graham',\n",
       "   'creation_date': '2024-04-16',\n",
       "   'doc_id': 'data/paul_graham_essay.txt',\n",
       "   'document_id': 'data/paul_graham_essay.txt',\n",
       "   'file_name': 'paul_graham_essay.txt',\n",
       "   'file_path': 'data/paul_graham_essay.txt',\n",
       "   'file_size': 75042,\n",
       "   'file_type': 'text/plain',\n",
       "   'last_modified_date': '2024-04-15',\n",
       "   'ref_doc_id': 'data/paul_graham_essay.txt'},\n",
       "  {'_node_content': '{\"id_\": \"5e784a9a-b642-4dde-8933-244ce96d2652\", \"embedding\": null, \"metadata\": {\"file_path\": \"data/paul_graham_essay.txt\", \"file_name\": \"paul_graham_essay.txt\", \"file_type\": \"text/plain\", \"file_size\": 75042, \"creation_date\": \"2024-04-16\", \"last_modified_date\": \"2024-04-15\", \"author\": \"paul_graham\"}, \"excluded_embed_metadata_keys\": [\"file_name\", \"file_type\", \"file_size\", \"creation_date\", \"last_modified_date\", \"last_accessed_date\"], \"excluded_llm_metadata_keys\": [\"file_name\", \"file_type\", \"file_size\", \"creation_date\", \"last_modified_date\", \"last_accessed_date\"], \"relationships\": {\"1\": {\"node_id\": \"data/paul_graham_essay.txt\", \"node_type\": \"4\", \"metadata\": {\"file_path\": \"data/paul_graham_essay.txt\", \"file_name\": \"paul_graham_essay.txt\", \"file_type\": \"text/plain\", \"file_size\": 75042, \"creation_date\": \"2024-04-16\", \"last_modified_date\": \"2024-04-15\", \"author\": \"paul_graham\"}, \"hash\": \"48f3b379e825cf288ae03eb7b6746d9f6703c698ab5b0ec7b83426fa8725d5dc\", \"class_name\": \"RelatedNodeInfo\"}, \"2\": {\"node_id\": \"5db817b4-e925-454f-a6af-1d323c7d7e6a\", \"node_type\": \"1\", \"metadata\": {\"file_path\": \"data/paul_graham_essay.txt\", \"file_name\": \"paul_graham_essay.txt\", \"file_type\": \"text/plain\", \"file_size\": 75042, \"creation_date\": \"2024-04-16\", \"last_modified_date\": \"2024-04-15\", \"author\": \"paul_graham\"}, \"hash\": \"00fe990ebf5428874e76f9d973f87c039f30fb39d5e720ff01c6b4ad16826572\", \"class_name\": \"RelatedNodeInfo\"}, \"3\": {\"node_id\": \"8d0a94e6-6da7-4576-a4a4-799be95752a4\", \"node_type\": \"1\", \"metadata\": {}, \"hash\": \"b80e01b53d5e5a171c793a43f4ad8ad23ad8d68ae2fcd929d99adf31a362e8c3\", \"class_name\": \"RelatedNodeInfo\"}}, \"text\": \"\", \"mimetype\": \"text/plain\", \"start_char_idx\": 63514, \"end_char_idx\": 65563, \"text_template\": \"{metadata_str}\\\\n\\\\n{content}\", \"metadata_template\": \"{key}: {value}\", \"metadata_seperator\": \"\\\\n\", \"class_name\": \"TextNode\"}',\n",
       "   '_node_type': 'TextNode',\n",
       "   'author': 'paul_graham',\n",
       "   'creation_date': '2024-04-16',\n",
       "   'doc_id': 'data/paul_graham_essay.txt',\n",
       "   'document_id': 'data/paul_graham_essay.txt',\n",
       "   'file_name': 'paul_graham_essay.txt',\n",
       "   'file_path': 'data/paul_graham_essay.txt',\n",
       "   'file_size': 75042,\n",
       "   'file_type': 'text/plain',\n",
       "   'last_modified_date': '2024-04-15',\n",
       "   'ref_doc_id': 'data/paul_graham_essay.txt'},\n",
       "  {'_node_content': '{\"id_\": \"6880f29f-8015-460a-ba53-fb3e27b3fd71\", \"embedding\": null, \"metadata\": {\"file_path\": \"data/paul_graham_essay.txt\", \"file_name\": \"paul_graham_essay.txt\", \"file_type\": \"text/plain\", \"file_size\": 75042, \"creation_date\": \"2024-04-16\", \"last_modified_date\": \"2024-04-15\", \"author\": \"paul_graham\"}, \"excluded_embed_metadata_keys\": [\"file_name\", \"file_type\", \"file_size\", \"creation_date\", \"last_modified_date\", \"last_accessed_date\"], \"excluded_llm_metadata_keys\": [\"file_name\", \"file_type\", \"file_size\", \"creation_date\", \"last_modified_date\", \"last_accessed_date\"], \"relationships\": {\"1\": {\"node_id\": \"data/paul_graham_essay.txt\", \"node_type\": \"4\", \"metadata\": {\"file_path\": \"data/paul_graham_essay.txt\", \"file_name\": \"paul_graham_essay.txt\", \"file_type\": \"text/plain\", \"file_size\": 75042, \"creation_date\": \"2024-04-16\", \"last_modified_date\": \"2024-04-15\", \"author\": \"paul_graham\"}, \"hash\": \"48f3b379e825cf288ae03eb7b6746d9f6703c698ab5b0ec7b83426fa8725d5dc\", \"class_name\": \"RelatedNodeInfo\"}, \"2\": {\"node_id\": \"a65b346c-aba5-4960-8373-59a25c108e4b\", \"node_type\": \"1\", \"metadata\": {\"file_path\": \"data/paul_graham_essay.txt\", \"file_name\": \"paul_graham_essay.txt\", \"file_type\": \"text/plain\", \"file_size\": 75042, \"creation_date\": \"2024-04-16\", \"last_modified_date\": \"2024-04-15\", \"author\": \"paul_graham\"}, \"hash\": \"6f8be93d455398ad9d8cb71a6f1b68651b10a0b7091378dac6878cabb7eab156\", \"class_name\": \"RelatedNodeInfo\"}, \"3\": {\"node_id\": \"acd9cd8e-fc40-4b0c-bdf8-18242b248a0e\", \"node_type\": \"1\", \"metadata\": {}, \"hash\": \"f382ef199b17c454dc8b669a900362a46bf12e239c012451aa74ebce711bb4e9\", \"class_name\": \"RelatedNodeInfo\"}}, \"text\": \"\", \"mimetype\": \"text/plain\", \"start_char_idx\": 47711, \"end_char_idx\": 49859, \"text_template\": \"{metadata_str}\\\\n\\\\n{content}\", \"metadata_template\": \"{key}: {value}\", \"metadata_seperator\": \"\\\\n\", \"class_name\": \"TextNode\"}',\n",
       "   '_node_type': 'TextNode',\n",
       "   'author': 'paul_graham',\n",
       "   'creation_date': '2024-04-16',\n",
       "   'doc_id': 'data/paul_graham_essay.txt',\n",
       "   'document_id': 'data/paul_graham_essay.txt',\n",
       "   'file_name': 'paul_graham_essay.txt',\n",
       "   'file_path': 'data/paul_graham_essay.txt',\n",
       "   'file_size': 75042,\n",
       "   'file_type': 'text/plain',\n",
       "   'last_modified_date': '2024-04-15',\n",
       "   'ref_doc_id': 'data/paul_graham_essay.txt'},\n",
       "  {'_node_content': '{\"id_\": \"6a5d88bd-65a3-4394-adba-76711ed263d1\", \"embedding\": null, \"metadata\": {\"file_path\": \"data/paul_graham_essay.txt\", \"file_name\": \"paul_graham_essay.txt\", \"file_type\": \"text/plain\", \"file_size\": 75042, \"creation_date\": \"2024-04-16\", \"last_modified_date\": \"2024-04-15\", \"author\": \"paul_graham\"}, \"excluded_embed_metadata_keys\": [\"file_name\", \"file_type\", \"file_size\", \"creation_date\", \"last_modified_date\", \"last_accessed_date\"], \"excluded_llm_metadata_keys\": [\"file_name\", \"file_type\", \"file_size\", \"creation_date\", \"last_modified_date\", \"last_accessed_date\"], \"relationships\": {\"1\": {\"node_id\": \"data/paul_graham_essay.txt\", \"node_type\": \"4\", \"metadata\": {\"file_path\": \"data/paul_graham_essay.txt\", \"file_name\": \"paul_graham_essay.txt\", \"file_type\": \"text/plain\", \"file_size\": 75042, \"creation_date\": \"2024-04-16\", \"last_modified_date\": \"2024-04-15\", \"author\": \"paul_graham\"}, \"hash\": \"48f3b379e825cf288ae03eb7b6746d9f6703c698ab5b0ec7b83426fa8725d5dc\", \"class_name\": \"RelatedNodeInfo\"}, \"2\": {\"node_id\": \"741c6c61-4b48-4f1a-9e5f-d3b8039b93fe\", \"node_type\": \"1\", \"metadata\": {\"file_path\": \"data/paul_graham_essay.txt\", \"file_name\": \"paul_graham_essay.txt\", \"file_type\": \"text/plain\", \"file_size\": 75042, \"creation_date\": \"2024-04-16\", \"last_modified_date\": \"2024-04-15\", \"author\": \"paul_graham\"}, \"hash\": \"58a90cfba37c679e0d702589e93380ba0519bd36b74664f471f200fcc7e34203\", \"class_name\": \"RelatedNodeInfo\"}, \"3\": {\"node_id\": \"6cfa2afb-cf70-470c-851f-0f859939ee81\", \"node_type\": \"1\", \"metadata\": {}, \"hash\": \"2377c42b597548939c8ae12efe917cc4134f03a389ed463f0e40a60a0b229f35\", \"class_name\": \"RelatedNodeInfo\"}}, \"text\": \"\", \"mimetype\": \"text/plain\", \"start_char_idx\": 31668, \"end_char_idx\": 33787, \"text_template\": \"{metadata_str}\\\\n\\\\n{content}\", \"metadata_template\": \"{key}: {value}\", \"metadata_seperator\": \"\\\\n\", \"class_name\": \"TextNode\"}',\n",
       "   '_node_type': 'TextNode',\n",
       "   'author': 'paul_graham',\n",
       "   'creation_date': '2024-04-16',\n",
       "   'doc_id': 'data/paul_graham_essay.txt',\n",
       "   'document_id': 'data/paul_graham_essay.txt',\n",
       "   'file_name': 'paul_graham_essay.txt',\n",
       "   'file_path': 'data/paul_graham_essay.txt',\n",
       "   'file_size': 75042,\n",
       "   'file_type': 'text/plain',\n",
       "   'last_modified_date': '2024-04-15',\n",
       "   'ref_doc_id': 'data/paul_graham_essay.txt'},\n",
       "  {'_node_content': '{\"id_\": \"6cfa2afb-cf70-470c-851f-0f859939ee81\", \"embedding\": null, \"metadata\": {\"file_path\": \"data/paul_graham_essay.txt\", \"file_name\": \"paul_graham_essay.txt\", \"file_type\": \"text/plain\", \"file_size\": 75042, \"creation_date\": \"2024-04-16\", \"last_modified_date\": \"2024-04-15\", \"author\": \"paul_graham\"}, \"excluded_embed_metadata_keys\": [\"file_name\", \"file_type\", \"file_size\", \"creation_date\", \"last_modified_date\", \"last_accessed_date\"], \"excluded_llm_metadata_keys\": [\"file_name\", \"file_type\", \"file_size\", \"creation_date\", \"last_modified_date\", \"last_accessed_date\"], \"relationships\": {\"1\": {\"node_id\": \"data/paul_graham_essay.txt\", \"node_type\": \"4\", \"metadata\": {\"file_path\": \"data/paul_graham_essay.txt\", \"file_name\": \"paul_graham_essay.txt\", \"file_type\": \"text/plain\", \"file_size\": 75042, \"creation_date\": \"2024-04-16\", \"last_modified_date\": \"2024-04-15\", \"author\": \"paul_graham\"}, \"hash\": \"48f3b379e825cf288ae03eb7b6746d9f6703c698ab5b0ec7b83426fa8725d5dc\", \"class_name\": \"RelatedNodeInfo\"}, \"2\": {\"node_id\": \"6a5d88bd-65a3-4394-adba-76711ed263d1\", \"node_type\": \"1\", \"metadata\": {\"file_path\": \"data/paul_graham_essay.txt\", \"file_name\": \"paul_graham_essay.txt\", \"file_type\": \"text/plain\", \"file_size\": 75042, \"creation_date\": \"2024-04-16\", \"last_modified_date\": \"2024-04-15\", \"author\": \"paul_graham\"}, \"hash\": \"89368f4d39115a62da3c686025065f9c273a470a1d50d90531750cd6fbd91ce5\", \"class_name\": \"RelatedNodeInfo\"}, \"3\": {\"node_id\": \"12124b7a-6b9f-4761-a36a-d20d374f5ec5\", \"node_type\": \"1\", \"metadata\": {}, \"hash\": \"e5d561e148930f07c6b98cef7b75f773101e5aa8b30d96ef5bd784b5d6779dd5\", \"class_name\": \"RelatedNodeInfo\"}}, \"text\": \"\", \"mimetype\": \"text/plain\", \"start_char_idx\": 33298, \"end_char_idx\": 35357, \"text_template\": \"{metadata_str}\\\\n\\\\n{content}\", \"metadata_template\": \"{key}: {value}\", \"metadata_seperator\": \"\\\\n\", \"class_name\": \"TextNode\"}',\n",
       "   '_node_type': 'TextNode',\n",
       "   'author': 'paul_graham',\n",
       "   'creation_date': '2024-04-16',\n",
       "   'doc_id': 'data/paul_graham_essay.txt',\n",
       "   'document_id': 'data/paul_graham_essay.txt',\n",
       "   'file_name': 'paul_graham_essay.txt',\n",
       "   'file_path': 'data/paul_graham_essay.txt',\n",
       "   'file_size': 75042,\n",
       "   'file_type': 'text/plain',\n",
       "   'last_modified_date': '2024-04-15',\n",
       "   'ref_doc_id': 'data/paul_graham_essay.txt'},\n",
       "  {'_node_content': '{\"id_\": \"741c6c61-4b48-4f1a-9e5f-d3b8039b93fe\", \"embedding\": null, \"metadata\": {\"file_path\": \"data/paul_graham_essay.txt\", \"file_name\": \"paul_graham_essay.txt\", \"file_type\": \"text/plain\", \"file_size\": 75042, \"creation_date\": \"2024-04-16\", \"last_modified_date\": \"2024-04-15\", \"author\": \"paul_graham\"}, \"excluded_embed_metadata_keys\": [\"file_name\", \"file_type\", \"file_size\", \"creation_date\", \"last_modified_date\", \"last_accessed_date\"], \"excluded_llm_metadata_keys\": [\"file_name\", \"file_type\", \"file_size\", \"creation_date\", \"last_modified_date\", \"last_accessed_date\"], \"relationships\": {\"1\": {\"node_id\": \"data/paul_graham_essay.txt\", \"node_type\": \"4\", \"metadata\": {\"file_path\": \"data/paul_graham_essay.txt\", \"file_name\": \"paul_graham_essay.txt\", \"file_type\": \"text/plain\", \"file_size\": 75042, \"creation_date\": \"2024-04-16\", \"last_modified_date\": \"2024-04-15\", \"author\": \"paul_graham\"}, \"hash\": \"48f3b379e825cf288ae03eb7b6746d9f6703c698ab5b0ec7b83426fa8725d5dc\", \"class_name\": \"RelatedNodeInfo\"}, \"2\": {\"node_id\": \"5c5630f3-4acf-4e73-b722-e3bda9964a03\", \"node_type\": \"1\", \"metadata\": {\"file_path\": \"data/paul_graham_essay.txt\", \"file_name\": \"paul_graham_essay.txt\", \"file_type\": \"text/plain\", \"file_size\": 75042, \"creation_date\": \"2024-04-16\", \"last_modified_date\": \"2024-04-15\", \"author\": \"paul_graham\"}, \"hash\": \"d4a9b54e4fa4f559e78db152a8eb914a8fb294413d3ddeb46641fc193fc221a3\", \"class_name\": \"RelatedNodeInfo\"}, \"3\": {\"node_id\": \"6a5d88bd-65a3-4394-adba-76711ed263d1\", \"node_type\": \"1\", \"metadata\": {}, \"hash\": \"7bb9269c673839ec61ed495ac46d83598a0d2784e03adc9a26fc7a6da9adc896\", \"class_name\": \"RelatedNodeInfo\"}}, \"text\": \"\", \"mimetype\": \"text/plain\", \"start_char_idx\": 29979, \"end_char_idx\": 32123, \"text_template\": \"{metadata_str}\\\\n\\\\n{content}\", \"metadata_template\": \"{key}: {value}\", \"metadata_seperator\": \"\\\\n\", \"class_name\": \"TextNode\"}',\n",
       "   '_node_type': 'TextNode',\n",
       "   'author': 'paul_graham',\n",
       "   'creation_date': '2024-04-16',\n",
       "   'doc_id': 'data/paul_graham_essay.txt',\n",
       "   'document_id': 'data/paul_graham_essay.txt',\n",
       "   'file_name': 'paul_graham_essay.txt',\n",
       "   'file_path': 'data/paul_graham_essay.txt',\n",
       "   'file_size': 75042,\n",
       "   'file_type': 'text/plain',\n",
       "   'last_modified_date': '2024-04-15',\n",
       "   'ref_doc_id': 'data/paul_graham_essay.txt'},\n",
       "  {'_node_content': '{\"id_\": \"8a3f2503-8b0f-4ac8-97bc-fb679ef0820d\", \"embedding\": null, \"metadata\": {\"file_path\": \"data/paul_graham_essay.txt\", \"file_name\": \"paul_graham_essay.txt\", \"file_type\": \"text/plain\", \"file_size\": 75042, \"creation_date\": \"2024-04-16\", \"last_modified_date\": \"2024-04-15\", \"author\": \"paul_graham\"}, \"excluded_embed_metadata_keys\": [\"file_name\", \"file_type\", \"file_size\", \"creation_date\", \"last_modified_date\", \"last_accessed_date\"], \"excluded_llm_metadata_keys\": [\"file_name\", \"file_type\", \"file_size\", \"creation_date\", \"last_modified_date\", \"last_accessed_date\"], \"relationships\": {\"1\": {\"node_id\": \"data/paul_graham_essay.txt\", \"node_type\": \"4\", \"metadata\": {\"file_path\": \"data/paul_graham_essay.txt\", \"file_name\": \"paul_graham_essay.txt\", \"file_type\": \"text/plain\", \"file_size\": 75042, \"creation_date\": \"2024-04-16\", \"last_modified_date\": \"2024-04-15\", \"author\": \"paul_graham\"}, \"hash\": \"48f3b379e825cf288ae03eb7b6746d9f6703c698ab5b0ec7b83426fa8725d5dc\", \"class_name\": \"RelatedNodeInfo\"}, \"2\": {\"node_id\": \"19b26c9f-977d-4444-9857-998b5ae1986c\", \"node_type\": \"1\", \"metadata\": {\"file_path\": \"data/paul_graham_essay.txt\", \"file_name\": \"paul_graham_essay.txt\", \"file_type\": \"text/plain\", \"file_size\": 75042, \"creation_date\": \"2024-04-16\", \"last_modified_date\": \"2024-04-15\", \"author\": \"paul_graham\"}, \"hash\": \"33a3249622f71b7dd4aa0efcb1fa4985fa8d92b30f482bbecbfc2abfafbbafb3\", \"class_name\": \"RelatedNodeInfo\"}, \"3\": {\"node_id\": \"47e36330-f7c7-41ba-8048-8782a9c14b5c\", \"node_type\": \"1\", \"metadata\": {}, \"hash\": \"abdad336d53d635bc1344c19c29b626bb5029b18c89d474f7ed85c6e889dbd09\", \"class_name\": \"RelatedNodeInfo\"}}, \"text\": \"\", \"mimetype\": \"text/plain\", \"start_char_idx\": 38085, \"end_char_idx\": 40214, \"text_template\": \"{metadata_str}\\\\n\\\\n{content}\", \"metadata_template\": \"{key}: {value}\", \"metadata_seperator\": \"\\\\n\", \"class_name\": \"TextNode\"}',\n",
       "   '_node_type': 'TextNode',\n",
       "   'author': 'paul_graham',\n",
       "   'creation_date': '2024-04-16',\n",
       "   'doc_id': 'data/paul_graham_essay.txt',\n",
       "   'document_id': 'data/paul_graham_essay.txt',\n",
       "   'file_name': 'paul_graham_essay.txt',\n",
       "   'file_path': 'data/paul_graham_essay.txt',\n",
       "   'file_size': 75042,\n",
       "   'file_type': 'text/plain',\n",
       "   'last_modified_date': '2024-04-15',\n",
       "   'ref_doc_id': 'data/paul_graham_essay.txt'},\n",
       "  {'_node_content': '{\"id_\": \"8d0a94e6-6da7-4576-a4a4-799be95752a4\", \"embedding\": null, \"metadata\": {\"file_path\": \"data/paul_graham_essay.txt\", \"file_name\": \"paul_graham_essay.txt\", \"file_type\": \"text/plain\", \"file_size\": 75042, \"creation_date\": \"2024-04-16\", \"last_modified_date\": \"2024-04-15\", \"author\": \"paul_graham\"}, \"excluded_embed_metadata_keys\": [\"file_name\", \"file_type\", \"file_size\", \"creation_date\", \"last_modified_date\", \"last_accessed_date\"], \"excluded_llm_metadata_keys\": [\"file_name\", \"file_type\", \"file_size\", \"creation_date\", \"last_modified_date\", \"last_accessed_date\"], \"relationships\": {\"1\": {\"node_id\": \"data/paul_graham_essay.txt\", \"node_type\": \"4\", \"metadata\": {\"file_path\": \"data/paul_graham_essay.txt\", \"file_name\": \"paul_graham_essay.txt\", \"file_type\": \"text/plain\", \"file_size\": 75042, \"creation_date\": \"2024-04-16\", \"last_modified_date\": \"2024-04-15\", \"author\": \"paul_graham\"}, \"hash\": \"48f3b379e825cf288ae03eb7b6746d9f6703c698ab5b0ec7b83426fa8725d5dc\", \"class_name\": \"RelatedNodeInfo\"}, \"2\": {\"node_id\": \"5e784a9a-b642-4dde-8933-244ce96d2652\", \"node_type\": \"1\", \"metadata\": {\"file_path\": \"data/paul_graham_essay.txt\", \"file_name\": \"paul_graham_essay.txt\", \"file_type\": \"text/plain\", \"file_size\": 75042, \"creation_date\": \"2024-04-16\", \"last_modified_date\": \"2024-04-15\", \"author\": \"paul_graham\"}, \"hash\": \"8d5416a8152e755717fb57e223cc1d51c6f773c1d754de9d767c2405b89699f8\", \"class_name\": \"RelatedNodeInfo\"}, \"3\": {\"node_id\": \"42d97852-fdee-459c-b3af-e541bc4eef92\", \"node_type\": \"1\", \"metadata\": {}, \"hash\": \"66cddc0f96e6b90f6311f6433c15281bbe7825ab57a1024fac910a4c73440200\", \"class_name\": \"RelatedNodeInfo\"}}, \"text\": \"\", \"mimetype\": \"text/plain\", \"start_char_idx\": 65075, \"end_char_idx\": 67125, \"text_template\": \"{metadata_str}\\\\n\\\\n{content}\", \"metadata_template\": \"{key}: {value}\", \"metadata_seperator\": \"\\\\n\", \"class_name\": \"TextNode\"}',\n",
       "   '_node_type': 'TextNode',\n",
       "   'author': 'paul_graham',\n",
       "   'creation_date': '2024-04-16',\n",
       "   'doc_id': 'data/paul_graham_essay.txt',\n",
       "   'document_id': 'data/paul_graham_essay.txt',\n",
       "   'file_name': 'paul_graham_essay.txt',\n",
       "   'file_path': 'data/paul_graham_essay.txt',\n",
       "   'file_size': 75042,\n",
       "   'file_type': 'text/plain',\n",
       "   'last_modified_date': '2024-04-15',\n",
       "   'ref_doc_id': 'data/paul_graham_essay.txt'},\n",
       "  {'_node_content': '{\"id_\": \"8ee70872-e17f-4d77-8af8-d60d7a10489e\", \"embedding\": null, \"metadata\": {\"file_path\": \"data/paul_graham_essay.txt\", \"file_name\": \"paul_graham_essay.txt\", \"file_type\": \"text/plain\", \"file_size\": 75042, \"creation_date\": \"2024-04-16\", \"last_modified_date\": \"2024-04-15\", \"author\": \"paul_graham\"}, \"excluded_embed_metadata_keys\": [\"file_name\", \"file_type\", \"file_size\", \"creation_date\", \"last_modified_date\", \"last_accessed_date\"], \"excluded_llm_metadata_keys\": [\"file_name\", \"file_type\", \"file_size\", \"creation_date\", \"last_modified_date\", \"last_accessed_date\"], \"relationships\": {\"1\": {\"node_id\": \"data/paul_graham_essay.txt\", \"node_type\": \"4\", \"metadata\": {\"file_path\": \"data/paul_graham_essay.txt\", \"file_name\": \"paul_graham_essay.txt\", \"file_type\": \"text/plain\", \"file_size\": 75042, \"creation_date\": \"2024-04-16\", \"last_modified_date\": \"2024-04-15\", \"author\": \"paul_graham\"}, \"hash\": \"48f3b379e825cf288ae03eb7b6746d9f6703c698ab5b0ec7b83426fa8725d5dc\", \"class_name\": \"RelatedNodeInfo\"}, \"2\": {\"node_id\": \"9677e6a8-14de-4b72-be23-8eb02fb21988\", \"node_type\": \"1\", \"metadata\": {\"file_path\": \"data/paul_graham_essay.txt\", \"file_name\": \"paul_graham_essay.txt\", \"file_type\": \"text/plain\", \"file_size\": 75042, \"creation_date\": \"2024-04-16\", \"last_modified_date\": \"2024-04-15\", \"author\": \"paul_graham\"}, \"hash\": \"0607d7ad18f7e81eea1b81039f5c99b8fd548655beb92aa65813a99b89dc8852\", \"class_name\": \"RelatedNodeInfo\"}, \"3\": {\"node_id\": \"f7272bb3-abe3-4619-8845-b7d71ab41eff\", \"node_type\": \"1\", \"metadata\": {}, \"hash\": \"3aea6a39ef43a08ecab0ef906a97b68d589a2df6e41b5181b238af148c0dbd43\", \"class_name\": \"RelatedNodeInfo\"}}, \"text\": \"\", \"mimetype\": \"text/plain\", \"start_char_idx\": 69807, \"end_char_idx\": 71959, \"text_template\": \"{metadata_str}\\\\n\\\\n{content}\", \"metadata_template\": \"{key}: {value}\", \"metadata_seperator\": \"\\\\n\", \"class_name\": \"TextNode\"}',\n",
       "   '_node_type': 'TextNode',\n",
       "   'author': 'paul_graham',\n",
       "   'creation_date': '2024-04-16',\n",
       "   'doc_id': 'data/paul_graham_essay.txt',\n",
       "   'document_id': 'data/paul_graham_essay.txt',\n",
       "   'file_name': 'paul_graham_essay.txt',\n",
       "   'file_path': 'data/paul_graham_essay.txt',\n",
       "   'file_size': 75042,\n",
       "   'file_type': 'text/plain',\n",
       "   'last_modified_date': '2024-04-15',\n",
       "   'ref_doc_id': 'data/paul_graham_essay.txt'},\n",
       "  {'_node_content': '{\"id_\": \"94e84d9f-b1f9-4d16-945e-7521cb8097cf\", \"embedding\": null, \"metadata\": {\"file_path\": \"data/paul_graham_essay.txt\", \"file_name\": \"paul_graham_essay.txt\", \"file_type\": \"text/plain\", \"file_size\": 75042, \"creation_date\": \"2024-04-16\", \"last_modified_date\": \"2024-04-15\", \"author\": \"paul_graham\"}, \"excluded_embed_metadata_keys\": [\"file_name\", \"file_type\", \"file_size\", \"creation_date\", \"last_modified_date\", \"last_accessed_date\"], \"excluded_llm_metadata_keys\": [\"file_name\", \"file_type\", \"file_size\", \"creation_date\", \"last_modified_date\", \"last_accessed_date\"], \"relationships\": {\"1\": {\"node_id\": \"data/paul_graham_essay.txt\", \"node_type\": \"4\", \"metadata\": {\"file_path\": \"data/paul_graham_essay.txt\", \"file_name\": \"paul_graham_essay.txt\", \"file_type\": \"text/plain\", \"file_size\": 75042, \"creation_date\": \"2024-04-16\", \"last_modified_date\": \"2024-04-15\", \"author\": \"paul_graham\"}, \"hash\": \"48f3b379e825cf288ae03eb7b6746d9f6703c698ab5b0ec7b83426fa8725d5dc\", \"class_name\": \"RelatedNodeInfo\"}, \"2\": {\"node_id\": \"309fbdb4-eb98-43de-9580-3890dc6d1128\", \"node_type\": \"1\", \"metadata\": {\"file_path\": \"data/paul_graham_essay.txt\", \"file_name\": \"paul_graham_essay.txt\", \"file_type\": \"text/plain\", \"file_size\": 75042, \"creation_date\": \"2024-04-16\", \"last_modified_date\": \"2024-04-15\", \"author\": \"paul_graham\"}, \"hash\": \"954dbdf1cda07e4bf80443b8acbe6aa5ff18b078367cd3b05a015122ac5e7374\", \"class_name\": \"RelatedNodeInfo\"}, \"3\": {\"node_id\": \"c8df8580-779c-4b01-b072-d236c93b2250\", \"node_type\": \"1\", \"metadata\": {}, \"hash\": \"926e7aa86be301c886879c0f185492d13bf1b76fb3ffb6572bfdeb36fbd35dfe\", \"class_name\": \"RelatedNodeInfo\"}}, \"text\": \"\", \"mimetype\": \"text/plain\", \"start_char_idx\": 57497, \"end_char_idx\": 59399, \"text_template\": \"{metadata_str}\\\\n\\\\n{content}\", \"metadata_template\": \"{key}: {value}\", \"metadata_seperator\": \"\\\\n\", \"class_name\": \"TextNode\"}',\n",
       "   '_node_type': 'TextNode',\n",
       "   'author': 'paul_graham',\n",
       "   'creation_date': '2024-04-16',\n",
       "   'doc_id': 'data/paul_graham_essay.txt',\n",
       "   'document_id': 'data/paul_graham_essay.txt',\n",
       "   'file_name': 'paul_graham_essay.txt',\n",
       "   'file_path': 'data/paul_graham_essay.txt',\n",
       "   'file_size': 75042,\n",
       "   'file_type': 'text/plain',\n",
       "   'last_modified_date': '2024-04-15',\n",
       "   'ref_doc_id': 'data/paul_graham_essay.txt'},\n",
       "  {'_node_content': '{\"id_\": \"9677e6a8-14de-4b72-be23-8eb02fb21988\", \"embedding\": null, \"metadata\": {\"file_path\": \"data/paul_graham_essay.txt\", \"file_name\": \"paul_graham_essay.txt\", \"file_type\": \"text/plain\", \"file_size\": 75042, \"creation_date\": \"2024-04-16\", \"last_modified_date\": \"2024-04-15\", \"author\": \"paul_graham\"}, \"excluded_embed_metadata_keys\": [\"file_name\", \"file_type\", \"file_size\", \"creation_date\", \"last_modified_date\", \"last_accessed_date\"], \"excluded_llm_metadata_keys\": [\"file_name\", \"file_type\", \"file_size\", \"creation_date\", \"last_modified_date\", \"last_accessed_date\"], \"relationships\": {\"1\": {\"node_id\": \"data/paul_graham_essay.txt\", \"node_type\": \"4\", \"metadata\": {\"file_path\": \"data/paul_graham_essay.txt\", \"file_name\": \"paul_graham_essay.txt\", \"file_type\": \"text/plain\", \"file_size\": 75042, \"creation_date\": \"2024-04-16\", \"last_modified_date\": \"2024-04-15\", \"author\": \"paul_graham\"}, \"hash\": \"48f3b379e825cf288ae03eb7b6746d9f6703c698ab5b0ec7b83426fa8725d5dc\", \"class_name\": \"RelatedNodeInfo\"}, \"2\": {\"node_id\": \"42d97852-fdee-459c-b3af-e541bc4eef92\", \"node_type\": \"1\", \"metadata\": {\"file_path\": \"data/paul_graham_essay.txt\", \"file_name\": \"paul_graham_essay.txt\", \"file_type\": \"text/plain\", \"file_size\": 75042, \"creation_date\": \"2024-04-16\", \"last_modified_date\": \"2024-04-15\", \"author\": \"paul_graham\"}, \"hash\": \"d862b99fde374095ec184a6a4ee06881e8a5dcf72914284fa6c02bedf7d50495\", \"class_name\": \"RelatedNodeInfo\"}, \"3\": {\"node_id\": \"8ee70872-e17f-4d77-8af8-d60d7a10489e\", \"node_type\": \"1\", \"metadata\": {}, \"hash\": \"fc87f646c3f02ab27a88222e08bb3dab2ab7f685cde5407e9fb3cdae23c3ce08\", \"class_name\": \"RelatedNodeInfo\"}}, \"text\": \"\", \"mimetype\": \"text/plain\", \"start_char_idx\": 68286, \"end_char_idx\": 70349, \"text_template\": \"{metadata_str}\\\\n\\\\n{content}\", \"metadata_template\": \"{key}: {value}\", \"metadata_seperator\": \"\\\\n\", \"class_name\": \"TextNode\"}',\n",
       "   '_node_type': 'TextNode',\n",
       "   'author': 'paul_graham',\n",
       "   'creation_date': '2024-04-16',\n",
       "   'doc_id': 'data/paul_graham_essay.txt',\n",
       "   'document_id': 'data/paul_graham_essay.txt',\n",
       "   'file_name': 'paul_graham_essay.txt',\n",
       "   'file_path': 'data/paul_graham_essay.txt',\n",
       "   'file_size': 75042,\n",
       "   'file_type': 'text/plain',\n",
       "   'last_modified_date': '2024-04-15',\n",
       "   'ref_doc_id': 'data/paul_graham_essay.txt'},\n",
       "  {'_node_content': '{\"id_\": \"9df02686-5b04-41f0-84b5-ba9ce30e5519\", \"embedding\": null, \"metadata\": {\"file_path\": \"data/paul_graham_essay.txt\", \"file_name\": \"paul_graham_essay.txt\", \"file_type\": \"text/plain\", \"file_size\": 75042, \"creation_date\": \"2024-04-16\", \"last_modified_date\": \"2024-04-15\", \"author\": \"paul_graham\"}, \"excluded_embed_metadata_keys\": [\"file_name\", \"file_type\", \"file_size\", \"creation_date\", \"last_modified_date\", \"last_accessed_date\"], \"excluded_llm_metadata_keys\": [\"file_name\", \"file_type\", \"file_size\", \"creation_date\", \"last_modified_date\", \"last_accessed_date\"], \"relationships\": {\"1\": {\"node_id\": \"data/paul_graham_essay.txt\", \"node_type\": \"4\", \"metadata\": {\"file_path\": \"data/paul_graham_essay.txt\", \"file_name\": \"paul_graham_essay.txt\", \"file_type\": \"text/plain\", \"file_size\": 75042, \"creation_date\": \"2024-04-16\", \"last_modified_date\": \"2024-04-15\", \"author\": \"paul_graham\"}, \"hash\": \"48f3b379e825cf288ae03eb7b6746d9f6703c698ab5b0ec7b83426fa8725d5dc\", \"class_name\": \"RelatedNodeInfo\"}, \"2\": {\"node_id\": \"32005ce9-b109-4fb8-9928-dedf64eee000\", \"node_type\": \"1\", \"metadata\": {\"file_path\": \"data/paul_graham_essay.txt\", \"file_name\": \"paul_graham_essay.txt\", \"file_type\": \"text/plain\", \"file_size\": 75042, \"creation_date\": \"2024-04-16\", \"last_modified_date\": \"2024-04-15\", \"author\": \"paul_graham\"}, \"hash\": \"440a368e7c3196d6ee26a72222efabbcd69f3fe055be57dd2ab24e05026adfa8\", \"class_name\": \"RelatedNodeInfo\"}, \"3\": {\"node_id\": \"f4b32e16-afef-4a0b-8110-77e5ae5296c2\", \"node_type\": \"1\", \"metadata\": {}, \"hash\": \"f5dcf102e632412c762122615a3a6b70ed0d19761b083ac5a3ab9e9e70a449e3\", \"class_name\": \"RelatedNodeInfo\"}}, \"text\": \"\", \"mimetype\": \"text/plain\", \"start_char_idx\": 10722, \"end_char_idx\": 12816, \"text_template\": \"{metadata_str}\\\\n\\\\n{content}\", \"metadata_template\": \"{key}: {value}\", \"metadata_seperator\": \"\\\\n\", \"class_name\": \"TextNode\"}',\n",
       "   '_node_type': 'TextNode',\n",
       "   'author': 'paul_graham',\n",
       "   'creation_date': '2024-04-16',\n",
       "   'doc_id': 'data/paul_graham_essay.txt',\n",
       "   'document_id': 'data/paul_graham_essay.txt',\n",
       "   'file_name': 'paul_graham_essay.txt',\n",
       "   'file_path': 'data/paul_graham_essay.txt',\n",
       "   'file_size': 75042,\n",
       "   'file_type': 'text/plain',\n",
       "   'last_modified_date': '2024-04-15',\n",
       "   'ref_doc_id': 'data/paul_graham_essay.txt'},\n",
       "  {'_node_content': '{\"id_\": \"a1895cee-17c5-4744-8f89-a5326515717e\", \"embedding\": null, \"metadata\": {\"file_path\": \"data/paul_graham_essay.txt\", \"file_name\": \"paul_graham_essay.txt\", \"file_type\": \"text/plain\", \"file_size\": 75042, \"creation_date\": \"2024-04-16\", \"last_modified_date\": \"2024-04-15\", \"author\": \"paul_graham\"}, \"excluded_embed_metadata_keys\": [\"file_name\", \"file_type\", \"file_size\", \"creation_date\", \"last_modified_date\", \"last_accessed_date\"], \"excluded_llm_metadata_keys\": [\"file_name\", \"file_type\", \"file_size\", \"creation_date\", \"last_modified_date\", \"last_accessed_date\"], \"relationships\": {\"1\": {\"node_id\": \"data/paul_graham_essay.txt\", \"node_type\": \"4\", \"metadata\": {\"file_path\": \"data/paul_graham_essay.txt\", \"file_name\": \"paul_graham_essay.txt\", \"file_type\": \"text/plain\", \"file_size\": 75042, \"creation_date\": \"2024-04-16\", \"last_modified_date\": \"2024-04-15\", \"author\": \"paul_graham\"}, \"hash\": \"48f3b379e825cf288ae03eb7b6746d9f6703c698ab5b0ec7b83426fa8725d5dc\", \"class_name\": \"RelatedNodeInfo\"}, \"2\": {\"node_id\": \"c8df8580-779c-4b01-b072-d236c93b2250\", \"node_type\": \"1\", \"metadata\": {\"file_path\": \"data/paul_graham_essay.txt\", \"file_name\": \"paul_graham_essay.txt\", \"file_type\": \"text/plain\", \"file_size\": 75042, \"creation_date\": \"2024-04-16\", \"last_modified_date\": \"2024-04-15\", \"author\": \"paul_graham\"}, \"hash\": \"ee001d5dc85b73fbd25b2b976320a27c22b71d6cce3ad94d7ca4f0c9a266e0d3\", \"class_name\": \"RelatedNodeInfo\"}, \"3\": {\"node_id\": \"5db817b4-e925-454f-a6af-1d323c7d7e6a\", \"node_type\": \"1\", \"metadata\": {}, \"hash\": \"94b9995e8e6d39ae483d3b47cbbbaecb26d998fd4563e1bbac3debfbfccf6113\", \"class_name\": \"RelatedNodeInfo\"}}, \"text\": \"\", \"mimetype\": \"text/plain\", \"start_char_idx\": 60461, \"end_char_idx\": 62389, \"text_template\": \"{metadata_str}\\\\n\\\\n{content}\", \"metadata_template\": \"{key}: {value}\", \"metadata_seperator\": \"\\\\n\", \"class_name\": \"TextNode\"}',\n",
       "   '_node_type': 'TextNode',\n",
       "   'author': 'paul_graham',\n",
       "   'creation_date': '2024-04-16',\n",
       "   'doc_id': 'data/paul_graham_essay.txt',\n",
       "   'document_id': 'data/paul_graham_essay.txt',\n",
       "   'file_name': 'paul_graham_essay.txt',\n",
       "   'file_path': 'data/paul_graham_essay.txt',\n",
       "   'file_size': 75042,\n",
       "   'file_type': 'text/plain',\n",
       "   'last_modified_date': '2024-04-15',\n",
       "   'ref_doc_id': 'data/paul_graham_essay.txt'},\n",
       "  {'_node_content': '{\"id_\": \"a65b346c-aba5-4960-8373-59a25c108e4b\", \"embedding\": null, \"metadata\": {\"file_path\": \"data/paul_graham_essay.txt\", \"file_name\": \"paul_graham_essay.txt\", \"file_type\": \"text/plain\", \"file_size\": 75042, \"creation_date\": \"2024-04-16\", \"last_modified_date\": \"2024-04-15\", \"author\": \"paul_graham\"}, \"excluded_embed_metadata_keys\": [\"file_name\", \"file_type\", \"file_size\", \"creation_date\", \"last_modified_date\", \"last_accessed_date\"], \"excluded_llm_metadata_keys\": [\"file_name\", \"file_type\", \"file_size\", \"creation_date\", \"last_modified_date\", \"last_accessed_date\"], \"relationships\": {\"1\": {\"node_id\": \"data/paul_graham_essay.txt\", \"node_type\": \"4\", \"metadata\": {\"file_path\": \"data/paul_graham_essay.txt\", \"file_name\": \"paul_graham_essay.txt\", \"file_type\": \"text/plain\", \"file_size\": 75042, \"creation_date\": \"2024-04-16\", \"last_modified_date\": \"2024-04-15\", \"author\": \"paul_graham\"}, \"hash\": \"48f3b379e825cf288ae03eb7b6746d9f6703c698ab5b0ec7b83426fa8725d5dc\", \"class_name\": \"RelatedNodeInfo\"}, \"2\": {\"node_id\": \"05ffd0b1-1bcc-4fc1-adf6-d00ca14ba8a3\", \"node_type\": \"1\", \"metadata\": {\"file_path\": \"data/paul_graham_essay.txt\", \"file_name\": \"paul_graham_essay.txt\", \"file_type\": \"text/plain\", \"file_size\": 75042, \"creation_date\": \"2024-04-16\", \"last_modified_date\": \"2024-04-15\", \"author\": \"paul_graham\"}, \"hash\": \"6e1eb82a71462ebbb9d66dd7dc9f3748dbd2350325d80e682648f12cbdb1d65d\", \"class_name\": \"RelatedNodeInfo\"}, \"3\": {\"node_id\": \"6880f29f-8015-460a-ba53-fb3e27b3fd71\", \"node_type\": \"1\", \"metadata\": {}, \"hash\": \"ed8ef1c48be6cc048950481d787880fed012b7d0c36416ea21ca6946e3e26318\", \"class_name\": \"RelatedNodeInfo\"}}, \"text\": \"\", \"mimetype\": \"text/plain\", \"start_char_idx\": 46068, \"end_char_idx\": 48305, \"text_template\": \"{metadata_str}\\\\n\\\\n{content}\", \"metadata_template\": \"{key}: {value}\", \"metadata_seperator\": \"\\\\n\", \"class_name\": \"TextNode\"}',\n",
       "   '_node_type': 'TextNode',\n",
       "   'author': 'paul_graham',\n",
       "   'creation_date': '2024-04-16',\n",
       "   'doc_id': 'data/paul_graham_essay.txt',\n",
       "   'document_id': 'data/paul_graham_essay.txt',\n",
       "   'file_name': 'paul_graham_essay.txt',\n",
       "   'file_path': 'data/paul_graham_essay.txt',\n",
       "   'file_size': 75042,\n",
       "   'file_type': 'text/plain',\n",
       "   'last_modified_date': '2024-04-15',\n",
       "   'ref_doc_id': 'data/paul_graham_essay.txt'},\n",
       "  {'_node_content': '{\"id_\": \"acd9cd8e-fc40-4b0c-bdf8-18242b248a0e\", \"embedding\": null, \"metadata\": {\"file_path\": \"data/paul_graham_essay.txt\", \"file_name\": \"paul_graham_essay.txt\", \"file_type\": \"text/plain\", \"file_size\": 75042, \"creation_date\": \"2024-04-16\", \"last_modified_date\": \"2024-04-15\", \"author\": \"paul_graham\"}, \"excluded_embed_metadata_keys\": [\"file_name\", \"file_type\", \"file_size\", \"creation_date\", \"last_modified_date\", \"last_accessed_date\"], \"excluded_llm_metadata_keys\": [\"file_name\", \"file_type\", \"file_size\", \"creation_date\", \"last_modified_date\", \"last_accessed_date\"], \"relationships\": {\"1\": {\"node_id\": \"data/paul_graham_essay.txt\", \"node_type\": \"4\", \"metadata\": {\"file_path\": \"data/paul_graham_essay.txt\", \"file_name\": \"paul_graham_essay.txt\", \"file_type\": \"text/plain\", \"file_size\": 75042, \"creation_date\": \"2024-04-16\", \"last_modified_date\": \"2024-04-15\", \"author\": \"paul_graham\"}, \"hash\": \"48f3b379e825cf288ae03eb7b6746d9f6703c698ab5b0ec7b83426fa8725d5dc\", \"class_name\": \"RelatedNodeInfo\"}, \"2\": {\"node_id\": \"6880f29f-8015-460a-ba53-fb3e27b3fd71\", \"node_type\": \"1\", \"metadata\": {\"file_path\": \"data/paul_graham_essay.txt\", \"file_name\": \"paul_graham_essay.txt\", \"file_type\": \"text/plain\", \"file_size\": 75042, \"creation_date\": \"2024-04-16\", \"last_modified_date\": \"2024-04-15\", \"author\": \"paul_graham\"}, \"hash\": \"093a275d80324077bf1918530a1367efe1b1144636fd76c0e82e562aaa3684e4\", \"class_name\": \"RelatedNodeInfo\"}, \"3\": {\"node_id\": \"b9861eed-acc9-4c21-bab2-f16635890896\", \"node_type\": \"1\", \"metadata\": {}, \"hash\": \"1d0c75d49a6903cf5a3b062eb3f8947e518914e03a8060c082e6b6ba56541577\", \"class_name\": \"RelatedNodeInfo\"}}, \"text\": \"\", \"mimetype\": \"text/plain\", \"start_char_idx\": 49442, \"end_char_idx\": 51429, \"text_template\": \"{metadata_str}\\\\n\\\\n{content}\", \"metadata_template\": \"{key}: {value}\", \"metadata_seperator\": \"\\\\n\", \"class_name\": \"TextNode\"}',\n",
       "   '_node_type': 'TextNode',\n",
       "   'author': 'paul_graham',\n",
       "   'creation_date': '2024-04-16',\n",
       "   'doc_id': 'data/paul_graham_essay.txt',\n",
       "   'document_id': 'data/paul_graham_essay.txt',\n",
       "   'file_name': 'paul_graham_essay.txt',\n",
       "   'file_path': 'data/paul_graham_essay.txt',\n",
       "   'file_size': 75042,\n",
       "   'file_type': 'text/plain',\n",
       "   'last_modified_date': '2024-04-15',\n",
       "   'ref_doc_id': 'data/paul_graham_essay.txt'},\n",
       "  {'_node_content': '{\"id_\": \"b4fac5b6-258a-4daa-a43f-78c249a33cd1\", \"embedding\": null, \"metadata\": {\"file_path\": \"data/paul_graham_essay.txt\", \"file_name\": \"paul_graham_essay.txt\", \"file_type\": \"text/plain\", \"file_size\": 75042, \"creation_date\": \"2024-04-16\", \"last_modified_date\": \"2024-04-15\", \"author\": \"paul_graham\"}, \"excluded_embed_metadata_keys\": [\"file_name\", \"file_type\", \"file_size\", \"creation_date\", \"last_modified_date\", \"last_accessed_date\"], \"excluded_llm_metadata_keys\": [\"file_name\", \"file_type\", \"file_size\", \"creation_date\", \"last_modified_date\", \"last_accessed_date\"], \"relationships\": {\"1\": {\"node_id\": \"data/paul_graham_essay.txt\", \"node_type\": \"4\", \"metadata\": {\"file_path\": \"data/paul_graham_essay.txt\", \"file_name\": \"paul_graham_essay.txt\", \"file_type\": \"text/plain\", \"file_size\": 75042, \"creation_date\": \"2024-04-16\", \"last_modified_date\": \"2024-04-15\", \"author\": \"paul_graham\"}, \"hash\": \"48f3b379e825cf288ae03eb7b6746d9f6703c698ab5b0ec7b83426fa8725d5dc\", \"class_name\": \"RelatedNodeInfo\"}, \"2\": {\"node_id\": \"21e3d7ce-75e1-4847-9197-2ab0b9210dad\", \"node_type\": \"1\", \"metadata\": {\"file_path\": \"data/paul_graham_essay.txt\", \"file_name\": \"paul_graham_essay.txt\", \"file_type\": \"text/plain\", \"file_size\": 75042, \"creation_date\": \"2024-04-16\", \"last_modified_date\": \"2024-04-15\", \"author\": \"paul_graham\"}, \"hash\": \"799ce58d7a1bd47c0182d5d86f03f635840427cb9128db29d2c0880544e03759\", \"class_name\": \"RelatedNodeInfo\"}, \"3\": {\"node_id\": \"dc3bcc31-d6b8-45a1-9421-a59b3af609f3\", \"node_type\": \"1\", \"metadata\": {}, \"hash\": \"f31bd28f804b7c2d3981b477f69904441368d5c184e8efa828bbde16b5794624\", \"class_name\": \"RelatedNodeInfo\"}}, \"text\": \"\", \"mimetype\": \"text/plain\", \"start_char_idx\": 15778, \"end_char_idx\": 17870, \"text_template\": \"{metadata_str}\\\\n\\\\n{content}\", \"metadata_template\": \"{key}: {value}\", \"metadata_seperator\": \"\\\\n\", \"class_name\": \"TextNode\"}',\n",
       "   '_node_type': 'TextNode',\n",
       "   'author': 'paul_graham',\n",
       "   'creation_date': '2024-04-16',\n",
       "   'doc_id': 'data/paul_graham_essay.txt',\n",
       "   'document_id': 'data/paul_graham_essay.txt',\n",
       "   'file_name': 'paul_graham_essay.txt',\n",
       "   'file_path': 'data/paul_graham_essay.txt',\n",
       "   'file_size': 75042,\n",
       "   'file_type': 'text/plain',\n",
       "   'last_modified_date': '2024-04-15',\n",
       "   'ref_doc_id': 'data/paul_graham_essay.txt'},\n",
       "  {'_node_content': '{\"id_\": \"b770821a-4fe7-4ad2-9929-7a25e13b30d0\", \"embedding\": null, \"metadata\": {\"file_path\": \"data/paul_graham_essay.txt\", \"file_name\": \"paul_graham_essay.txt\", \"file_type\": \"text/plain\", \"file_size\": 75042, \"creation_date\": \"2024-04-16\", \"last_modified_date\": \"2024-04-15\", \"author\": \"paul_graham\"}, \"excluded_embed_metadata_keys\": [\"file_name\", \"file_type\", \"file_size\", \"creation_date\", \"last_modified_date\", \"last_accessed_date\"], \"excluded_llm_metadata_keys\": [\"file_name\", \"file_type\", \"file_size\", \"creation_date\", \"last_modified_date\", \"last_accessed_date\"], \"relationships\": {\"1\": {\"node_id\": \"data/paul_graham_essay.txt\", \"node_type\": \"4\", \"metadata\": {\"file_path\": \"data/paul_graham_essay.txt\", \"file_name\": \"paul_graham_essay.txt\", \"file_type\": \"text/plain\", \"file_size\": 75042, \"creation_date\": \"2024-04-16\", \"last_modified_date\": \"2024-04-15\", \"author\": \"paul_graham\"}, \"hash\": \"48f3b379e825cf288ae03eb7b6746d9f6703c698ab5b0ec7b83426fa8725d5dc\", \"class_name\": \"RelatedNodeInfo\"}, \"2\": {\"node_id\": \"f7272bb3-abe3-4619-8845-b7d71ab41eff\", \"node_type\": \"1\", \"metadata\": {\"file_path\": \"data/paul_graham_essay.txt\", \"file_name\": \"paul_graham_essay.txt\", \"file_type\": \"text/plain\", \"file_size\": 75042, \"creation_date\": \"2024-04-16\", \"last_modified_date\": \"2024-04-15\", \"author\": \"paul_graham\"}, \"hash\": \"c2862aaaa0723699f49f14d859caa543edc199c9be3563fdef478164381419fc\", \"class_name\": \"RelatedNodeInfo\"}}, \"text\": \"\", \"mimetype\": \"text/plain\", \"start_char_idx\": 73208, \"end_char_idx\": 75013, \"text_template\": \"{metadata_str}\\\\n\\\\n{content}\", \"metadata_template\": \"{key}: {value}\", \"metadata_seperator\": \"\\\\n\", \"class_name\": \"TextNode\"}',\n",
       "   '_node_type': 'TextNode',\n",
       "   'author': 'paul_graham',\n",
       "   'creation_date': '2024-04-16',\n",
       "   'doc_id': 'data/paul_graham_essay.txt',\n",
       "   'document_id': 'data/paul_graham_essay.txt',\n",
       "   'file_name': 'paul_graham_essay.txt',\n",
       "   'file_path': 'data/paul_graham_essay.txt',\n",
       "   'file_size': 75042,\n",
       "   'file_type': 'text/plain',\n",
       "   'last_modified_date': '2024-04-15',\n",
       "   'ref_doc_id': 'data/paul_graham_essay.txt'},\n",
       "  {'_node_content': '{\"id_\": \"b9861eed-acc9-4c21-bab2-f16635890896\", \"embedding\": null, \"metadata\": {\"file_path\": \"data/paul_graham_essay.txt\", \"file_name\": \"paul_graham_essay.txt\", \"file_type\": \"text/plain\", \"file_size\": 75042, \"creation_date\": \"2024-04-16\", \"last_modified_date\": \"2024-04-15\", \"author\": \"paul_graham\"}, \"excluded_embed_metadata_keys\": [\"file_name\", \"file_type\", \"file_size\", \"creation_date\", \"last_modified_date\", \"last_accessed_date\"], \"excluded_llm_metadata_keys\": [\"file_name\", \"file_type\", \"file_size\", \"creation_date\", \"last_modified_date\", \"last_accessed_date\"], \"relationships\": {\"1\": {\"node_id\": \"data/paul_graham_essay.txt\", \"node_type\": \"4\", \"metadata\": {\"file_path\": \"data/paul_graham_essay.txt\", \"file_name\": \"paul_graham_essay.txt\", \"file_type\": \"text/plain\", \"file_size\": 75042, \"creation_date\": \"2024-04-16\", \"last_modified_date\": \"2024-04-15\", \"author\": \"paul_graham\"}, \"hash\": \"48f3b379e825cf288ae03eb7b6746d9f6703c698ab5b0ec7b83426fa8725d5dc\", \"class_name\": \"RelatedNodeInfo\"}, \"2\": {\"node_id\": \"acd9cd8e-fc40-4b0c-bdf8-18242b248a0e\", \"node_type\": \"1\", \"metadata\": {\"file_path\": \"data/paul_graham_essay.txt\", \"file_name\": \"paul_graham_essay.txt\", \"file_type\": \"text/plain\", \"file_size\": 75042, \"creation_date\": \"2024-04-16\", \"last_modified_date\": \"2024-04-15\", \"author\": \"paul_graham\"}, \"hash\": \"0fdfdf8687b1ed63cfc3b7780ef533982deee6418113c248457da2de93ed3b61\", \"class_name\": \"RelatedNodeInfo\"}, \"3\": {\"node_id\": \"29bb4441-e404-431f-a474-0bf23a191063\", \"node_type\": \"1\", \"metadata\": {}, \"hash\": \"a1ec97cd83337a440b0691c74bcbded38fb8d442d2b38dc39e2d367803723c8e\", \"class_name\": \"RelatedNodeInfo\"}}, \"text\": \"\", \"mimetype\": \"text/plain\", \"start_char_idx\": 50996, \"end_char_idx\": 53204, \"text_template\": \"{metadata_str}\\\\n\\\\n{content}\", \"metadata_template\": \"{key}: {value}\", \"metadata_seperator\": \"\\\\n\", \"class_name\": \"TextNode\"}',\n",
       "   '_node_type': 'TextNode',\n",
       "   'author': 'paul_graham',\n",
       "   'creation_date': '2024-04-16',\n",
       "   'doc_id': 'data/paul_graham_essay.txt',\n",
       "   'document_id': 'data/paul_graham_essay.txt',\n",
       "   'file_name': 'paul_graham_essay.txt',\n",
       "   'file_path': 'data/paul_graham_essay.txt',\n",
       "   'file_size': 75042,\n",
       "   'file_type': 'text/plain',\n",
       "   'last_modified_date': '2024-04-15',\n",
       "   'ref_doc_id': 'data/paul_graham_essay.txt'},\n",
       "  {'_node_content': '{\"id_\": \"c8df8580-779c-4b01-b072-d236c93b2250\", \"embedding\": null, \"metadata\": {\"file_path\": \"data/paul_graham_essay.txt\", \"file_name\": \"paul_graham_essay.txt\", \"file_type\": \"text/plain\", \"file_size\": 75042, \"creation_date\": \"2024-04-16\", \"last_modified_date\": \"2024-04-15\", \"author\": \"paul_graham\"}, \"excluded_embed_metadata_keys\": [\"file_name\", \"file_type\", \"file_size\", \"creation_date\", \"last_modified_date\", \"last_accessed_date\"], \"excluded_llm_metadata_keys\": [\"file_name\", \"file_type\", \"file_size\", \"creation_date\", \"last_modified_date\", \"last_accessed_date\"], \"relationships\": {\"1\": {\"node_id\": \"data/paul_graham_essay.txt\", \"node_type\": \"4\", \"metadata\": {\"file_path\": \"data/paul_graham_essay.txt\", \"file_name\": \"paul_graham_essay.txt\", \"file_type\": \"text/plain\", \"file_size\": 75042, \"creation_date\": \"2024-04-16\", \"last_modified_date\": \"2024-04-15\", \"author\": \"paul_graham\"}, \"hash\": \"48f3b379e825cf288ae03eb7b6746d9f6703c698ab5b0ec7b83426fa8725d5dc\", \"class_name\": \"RelatedNodeInfo\"}, \"2\": {\"node_id\": \"94e84d9f-b1f9-4d16-945e-7521cb8097cf\", \"node_type\": \"1\", \"metadata\": {\"file_path\": \"data/paul_graham_essay.txt\", \"file_name\": \"paul_graham_essay.txt\", \"file_type\": \"text/plain\", \"file_size\": 75042, \"creation_date\": \"2024-04-16\", \"last_modified_date\": \"2024-04-15\", \"author\": \"paul_graham\"}, \"hash\": \"f0af045b7e4de8d9676a4290d06ab3503223a91da0fb147dfa315602000d2e6d\", \"class_name\": \"RelatedNodeInfo\"}, \"3\": {\"node_id\": \"a1895cee-17c5-4744-8f89-a5326515717e\", \"node_type\": \"1\", \"metadata\": {}, \"hash\": \"1a95c50b014022603c890aad3a02a68c9f57e8b0034dd30d9745faf96ca082e8\", \"class_name\": \"RelatedNodeInfo\"}}, \"text\": \"\", \"mimetype\": \"text/plain\", \"start_char_idx\": 58971, \"end_char_idx\": 60908, \"text_template\": \"{metadata_str}\\\\n\\\\n{content}\", \"metadata_template\": \"{key}: {value}\", \"metadata_seperator\": \"\\\\n\", \"class_name\": \"TextNode\"}',\n",
       "   '_node_type': 'TextNode',\n",
       "   'author': 'paul_graham',\n",
       "   'creation_date': '2024-04-16',\n",
       "   'doc_id': 'data/paul_graham_essay.txt',\n",
       "   'document_id': 'data/paul_graham_essay.txt',\n",
       "   'file_name': 'paul_graham_essay.txt',\n",
       "   'file_path': 'data/paul_graham_essay.txt',\n",
       "   'file_size': 75042,\n",
       "   'file_type': 'text/plain',\n",
       "   'last_modified_date': '2024-04-15',\n",
       "   'ref_doc_id': 'data/paul_graham_essay.txt'},\n",
       "  {'_node_content': '{\"id_\": \"cac2a750-40cf-492a-aaeb-a4402b83c03a\", \"embedding\": null, \"metadata\": {\"file_path\": \"data/paul_graham_essay.txt\", \"file_name\": \"paul_graham_essay.txt\", \"file_type\": \"text/plain\", \"file_size\": 75042, \"creation_date\": \"2024-04-16\", \"last_modified_date\": \"2024-04-15\", \"author\": \"paul_graham\"}, \"excluded_embed_metadata_keys\": [\"file_name\", \"file_type\", \"file_size\", \"creation_date\", \"last_modified_date\", \"last_accessed_date\"], \"excluded_llm_metadata_keys\": [\"file_name\", \"file_type\", \"file_size\", \"creation_date\", \"last_modified_date\", \"last_accessed_date\"], \"relationships\": {\"1\": {\"node_id\": \"data/paul_graham_essay.txt\", \"node_type\": \"4\", \"metadata\": {\"file_path\": \"data/paul_graham_essay.txt\", \"file_name\": \"paul_graham_essay.txt\", \"file_type\": \"text/plain\", \"file_size\": 75042, \"creation_date\": \"2024-04-16\", \"last_modified_date\": \"2024-04-15\", \"author\": \"paul_graham\"}, \"hash\": \"48f3b379e825cf288ae03eb7b6746d9f6703c698ab5b0ec7b83426fa8725d5dc\", \"class_name\": \"RelatedNodeInfo\"}, \"2\": {\"node_id\": \"0feabd85-759d-467c-9370-9145573e668a\", \"node_type\": \"1\", \"metadata\": {\"file_path\": \"data/paul_graham_essay.txt\", \"file_name\": \"paul_graham_essay.txt\", \"file_type\": \"text/plain\", \"file_size\": 75042, \"creation_date\": \"2024-04-16\", \"last_modified_date\": \"2024-04-15\", \"author\": \"paul_graham\"}, \"hash\": \"0f7fd905acd8951eae674ec109ea66703e13f34a5760e39752fea7202ec822f4\", \"class_name\": \"RelatedNodeInfo\"}, \"3\": {\"node_id\": \"32005ce9-b109-4fb8-9928-dedf64eee000\", \"node_type\": \"1\", \"metadata\": {}, \"hash\": \"8e8dfc00e633112f9c72054f2f7d3bdafd1489b94384bb49e6e6718762e5f1cf\", \"class_name\": \"RelatedNodeInfo\"}}, \"text\": \"\", \"mimetype\": \"text/plain\", \"start_char_idx\": 7786, \"end_char_idx\": 9847, \"text_template\": \"{metadata_str}\\\\n\\\\n{content}\", \"metadata_template\": \"{key}: {value}\", \"metadata_seperator\": \"\\\\n\", \"class_name\": \"TextNode\"}',\n",
       "   '_node_type': 'TextNode',\n",
       "   'author': 'paul_graham',\n",
       "   'creation_date': '2024-04-16',\n",
       "   'doc_id': 'data/paul_graham_essay.txt',\n",
       "   'document_id': 'data/paul_graham_essay.txt',\n",
       "   'file_name': 'paul_graham_essay.txt',\n",
       "   'file_path': 'data/paul_graham_essay.txt',\n",
       "   'file_size': 75042,\n",
       "   'file_type': 'text/plain',\n",
       "   'last_modified_date': '2024-04-15',\n",
       "   'ref_doc_id': 'data/paul_graham_essay.txt'},\n",
       "  {'_node_content': '{\"id_\": \"cb011e7d-139a-4b0f-b573-7411de78dccd\", \"embedding\": null, \"metadata\": {\"file_path\": \"data/paul_graham_essay.txt\", \"file_name\": \"paul_graham_essay.txt\", \"file_type\": \"text/plain\", \"file_size\": 75042, \"creation_date\": \"2024-04-16\", \"last_modified_date\": \"2024-04-15\", \"author\": \"paul_graham\"}, \"excluded_embed_metadata_keys\": [\"file_name\", \"file_type\", \"file_size\", \"creation_date\", \"last_modified_date\", \"last_accessed_date\"], \"excluded_llm_metadata_keys\": [\"file_name\", \"file_type\", \"file_size\", \"creation_date\", \"last_modified_date\", \"last_accessed_date\"], \"relationships\": {\"1\": {\"node_id\": \"data/paul_graham_essay.txt\", \"node_type\": \"4\", \"metadata\": {\"file_path\": \"data/paul_graham_essay.txt\", \"file_name\": \"paul_graham_essay.txt\", \"file_type\": \"text/plain\", \"file_size\": 75042, \"creation_date\": \"2024-04-16\", \"last_modified_date\": \"2024-04-15\", \"author\": \"paul_graham\"}, \"hash\": \"48f3b379e825cf288ae03eb7b6746d9f6703c698ab5b0ec7b83426fa8725d5dc\", \"class_name\": \"RelatedNodeInfo\"}, \"2\": {\"node_id\": \"47e36330-f7c7-41ba-8048-8782a9c14b5c\", \"node_type\": \"1\", \"metadata\": {\"file_path\": \"data/paul_graham_essay.txt\", \"file_name\": \"paul_graham_essay.txt\", \"file_type\": \"text/plain\", \"file_size\": 75042, \"creation_date\": \"2024-04-16\", \"last_modified_date\": \"2024-04-15\", \"author\": \"paul_graham\"}, \"hash\": \"d0324976030455cd239e4e6e09182683fdac074aa5397c95c8759b941180f8c2\", \"class_name\": \"RelatedNodeInfo\"}, \"3\": {\"node_id\": \"29cebd28-0234-432c-aeea-74cc32639cf8\", \"node_type\": \"1\", \"metadata\": {}, \"hash\": \"6f3e660b2ab9d7e7b5d489c03843b70f882a7634dcf477aa1eae668f7b545750\", \"class_name\": \"RelatedNodeInfo\"}}, \"text\": \"\", \"mimetype\": \"text/plain\", \"start_char_idx\": 41340, \"end_char_idx\": 43405, \"text_template\": \"{metadata_str}\\\\n\\\\n{content}\", \"metadata_template\": \"{key}: {value}\", \"metadata_seperator\": \"\\\\n\", \"class_name\": \"TextNode\"}',\n",
       "   '_node_type': 'TextNode',\n",
       "   'author': 'paul_graham',\n",
       "   'creation_date': '2024-04-16',\n",
       "   'doc_id': 'data/paul_graham_essay.txt',\n",
       "   'document_id': 'data/paul_graham_essay.txt',\n",
       "   'file_name': 'paul_graham_essay.txt',\n",
       "   'file_path': 'data/paul_graham_essay.txt',\n",
       "   'file_size': 75042,\n",
       "   'file_type': 'text/plain',\n",
       "   'last_modified_date': '2024-04-15',\n",
       "   'ref_doc_id': 'data/paul_graham_essay.txt'},\n",
       "  {'_node_content': '{\"id_\": \"d62d524e-c1db-438c-9cf4-68e8e05161a3\", \"embedding\": null, \"metadata\": {\"file_path\": \"data/paul_graham_essay.txt\", \"file_name\": \"paul_graham_essay.txt\", \"file_type\": \"text/plain\", \"file_size\": 75042, \"creation_date\": \"2024-04-16\", \"last_modified_date\": \"2024-04-15\", \"author\": \"paul_graham\"}, \"excluded_embed_metadata_keys\": [\"file_name\", \"file_type\", \"file_size\", \"creation_date\", \"last_modified_date\", \"last_accessed_date\"], \"excluded_llm_metadata_keys\": [\"file_name\", \"file_type\", \"file_size\", \"creation_date\", \"last_modified_date\", \"last_accessed_date\"], \"relationships\": {\"1\": {\"node_id\": \"data/paul_graham_essay.txt\", \"node_type\": \"4\", \"metadata\": {\"file_path\": \"data/paul_graham_essay.txt\", \"file_name\": \"paul_graham_essay.txt\", \"file_type\": \"text/plain\", \"file_size\": 75042, \"creation_date\": \"2024-04-16\", \"last_modified_date\": \"2024-04-15\", \"author\": \"paul_graham\"}, \"hash\": \"48f3b379e825cf288ae03eb7b6746d9f6703c698ab5b0ec7b83426fa8725d5dc\", \"class_name\": \"RelatedNodeInfo\"}, \"2\": {\"node_id\": \"0e99333f-5d85-4eac-9bf3-8e1702e73e45\", \"node_type\": \"1\", \"metadata\": {\"file_path\": \"data/paul_graham_essay.txt\", \"file_name\": \"paul_graham_essay.txt\", \"file_type\": \"text/plain\", \"file_size\": 75042, \"creation_date\": \"2024-04-16\", \"last_modified_date\": \"2024-04-15\", \"author\": \"paul_graham\"}, \"hash\": \"7c4bdcc9f012bfe75cb51f40776cea6926cb23168aa63b05b6a8d5f9b4422f75\", \"class_name\": \"RelatedNodeInfo\"}, \"3\": {\"node_id\": \"3193e1a8-a068-4d10-94a3-3432e6ceaacd\", \"node_type\": \"1\", \"metadata\": {}, \"hash\": \"93b41a423c6a342b5156d38f769dd3b426b6f4792cb24e41873b4946b09fda8f\", \"class_name\": \"RelatedNodeInfo\"}}, \"text\": \"\", \"mimetype\": \"text/plain\", \"start_char_idx\": 23639, \"end_char_idx\": 25708, \"text_template\": \"{metadata_str}\\\\n\\\\n{content}\", \"metadata_template\": \"{key}: {value}\", \"metadata_seperator\": \"\\\\n\", \"class_name\": \"TextNode\"}',\n",
       "   '_node_type': 'TextNode',\n",
       "   'author': 'paul_graham',\n",
       "   'creation_date': '2024-04-16',\n",
       "   'doc_id': 'data/paul_graham_essay.txt',\n",
       "   'document_id': 'data/paul_graham_essay.txt',\n",
       "   'file_name': 'paul_graham_essay.txt',\n",
       "   'file_path': 'data/paul_graham_essay.txt',\n",
       "   'file_size': 75042,\n",
       "   'file_type': 'text/plain',\n",
       "   'last_modified_date': '2024-04-15',\n",
       "   'ref_doc_id': 'data/paul_graham_essay.txt'},\n",
       "  {'_node_content': '{\"id_\": \"d82d5109-a07d-4280-8367-aaaf2848bd3a\", \"embedding\": null, \"metadata\": {\"file_path\": \"data/paul_graham_essay.txt\", \"file_name\": \"paul_graham_essay.txt\", \"file_type\": \"text/plain\", \"file_size\": 75042, \"creation_date\": \"2024-04-16\", \"last_modified_date\": \"2024-04-15\", \"author\": \"paul_graham\"}, \"excluded_embed_metadata_keys\": [\"file_name\", \"file_type\", \"file_size\", \"creation_date\", \"last_modified_date\", \"last_accessed_date\"], \"excluded_llm_metadata_keys\": [\"file_name\", \"file_type\", \"file_size\", \"creation_date\", \"last_modified_date\", \"last_accessed_date\"], \"relationships\": {\"1\": {\"node_id\": \"data/paul_graham_essay.txt\", \"node_type\": \"4\", \"metadata\": {\"file_path\": \"data/paul_graham_essay.txt\", \"file_name\": \"paul_graham_essay.txt\", \"file_type\": \"text/plain\", \"file_size\": 75042, \"creation_date\": \"2024-04-16\", \"last_modified_date\": \"2024-04-15\", \"author\": \"paul_graham\"}, \"hash\": \"48f3b379e825cf288ae03eb7b6746d9f6703c698ab5b0ec7b83426fa8725d5dc\", \"class_name\": \"RelatedNodeInfo\"}, \"3\": {\"node_id\": \"2aeb9044-3857-4fad-8541-b96b45bfb7fc\", \"node_type\": \"1\", \"metadata\": {}, \"hash\": \"ea04d7f5a72cc5f1d4c8b127a77dfca80aeb6086187897dc9c6a6baf631931b6\", \"class_name\": \"RelatedNodeInfo\"}}, \"text\": \"\", \"mimetype\": \"text/plain\", \"start_char_idx\": 2, \"end_char_idx\": 1983, \"text_template\": \"{metadata_str}\\\\n\\\\n{content}\", \"metadata_template\": \"{key}: {value}\", \"metadata_seperator\": \"\\\\n\", \"class_name\": \"TextNode\"}',\n",
       "   '_node_type': 'TextNode',\n",
       "   'author': 'paul_graham',\n",
       "   'creation_date': '2024-04-16',\n",
       "   'doc_id': 'data/paul_graham_essay.txt',\n",
       "   'document_id': 'data/paul_graham_essay.txt',\n",
       "   'file_name': 'paul_graham_essay.txt',\n",
       "   'file_path': 'data/paul_graham_essay.txt',\n",
       "   'file_size': 75042,\n",
       "   'file_type': 'text/plain',\n",
       "   'last_modified_date': '2024-04-15',\n",
       "   'ref_doc_id': 'data/paul_graham_essay.txt'},\n",
       "  {'_node_content': '{\"id_\": \"dc3bcc31-d6b8-45a1-9421-a59b3af609f3\", \"embedding\": null, \"metadata\": {\"file_path\": \"data/paul_graham_essay.txt\", \"file_name\": \"paul_graham_essay.txt\", \"file_type\": \"text/plain\", \"file_size\": 75042, \"creation_date\": \"2024-04-16\", \"last_modified_date\": \"2024-04-15\", \"author\": \"paul_graham\"}, \"excluded_embed_metadata_keys\": [\"file_name\", \"file_type\", \"file_size\", \"creation_date\", \"last_modified_date\", \"last_accessed_date\"], \"excluded_llm_metadata_keys\": [\"file_name\", \"file_type\", \"file_size\", \"creation_date\", \"last_modified_date\", \"last_accessed_date\"], \"relationships\": {\"1\": {\"node_id\": \"data/paul_graham_essay.txt\", \"node_type\": \"4\", \"metadata\": {\"file_path\": \"data/paul_graham_essay.txt\", \"file_name\": \"paul_graham_essay.txt\", \"file_type\": \"text/plain\", \"file_size\": 75042, \"creation_date\": \"2024-04-16\", \"last_modified_date\": \"2024-04-15\", \"author\": \"paul_graham\"}, \"hash\": \"48f3b379e825cf288ae03eb7b6746d9f6703c698ab5b0ec7b83426fa8725d5dc\", \"class_name\": \"RelatedNodeInfo\"}, \"2\": {\"node_id\": \"b4fac5b6-258a-4daa-a43f-78c249a33cd1\", \"node_type\": \"1\", \"metadata\": {\"file_path\": \"data/paul_graham_essay.txt\", \"file_name\": \"paul_graham_essay.txt\", \"file_type\": \"text/plain\", \"file_size\": 75042, \"creation_date\": \"2024-04-16\", \"last_modified_date\": \"2024-04-15\", \"author\": \"paul_graham\"}, \"hash\": \"4720380f452199a1308c687fd4dd0b852bcd58b6333a6d886e23e166efac6250\", \"class_name\": \"RelatedNodeInfo\"}, \"3\": {\"node_id\": \"3540f211-0fdc-429d-b366-0484188a6c4e\", \"node_type\": \"1\", \"metadata\": {}, \"hash\": \"d7911c6f8bd59f3ce005c3867d162b083481d4aa764acbaeb14fb0d3749c9d1b\", \"class_name\": \"RelatedNodeInfo\"}}, \"text\": \"\", \"mimetype\": \"text/plain\", \"start_char_idx\": 17420, \"end_char_idx\": 19229, \"text_template\": \"{metadata_str}\\\\n\\\\n{content}\", \"metadata_template\": \"{key}: {value}\", \"metadata_seperator\": \"\\\\n\", \"class_name\": \"TextNode\"}',\n",
       "   '_node_type': 'TextNode',\n",
       "   'author': 'paul_graham',\n",
       "   'creation_date': '2024-04-16',\n",
       "   'doc_id': 'data/paul_graham_essay.txt',\n",
       "   'document_id': 'data/paul_graham_essay.txt',\n",
       "   'file_name': 'paul_graham_essay.txt',\n",
       "   'file_path': 'data/paul_graham_essay.txt',\n",
       "   'file_size': 75042,\n",
       "   'file_type': 'text/plain',\n",
       "   'last_modified_date': '2024-04-15',\n",
       "   'ref_doc_id': 'data/paul_graham_essay.txt'},\n",
       "  {'_node_content': '{\"id_\": \"ece2bbc0-1fae-47ee-a5f6-e84c7f755578\", \"embedding\": null, \"metadata\": {\"file_path\": \"data/paul_graham_essay.txt\", \"file_name\": \"paul_graham_essay.txt\", \"file_type\": \"text/plain\", \"file_size\": 75042, \"creation_date\": \"2024-04-16\", \"last_modified_date\": \"2024-04-15\", \"author\": \"paul_graham\"}, \"excluded_embed_metadata_keys\": [\"file_name\", \"file_type\", \"file_size\", \"creation_date\", \"last_modified_date\", \"last_accessed_date\"], \"excluded_llm_metadata_keys\": [\"file_name\", \"file_type\", \"file_size\", \"creation_date\", \"last_modified_date\", \"last_accessed_date\"], \"relationships\": {\"1\": {\"node_id\": \"data/paul_graham_essay.txt\", \"node_type\": \"4\", \"metadata\": {\"file_path\": \"data/paul_graham_essay.txt\", \"file_name\": \"paul_graham_essay.txt\", \"file_type\": \"text/plain\", \"file_size\": 75042, \"creation_date\": \"2024-04-16\", \"last_modified_date\": \"2024-04-15\", \"author\": \"paul_graham\"}, \"hash\": \"48f3b379e825cf288ae03eb7b6746d9f6703c698ab5b0ec7b83426fa8725d5dc\", \"class_name\": \"RelatedNodeInfo\"}, \"2\": {\"node_id\": \"57d4e51c-ed24-4af0-9c3c-71989852b953\", \"node_type\": \"1\", \"metadata\": {\"file_path\": \"data/paul_graham_essay.txt\", \"file_name\": \"paul_graham_essay.txt\", \"file_type\": \"text/plain\", \"file_size\": 75042, \"creation_date\": \"2024-04-16\", \"last_modified_date\": \"2024-04-15\", \"author\": \"paul_graham\"}, \"hash\": \"3189b55c0cfd5a2717ab601501db2ce7798ad9cf3b431d59064f6c6bf41e63ab\", \"class_name\": \"RelatedNodeInfo\"}, \"3\": {\"node_id\": \"0feabd85-759d-467c-9370-9145573e668a\", \"node_type\": \"1\", \"metadata\": {}, \"hash\": \"5447c6d173f62130a7827451e50954578341ca5165095947ab0bac1364f76a59\", \"class_name\": \"RelatedNodeInfo\"}}, \"text\": \"\", \"mimetype\": \"text/plain\", \"start_char_idx\": 4570, \"end_char_idx\": 6691, \"text_template\": \"{metadata_str}\\\\n\\\\n{content}\", \"metadata_template\": \"{key}: {value}\", \"metadata_seperator\": \"\\\\n\", \"class_name\": \"TextNode\"}',\n",
       "   '_node_type': 'TextNode',\n",
       "   'author': 'paul_graham',\n",
       "   'creation_date': '2024-04-16',\n",
       "   'doc_id': 'data/paul_graham_essay.txt',\n",
       "   'document_id': 'data/paul_graham_essay.txt',\n",
       "   'file_name': 'paul_graham_essay.txt',\n",
       "   'file_path': 'data/paul_graham_essay.txt',\n",
       "   'file_size': 75042,\n",
       "   'file_type': 'text/plain',\n",
       "   'last_modified_date': '2024-04-15',\n",
       "   'ref_doc_id': 'data/paul_graham_essay.txt'},\n",
       "  {'_node_content': '{\"id_\": \"f4b32e16-afef-4a0b-8110-77e5ae5296c2\", \"embedding\": null, \"metadata\": {\"file_path\": \"data/paul_graham_essay.txt\", \"file_name\": \"paul_graham_essay.txt\", \"file_type\": \"text/plain\", \"file_size\": 75042, \"creation_date\": \"2024-04-16\", \"last_modified_date\": \"2024-04-15\", \"author\": \"paul_graham\"}, \"excluded_embed_metadata_keys\": [\"file_name\", \"file_type\", \"file_size\", \"creation_date\", \"last_modified_date\", \"last_accessed_date\"], \"excluded_llm_metadata_keys\": [\"file_name\", \"file_type\", \"file_size\", \"creation_date\", \"last_modified_date\", \"last_accessed_date\"], \"relationships\": {\"1\": {\"node_id\": \"data/paul_graham_essay.txt\", \"node_type\": \"4\", \"metadata\": {\"file_path\": \"data/paul_graham_essay.txt\", \"file_name\": \"paul_graham_essay.txt\", \"file_type\": \"text/plain\", \"file_size\": 75042, \"creation_date\": \"2024-04-16\", \"last_modified_date\": \"2024-04-15\", \"author\": \"paul_graham\"}, \"hash\": \"48f3b379e825cf288ae03eb7b6746d9f6703c698ab5b0ec7b83426fa8725d5dc\", \"class_name\": \"RelatedNodeInfo\"}, \"2\": {\"node_id\": \"9df02686-5b04-41f0-84b5-ba9ce30e5519\", \"node_type\": \"1\", \"metadata\": {\"file_path\": \"data/paul_graham_essay.txt\", \"file_name\": \"paul_graham_essay.txt\", \"file_type\": \"text/plain\", \"file_size\": 75042, \"creation_date\": \"2024-04-16\", \"last_modified_date\": \"2024-04-15\", \"author\": \"paul_graham\"}, \"hash\": \"b7d8a862d6867e2549976ed4e121abe3b3b842f36048f714ac469f9c9fe576b9\", \"class_name\": \"RelatedNodeInfo\"}, \"3\": {\"node_id\": \"21e3d7ce-75e1-4847-9197-2ab0b9210dad\", \"node_type\": \"1\", \"metadata\": {}, \"hash\": \"31c59f6c0f237fcc645a7b8f4c52929b74d0a6931cab8302015901a4d26b9db4\", \"class_name\": \"RelatedNodeInfo\"}}, \"text\": \"\", \"mimetype\": \"text/plain\", \"start_char_idx\": 12337, \"end_char_idx\": 14517, \"text_template\": \"{metadata_str}\\\\n\\\\n{content}\", \"metadata_template\": \"{key}: {value}\", \"metadata_seperator\": \"\\\\n\", \"class_name\": \"TextNode\"}',\n",
       "   '_node_type': 'TextNode',\n",
       "   'author': 'paul_graham',\n",
       "   'creation_date': '2024-04-16',\n",
       "   'doc_id': 'data/paul_graham_essay.txt',\n",
       "   'document_id': 'data/paul_graham_essay.txt',\n",
       "   'file_name': 'paul_graham_essay.txt',\n",
       "   'file_path': 'data/paul_graham_essay.txt',\n",
       "   'file_size': 75042,\n",
       "   'file_type': 'text/plain',\n",
       "   'last_modified_date': '2024-04-15',\n",
       "   'ref_doc_id': 'data/paul_graham_essay.txt'},\n",
       "  {'_node_content': '{\"id_\": \"f7272bb3-abe3-4619-8845-b7d71ab41eff\", \"embedding\": null, \"metadata\": {\"file_path\": \"data/paul_graham_essay.txt\", \"file_name\": \"paul_graham_essay.txt\", \"file_type\": \"text/plain\", \"file_size\": 75042, \"creation_date\": \"2024-04-16\", \"last_modified_date\": \"2024-04-15\", \"author\": \"paul_graham\"}, \"excluded_embed_metadata_keys\": [\"file_name\", \"file_type\", \"file_size\", \"creation_date\", \"last_modified_date\", \"last_accessed_date\"], \"excluded_llm_metadata_keys\": [\"file_name\", \"file_type\", \"file_size\", \"creation_date\", \"last_modified_date\", \"last_accessed_date\"], \"relationships\": {\"1\": {\"node_id\": \"data/paul_graham_essay.txt\", \"node_type\": \"4\", \"metadata\": {\"file_path\": \"data/paul_graham_essay.txt\", \"file_name\": \"paul_graham_essay.txt\", \"file_type\": \"text/plain\", \"file_size\": 75042, \"creation_date\": \"2024-04-16\", \"last_modified_date\": \"2024-04-15\", \"author\": \"paul_graham\"}, \"hash\": \"48f3b379e825cf288ae03eb7b6746d9f6703c698ab5b0ec7b83426fa8725d5dc\", \"class_name\": \"RelatedNodeInfo\"}, \"2\": {\"node_id\": \"8ee70872-e17f-4d77-8af8-d60d7a10489e\", \"node_type\": \"1\", \"metadata\": {\"file_path\": \"data/paul_graham_essay.txt\", \"file_name\": \"paul_graham_essay.txt\", \"file_type\": \"text/plain\", \"file_size\": 75042, \"creation_date\": \"2024-04-16\", \"last_modified_date\": \"2024-04-15\", \"author\": \"paul_graham\"}, \"hash\": \"8d3d080bfd34270a0084082a5f48591a430cd57497b51f6c48fc0bcd3539057a\", \"class_name\": \"RelatedNodeInfo\"}, \"3\": {\"node_id\": \"b770821a-4fe7-4ad2-9929-7a25e13b30d0\", \"node_type\": \"1\", \"metadata\": {}, \"hash\": \"a7e07569b48364209c533853f4dec82f2f909cc1a643c66fa41862383d722a70\", \"class_name\": \"RelatedNodeInfo\"}}, \"text\": \"\", \"mimetype\": \"text/plain\", \"start_char_idx\": 71458, \"end_char_idx\": 73620, \"text_template\": \"{metadata_str}\\\\n\\\\n{content}\", \"metadata_template\": \"{key}: {value}\", \"metadata_seperator\": \"\\\\n\", \"class_name\": \"TextNode\"}',\n",
       "   '_node_type': 'TextNode',\n",
       "   'author': 'paul_graham',\n",
       "   'creation_date': '2024-04-16',\n",
       "   'doc_id': 'data/paul_graham_essay.txt',\n",
       "   'document_id': 'data/paul_graham_essay.txt',\n",
       "   'file_name': 'paul_graham_essay.txt',\n",
       "   'file_path': 'data/paul_graham_essay.txt',\n",
       "   'file_size': 75042,\n",
       "   'file_type': 'text/plain',\n",
       "   'last_modified_date': '2024-04-15',\n",
       "   'ref_doc_id': 'data/paul_graham_essay.txt'}],\n",
       " 'documents': [\"Now they could be, and I was going to write them. [12]\\n\\nI've worked on several different things, but to the extent there was a turning point where I figured out what to work on, it was when I started publishing essays online. From then on I knew that whatever else I did, I'd always write essays too.\\n\\nI knew that online essays would be a marginal medium at first. Socially they'd seem more like rants posted by nutjobs on their GeoCities sites than the genteel and beautifully typeset compositions published in The New Yorker. But by this point I knew enough to find that encouraging instead of discouraging.\\n\\nOne of the most conspicuous patterns I've noticed in my life is how well it has worked, for me at least, to work on things that weren't prestigious. Still life has always been the least prestigious form of painting. Viaweb and Y Combinator both seemed lame when we started them. I still get the glassy eye from strangers when they ask what I'm writing, and I explain that it's an essay I'm going to publish on my web site. Even Lisp, though prestigious intellectually in something like the way Latin is, also seems about as hip.\\n\\nIt's not that unprestigious types of work are good per se. But when you find yourself drawn to some kind of work despite its current lack of prestige, it's a sign both that there's something real to be discovered there, and that you have the right kind of motives. Impure motives are a big danger for the ambitious. If anything is going to lead you astray, it will be the desire to impress people. So while working on things that aren't prestigious doesn't guarantee you're on the right track, it at least guarantees you're not on the most common type of wrong one.\\n\\nOver the next several years I wrote lots of essays about all kinds of different topics. O'Reilly reprinted a collection of them as a book, called Hackers & Painters after one of the essays in it. I also worked on spam filters, and did some more painting. I used to have dinners for a group of friends every thursday night, which taught me how to cook for groups.\",\n",
       "  \"They tended to be confused and demoralized by what they found at RISD, but they kept going, because painting was what they did. I was not one of the kids who could draw in high school, but at RISD I was definitely closer to their tribe than the tribe of signature style seekers.\\n\\nI learned a lot in the color class I took at RISD, but otherwise I was basically teaching myself to paint, and I could do that for free. So in 1993 I dropped out. I hung around Providence for a bit, and then my college friend Nancy Parmet did me a big favor. A rent-controlled apartment in a building her mother owned in New York was becoming vacant. Did I want it? It wasn't much more than my current place, and New York was supposed to be where the artists were. So yes, I wanted it! [7]\\n\\nAsterix comics begin by zooming in on a tiny corner of Roman Gaul that turns out not to be controlled by the Romans. You can do something similar on a map of New York City: if you zoom in on the Upper East Side, there's a tiny corner that's not rich, or at least wasn't in 1993. It's called Yorkville, and that was my new home. Now I was a New York artist — in the strictly technical sense of making paintings and living in New York.\\n\\nI was nervous about money, because I could sense that Interleaf was on the way down. Freelance Lisp hacking work was very rare, and I didn't want to have to program in another language, which in those days would have meant C++ if I was lucky. So with my unerring nose for financial opportunity, I decided to write another book on Lisp. This would be a popular book, the sort of book that could be used as a textbook. I imagined myself living frugally off the royalties and spending all my time painting. (The painting on the cover of this book, ANSI Common Lisp, is one that I painted around this time.)\\n\\nThe best thing about New York for me was the presence of Idelle and Julian Weber. Idelle Weber was a painter, one of the early photorealists, and I'd taken her painting class at Harvard.\",\n",
       "  'Only Harvard accepted me, so that was where I went.\\n\\nI don\\'t remember the moment it happened, or if there even was a specific moment, but during the first year of grad school I realized that AI, as practiced at the time, was a hoax. By which I mean the sort of AI in which a program that\\'s told \"the dog is sitting on the chair\" translates this into some formal representation and adds it to the list of things it knows.\\n\\nWhat these programs really showed was that there\\'s a subset of natural language that\\'s a formal language. But a very proper subset. It was clear that there was an unbridgeable gap between what they could do and actually understanding natural language. It was not, in fact, simply a matter of teaching SHRDLU more words. That whole way of doing AI, with explicit data structures representing concepts, was not going to work. Its brokenness did, as so often happens, generate a lot of opportunities to write papers about various band-aids that could be applied to it, but it was never going to get us Mike.\\n\\nSo I looked around to see what I could salvage from the wreckage of my plans, and there was Lisp. I knew from experience that Lisp was interesting for its own sake and not just for its association with AI, even though that was the main reason people cared about it at the time. So I decided to focus on Lisp. In fact, I decided to write a book about Lisp hacking. It\\'s scary to think how little I knew about Lisp hacking when I started writing that book. But there\\'s nothing like writing a book about something to help you learn it. The book, On Lisp, wasn\\'t published till 1993, but I wrote much of it in grad school.\\n\\nComputer Science is an uneasy alliance between two halves, theory and systems. The theory people prove things, and the systems people build things. I wanted to build things. I had plenty of respect for theory — indeed, a sneaking suspicion that it was the more admirable of the two halves — but building things seemed so much more exciting.\\n\\nThe problem with systems work, though, was that it didn\\'t last. Any program you wrote today, no matter how good, would be obsolete in a couple decades at best.',\n",
       "  \"A company with just a handful of employees would have seemed amateurish. So we didn't reach breakeven until about when Yahoo bought us in the summer of 1998. Which in turn meant we were at the mercy of investors for the entire life of the company. And since both we and our investors were noobs at startups, the result was a mess even by startup standards.\\n\\nIt was a huge relief when Yahoo bought us. In principle our Viaweb stock was valuable. It was a share in a business that was profitable and growing rapidly. But it didn't feel very valuable to me; I had no idea how to value a business, but I was all too keenly aware of the near-death experiences we seemed to have every few months. Nor had I changed my grad student lifestyle significantly since we started. So when Yahoo bought us it felt like going from rags to riches. Since we were going to California, I bought a car, a yellow 1998 VW GTI. I remember thinking that its leather seats alone were by far the most luxurious thing I owned.\\n\\nThe next year, from the summer of 1998 to the summer of 1999, must have been the least productive of my life. I didn't realize it at the time, but I was worn out from the effort and stress of running Viaweb. For a while after I got to California I tried to continue my usual m.o. of programming till 3 in the morning, but fatigue combined with Yahoo's prematurely aged culture and grim cube farm in Santa Clara gradually dragged me down. After a few months it felt disconcertingly like working at Interleaf.\\n\\nYahoo had given us a lot of options when they bought us. At the time I thought Yahoo was so overvalued that they'd never be worth anything, but to my astonishment the stock went up 5x in the next year. I hung on till the first chunk of options vested, then in the summer of 1999 I left. It had been so long since I'd painted anything that I'd half forgotten why I was doing this. My brain had been entirely full of software and men's shirts for 4 years. But I had done this to get rich so I could paint, I reminded myself, and now I was rich, so I should go paint.\",\n",
       "  \"I hung on till the first chunk of options vested, then in the summer of 1999 I left. It had been so long since I'd painted anything that I'd half forgotten why I was doing this. My brain had been entirely full of software and men's shirts for 4 years. But I had done this to get rich so I could paint, I reminded myself, and now I was rich, so I should go paint.\\n\\nWhen I said I was leaving, my boss at Yahoo had a long conversation with me about my plans. I told him all about the kinds of pictures I wanted to paint. At the time I was touched that he took such an interest in me. Now I realize it was because he thought I was lying. My options at that point were worth about $2 million a month. If I was leaving that kind of money on the table, it could only be to go and start some new startup, and if I did, I might take people with me. This was the height of the Internet Bubble, and Yahoo was ground zero of it. My boss was at that moment a billionaire. Leaving then to start a new startup must have seemed to him an insanely, and yet also plausibly, ambitious plan.\\n\\nBut I really was quitting to paint, and I started immediately. There was no time to lose. I'd already burned 4 years getting rich. Now when I talk to founders who are leaving after selling their companies, my advice is always the same: take a vacation. That's what I should have done, just gone off somewhere and done nothing for a month or two, but the idea never occurred to me.\\n\\nSo I tried to paint, but I just didn't seem to have any energy or ambition. Part of the problem was that I didn't know many people in California. I'd compounded this problem by buying a house up in the Santa Cruz Mountains, with a beautiful view but miles from anywhere. I stuck it out for a few more months, then in desperation I went back to New York, where unless you understand about rent control you'll be surprised to hear I still had my apartment, sealed up like a tomb of my old life. Idelle was in New York at least, and there were other people trying to paint there, even though I didn't know any of them.\",\n",
       "  \"And at the same time all involved would adhere outwardly to the conventions of a 19th century atelier. We actually had one of those little stoves, fed with kindling, that you see in 19th century studio paintings, and a nude model sitting as close to it as possible without getting burned. Except hardly anyone else painted her besides me. The rest of the students spent their time chatting or occasionally trying to imitate things they'd seen in American art magazines.\\n\\nOur model turned out to live just down the street from me. She made a living from a combination of modelling and making fakes for a local antique dealer. She'd copy an obscure old painting out of a book, and then he'd take the copy and maltreat it to make it look old. [3]\\n\\nWhile I was a student at the Accademia I started painting still lives in my bedroom at night. These paintings were tiny, because the room was, and because I painted them on leftover scraps of canvas, which was all I could afford at the time. Painting still lives is different from painting people, because the subject, as its name suggests, can't move. People can't sit for more than about 15 minutes at a time, and when they do they don't sit very still. So the traditional m.o. for painting people is to know how to paint a generic person, which you then modify to match the specific person you're painting. Whereas a still life you can, if you want, copy pixel by pixel from what you're seeing. You don't want to stop there, of course, or you get merely photographic accuracy, and what makes a still life interesting is that it's been through a head. You want to emphasize the visual cues that tell you, for example, that the reason the color changes suddenly at a certain point is that it's the edge of an object. By subtly emphasizing such things you can make paintings that are more realistic than photographs not just in some metaphorical sense, but in the strict information-theoretic sense. [4]\\n\\nI liked painting still lives because I was curious about what I was seeing. In everyday life, we aren't consciously aware of much we're seeing.\",\n",
       "  'I had never imagined that writing essays would be a way to get \"deal flow,\" as investors call it, but it turned out to be the perfect source. [15] We got 225 applications for the Summer Founders Program, and we were surprised to find that a lot of them were from people who\\'d already graduated, or were about to that spring. Already this SFP thing was starting to feel more serious than we\\'d intended.\\n\\nWe invited about 20 of the 225 groups to interview in person, and from those we picked 8 to fund. They were an impressive group. That first batch included reddit, Justin Kan and Emmett Shear, who went on to found Twitch, Aaron Swartz, who had already helped write the RSS spec and would a few years later become a martyr for open access, and Sam Altman, who would later become the second president of YC. I don\\'t think it was entirely luck that the first batch was so good. You had to be pretty bold to sign up for a weird thing like the Summer Founders Program instead of a summer job at a legit place like Microsoft or Goldman Sachs.\\n\\nThe deal for startups was based on a combination of the deal we did with Julian ($10k for 10%) and what Robert said MIT grad students got for the summer ($6k). We invested $6k per founder, which in the typical two-founder case was $12k, in return for 6%. That had to be fair, because it was twice as good as the deal we ourselves had taken. Plus that first summer, which was really hot, Jessica brought the founders free air conditioners. [16]\\n\\nFairly quickly I realized that we had stumbled upon the way to scale startup funding. Funding startups in batches was more convenient for us, because it meant we could do things for a lot of startups at once, but being part of a batch was better for the startups too. It solved one of the biggest problems faced by founders: the isolation. Now you not only had colleagues, but colleagues who understood the problems you were facing and could tell you how they were solving them.\\n\\nAs YC grew, we started to notice other advantages of scale. The alumni became a tight community, dedicated to helping one another, and especially the current batch, whose shoes they remembered being in.',\n",
       "  \"The following spring, lightning struck. I was invited to give a talk at a Lisp conference, so I gave one about how we'd used Lisp at Viaweb. Afterward I put a postscript file of this talk online, on paulgraham.com, which I'd created years before using Viaweb but had never used for anything. In one day it got 30,000 page views. What on earth had happened? The referring urls showed that someone had posted it on Slashdot. [10]\\n\\nWow, I thought, there's an audience. If I write something and put it on the web, anyone can read it. That may seem obvious now, but it was surprising then. In the print era there was a narrow channel to readers, guarded by fierce monsters known as editors. The only way to get an audience for anything you wrote was to get it published as a book, or in a newspaper or magazine. Now anyone could publish anything.\\n\\nThis had been possible in principle since 1993, but not many people had realized it yet. I had been intimately involved with building the infrastructure of the web for most of that time, and a writer as well, and it had taken me 8 years to realize it. Even then it took me several years to understand the implications. It meant there would be a whole new generation of essays. [11]\\n\\nIn the print era, the channel for publishing essays had been vanishingly small. Except for a few officially anointed thinkers who went to the right parties in New York, the only people allowed to publish essays were specialists writing about their specialties. There were so many essays that had never been written, because there had been no way to publish them. Now they could be, and I was going to write them. [12]\\n\\nI've worked on several different things, but to the extent there was a turning point where I figured out what to work on, it was when I started publishing essays online. From then on I knew that whatever else I did, I'd always write essays too.\\n\\nI knew that online essays would be a marginal medium at first. Socially they'd seem more like rants posted by nutjobs on their GeoCities sites than the genteel and beautifully typeset compositions published in The New Yorker.\",\n",
       "  \"The only other option was to do things that didn't rely on any input, like calculate approximations of pi, but I didn't know enough math to do anything interesting of that type. So I'm not surprised I can't remember any programs I wrote, because they can't have done much. My clearest memory is of the moment I learned it was possible for programs not to terminate, when one of mine didn't. On a machine without time-sharing, this was a social as well as a technical error, as the data center manager's expression made clear.\\n\\nWith microcomputers, everything changed. Now you could have a computer sitting right in front of you, on a desk, that could respond to your keystrokes as it was running instead of just churning through a stack of punch cards and then stopping. [1]\\n\\nThe first of my friends to get a microcomputer built it himself. It was sold as a kit by Heathkit. I remember vividly how impressed and envious I felt watching him sitting in front of it, typing programs right into the computer.\\n\\nComputers were expensive in those days and it took me years of nagging before I convinced my father to buy one, a TRS-80, in about 1980. The gold standard then was the Apple II, but a TRS-80 was good enough. This was when I really started programming. I wrote simple games, a program to predict how high my model rockets would fly, and a word processor that my father used to write at least one book. There was only room in memory for about 2 pages of text, so he'd write 2 pages at a time and then print them out, but it was a lot better than a typewriter.\\n\\nThough I liked programming, I didn't plan to study it in college. In college I was going to study philosophy, which sounded much more powerful. It seemed, to my naive high school self, to be the study of the ultimate truths, compared to which the things studied in other fields would be mere domain knowledge. What I discovered when I got to college was that the other fields took up so much of the space of ideas that there wasn't much left for these supposed ultimate truths. All that seemed left for philosophy were edge cases that people in other fields felt could safely be ignored.\",\n",
       "  'Plus it wasn\\'t startup founders we wanted to reach. It was future startup founders. So I changed the name to Hacker News and the topic to whatever engaged one\\'s intellectual curiosity.\\n\\nHN was no doubt good for YC, but it was also by far the biggest source of stress for me. If all I\\'d had to do was select and help founders, life would have been so easy. And that implies that HN was a mistake. Surely the biggest source of stress in one\\'s work should at least be something close to the core of the work. Whereas I was like someone who was in pain while running a marathon not from the exertion of running, but because I had a blister from an ill-fitting shoe. When I was dealing with some urgent problem during YC, there was about a 60% chance it had to do with HN, and a 40% chance it had do with everything else combined. [17]\\n\\nAs well as HN, I wrote all of YC\\'s internal software in Arc. But while I continued to work a good deal in Arc, I gradually stopped working on Arc, partly because I didn\\'t have time to, and partly because it was a lot less attractive to mess around with the language now that we had all this infrastructure depending on it. So now my three projects were reduced to two: writing essays and working on YC.\\n\\nYC was different from other kinds of work I\\'ve done. Instead of deciding for myself what to work on, the problems came to me. Every 6 months there was a new batch of startups, and their problems, whatever they were, became our problems. It was very engaging work, because their problems were quite varied, and the good founders were very effective. If you were trying to learn the most you could about startups in the shortest possible time, you couldn\\'t have picked a better way to do it.\\n\\nThere were parts of the job I didn\\'t like. Disputes between cofounders, figuring out when people were lying to us, fighting with people who maltreated the startups, and so on. But I worked hard even at the parts I didn\\'t like. I was haunted by something Kevin Hale once said about companies: \"No one works harder than the boss.\"',\n",
       "  'I was right about that part. What I got wrong was the idea. I decided we should start a company to put art galleries online. I can\\'t honestly say, after reading so many Y Combinator applications, that this was the worst startup idea ever, but it was up there. Art galleries didn\\'t want to be online, and still don\\'t, not the fancy ones. That\\'s not how they sell. I wrote some software to generate web sites for galleries, and Robert wrote some to resize images and set up an http server to serve the pages. Then we tried to sign up galleries. To call this a difficult sale would be an understatement. It was difficult to give away. A few galleries let us make sites for them for free, but none paid us.\\n\\nThen some online stores started to appear, and I realized that except for the order buttons they were identical to the sites we\\'d been generating for galleries. This impressive-sounding thing called an \"internet storefront\" was something we already knew how to build.\\n\\nSo in the summer of 1995, after I submitted the camera-ready copy of ANSI Common Lisp to the publishers, we started trying to write software to build online stores. At first this was going to be normal desktop software, which in those days meant Windows software. That was an alarming prospect, because neither of us knew how to write Windows software or wanted to learn. We lived in the Unix world. But we decided we\\'d at least try writing a prototype store builder on Unix. Robert wrote a shopping cart, and I wrote a new site generator for stores — in Lisp, of course.\\n\\nWe were working out of Robert\\'s apartment in Cambridge. His roommate was away for big chunks of time, during which I got to sleep in his room. For some reason there was no bed frame or sheets, just a mattress on the floor. One morning as I was lying on this mattress I had an idea that made me sit up like a capital L. What if we ran the software on the server, and let users control it by clicking on links? Then we\\'d never have to write anything to run on users\\' computers. We could generate the sites on the same server we\\'d serve them from. Users wouldn\\'t need anything more than a browser.',\n",
       "  \"Some of the best ones were hundreds of years old.\\n\\nAnd moreover this was something you could make a living doing. Not as easily as you could by writing software, of course, but I thought if you were really industrious and lived really cheaply, it had to be possible to make enough to survive. And as an artist you could be truly independent. You wouldn't have a boss, or even need to get research funding.\\n\\nI had always liked looking at paintings. Could I make them? I had no idea. I'd never imagined it was even possible. I knew intellectually that people made art — that it didn't just appear spontaneously — but it was as if the people who made it were a different species. They either lived long ago or were mysterious geniuses doing strange things in profiles in Life magazine. The idea of actually being able to make art, to put that verb before that noun, seemed almost miraculous.\\n\\nThat fall I started taking art classes at Harvard. Grad students could take classes in any department, and my advisor, Tom Cheatham, was very easy going. If he even knew about the strange classes I was taking, he never said anything.\\n\\nSo now I was in a PhD program in computer science, yet planning to be an artist, yet also genuinely in love with Lisp hacking and working away at On Lisp. In other words, like many a grad student, I was working energetically on multiple projects that were not my thesis.\\n\\nI didn't see a way out of this situation. I didn't want to drop out of grad school, but how else was I going to get out? I remember when my friend Robert Morris got kicked out of Cornell for writing the internet worm of 1988, I was envious that he'd found such a spectacular way to get out of grad school.\\n\\nThen one day in April 1990 a crack appeared in the wall. I ran into professor Cheatham and he asked if I was far enough along to graduate that June.\",\n",
       "  'The good part was that I got paid huge amounts of money, especially by art student standards. In Florence, after paying my part of the rent, my budget for everything else had been $7 a day. Now I was getting paid more than 4 times that every hour, even when I was just sitting in a meeting. By living cheaply I not only managed to save enough to go back to RISD, but also paid off my college loans.\\n\\nI learned some useful things at Interleaf, though they were mostly about what not to do. I learned that it\\'s better for technology companies to be run by product people than sales people (though sales is a real skill and people who are good at it are really good at it), that it leads to bugs when code is edited by too many people, that cheap office space is no bargain if it\\'s depressing, that planned meetings are inferior to corridor conversations, that big, bureaucratic customers are a dangerous source of money, and that there\\'s not much overlap between conventional office hours and the optimal time for hacking, or conventional offices and the optimal place for it.\\n\\nBut the most important thing I learned, and which I used in both Viaweb and Y Combinator, is that the low end eats the high end: that it\\'s good to be the \"entry level\" option, even though that will be less prestigious, because if you\\'re not, someone else will be, and will squash you against the ceiling. Which in turn means that prestige is a danger sign.\\n\\nWhen I left to go back to RISD the next fall, I arranged to do freelance work for the group that did projects for customers, and this was how I survived for the next several years. When I came back to visit for a project later on, someone told me about a new thing called HTML, which was, as he described it, a derivative of SGML. Markup language enthusiasts were an occupational hazard at Interleaf and I ignored him, but this HTML thing later became a big part of my life.\\n\\nIn the fall of 1992 I moved back to Providence to continue at RISD. The foundation had merely been intro stuff, and the Accademia had been a (very civilized) joke. Now I was going to see what real art school was like. But alas it was more like the Accademia than not.',\n",
       "  \"So most of Bel was written in England.\\n\\nIn the fall of 2019, Bel was finally finished. Like McCarthy's original Lisp, it's a spec rather than an implementation, although like McCarthy's Lisp it's a spec expressed as code.\\n\\nNow that I could write essays again, I wrote a bunch about topics I'd had stacked up. I kept writing essays through 2020, but I also started to think about other things I could work on. How should I choose what to do? Well, how had I chosen what to work on in the past? I wrote an essay for myself to answer that question, and I was surprised how long and messy the answer turned out to be. If this surprised me, who'd lived it, then I thought perhaps it would be interesting to other people, and encouraging to those with similarly messy lives. So I wrote a more detailed version for others to read, and this is the last sentence of it.\\n\\n\\n\\n\\n\\n\\n\\n\\n\\nNotes\\n\\n[1] My experience skipped a step in the evolution of computers: time-sharing machines with interactive OSes. I went straight from batch processing to microcomputers, which made microcomputers seem all the more exciting.\\n\\n[2] Italian words for abstract concepts can nearly always be predicted from their English cognates (except for occasional traps like polluzione). It's the everyday words that differ. So if you string together a lot of abstract concepts with a few simple verbs, you can make a little Italian go a long way.\\n\\n[3] I lived at Piazza San Felice 4, so my walk to the Accademia went straight down the spine of old Florence: past the Pitti, across the bridge, past Orsanmichele, between the Duomo and the Baptistery, and then up Via Ricasoli to Piazza San Marco. I saw Florence at street level in every possible condition, from empty dark winter evenings to sweltering summer days when the streets were packed with tourists.\\n\\n[4] You can of course paint people like still lives if you want to, and they're willing. That sort of portrait is arguably the apex of still life painting, though the long sitting does tend to produce pained expressions in the sitters.\",\n",
       "  'It was clear from our experience with Viaweb that web apps were the future. Why not build a web app for making web apps? Why not let people edit code on our server through the browser, and then host the resulting applications for them? [9] You could run all sorts of services on the servers that these applications could use just by making an API call: making and receiving phone calls, manipulating images, taking credit card payments, etc.\\n\\nI got so excited about this idea that I couldn\\'t think about anything else. It seemed obvious that this was the future. I didn\\'t particularly want to start another company, but it was clear that this idea would have to be embodied as one, so I decided to move to Cambridge and start it. I hoped to lure Robert into working on it with me, but there I ran into a hitch. Robert was now a postdoc at MIT, and though he\\'d made a lot of money the last time I\\'d lured him into working on one of my schemes, it had also been a huge time sink. So while he agreed that it sounded like a plausible idea, he firmly refused to work on it.\\n\\nHmph. Well, I\\'d do it myself then. I recruited Dan Giffin, who had worked for Viaweb, and two undergrads who wanted summer jobs, and we got to work trying to build what it\\'s now clear is about twenty companies and several open source projects worth of software. The language for defining applications would of course be a dialect of Lisp. But I wasn\\'t so naive as to assume I could spring an overt Lisp on a general audience; we\\'d hide the parentheses, like Dylan did.\\n\\nBy then there was a name for the kind of company Viaweb was, an \"application service provider,\" or ASP. This name didn\\'t last long before it was replaced by \"software as a service,\" but it was current for long enough that I named this new company after it: it was going to be called Aspra.\\n\\nI started working on the application builder, Dan worked on network infrastructure, and the two undergrads worked on the first two services (images and phone calls). But about halfway through the summer I realized I really didn\\'t want to run a company — especially not a big one, which it was looking like this would have to be.',\n",
       "  'Markup language enthusiasts were an occupational hazard at Interleaf and I ignored him, but this HTML thing later became a big part of my life.\\n\\nIn the fall of 1992 I moved back to Providence to continue at RISD. The foundation had merely been intro stuff, and the Accademia had been a (very civilized) joke. Now I was going to see what real art school was like. But alas it was more like the Accademia than not. Better organized, certainly, and a lot more expensive, but it was now becoming clear that art school did not bear the same relationship to art that medical school bore to medicine. At least not the painting department. The textile department, which my next door neighbor belonged to, seemed to be pretty rigorous. No doubt illustration and architecture were too. But painting was post-rigorous. Painting students were supposed to express themselves, which to the more worldly ones meant to try to cook up some sort of distinctive signature style.\\n\\nA signature style is the visual equivalent of what in show business is known as a \"schtick\": something that immediately identifies the work as yours and no one else\\'s. For example, when you see a painting that looks like a certain kind of cartoon, you know it\\'s by Roy Lichtenstein. So if you see a big painting of this type hanging in the apartment of a hedge fund manager, you know he paid millions of dollars for it. That\\'s not always why artists have a signature style, but it\\'s usually why buyers pay a lot for such work. [6]\\n\\nThere were plenty of earnest students too: kids who \"could draw\" in high school, and now had come to what was supposed to be the best art school in the country, to learn to draw even better. They tended to be confused and demoralized by what they found at RISD, but they kept going, because painting was what they did. I was not one of the kids who could draw in high school, but at RISD I was definitely closer to their tribe than the tribe of signature style seekers.\\n\\nI learned a lot in the color class I took at RISD, but otherwise I was basically teaching myself to paint, and I could do that for free. So in 1993 I dropped out.',\n",
       "  'Funding startups in batches was more convenient for us, because it meant we could do things for a lot of startups at once, but being part of a batch was better for the startups too. It solved one of the biggest problems faced by founders: the isolation. Now you not only had colleagues, but colleagues who understood the problems you were facing and could tell you how they were solving them.\\n\\nAs YC grew, we started to notice other advantages of scale. The alumni became a tight community, dedicated to helping one another, and especially the current batch, whose shoes they remembered being in. We also noticed that the startups were becoming one another\\'s customers. We used to refer jokingly to the \"YC GDP,\" but as YC grows this becomes less and less of a joke. Now lots of startups get their initial set of customers almost entirely from among their batchmates.\\n\\nI had not originally intended YC to be a full-time job. I was going to do three things: hack, write essays, and work on YC. As YC grew, and I grew more excited about it, it started to take up a lot more than a third of my attention. But for the first few years I was still able to work on other things.\\n\\nIn the summer of 2006, Robert and I started working on a new version of Arc. This one was reasonably fast, because it was compiled into Scheme. To test this new Arc, I wrote Hacker News in it. It was originally meant to be a news aggregator for startup founders and was called Startup News, but after a few months I got tired of reading about nothing but startups. Plus it wasn\\'t startup founders we wanted to reach. It was future startup founders. So I changed the name to Hacker News and the topic to whatever engaged one\\'s intellectual curiosity.\\n\\nHN was no doubt good for YC, but it was also by far the biggest source of stress for me. If all I\\'d had to do was select and help founders, life would have been so easy. And that implies that HN was a mistake. Surely the biggest source of stress in one\\'s work should at least be something close to the core of the work.',\n",
       "  \"Though I liked programming, I didn't plan to study it in college. In college I was going to study philosophy, which sounded much more powerful. It seemed, to my naive high school self, to be the study of the ultimate truths, compared to which the things studied in other fields would be mere domain knowledge. What I discovered when I got to college was that the other fields took up so much of the space of ideas that there wasn't much left for these supposed ultimate truths. All that seemed left for philosophy were edge cases that people in other fields felt could safely be ignored.\\n\\nI couldn't have put this into words when I was 18. All I knew at the time was that I kept taking philosophy courses and they kept being boring. So I decided to switch to AI.\\n\\nAI was in the air in the mid 1980s, but there were two things especially that made me want to work on it: a novel by Heinlein called The Moon is a Harsh Mistress, which featured an intelligent computer called Mike, and a PBS documentary that showed Terry Winograd using SHRDLU. I haven't tried rereading The Moon is a Harsh Mistress, so I don't know how well it has aged, but when I read it I was drawn entirely into its world. It seemed only a matter of time before we'd have Mike, and when I saw Winograd using SHRDLU, it seemed like that time would be a few years at most. All you had to do was teach SHRDLU more words.\\n\\nThere weren't any classes in AI at Cornell then, not even graduate classes, so I started trying to teach myself. Which meant learning Lisp, since in those days Lisp was regarded as the language of AI. The commonly used programming languages then were pretty primitive, and programmers' ideas correspondingly so. The default language at Cornell was a Pascal-like language called PL/I, and the situation was similar elsewhere. Learning Lisp expanded my concept of a program so fast that it was years before I started to have a sense of where the new limits were. This was more like it; this was what I had expected college to do. It wasn't happening in a class, like it was supposed to, but that was ok. For the next couple years I was on a roll. I knew what I was going to do.\",\n",
       "  \"His roommate was away for big chunks of time, during which I got to sleep in his room. For some reason there was no bed frame or sheets, just a mattress on the floor. One morning as I was lying on this mattress I had an idea that made me sit up like a capital L. What if we ran the software on the server, and let users control it by clicking on links? Then we'd never have to write anything to run on users' computers. We could generate the sites on the same server we'd serve them from. Users wouldn't need anything more than a browser.\\n\\nThis kind of software, known as a web app, is common now, but at the time it wasn't clear that it was even possible. To find out, we decided to try making a version of our store builder that you could control through the browser. A couple days later, on August 12, we had one that worked. The UI was horrible, but it proved you could build a whole store through the browser, without any client software or typing anything into the command line on the server.\\n\\nNow we felt like we were really onto something. I had visions of a whole new generation of software working this way. You wouldn't need versions, or ports, or any of that crap. At Interleaf there had been a whole group called Release Engineering that seemed to be at least as big as the group that actually wrote the software. Now you could just update the software right on the server.\\n\\nWe started a new company we called Viaweb, after the fact that our software worked via the web, and we got $10,000 in seed funding from Idelle's husband Julian. In return for that and doing the initial legal work and giving us business advice, we gave him 10% of the company. Ten years later this deal became the model for Y Combinator's. We knew founders needed something like this, because we'd needed it ourselves.\\n\\nAt this stage I had a negative net worth, because the thousand dollars or so I had in the bank was more than counterbalanced by what I owed the government in taxes. (Had I diligently set aside the proper proportion of the money I'd made consulting for Interleaf? No, I had not.)\",\n",
       "  'In return for that and doing the initial legal work and giving us business advice, we gave him 10% of the company. Ten years later this deal became the model for Y Combinator\\'s. We knew founders needed something like this, because we\\'d needed it ourselves.\\n\\nAt this stage I had a negative net worth, because the thousand dollars or so I had in the bank was more than counterbalanced by what I owed the government in taxes. (Had I diligently set aside the proper proportion of the money I\\'d made consulting for Interleaf? No, I had not.) So although Robert had his graduate student stipend, I needed that seed funding to live on.\\n\\nWe originally hoped to launch in September, but we got more ambitious about the software as we worked on it. Eventually we managed to build a WYSIWYG site builder, in the sense that as you were creating pages, they looked exactly like the static ones that would be generated later, except that instead of leading to static pages, the links all referred to closures stored in a hash table on the server.\\n\\nIt helped to have studied art, because the main goal of an online store builder is to make users look legit, and the key to looking legit is high production values. If you get page layouts and fonts and colors right, you can make a guy running a store out of his bedroom look more legit than a big company.\\n\\n(If you\\'re curious why my site looks so old-fashioned, it\\'s because it\\'s still made with this software. It may look clunky today, but in 1996 it was the last word in slick.)\\n\\nIn September, Robert rebelled. \"We\\'ve been working on this for a month,\" he said, \"and it\\'s still not done.\" This is funny in retrospect, because he would still be working on it almost 3 years later. But I decided it might be prudent to recruit more programmers, and I asked Robert who else in grad school with him was really good. He recommended Trevor Blackwell, which surprised me at first, because at that point I knew Trevor mainly for his plan to reduce everything in his life to a stack of notecards, which he carried around with him. But Rtm was right, as usual. Trevor turned out to be a frighteningly effective hacker.',\n",
       "  \"So far anyway.\\n\\nI realize that sounds rather wimpy. But attention is a zero sum game. If you can choose what to work on, and you choose a project that's not the best one (or at least a good one) for you, then it's getting in the way of another project that is. And at 50 there was some opportunity cost to screwing around.\\n\\nI started writing essays again, and wrote a bunch of new ones over the next few months. I even wrote a couple that weren't about startups. Then in March 2015 I started working on Lisp again.\\n\\nThe distinctive thing about Lisp is that its core is a language defined by writing an interpreter in itself. It wasn't originally intended as a programming language in the ordinary sense. It was meant to be a formal model of computation, an alternative to the Turing machine. If you want to write an interpreter for a language in itself, what's the minimum set of predefined operators you need? The Lisp that John McCarthy invented, or more accurately discovered, is an answer to that question. [19]\\n\\nMcCarthy didn't realize this Lisp could even be used to program computers till his grad student Steve Russell suggested it. Russell translated McCarthy's interpreter into IBM 704 machine language, and from that point Lisp started also to be a programming language in the ordinary sense. But its origins as a model of computation gave it a power and elegance that other languages couldn't match. It was this that attracted me in college, though I didn't understand why at the time.\\n\\nMcCarthy's 1960 Lisp did nothing more than interpret Lisp expressions. It was missing a lot of things you'd want in a programming language. So these had to be added, and when they were, they weren't defined using McCarthy's original axiomatic approach. That wouldn't have been feasible at the time. McCarthy tested his interpreter by hand-simulating the execution of programs. But it was already getting close to the limit of interpreters you could test that way — indeed, there was a bug in it that McCarthy had overlooked. To test a more complicated interpreter, you'd have had to run it, and computers then weren't powerful enough.\\n\\nNow they are, though.\",\n",
       "  \"So these had to be added, and when they were, they weren't defined using McCarthy's original axiomatic approach. That wouldn't have been feasible at the time. McCarthy tested his interpreter by hand-simulating the execution of programs. But it was already getting close to the limit of interpreters you could test that way — indeed, there was a bug in it that McCarthy had overlooked. To test a more complicated interpreter, you'd have had to run it, and computers then weren't powerful enough.\\n\\nNow they are, though. Now you could continue using McCarthy's axiomatic approach till you'd defined a complete programming language. And as long as every change you made to McCarthy's Lisp was a discoveredness-preserving transformation, you could, in principle, end up with a complete language that had this quality. Harder to do than to talk about, of course, but if it was possible in principle, why not try? So I decided to take a shot at it. It took 4 years, from March 26, 2015 to October 12, 2019. It was fortunate that I had a precisely defined goal, or it would have been hard to keep at it for so long.\\n\\nI wrote this new Lisp, called Bel, in itself in Arc. That may sound like a contradiction, but it's an indication of the sort of trickery I had to engage in to make this work. By means of an egregious collection of hacks I managed to make something close enough to an interpreter written in itself that could actually run. Not fast, but fast enough to test.\\n\\nI had to ban myself from writing essays during most of this time, or I'd never have finished. In late 2015 I spent 3 months writing essays, and when I went back to working on Bel I could barely understand the code. Not so much because it was badly written as because the problem is so convoluted. When you're working on an interpreter written in itself, it's hard to keep track of what's happening at what level, and errors can be practically encrypted by the time you get them.\\n\\nSo I said no more essays till Bel was done. But I told few people about Bel while I was working on it.\",\n",
       "  'It took them weeks to make up their minds, and during this time I started telling her about all the things that needed to be fixed about venture capital. They should make a larger number of smaller investments instead of a handful of giant ones, they should be funding younger, more technical founders instead of MBAs, they should let the founders remain as CEO, and so on.\\n\\nOne of my tricks for writing essays had always been to give talks. The prospect of having to stand up in front of a group of people and tell them something that won\\'t waste their time is a great spur to the imagination. When the Harvard Computer Society, the undergrad computer club, asked me to give a talk, I decided I would tell them how to start a startup. Maybe they\\'d be able to avoid the worst of the mistakes we\\'d made.\\n\\nSo I gave this talk, in the course of which I told them that the best sources of seed funding were successful startup founders, because then they\\'d be sources of advice too. Whereupon it seemed they were all looking expectantly at me. Horrified at the prospect of having my inbox flooded by business plans (if I\\'d only known), I blurted out \"But not me!\" and went on with the talk. But afterward it occurred to me that I should really stop procrastinating about angel investing. I\\'d been meaning to since Yahoo bought us, and now it was 7 years later and I still hadn\\'t done one angel investment.\\n\\nMeanwhile I had been scheming with Robert and Trevor about projects we could work on together. I missed working with them, and it seemed like there had to be something we could collaborate on.\\n\\nAs Jessica and I were walking home from dinner on March 11, at the corner of Garden and Walker streets, these three threads converged. Screw the VCs who were taking so long to make up their minds. We\\'d start our own investment firm and actually implement the ideas we\\'d been talking about. I\\'d fund it, and Jessica could quit her job and work for it, and we\\'d get Robert and Trevor as partners too. [13]\\n\\nOnce again, ignorance worked in our favor. We had no idea how to be angel investors, and in Boston in 2005 there were no Ron Conways to learn from.',\n",
       "  'Unfortunately I had to do a lot more, all of it stuff I was worse at than programming, and the next 3 years were instead the most stressful.\\n\\nThere were a lot of startups making ecommerce software in the second half of the 90s. We were determined to be the Microsoft Word, not the Interleaf. Which meant being easy to use and inexpensive. It was lucky for us that we were poor, because that caused us to make Viaweb even more inexpensive than we realized. We charged $100 a month for a small store and $300 a month for a big one. This low price was a big attraction, and a constant thorn in the sides of competitors, but it wasn\\'t because of some clever insight that we set the price low. We had no idea what businesses paid for things. $300 a month seemed like a lot of money to us.\\n\\nWe did a lot of things right by accident like that. For example, we did what\\'s now called \"doing things that don\\'t scale,\" although at the time we would have described it as \"being so lame that we\\'re driven to the most desperate measures to get users.\" The most common of which was building stores for them. This seemed particularly humiliating, since the whole raison d\\'etre of our software was that people could use it to make their own stores. But anything to get users.\\n\\nWe learned a lot more about retail than we wanted to know. For example, that if you could only have a small image of a man\\'s shirt (and all images were small then by present standards), it was better to have a closeup of the collar than a picture of the whole shirt. The reason I remember learning this was that it meant I had to rescan about 30 images of men\\'s shirts. My first set of scans were so beautiful too.\\n\\nThough this felt wrong, it was exactly the right thing to be doing. Building stores for users taught us about retail, and about how it felt to use our software. I was initially both mystified and repelled by \"business\" and thought we needed a \"business person\" to be in charge of it, but once we started to get users, I was converted, in much the same way I was converted to fatherhood once I had kids. Whatever users wanted, I was all theirs.',\n",
       "  'My first set of scans were so beautiful too.\\n\\nThough this felt wrong, it was exactly the right thing to be doing. Building stores for users taught us about retail, and about how it felt to use our software. I was initially both mystified and repelled by \"business\" and thought we needed a \"business person\" to be in charge of it, but once we started to get users, I was converted, in much the same way I was converted to fatherhood once I had kids. Whatever users wanted, I was all theirs. Maybe one day we\\'d have so many users that I couldn\\'t scan their images for them, but in the meantime there was nothing more important to do.\\n\\nAnother thing I didn\\'t get at the time is that growth rate is the ultimate test of a startup. Our growth rate was fine. We had about 70 stores at the end of 1996 and about 500 at the end of 1997. I mistakenly thought the thing that mattered was the absolute number of users. And that is the thing that matters in the sense that that\\'s how much money you\\'re making, and if you\\'re not making enough, you might go out of business. But in the long term the growth rate takes care of the absolute number. If we\\'d been a startup I was advising at Y Combinator, I would have said: Stop being so stressed out, because you\\'re doing fine. You\\'re growing 7x a year. Just don\\'t hire too many more people and you\\'ll soon be profitable, and then you\\'ll control your own destiny.\\n\\nAlas I hired lots more people, partly because our investors wanted me to, and partly because that\\'s what startups did during the Internet Bubble. A company with just a handful of employees would have seemed amateurish. So we didn\\'t reach breakeven until about when Yahoo bought us in the summer of 1998. Which in turn meant we were at the mercy of investors for the entire life of the company. And since both we and our investors were noobs at startups, the result was a mess even by startup standards.\\n\\nIt was a huge relief when Yahoo bought us. In principle our Viaweb stock was valuable. It was a share in a business that was profitable and growing rapidly.',\n",
       "  \"This is funny in retrospect, because he would still be working on it almost 3 years later. But I decided it might be prudent to recruit more programmers, and I asked Robert who else in grad school with him was really good. He recommended Trevor Blackwell, which surprised me at first, because at that point I knew Trevor mainly for his plan to reduce everything in his life to a stack of notecards, which he carried around with him. But Rtm was right, as usual. Trevor turned out to be a frighteningly effective hacker.\\n\\nIt was a lot of fun working with Robert and Trevor. They're the two most independent-minded people I know, and in completely different ways. If you could see inside Rtm's brain it would look like a colonial New England church, and if you could see inside Trevor's it would look like the worst excesses of Austrian Rococo.\\n\\nWe opened for business, with 6 stores, in January 1996. It was just as well we waited a few months, because although we worried we were late, we were actually almost fatally early. There was a lot of talk in the press then about ecommerce, but not many people actually wanted online stores. [8]\\n\\nThere were three main parts to the software: the editor, which people used to build sites and which I wrote, the shopping cart, which Robert wrote, and the manager, which kept track of orders and statistics, and which Trevor wrote. In its time, the editor was one of the best general-purpose site builders. I kept the code tight and didn't have to integrate with any other software except Robert's and Trevor's, so it was quite fun to work on. If all I'd had to do was work on this software, the next 3 years would have been the easiest of my life. Unfortunately I had to do a lot more, all of it stuff I was worse at than programming, and the next 3 years were instead the most stressful.\\n\\nThere were a lot of startups making ecommerce software in the second half of the 90s. We were determined to be the Microsoft Word, not the Interleaf. Which meant being easy to use and inexpensive. It was lucky for us that we were poor, because that caused us to make Viaweb even more inexpensive than we realized.\",\n",
       "  \"Part of the problem was that I didn't know many people in California. I'd compounded this problem by buying a house up in the Santa Cruz Mountains, with a beautiful view but miles from anywhere. I stuck it out for a few more months, then in desperation I went back to New York, where unless you understand about rent control you'll be surprised to hear I still had my apartment, sealed up like a tomb of my old life. Idelle was in New York at least, and there were other people trying to paint there, even though I didn't know any of them.\\n\\nWhen I got back to New York I resumed my old life, except now I was rich. It was as weird as it sounds. I resumed all my old patterns, except now there were doors where there hadn't been. Now when I was tired of walking, all I had to do was raise my hand, and (unless it was raining) a taxi would stop to pick me up. Now when I walked past charming little restaurants I could go in and order lunch. It was exciting for a while. Painting started to go better. I experimented with a new kind of still life where I'd paint one painting in the old way, then photograph it and print it, blown up, on canvas, and then use that as the underpainting for a second still life, painted from the same objects (which hopefully hadn't rotted yet).\\n\\nMeanwhile I looked for an apartment to buy. Now I could actually choose what neighborhood to live in. Where, I asked myself and various real estate agents, is the Cambridge of New York? Aided by occasional visits to actual Cambridge, I gradually realized there wasn't one. Huh.\\n\\nAround this time, in the spring of 2000, I had an idea. It was clear from our experience with Viaweb that web apps were the future. Why not build a web app for making web apps? Why not let people edit code on our server through the browser, and then host the resulting applications for them? [9] You could run all sorts of services on the servers that these applications could use just by making an API call: making and receiving phone calls, manipulating images, taking credit card payments, etc.\\n\\nI got so excited about this idea that I couldn't think about anything else.\",\n",
       "  'In late 2015 I spent 3 months writing essays, and when I went back to working on Bel I could barely understand the code. Not so much because it was badly written as because the problem is so convoluted. When you\\'re working on an interpreter written in itself, it\\'s hard to keep track of what\\'s happening at what level, and errors can be practically encrypted by the time you get them.\\n\\nSo I said no more essays till Bel was done. But I told few people about Bel while I was working on it. So for years it must have seemed that I was doing nothing, when in fact I was working harder than I\\'d ever worked on anything. Occasionally after wrestling for hours with some gruesome bug I\\'d check Twitter or HN and see someone asking \"Does Paul Graham still code?\"\\n\\nWorking on Bel was hard but satisfying. I worked on it so intensively that at any given time I had a decent chunk of the code in my head and could write more there. I remember taking the boys to the coast on a sunny day in 2015 and figuring out how to deal with some problem involving continuations while I watched them play in the tide pools. It felt like I was doing life right. I remember that because I was slightly dismayed at how novel it felt. The good news is that I had more moments like this over the next few years.\\n\\nIn the summer of 2016 we moved to England. We wanted our kids to see what it was like living in another country, and since I was a British citizen by birth, that seemed the obvious choice. We only meant to stay for a year, but we liked it so much that we still live there. So most of Bel was written in England.\\n\\nIn the fall of 2019, Bel was finally finished. Like McCarthy\\'s original Lisp, it\\'s a spec rather than an implementation, although like McCarthy\\'s Lisp it\\'s a spec expressed as code.\\n\\nNow that I could write essays again, I wrote a bunch about topics I\\'d had stacked up. I kept writing essays through 2020, but I also started to think about other things I could work on. How should I choose what to do? Well, how had I chosen what to work on in the past?',\n",
       "  \"[9] We'd had a code editor in Viaweb for users to define their own page styles. They didn't know it, but they were editing Lisp expressions underneath. But this wasn't an app editor, because the code ran when the merchants' sites were generated, not when shoppers visited them.\\n\\n[10] This was the first instance of what is now a familiar experience, and so was what happened next, when I read the comments and found they were full of angry people. How could I claim that Lisp was better than other languages? Weren't they all Turing complete? People who see the responses to essays I write sometimes tell me how sorry they feel for me, but I'm not exaggerating when I reply that it has always been like this, since the very beginning. It comes with the territory. An essay must tell readers things they don't already know, and some people dislike being told such things.\\n\\n[11] People put plenty of stuff on the internet in the 90s of course, but putting something online is not the same as publishing it online. Publishing online means you treat the online version as the (or at least a) primary version.\\n\\n[12] There is a general lesson here that our experience with Y Combinator also teaches: Customs continue to constrain you long after the restrictions that caused them have disappeared. Customary VC practice had once, like the customs about publishing essays, been based on real constraints. Startups had once been much more expensive to start, and proportionally rare. Now they could be cheap and common, but the VCs' customs still reflected the old world, just as customs about writing essays still reflected the constraints of the print era.\\n\\nWhich in turn implies that people who are independent-minded (i.e. less influenced by custom) will have an advantage in fields affected by rapid change (where customs are more likely to be obsolete).\\n\\nHere's an interesting point, though: you can't always predict which fields will be affected by rapid change. Obviously software and venture capital will be, but who would have predicted that essay writing would be?\\n\\n[13] Y Combinator was not the original name. At first we were called Cambridge Seed.\",\n",
       "  'If you were trying to learn the most you could about startups in the shortest possible time, you couldn\\'t have picked a better way to do it.\\n\\nThere were parts of the job I didn\\'t like. Disputes between cofounders, figuring out when people were lying to us, fighting with people who maltreated the startups, and so on. But I worked hard even at the parts I didn\\'t like. I was haunted by something Kevin Hale once said about companies: \"No one works harder than the boss.\" He meant it both descriptively and prescriptively, and it was the second part that scared me. I wanted YC to be good, so if how hard I worked set the upper bound on how hard everyone else worked, I\\'d better work very hard.\\n\\nOne day in 2010, when he was visiting California for interviews, Robert Morris did something astonishing: he offered me unsolicited advice. I can only remember him doing that once before. One day at Viaweb, when I was bent over double from a kidney stone, he suggested that it would be a good idea for him to take me to the hospital. That was what it took for Rtm to offer unsolicited advice. So I remember his exact words very clearly. \"You know,\" he said, \"you should make sure Y Combinator isn\\'t the last cool thing you do.\"\\n\\nAt the time I didn\\'t understand what he meant, but gradually it dawned on me that he was saying I should quit. This seemed strange advice, because YC was doing great. But if there was one thing rarer than Rtm offering advice, it was Rtm being wrong. So this set me thinking. It was true that on my current trajectory, YC would be the last thing I did, because it was only taking up more of my attention. It had already eaten Arc, and was in the process of eating essays too. Either YC was my life\\'s work or I\\'d have to leave eventually. And it wasn\\'t, so I would.\\n\\nIn the summer of 2012 my mother had a stroke, and the cause turned out to be a blood clot caused by colon cancer.',\n",
       "  \"I saw Florence at street level in every possible condition, from empty dark winter evenings to sweltering summer days when the streets were packed with tourists.\\n\\n[4] You can of course paint people like still lives if you want to, and they're willing. That sort of portrait is arguably the apex of still life painting, though the long sitting does tend to produce pained expressions in the sitters.\\n\\n[5] Interleaf was one of many companies that had smart people and built impressive technology, and yet got crushed by Moore's Law. In the 1990s the exponential growth in the power of commodity (i.e. Intel) processors rolled up high-end, special-purpose hardware and software companies like a bulldozer.\\n\\n[6] The signature style seekers at RISD weren't specifically mercenary. In the art world, money and coolness are tightly coupled. Anything expensive comes to be seen as cool, and anything seen as cool will soon become equally expensive.\\n\\n[7] Technically the apartment wasn't rent-controlled but rent-stabilized, but this is a refinement only New Yorkers would know or care about. The point is that it was really cheap, less than half market price.\\n\\n[8] Most software you can launch as soon as it's done. But when the software is an online store builder and you're hosting the stores, if you don't have any users yet, that fact will be painfully obvious. So before we could launch publicly we had to launch privately, in the sense of recruiting an initial set of users and making sure they had decent-looking stores.\\n\\n[9] We'd had a code editor in Viaweb for users to define their own page styles. They didn't know it, but they were editing Lisp expressions underneath. But this wasn't an app editor, because the code ran when the merchants' sites were generated, not when shoppers visited them.\\n\\n[10] This was the first instance of what is now a familiar experience, and so was what happened next, when I read the comments and found they were full of angry people. How could I claim that Lisp was better than other languages? Weren't they all Turing complete?\",\n",
       "  'I didn\\'t see a way out of this situation. I didn\\'t want to drop out of grad school, but how else was I going to get out? I remember when my friend Robert Morris got kicked out of Cornell for writing the internet worm of 1988, I was envious that he\\'d found such a spectacular way to get out of grad school.\\n\\nThen one day in April 1990 a crack appeared in the wall. I ran into professor Cheatham and he asked if I was far enough along to graduate that June. I didn\\'t have a word of my dissertation written, but in what must have been the quickest bit of thinking in my life, I decided to take a shot at writing one in the 5 weeks or so that remained before the deadline, reusing parts of On Lisp where I could, and I was able to respond, with no perceptible delay \"Yes, I think so. I\\'ll give you something to read in a few days.\"\\n\\nI picked applications of continuations as the topic. In retrospect I should have written about macros and embedded languages. There\\'s a whole world there that\\'s barely been explored. But all I wanted was to get out of grad school, and my rapidly written dissertation sufficed, just barely.\\n\\nMeanwhile I was applying to art schools. I applied to two: RISD in the US, and the Accademia di Belli Arti in Florence, which, because it was the oldest art school, I imagined would be good. RISD accepted me, and I never heard back from the Accademia, so off to Providence I went.\\n\\nI\\'d applied for the BFA program at RISD, which meant in effect that I had to go to college again. This was not as strange as it sounds, because I was only 25, and art schools are full of people of different ages. RISD counted me as a transfer sophomore and said I had to do the foundation that summer. The foundation means the classes that everyone has to take in fundamental subjects like drawing, color, and design.\\n\\nToward the end of the summer I got a big surprise: a letter from the Accademia, which had been delayed because they\\'d sent it to Cambridge England instead of Cambridge Massachusetts, inviting me to take the entrance exam in Florence that fall. This was now only weeks away.',\n",
       "  \"We decided he'd take over starting with the winter 2014 batch. For the rest of 2013 I left running YC more and more to Sam, partly so he could learn the job, and partly because I was focused on my mother, whose cancer had returned.\\n\\nShe died on January 15, 2014. We knew this was coming, but it was still hard when it did.\\n\\nI kept working on YC till March, to help get that batch of startups through Demo Day, then I checked out pretty completely. (I still talk to alumni and to new startups working on things I'm interested in, but that only takes a few hours a week.)\\n\\nWhat should I do next? Rtm's advice hadn't included anything about that. I wanted to do something completely different, so I decided I'd paint. I wanted to see how good I could get if I really focused on it. So the day after I stopped working on YC, I started painting. I was rusty and it took a while to get back into shape, but it was at least completely engaging. [18]\\n\\nI spent most of the rest of 2014 painting. I'd never been able to work so uninterruptedly before, and I got to be better than I had been. Not good enough, but better. Then in November, right in the middle of a painting, I ran out of steam. Up till that point I'd always been curious to see how the painting I was working on would turn out, but suddenly finishing this one seemed like a chore. So I stopped working on it and cleaned my brushes and haven't painted since. So far anyway.\\n\\nI realize that sounds rather wimpy. But attention is a zero sum game. If you can choose what to work on, and you choose a project that's not the best one (or at least a good one) for you, then it's getting in the way of another project that is. And at 50 there was some opportunity cost to screwing around.\\n\\nI started writing essays again, and wrote a bunch of new ones over the next few months. I even wrote a couple that weren't about startups. Then in March 2015 I started working on Lisp again.\",\n",
       "  \"So while working on things that aren't prestigious doesn't guarantee you're on the right track, it at least guarantees you're not on the most common type of wrong one.\\n\\nOver the next several years I wrote lots of essays about all kinds of different topics. O'Reilly reprinted a collection of them as a book, called Hackers & Painters after one of the essays in it. I also worked on spam filters, and did some more painting. I used to have dinners for a group of friends every thursday night, which taught me how to cook for groups. And I bought another building in Cambridge, a former candy factory (and later, twas said, porn studio), to use as an office.\\n\\nOne night in October 2003 there was a big party at my house. It was a clever idea of my friend Maria Daniels, who was one of the thursday diners. Three separate hosts would all invite their friends to one party. So for every guest, two thirds of the other guests would be people they didn't know but would probably like. One of the guests was someone I didn't know but would turn out to like a lot: a woman called Jessica Livingston. A couple days later I asked her out.\\n\\nJessica was in charge of marketing at a Boston investment bank. This bank thought it understood startups, but over the next year, as she met friends of mine from the startup world, she was surprised how different reality was. And how colorful their stories were. So she decided to compile a book of interviews with startup founders.\\n\\nWhen the bank had financial problems and she had to fire half her staff, she started looking for a new job. In early 2005 she interviewed for a marketing job at a Boston VC firm. It took them weeks to make up their minds, and during this time I started telling her about all the things that needed to be fixed about venture capital. They should make a larger number of smaller investments instead of a handful of giant ones, they should be funding younger, more technical founders instead of MBAs, they should let the founders remain as CEO, and so on.\\n\\nOne of my tricks for writing essays had always been to give talks. The prospect of having to stand up in front of a group of people and tell them something that won't waste their time is a great spur to the imagination.\",\n",
       "  'Screw the VCs who were taking so long to make up their minds. We\\'d start our own investment firm and actually implement the ideas we\\'d been talking about. I\\'d fund it, and Jessica could quit her job and work for it, and we\\'d get Robert and Trevor as partners too. [13]\\n\\nOnce again, ignorance worked in our favor. We had no idea how to be angel investors, and in Boston in 2005 there were no Ron Conways to learn from. So we just made what seemed like the obvious choices, and some of the things we did turned out to be novel.\\n\\nThere are multiple components to Y Combinator, and we didn\\'t figure them all out at once. The part we got first was to be an angel firm. In those days, those two words didn\\'t go together. There were VC firms, which were organized companies with people whose job it was to make investments, but they only did big, million dollar investments. And there were angels, who did smaller investments, but these were individuals who were usually focused on other things and made investments on the side. And neither of them helped founders enough in the beginning. We knew how helpless founders were in some respects, because we remembered how helpless we\\'d been. For example, one thing Julian had done for us that seemed to us like magic was to get us set up as a company. We were fine writing fairly difficult software, but actually getting incorporated, with bylaws and stock and all that stuff, how on earth did you do that? Our plan was not only to make seed investments, but to do for startups everything Julian had done for us.\\n\\nYC was not organized as a fund. It was cheap enough to run that we funded it with our own money. That went right by 99% of readers, but professional investors are thinking \"Wow, that means they got all the returns.\" But once again, this was not due to any particular insight on our part. We didn\\'t know how VC firms were organized. It never occurred to us to try to raise a fund, and if it had, we wouldn\\'t have known where to start.',\n",
       "  'You want to emphasize the visual cues that tell you, for example, that the reason the color changes suddenly at a certain point is that it\\'s the edge of an object. By subtly emphasizing such things you can make paintings that are more realistic than photographs not just in some metaphorical sense, but in the strict information-theoretic sense. [4]\\n\\nI liked painting still lives because I was curious about what I was seeing. In everyday life, we aren\\'t consciously aware of much we\\'re seeing. Most visual perception is handled by low-level processes that merely tell your brain \"that\\'s a water droplet\" without telling you details like where the lightest and darkest points are, or \"that\\'s a bush\" without telling you the shape and position of every leaf. This is a feature of brains, not a bug. In everyday life it would be distracting to notice every leaf on every bush. But when you have to paint something, you have to look more closely, and when you do there\\'s a lot to see. You can still be noticing new things after days of trying to paint something people usually take for granted, just as you can after days of trying to write an essay about something people usually take for granted.\\n\\nThis is not the only way to paint. I\\'m not 100% sure it\\'s even a good way to paint. But it seemed a good enough bet to be worth trying.\\n\\nOur teacher, professor Ulivi, was a nice guy. He could see I worked hard, and gave me a good grade, which he wrote down in a sort of passport each student had. But the Accademia wasn\\'t teaching me anything except Italian, and my money was running out, so at the end of the first year I went back to the US.\\n\\nI wanted to go back to RISD, but I was now broke and RISD was very expensive, so I decided to get a job for a year and then return to RISD the next fall. I got one at a company called Interleaf, which made software for creating documents. You mean like Microsoft Word? Exactly. That was how I learned that low end software tends to eat high end software. But Interleaf still had a few years to live yet. [5]\\n\\nInterleaf had done something pretty bold.',\n",
       "  \"[17] Another problem with HN was a bizarre edge case that occurs when you both write essays and run a forum. When you run a forum, you're assumed to see if not every conversation, at least every conversation involving you. And when you write essays, people post highly imaginative misinterpretations of them on forums. Individually these two phenomena are tedious but bearable, but the combination is disastrous. You actually have to respond to the misinterpretations, because the assumption that you're present in the conversation means that not responding to any sufficiently upvoted misinterpretation reads as a tacit admission that it's correct. But that in turn encourages more; anyone who wants to pick a fight with you senses that now is their chance.\\n\\n[18] The worst thing about leaving YC was not working with Jessica anymore. We'd been working on YC almost the whole time we'd known each other, and we'd neither tried nor wanted to separate it from our personal lives, so leaving was like pulling up a deeply rooted tree.\\n\\n[19] One way to get more precise about the concept of invented vs discovered is to talk about space aliens. Any sufficiently advanced alien civilization would certainly know about the Pythagorean theorem, for example. I believe, though with less certainty, that they would also know about the Lisp in McCarthy's 1960 paper.\\n\\nBut if so there's no reason to suppose that this is the limit of the language that might be known to them. Presumably aliens need numbers and errors and I/O too. So it seems likely there exists at least one path out of McCarthy's Lisp along which discoveredness is preserved.\\n\\n\\n\\nThanks to Trevor Blackwell, John Collison, Patrick Collison, Daniel Gackle, Ralph Hazell, Jessica Livingston, Robert Morris, and Harj Taggar for reading drafts of this.\",\n",
       "  'YC was not organized as a fund. It was cheap enough to run that we funded it with our own money. That went right by 99% of readers, but professional investors are thinking \"Wow, that means they got all the returns.\" But once again, this was not due to any particular insight on our part. We didn\\'t know how VC firms were organized. It never occurred to us to try to raise a fund, and if it had, we wouldn\\'t have known where to start. [14]\\n\\nThe most distinctive thing about YC is the batch model: to fund a bunch of startups all at once, twice a year, and then to spend three months focusing intensively on trying to help them. That part we discovered by accident, not merely implicitly but explicitly due to our ignorance about investing. We needed to get experience as investors. What better way, we thought, than to fund a whole bunch of startups at once? We knew undergrads got temporary jobs at tech companies during the summer. Why not organize a summer program where they\\'d start startups instead? We wouldn\\'t feel guilty for being in a sense fake investors, because they would in a similar sense be fake founders. So while we probably wouldn\\'t make much money out of it, we\\'d at least get to practice being investors on them, and they for their part would probably have a more interesting summer than they would working at Microsoft.\\n\\nWe\\'d use the building I owned in Cambridge as our headquarters. We\\'d all have dinner there once a week — on tuesdays, since I was already cooking for the thursday diners on thursdays — and after dinner we\\'d bring in experts on startups to give talks.\\n\\nWe knew undergrads were deciding then about summer jobs, so in a matter of days we cooked up something we called the Summer Founders Program, and I posted an announcement on my site, inviting undergrads to apply. I had never imagined that writing essays would be a way to get \"deal flow,\" as investors call it, but it turned out to be the perfect source. [15] We got 225 applications for the Summer Founders Program, and we were surprised to find that a lot of them were from people who\\'d already graduated, or were about to that spring. Already this SFP thing was starting to feel more serious than we\\'d intended.',\n",
       "  \"So this set me thinking. It was true that on my current trajectory, YC would be the last thing I did, because it was only taking up more of my attention. It had already eaten Arc, and was in the process of eating essays too. Either YC was my life's work or I'd have to leave eventually. And it wasn't, so I would.\\n\\nIn the summer of 2012 my mother had a stroke, and the cause turned out to be a blood clot caused by colon cancer. The stroke destroyed her balance, and she was put in a nursing home, but she really wanted to get out of it and back to her house, and my sister and I were determined to help her do it. I used to fly up to Oregon to visit her regularly, and I had a lot of time to think on those flights. On one of them I realized I was ready to hand YC over to someone else.\\n\\nI asked Jessica if she wanted to be president, but she didn't, so we decided we'd try to recruit Sam Altman. We talked to Robert and Trevor and we agreed to make it a complete changing of the guard. Up till that point YC had been controlled by the original LLC we four had started. But we wanted YC to last for a long time, and to do that it couldn't be controlled by the founders. So if Sam said yes, we'd let him reorganize YC. Robert and I would retire, and Jessica and Trevor would become ordinary partners.\\n\\nWhen we asked Sam if he wanted to be president of YC, initially he said no. He wanted to start a startup to make nuclear reactors. But I kept at it, and in October 2013 he finally agreed. We decided he'd take over starting with the winter 2014 batch. For the rest of 2013 I left running YC more and more to Sam, partly so he could learn the job, and partly because I was focused on my mother, whose cancer had returned.\\n\\nShe died on January 15, 2014. We knew this was coming, but it was still hard when it did.\\n\\nI kept working on YC till March, to help get that batch of startups through Demo Day, then I checked out pretty completely.\",\n",
       "  \"Computer Science is an uneasy alliance between two halves, theory and systems. The theory people prove things, and the systems people build things. I wanted to build things. I had plenty of respect for theory — indeed, a sneaking suspicion that it was the more admirable of the two halves — but building things seemed so much more exciting.\\n\\nThe problem with systems work, though, was that it didn't last. Any program you wrote today, no matter how good, would be obsolete in a couple decades at best. People might mention your software in footnotes, but no one would actually use it. And indeed, it would seem very feeble work. Only people with a sense of the history of the field would even realize that, in its time, it had been good.\\n\\nThere were some surplus Xerox Dandelions floating around the computer lab at one point. Anyone who wanted one to play around with could have one. I was briefly tempted, but they were so slow by present standards; what was the point? No one else wanted one either, so off they went. That was what happened to systems work.\\n\\nI wanted not just to build things, but to build things that would last.\\n\\nIn this dissatisfied state I went in 1988 to visit Rich Draves at CMU, where he was in grad school. One day I went to visit the Carnegie Institute, where I'd spent a lot of time as a kid. While looking at a painting there I realized something that might seem obvious, but was a big surprise to me. There, right on the wall, was something you could make that would last. Paintings didn't become obsolete. Some of the best ones were hundreds of years old.\\n\\nAnd moreover this was something you could make a living doing. Not as easily as you could by writing software, of course, but I thought if you were really industrious and lived really cheaply, it had to be possible to make enough to survive. And as an artist you could be truly independent. You wouldn't have a boss, or even need to get research funding.\\n\\nI had always liked looking at paintings. Could I make them? I had no idea. I'd never imagined it was even possible.\",\n",
       "  'This name didn\\'t last long before it was replaced by \"software as a service,\" but it was current for long enough that I named this new company after it: it was going to be called Aspra.\\n\\nI started working on the application builder, Dan worked on network infrastructure, and the two undergrads worked on the first two services (images and phone calls). But about halfway through the summer I realized I really didn\\'t want to run a company — especially not a big one, which it was looking like this would have to be. I\\'d only started Viaweb because I needed the money. Now that I didn\\'t need money anymore, why was I doing this? If this vision had to be realized as a company, then screw the vision. I\\'d build a subset that could be done as an open source project.\\n\\nMuch to my surprise, the time I spent working on this stuff was not wasted after all. After we started Y Combinator, I would often encounter startups working on parts of this new architecture, and it was very useful to have spent so much time thinking about it and even trying to write some of it.\\n\\nThe subset I would build as an open source project was the new Lisp, whose parentheses I now wouldn\\'t even have to hide. A lot of Lisp hackers dream of building a new Lisp, partly because one of the distinctive features of the language is that it has dialects, and partly, I think, because we have in our minds a Platonic form of Lisp that all existing dialects fall short of. I certainly did. So at the end of the summer Dan and I switched to working on this new dialect of Lisp, which I called Arc, in a house I bought in Cambridge.\\n\\nThe following spring, lightning struck. I was invited to give a talk at a Lisp conference, so I gave one about how we\\'d used Lisp at Viaweb. Afterward I put a postscript file of this talk online, on paulgraham.com, which I\\'d created years before using Viaweb but had never used for anything. In one day it got 30,000 page views. What on earth had happened? The referring urls showed that someone had posted it on Slashdot. [10]\\n\\nWow, I thought, there\\'s an audience.',\n",
       "  \"So with my unerring nose for financial opportunity, I decided to write another book on Lisp. This would be a popular book, the sort of book that could be used as a textbook. I imagined myself living frugally off the royalties and spending all my time painting. (The painting on the cover of this book, ANSI Common Lisp, is one that I painted around this time.)\\n\\nThe best thing about New York for me was the presence of Idelle and Julian Weber. Idelle Weber was a painter, one of the early photorealists, and I'd taken her painting class at Harvard. I've never known a teacher more beloved by her students. Large numbers of former students kept in touch with her, including me. After I moved to New York I became her de facto studio assistant.\\n\\nShe liked to paint on big, square canvases, 4 to 5 feet on a side. One day in late 1994 as I was stretching one of these monsters there was something on the radio about a famous fund manager. He wasn't that much older than me, and was super rich. The thought suddenly occurred to me: why don't I become rich? Then I'll be able to work on whatever I want.\\n\\nMeanwhile I'd been hearing more and more about this new thing called the World Wide Web. Robert Morris showed it to me when I visited him in Cambridge, where he was now in grad school at Harvard. It seemed to me that the web would be a big deal. I'd seen what graphical user interfaces had done for the popularity of microcomputers. It seemed like the web would do the same for the internet.\\n\\nIf I wanted to get rich, here was the next train leaving the station. I was right about that part. What I got wrong was the idea. I decided we should start a company to put art galleries online. I can't honestly say, after reading so many Y Combinator applications, that this was the worst startup idea ever, but it was up there. Art galleries didn't want to be online, and still don't, not the fancy ones. That's not how they sell. I wrote some software to generate web sites for galleries, and Robert wrote some to resize images and set up an http server to serve the pages.\",\n",
       "  'What I Worked On\\n\\nFebruary 2021\\n\\nBefore college the two main things I worked on, outside of school, were writing and programming. I didn\\'t write essays. I wrote what beginning writers were supposed to write then, and probably still are: short stories. My stories were awful. They had hardly any plot, just characters with strong feelings, which I imagined made them deep.\\n\\nThe first programs I tried writing were on the IBM 1401 that our school district used for what was then called \"data processing.\" This was in 9th grade, so I was 13 or 14. The school district\\'s 1401 happened to be in the basement of our junior high school, and my friend Rich Draves and I got permission to use it. It was like a mini Bond villain\\'s lair down there, with all these alien-looking machines — CPU, disk drives, printer, card reader — sitting up on a raised floor under bright fluorescent lights.\\n\\nThe language we used was an early version of Fortran. You had to type programs on punch cards, then stack them in the card reader and press a button to load the program into memory and run it. The result would ordinarily be to print something on the spectacularly loud printer.\\n\\nI was puzzled by the 1401. I couldn\\'t figure out what to do with it. And in retrospect there\\'s not much I could have done with it. The only form of input to programs was data stored on punched cards, and I didn\\'t have any data stored on punched cards. The only other option was to do things that didn\\'t rely on any input, like calculate approximations of pi, but I didn\\'t know enough math to do anything interesting of that type. So I\\'m not surprised I can\\'t remember any programs I wrote, because they can\\'t have done much. My clearest memory is of the moment I learned it was possible for programs not to terminate, when one of mine didn\\'t. On a machine without time-sharing, this was a social as well as a technical error, as the data center manager\\'s expression made clear.\\n\\nWith microcomputers, everything changed.',\n",
       "  \"I wanted to go back to RISD, but I was now broke and RISD was very expensive, so I decided to get a job for a year and then return to RISD the next fall. I got one at a company called Interleaf, which made software for creating documents. You mean like Microsoft Word? Exactly. That was how I learned that low end software tends to eat high end software. But Interleaf still had a few years to live yet. [5]\\n\\nInterleaf had done something pretty bold. Inspired by Emacs, they'd added a scripting language, and even made the scripting language a dialect of Lisp. Now they wanted a Lisp hacker to write things in it. This was the closest thing I've had to a normal job, and I hereby apologize to my boss and coworkers, because I was a bad employee. Their Lisp was the thinnest icing on a giant C cake, and since I didn't know C and didn't want to learn it, I never understood most of the software. Plus I was terribly irresponsible. This was back when a programming job meant showing up every day during certain working hours. That seemed unnatural to me, and on this point the rest of the world is coming around to my way of thinking, but at the time it caused a lot of friction. Toward the end of the year I spent much of my time surreptitiously working on On Lisp, which I had by this time gotten a contract to publish.\\n\\nThe good part was that I got paid huge amounts of money, especially by art student standards. In Florence, after paying my part of the rent, my budget for everything else had been $7 a day. Now I was getting paid more than 4 times that every hour, even when I was just sitting in a meeting. By living cheaply I not only managed to save enough to go back to RISD, but also paid off my college loans.\\n\\nI learned some useful things at Interleaf, though they were mostly about what not to do.\",\n",
       "  'The commonly used programming languages then were pretty primitive, and programmers\\' ideas correspondingly so. The default language at Cornell was a Pascal-like language called PL/I, and the situation was similar elsewhere. Learning Lisp expanded my concept of a program so fast that it was years before I started to have a sense of where the new limits were. This was more like it; this was what I had expected college to do. It wasn\\'t happening in a class, like it was supposed to, but that was ok. For the next couple years I was on a roll. I knew what I was going to do.\\n\\nFor my undergraduate thesis, I reverse-engineered SHRDLU. My God did I love working on that program. It was a pleasing bit of code, but what made it even more exciting was my belief — hard to imagine now, but not unique in 1985 — that it was already climbing the lower slopes of intelligence.\\n\\nI had gotten into a program at Cornell that didn\\'t make you choose a major. You could take whatever classes you liked, and choose whatever you liked to put on your degree. I of course chose \"Artificial Intelligence.\" When I got the actual physical diploma, I was dismayed to find that the quotes had been included, which made them read as scare-quotes. At the time this bothered me, but now it seems amusingly accurate, for reasons I was about to discover.\\n\\nI applied to 3 grad schools: MIT and Yale, which were renowned for AI at the time, and Harvard, which I\\'d visited because Rich Draves went there, and was also home to Bill Woods, who\\'d invented the type of parser I used in my SHRDLU clone. Only Harvard accepted me, so that was where I went.\\n\\nI don\\'t remember the moment it happened, or if there even was a specific moment, but during the first year of grad school I realized that AI, as practiced at the time, was a hoax. By which I mean the sort of AI in which a program that\\'s told \"the dog is sitting on the chair\" translates this into some formal representation and adds it to the list of things it knows.\\n\\nWhat these programs really showed was that there\\'s a subset of natural language that\\'s a formal language. But a very proper subset.',\n",
       "  \"RISD counted me as a transfer sophomore and said I had to do the foundation that summer. The foundation means the classes that everyone has to take in fundamental subjects like drawing, color, and design.\\n\\nToward the end of the summer I got a big surprise: a letter from the Accademia, which had been delayed because they'd sent it to Cambridge England instead of Cambridge Massachusetts, inviting me to take the entrance exam in Florence that fall. This was now only weeks away. My nice landlady let me leave my stuff in her attic. I had some money saved from consulting work I'd done in grad school; there was probably enough to last a year if I lived cheaply. Now all I had to do was learn Italian.\\n\\nOnly stranieri (foreigners) had to take this entrance exam. In retrospect it may well have been a way of excluding them, because there were so many stranieri attracted by the idea of studying art in Florence that the Italian students would otherwise have been outnumbered. I was in decent shape at painting and drawing from the RISD foundation that summer, but I still don't know how I managed to pass the written exam. I remember that I answered the essay question by writing about Cezanne, and that I cranked up the intellectual level as high as I could to make the most of my limited vocabulary. [2]\\n\\nI'm only up to age 25 and already there are such conspicuous patterns. Here I was, yet again about to attend some august institution in the hopes of learning about some prestigious subject, and yet again about to be disappointed. The students and faculty in the painting department at the Accademia were the nicest people you could imagine, but they had long since arrived at an arrangement whereby the students wouldn't require the faculty to teach anything, and in return the faculty wouldn't require the students to learn anything. And at the same time all involved would adhere outwardly to the conventions of a 19th century atelier. We actually had one of those little stoves, fed with kindling, that you see in 19th century studio paintings, and a nude model sitting as close to it as possible without getting burned. Except hardly anyone else painted her besides me.\",\n",
       "  'Which in turn implies that people who are independent-minded (i.e. less influenced by custom) will have an advantage in fields affected by rapid change (where customs are more likely to be obsolete).\\n\\nHere\\'s an interesting point, though: you can\\'t always predict which fields will be affected by rapid change. Obviously software and venture capital will be, but who would have predicted that essay writing would be?\\n\\n[13] Y Combinator was not the original name. At first we were called Cambridge Seed. But we didn\\'t want a regional name, in case someone copied us in Silicon Valley, so we renamed ourselves after one of the coolest tricks in the lambda calculus, the Y combinator.\\n\\nI picked orange as our color partly because it\\'s the warmest, and partly because no VC used it. In 2005 all the VCs used staid colors like maroon, navy blue, and forest green, because they were trying to appeal to LPs, not founders. The YC logo itself is an inside joke: the Viaweb logo had been a white V on a red circle, so I made the YC logo a white Y on an orange square.\\n\\n[14] YC did become a fund for a couple years starting in 2009, because it was getting so big I could no longer afford to fund it personally. But after Heroku got bought we had enough money to go back to being self-funded.\\n\\n[15] I\\'ve never liked the term \"deal flow,\" because it implies that the number of new startups at any given time is fixed. This is not only false, but it\\'s the purpose of YC to falsify it, by causing startups to be founded that would not otherwise have existed.\\n\\n[16] She reports that they were all different shapes and sizes, because there was a run on air conditioners and she had to get whatever she could, but that they were all heavier than she could carry now.\\n\\n[17] Another problem with HN was a bizarre edge case that occurs when you both write essays and run a forum. When you run a forum, you\\'re assumed to see if not every conversation, at least every conversation involving you. And when you write essays, people post highly imaginative misinterpretations of them on forums. Individually these two phenomena are tedious but bearable, but the combination is disastrous.'],\n",
       " 'uris': None,\n",
       " 'data': None}"
      ]
     },
     "execution_count": 44,
     "metadata": {},
     "output_type": "execute_result"
    }
   ],
   "source": [
    "chroma_collection.get()"
   ]
  },
  {
   "cell_type": "code",
   "execution_count": 45,
   "id": "b1b08c93-ed7c-4b04-ba3c-2af28ae236b0",
   "metadata": {},
   "outputs": [],
   "source": [
    "vector_store = ChromaVectorStore(chroma_collection=chroma_collection)"
   ]
  },
  {
   "cell_type": "code",
   "execution_count": 46,
   "id": "504ba90c-e6e5-4193-a5fa-21fbef444cae",
   "metadata": {},
   "outputs": [],
   "source": [
    "pipeline = IngestionPipeline(\n",
    "    transformations = [SentenceSplitter(chunk_size=512, chunk_overlap=128),\n",
    "                       OpenAIEmbedding(model_name='text-embedding-3-small', callback_manager=CallbackManager([token_counter]))],\n",
    "    docstore=doc_store,\n",
    "    vector_store=vector_store\n",
    ")"
   ]
  },
  {
   "cell_type": "code",
   "execution_count": 47,
   "id": "f28a289c-5ec6-4ce0-9c49-52d4dfda60f2",
   "metadata": {},
   "outputs": [
    {
     "data": {
      "text/plain": [
       "{'include_metadata': True,\n",
       " 'include_prev_next_rel': True,\n",
       " 'chunk_size': 512,\n",
       " 'chunk_overlap': 128,\n",
       " 'separator': ' ',\n",
       " 'paragraph_separator': '\\n\\n\\n',\n",
       " 'secondary_chunking_regex': '[^,.;。？！]+[,.;。？！]?',\n",
       " 'class_name': 'SentenceSplitter'}"
      ]
     },
     "execution_count": 47,
     "metadata": {},
     "output_type": "execute_result"
    }
   ],
   "source": [
    "pipeline.transformations[0].dict()"
   ]
  },
  {
   "cell_type": "code",
   "execution_count": 48,
   "id": "e5816b91-bb6a-42a5-8243-1e5dad4e85dd",
   "metadata": {
    "scrolled": true
   },
   "outputs": [
    {
     "data": {
      "application/vnd.jupyter.widget-view+json": {
       "model_id": "7bc3a6122e01472b9a8695e47b8568fd",
       "version_major": 2,
       "version_minor": 0
      },
      "text/plain": [
       "Parsing nodes: 0it [00:00, ?it/s]"
      ]
     },
     "metadata": {},
     "output_type": "display_data"
    },
    {
     "data": {
      "application/vnd.jupyter.widget-view+json": {
       "model_id": "d1b0c9edc3514e4e81861d9a55074a93",
       "version_major": 2,
       "version_minor": 0
      },
      "text/plain": [
       "Generating embeddings: 0it [00:00, ?it/s]"
      ]
     },
     "metadata": {},
     "output_type": "display_data"
    }
   ],
   "source": [
    "nodes = pipeline.run(documents=documents, show_progress=True, num_workers=-1)"
   ]
  },
  {
   "cell_type": "code",
   "execution_count": 49,
   "id": "f25ba8c9-483b-4fdd-94c3-091cc6937bdd",
   "metadata": {},
   "outputs": [
    {
     "data": {
      "text/plain": [
       "0"
      ]
     },
     "execution_count": 49,
     "metadata": {},
     "output_type": "execute_result"
    }
   ],
   "source": [
    "token_counter.total_embedding_token_count"
   ]
  },
  {
   "cell_type": "code",
   "execution_count": 50,
   "id": "c92e178d-9290-41ed-9b3d-4d1a37daf122",
   "metadata": {},
   "outputs": [
    {
     "data": {
      "text/plain": [
       "{'name': 'paul_essay',\n",
       " 'id': UUID('132aba60-3ced-499a-aee9-191764d7e30b'),\n",
       " 'metadata': None,\n",
       " 'tenant': 'default_tenant',\n",
       " 'database': 'default_database'}"
      ]
     },
     "execution_count": 50,
     "metadata": {},
     "output_type": "execute_result"
    }
   ],
   "source": [
    "chroma_client.list_collections()[0].dict()"
   ]
  },
  {
   "cell_type": "code",
   "execution_count": 51,
   "id": "e92c4ed0-ec81-49bc-bc40-35ec433614d4",
   "metadata": {},
   "outputs": [
    {
     "data": {
      "text/plain": [
       "{'stores_text': True,\n",
       " 'is_embedding_query': True,\n",
       " 'flat_metadata': True,\n",
       " 'collection_name': None,\n",
       " 'host': None,\n",
       " 'port': None,\n",
       " 'ssl': False,\n",
       " 'headers': None,\n",
       " 'persist_dir': None,\n",
       " 'collection_kwargs': {},\n",
       " 'class_name': 'ChromaVectorStore'}"
      ]
     },
     "execution_count": 51,
     "metadata": {},
     "output_type": "execute_result"
    }
   ],
   "source": [
    "vector_store.to_dict()"
   ]
  },
  {
   "cell_type": "markdown",
   "id": "c88de791-968a-450f-8e85-621d9a8f3e3f",
   "metadata": {},
   "source": [
    "## check"
   ]
  },
  {
   "cell_type": "code",
   "execution_count": 52,
   "id": "2c79eb35-1b9a-44a6-adbb-9702dda0c7a9",
   "metadata": {
    "scrolled": true
   },
   "outputs": [
    {
     "data": {
      "text/plain": [
       "dict_keys(['ids', 'embeddings', 'metadatas', 'documents', 'uris', 'data'])"
      ]
     },
     "execution_count": 52,
     "metadata": {},
     "output_type": "execute_result"
    }
   ],
   "source": [
    "chroma_collection.get().keys()"
   ]
  },
  {
   "cell_type": "code",
   "execution_count": 53,
   "id": "c5b88ad9-6607-4f19-8cd2-b5c7ec2043e8",
   "metadata": {},
   "outputs": [
    {
     "data": {
      "text/plain": [
       "dict_keys(['_node_content', '_node_type', 'author', 'creation_date', 'doc_id', 'document_id', 'file_name', 'file_path', 'file_size', 'file_type', 'last_modified_date', 'ref_doc_id'])"
      ]
     },
     "execution_count": 53,
     "metadata": {},
     "output_type": "execute_result"
    }
   ],
   "source": [
    "chroma_collection.get()['metadatas'][0].keys()"
   ]
  },
  {
   "cell_type": "code",
   "execution_count": 54,
   "id": "0adfebd6-0d55-4531-832a-00888203f044",
   "metadata": {
    "scrolled": true
   },
   "outputs": [
    {
     "data": {
      "text/plain": [
       "{'ids': ['05ffd0b1-1bcc-4fc1-adf6-d00ca14ba8a3',\n",
       "  '0e99333f-5d85-4eac-9bf3-8e1702e73e45',\n",
       "  '0feabd85-759d-467c-9370-9145573e668a',\n",
       "  '12124b7a-6b9f-4761-a36a-d20d374f5ec5',\n",
       "  '19b26c9f-977d-4444-9857-998b5ae1986c',\n",
       "  '21e3d7ce-75e1-4847-9197-2ab0b9210dad',\n",
       "  '29bb4441-e404-431f-a474-0bf23a191063',\n",
       "  '29cebd28-0234-432c-aeea-74cc32639cf8',\n",
       "  '2aeb9044-3857-4fad-8541-b96b45bfb7fc',\n",
       "  '309fbdb4-eb98-43de-9580-3890dc6d1128',\n",
       "  '3193e1a8-a068-4d10-94a3-3432e6ceaacd',\n",
       "  '32005ce9-b109-4fb8-9928-dedf64eee000',\n",
       "  '3540f211-0fdc-429d-b366-0484188a6c4e',\n",
       "  '42d97852-fdee-459c-b3af-e541bc4eef92',\n",
       "  '47e36330-f7c7-41ba-8048-8782a9c14b5c',\n",
       "  '5217fe28-a8ae-4ff9-bf73-4143e30f28a7',\n",
       "  '560af57d-391d-4886-b434-68532964aa11',\n",
       "  '57d4e51c-ed24-4af0-9c3c-71989852b953',\n",
       "  '5a2dfe6d-c8a3-464d-99ab-5add5032eb2f',\n",
       "  '5c5630f3-4acf-4e73-b722-e3bda9964a03',\n",
       "  '5db817b4-e925-454f-a6af-1d323c7d7e6a',\n",
       "  '5e784a9a-b642-4dde-8933-244ce96d2652',\n",
       "  '6880f29f-8015-460a-ba53-fb3e27b3fd71',\n",
       "  '6a5d88bd-65a3-4394-adba-76711ed263d1',\n",
       "  '6cfa2afb-cf70-470c-851f-0f859939ee81',\n",
       "  '741c6c61-4b48-4f1a-9e5f-d3b8039b93fe',\n",
       "  '8a3f2503-8b0f-4ac8-97bc-fb679ef0820d',\n",
       "  '8d0a94e6-6da7-4576-a4a4-799be95752a4',\n",
       "  '8ee70872-e17f-4d77-8af8-d60d7a10489e',\n",
       "  '94e84d9f-b1f9-4d16-945e-7521cb8097cf',\n",
       "  '9677e6a8-14de-4b72-be23-8eb02fb21988',\n",
       "  '9df02686-5b04-41f0-84b5-ba9ce30e5519',\n",
       "  'a1895cee-17c5-4744-8f89-a5326515717e',\n",
       "  'a65b346c-aba5-4960-8373-59a25c108e4b',\n",
       "  'acd9cd8e-fc40-4b0c-bdf8-18242b248a0e',\n",
       "  'b4fac5b6-258a-4daa-a43f-78c249a33cd1',\n",
       "  'b770821a-4fe7-4ad2-9929-7a25e13b30d0',\n",
       "  'b9861eed-acc9-4c21-bab2-f16635890896',\n",
       "  'c8df8580-779c-4b01-b072-d236c93b2250',\n",
       "  'cac2a750-40cf-492a-aaeb-a4402b83c03a',\n",
       "  'cb011e7d-139a-4b0f-b573-7411de78dccd',\n",
       "  'd62d524e-c1db-438c-9cf4-68e8e05161a3',\n",
       "  'd82d5109-a07d-4280-8367-aaaf2848bd3a',\n",
       "  'dc3bcc31-d6b8-45a1-9421-a59b3af609f3',\n",
       "  'ece2bbc0-1fae-47ee-a5f6-e84c7f755578',\n",
       "  'f4b32e16-afef-4a0b-8110-77e5ae5296c2',\n",
       "  'f7272bb3-abe3-4619-8845-b7d71ab41eff'],\n",
       " 'embeddings': None,\n",
       " 'metadatas': [{'_node_content': '{\"id_\": \"05ffd0b1-1bcc-4fc1-adf6-d00ca14ba8a3\", \"embedding\": null, \"metadata\": {\"file_path\": \"data/paul_graham_essay.txt\", \"file_name\": \"paul_graham_essay.txt\", \"file_type\": \"text/plain\", \"file_size\": 75042, \"creation_date\": \"2024-04-16\", \"last_modified_date\": \"2024-04-15\", \"author\": \"paul_graham\"}, \"excluded_embed_metadata_keys\": [\"file_name\", \"file_type\", \"file_size\", \"creation_date\", \"last_modified_date\", \"last_accessed_date\"], \"excluded_llm_metadata_keys\": [\"file_name\", \"file_type\", \"file_size\", \"creation_date\", \"last_modified_date\", \"last_accessed_date\"], \"relationships\": {\"1\": {\"node_id\": \"data/paul_graham_essay.txt\", \"node_type\": \"4\", \"metadata\": {\"file_path\": \"data/paul_graham_essay.txt\", \"file_name\": \"paul_graham_essay.txt\", \"file_type\": \"text/plain\", \"file_size\": 75042, \"creation_date\": \"2024-04-16\", \"last_modified_date\": \"2024-04-15\", \"author\": \"paul_graham\"}, \"hash\": \"48f3b379e825cf288ae03eb7b6746d9f6703c698ab5b0ec7b83426fa8725d5dc\", \"class_name\": \"RelatedNodeInfo\"}, \"2\": {\"node_id\": \"29cebd28-0234-432c-aeea-74cc32639cf8\", \"node_type\": \"1\", \"metadata\": {\"file_path\": \"data/paul_graham_essay.txt\", \"file_name\": \"paul_graham_essay.txt\", \"file_type\": \"text/plain\", \"file_size\": 75042, \"creation_date\": \"2024-04-16\", \"last_modified_date\": \"2024-04-15\", \"author\": \"paul_graham\"}, \"hash\": \"a7a57c9c2aa7911f1441bb52debb00a7c1cc257db5ac72d4b5078cbbe2510092\", \"class_name\": \"RelatedNodeInfo\"}, \"3\": {\"node_id\": \"a65b346c-aba5-4960-8373-59a25c108e4b\", \"node_type\": \"1\", \"metadata\": {}, \"hash\": \"ccbe6b003e2d62b26a215b15063afd7751066207349741d87028eb0d3942248d\", \"class_name\": \"RelatedNodeInfo\"}}, \"text\": \"\", \"mimetype\": \"text/plain\", \"start_char_idx\": 44529, \"end_char_idx\": 46599, \"text_template\": \"{metadata_str}\\\\n\\\\n{content}\", \"metadata_template\": \"{key}: {value}\", \"metadata_seperator\": \"\\\\n\", \"class_name\": \"TextNode\"}',\n",
       "   '_node_type': 'TextNode',\n",
       "   'author': 'paul_graham',\n",
       "   'creation_date': '2024-04-16',\n",
       "   'doc_id': 'data/paul_graham_essay.txt',\n",
       "   'document_id': 'data/paul_graham_essay.txt',\n",
       "   'file_name': 'paul_graham_essay.txt',\n",
       "   'file_path': 'data/paul_graham_essay.txt',\n",
       "   'file_size': 75042,\n",
       "   'file_type': 'text/plain',\n",
       "   'last_modified_date': '2024-04-15',\n",
       "   'ref_doc_id': 'data/paul_graham_essay.txt'},\n",
       "  {'_node_content': '{\"id_\": \"0e99333f-5d85-4eac-9bf3-8e1702e73e45\", \"embedding\": null, \"metadata\": {\"file_path\": \"data/paul_graham_essay.txt\", \"file_name\": \"paul_graham_essay.txt\", \"file_type\": \"text/plain\", \"file_size\": 75042, \"creation_date\": \"2024-04-16\", \"last_modified_date\": \"2024-04-15\", \"author\": \"paul_graham\"}, \"excluded_embed_metadata_keys\": [\"file_name\", \"file_type\", \"file_size\", \"creation_date\", \"last_modified_date\", \"last_accessed_date\"], \"excluded_llm_metadata_keys\": [\"file_name\", \"file_type\", \"file_size\", \"creation_date\", \"last_modified_date\", \"last_accessed_date\"], \"relationships\": {\"1\": {\"node_id\": \"data/paul_graham_essay.txt\", \"node_type\": \"4\", \"metadata\": {\"file_path\": \"data/paul_graham_essay.txt\", \"file_name\": \"paul_graham_essay.txt\", \"file_type\": \"text/plain\", \"file_size\": 75042, \"creation_date\": \"2024-04-16\", \"last_modified_date\": \"2024-04-15\", \"author\": \"paul_graham\"}, \"hash\": \"48f3b379e825cf288ae03eb7b6746d9f6703c698ab5b0ec7b83426fa8725d5dc\", \"class_name\": \"RelatedNodeInfo\"}, \"2\": {\"node_id\": \"5217fe28-a8ae-4ff9-bf73-4143e30f28a7\", \"node_type\": \"1\", \"metadata\": {\"file_path\": \"data/paul_graham_essay.txt\", \"file_name\": \"paul_graham_essay.txt\", \"file_type\": \"text/plain\", \"file_size\": 75042, \"creation_date\": \"2024-04-16\", \"last_modified_date\": \"2024-04-15\", \"author\": \"paul_graham\"}, \"hash\": \"56a1f165a813aba4221d8e851aabc67ed223a29e723b1a0e336b9f96948dd167\", \"class_name\": \"RelatedNodeInfo\"}, \"3\": {\"node_id\": \"d62d524e-c1db-438c-9cf4-68e8e05161a3\", \"node_type\": \"1\", \"metadata\": {}, \"hash\": \"44d15de67f0d595a3b8f113381b4052164672569184576118097161a033c5baf\", \"class_name\": \"RelatedNodeInfo\"}}, \"text\": \"\", \"mimetype\": \"text/plain\", \"start_char_idx\": 22190, \"end_char_idx\": 24187, \"text_template\": \"{metadata_str}\\\\n\\\\n{content}\", \"metadata_template\": \"{key}: {value}\", \"metadata_seperator\": \"\\\\n\", \"class_name\": \"TextNode\"}',\n",
       "   '_node_type': 'TextNode',\n",
       "   'author': 'paul_graham',\n",
       "   'creation_date': '2024-04-16',\n",
       "   'doc_id': 'data/paul_graham_essay.txt',\n",
       "   'document_id': 'data/paul_graham_essay.txt',\n",
       "   'file_name': 'paul_graham_essay.txt',\n",
       "   'file_path': 'data/paul_graham_essay.txt',\n",
       "   'file_size': 75042,\n",
       "   'file_type': 'text/plain',\n",
       "   'last_modified_date': '2024-04-15',\n",
       "   'ref_doc_id': 'data/paul_graham_essay.txt'},\n",
       "  {'_node_content': '{\"id_\": \"0feabd85-759d-467c-9370-9145573e668a\", \"embedding\": null, \"metadata\": {\"file_path\": \"data/paul_graham_essay.txt\", \"file_name\": \"paul_graham_essay.txt\", \"file_type\": \"text/plain\", \"file_size\": 75042, \"creation_date\": \"2024-04-16\", \"last_modified_date\": \"2024-04-15\", \"author\": \"paul_graham\"}, \"excluded_embed_metadata_keys\": [\"file_name\", \"file_type\", \"file_size\", \"creation_date\", \"last_modified_date\", \"last_accessed_date\"], \"excluded_llm_metadata_keys\": [\"file_name\", \"file_type\", \"file_size\", \"creation_date\", \"last_modified_date\", \"last_accessed_date\"], \"relationships\": {\"1\": {\"node_id\": \"data/paul_graham_essay.txt\", \"node_type\": \"4\", \"metadata\": {\"file_path\": \"data/paul_graham_essay.txt\", \"file_name\": \"paul_graham_essay.txt\", \"file_type\": \"text/plain\", \"file_size\": 75042, \"creation_date\": \"2024-04-16\", \"last_modified_date\": \"2024-04-15\", \"author\": \"paul_graham\"}, \"hash\": \"48f3b379e825cf288ae03eb7b6746d9f6703c698ab5b0ec7b83426fa8725d5dc\", \"class_name\": \"RelatedNodeInfo\"}, \"2\": {\"node_id\": \"ece2bbc0-1fae-47ee-a5f6-e84c7f755578\", \"node_type\": \"1\", \"metadata\": {\"file_path\": \"data/paul_graham_essay.txt\", \"file_name\": \"paul_graham_essay.txt\", \"file_type\": \"text/plain\", \"file_size\": 75042, \"creation_date\": \"2024-04-16\", \"last_modified_date\": \"2024-04-15\", \"author\": \"paul_graham\"}, \"hash\": \"6b347bdebff718a26f1b4a4b9ded3cd6f32c4e263118d967d4a621b723f9b78f\", \"class_name\": \"RelatedNodeInfo\"}, \"3\": {\"node_id\": \"cac2a750-40cf-492a-aaeb-a4402b83c03a\", \"node_type\": \"1\", \"metadata\": {}, \"hash\": \"58862966a72b68b6f207d9a4b4b8ecfedb428c015e6fe7b01c7918f16cb788b9\", \"class_name\": \"RelatedNodeInfo\"}}, \"text\": \"\", \"mimetype\": \"text/plain\", \"start_char_idx\": 6138, \"end_char_idx\": 8287, \"text_template\": \"{metadata_str}\\\\n\\\\n{content}\", \"metadata_template\": \"{key}: {value}\", \"metadata_seperator\": \"\\\\n\", \"class_name\": \"TextNode\"}',\n",
       "   '_node_type': 'TextNode',\n",
       "   'author': 'paul_graham',\n",
       "   'creation_date': '2024-04-16',\n",
       "   'doc_id': 'data/paul_graham_essay.txt',\n",
       "   'document_id': 'data/paul_graham_essay.txt',\n",
       "   'file_name': 'paul_graham_essay.txt',\n",
       "   'file_path': 'data/paul_graham_essay.txt',\n",
       "   'file_size': 75042,\n",
       "   'file_type': 'text/plain',\n",
       "   'last_modified_date': '2024-04-15',\n",
       "   'ref_doc_id': 'data/paul_graham_essay.txt'},\n",
       "  {'_node_content': '{\"id_\": \"12124b7a-6b9f-4761-a36a-d20d374f5ec5\", \"embedding\": null, \"metadata\": {\"file_path\": \"data/paul_graham_essay.txt\", \"file_name\": \"paul_graham_essay.txt\", \"file_type\": \"text/plain\", \"file_size\": 75042, \"creation_date\": \"2024-04-16\", \"last_modified_date\": \"2024-04-15\", \"author\": \"paul_graham\"}, \"excluded_embed_metadata_keys\": [\"file_name\", \"file_type\", \"file_size\", \"creation_date\", \"last_modified_date\", \"last_accessed_date\"], \"excluded_llm_metadata_keys\": [\"file_name\", \"file_type\", \"file_size\", \"creation_date\", \"last_modified_date\", \"last_accessed_date\"], \"relationships\": {\"1\": {\"node_id\": \"data/paul_graham_essay.txt\", \"node_type\": \"4\", \"metadata\": {\"file_path\": \"data/paul_graham_essay.txt\", \"file_name\": \"paul_graham_essay.txt\", \"file_type\": \"text/plain\", \"file_size\": 75042, \"creation_date\": \"2024-04-16\", \"last_modified_date\": \"2024-04-15\", \"author\": \"paul_graham\"}, \"hash\": \"48f3b379e825cf288ae03eb7b6746d9f6703c698ab5b0ec7b83426fa8725d5dc\", \"class_name\": \"RelatedNodeInfo\"}, \"2\": {\"node_id\": \"6cfa2afb-cf70-470c-851f-0f859939ee81\", \"node_type\": \"1\", \"metadata\": {\"file_path\": \"data/paul_graham_essay.txt\", \"file_name\": \"paul_graham_essay.txt\", \"file_type\": \"text/plain\", \"file_size\": 75042, \"creation_date\": \"2024-04-16\", \"last_modified_date\": \"2024-04-15\", \"author\": \"paul_graham\"}, \"hash\": \"370dc59e073814cd4583f43efb85dc374fb91caf27e89aad84569228dab8de97\", \"class_name\": \"RelatedNodeInfo\"}, \"3\": {\"node_id\": \"19b26c9f-977d-4444-9857-998b5ae1986c\", \"node_type\": \"1\", \"metadata\": {}, \"hash\": \"9d1331ad6fe3d1cf240ea131adf3b0fc9276ecc443f56b5f543f43c30b610a87\", \"class_name\": \"RelatedNodeInfo\"}}, \"text\": \"\", \"mimetype\": \"text/plain\", \"start_char_idx\": 34843, \"end_char_idx\": 36916, \"text_template\": \"{metadata_str}\\\\n\\\\n{content}\", \"metadata_template\": \"{key}: {value}\", \"metadata_seperator\": \"\\\\n\", \"class_name\": \"TextNode\"}',\n",
       "   '_node_type': 'TextNode',\n",
       "   'author': 'paul_graham',\n",
       "   'creation_date': '2024-04-16',\n",
       "   'doc_id': 'data/paul_graham_essay.txt',\n",
       "   'document_id': 'data/paul_graham_essay.txt',\n",
       "   'file_name': 'paul_graham_essay.txt',\n",
       "   'file_path': 'data/paul_graham_essay.txt',\n",
       "   'file_size': 75042,\n",
       "   'file_type': 'text/plain',\n",
       "   'last_modified_date': '2024-04-15',\n",
       "   'ref_doc_id': 'data/paul_graham_essay.txt'},\n",
       "  {'_node_content': '{\"id_\": \"19b26c9f-977d-4444-9857-998b5ae1986c\", \"embedding\": null, \"metadata\": {\"file_path\": \"data/paul_graham_essay.txt\", \"file_name\": \"paul_graham_essay.txt\", \"file_type\": \"text/plain\", \"file_size\": 75042, \"creation_date\": \"2024-04-16\", \"last_modified_date\": \"2024-04-15\", \"author\": \"paul_graham\"}, \"excluded_embed_metadata_keys\": [\"file_name\", \"file_type\", \"file_size\", \"creation_date\", \"last_modified_date\", \"last_accessed_date\"], \"excluded_llm_metadata_keys\": [\"file_name\", \"file_type\", \"file_size\", \"creation_date\", \"last_modified_date\", \"last_accessed_date\"], \"relationships\": {\"1\": {\"node_id\": \"data/paul_graham_essay.txt\", \"node_type\": \"4\", \"metadata\": {\"file_path\": \"data/paul_graham_essay.txt\", \"file_name\": \"paul_graham_essay.txt\", \"file_type\": \"text/plain\", \"file_size\": 75042, \"creation_date\": \"2024-04-16\", \"last_modified_date\": \"2024-04-15\", \"author\": \"paul_graham\"}, \"hash\": \"48f3b379e825cf288ae03eb7b6746d9f6703c698ab5b0ec7b83426fa8725d5dc\", \"class_name\": \"RelatedNodeInfo\"}, \"2\": {\"node_id\": \"12124b7a-6b9f-4761-a36a-d20d374f5ec5\", \"node_type\": \"1\", \"metadata\": {\"file_path\": \"data/paul_graham_essay.txt\", \"file_name\": \"paul_graham_essay.txt\", \"file_type\": \"text/plain\", \"file_size\": 75042, \"creation_date\": \"2024-04-16\", \"last_modified_date\": \"2024-04-15\", \"author\": \"paul_graham\"}, \"hash\": \"1345f9402d6a99dbbe8a97633c65e3c4ff9c007e749d10d3ca477a47ec95b609\", \"class_name\": \"RelatedNodeInfo\"}, \"3\": {\"node_id\": \"8a3f2503-8b0f-4ac8-97bc-fb679ef0820d\", \"node_type\": \"1\", \"metadata\": {}, \"hash\": \"65af5f103dec1781d061c2f35d05a4c363de3ffe191c77257ae74edddf161d28\", \"class_name\": \"RelatedNodeInfo\"}}, \"text\": \"\", \"mimetype\": \"text/plain\", \"start_char_idx\": 36554, \"end_char_idx\": 38624, \"text_template\": \"{metadata_str}\\\\n\\\\n{content}\", \"metadata_template\": \"{key}: {value}\", \"metadata_seperator\": \"\\\\n\", \"class_name\": \"TextNode\"}',\n",
       "   '_node_type': 'TextNode',\n",
       "   'author': 'paul_graham',\n",
       "   'creation_date': '2024-04-16',\n",
       "   'doc_id': 'data/paul_graham_essay.txt',\n",
       "   'document_id': 'data/paul_graham_essay.txt',\n",
       "   'file_name': 'paul_graham_essay.txt',\n",
       "   'file_path': 'data/paul_graham_essay.txt',\n",
       "   'file_size': 75042,\n",
       "   'file_type': 'text/plain',\n",
       "   'last_modified_date': '2024-04-15',\n",
       "   'ref_doc_id': 'data/paul_graham_essay.txt'},\n",
       "  {'_node_content': '{\"id_\": \"21e3d7ce-75e1-4847-9197-2ab0b9210dad\", \"embedding\": null, \"metadata\": {\"file_path\": \"data/paul_graham_essay.txt\", \"file_name\": \"paul_graham_essay.txt\", \"file_type\": \"text/plain\", \"file_size\": 75042, \"creation_date\": \"2024-04-16\", \"last_modified_date\": \"2024-04-15\", \"author\": \"paul_graham\"}, \"excluded_embed_metadata_keys\": [\"file_name\", \"file_type\", \"file_size\", \"creation_date\", \"last_modified_date\", \"last_accessed_date\"], \"excluded_llm_metadata_keys\": [\"file_name\", \"file_type\", \"file_size\", \"creation_date\", \"last_modified_date\", \"last_accessed_date\"], \"relationships\": {\"1\": {\"node_id\": \"data/paul_graham_essay.txt\", \"node_type\": \"4\", \"metadata\": {\"file_path\": \"data/paul_graham_essay.txt\", \"file_name\": \"paul_graham_essay.txt\", \"file_type\": \"text/plain\", \"file_size\": 75042, \"creation_date\": \"2024-04-16\", \"last_modified_date\": \"2024-04-15\", \"author\": \"paul_graham\"}, \"hash\": \"48f3b379e825cf288ae03eb7b6746d9f6703c698ab5b0ec7b83426fa8725d5dc\", \"class_name\": \"RelatedNodeInfo\"}, \"2\": {\"node_id\": \"f4b32e16-afef-4a0b-8110-77e5ae5296c2\", \"node_type\": \"1\", \"metadata\": {\"file_path\": \"data/paul_graham_essay.txt\", \"file_name\": \"paul_graham_essay.txt\", \"file_type\": \"text/plain\", \"file_size\": 75042, \"creation_date\": \"2024-04-16\", \"last_modified_date\": \"2024-04-15\", \"author\": \"paul_graham\"}, \"hash\": \"6941bb77f7bc0343dd21bb04cf0853e8bad5caefd3ad2be9401ab54c24b71dfa\", \"class_name\": \"RelatedNodeInfo\"}, \"3\": {\"node_id\": \"b4fac5b6-258a-4daa-a43f-78c249a33cd1\", \"node_type\": \"1\", \"metadata\": {}, \"hash\": \"2c4fa0aa3629a692cce2a8ab8d77bebd9ea3d574d9880f2308e9ef9a93d9fae7\", \"class_name\": \"RelatedNodeInfo\"}}, \"text\": \"\", \"mimetype\": \"text/plain\", \"start_char_idx\": 14179, \"end_char_idx\": 16272, \"text_template\": \"{metadata_str}\\\\n\\\\n{content}\", \"metadata_template\": \"{key}: {value}\", \"metadata_seperator\": \"\\\\n\", \"class_name\": \"TextNode\"}',\n",
       "   '_node_type': 'TextNode',\n",
       "   'author': 'paul_graham',\n",
       "   'creation_date': '2024-04-16',\n",
       "   'doc_id': 'data/paul_graham_essay.txt',\n",
       "   'document_id': 'data/paul_graham_essay.txt',\n",
       "   'file_name': 'paul_graham_essay.txt',\n",
       "   'file_path': 'data/paul_graham_essay.txt',\n",
       "   'file_size': 75042,\n",
       "   'file_type': 'text/plain',\n",
       "   'last_modified_date': '2024-04-15',\n",
       "   'ref_doc_id': 'data/paul_graham_essay.txt'},\n",
       "  {'_node_content': '{\"id_\": \"29bb4441-e404-431f-a474-0bf23a191063\", \"embedding\": null, \"metadata\": {\"file_path\": \"data/paul_graham_essay.txt\", \"file_name\": \"paul_graham_essay.txt\", \"file_type\": \"text/plain\", \"file_size\": 75042, \"creation_date\": \"2024-04-16\", \"last_modified_date\": \"2024-04-15\", \"author\": \"paul_graham\"}, \"excluded_embed_metadata_keys\": [\"file_name\", \"file_type\", \"file_size\", \"creation_date\", \"last_modified_date\", \"last_accessed_date\"], \"excluded_llm_metadata_keys\": [\"file_name\", \"file_type\", \"file_size\", \"creation_date\", \"last_modified_date\", \"last_accessed_date\"], \"relationships\": {\"1\": {\"node_id\": \"data/paul_graham_essay.txt\", \"node_type\": \"4\", \"metadata\": {\"file_path\": \"data/paul_graham_essay.txt\", \"file_name\": \"paul_graham_essay.txt\", \"file_type\": \"text/plain\", \"file_size\": 75042, \"creation_date\": \"2024-04-16\", \"last_modified_date\": \"2024-04-15\", \"author\": \"paul_graham\"}, \"hash\": \"48f3b379e825cf288ae03eb7b6746d9f6703c698ab5b0ec7b83426fa8725d5dc\", \"class_name\": \"RelatedNodeInfo\"}, \"2\": {\"node_id\": \"b9861eed-acc9-4c21-bab2-f16635890896\", \"node_type\": \"1\", \"metadata\": {\"file_path\": \"data/paul_graham_essay.txt\", \"file_name\": \"paul_graham_essay.txt\", \"file_type\": \"text/plain\", \"file_size\": 75042, \"creation_date\": \"2024-04-16\", \"last_modified_date\": \"2024-04-15\", \"author\": \"paul_graham\"}, \"hash\": \"517de3c6515d220a841d18c6181888b40bdf75857b14e3c0a3bbc446f722a66c\", \"class_name\": \"RelatedNodeInfo\"}, \"3\": {\"node_id\": \"560af57d-391d-4886-b434-68532964aa11\", \"node_type\": \"1\", \"metadata\": {}, \"hash\": \"3bfa2a0d6b8121fd0ffe3f737ec4fc4f31a2fb1c066bd79b8177bdb4be1ffe70\", \"class_name\": \"RelatedNodeInfo\"}}, \"text\": \"\", \"mimetype\": \"text/plain\", \"start_char_idx\": 52803, \"end_char_idx\": 54970, \"text_template\": \"{metadata_str}\\\\n\\\\n{content}\", \"metadata_template\": \"{key}: {value}\", \"metadata_seperator\": \"\\\\n\", \"class_name\": \"TextNode\"}',\n",
       "   '_node_type': 'TextNode',\n",
       "   'author': 'paul_graham',\n",
       "   'creation_date': '2024-04-16',\n",
       "   'doc_id': 'data/paul_graham_essay.txt',\n",
       "   'document_id': 'data/paul_graham_essay.txt',\n",
       "   'file_name': 'paul_graham_essay.txt',\n",
       "   'file_path': 'data/paul_graham_essay.txt',\n",
       "   'file_size': 75042,\n",
       "   'file_type': 'text/plain',\n",
       "   'last_modified_date': '2024-04-15',\n",
       "   'ref_doc_id': 'data/paul_graham_essay.txt'},\n",
       "  {'_node_content': '{\"id_\": \"29cebd28-0234-432c-aeea-74cc32639cf8\", \"embedding\": null, \"metadata\": {\"file_path\": \"data/paul_graham_essay.txt\", \"file_name\": \"paul_graham_essay.txt\", \"file_type\": \"text/plain\", \"file_size\": 75042, \"creation_date\": \"2024-04-16\", \"last_modified_date\": \"2024-04-15\", \"author\": \"paul_graham\"}, \"excluded_embed_metadata_keys\": [\"file_name\", \"file_type\", \"file_size\", \"creation_date\", \"last_modified_date\", \"last_accessed_date\"], \"excluded_llm_metadata_keys\": [\"file_name\", \"file_type\", \"file_size\", \"creation_date\", \"last_modified_date\", \"last_accessed_date\"], \"relationships\": {\"1\": {\"node_id\": \"data/paul_graham_essay.txt\", \"node_type\": \"4\", \"metadata\": {\"file_path\": \"data/paul_graham_essay.txt\", \"file_name\": \"paul_graham_essay.txt\", \"file_type\": \"text/plain\", \"file_size\": 75042, \"creation_date\": \"2024-04-16\", \"last_modified_date\": \"2024-04-15\", \"author\": \"paul_graham\"}, \"hash\": \"48f3b379e825cf288ae03eb7b6746d9f6703c698ab5b0ec7b83426fa8725d5dc\", \"class_name\": \"RelatedNodeInfo\"}, \"2\": {\"node_id\": \"cb011e7d-139a-4b0f-b573-7411de78dccd\", \"node_type\": \"1\", \"metadata\": {\"file_path\": \"data/paul_graham_essay.txt\", \"file_name\": \"paul_graham_essay.txt\", \"file_type\": \"text/plain\", \"file_size\": 75042, \"creation_date\": \"2024-04-16\", \"last_modified_date\": \"2024-04-15\", \"author\": \"paul_graham\"}, \"hash\": \"6cc07f8b1d2c0b1903ef9c4248882759ae8812aee565505cb3ab15d2cfeca027\", \"class_name\": \"RelatedNodeInfo\"}, \"3\": {\"node_id\": \"05ffd0b1-1bcc-4fc1-adf6-d00ca14ba8a3\", \"node_type\": \"1\", \"metadata\": {}, \"hash\": \"6bfb4628c9b3d9ea26f3ac43b86b92d9ee050972d88ed24c78da51c855519c94\", \"class_name\": \"RelatedNodeInfo\"}}, \"text\": \"\", \"mimetype\": \"text/plain\", \"start_char_idx\": 42940, \"end_char_idx\": 45056, \"text_template\": \"{metadata_str}\\\\n\\\\n{content}\", \"metadata_template\": \"{key}: {value}\", \"metadata_seperator\": \"\\\\n\", \"class_name\": \"TextNode\"}',\n",
       "   '_node_type': 'TextNode',\n",
       "   'author': 'paul_graham',\n",
       "   'creation_date': '2024-04-16',\n",
       "   'doc_id': 'data/paul_graham_essay.txt',\n",
       "   'document_id': 'data/paul_graham_essay.txt',\n",
       "   'file_name': 'paul_graham_essay.txt',\n",
       "   'file_path': 'data/paul_graham_essay.txt',\n",
       "   'file_size': 75042,\n",
       "   'file_type': 'text/plain',\n",
       "   'last_modified_date': '2024-04-15',\n",
       "   'ref_doc_id': 'data/paul_graham_essay.txt'},\n",
       "  {'_node_content': '{\"id_\": \"2aeb9044-3857-4fad-8541-b96b45bfb7fc\", \"embedding\": null, \"metadata\": {\"file_path\": \"data/paul_graham_essay.txt\", \"file_name\": \"paul_graham_essay.txt\", \"file_type\": \"text/plain\", \"file_size\": 75042, \"creation_date\": \"2024-04-16\", \"last_modified_date\": \"2024-04-15\", \"author\": \"paul_graham\"}, \"excluded_embed_metadata_keys\": [\"file_name\", \"file_type\", \"file_size\", \"creation_date\", \"last_modified_date\", \"last_accessed_date\"], \"excluded_llm_metadata_keys\": [\"file_name\", \"file_type\", \"file_size\", \"creation_date\", \"last_modified_date\", \"last_accessed_date\"], \"relationships\": {\"1\": {\"node_id\": \"data/paul_graham_essay.txt\", \"node_type\": \"4\", \"metadata\": {\"file_path\": \"data/paul_graham_essay.txt\", \"file_name\": \"paul_graham_essay.txt\", \"file_type\": \"text/plain\", \"file_size\": 75042, \"creation_date\": \"2024-04-16\", \"last_modified_date\": \"2024-04-15\", \"author\": \"paul_graham\"}, \"hash\": \"48f3b379e825cf288ae03eb7b6746d9f6703c698ab5b0ec7b83426fa8725d5dc\", \"class_name\": \"RelatedNodeInfo\"}, \"2\": {\"node_id\": \"d82d5109-a07d-4280-8367-aaaf2848bd3a\", \"node_type\": \"1\", \"metadata\": {\"file_path\": \"data/paul_graham_essay.txt\", \"file_name\": \"paul_graham_essay.txt\", \"file_type\": \"text/plain\", \"file_size\": 75042, \"creation_date\": \"2024-04-16\", \"last_modified_date\": \"2024-04-15\", \"author\": \"paul_graham\"}, \"hash\": \"e2ec925b96fbffbbc65592abe9fe331c9d82f99d0f9d8e00bef03be2b8976afd\", \"class_name\": \"RelatedNodeInfo\"}, \"3\": {\"node_id\": \"57d4e51c-ed24-4af0-9c3c-71989852b953\", \"node_type\": \"1\", \"metadata\": {}, \"hash\": \"8bd15077a99c6c532da5ecb3574ce4e33fab5817d4a16ef2ba620b2d0b356217\", \"class_name\": \"RelatedNodeInfo\"}}, \"text\": \"\", \"mimetype\": \"text/plain\", \"start_char_idx\": 1416, \"end_char_idx\": 3568, \"text_template\": \"{metadata_str}\\\\n\\\\n{content}\", \"metadata_template\": \"{key}: {value}\", \"metadata_seperator\": \"\\\\n\", \"class_name\": \"TextNode\"}',\n",
       "   '_node_type': 'TextNode',\n",
       "   'author': 'paul_graham',\n",
       "   'creation_date': '2024-04-16',\n",
       "   'doc_id': 'data/paul_graham_essay.txt',\n",
       "   'document_id': 'data/paul_graham_essay.txt',\n",
       "   'file_name': 'paul_graham_essay.txt',\n",
       "   'file_path': 'data/paul_graham_essay.txt',\n",
       "   'file_size': 75042,\n",
       "   'file_type': 'text/plain',\n",
       "   'last_modified_date': '2024-04-15',\n",
       "   'ref_doc_id': 'data/paul_graham_essay.txt'},\n",
       "  {'_node_content': '{\"id_\": \"309fbdb4-eb98-43de-9580-3890dc6d1128\", \"embedding\": null, \"metadata\": {\"file_path\": \"data/paul_graham_essay.txt\", \"file_name\": \"paul_graham_essay.txt\", \"file_type\": \"text/plain\", \"file_size\": 75042, \"creation_date\": \"2024-04-16\", \"last_modified_date\": \"2024-04-15\", \"author\": \"paul_graham\"}, \"excluded_embed_metadata_keys\": [\"file_name\", \"file_type\", \"file_size\", \"creation_date\", \"last_modified_date\", \"last_accessed_date\"], \"excluded_llm_metadata_keys\": [\"file_name\", \"file_type\", \"file_size\", \"creation_date\", \"last_modified_date\", \"last_accessed_date\"], \"relationships\": {\"1\": {\"node_id\": \"data/paul_graham_essay.txt\", \"node_type\": \"4\", \"metadata\": {\"file_path\": \"data/paul_graham_essay.txt\", \"file_name\": \"paul_graham_essay.txt\", \"file_type\": \"text/plain\", \"file_size\": 75042, \"creation_date\": \"2024-04-16\", \"last_modified_date\": \"2024-04-15\", \"author\": \"paul_graham\"}, \"hash\": \"48f3b379e825cf288ae03eb7b6746d9f6703c698ab5b0ec7b83426fa8725d5dc\", \"class_name\": \"RelatedNodeInfo\"}, \"2\": {\"node_id\": \"560af57d-391d-4886-b434-68532964aa11\", \"node_type\": \"1\", \"metadata\": {\"file_path\": \"data/paul_graham_essay.txt\", \"file_name\": \"paul_graham_essay.txt\", \"file_type\": \"text/plain\", \"file_size\": 75042, \"creation_date\": \"2024-04-16\", \"last_modified_date\": \"2024-04-15\", \"author\": \"paul_graham\"}, \"hash\": \"e29ccac7dab36351276c64fbd664899c6649eba5ef3ddae2aa6c3e7238e95009\", \"class_name\": \"RelatedNodeInfo\"}, \"3\": {\"node_id\": \"94e84d9f-b1f9-4d16-945e-7521cb8097cf\", \"node_type\": \"1\", \"metadata\": {}, \"hash\": \"3487b2e0627ede76b7f497bece5599a9bd573e6ca2f46112536f9a86114ea50f\", \"class_name\": \"RelatedNodeInfo\"}}, \"text\": \"\", \"mimetype\": \"text/plain\", \"start_char_idx\": 55912, \"end_char_idx\": 57967, \"text_template\": \"{metadata_str}\\\\n\\\\n{content}\", \"metadata_template\": \"{key}: {value}\", \"metadata_seperator\": \"\\\\n\", \"class_name\": \"TextNode\"}',\n",
       "   '_node_type': 'TextNode',\n",
       "   'author': 'paul_graham',\n",
       "   'creation_date': '2024-04-16',\n",
       "   'doc_id': 'data/paul_graham_essay.txt',\n",
       "   'document_id': 'data/paul_graham_essay.txt',\n",
       "   'file_name': 'paul_graham_essay.txt',\n",
       "   'file_path': 'data/paul_graham_essay.txt',\n",
       "   'file_size': 75042,\n",
       "   'file_type': 'text/plain',\n",
       "   'last_modified_date': '2024-04-15',\n",
       "   'ref_doc_id': 'data/paul_graham_essay.txt'},\n",
       "  {'_node_content': '{\"id_\": \"3193e1a8-a068-4d10-94a3-3432e6ceaacd\", \"embedding\": null, \"metadata\": {\"file_path\": \"data/paul_graham_essay.txt\", \"file_name\": \"paul_graham_essay.txt\", \"file_type\": \"text/plain\", \"file_size\": 75042, \"creation_date\": \"2024-04-16\", \"last_modified_date\": \"2024-04-15\", \"author\": \"paul_graham\"}, \"excluded_embed_metadata_keys\": [\"file_name\", \"file_type\", \"file_size\", \"creation_date\", \"last_modified_date\", \"last_accessed_date\"], \"excluded_llm_metadata_keys\": [\"file_name\", \"file_type\", \"file_size\", \"creation_date\", \"last_modified_date\", \"last_accessed_date\"], \"relationships\": {\"1\": {\"node_id\": \"data/paul_graham_essay.txt\", \"node_type\": \"4\", \"metadata\": {\"file_path\": \"data/paul_graham_essay.txt\", \"file_name\": \"paul_graham_essay.txt\", \"file_type\": \"text/plain\", \"file_size\": 75042, \"creation_date\": \"2024-04-16\", \"last_modified_date\": \"2024-04-15\", \"author\": \"paul_graham\"}, \"hash\": \"48f3b379e825cf288ae03eb7b6746d9f6703c698ab5b0ec7b83426fa8725d5dc\", \"class_name\": \"RelatedNodeInfo\"}, \"2\": {\"node_id\": \"d62d524e-c1db-438c-9cf4-68e8e05161a3\", \"node_type\": \"1\", \"metadata\": {\"file_path\": \"data/paul_graham_essay.txt\", \"file_name\": \"paul_graham_essay.txt\", \"file_type\": \"text/plain\", \"file_size\": 75042, \"creation_date\": \"2024-04-16\", \"last_modified_date\": \"2024-04-15\", \"author\": \"paul_graham\"}, \"hash\": \"a958d5b7c0f8c615c4f4113fefa640f486c88f05d0520a7494fa4f9e8410530e\", \"class_name\": \"RelatedNodeInfo\"}, \"3\": {\"node_id\": \"5a2dfe6d-c8a3-464d-99ab-5add5032eb2f\", \"node_type\": \"1\", \"metadata\": {}, \"hash\": \"a6cfaeaa261550f36bce71534ac9df9de5f9ed9d61f589076a5d0cc693c3644e\", \"class_name\": \"RelatedNodeInfo\"}}, \"text\": \"\", \"mimetype\": \"text/plain\", \"start_char_idx\": 25202, \"end_char_idx\": 27342, \"text_template\": \"{metadata_str}\\\\n\\\\n{content}\", \"metadata_template\": \"{key}: {value}\", \"metadata_seperator\": \"\\\\n\", \"class_name\": \"TextNode\"}',\n",
       "   '_node_type': 'TextNode',\n",
       "   'author': 'paul_graham',\n",
       "   'creation_date': '2024-04-16',\n",
       "   'doc_id': 'data/paul_graham_essay.txt',\n",
       "   'document_id': 'data/paul_graham_essay.txt',\n",
       "   'file_name': 'paul_graham_essay.txt',\n",
       "   'file_path': 'data/paul_graham_essay.txt',\n",
       "   'file_size': 75042,\n",
       "   'file_type': 'text/plain',\n",
       "   'last_modified_date': '2024-04-15',\n",
       "   'ref_doc_id': 'data/paul_graham_essay.txt'},\n",
       "  {'_node_content': '{\"id_\": \"32005ce9-b109-4fb8-9928-dedf64eee000\", \"embedding\": null, \"metadata\": {\"file_path\": \"data/paul_graham_essay.txt\", \"file_name\": \"paul_graham_essay.txt\", \"file_type\": \"text/plain\", \"file_size\": 75042, \"creation_date\": \"2024-04-16\", \"last_modified_date\": \"2024-04-15\", \"author\": \"paul_graham\"}, \"excluded_embed_metadata_keys\": [\"file_name\", \"file_type\", \"file_size\", \"creation_date\", \"last_modified_date\", \"last_accessed_date\"], \"excluded_llm_metadata_keys\": [\"file_name\", \"file_type\", \"file_size\", \"creation_date\", \"last_modified_date\", \"last_accessed_date\"], \"relationships\": {\"1\": {\"node_id\": \"data/paul_graham_essay.txt\", \"node_type\": \"4\", \"metadata\": {\"file_path\": \"data/paul_graham_essay.txt\", \"file_name\": \"paul_graham_essay.txt\", \"file_type\": \"text/plain\", \"file_size\": 75042, \"creation_date\": \"2024-04-16\", \"last_modified_date\": \"2024-04-15\", \"author\": \"paul_graham\"}, \"hash\": \"48f3b379e825cf288ae03eb7b6746d9f6703c698ab5b0ec7b83426fa8725d5dc\", \"class_name\": \"RelatedNodeInfo\"}, \"2\": {\"node_id\": \"cac2a750-40cf-492a-aaeb-a4402b83c03a\", \"node_type\": \"1\", \"metadata\": {\"file_path\": \"data/paul_graham_essay.txt\", \"file_name\": \"paul_graham_essay.txt\", \"file_type\": \"text/plain\", \"file_size\": 75042, \"creation_date\": \"2024-04-16\", \"last_modified_date\": \"2024-04-15\", \"author\": \"paul_graham\"}, \"hash\": \"9c15d32be14b2cd096df49b19cb90564cb496b9b3b23114f96fbf5b53c5489c6\", \"class_name\": \"RelatedNodeInfo\"}, \"3\": {\"node_id\": \"9df02686-5b04-41f0-84b5-ba9ce30e5519\", \"node_type\": \"1\", \"metadata\": {}, \"hash\": \"9bb78ffff166de52e09898db51e102f68f7cda3948bd3a9a956f7b743650cf5d\", \"class_name\": \"RelatedNodeInfo\"}}, \"text\": \"\", \"mimetype\": \"text/plain\", \"start_char_idx\": 9325, \"end_char_idx\": 11177, \"text_template\": \"{metadata_str}\\\\n\\\\n{content}\", \"metadata_template\": \"{key}: {value}\", \"metadata_seperator\": \"\\\\n\", \"class_name\": \"TextNode\"}',\n",
       "   '_node_type': 'TextNode',\n",
       "   'author': 'paul_graham',\n",
       "   'creation_date': '2024-04-16',\n",
       "   'doc_id': 'data/paul_graham_essay.txt',\n",
       "   'document_id': 'data/paul_graham_essay.txt',\n",
       "   'file_name': 'paul_graham_essay.txt',\n",
       "   'file_path': 'data/paul_graham_essay.txt',\n",
       "   'file_size': 75042,\n",
       "   'file_type': 'text/plain',\n",
       "   'last_modified_date': '2024-04-15',\n",
       "   'ref_doc_id': 'data/paul_graham_essay.txt'},\n",
       "  {'_node_content': '{\"id_\": \"3540f211-0fdc-429d-b366-0484188a6c4e\", \"embedding\": null, \"metadata\": {\"file_path\": \"data/paul_graham_essay.txt\", \"file_name\": \"paul_graham_essay.txt\", \"file_type\": \"text/plain\", \"file_size\": 75042, \"creation_date\": \"2024-04-16\", \"last_modified_date\": \"2024-04-15\", \"author\": \"paul_graham\"}, \"excluded_embed_metadata_keys\": [\"file_name\", \"file_type\", \"file_size\", \"creation_date\", \"last_modified_date\", \"last_accessed_date\"], \"excluded_llm_metadata_keys\": [\"file_name\", \"file_type\", \"file_size\", \"creation_date\", \"last_modified_date\", \"last_accessed_date\"], \"relationships\": {\"1\": {\"node_id\": \"data/paul_graham_essay.txt\", \"node_type\": \"4\", \"metadata\": {\"file_path\": \"data/paul_graham_essay.txt\", \"file_name\": \"paul_graham_essay.txt\", \"file_type\": \"text/plain\", \"file_size\": 75042, \"creation_date\": \"2024-04-16\", \"last_modified_date\": \"2024-04-15\", \"author\": \"paul_graham\"}, \"hash\": \"48f3b379e825cf288ae03eb7b6746d9f6703c698ab5b0ec7b83426fa8725d5dc\", \"class_name\": \"RelatedNodeInfo\"}, \"2\": {\"node_id\": \"dc3bcc31-d6b8-45a1-9421-a59b3af609f3\", \"node_type\": \"1\", \"metadata\": {\"file_path\": \"data/paul_graham_essay.txt\", \"file_name\": \"paul_graham_essay.txt\", \"file_type\": \"text/plain\", \"file_size\": 75042, \"creation_date\": \"2024-04-16\", \"last_modified_date\": \"2024-04-15\", \"author\": \"paul_graham\"}, \"hash\": \"68c8c5910793351e186ea186d3364f87ff60e87c0ea162638ff4a5573ba94f9d\", \"class_name\": \"RelatedNodeInfo\"}, \"3\": {\"node_id\": \"5217fe28-a8ae-4ff9-bf73-4143e30f28a7\", \"node_type\": \"1\", \"metadata\": {}, \"hash\": \"d59d8874c63eb7c4bf5c2b8891b38b66f118d7cea309c3b552a042f844af6bab\", \"class_name\": \"RelatedNodeInfo\"}}, \"text\": \"\", \"mimetype\": \"text/plain\", \"start_char_idx\": 18741, \"end_char_idx\": 20918, \"text_template\": \"{metadata_str}\\\\n\\\\n{content}\", \"metadata_template\": \"{key}: {value}\", \"metadata_seperator\": \"\\\\n\", \"class_name\": \"TextNode\"}',\n",
       "   '_node_type': 'TextNode',\n",
       "   'author': 'paul_graham',\n",
       "   'creation_date': '2024-04-16',\n",
       "   'doc_id': 'data/paul_graham_essay.txt',\n",
       "   'document_id': 'data/paul_graham_essay.txt',\n",
       "   'file_name': 'paul_graham_essay.txt',\n",
       "   'file_path': 'data/paul_graham_essay.txt',\n",
       "   'file_size': 75042,\n",
       "   'file_type': 'text/plain',\n",
       "   'last_modified_date': '2024-04-15',\n",
       "   'ref_doc_id': 'data/paul_graham_essay.txt'},\n",
       "  {'_node_content': '{\"id_\": \"42d97852-fdee-459c-b3af-e541bc4eef92\", \"embedding\": null, \"metadata\": {\"file_path\": \"data/paul_graham_essay.txt\", \"file_name\": \"paul_graham_essay.txt\", \"file_type\": \"text/plain\", \"file_size\": 75042, \"creation_date\": \"2024-04-16\", \"last_modified_date\": \"2024-04-15\", \"author\": \"paul_graham\"}, \"excluded_embed_metadata_keys\": [\"file_name\", \"file_type\", \"file_size\", \"creation_date\", \"last_modified_date\", \"last_accessed_date\"], \"excluded_llm_metadata_keys\": [\"file_name\", \"file_type\", \"file_size\", \"creation_date\", \"last_modified_date\", \"last_accessed_date\"], \"relationships\": {\"1\": {\"node_id\": \"data/paul_graham_essay.txt\", \"node_type\": \"4\", \"metadata\": {\"file_path\": \"data/paul_graham_essay.txt\", \"file_name\": \"paul_graham_essay.txt\", \"file_type\": \"text/plain\", \"file_size\": 75042, \"creation_date\": \"2024-04-16\", \"last_modified_date\": \"2024-04-15\", \"author\": \"paul_graham\"}, \"hash\": \"48f3b379e825cf288ae03eb7b6746d9f6703c698ab5b0ec7b83426fa8725d5dc\", \"class_name\": \"RelatedNodeInfo\"}, \"2\": {\"node_id\": \"8d0a94e6-6da7-4576-a4a4-799be95752a4\", \"node_type\": \"1\", \"metadata\": {\"file_path\": \"data/paul_graham_essay.txt\", \"file_name\": \"paul_graham_essay.txt\", \"file_type\": \"text/plain\", \"file_size\": 75042, \"creation_date\": \"2024-04-16\", \"last_modified_date\": \"2024-04-15\", \"author\": \"paul_graham\"}, \"hash\": \"d54cd4da47b793066730920aa8e88e721a5ec7da373dbae4c604b9e11b249261\", \"class_name\": \"RelatedNodeInfo\"}, \"3\": {\"node_id\": \"9677e6a8-14de-4b72-be23-8eb02fb21988\", \"node_type\": \"1\", \"metadata\": {}, \"hash\": \"f0b9806110c9d9e585e953cf945d81d67db5cc777d16b76edc2bad0f1487f170\", \"class_name\": \"RelatedNodeInfo\"}}, \"text\": \"\", \"mimetype\": \"text/plain\", \"start_char_idx\": 66633, \"end_char_idx\": 68684, \"text_template\": \"{metadata_str}\\\\n\\\\n{content}\", \"metadata_template\": \"{key}: {value}\", \"metadata_seperator\": \"\\\\n\", \"class_name\": \"TextNode\"}',\n",
       "   '_node_type': 'TextNode',\n",
       "   'author': 'paul_graham',\n",
       "   'creation_date': '2024-04-16',\n",
       "   'doc_id': 'data/paul_graham_essay.txt',\n",
       "   'document_id': 'data/paul_graham_essay.txt',\n",
       "   'file_name': 'paul_graham_essay.txt',\n",
       "   'file_path': 'data/paul_graham_essay.txt',\n",
       "   'file_size': 75042,\n",
       "   'file_type': 'text/plain',\n",
       "   'last_modified_date': '2024-04-15',\n",
       "   'ref_doc_id': 'data/paul_graham_essay.txt'},\n",
       "  {'_node_content': '{\"id_\": \"47e36330-f7c7-41ba-8048-8782a9c14b5c\", \"embedding\": null, \"metadata\": {\"file_path\": \"data/paul_graham_essay.txt\", \"file_name\": \"paul_graham_essay.txt\", \"file_type\": \"text/plain\", \"file_size\": 75042, \"creation_date\": \"2024-04-16\", \"last_modified_date\": \"2024-04-15\", \"author\": \"paul_graham\"}, \"excluded_embed_metadata_keys\": [\"file_name\", \"file_type\", \"file_size\", \"creation_date\", \"last_modified_date\", \"last_accessed_date\"], \"excluded_llm_metadata_keys\": [\"file_name\", \"file_type\", \"file_size\", \"creation_date\", \"last_modified_date\", \"last_accessed_date\"], \"relationships\": {\"1\": {\"node_id\": \"data/paul_graham_essay.txt\", \"node_type\": \"4\", \"metadata\": {\"file_path\": \"data/paul_graham_essay.txt\", \"file_name\": \"paul_graham_essay.txt\", \"file_type\": \"text/plain\", \"file_size\": 75042, \"creation_date\": \"2024-04-16\", \"last_modified_date\": \"2024-04-15\", \"author\": \"paul_graham\"}, \"hash\": \"48f3b379e825cf288ae03eb7b6746d9f6703c698ab5b0ec7b83426fa8725d5dc\", \"class_name\": \"RelatedNodeInfo\"}, \"2\": {\"node_id\": \"8a3f2503-8b0f-4ac8-97bc-fb679ef0820d\", \"node_type\": \"1\", \"metadata\": {\"file_path\": \"data/paul_graham_essay.txt\", \"file_name\": \"paul_graham_essay.txt\", \"file_type\": \"text/plain\", \"file_size\": 75042, \"creation_date\": \"2024-04-16\", \"last_modified_date\": \"2024-04-15\", \"author\": \"paul_graham\"}, \"hash\": \"eb2f74465e1287828fbeadffef427c144d0259ffe49563870d4bc733edb144c6\", \"class_name\": \"RelatedNodeInfo\"}, \"3\": {\"node_id\": \"cb011e7d-139a-4b0f-b573-7411de78dccd\", \"node_type\": \"1\", \"metadata\": {}, \"hash\": \"20b0b57696bd1b5b4017b19e3bb01aad7e131539e78e1138cde74e0f715165bb\", \"class_name\": \"RelatedNodeInfo\"}}, \"text\": \"\", \"mimetype\": \"text/plain\", \"start_char_idx\": 39696, \"end_char_idx\": 41855, \"text_template\": \"{metadata_str}\\\\n\\\\n{content}\", \"metadata_template\": \"{key}: {value}\", \"metadata_seperator\": \"\\\\n\", \"class_name\": \"TextNode\"}',\n",
       "   '_node_type': 'TextNode',\n",
       "   'author': 'paul_graham',\n",
       "   'creation_date': '2024-04-16',\n",
       "   'doc_id': 'data/paul_graham_essay.txt',\n",
       "   'document_id': 'data/paul_graham_essay.txt',\n",
       "   'file_name': 'paul_graham_essay.txt',\n",
       "   'file_path': 'data/paul_graham_essay.txt',\n",
       "   'file_size': 75042,\n",
       "   'file_type': 'text/plain',\n",
       "   'last_modified_date': '2024-04-15',\n",
       "   'ref_doc_id': 'data/paul_graham_essay.txt'},\n",
       "  {'_node_content': '{\"id_\": \"5217fe28-a8ae-4ff9-bf73-4143e30f28a7\", \"embedding\": null, \"metadata\": {\"file_path\": \"data/paul_graham_essay.txt\", \"file_name\": \"paul_graham_essay.txt\", \"file_type\": \"text/plain\", \"file_size\": 75042, \"creation_date\": \"2024-04-16\", \"last_modified_date\": \"2024-04-15\", \"author\": \"paul_graham\"}, \"excluded_embed_metadata_keys\": [\"file_name\", \"file_type\", \"file_size\", \"creation_date\", \"last_modified_date\", \"last_accessed_date\"], \"excluded_llm_metadata_keys\": [\"file_name\", \"file_type\", \"file_size\", \"creation_date\", \"last_modified_date\", \"last_accessed_date\"], \"relationships\": {\"1\": {\"node_id\": \"data/paul_graham_essay.txt\", \"node_type\": \"4\", \"metadata\": {\"file_path\": \"data/paul_graham_essay.txt\", \"file_name\": \"paul_graham_essay.txt\", \"file_type\": \"text/plain\", \"file_size\": 75042, \"creation_date\": \"2024-04-16\", \"last_modified_date\": \"2024-04-15\", \"author\": \"paul_graham\"}, \"hash\": \"48f3b379e825cf288ae03eb7b6746d9f6703c698ab5b0ec7b83426fa8725d5dc\", \"class_name\": \"RelatedNodeInfo\"}, \"2\": {\"node_id\": \"3540f211-0fdc-429d-b366-0484188a6c4e\", \"node_type\": \"1\", \"metadata\": {\"file_path\": \"data/paul_graham_essay.txt\", \"file_name\": \"paul_graham_essay.txt\", \"file_type\": \"text/plain\", \"file_size\": 75042, \"creation_date\": \"2024-04-16\", \"last_modified_date\": \"2024-04-15\", \"author\": \"paul_graham\"}, \"hash\": \"3663b638bc301bba87bdee94c49f94ecbf3a79caf0c5bb240225bddf94ee3af5\", \"class_name\": \"RelatedNodeInfo\"}, \"3\": {\"node_id\": \"0e99333f-5d85-4eac-9bf3-8e1702e73e45\", \"node_type\": \"1\", \"metadata\": {}, \"hash\": \"33e7a911f21c7a99a67795b7eb8c49f879100c3533912bc6c9a0a7a83030d05f\", \"class_name\": \"RelatedNodeInfo\"}}, \"text\": \"\", \"mimetype\": \"text/plain\", \"start_char_idx\": 20506, \"end_char_idx\": 22632, \"text_template\": \"{metadata_str}\\\\n\\\\n{content}\", \"metadata_template\": \"{key}: {value}\", \"metadata_seperator\": \"\\\\n\", \"class_name\": \"TextNode\"}',\n",
       "   '_node_type': 'TextNode',\n",
       "   'author': 'paul_graham',\n",
       "   'creation_date': '2024-04-16',\n",
       "   'doc_id': 'data/paul_graham_essay.txt',\n",
       "   'document_id': 'data/paul_graham_essay.txt',\n",
       "   'file_name': 'paul_graham_essay.txt',\n",
       "   'file_path': 'data/paul_graham_essay.txt',\n",
       "   'file_size': 75042,\n",
       "   'file_type': 'text/plain',\n",
       "   'last_modified_date': '2024-04-15',\n",
       "   'ref_doc_id': 'data/paul_graham_essay.txt'},\n",
       "  {'_node_content': '{\"id_\": \"560af57d-391d-4886-b434-68532964aa11\", \"embedding\": null, \"metadata\": {\"file_path\": \"data/paul_graham_essay.txt\", \"file_name\": \"paul_graham_essay.txt\", \"file_type\": \"text/plain\", \"file_size\": 75042, \"creation_date\": \"2024-04-16\", \"last_modified_date\": \"2024-04-15\", \"author\": \"paul_graham\"}, \"excluded_embed_metadata_keys\": [\"file_name\", \"file_type\", \"file_size\", \"creation_date\", \"last_modified_date\", \"last_accessed_date\"], \"excluded_llm_metadata_keys\": [\"file_name\", \"file_type\", \"file_size\", \"creation_date\", \"last_modified_date\", \"last_accessed_date\"], \"relationships\": {\"1\": {\"node_id\": \"data/paul_graham_essay.txt\", \"node_type\": \"4\", \"metadata\": {\"file_path\": \"data/paul_graham_essay.txt\", \"file_name\": \"paul_graham_essay.txt\", \"file_type\": \"text/plain\", \"file_size\": 75042, \"creation_date\": \"2024-04-16\", \"last_modified_date\": \"2024-04-15\", \"author\": \"paul_graham\"}, \"hash\": \"48f3b379e825cf288ae03eb7b6746d9f6703c698ab5b0ec7b83426fa8725d5dc\", \"class_name\": \"RelatedNodeInfo\"}, \"2\": {\"node_id\": \"29bb4441-e404-431f-a474-0bf23a191063\", \"node_type\": \"1\", \"metadata\": {\"file_path\": \"data/paul_graham_essay.txt\", \"file_name\": \"paul_graham_essay.txt\", \"file_type\": \"text/plain\", \"file_size\": 75042, \"creation_date\": \"2024-04-16\", \"last_modified_date\": \"2024-04-15\", \"author\": \"paul_graham\"}, \"hash\": \"d8bef5626662292cff2b77ad7a24df083cb2d4fd5f4b30be1b58fc3f40f69f0b\", \"class_name\": \"RelatedNodeInfo\"}, \"3\": {\"node_id\": \"309fbdb4-eb98-43de-9580-3890dc6d1128\", \"node_type\": \"1\", \"metadata\": {}, \"hash\": \"7d51bac2866f79a1b873c3bb5caff95fca81cc16ecd8591941b66e9e20b73c68\", \"class_name\": \"RelatedNodeInfo\"}}, \"text\": \"\", \"mimetype\": \"text/plain\", \"start_char_idx\": 54374, \"end_char_idx\": 56417, \"text_template\": \"{metadata_str}\\\\n\\\\n{content}\", \"metadata_template\": \"{key}: {value}\", \"metadata_seperator\": \"\\\\n\", \"class_name\": \"TextNode\"}',\n",
       "   '_node_type': 'TextNode',\n",
       "   'author': 'paul_graham',\n",
       "   'creation_date': '2024-04-16',\n",
       "   'doc_id': 'data/paul_graham_essay.txt',\n",
       "   'document_id': 'data/paul_graham_essay.txt',\n",
       "   'file_name': 'paul_graham_essay.txt',\n",
       "   'file_path': 'data/paul_graham_essay.txt',\n",
       "   'file_size': 75042,\n",
       "   'file_type': 'text/plain',\n",
       "   'last_modified_date': '2024-04-15',\n",
       "   'ref_doc_id': 'data/paul_graham_essay.txt'},\n",
       "  {'_node_content': '{\"id_\": \"57d4e51c-ed24-4af0-9c3c-71989852b953\", \"embedding\": null, \"metadata\": {\"file_path\": \"data/paul_graham_essay.txt\", \"file_name\": \"paul_graham_essay.txt\", \"file_type\": \"text/plain\", \"file_size\": 75042, \"creation_date\": \"2024-04-16\", \"last_modified_date\": \"2024-04-15\", \"author\": \"paul_graham\"}, \"excluded_embed_metadata_keys\": [\"file_name\", \"file_type\", \"file_size\", \"creation_date\", \"last_modified_date\", \"last_accessed_date\"], \"excluded_llm_metadata_keys\": [\"file_name\", \"file_type\", \"file_size\", \"creation_date\", \"last_modified_date\", \"last_accessed_date\"], \"relationships\": {\"1\": {\"node_id\": \"data/paul_graham_essay.txt\", \"node_type\": \"4\", \"metadata\": {\"file_path\": \"data/paul_graham_essay.txt\", \"file_name\": \"paul_graham_essay.txt\", \"file_type\": \"text/plain\", \"file_size\": 75042, \"creation_date\": \"2024-04-16\", \"last_modified_date\": \"2024-04-15\", \"author\": \"paul_graham\"}, \"hash\": \"48f3b379e825cf288ae03eb7b6746d9f6703c698ab5b0ec7b83426fa8725d5dc\", \"class_name\": \"RelatedNodeInfo\"}, \"2\": {\"node_id\": \"2aeb9044-3857-4fad-8541-b96b45bfb7fc\", \"node_type\": \"1\", \"metadata\": {\"file_path\": \"data/paul_graham_essay.txt\", \"file_name\": \"paul_graham_essay.txt\", \"file_type\": \"text/plain\", \"file_size\": 75042, \"creation_date\": \"2024-04-16\", \"last_modified_date\": \"2024-04-15\", \"author\": \"paul_graham\"}, \"hash\": \"da6e2d271ab46383060ce5d99b695b02727c93a84e3c3755b7f4218a3a44b5b8\", \"class_name\": \"RelatedNodeInfo\"}, \"3\": {\"node_id\": \"ece2bbc0-1fae-47ee-a5f6-e84c7f755578\", \"node_type\": \"1\", \"metadata\": {}, \"hash\": \"124dec1922a9bcd5aa446eb158ef94acc586c13ca1e3d3410c537055ad65ade3\", \"class_name\": \"RelatedNodeInfo\"}}, \"text\": \"\", \"mimetype\": \"text/plain\", \"start_char_idx\": 2981, \"end_char_idx\": 5144, \"text_template\": \"{metadata_str}\\\\n\\\\n{content}\", \"metadata_template\": \"{key}: {value}\", \"metadata_seperator\": \"\\\\n\", \"class_name\": \"TextNode\"}',\n",
       "   '_node_type': 'TextNode',\n",
       "   'author': 'paul_graham',\n",
       "   'creation_date': '2024-04-16',\n",
       "   'doc_id': 'data/paul_graham_essay.txt',\n",
       "   'document_id': 'data/paul_graham_essay.txt',\n",
       "   'file_name': 'paul_graham_essay.txt',\n",
       "   'file_path': 'data/paul_graham_essay.txt',\n",
       "   'file_size': 75042,\n",
       "   'file_type': 'text/plain',\n",
       "   'last_modified_date': '2024-04-15',\n",
       "   'ref_doc_id': 'data/paul_graham_essay.txt'},\n",
       "  {'_node_content': '{\"id_\": \"5a2dfe6d-c8a3-464d-99ab-5add5032eb2f\", \"embedding\": null, \"metadata\": {\"file_path\": \"data/paul_graham_essay.txt\", \"file_name\": \"paul_graham_essay.txt\", \"file_type\": \"text/plain\", \"file_size\": 75042, \"creation_date\": \"2024-04-16\", \"last_modified_date\": \"2024-04-15\", \"author\": \"paul_graham\"}, \"excluded_embed_metadata_keys\": [\"file_name\", \"file_type\", \"file_size\", \"creation_date\", \"last_modified_date\", \"last_accessed_date\"], \"excluded_llm_metadata_keys\": [\"file_name\", \"file_type\", \"file_size\", \"creation_date\", \"last_modified_date\", \"last_accessed_date\"], \"relationships\": {\"1\": {\"node_id\": \"data/paul_graham_essay.txt\", \"node_type\": \"4\", \"metadata\": {\"file_path\": \"data/paul_graham_essay.txt\", \"file_name\": \"paul_graham_essay.txt\", \"file_type\": \"text/plain\", \"file_size\": 75042, \"creation_date\": \"2024-04-16\", \"last_modified_date\": \"2024-04-15\", \"author\": \"paul_graham\"}, \"hash\": \"48f3b379e825cf288ae03eb7b6746d9f6703c698ab5b0ec7b83426fa8725d5dc\", \"class_name\": \"RelatedNodeInfo\"}, \"2\": {\"node_id\": \"3193e1a8-a068-4d10-94a3-3432e6ceaacd\", \"node_type\": \"1\", \"metadata\": {\"file_path\": \"data/paul_graham_essay.txt\", \"file_name\": \"paul_graham_essay.txt\", \"file_type\": \"text/plain\", \"file_size\": 75042, \"creation_date\": \"2024-04-16\", \"last_modified_date\": \"2024-04-15\", \"author\": \"paul_graham\"}, \"hash\": \"c3c8f9d224b9c9b08d8cf36e9a2c683c9d81bd10fa5957f8492f635162565e83\", \"class_name\": \"RelatedNodeInfo\"}, \"3\": {\"node_id\": \"5c5630f3-4acf-4e73-b722-e3bda9964a03\", \"node_type\": \"1\", \"metadata\": {}, \"hash\": \"d007a8e01b5f156f103bde5c3df8b5025cb24357fae1c049a94167a4082a1fe8\", \"class_name\": \"RelatedNodeInfo\"}}, \"text\": \"\", \"mimetype\": \"text/plain\", \"start_char_idx\": 26804, \"end_char_idx\": 28889, \"text_template\": \"{metadata_str}\\\\n\\\\n{content}\", \"metadata_template\": \"{key}: {value}\", \"metadata_seperator\": \"\\\\n\", \"class_name\": \"TextNode\"}',\n",
       "   '_node_type': 'TextNode',\n",
       "   'author': 'paul_graham',\n",
       "   'creation_date': '2024-04-16',\n",
       "   'doc_id': 'data/paul_graham_essay.txt',\n",
       "   'document_id': 'data/paul_graham_essay.txt',\n",
       "   'file_name': 'paul_graham_essay.txt',\n",
       "   'file_path': 'data/paul_graham_essay.txt',\n",
       "   'file_size': 75042,\n",
       "   'file_type': 'text/plain',\n",
       "   'last_modified_date': '2024-04-15',\n",
       "   'ref_doc_id': 'data/paul_graham_essay.txt'},\n",
       "  {'_node_content': '{\"id_\": \"5c5630f3-4acf-4e73-b722-e3bda9964a03\", \"embedding\": null, \"metadata\": {\"file_path\": \"data/paul_graham_essay.txt\", \"file_name\": \"paul_graham_essay.txt\", \"file_type\": \"text/plain\", \"file_size\": 75042, \"creation_date\": \"2024-04-16\", \"last_modified_date\": \"2024-04-15\", \"author\": \"paul_graham\"}, \"excluded_embed_metadata_keys\": [\"file_name\", \"file_type\", \"file_size\", \"creation_date\", \"last_modified_date\", \"last_accessed_date\"], \"excluded_llm_metadata_keys\": [\"file_name\", \"file_type\", \"file_size\", \"creation_date\", \"last_modified_date\", \"last_accessed_date\"], \"relationships\": {\"1\": {\"node_id\": \"data/paul_graham_essay.txt\", \"node_type\": \"4\", \"metadata\": {\"file_path\": \"data/paul_graham_essay.txt\", \"file_name\": \"paul_graham_essay.txt\", \"file_type\": \"text/plain\", \"file_size\": 75042, \"creation_date\": \"2024-04-16\", \"last_modified_date\": \"2024-04-15\", \"author\": \"paul_graham\"}, \"hash\": \"48f3b379e825cf288ae03eb7b6746d9f6703c698ab5b0ec7b83426fa8725d5dc\", \"class_name\": \"RelatedNodeInfo\"}, \"2\": {\"node_id\": \"5a2dfe6d-c8a3-464d-99ab-5add5032eb2f\", \"node_type\": \"1\", \"metadata\": {\"file_path\": \"data/paul_graham_essay.txt\", \"file_name\": \"paul_graham_essay.txt\", \"file_type\": \"text/plain\", \"file_size\": 75042, \"creation_date\": \"2024-04-16\", \"last_modified_date\": \"2024-04-15\", \"author\": \"paul_graham\"}, \"hash\": \"6d1300a53da670440ea581444b6c3163397fb51a3cbf8a8b75f99dd10fdd83c1\", \"class_name\": \"RelatedNodeInfo\"}, \"3\": {\"node_id\": \"741c6c61-4b48-4f1a-9e5f-d3b8039b93fe\", \"node_type\": \"1\", \"metadata\": {}, \"hash\": \"c900ba0729cc43c499c3c63f19a4497ecde2f8566cc84aa142169ec489b77396\", \"class_name\": \"RelatedNodeInfo\"}}, \"text\": \"\", \"mimetype\": \"text/plain\", \"start_char_idx\": 28353, \"end_char_idx\": 30498, \"text_template\": \"{metadata_str}\\\\n\\\\n{content}\", \"metadata_template\": \"{key}: {value}\", \"metadata_seperator\": \"\\\\n\", \"class_name\": \"TextNode\"}',\n",
       "   '_node_type': 'TextNode',\n",
       "   'author': 'paul_graham',\n",
       "   'creation_date': '2024-04-16',\n",
       "   'doc_id': 'data/paul_graham_essay.txt',\n",
       "   'document_id': 'data/paul_graham_essay.txt',\n",
       "   'file_name': 'paul_graham_essay.txt',\n",
       "   'file_path': 'data/paul_graham_essay.txt',\n",
       "   'file_size': 75042,\n",
       "   'file_type': 'text/plain',\n",
       "   'last_modified_date': '2024-04-15',\n",
       "   'ref_doc_id': 'data/paul_graham_essay.txt'},\n",
       "  {'_node_content': '{\"id_\": \"5db817b4-e925-454f-a6af-1d323c7d7e6a\", \"embedding\": null, \"metadata\": {\"file_path\": \"data/paul_graham_essay.txt\", \"file_name\": \"paul_graham_essay.txt\", \"file_type\": \"text/plain\", \"file_size\": 75042, \"creation_date\": \"2024-04-16\", \"last_modified_date\": \"2024-04-15\", \"author\": \"paul_graham\"}, \"excluded_embed_metadata_keys\": [\"file_name\", \"file_type\", \"file_size\", \"creation_date\", \"last_modified_date\", \"last_accessed_date\"], \"excluded_llm_metadata_keys\": [\"file_name\", \"file_type\", \"file_size\", \"creation_date\", \"last_modified_date\", \"last_accessed_date\"], \"relationships\": {\"1\": {\"node_id\": \"data/paul_graham_essay.txt\", \"node_type\": \"4\", \"metadata\": {\"file_path\": \"data/paul_graham_essay.txt\", \"file_name\": \"paul_graham_essay.txt\", \"file_type\": \"text/plain\", \"file_size\": 75042, \"creation_date\": \"2024-04-16\", \"last_modified_date\": \"2024-04-15\", \"author\": \"paul_graham\"}, \"hash\": \"48f3b379e825cf288ae03eb7b6746d9f6703c698ab5b0ec7b83426fa8725d5dc\", \"class_name\": \"RelatedNodeInfo\"}, \"2\": {\"node_id\": \"a1895cee-17c5-4744-8f89-a5326515717e\", \"node_type\": \"1\", \"metadata\": {\"file_path\": \"data/paul_graham_essay.txt\", \"file_name\": \"paul_graham_essay.txt\", \"file_type\": \"text/plain\", \"file_size\": 75042, \"creation_date\": \"2024-04-16\", \"last_modified_date\": \"2024-04-15\", \"author\": \"paul_graham\"}, \"hash\": \"7463488c5e8eba974d6ea33e9c12bef6c1815d07533e589a181f03e1eaa74748\", \"class_name\": \"RelatedNodeInfo\"}, \"3\": {\"node_id\": \"5e784a9a-b642-4dde-8933-244ce96d2652\", \"node_type\": \"1\", \"metadata\": {}, \"hash\": \"1b9a0b7e1762b200ae7e7c07d0a270b47b4c6e489fcab598629d7d7d13c57a96\", \"class_name\": \"RelatedNodeInfo\"}}, \"text\": \"\", \"mimetype\": \"text/plain\", \"start_char_idx\": 61875, \"end_char_idx\": 64031, \"text_template\": \"{metadata_str}\\\\n\\\\n{content}\", \"metadata_template\": \"{key}: {value}\", \"metadata_seperator\": \"\\\\n\", \"class_name\": \"TextNode\"}',\n",
       "   '_node_type': 'TextNode',\n",
       "   'author': 'paul_graham',\n",
       "   'creation_date': '2024-04-16',\n",
       "   'doc_id': 'data/paul_graham_essay.txt',\n",
       "   'document_id': 'data/paul_graham_essay.txt',\n",
       "   'file_name': 'paul_graham_essay.txt',\n",
       "   'file_path': 'data/paul_graham_essay.txt',\n",
       "   'file_size': 75042,\n",
       "   'file_type': 'text/plain',\n",
       "   'last_modified_date': '2024-04-15',\n",
       "   'ref_doc_id': 'data/paul_graham_essay.txt'},\n",
       "  {'_node_content': '{\"id_\": \"5e784a9a-b642-4dde-8933-244ce96d2652\", \"embedding\": null, \"metadata\": {\"file_path\": \"data/paul_graham_essay.txt\", \"file_name\": \"paul_graham_essay.txt\", \"file_type\": \"text/plain\", \"file_size\": 75042, \"creation_date\": \"2024-04-16\", \"last_modified_date\": \"2024-04-15\", \"author\": \"paul_graham\"}, \"excluded_embed_metadata_keys\": [\"file_name\", \"file_type\", \"file_size\", \"creation_date\", \"last_modified_date\", \"last_accessed_date\"], \"excluded_llm_metadata_keys\": [\"file_name\", \"file_type\", \"file_size\", \"creation_date\", \"last_modified_date\", \"last_accessed_date\"], \"relationships\": {\"1\": {\"node_id\": \"data/paul_graham_essay.txt\", \"node_type\": \"4\", \"metadata\": {\"file_path\": \"data/paul_graham_essay.txt\", \"file_name\": \"paul_graham_essay.txt\", \"file_type\": \"text/plain\", \"file_size\": 75042, \"creation_date\": \"2024-04-16\", \"last_modified_date\": \"2024-04-15\", \"author\": \"paul_graham\"}, \"hash\": \"48f3b379e825cf288ae03eb7b6746d9f6703c698ab5b0ec7b83426fa8725d5dc\", \"class_name\": \"RelatedNodeInfo\"}, \"2\": {\"node_id\": \"5db817b4-e925-454f-a6af-1d323c7d7e6a\", \"node_type\": \"1\", \"metadata\": {\"file_path\": \"data/paul_graham_essay.txt\", \"file_name\": \"paul_graham_essay.txt\", \"file_type\": \"text/plain\", \"file_size\": 75042, \"creation_date\": \"2024-04-16\", \"last_modified_date\": \"2024-04-15\", \"author\": \"paul_graham\"}, \"hash\": \"00fe990ebf5428874e76f9d973f87c039f30fb39d5e720ff01c6b4ad16826572\", \"class_name\": \"RelatedNodeInfo\"}, \"3\": {\"node_id\": \"8d0a94e6-6da7-4576-a4a4-799be95752a4\", \"node_type\": \"1\", \"metadata\": {}, \"hash\": \"b80e01b53d5e5a171c793a43f4ad8ad23ad8d68ae2fcd929d99adf31a362e8c3\", \"class_name\": \"RelatedNodeInfo\"}}, \"text\": \"\", \"mimetype\": \"text/plain\", \"start_char_idx\": 63514, \"end_char_idx\": 65563, \"text_template\": \"{metadata_str}\\\\n\\\\n{content}\", \"metadata_template\": \"{key}: {value}\", \"metadata_seperator\": \"\\\\n\", \"class_name\": \"TextNode\"}',\n",
       "   '_node_type': 'TextNode',\n",
       "   'author': 'paul_graham',\n",
       "   'creation_date': '2024-04-16',\n",
       "   'doc_id': 'data/paul_graham_essay.txt',\n",
       "   'document_id': 'data/paul_graham_essay.txt',\n",
       "   'file_name': 'paul_graham_essay.txt',\n",
       "   'file_path': 'data/paul_graham_essay.txt',\n",
       "   'file_size': 75042,\n",
       "   'file_type': 'text/plain',\n",
       "   'last_modified_date': '2024-04-15',\n",
       "   'ref_doc_id': 'data/paul_graham_essay.txt'},\n",
       "  {'_node_content': '{\"id_\": \"6880f29f-8015-460a-ba53-fb3e27b3fd71\", \"embedding\": null, \"metadata\": {\"file_path\": \"data/paul_graham_essay.txt\", \"file_name\": \"paul_graham_essay.txt\", \"file_type\": \"text/plain\", \"file_size\": 75042, \"creation_date\": \"2024-04-16\", \"last_modified_date\": \"2024-04-15\", \"author\": \"paul_graham\"}, \"excluded_embed_metadata_keys\": [\"file_name\", \"file_type\", \"file_size\", \"creation_date\", \"last_modified_date\", \"last_accessed_date\"], \"excluded_llm_metadata_keys\": [\"file_name\", \"file_type\", \"file_size\", \"creation_date\", \"last_modified_date\", \"last_accessed_date\"], \"relationships\": {\"1\": {\"node_id\": \"data/paul_graham_essay.txt\", \"node_type\": \"4\", \"metadata\": {\"file_path\": \"data/paul_graham_essay.txt\", \"file_name\": \"paul_graham_essay.txt\", \"file_type\": \"text/plain\", \"file_size\": 75042, \"creation_date\": \"2024-04-16\", \"last_modified_date\": \"2024-04-15\", \"author\": \"paul_graham\"}, \"hash\": \"48f3b379e825cf288ae03eb7b6746d9f6703c698ab5b0ec7b83426fa8725d5dc\", \"class_name\": \"RelatedNodeInfo\"}, \"2\": {\"node_id\": \"a65b346c-aba5-4960-8373-59a25c108e4b\", \"node_type\": \"1\", \"metadata\": {\"file_path\": \"data/paul_graham_essay.txt\", \"file_name\": \"paul_graham_essay.txt\", \"file_type\": \"text/plain\", \"file_size\": 75042, \"creation_date\": \"2024-04-16\", \"last_modified_date\": \"2024-04-15\", \"author\": \"paul_graham\"}, \"hash\": \"6f8be93d455398ad9d8cb71a6f1b68651b10a0b7091378dac6878cabb7eab156\", \"class_name\": \"RelatedNodeInfo\"}, \"3\": {\"node_id\": \"acd9cd8e-fc40-4b0c-bdf8-18242b248a0e\", \"node_type\": \"1\", \"metadata\": {}, \"hash\": \"f382ef199b17c454dc8b669a900362a46bf12e239c012451aa74ebce711bb4e9\", \"class_name\": \"RelatedNodeInfo\"}}, \"text\": \"\", \"mimetype\": \"text/plain\", \"start_char_idx\": 47711, \"end_char_idx\": 49859, \"text_template\": \"{metadata_str}\\\\n\\\\n{content}\", \"metadata_template\": \"{key}: {value}\", \"metadata_seperator\": \"\\\\n\", \"class_name\": \"TextNode\"}',\n",
       "   '_node_type': 'TextNode',\n",
       "   'author': 'paul_graham',\n",
       "   'creation_date': '2024-04-16',\n",
       "   'doc_id': 'data/paul_graham_essay.txt',\n",
       "   'document_id': 'data/paul_graham_essay.txt',\n",
       "   'file_name': 'paul_graham_essay.txt',\n",
       "   'file_path': 'data/paul_graham_essay.txt',\n",
       "   'file_size': 75042,\n",
       "   'file_type': 'text/plain',\n",
       "   'last_modified_date': '2024-04-15',\n",
       "   'ref_doc_id': 'data/paul_graham_essay.txt'},\n",
       "  {'_node_content': '{\"id_\": \"6a5d88bd-65a3-4394-adba-76711ed263d1\", \"embedding\": null, \"metadata\": {\"file_path\": \"data/paul_graham_essay.txt\", \"file_name\": \"paul_graham_essay.txt\", \"file_type\": \"text/plain\", \"file_size\": 75042, \"creation_date\": \"2024-04-16\", \"last_modified_date\": \"2024-04-15\", \"author\": \"paul_graham\"}, \"excluded_embed_metadata_keys\": [\"file_name\", \"file_type\", \"file_size\", \"creation_date\", \"last_modified_date\", \"last_accessed_date\"], \"excluded_llm_metadata_keys\": [\"file_name\", \"file_type\", \"file_size\", \"creation_date\", \"last_modified_date\", \"last_accessed_date\"], \"relationships\": {\"1\": {\"node_id\": \"data/paul_graham_essay.txt\", \"node_type\": \"4\", \"metadata\": {\"file_path\": \"data/paul_graham_essay.txt\", \"file_name\": \"paul_graham_essay.txt\", \"file_type\": \"text/plain\", \"file_size\": 75042, \"creation_date\": \"2024-04-16\", \"last_modified_date\": \"2024-04-15\", \"author\": \"paul_graham\"}, \"hash\": \"48f3b379e825cf288ae03eb7b6746d9f6703c698ab5b0ec7b83426fa8725d5dc\", \"class_name\": \"RelatedNodeInfo\"}, \"2\": {\"node_id\": \"741c6c61-4b48-4f1a-9e5f-d3b8039b93fe\", \"node_type\": \"1\", \"metadata\": {\"file_path\": \"data/paul_graham_essay.txt\", \"file_name\": \"paul_graham_essay.txt\", \"file_type\": \"text/plain\", \"file_size\": 75042, \"creation_date\": \"2024-04-16\", \"last_modified_date\": \"2024-04-15\", \"author\": \"paul_graham\"}, \"hash\": \"58a90cfba37c679e0d702589e93380ba0519bd36b74664f471f200fcc7e34203\", \"class_name\": \"RelatedNodeInfo\"}, \"3\": {\"node_id\": \"6cfa2afb-cf70-470c-851f-0f859939ee81\", \"node_type\": \"1\", \"metadata\": {}, \"hash\": \"2377c42b597548939c8ae12efe917cc4134f03a389ed463f0e40a60a0b229f35\", \"class_name\": \"RelatedNodeInfo\"}}, \"text\": \"\", \"mimetype\": \"text/plain\", \"start_char_idx\": 31668, \"end_char_idx\": 33787, \"text_template\": \"{metadata_str}\\\\n\\\\n{content}\", \"metadata_template\": \"{key}: {value}\", \"metadata_seperator\": \"\\\\n\", \"class_name\": \"TextNode\"}',\n",
       "   '_node_type': 'TextNode',\n",
       "   'author': 'paul_graham',\n",
       "   'creation_date': '2024-04-16',\n",
       "   'doc_id': 'data/paul_graham_essay.txt',\n",
       "   'document_id': 'data/paul_graham_essay.txt',\n",
       "   'file_name': 'paul_graham_essay.txt',\n",
       "   'file_path': 'data/paul_graham_essay.txt',\n",
       "   'file_size': 75042,\n",
       "   'file_type': 'text/plain',\n",
       "   'last_modified_date': '2024-04-15',\n",
       "   'ref_doc_id': 'data/paul_graham_essay.txt'},\n",
       "  {'_node_content': '{\"id_\": \"6cfa2afb-cf70-470c-851f-0f859939ee81\", \"embedding\": null, \"metadata\": {\"file_path\": \"data/paul_graham_essay.txt\", \"file_name\": \"paul_graham_essay.txt\", \"file_type\": \"text/plain\", \"file_size\": 75042, \"creation_date\": \"2024-04-16\", \"last_modified_date\": \"2024-04-15\", \"author\": \"paul_graham\"}, \"excluded_embed_metadata_keys\": [\"file_name\", \"file_type\", \"file_size\", \"creation_date\", \"last_modified_date\", \"last_accessed_date\"], \"excluded_llm_metadata_keys\": [\"file_name\", \"file_type\", \"file_size\", \"creation_date\", \"last_modified_date\", \"last_accessed_date\"], \"relationships\": {\"1\": {\"node_id\": \"data/paul_graham_essay.txt\", \"node_type\": \"4\", \"metadata\": {\"file_path\": \"data/paul_graham_essay.txt\", \"file_name\": \"paul_graham_essay.txt\", \"file_type\": \"text/plain\", \"file_size\": 75042, \"creation_date\": \"2024-04-16\", \"last_modified_date\": \"2024-04-15\", \"author\": \"paul_graham\"}, \"hash\": \"48f3b379e825cf288ae03eb7b6746d9f6703c698ab5b0ec7b83426fa8725d5dc\", \"class_name\": \"RelatedNodeInfo\"}, \"2\": {\"node_id\": \"6a5d88bd-65a3-4394-adba-76711ed263d1\", \"node_type\": \"1\", \"metadata\": {\"file_path\": \"data/paul_graham_essay.txt\", \"file_name\": \"paul_graham_essay.txt\", \"file_type\": \"text/plain\", \"file_size\": 75042, \"creation_date\": \"2024-04-16\", \"last_modified_date\": \"2024-04-15\", \"author\": \"paul_graham\"}, \"hash\": \"89368f4d39115a62da3c686025065f9c273a470a1d50d90531750cd6fbd91ce5\", \"class_name\": \"RelatedNodeInfo\"}, \"3\": {\"node_id\": \"12124b7a-6b9f-4761-a36a-d20d374f5ec5\", \"node_type\": \"1\", \"metadata\": {}, \"hash\": \"e5d561e148930f07c6b98cef7b75f773101e5aa8b30d96ef5bd784b5d6779dd5\", \"class_name\": \"RelatedNodeInfo\"}}, \"text\": \"\", \"mimetype\": \"text/plain\", \"start_char_idx\": 33298, \"end_char_idx\": 35357, \"text_template\": \"{metadata_str}\\\\n\\\\n{content}\", \"metadata_template\": \"{key}: {value}\", \"metadata_seperator\": \"\\\\n\", \"class_name\": \"TextNode\"}',\n",
       "   '_node_type': 'TextNode',\n",
       "   'author': 'paul_graham',\n",
       "   'creation_date': '2024-04-16',\n",
       "   'doc_id': 'data/paul_graham_essay.txt',\n",
       "   'document_id': 'data/paul_graham_essay.txt',\n",
       "   'file_name': 'paul_graham_essay.txt',\n",
       "   'file_path': 'data/paul_graham_essay.txt',\n",
       "   'file_size': 75042,\n",
       "   'file_type': 'text/plain',\n",
       "   'last_modified_date': '2024-04-15',\n",
       "   'ref_doc_id': 'data/paul_graham_essay.txt'},\n",
       "  {'_node_content': '{\"id_\": \"741c6c61-4b48-4f1a-9e5f-d3b8039b93fe\", \"embedding\": null, \"metadata\": {\"file_path\": \"data/paul_graham_essay.txt\", \"file_name\": \"paul_graham_essay.txt\", \"file_type\": \"text/plain\", \"file_size\": 75042, \"creation_date\": \"2024-04-16\", \"last_modified_date\": \"2024-04-15\", \"author\": \"paul_graham\"}, \"excluded_embed_metadata_keys\": [\"file_name\", \"file_type\", \"file_size\", \"creation_date\", \"last_modified_date\", \"last_accessed_date\"], \"excluded_llm_metadata_keys\": [\"file_name\", \"file_type\", \"file_size\", \"creation_date\", \"last_modified_date\", \"last_accessed_date\"], \"relationships\": {\"1\": {\"node_id\": \"data/paul_graham_essay.txt\", \"node_type\": \"4\", \"metadata\": {\"file_path\": \"data/paul_graham_essay.txt\", \"file_name\": \"paul_graham_essay.txt\", \"file_type\": \"text/plain\", \"file_size\": 75042, \"creation_date\": \"2024-04-16\", \"last_modified_date\": \"2024-04-15\", \"author\": \"paul_graham\"}, \"hash\": \"48f3b379e825cf288ae03eb7b6746d9f6703c698ab5b0ec7b83426fa8725d5dc\", \"class_name\": \"RelatedNodeInfo\"}, \"2\": {\"node_id\": \"5c5630f3-4acf-4e73-b722-e3bda9964a03\", \"node_type\": \"1\", \"metadata\": {\"file_path\": \"data/paul_graham_essay.txt\", \"file_name\": \"paul_graham_essay.txt\", \"file_type\": \"text/plain\", \"file_size\": 75042, \"creation_date\": \"2024-04-16\", \"last_modified_date\": \"2024-04-15\", \"author\": \"paul_graham\"}, \"hash\": \"d4a9b54e4fa4f559e78db152a8eb914a8fb294413d3ddeb46641fc193fc221a3\", \"class_name\": \"RelatedNodeInfo\"}, \"3\": {\"node_id\": \"6a5d88bd-65a3-4394-adba-76711ed263d1\", \"node_type\": \"1\", \"metadata\": {}, \"hash\": \"7bb9269c673839ec61ed495ac46d83598a0d2784e03adc9a26fc7a6da9adc896\", \"class_name\": \"RelatedNodeInfo\"}}, \"text\": \"\", \"mimetype\": \"text/plain\", \"start_char_idx\": 29979, \"end_char_idx\": 32123, \"text_template\": \"{metadata_str}\\\\n\\\\n{content}\", \"metadata_template\": \"{key}: {value}\", \"metadata_seperator\": \"\\\\n\", \"class_name\": \"TextNode\"}',\n",
       "   '_node_type': 'TextNode',\n",
       "   'author': 'paul_graham',\n",
       "   'creation_date': '2024-04-16',\n",
       "   'doc_id': 'data/paul_graham_essay.txt',\n",
       "   'document_id': 'data/paul_graham_essay.txt',\n",
       "   'file_name': 'paul_graham_essay.txt',\n",
       "   'file_path': 'data/paul_graham_essay.txt',\n",
       "   'file_size': 75042,\n",
       "   'file_type': 'text/plain',\n",
       "   'last_modified_date': '2024-04-15',\n",
       "   'ref_doc_id': 'data/paul_graham_essay.txt'},\n",
       "  {'_node_content': '{\"id_\": \"8a3f2503-8b0f-4ac8-97bc-fb679ef0820d\", \"embedding\": null, \"metadata\": {\"file_path\": \"data/paul_graham_essay.txt\", \"file_name\": \"paul_graham_essay.txt\", \"file_type\": \"text/plain\", \"file_size\": 75042, \"creation_date\": \"2024-04-16\", \"last_modified_date\": \"2024-04-15\", \"author\": \"paul_graham\"}, \"excluded_embed_metadata_keys\": [\"file_name\", \"file_type\", \"file_size\", \"creation_date\", \"last_modified_date\", \"last_accessed_date\"], \"excluded_llm_metadata_keys\": [\"file_name\", \"file_type\", \"file_size\", \"creation_date\", \"last_modified_date\", \"last_accessed_date\"], \"relationships\": {\"1\": {\"node_id\": \"data/paul_graham_essay.txt\", \"node_type\": \"4\", \"metadata\": {\"file_path\": \"data/paul_graham_essay.txt\", \"file_name\": \"paul_graham_essay.txt\", \"file_type\": \"text/plain\", \"file_size\": 75042, \"creation_date\": \"2024-04-16\", \"last_modified_date\": \"2024-04-15\", \"author\": \"paul_graham\"}, \"hash\": \"48f3b379e825cf288ae03eb7b6746d9f6703c698ab5b0ec7b83426fa8725d5dc\", \"class_name\": \"RelatedNodeInfo\"}, \"2\": {\"node_id\": \"19b26c9f-977d-4444-9857-998b5ae1986c\", \"node_type\": \"1\", \"metadata\": {\"file_path\": \"data/paul_graham_essay.txt\", \"file_name\": \"paul_graham_essay.txt\", \"file_type\": \"text/plain\", \"file_size\": 75042, \"creation_date\": \"2024-04-16\", \"last_modified_date\": \"2024-04-15\", \"author\": \"paul_graham\"}, \"hash\": \"33a3249622f71b7dd4aa0efcb1fa4985fa8d92b30f482bbecbfc2abfafbbafb3\", \"class_name\": \"RelatedNodeInfo\"}, \"3\": {\"node_id\": \"47e36330-f7c7-41ba-8048-8782a9c14b5c\", \"node_type\": \"1\", \"metadata\": {}, \"hash\": \"abdad336d53d635bc1344c19c29b626bb5029b18c89d474f7ed85c6e889dbd09\", \"class_name\": \"RelatedNodeInfo\"}}, \"text\": \"\", \"mimetype\": \"text/plain\", \"start_char_idx\": 38085, \"end_char_idx\": 40214, \"text_template\": \"{metadata_str}\\\\n\\\\n{content}\", \"metadata_template\": \"{key}: {value}\", \"metadata_seperator\": \"\\\\n\", \"class_name\": \"TextNode\"}',\n",
       "   '_node_type': 'TextNode',\n",
       "   'author': 'paul_graham',\n",
       "   'creation_date': '2024-04-16',\n",
       "   'doc_id': 'data/paul_graham_essay.txt',\n",
       "   'document_id': 'data/paul_graham_essay.txt',\n",
       "   'file_name': 'paul_graham_essay.txt',\n",
       "   'file_path': 'data/paul_graham_essay.txt',\n",
       "   'file_size': 75042,\n",
       "   'file_type': 'text/plain',\n",
       "   'last_modified_date': '2024-04-15',\n",
       "   'ref_doc_id': 'data/paul_graham_essay.txt'},\n",
       "  {'_node_content': '{\"id_\": \"8d0a94e6-6da7-4576-a4a4-799be95752a4\", \"embedding\": null, \"metadata\": {\"file_path\": \"data/paul_graham_essay.txt\", \"file_name\": \"paul_graham_essay.txt\", \"file_type\": \"text/plain\", \"file_size\": 75042, \"creation_date\": \"2024-04-16\", \"last_modified_date\": \"2024-04-15\", \"author\": \"paul_graham\"}, \"excluded_embed_metadata_keys\": [\"file_name\", \"file_type\", \"file_size\", \"creation_date\", \"last_modified_date\", \"last_accessed_date\"], \"excluded_llm_metadata_keys\": [\"file_name\", \"file_type\", \"file_size\", \"creation_date\", \"last_modified_date\", \"last_accessed_date\"], \"relationships\": {\"1\": {\"node_id\": \"data/paul_graham_essay.txt\", \"node_type\": \"4\", \"metadata\": {\"file_path\": \"data/paul_graham_essay.txt\", \"file_name\": \"paul_graham_essay.txt\", \"file_type\": \"text/plain\", \"file_size\": 75042, \"creation_date\": \"2024-04-16\", \"last_modified_date\": \"2024-04-15\", \"author\": \"paul_graham\"}, \"hash\": \"48f3b379e825cf288ae03eb7b6746d9f6703c698ab5b0ec7b83426fa8725d5dc\", \"class_name\": \"RelatedNodeInfo\"}, \"2\": {\"node_id\": \"5e784a9a-b642-4dde-8933-244ce96d2652\", \"node_type\": \"1\", \"metadata\": {\"file_path\": \"data/paul_graham_essay.txt\", \"file_name\": \"paul_graham_essay.txt\", \"file_type\": \"text/plain\", \"file_size\": 75042, \"creation_date\": \"2024-04-16\", \"last_modified_date\": \"2024-04-15\", \"author\": \"paul_graham\"}, \"hash\": \"8d5416a8152e755717fb57e223cc1d51c6f773c1d754de9d767c2405b89699f8\", \"class_name\": \"RelatedNodeInfo\"}, \"3\": {\"node_id\": \"42d97852-fdee-459c-b3af-e541bc4eef92\", \"node_type\": \"1\", \"metadata\": {}, \"hash\": \"66cddc0f96e6b90f6311f6433c15281bbe7825ab57a1024fac910a4c73440200\", \"class_name\": \"RelatedNodeInfo\"}}, \"text\": \"\", \"mimetype\": \"text/plain\", \"start_char_idx\": 65075, \"end_char_idx\": 67125, \"text_template\": \"{metadata_str}\\\\n\\\\n{content}\", \"metadata_template\": \"{key}: {value}\", \"metadata_seperator\": \"\\\\n\", \"class_name\": \"TextNode\"}',\n",
       "   '_node_type': 'TextNode',\n",
       "   'author': 'paul_graham',\n",
       "   'creation_date': '2024-04-16',\n",
       "   'doc_id': 'data/paul_graham_essay.txt',\n",
       "   'document_id': 'data/paul_graham_essay.txt',\n",
       "   'file_name': 'paul_graham_essay.txt',\n",
       "   'file_path': 'data/paul_graham_essay.txt',\n",
       "   'file_size': 75042,\n",
       "   'file_type': 'text/plain',\n",
       "   'last_modified_date': '2024-04-15',\n",
       "   'ref_doc_id': 'data/paul_graham_essay.txt'},\n",
       "  {'_node_content': '{\"id_\": \"8ee70872-e17f-4d77-8af8-d60d7a10489e\", \"embedding\": null, \"metadata\": {\"file_path\": \"data/paul_graham_essay.txt\", \"file_name\": \"paul_graham_essay.txt\", \"file_type\": \"text/plain\", \"file_size\": 75042, \"creation_date\": \"2024-04-16\", \"last_modified_date\": \"2024-04-15\", \"author\": \"paul_graham\"}, \"excluded_embed_metadata_keys\": [\"file_name\", \"file_type\", \"file_size\", \"creation_date\", \"last_modified_date\", \"last_accessed_date\"], \"excluded_llm_metadata_keys\": [\"file_name\", \"file_type\", \"file_size\", \"creation_date\", \"last_modified_date\", \"last_accessed_date\"], \"relationships\": {\"1\": {\"node_id\": \"data/paul_graham_essay.txt\", \"node_type\": \"4\", \"metadata\": {\"file_path\": \"data/paul_graham_essay.txt\", \"file_name\": \"paul_graham_essay.txt\", \"file_type\": \"text/plain\", \"file_size\": 75042, \"creation_date\": \"2024-04-16\", \"last_modified_date\": \"2024-04-15\", \"author\": \"paul_graham\"}, \"hash\": \"48f3b379e825cf288ae03eb7b6746d9f6703c698ab5b0ec7b83426fa8725d5dc\", \"class_name\": \"RelatedNodeInfo\"}, \"2\": {\"node_id\": \"9677e6a8-14de-4b72-be23-8eb02fb21988\", \"node_type\": \"1\", \"metadata\": {\"file_path\": \"data/paul_graham_essay.txt\", \"file_name\": \"paul_graham_essay.txt\", \"file_type\": \"text/plain\", \"file_size\": 75042, \"creation_date\": \"2024-04-16\", \"last_modified_date\": \"2024-04-15\", \"author\": \"paul_graham\"}, \"hash\": \"0607d7ad18f7e81eea1b81039f5c99b8fd548655beb92aa65813a99b89dc8852\", \"class_name\": \"RelatedNodeInfo\"}, \"3\": {\"node_id\": \"f7272bb3-abe3-4619-8845-b7d71ab41eff\", \"node_type\": \"1\", \"metadata\": {}, \"hash\": \"3aea6a39ef43a08ecab0ef906a97b68d589a2df6e41b5181b238af148c0dbd43\", \"class_name\": \"RelatedNodeInfo\"}}, \"text\": \"\", \"mimetype\": \"text/plain\", \"start_char_idx\": 69807, \"end_char_idx\": 71959, \"text_template\": \"{metadata_str}\\\\n\\\\n{content}\", \"metadata_template\": \"{key}: {value}\", \"metadata_seperator\": \"\\\\n\", \"class_name\": \"TextNode\"}',\n",
       "   '_node_type': 'TextNode',\n",
       "   'author': 'paul_graham',\n",
       "   'creation_date': '2024-04-16',\n",
       "   'doc_id': 'data/paul_graham_essay.txt',\n",
       "   'document_id': 'data/paul_graham_essay.txt',\n",
       "   'file_name': 'paul_graham_essay.txt',\n",
       "   'file_path': 'data/paul_graham_essay.txt',\n",
       "   'file_size': 75042,\n",
       "   'file_type': 'text/plain',\n",
       "   'last_modified_date': '2024-04-15',\n",
       "   'ref_doc_id': 'data/paul_graham_essay.txt'},\n",
       "  {'_node_content': '{\"id_\": \"94e84d9f-b1f9-4d16-945e-7521cb8097cf\", \"embedding\": null, \"metadata\": {\"file_path\": \"data/paul_graham_essay.txt\", \"file_name\": \"paul_graham_essay.txt\", \"file_type\": \"text/plain\", \"file_size\": 75042, \"creation_date\": \"2024-04-16\", \"last_modified_date\": \"2024-04-15\", \"author\": \"paul_graham\"}, \"excluded_embed_metadata_keys\": [\"file_name\", \"file_type\", \"file_size\", \"creation_date\", \"last_modified_date\", \"last_accessed_date\"], \"excluded_llm_metadata_keys\": [\"file_name\", \"file_type\", \"file_size\", \"creation_date\", \"last_modified_date\", \"last_accessed_date\"], \"relationships\": {\"1\": {\"node_id\": \"data/paul_graham_essay.txt\", \"node_type\": \"4\", \"metadata\": {\"file_path\": \"data/paul_graham_essay.txt\", \"file_name\": \"paul_graham_essay.txt\", \"file_type\": \"text/plain\", \"file_size\": 75042, \"creation_date\": \"2024-04-16\", \"last_modified_date\": \"2024-04-15\", \"author\": \"paul_graham\"}, \"hash\": \"48f3b379e825cf288ae03eb7b6746d9f6703c698ab5b0ec7b83426fa8725d5dc\", \"class_name\": \"RelatedNodeInfo\"}, \"2\": {\"node_id\": \"309fbdb4-eb98-43de-9580-3890dc6d1128\", \"node_type\": \"1\", \"metadata\": {\"file_path\": \"data/paul_graham_essay.txt\", \"file_name\": \"paul_graham_essay.txt\", \"file_type\": \"text/plain\", \"file_size\": 75042, \"creation_date\": \"2024-04-16\", \"last_modified_date\": \"2024-04-15\", \"author\": \"paul_graham\"}, \"hash\": \"954dbdf1cda07e4bf80443b8acbe6aa5ff18b078367cd3b05a015122ac5e7374\", \"class_name\": \"RelatedNodeInfo\"}, \"3\": {\"node_id\": \"c8df8580-779c-4b01-b072-d236c93b2250\", \"node_type\": \"1\", \"metadata\": {}, \"hash\": \"926e7aa86be301c886879c0f185492d13bf1b76fb3ffb6572bfdeb36fbd35dfe\", \"class_name\": \"RelatedNodeInfo\"}}, \"text\": \"\", \"mimetype\": \"text/plain\", \"start_char_idx\": 57497, \"end_char_idx\": 59399, \"text_template\": \"{metadata_str}\\\\n\\\\n{content}\", \"metadata_template\": \"{key}: {value}\", \"metadata_seperator\": \"\\\\n\", \"class_name\": \"TextNode\"}',\n",
       "   '_node_type': 'TextNode',\n",
       "   'author': 'paul_graham',\n",
       "   'creation_date': '2024-04-16',\n",
       "   'doc_id': 'data/paul_graham_essay.txt',\n",
       "   'document_id': 'data/paul_graham_essay.txt',\n",
       "   'file_name': 'paul_graham_essay.txt',\n",
       "   'file_path': 'data/paul_graham_essay.txt',\n",
       "   'file_size': 75042,\n",
       "   'file_type': 'text/plain',\n",
       "   'last_modified_date': '2024-04-15',\n",
       "   'ref_doc_id': 'data/paul_graham_essay.txt'},\n",
       "  {'_node_content': '{\"id_\": \"9677e6a8-14de-4b72-be23-8eb02fb21988\", \"embedding\": null, \"metadata\": {\"file_path\": \"data/paul_graham_essay.txt\", \"file_name\": \"paul_graham_essay.txt\", \"file_type\": \"text/plain\", \"file_size\": 75042, \"creation_date\": \"2024-04-16\", \"last_modified_date\": \"2024-04-15\", \"author\": \"paul_graham\"}, \"excluded_embed_metadata_keys\": [\"file_name\", \"file_type\", \"file_size\", \"creation_date\", \"last_modified_date\", \"last_accessed_date\"], \"excluded_llm_metadata_keys\": [\"file_name\", \"file_type\", \"file_size\", \"creation_date\", \"last_modified_date\", \"last_accessed_date\"], \"relationships\": {\"1\": {\"node_id\": \"data/paul_graham_essay.txt\", \"node_type\": \"4\", \"metadata\": {\"file_path\": \"data/paul_graham_essay.txt\", \"file_name\": \"paul_graham_essay.txt\", \"file_type\": \"text/plain\", \"file_size\": 75042, \"creation_date\": \"2024-04-16\", \"last_modified_date\": \"2024-04-15\", \"author\": \"paul_graham\"}, \"hash\": \"48f3b379e825cf288ae03eb7b6746d9f6703c698ab5b0ec7b83426fa8725d5dc\", \"class_name\": \"RelatedNodeInfo\"}, \"2\": {\"node_id\": \"42d97852-fdee-459c-b3af-e541bc4eef92\", \"node_type\": \"1\", \"metadata\": {\"file_path\": \"data/paul_graham_essay.txt\", \"file_name\": \"paul_graham_essay.txt\", \"file_type\": \"text/plain\", \"file_size\": 75042, \"creation_date\": \"2024-04-16\", \"last_modified_date\": \"2024-04-15\", \"author\": \"paul_graham\"}, \"hash\": \"d862b99fde374095ec184a6a4ee06881e8a5dcf72914284fa6c02bedf7d50495\", \"class_name\": \"RelatedNodeInfo\"}, \"3\": {\"node_id\": \"8ee70872-e17f-4d77-8af8-d60d7a10489e\", \"node_type\": \"1\", \"metadata\": {}, \"hash\": \"fc87f646c3f02ab27a88222e08bb3dab2ab7f685cde5407e9fb3cdae23c3ce08\", \"class_name\": \"RelatedNodeInfo\"}}, \"text\": \"\", \"mimetype\": \"text/plain\", \"start_char_idx\": 68286, \"end_char_idx\": 70349, \"text_template\": \"{metadata_str}\\\\n\\\\n{content}\", \"metadata_template\": \"{key}: {value}\", \"metadata_seperator\": \"\\\\n\", \"class_name\": \"TextNode\"}',\n",
       "   '_node_type': 'TextNode',\n",
       "   'author': 'paul_graham',\n",
       "   'creation_date': '2024-04-16',\n",
       "   'doc_id': 'data/paul_graham_essay.txt',\n",
       "   'document_id': 'data/paul_graham_essay.txt',\n",
       "   'file_name': 'paul_graham_essay.txt',\n",
       "   'file_path': 'data/paul_graham_essay.txt',\n",
       "   'file_size': 75042,\n",
       "   'file_type': 'text/plain',\n",
       "   'last_modified_date': '2024-04-15',\n",
       "   'ref_doc_id': 'data/paul_graham_essay.txt'},\n",
       "  {'_node_content': '{\"id_\": \"9df02686-5b04-41f0-84b5-ba9ce30e5519\", \"embedding\": null, \"metadata\": {\"file_path\": \"data/paul_graham_essay.txt\", \"file_name\": \"paul_graham_essay.txt\", \"file_type\": \"text/plain\", \"file_size\": 75042, \"creation_date\": \"2024-04-16\", \"last_modified_date\": \"2024-04-15\", \"author\": \"paul_graham\"}, \"excluded_embed_metadata_keys\": [\"file_name\", \"file_type\", \"file_size\", \"creation_date\", \"last_modified_date\", \"last_accessed_date\"], \"excluded_llm_metadata_keys\": [\"file_name\", \"file_type\", \"file_size\", \"creation_date\", \"last_modified_date\", \"last_accessed_date\"], \"relationships\": {\"1\": {\"node_id\": \"data/paul_graham_essay.txt\", \"node_type\": \"4\", \"metadata\": {\"file_path\": \"data/paul_graham_essay.txt\", \"file_name\": \"paul_graham_essay.txt\", \"file_type\": \"text/plain\", \"file_size\": 75042, \"creation_date\": \"2024-04-16\", \"last_modified_date\": \"2024-04-15\", \"author\": \"paul_graham\"}, \"hash\": \"48f3b379e825cf288ae03eb7b6746d9f6703c698ab5b0ec7b83426fa8725d5dc\", \"class_name\": \"RelatedNodeInfo\"}, \"2\": {\"node_id\": \"32005ce9-b109-4fb8-9928-dedf64eee000\", \"node_type\": \"1\", \"metadata\": {\"file_path\": \"data/paul_graham_essay.txt\", \"file_name\": \"paul_graham_essay.txt\", \"file_type\": \"text/plain\", \"file_size\": 75042, \"creation_date\": \"2024-04-16\", \"last_modified_date\": \"2024-04-15\", \"author\": \"paul_graham\"}, \"hash\": \"440a368e7c3196d6ee26a72222efabbcd69f3fe055be57dd2ab24e05026adfa8\", \"class_name\": \"RelatedNodeInfo\"}, \"3\": {\"node_id\": \"f4b32e16-afef-4a0b-8110-77e5ae5296c2\", \"node_type\": \"1\", \"metadata\": {}, \"hash\": \"f5dcf102e632412c762122615a3a6b70ed0d19761b083ac5a3ab9e9e70a449e3\", \"class_name\": \"RelatedNodeInfo\"}}, \"text\": \"\", \"mimetype\": \"text/plain\", \"start_char_idx\": 10722, \"end_char_idx\": 12816, \"text_template\": \"{metadata_str}\\\\n\\\\n{content}\", \"metadata_template\": \"{key}: {value}\", \"metadata_seperator\": \"\\\\n\", \"class_name\": \"TextNode\"}',\n",
       "   '_node_type': 'TextNode',\n",
       "   'author': 'paul_graham',\n",
       "   'creation_date': '2024-04-16',\n",
       "   'doc_id': 'data/paul_graham_essay.txt',\n",
       "   'document_id': 'data/paul_graham_essay.txt',\n",
       "   'file_name': 'paul_graham_essay.txt',\n",
       "   'file_path': 'data/paul_graham_essay.txt',\n",
       "   'file_size': 75042,\n",
       "   'file_type': 'text/plain',\n",
       "   'last_modified_date': '2024-04-15',\n",
       "   'ref_doc_id': 'data/paul_graham_essay.txt'},\n",
       "  {'_node_content': '{\"id_\": \"a1895cee-17c5-4744-8f89-a5326515717e\", \"embedding\": null, \"metadata\": {\"file_path\": \"data/paul_graham_essay.txt\", \"file_name\": \"paul_graham_essay.txt\", \"file_type\": \"text/plain\", \"file_size\": 75042, \"creation_date\": \"2024-04-16\", \"last_modified_date\": \"2024-04-15\", \"author\": \"paul_graham\"}, \"excluded_embed_metadata_keys\": [\"file_name\", \"file_type\", \"file_size\", \"creation_date\", \"last_modified_date\", \"last_accessed_date\"], \"excluded_llm_metadata_keys\": [\"file_name\", \"file_type\", \"file_size\", \"creation_date\", \"last_modified_date\", \"last_accessed_date\"], \"relationships\": {\"1\": {\"node_id\": \"data/paul_graham_essay.txt\", \"node_type\": \"4\", \"metadata\": {\"file_path\": \"data/paul_graham_essay.txt\", \"file_name\": \"paul_graham_essay.txt\", \"file_type\": \"text/plain\", \"file_size\": 75042, \"creation_date\": \"2024-04-16\", \"last_modified_date\": \"2024-04-15\", \"author\": \"paul_graham\"}, \"hash\": \"48f3b379e825cf288ae03eb7b6746d9f6703c698ab5b0ec7b83426fa8725d5dc\", \"class_name\": \"RelatedNodeInfo\"}, \"2\": {\"node_id\": \"c8df8580-779c-4b01-b072-d236c93b2250\", \"node_type\": \"1\", \"metadata\": {\"file_path\": \"data/paul_graham_essay.txt\", \"file_name\": \"paul_graham_essay.txt\", \"file_type\": \"text/plain\", \"file_size\": 75042, \"creation_date\": \"2024-04-16\", \"last_modified_date\": \"2024-04-15\", \"author\": \"paul_graham\"}, \"hash\": \"ee001d5dc85b73fbd25b2b976320a27c22b71d6cce3ad94d7ca4f0c9a266e0d3\", \"class_name\": \"RelatedNodeInfo\"}, \"3\": {\"node_id\": \"5db817b4-e925-454f-a6af-1d323c7d7e6a\", \"node_type\": \"1\", \"metadata\": {}, \"hash\": \"94b9995e8e6d39ae483d3b47cbbbaecb26d998fd4563e1bbac3debfbfccf6113\", \"class_name\": \"RelatedNodeInfo\"}}, \"text\": \"\", \"mimetype\": \"text/plain\", \"start_char_idx\": 60461, \"end_char_idx\": 62389, \"text_template\": \"{metadata_str}\\\\n\\\\n{content}\", \"metadata_template\": \"{key}: {value}\", \"metadata_seperator\": \"\\\\n\", \"class_name\": \"TextNode\"}',\n",
       "   '_node_type': 'TextNode',\n",
       "   'author': 'paul_graham',\n",
       "   'creation_date': '2024-04-16',\n",
       "   'doc_id': 'data/paul_graham_essay.txt',\n",
       "   'document_id': 'data/paul_graham_essay.txt',\n",
       "   'file_name': 'paul_graham_essay.txt',\n",
       "   'file_path': 'data/paul_graham_essay.txt',\n",
       "   'file_size': 75042,\n",
       "   'file_type': 'text/plain',\n",
       "   'last_modified_date': '2024-04-15',\n",
       "   'ref_doc_id': 'data/paul_graham_essay.txt'},\n",
       "  {'_node_content': '{\"id_\": \"a65b346c-aba5-4960-8373-59a25c108e4b\", \"embedding\": null, \"metadata\": {\"file_path\": \"data/paul_graham_essay.txt\", \"file_name\": \"paul_graham_essay.txt\", \"file_type\": \"text/plain\", \"file_size\": 75042, \"creation_date\": \"2024-04-16\", \"last_modified_date\": \"2024-04-15\", \"author\": \"paul_graham\"}, \"excluded_embed_metadata_keys\": [\"file_name\", \"file_type\", \"file_size\", \"creation_date\", \"last_modified_date\", \"last_accessed_date\"], \"excluded_llm_metadata_keys\": [\"file_name\", \"file_type\", \"file_size\", \"creation_date\", \"last_modified_date\", \"last_accessed_date\"], \"relationships\": {\"1\": {\"node_id\": \"data/paul_graham_essay.txt\", \"node_type\": \"4\", \"metadata\": {\"file_path\": \"data/paul_graham_essay.txt\", \"file_name\": \"paul_graham_essay.txt\", \"file_type\": \"text/plain\", \"file_size\": 75042, \"creation_date\": \"2024-04-16\", \"last_modified_date\": \"2024-04-15\", \"author\": \"paul_graham\"}, \"hash\": \"48f3b379e825cf288ae03eb7b6746d9f6703c698ab5b0ec7b83426fa8725d5dc\", \"class_name\": \"RelatedNodeInfo\"}, \"2\": {\"node_id\": \"05ffd0b1-1bcc-4fc1-adf6-d00ca14ba8a3\", \"node_type\": \"1\", \"metadata\": {\"file_path\": \"data/paul_graham_essay.txt\", \"file_name\": \"paul_graham_essay.txt\", \"file_type\": \"text/plain\", \"file_size\": 75042, \"creation_date\": \"2024-04-16\", \"last_modified_date\": \"2024-04-15\", \"author\": \"paul_graham\"}, \"hash\": \"6e1eb82a71462ebbb9d66dd7dc9f3748dbd2350325d80e682648f12cbdb1d65d\", \"class_name\": \"RelatedNodeInfo\"}, \"3\": {\"node_id\": \"6880f29f-8015-460a-ba53-fb3e27b3fd71\", \"node_type\": \"1\", \"metadata\": {}, \"hash\": \"ed8ef1c48be6cc048950481d787880fed012b7d0c36416ea21ca6946e3e26318\", \"class_name\": \"RelatedNodeInfo\"}}, \"text\": \"\", \"mimetype\": \"text/plain\", \"start_char_idx\": 46068, \"end_char_idx\": 48305, \"text_template\": \"{metadata_str}\\\\n\\\\n{content}\", \"metadata_template\": \"{key}: {value}\", \"metadata_seperator\": \"\\\\n\", \"class_name\": \"TextNode\"}',\n",
       "   '_node_type': 'TextNode',\n",
       "   'author': 'paul_graham',\n",
       "   'creation_date': '2024-04-16',\n",
       "   'doc_id': 'data/paul_graham_essay.txt',\n",
       "   'document_id': 'data/paul_graham_essay.txt',\n",
       "   'file_name': 'paul_graham_essay.txt',\n",
       "   'file_path': 'data/paul_graham_essay.txt',\n",
       "   'file_size': 75042,\n",
       "   'file_type': 'text/plain',\n",
       "   'last_modified_date': '2024-04-15',\n",
       "   'ref_doc_id': 'data/paul_graham_essay.txt'},\n",
       "  {'_node_content': '{\"id_\": \"acd9cd8e-fc40-4b0c-bdf8-18242b248a0e\", \"embedding\": null, \"metadata\": {\"file_path\": \"data/paul_graham_essay.txt\", \"file_name\": \"paul_graham_essay.txt\", \"file_type\": \"text/plain\", \"file_size\": 75042, \"creation_date\": \"2024-04-16\", \"last_modified_date\": \"2024-04-15\", \"author\": \"paul_graham\"}, \"excluded_embed_metadata_keys\": [\"file_name\", \"file_type\", \"file_size\", \"creation_date\", \"last_modified_date\", \"last_accessed_date\"], \"excluded_llm_metadata_keys\": [\"file_name\", \"file_type\", \"file_size\", \"creation_date\", \"last_modified_date\", \"last_accessed_date\"], \"relationships\": {\"1\": {\"node_id\": \"data/paul_graham_essay.txt\", \"node_type\": \"4\", \"metadata\": {\"file_path\": \"data/paul_graham_essay.txt\", \"file_name\": \"paul_graham_essay.txt\", \"file_type\": \"text/plain\", \"file_size\": 75042, \"creation_date\": \"2024-04-16\", \"last_modified_date\": \"2024-04-15\", \"author\": \"paul_graham\"}, \"hash\": \"48f3b379e825cf288ae03eb7b6746d9f6703c698ab5b0ec7b83426fa8725d5dc\", \"class_name\": \"RelatedNodeInfo\"}, \"2\": {\"node_id\": \"6880f29f-8015-460a-ba53-fb3e27b3fd71\", \"node_type\": \"1\", \"metadata\": {\"file_path\": \"data/paul_graham_essay.txt\", \"file_name\": \"paul_graham_essay.txt\", \"file_type\": \"text/plain\", \"file_size\": 75042, \"creation_date\": \"2024-04-16\", \"last_modified_date\": \"2024-04-15\", \"author\": \"paul_graham\"}, \"hash\": \"093a275d80324077bf1918530a1367efe1b1144636fd76c0e82e562aaa3684e4\", \"class_name\": \"RelatedNodeInfo\"}, \"3\": {\"node_id\": \"b9861eed-acc9-4c21-bab2-f16635890896\", \"node_type\": \"1\", \"metadata\": {}, \"hash\": \"1d0c75d49a6903cf5a3b062eb3f8947e518914e03a8060c082e6b6ba56541577\", \"class_name\": \"RelatedNodeInfo\"}}, \"text\": \"\", \"mimetype\": \"text/plain\", \"start_char_idx\": 49442, \"end_char_idx\": 51429, \"text_template\": \"{metadata_str}\\\\n\\\\n{content}\", \"metadata_template\": \"{key}: {value}\", \"metadata_seperator\": \"\\\\n\", \"class_name\": \"TextNode\"}',\n",
       "   '_node_type': 'TextNode',\n",
       "   'author': 'paul_graham',\n",
       "   'creation_date': '2024-04-16',\n",
       "   'doc_id': 'data/paul_graham_essay.txt',\n",
       "   'document_id': 'data/paul_graham_essay.txt',\n",
       "   'file_name': 'paul_graham_essay.txt',\n",
       "   'file_path': 'data/paul_graham_essay.txt',\n",
       "   'file_size': 75042,\n",
       "   'file_type': 'text/plain',\n",
       "   'last_modified_date': '2024-04-15',\n",
       "   'ref_doc_id': 'data/paul_graham_essay.txt'},\n",
       "  {'_node_content': '{\"id_\": \"b4fac5b6-258a-4daa-a43f-78c249a33cd1\", \"embedding\": null, \"metadata\": {\"file_path\": \"data/paul_graham_essay.txt\", \"file_name\": \"paul_graham_essay.txt\", \"file_type\": \"text/plain\", \"file_size\": 75042, \"creation_date\": \"2024-04-16\", \"last_modified_date\": \"2024-04-15\", \"author\": \"paul_graham\"}, \"excluded_embed_metadata_keys\": [\"file_name\", \"file_type\", \"file_size\", \"creation_date\", \"last_modified_date\", \"last_accessed_date\"], \"excluded_llm_metadata_keys\": [\"file_name\", \"file_type\", \"file_size\", \"creation_date\", \"last_modified_date\", \"last_accessed_date\"], \"relationships\": {\"1\": {\"node_id\": \"data/paul_graham_essay.txt\", \"node_type\": \"4\", \"metadata\": {\"file_path\": \"data/paul_graham_essay.txt\", \"file_name\": \"paul_graham_essay.txt\", \"file_type\": \"text/plain\", \"file_size\": 75042, \"creation_date\": \"2024-04-16\", \"last_modified_date\": \"2024-04-15\", \"author\": \"paul_graham\"}, \"hash\": \"48f3b379e825cf288ae03eb7b6746d9f6703c698ab5b0ec7b83426fa8725d5dc\", \"class_name\": \"RelatedNodeInfo\"}, \"2\": {\"node_id\": \"21e3d7ce-75e1-4847-9197-2ab0b9210dad\", \"node_type\": \"1\", \"metadata\": {\"file_path\": \"data/paul_graham_essay.txt\", \"file_name\": \"paul_graham_essay.txt\", \"file_type\": \"text/plain\", \"file_size\": 75042, \"creation_date\": \"2024-04-16\", \"last_modified_date\": \"2024-04-15\", \"author\": \"paul_graham\"}, \"hash\": \"799ce58d7a1bd47c0182d5d86f03f635840427cb9128db29d2c0880544e03759\", \"class_name\": \"RelatedNodeInfo\"}, \"3\": {\"node_id\": \"dc3bcc31-d6b8-45a1-9421-a59b3af609f3\", \"node_type\": \"1\", \"metadata\": {}, \"hash\": \"f31bd28f804b7c2d3981b477f69904441368d5c184e8efa828bbde16b5794624\", \"class_name\": \"RelatedNodeInfo\"}}, \"text\": \"\", \"mimetype\": \"text/plain\", \"start_char_idx\": 15778, \"end_char_idx\": 17870, \"text_template\": \"{metadata_str}\\\\n\\\\n{content}\", \"metadata_template\": \"{key}: {value}\", \"metadata_seperator\": \"\\\\n\", \"class_name\": \"TextNode\"}',\n",
       "   '_node_type': 'TextNode',\n",
       "   'author': 'paul_graham',\n",
       "   'creation_date': '2024-04-16',\n",
       "   'doc_id': 'data/paul_graham_essay.txt',\n",
       "   'document_id': 'data/paul_graham_essay.txt',\n",
       "   'file_name': 'paul_graham_essay.txt',\n",
       "   'file_path': 'data/paul_graham_essay.txt',\n",
       "   'file_size': 75042,\n",
       "   'file_type': 'text/plain',\n",
       "   'last_modified_date': '2024-04-15',\n",
       "   'ref_doc_id': 'data/paul_graham_essay.txt'},\n",
       "  {'_node_content': '{\"id_\": \"b770821a-4fe7-4ad2-9929-7a25e13b30d0\", \"embedding\": null, \"metadata\": {\"file_path\": \"data/paul_graham_essay.txt\", \"file_name\": \"paul_graham_essay.txt\", \"file_type\": \"text/plain\", \"file_size\": 75042, \"creation_date\": \"2024-04-16\", \"last_modified_date\": \"2024-04-15\", \"author\": \"paul_graham\"}, \"excluded_embed_metadata_keys\": [\"file_name\", \"file_type\", \"file_size\", \"creation_date\", \"last_modified_date\", \"last_accessed_date\"], \"excluded_llm_metadata_keys\": [\"file_name\", \"file_type\", \"file_size\", \"creation_date\", \"last_modified_date\", \"last_accessed_date\"], \"relationships\": {\"1\": {\"node_id\": \"data/paul_graham_essay.txt\", \"node_type\": \"4\", \"metadata\": {\"file_path\": \"data/paul_graham_essay.txt\", \"file_name\": \"paul_graham_essay.txt\", \"file_type\": \"text/plain\", \"file_size\": 75042, \"creation_date\": \"2024-04-16\", \"last_modified_date\": \"2024-04-15\", \"author\": \"paul_graham\"}, \"hash\": \"48f3b379e825cf288ae03eb7b6746d9f6703c698ab5b0ec7b83426fa8725d5dc\", \"class_name\": \"RelatedNodeInfo\"}, \"2\": {\"node_id\": \"f7272bb3-abe3-4619-8845-b7d71ab41eff\", \"node_type\": \"1\", \"metadata\": {\"file_path\": \"data/paul_graham_essay.txt\", \"file_name\": \"paul_graham_essay.txt\", \"file_type\": \"text/plain\", \"file_size\": 75042, \"creation_date\": \"2024-04-16\", \"last_modified_date\": \"2024-04-15\", \"author\": \"paul_graham\"}, \"hash\": \"c2862aaaa0723699f49f14d859caa543edc199c9be3563fdef478164381419fc\", \"class_name\": \"RelatedNodeInfo\"}}, \"text\": \"\", \"mimetype\": \"text/plain\", \"start_char_idx\": 73208, \"end_char_idx\": 75013, \"text_template\": \"{metadata_str}\\\\n\\\\n{content}\", \"metadata_template\": \"{key}: {value}\", \"metadata_seperator\": \"\\\\n\", \"class_name\": \"TextNode\"}',\n",
       "   '_node_type': 'TextNode',\n",
       "   'author': 'paul_graham',\n",
       "   'creation_date': '2024-04-16',\n",
       "   'doc_id': 'data/paul_graham_essay.txt',\n",
       "   'document_id': 'data/paul_graham_essay.txt',\n",
       "   'file_name': 'paul_graham_essay.txt',\n",
       "   'file_path': 'data/paul_graham_essay.txt',\n",
       "   'file_size': 75042,\n",
       "   'file_type': 'text/plain',\n",
       "   'last_modified_date': '2024-04-15',\n",
       "   'ref_doc_id': 'data/paul_graham_essay.txt'},\n",
       "  {'_node_content': '{\"id_\": \"b9861eed-acc9-4c21-bab2-f16635890896\", \"embedding\": null, \"metadata\": {\"file_path\": \"data/paul_graham_essay.txt\", \"file_name\": \"paul_graham_essay.txt\", \"file_type\": \"text/plain\", \"file_size\": 75042, \"creation_date\": \"2024-04-16\", \"last_modified_date\": \"2024-04-15\", \"author\": \"paul_graham\"}, \"excluded_embed_metadata_keys\": [\"file_name\", \"file_type\", \"file_size\", \"creation_date\", \"last_modified_date\", \"last_accessed_date\"], \"excluded_llm_metadata_keys\": [\"file_name\", \"file_type\", \"file_size\", \"creation_date\", \"last_modified_date\", \"last_accessed_date\"], \"relationships\": {\"1\": {\"node_id\": \"data/paul_graham_essay.txt\", \"node_type\": \"4\", \"metadata\": {\"file_path\": \"data/paul_graham_essay.txt\", \"file_name\": \"paul_graham_essay.txt\", \"file_type\": \"text/plain\", \"file_size\": 75042, \"creation_date\": \"2024-04-16\", \"last_modified_date\": \"2024-04-15\", \"author\": \"paul_graham\"}, \"hash\": \"48f3b379e825cf288ae03eb7b6746d9f6703c698ab5b0ec7b83426fa8725d5dc\", \"class_name\": \"RelatedNodeInfo\"}, \"2\": {\"node_id\": \"acd9cd8e-fc40-4b0c-bdf8-18242b248a0e\", \"node_type\": \"1\", \"metadata\": {\"file_path\": \"data/paul_graham_essay.txt\", \"file_name\": \"paul_graham_essay.txt\", \"file_type\": \"text/plain\", \"file_size\": 75042, \"creation_date\": \"2024-04-16\", \"last_modified_date\": \"2024-04-15\", \"author\": \"paul_graham\"}, \"hash\": \"0fdfdf8687b1ed63cfc3b7780ef533982deee6418113c248457da2de93ed3b61\", \"class_name\": \"RelatedNodeInfo\"}, \"3\": {\"node_id\": \"29bb4441-e404-431f-a474-0bf23a191063\", \"node_type\": \"1\", \"metadata\": {}, \"hash\": \"a1ec97cd83337a440b0691c74bcbded38fb8d442d2b38dc39e2d367803723c8e\", \"class_name\": \"RelatedNodeInfo\"}}, \"text\": \"\", \"mimetype\": \"text/plain\", \"start_char_idx\": 50996, \"end_char_idx\": 53204, \"text_template\": \"{metadata_str}\\\\n\\\\n{content}\", \"metadata_template\": \"{key}: {value}\", \"metadata_seperator\": \"\\\\n\", \"class_name\": \"TextNode\"}',\n",
       "   '_node_type': 'TextNode',\n",
       "   'author': 'paul_graham',\n",
       "   'creation_date': '2024-04-16',\n",
       "   'doc_id': 'data/paul_graham_essay.txt',\n",
       "   'document_id': 'data/paul_graham_essay.txt',\n",
       "   'file_name': 'paul_graham_essay.txt',\n",
       "   'file_path': 'data/paul_graham_essay.txt',\n",
       "   'file_size': 75042,\n",
       "   'file_type': 'text/plain',\n",
       "   'last_modified_date': '2024-04-15',\n",
       "   'ref_doc_id': 'data/paul_graham_essay.txt'},\n",
       "  {'_node_content': '{\"id_\": \"c8df8580-779c-4b01-b072-d236c93b2250\", \"embedding\": null, \"metadata\": {\"file_path\": \"data/paul_graham_essay.txt\", \"file_name\": \"paul_graham_essay.txt\", \"file_type\": \"text/plain\", \"file_size\": 75042, \"creation_date\": \"2024-04-16\", \"last_modified_date\": \"2024-04-15\", \"author\": \"paul_graham\"}, \"excluded_embed_metadata_keys\": [\"file_name\", \"file_type\", \"file_size\", \"creation_date\", \"last_modified_date\", \"last_accessed_date\"], \"excluded_llm_metadata_keys\": [\"file_name\", \"file_type\", \"file_size\", \"creation_date\", \"last_modified_date\", \"last_accessed_date\"], \"relationships\": {\"1\": {\"node_id\": \"data/paul_graham_essay.txt\", \"node_type\": \"4\", \"metadata\": {\"file_path\": \"data/paul_graham_essay.txt\", \"file_name\": \"paul_graham_essay.txt\", \"file_type\": \"text/plain\", \"file_size\": 75042, \"creation_date\": \"2024-04-16\", \"last_modified_date\": \"2024-04-15\", \"author\": \"paul_graham\"}, \"hash\": \"48f3b379e825cf288ae03eb7b6746d9f6703c698ab5b0ec7b83426fa8725d5dc\", \"class_name\": \"RelatedNodeInfo\"}, \"2\": {\"node_id\": \"94e84d9f-b1f9-4d16-945e-7521cb8097cf\", \"node_type\": \"1\", \"metadata\": {\"file_path\": \"data/paul_graham_essay.txt\", \"file_name\": \"paul_graham_essay.txt\", \"file_type\": \"text/plain\", \"file_size\": 75042, \"creation_date\": \"2024-04-16\", \"last_modified_date\": \"2024-04-15\", \"author\": \"paul_graham\"}, \"hash\": \"f0af045b7e4de8d9676a4290d06ab3503223a91da0fb147dfa315602000d2e6d\", \"class_name\": \"RelatedNodeInfo\"}, \"3\": {\"node_id\": \"a1895cee-17c5-4744-8f89-a5326515717e\", \"node_type\": \"1\", \"metadata\": {}, \"hash\": \"1a95c50b014022603c890aad3a02a68c9f57e8b0034dd30d9745faf96ca082e8\", \"class_name\": \"RelatedNodeInfo\"}}, \"text\": \"\", \"mimetype\": \"text/plain\", \"start_char_idx\": 58971, \"end_char_idx\": 60908, \"text_template\": \"{metadata_str}\\\\n\\\\n{content}\", \"metadata_template\": \"{key}: {value}\", \"metadata_seperator\": \"\\\\n\", \"class_name\": \"TextNode\"}',\n",
       "   '_node_type': 'TextNode',\n",
       "   'author': 'paul_graham',\n",
       "   'creation_date': '2024-04-16',\n",
       "   'doc_id': 'data/paul_graham_essay.txt',\n",
       "   'document_id': 'data/paul_graham_essay.txt',\n",
       "   'file_name': 'paul_graham_essay.txt',\n",
       "   'file_path': 'data/paul_graham_essay.txt',\n",
       "   'file_size': 75042,\n",
       "   'file_type': 'text/plain',\n",
       "   'last_modified_date': '2024-04-15',\n",
       "   'ref_doc_id': 'data/paul_graham_essay.txt'},\n",
       "  {'_node_content': '{\"id_\": \"cac2a750-40cf-492a-aaeb-a4402b83c03a\", \"embedding\": null, \"metadata\": {\"file_path\": \"data/paul_graham_essay.txt\", \"file_name\": \"paul_graham_essay.txt\", \"file_type\": \"text/plain\", \"file_size\": 75042, \"creation_date\": \"2024-04-16\", \"last_modified_date\": \"2024-04-15\", \"author\": \"paul_graham\"}, \"excluded_embed_metadata_keys\": [\"file_name\", \"file_type\", \"file_size\", \"creation_date\", \"last_modified_date\", \"last_accessed_date\"], \"excluded_llm_metadata_keys\": [\"file_name\", \"file_type\", \"file_size\", \"creation_date\", \"last_modified_date\", \"last_accessed_date\"], \"relationships\": {\"1\": {\"node_id\": \"data/paul_graham_essay.txt\", \"node_type\": \"4\", \"metadata\": {\"file_path\": \"data/paul_graham_essay.txt\", \"file_name\": \"paul_graham_essay.txt\", \"file_type\": \"text/plain\", \"file_size\": 75042, \"creation_date\": \"2024-04-16\", \"last_modified_date\": \"2024-04-15\", \"author\": \"paul_graham\"}, \"hash\": \"48f3b379e825cf288ae03eb7b6746d9f6703c698ab5b0ec7b83426fa8725d5dc\", \"class_name\": \"RelatedNodeInfo\"}, \"2\": {\"node_id\": \"0feabd85-759d-467c-9370-9145573e668a\", \"node_type\": \"1\", \"metadata\": {\"file_path\": \"data/paul_graham_essay.txt\", \"file_name\": \"paul_graham_essay.txt\", \"file_type\": \"text/plain\", \"file_size\": 75042, \"creation_date\": \"2024-04-16\", \"last_modified_date\": \"2024-04-15\", \"author\": \"paul_graham\"}, \"hash\": \"0f7fd905acd8951eae674ec109ea66703e13f34a5760e39752fea7202ec822f4\", \"class_name\": \"RelatedNodeInfo\"}, \"3\": {\"node_id\": \"32005ce9-b109-4fb8-9928-dedf64eee000\", \"node_type\": \"1\", \"metadata\": {}, \"hash\": \"8e8dfc00e633112f9c72054f2f7d3bdafd1489b94384bb49e6e6718762e5f1cf\", \"class_name\": \"RelatedNodeInfo\"}}, \"text\": \"\", \"mimetype\": \"text/plain\", \"start_char_idx\": 7786, \"end_char_idx\": 9847, \"text_template\": \"{metadata_str}\\\\n\\\\n{content}\", \"metadata_template\": \"{key}: {value}\", \"metadata_seperator\": \"\\\\n\", \"class_name\": \"TextNode\"}',\n",
       "   '_node_type': 'TextNode',\n",
       "   'author': 'paul_graham',\n",
       "   'creation_date': '2024-04-16',\n",
       "   'doc_id': 'data/paul_graham_essay.txt',\n",
       "   'document_id': 'data/paul_graham_essay.txt',\n",
       "   'file_name': 'paul_graham_essay.txt',\n",
       "   'file_path': 'data/paul_graham_essay.txt',\n",
       "   'file_size': 75042,\n",
       "   'file_type': 'text/plain',\n",
       "   'last_modified_date': '2024-04-15',\n",
       "   'ref_doc_id': 'data/paul_graham_essay.txt'},\n",
       "  {'_node_content': '{\"id_\": \"cb011e7d-139a-4b0f-b573-7411de78dccd\", \"embedding\": null, \"metadata\": {\"file_path\": \"data/paul_graham_essay.txt\", \"file_name\": \"paul_graham_essay.txt\", \"file_type\": \"text/plain\", \"file_size\": 75042, \"creation_date\": \"2024-04-16\", \"last_modified_date\": \"2024-04-15\", \"author\": \"paul_graham\"}, \"excluded_embed_metadata_keys\": [\"file_name\", \"file_type\", \"file_size\", \"creation_date\", \"last_modified_date\", \"last_accessed_date\"], \"excluded_llm_metadata_keys\": [\"file_name\", \"file_type\", \"file_size\", \"creation_date\", \"last_modified_date\", \"last_accessed_date\"], \"relationships\": {\"1\": {\"node_id\": \"data/paul_graham_essay.txt\", \"node_type\": \"4\", \"metadata\": {\"file_path\": \"data/paul_graham_essay.txt\", \"file_name\": \"paul_graham_essay.txt\", \"file_type\": \"text/plain\", \"file_size\": 75042, \"creation_date\": \"2024-04-16\", \"last_modified_date\": \"2024-04-15\", \"author\": \"paul_graham\"}, \"hash\": \"48f3b379e825cf288ae03eb7b6746d9f6703c698ab5b0ec7b83426fa8725d5dc\", \"class_name\": \"RelatedNodeInfo\"}, \"2\": {\"node_id\": \"47e36330-f7c7-41ba-8048-8782a9c14b5c\", \"node_type\": \"1\", \"metadata\": {\"file_path\": \"data/paul_graham_essay.txt\", \"file_name\": \"paul_graham_essay.txt\", \"file_type\": \"text/plain\", \"file_size\": 75042, \"creation_date\": \"2024-04-16\", \"last_modified_date\": \"2024-04-15\", \"author\": \"paul_graham\"}, \"hash\": \"d0324976030455cd239e4e6e09182683fdac074aa5397c95c8759b941180f8c2\", \"class_name\": \"RelatedNodeInfo\"}, \"3\": {\"node_id\": \"29cebd28-0234-432c-aeea-74cc32639cf8\", \"node_type\": \"1\", \"metadata\": {}, \"hash\": \"6f3e660b2ab9d7e7b5d489c03843b70f882a7634dcf477aa1eae668f7b545750\", \"class_name\": \"RelatedNodeInfo\"}}, \"text\": \"\", \"mimetype\": \"text/plain\", \"start_char_idx\": 41340, \"end_char_idx\": 43405, \"text_template\": \"{metadata_str}\\\\n\\\\n{content}\", \"metadata_template\": \"{key}: {value}\", \"metadata_seperator\": \"\\\\n\", \"class_name\": \"TextNode\"}',\n",
       "   '_node_type': 'TextNode',\n",
       "   'author': 'paul_graham',\n",
       "   'creation_date': '2024-04-16',\n",
       "   'doc_id': 'data/paul_graham_essay.txt',\n",
       "   'document_id': 'data/paul_graham_essay.txt',\n",
       "   'file_name': 'paul_graham_essay.txt',\n",
       "   'file_path': 'data/paul_graham_essay.txt',\n",
       "   'file_size': 75042,\n",
       "   'file_type': 'text/plain',\n",
       "   'last_modified_date': '2024-04-15',\n",
       "   'ref_doc_id': 'data/paul_graham_essay.txt'},\n",
       "  {'_node_content': '{\"id_\": \"d62d524e-c1db-438c-9cf4-68e8e05161a3\", \"embedding\": null, \"metadata\": {\"file_path\": \"data/paul_graham_essay.txt\", \"file_name\": \"paul_graham_essay.txt\", \"file_type\": \"text/plain\", \"file_size\": 75042, \"creation_date\": \"2024-04-16\", \"last_modified_date\": \"2024-04-15\", \"author\": \"paul_graham\"}, \"excluded_embed_metadata_keys\": [\"file_name\", \"file_type\", \"file_size\", \"creation_date\", \"last_modified_date\", \"last_accessed_date\"], \"excluded_llm_metadata_keys\": [\"file_name\", \"file_type\", \"file_size\", \"creation_date\", \"last_modified_date\", \"last_accessed_date\"], \"relationships\": {\"1\": {\"node_id\": \"data/paul_graham_essay.txt\", \"node_type\": \"4\", \"metadata\": {\"file_path\": \"data/paul_graham_essay.txt\", \"file_name\": \"paul_graham_essay.txt\", \"file_type\": \"text/plain\", \"file_size\": 75042, \"creation_date\": \"2024-04-16\", \"last_modified_date\": \"2024-04-15\", \"author\": \"paul_graham\"}, \"hash\": \"48f3b379e825cf288ae03eb7b6746d9f6703c698ab5b0ec7b83426fa8725d5dc\", \"class_name\": \"RelatedNodeInfo\"}, \"2\": {\"node_id\": \"0e99333f-5d85-4eac-9bf3-8e1702e73e45\", \"node_type\": \"1\", \"metadata\": {\"file_path\": \"data/paul_graham_essay.txt\", \"file_name\": \"paul_graham_essay.txt\", \"file_type\": \"text/plain\", \"file_size\": 75042, \"creation_date\": \"2024-04-16\", \"last_modified_date\": \"2024-04-15\", \"author\": \"paul_graham\"}, \"hash\": \"7c4bdcc9f012bfe75cb51f40776cea6926cb23168aa63b05b6a8d5f9b4422f75\", \"class_name\": \"RelatedNodeInfo\"}, \"3\": {\"node_id\": \"3193e1a8-a068-4d10-94a3-3432e6ceaacd\", \"node_type\": \"1\", \"metadata\": {}, \"hash\": \"93b41a423c6a342b5156d38f769dd3b426b6f4792cb24e41873b4946b09fda8f\", \"class_name\": \"RelatedNodeInfo\"}}, \"text\": \"\", \"mimetype\": \"text/plain\", \"start_char_idx\": 23639, \"end_char_idx\": 25708, \"text_template\": \"{metadata_str}\\\\n\\\\n{content}\", \"metadata_template\": \"{key}: {value}\", \"metadata_seperator\": \"\\\\n\", \"class_name\": \"TextNode\"}',\n",
       "   '_node_type': 'TextNode',\n",
       "   'author': 'paul_graham',\n",
       "   'creation_date': '2024-04-16',\n",
       "   'doc_id': 'data/paul_graham_essay.txt',\n",
       "   'document_id': 'data/paul_graham_essay.txt',\n",
       "   'file_name': 'paul_graham_essay.txt',\n",
       "   'file_path': 'data/paul_graham_essay.txt',\n",
       "   'file_size': 75042,\n",
       "   'file_type': 'text/plain',\n",
       "   'last_modified_date': '2024-04-15',\n",
       "   'ref_doc_id': 'data/paul_graham_essay.txt'},\n",
       "  {'_node_content': '{\"id_\": \"d82d5109-a07d-4280-8367-aaaf2848bd3a\", \"embedding\": null, \"metadata\": {\"file_path\": \"data/paul_graham_essay.txt\", \"file_name\": \"paul_graham_essay.txt\", \"file_type\": \"text/plain\", \"file_size\": 75042, \"creation_date\": \"2024-04-16\", \"last_modified_date\": \"2024-04-15\", \"author\": \"paul_graham\"}, \"excluded_embed_metadata_keys\": [\"file_name\", \"file_type\", \"file_size\", \"creation_date\", \"last_modified_date\", \"last_accessed_date\"], \"excluded_llm_metadata_keys\": [\"file_name\", \"file_type\", \"file_size\", \"creation_date\", \"last_modified_date\", \"last_accessed_date\"], \"relationships\": {\"1\": {\"node_id\": \"data/paul_graham_essay.txt\", \"node_type\": \"4\", \"metadata\": {\"file_path\": \"data/paul_graham_essay.txt\", \"file_name\": \"paul_graham_essay.txt\", \"file_type\": \"text/plain\", \"file_size\": 75042, \"creation_date\": \"2024-04-16\", \"last_modified_date\": \"2024-04-15\", \"author\": \"paul_graham\"}, \"hash\": \"48f3b379e825cf288ae03eb7b6746d9f6703c698ab5b0ec7b83426fa8725d5dc\", \"class_name\": \"RelatedNodeInfo\"}, \"3\": {\"node_id\": \"2aeb9044-3857-4fad-8541-b96b45bfb7fc\", \"node_type\": \"1\", \"metadata\": {}, \"hash\": \"ea04d7f5a72cc5f1d4c8b127a77dfca80aeb6086187897dc9c6a6baf631931b6\", \"class_name\": \"RelatedNodeInfo\"}}, \"text\": \"\", \"mimetype\": \"text/plain\", \"start_char_idx\": 2, \"end_char_idx\": 1983, \"text_template\": \"{metadata_str}\\\\n\\\\n{content}\", \"metadata_template\": \"{key}: {value}\", \"metadata_seperator\": \"\\\\n\", \"class_name\": \"TextNode\"}',\n",
       "   '_node_type': 'TextNode',\n",
       "   'author': 'paul_graham',\n",
       "   'creation_date': '2024-04-16',\n",
       "   'doc_id': 'data/paul_graham_essay.txt',\n",
       "   'document_id': 'data/paul_graham_essay.txt',\n",
       "   'file_name': 'paul_graham_essay.txt',\n",
       "   'file_path': 'data/paul_graham_essay.txt',\n",
       "   'file_size': 75042,\n",
       "   'file_type': 'text/plain',\n",
       "   'last_modified_date': '2024-04-15',\n",
       "   'ref_doc_id': 'data/paul_graham_essay.txt'},\n",
       "  {'_node_content': '{\"id_\": \"dc3bcc31-d6b8-45a1-9421-a59b3af609f3\", \"embedding\": null, \"metadata\": {\"file_path\": \"data/paul_graham_essay.txt\", \"file_name\": \"paul_graham_essay.txt\", \"file_type\": \"text/plain\", \"file_size\": 75042, \"creation_date\": \"2024-04-16\", \"last_modified_date\": \"2024-04-15\", \"author\": \"paul_graham\"}, \"excluded_embed_metadata_keys\": [\"file_name\", \"file_type\", \"file_size\", \"creation_date\", \"last_modified_date\", \"last_accessed_date\"], \"excluded_llm_metadata_keys\": [\"file_name\", \"file_type\", \"file_size\", \"creation_date\", \"last_modified_date\", \"last_accessed_date\"], \"relationships\": {\"1\": {\"node_id\": \"data/paul_graham_essay.txt\", \"node_type\": \"4\", \"metadata\": {\"file_path\": \"data/paul_graham_essay.txt\", \"file_name\": \"paul_graham_essay.txt\", \"file_type\": \"text/plain\", \"file_size\": 75042, \"creation_date\": \"2024-04-16\", \"last_modified_date\": \"2024-04-15\", \"author\": \"paul_graham\"}, \"hash\": \"48f3b379e825cf288ae03eb7b6746d9f6703c698ab5b0ec7b83426fa8725d5dc\", \"class_name\": \"RelatedNodeInfo\"}, \"2\": {\"node_id\": \"b4fac5b6-258a-4daa-a43f-78c249a33cd1\", \"node_type\": \"1\", \"metadata\": {\"file_path\": \"data/paul_graham_essay.txt\", \"file_name\": \"paul_graham_essay.txt\", \"file_type\": \"text/plain\", \"file_size\": 75042, \"creation_date\": \"2024-04-16\", \"last_modified_date\": \"2024-04-15\", \"author\": \"paul_graham\"}, \"hash\": \"4720380f452199a1308c687fd4dd0b852bcd58b6333a6d886e23e166efac6250\", \"class_name\": \"RelatedNodeInfo\"}, \"3\": {\"node_id\": \"3540f211-0fdc-429d-b366-0484188a6c4e\", \"node_type\": \"1\", \"metadata\": {}, \"hash\": \"d7911c6f8bd59f3ce005c3867d162b083481d4aa764acbaeb14fb0d3749c9d1b\", \"class_name\": \"RelatedNodeInfo\"}}, \"text\": \"\", \"mimetype\": \"text/plain\", \"start_char_idx\": 17420, \"end_char_idx\": 19229, \"text_template\": \"{metadata_str}\\\\n\\\\n{content}\", \"metadata_template\": \"{key}: {value}\", \"metadata_seperator\": \"\\\\n\", \"class_name\": \"TextNode\"}',\n",
       "   '_node_type': 'TextNode',\n",
       "   'author': 'paul_graham',\n",
       "   'creation_date': '2024-04-16',\n",
       "   'doc_id': 'data/paul_graham_essay.txt',\n",
       "   'document_id': 'data/paul_graham_essay.txt',\n",
       "   'file_name': 'paul_graham_essay.txt',\n",
       "   'file_path': 'data/paul_graham_essay.txt',\n",
       "   'file_size': 75042,\n",
       "   'file_type': 'text/plain',\n",
       "   'last_modified_date': '2024-04-15',\n",
       "   'ref_doc_id': 'data/paul_graham_essay.txt'},\n",
       "  {'_node_content': '{\"id_\": \"ece2bbc0-1fae-47ee-a5f6-e84c7f755578\", \"embedding\": null, \"metadata\": {\"file_path\": \"data/paul_graham_essay.txt\", \"file_name\": \"paul_graham_essay.txt\", \"file_type\": \"text/plain\", \"file_size\": 75042, \"creation_date\": \"2024-04-16\", \"last_modified_date\": \"2024-04-15\", \"author\": \"paul_graham\"}, \"excluded_embed_metadata_keys\": [\"file_name\", \"file_type\", \"file_size\", \"creation_date\", \"last_modified_date\", \"last_accessed_date\"], \"excluded_llm_metadata_keys\": [\"file_name\", \"file_type\", \"file_size\", \"creation_date\", \"last_modified_date\", \"last_accessed_date\"], \"relationships\": {\"1\": {\"node_id\": \"data/paul_graham_essay.txt\", \"node_type\": \"4\", \"metadata\": {\"file_path\": \"data/paul_graham_essay.txt\", \"file_name\": \"paul_graham_essay.txt\", \"file_type\": \"text/plain\", \"file_size\": 75042, \"creation_date\": \"2024-04-16\", \"last_modified_date\": \"2024-04-15\", \"author\": \"paul_graham\"}, \"hash\": \"48f3b379e825cf288ae03eb7b6746d9f6703c698ab5b0ec7b83426fa8725d5dc\", \"class_name\": \"RelatedNodeInfo\"}, \"2\": {\"node_id\": \"57d4e51c-ed24-4af0-9c3c-71989852b953\", \"node_type\": \"1\", \"metadata\": {\"file_path\": \"data/paul_graham_essay.txt\", \"file_name\": \"paul_graham_essay.txt\", \"file_type\": \"text/plain\", \"file_size\": 75042, \"creation_date\": \"2024-04-16\", \"last_modified_date\": \"2024-04-15\", \"author\": \"paul_graham\"}, \"hash\": \"3189b55c0cfd5a2717ab601501db2ce7798ad9cf3b431d59064f6c6bf41e63ab\", \"class_name\": \"RelatedNodeInfo\"}, \"3\": {\"node_id\": \"0feabd85-759d-467c-9370-9145573e668a\", \"node_type\": \"1\", \"metadata\": {}, \"hash\": \"5447c6d173f62130a7827451e50954578341ca5165095947ab0bac1364f76a59\", \"class_name\": \"RelatedNodeInfo\"}}, \"text\": \"\", \"mimetype\": \"text/plain\", \"start_char_idx\": 4570, \"end_char_idx\": 6691, \"text_template\": \"{metadata_str}\\\\n\\\\n{content}\", \"metadata_template\": \"{key}: {value}\", \"metadata_seperator\": \"\\\\n\", \"class_name\": \"TextNode\"}',\n",
       "   '_node_type': 'TextNode',\n",
       "   'author': 'paul_graham',\n",
       "   'creation_date': '2024-04-16',\n",
       "   'doc_id': 'data/paul_graham_essay.txt',\n",
       "   'document_id': 'data/paul_graham_essay.txt',\n",
       "   'file_name': 'paul_graham_essay.txt',\n",
       "   'file_path': 'data/paul_graham_essay.txt',\n",
       "   'file_size': 75042,\n",
       "   'file_type': 'text/plain',\n",
       "   'last_modified_date': '2024-04-15',\n",
       "   'ref_doc_id': 'data/paul_graham_essay.txt'},\n",
       "  {'_node_content': '{\"id_\": \"f4b32e16-afef-4a0b-8110-77e5ae5296c2\", \"embedding\": null, \"metadata\": {\"file_path\": \"data/paul_graham_essay.txt\", \"file_name\": \"paul_graham_essay.txt\", \"file_type\": \"text/plain\", \"file_size\": 75042, \"creation_date\": \"2024-04-16\", \"last_modified_date\": \"2024-04-15\", \"author\": \"paul_graham\"}, \"excluded_embed_metadata_keys\": [\"file_name\", \"file_type\", \"file_size\", \"creation_date\", \"last_modified_date\", \"last_accessed_date\"], \"excluded_llm_metadata_keys\": [\"file_name\", \"file_type\", \"file_size\", \"creation_date\", \"last_modified_date\", \"last_accessed_date\"], \"relationships\": {\"1\": {\"node_id\": \"data/paul_graham_essay.txt\", \"node_type\": \"4\", \"metadata\": {\"file_path\": \"data/paul_graham_essay.txt\", \"file_name\": \"paul_graham_essay.txt\", \"file_type\": \"text/plain\", \"file_size\": 75042, \"creation_date\": \"2024-04-16\", \"last_modified_date\": \"2024-04-15\", \"author\": \"paul_graham\"}, \"hash\": \"48f3b379e825cf288ae03eb7b6746d9f6703c698ab5b0ec7b83426fa8725d5dc\", \"class_name\": \"RelatedNodeInfo\"}, \"2\": {\"node_id\": \"9df02686-5b04-41f0-84b5-ba9ce30e5519\", \"node_type\": \"1\", \"metadata\": {\"file_path\": \"data/paul_graham_essay.txt\", \"file_name\": \"paul_graham_essay.txt\", \"file_type\": \"text/plain\", \"file_size\": 75042, \"creation_date\": \"2024-04-16\", \"last_modified_date\": \"2024-04-15\", \"author\": \"paul_graham\"}, \"hash\": \"b7d8a862d6867e2549976ed4e121abe3b3b842f36048f714ac469f9c9fe576b9\", \"class_name\": \"RelatedNodeInfo\"}, \"3\": {\"node_id\": \"21e3d7ce-75e1-4847-9197-2ab0b9210dad\", \"node_type\": \"1\", \"metadata\": {}, \"hash\": \"31c59f6c0f237fcc645a7b8f4c52929b74d0a6931cab8302015901a4d26b9db4\", \"class_name\": \"RelatedNodeInfo\"}}, \"text\": \"\", \"mimetype\": \"text/plain\", \"start_char_idx\": 12337, \"end_char_idx\": 14517, \"text_template\": \"{metadata_str}\\\\n\\\\n{content}\", \"metadata_template\": \"{key}: {value}\", \"metadata_seperator\": \"\\\\n\", \"class_name\": \"TextNode\"}',\n",
       "   '_node_type': 'TextNode',\n",
       "   'author': 'paul_graham',\n",
       "   'creation_date': '2024-04-16',\n",
       "   'doc_id': 'data/paul_graham_essay.txt',\n",
       "   'document_id': 'data/paul_graham_essay.txt',\n",
       "   'file_name': 'paul_graham_essay.txt',\n",
       "   'file_path': 'data/paul_graham_essay.txt',\n",
       "   'file_size': 75042,\n",
       "   'file_type': 'text/plain',\n",
       "   'last_modified_date': '2024-04-15',\n",
       "   'ref_doc_id': 'data/paul_graham_essay.txt'},\n",
       "  {'_node_content': '{\"id_\": \"f7272bb3-abe3-4619-8845-b7d71ab41eff\", \"embedding\": null, \"metadata\": {\"file_path\": \"data/paul_graham_essay.txt\", \"file_name\": \"paul_graham_essay.txt\", \"file_type\": \"text/plain\", \"file_size\": 75042, \"creation_date\": \"2024-04-16\", \"last_modified_date\": \"2024-04-15\", \"author\": \"paul_graham\"}, \"excluded_embed_metadata_keys\": [\"file_name\", \"file_type\", \"file_size\", \"creation_date\", \"last_modified_date\", \"last_accessed_date\"], \"excluded_llm_metadata_keys\": [\"file_name\", \"file_type\", \"file_size\", \"creation_date\", \"last_modified_date\", \"last_accessed_date\"], \"relationships\": {\"1\": {\"node_id\": \"data/paul_graham_essay.txt\", \"node_type\": \"4\", \"metadata\": {\"file_path\": \"data/paul_graham_essay.txt\", \"file_name\": \"paul_graham_essay.txt\", \"file_type\": \"text/plain\", \"file_size\": 75042, \"creation_date\": \"2024-04-16\", \"last_modified_date\": \"2024-04-15\", \"author\": \"paul_graham\"}, \"hash\": \"48f3b379e825cf288ae03eb7b6746d9f6703c698ab5b0ec7b83426fa8725d5dc\", \"class_name\": \"RelatedNodeInfo\"}, \"2\": {\"node_id\": \"8ee70872-e17f-4d77-8af8-d60d7a10489e\", \"node_type\": \"1\", \"metadata\": {\"file_path\": \"data/paul_graham_essay.txt\", \"file_name\": \"paul_graham_essay.txt\", \"file_type\": \"text/plain\", \"file_size\": 75042, \"creation_date\": \"2024-04-16\", \"last_modified_date\": \"2024-04-15\", \"author\": \"paul_graham\"}, \"hash\": \"8d3d080bfd34270a0084082a5f48591a430cd57497b51f6c48fc0bcd3539057a\", \"class_name\": \"RelatedNodeInfo\"}, \"3\": {\"node_id\": \"b770821a-4fe7-4ad2-9929-7a25e13b30d0\", \"node_type\": \"1\", \"metadata\": {}, \"hash\": \"a7e07569b48364209c533853f4dec82f2f909cc1a643c66fa41862383d722a70\", \"class_name\": \"RelatedNodeInfo\"}}, \"text\": \"\", \"mimetype\": \"text/plain\", \"start_char_idx\": 71458, \"end_char_idx\": 73620, \"text_template\": \"{metadata_str}\\\\n\\\\n{content}\", \"metadata_template\": \"{key}: {value}\", \"metadata_seperator\": \"\\\\n\", \"class_name\": \"TextNode\"}',\n",
       "   '_node_type': 'TextNode',\n",
       "   'author': 'paul_graham',\n",
       "   'creation_date': '2024-04-16',\n",
       "   'doc_id': 'data/paul_graham_essay.txt',\n",
       "   'document_id': 'data/paul_graham_essay.txt',\n",
       "   'file_name': 'paul_graham_essay.txt',\n",
       "   'file_path': 'data/paul_graham_essay.txt',\n",
       "   'file_size': 75042,\n",
       "   'file_type': 'text/plain',\n",
       "   'last_modified_date': '2024-04-15',\n",
       "   'ref_doc_id': 'data/paul_graham_essay.txt'}],\n",
       " 'documents': [\"Now they could be, and I was going to write them. [12]\\n\\nI've worked on several different things, but to the extent there was a turning point where I figured out what to work on, it was when I started publishing essays online. From then on I knew that whatever else I did, I'd always write essays too.\\n\\nI knew that online essays would be a marginal medium at first. Socially they'd seem more like rants posted by nutjobs on their GeoCities sites than the genteel and beautifully typeset compositions published in The New Yorker. But by this point I knew enough to find that encouraging instead of discouraging.\\n\\nOne of the most conspicuous patterns I've noticed in my life is how well it has worked, for me at least, to work on things that weren't prestigious. Still life has always been the least prestigious form of painting. Viaweb and Y Combinator both seemed lame when we started them. I still get the glassy eye from strangers when they ask what I'm writing, and I explain that it's an essay I'm going to publish on my web site. Even Lisp, though prestigious intellectually in something like the way Latin is, also seems about as hip.\\n\\nIt's not that unprestigious types of work are good per se. But when you find yourself drawn to some kind of work despite its current lack of prestige, it's a sign both that there's something real to be discovered there, and that you have the right kind of motives. Impure motives are a big danger for the ambitious. If anything is going to lead you astray, it will be the desire to impress people. So while working on things that aren't prestigious doesn't guarantee you're on the right track, it at least guarantees you're not on the most common type of wrong one.\\n\\nOver the next several years I wrote lots of essays about all kinds of different topics. O'Reilly reprinted a collection of them as a book, called Hackers & Painters after one of the essays in it. I also worked on spam filters, and did some more painting. I used to have dinners for a group of friends every thursday night, which taught me how to cook for groups.\",\n",
       "  \"They tended to be confused and demoralized by what they found at RISD, but they kept going, because painting was what they did. I was not one of the kids who could draw in high school, but at RISD I was definitely closer to their tribe than the tribe of signature style seekers.\\n\\nI learned a lot in the color class I took at RISD, but otherwise I was basically teaching myself to paint, and I could do that for free. So in 1993 I dropped out. I hung around Providence for a bit, and then my college friend Nancy Parmet did me a big favor. A rent-controlled apartment in a building her mother owned in New York was becoming vacant. Did I want it? It wasn't much more than my current place, and New York was supposed to be where the artists were. So yes, I wanted it! [7]\\n\\nAsterix comics begin by zooming in on a tiny corner of Roman Gaul that turns out not to be controlled by the Romans. You can do something similar on a map of New York City: if you zoom in on the Upper East Side, there's a tiny corner that's not rich, or at least wasn't in 1993. It's called Yorkville, and that was my new home. Now I was a New York artist — in the strictly technical sense of making paintings and living in New York.\\n\\nI was nervous about money, because I could sense that Interleaf was on the way down. Freelance Lisp hacking work was very rare, and I didn't want to have to program in another language, which in those days would have meant C++ if I was lucky. So with my unerring nose for financial opportunity, I decided to write another book on Lisp. This would be a popular book, the sort of book that could be used as a textbook. I imagined myself living frugally off the royalties and spending all my time painting. (The painting on the cover of this book, ANSI Common Lisp, is one that I painted around this time.)\\n\\nThe best thing about New York for me was the presence of Idelle and Julian Weber. Idelle Weber was a painter, one of the early photorealists, and I'd taken her painting class at Harvard.\",\n",
       "  'Only Harvard accepted me, so that was where I went.\\n\\nI don\\'t remember the moment it happened, or if there even was a specific moment, but during the first year of grad school I realized that AI, as practiced at the time, was a hoax. By which I mean the sort of AI in which a program that\\'s told \"the dog is sitting on the chair\" translates this into some formal representation and adds it to the list of things it knows.\\n\\nWhat these programs really showed was that there\\'s a subset of natural language that\\'s a formal language. But a very proper subset. It was clear that there was an unbridgeable gap between what they could do and actually understanding natural language. It was not, in fact, simply a matter of teaching SHRDLU more words. That whole way of doing AI, with explicit data structures representing concepts, was not going to work. Its brokenness did, as so often happens, generate a lot of opportunities to write papers about various band-aids that could be applied to it, but it was never going to get us Mike.\\n\\nSo I looked around to see what I could salvage from the wreckage of my plans, and there was Lisp. I knew from experience that Lisp was interesting for its own sake and not just for its association with AI, even though that was the main reason people cared about it at the time. So I decided to focus on Lisp. In fact, I decided to write a book about Lisp hacking. It\\'s scary to think how little I knew about Lisp hacking when I started writing that book. But there\\'s nothing like writing a book about something to help you learn it. The book, On Lisp, wasn\\'t published till 1993, but I wrote much of it in grad school.\\n\\nComputer Science is an uneasy alliance between two halves, theory and systems. The theory people prove things, and the systems people build things. I wanted to build things. I had plenty of respect for theory — indeed, a sneaking suspicion that it was the more admirable of the two halves — but building things seemed so much more exciting.\\n\\nThe problem with systems work, though, was that it didn\\'t last. Any program you wrote today, no matter how good, would be obsolete in a couple decades at best.',\n",
       "  \"A company with just a handful of employees would have seemed amateurish. So we didn't reach breakeven until about when Yahoo bought us in the summer of 1998. Which in turn meant we were at the mercy of investors for the entire life of the company. And since both we and our investors were noobs at startups, the result was a mess even by startup standards.\\n\\nIt was a huge relief when Yahoo bought us. In principle our Viaweb stock was valuable. It was a share in a business that was profitable and growing rapidly. But it didn't feel very valuable to me; I had no idea how to value a business, but I was all too keenly aware of the near-death experiences we seemed to have every few months. Nor had I changed my grad student lifestyle significantly since we started. So when Yahoo bought us it felt like going from rags to riches. Since we were going to California, I bought a car, a yellow 1998 VW GTI. I remember thinking that its leather seats alone were by far the most luxurious thing I owned.\\n\\nThe next year, from the summer of 1998 to the summer of 1999, must have been the least productive of my life. I didn't realize it at the time, but I was worn out from the effort and stress of running Viaweb. For a while after I got to California I tried to continue my usual m.o. of programming till 3 in the morning, but fatigue combined with Yahoo's prematurely aged culture and grim cube farm in Santa Clara gradually dragged me down. After a few months it felt disconcertingly like working at Interleaf.\\n\\nYahoo had given us a lot of options when they bought us. At the time I thought Yahoo was so overvalued that they'd never be worth anything, but to my astonishment the stock went up 5x in the next year. I hung on till the first chunk of options vested, then in the summer of 1999 I left. It had been so long since I'd painted anything that I'd half forgotten why I was doing this. My brain had been entirely full of software and men's shirts for 4 years. But I had done this to get rich so I could paint, I reminded myself, and now I was rich, so I should go paint.\",\n",
       "  \"I hung on till the first chunk of options vested, then in the summer of 1999 I left. It had been so long since I'd painted anything that I'd half forgotten why I was doing this. My brain had been entirely full of software and men's shirts for 4 years. But I had done this to get rich so I could paint, I reminded myself, and now I was rich, so I should go paint.\\n\\nWhen I said I was leaving, my boss at Yahoo had a long conversation with me about my plans. I told him all about the kinds of pictures I wanted to paint. At the time I was touched that he took such an interest in me. Now I realize it was because he thought I was lying. My options at that point were worth about $2 million a month. If I was leaving that kind of money on the table, it could only be to go and start some new startup, and if I did, I might take people with me. This was the height of the Internet Bubble, and Yahoo was ground zero of it. My boss was at that moment a billionaire. Leaving then to start a new startup must have seemed to him an insanely, and yet also plausibly, ambitious plan.\\n\\nBut I really was quitting to paint, and I started immediately. There was no time to lose. I'd already burned 4 years getting rich. Now when I talk to founders who are leaving after selling their companies, my advice is always the same: take a vacation. That's what I should have done, just gone off somewhere and done nothing for a month or two, but the idea never occurred to me.\\n\\nSo I tried to paint, but I just didn't seem to have any energy or ambition. Part of the problem was that I didn't know many people in California. I'd compounded this problem by buying a house up in the Santa Cruz Mountains, with a beautiful view but miles from anywhere. I stuck it out for a few more months, then in desperation I went back to New York, where unless you understand about rent control you'll be surprised to hear I still had my apartment, sealed up like a tomb of my old life. Idelle was in New York at least, and there were other people trying to paint there, even though I didn't know any of them.\",\n",
       "  \"And at the same time all involved would adhere outwardly to the conventions of a 19th century atelier. We actually had one of those little stoves, fed with kindling, that you see in 19th century studio paintings, and a nude model sitting as close to it as possible without getting burned. Except hardly anyone else painted her besides me. The rest of the students spent their time chatting or occasionally trying to imitate things they'd seen in American art magazines.\\n\\nOur model turned out to live just down the street from me. She made a living from a combination of modelling and making fakes for a local antique dealer. She'd copy an obscure old painting out of a book, and then he'd take the copy and maltreat it to make it look old. [3]\\n\\nWhile I was a student at the Accademia I started painting still lives in my bedroom at night. These paintings were tiny, because the room was, and because I painted them on leftover scraps of canvas, which was all I could afford at the time. Painting still lives is different from painting people, because the subject, as its name suggests, can't move. People can't sit for more than about 15 minutes at a time, and when they do they don't sit very still. So the traditional m.o. for painting people is to know how to paint a generic person, which you then modify to match the specific person you're painting. Whereas a still life you can, if you want, copy pixel by pixel from what you're seeing. You don't want to stop there, of course, or you get merely photographic accuracy, and what makes a still life interesting is that it's been through a head. You want to emphasize the visual cues that tell you, for example, that the reason the color changes suddenly at a certain point is that it's the edge of an object. By subtly emphasizing such things you can make paintings that are more realistic than photographs not just in some metaphorical sense, but in the strict information-theoretic sense. [4]\\n\\nI liked painting still lives because I was curious about what I was seeing. In everyday life, we aren't consciously aware of much we're seeing.\",\n",
       "  'I had never imagined that writing essays would be a way to get \"deal flow,\" as investors call it, but it turned out to be the perfect source. [15] We got 225 applications for the Summer Founders Program, and we were surprised to find that a lot of them were from people who\\'d already graduated, or were about to that spring. Already this SFP thing was starting to feel more serious than we\\'d intended.\\n\\nWe invited about 20 of the 225 groups to interview in person, and from those we picked 8 to fund. They were an impressive group. That first batch included reddit, Justin Kan and Emmett Shear, who went on to found Twitch, Aaron Swartz, who had already helped write the RSS spec and would a few years later become a martyr for open access, and Sam Altman, who would later become the second president of YC. I don\\'t think it was entirely luck that the first batch was so good. You had to be pretty bold to sign up for a weird thing like the Summer Founders Program instead of a summer job at a legit place like Microsoft or Goldman Sachs.\\n\\nThe deal for startups was based on a combination of the deal we did with Julian ($10k for 10%) and what Robert said MIT grad students got for the summer ($6k). We invested $6k per founder, which in the typical two-founder case was $12k, in return for 6%. That had to be fair, because it was twice as good as the deal we ourselves had taken. Plus that first summer, which was really hot, Jessica brought the founders free air conditioners. [16]\\n\\nFairly quickly I realized that we had stumbled upon the way to scale startup funding. Funding startups in batches was more convenient for us, because it meant we could do things for a lot of startups at once, but being part of a batch was better for the startups too. It solved one of the biggest problems faced by founders: the isolation. Now you not only had colleagues, but colleagues who understood the problems you were facing and could tell you how they were solving them.\\n\\nAs YC grew, we started to notice other advantages of scale. The alumni became a tight community, dedicated to helping one another, and especially the current batch, whose shoes they remembered being in.',\n",
       "  \"The following spring, lightning struck. I was invited to give a talk at a Lisp conference, so I gave one about how we'd used Lisp at Viaweb. Afterward I put a postscript file of this talk online, on paulgraham.com, which I'd created years before using Viaweb but had never used for anything. In one day it got 30,000 page views. What on earth had happened? The referring urls showed that someone had posted it on Slashdot. [10]\\n\\nWow, I thought, there's an audience. If I write something and put it on the web, anyone can read it. That may seem obvious now, but it was surprising then. In the print era there was a narrow channel to readers, guarded by fierce monsters known as editors. The only way to get an audience for anything you wrote was to get it published as a book, or in a newspaper or magazine. Now anyone could publish anything.\\n\\nThis had been possible in principle since 1993, but not many people had realized it yet. I had been intimately involved with building the infrastructure of the web for most of that time, and a writer as well, and it had taken me 8 years to realize it. Even then it took me several years to understand the implications. It meant there would be a whole new generation of essays. [11]\\n\\nIn the print era, the channel for publishing essays had been vanishingly small. Except for a few officially anointed thinkers who went to the right parties in New York, the only people allowed to publish essays were specialists writing about their specialties. There were so many essays that had never been written, because there had been no way to publish them. Now they could be, and I was going to write them. [12]\\n\\nI've worked on several different things, but to the extent there was a turning point where I figured out what to work on, it was when I started publishing essays online. From then on I knew that whatever else I did, I'd always write essays too.\\n\\nI knew that online essays would be a marginal medium at first. Socially they'd seem more like rants posted by nutjobs on their GeoCities sites than the genteel and beautifully typeset compositions published in The New Yorker.\",\n",
       "  \"The only other option was to do things that didn't rely on any input, like calculate approximations of pi, but I didn't know enough math to do anything interesting of that type. So I'm not surprised I can't remember any programs I wrote, because they can't have done much. My clearest memory is of the moment I learned it was possible for programs not to terminate, when one of mine didn't. On a machine without time-sharing, this was a social as well as a technical error, as the data center manager's expression made clear.\\n\\nWith microcomputers, everything changed. Now you could have a computer sitting right in front of you, on a desk, that could respond to your keystrokes as it was running instead of just churning through a stack of punch cards and then stopping. [1]\\n\\nThe first of my friends to get a microcomputer built it himself. It was sold as a kit by Heathkit. I remember vividly how impressed and envious I felt watching him sitting in front of it, typing programs right into the computer.\\n\\nComputers were expensive in those days and it took me years of nagging before I convinced my father to buy one, a TRS-80, in about 1980. The gold standard then was the Apple II, but a TRS-80 was good enough. This was when I really started programming. I wrote simple games, a program to predict how high my model rockets would fly, and a word processor that my father used to write at least one book. There was only room in memory for about 2 pages of text, so he'd write 2 pages at a time and then print them out, but it was a lot better than a typewriter.\\n\\nThough I liked programming, I didn't plan to study it in college. In college I was going to study philosophy, which sounded much more powerful. It seemed, to my naive high school self, to be the study of the ultimate truths, compared to which the things studied in other fields would be mere domain knowledge. What I discovered when I got to college was that the other fields took up so much of the space of ideas that there wasn't much left for these supposed ultimate truths. All that seemed left for philosophy were edge cases that people in other fields felt could safely be ignored.\",\n",
       "  'Plus it wasn\\'t startup founders we wanted to reach. It was future startup founders. So I changed the name to Hacker News and the topic to whatever engaged one\\'s intellectual curiosity.\\n\\nHN was no doubt good for YC, but it was also by far the biggest source of stress for me. If all I\\'d had to do was select and help founders, life would have been so easy. And that implies that HN was a mistake. Surely the biggest source of stress in one\\'s work should at least be something close to the core of the work. Whereas I was like someone who was in pain while running a marathon not from the exertion of running, but because I had a blister from an ill-fitting shoe. When I was dealing with some urgent problem during YC, there was about a 60% chance it had to do with HN, and a 40% chance it had do with everything else combined. [17]\\n\\nAs well as HN, I wrote all of YC\\'s internal software in Arc. But while I continued to work a good deal in Arc, I gradually stopped working on Arc, partly because I didn\\'t have time to, and partly because it was a lot less attractive to mess around with the language now that we had all this infrastructure depending on it. So now my three projects were reduced to two: writing essays and working on YC.\\n\\nYC was different from other kinds of work I\\'ve done. Instead of deciding for myself what to work on, the problems came to me. Every 6 months there was a new batch of startups, and their problems, whatever they were, became our problems. It was very engaging work, because their problems were quite varied, and the good founders were very effective. If you were trying to learn the most you could about startups in the shortest possible time, you couldn\\'t have picked a better way to do it.\\n\\nThere were parts of the job I didn\\'t like. Disputes between cofounders, figuring out when people were lying to us, fighting with people who maltreated the startups, and so on. But I worked hard even at the parts I didn\\'t like. I was haunted by something Kevin Hale once said about companies: \"No one works harder than the boss.\"',\n",
       "  'I was right about that part. What I got wrong was the idea. I decided we should start a company to put art galleries online. I can\\'t honestly say, after reading so many Y Combinator applications, that this was the worst startup idea ever, but it was up there. Art galleries didn\\'t want to be online, and still don\\'t, not the fancy ones. That\\'s not how they sell. I wrote some software to generate web sites for galleries, and Robert wrote some to resize images and set up an http server to serve the pages. Then we tried to sign up galleries. To call this a difficult sale would be an understatement. It was difficult to give away. A few galleries let us make sites for them for free, but none paid us.\\n\\nThen some online stores started to appear, and I realized that except for the order buttons they were identical to the sites we\\'d been generating for galleries. This impressive-sounding thing called an \"internet storefront\" was something we already knew how to build.\\n\\nSo in the summer of 1995, after I submitted the camera-ready copy of ANSI Common Lisp to the publishers, we started trying to write software to build online stores. At first this was going to be normal desktop software, which in those days meant Windows software. That was an alarming prospect, because neither of us knew how to write Windows software or wanted to learn. We lived in the Unix world. But we decided we\\'d at least try writing a prototype store builder on Unix. Robert wrote a shopping cart, and I wrote a new site generator for stores — in Lisp, of course.\\n\\nWe were working out of Robert\\'s apartment in Cambridge. His roommate was away for big chunks of time, during which I got to sleep in his room. For some reason there was no bed frame or sheets, just a mattress on the floor. One morning as I was lying on this mattress I had an idea that made me sit up like a capital L. What if we ran the software on the server, and let users control it by clicking on links? Then we\\'d never have to write anything to run on users\\' computers. We could generate the sites on the same server we\\'d serve them from. Users wouldn\\'t need anything more than a browser.',\n",
       "  \"Some of the best ones were hundreds of years old.\\n\\nAnd moreover this was something you could make a living doing. Not as easily as you could by writing software, of course, but I thought if you were really industrious and lived really cheaply, it had to be possible to make enough to survive. And as an artist you could be truly independent. You wouldn't have a boss, or even need to get research funding.\\n\\nI had always liked looking at paintings. Could I make them? I had no idea. I'd never imagined it was even possible. I knew intellectually that people made art — that it didn't just appear spontaneously — but it was as if the people who made it were a different species. They either lived long ago or were mysterious geniuses doing strange things in profiles in Life magazine. The idea of actually being able to make art, to put that verb before that noun, seemed almost miraculous.\\n\\nThat fall I started taking art classes at Harvard. Grad students could take classes in any department, and my advisor, Tom Cheatham, was very easy going. If he even knew about the strange classes I was taking, he never said anything.\\n\\nSo now I was in a PhD program in computer science, yet planning to be an artist, yet also genuinely in love with Lisp hacking and working away at On Lisp. In other words, like many a grad student, I was working energetically on multiple projects that were not my thesis.\\n\\nI didn't see a way out of this situation. I didn't want to drop out of grad school, but how else was I going to get out? I remember when my friend Robert Morris got kicked out of Cornell for writing the internet worm of 1988, I was envious that he'd found such a spectacular way to get out of grad school.\\n\\nThen one day in April 1990 a crack appeared in the wall. I ran into professor Cheatham and he asked if I was far enough along to graduate that June.\",\n",
       "  'The good part was that I got paid huge amounts of money, especially by art student standards. In Florence, after paying my part of the rent, my budget for everything else had been $7 a day. Now I was getting paid more than 4 times that every hour, even when I was just sitting in a meeting. By living cheaply I not only managed to save enough to go back to RISD, but also paid off my college loans.\\n\\nI learned some useful things at Interleaf, though they were mostly about what not to do. I learned that it\\'s better for technology companies to be run by product people than sales people (though sales is a real skill and people who are good at it are really good at it), that it leads to bugs when code is edited by too many people, that cheap office space is no bargain if it\\'s depressing, that planned meetings are inferior to corridor conversations, that big, bureaucratic customers are a dangerous source of money, and that there\\'s not much overlap between conventional office hours and the optimal time for hacking, or conventional offices and the optimal place for it.\\n\\nBut the most important thing I learned, and which I used in both Viaweb and Y Combinator, is that the low end eats the high end: that it\\'s good to be the \"entry level\" option, even though that will be less prestigious, because if you\\'re not, someone else will be, and will squash you against the ceiling. Which in turn means that prestige is a danger sign.\\n\\nWhen I left to go back to RISD the next fall, I arranged to do freelance work for the group that did projects for customers, and this was how I survived for the next several years. When I came back to visit for a project later on, someone told me about a new thing called HTML, which was, as he described it, a derivative of SGML. Markup language enthusiasts were an occupational hazard at Interleaf and I ignored him, but this HTML thing later became a big part of my life.\\n\\nIn the fall of 1992 I moved back to Providence to continue at RISD. The foundation had merely been intro stuff, and the Accademia had been a (very civilized) joke. Now I was going to see what real art school was like. But alas it was more like the Accademia than not.',\n",
       "  \"So most of Bel was written in England.\\n\\nIn the fall of 2019, Bel was finally finished. Like McCarthy's original Lisp, it's a spec rather than an implementation, although like McCarthy's Lisp it's a spec expressed as code.\\n\\nNow that I could write essays again, I wrote a bunch about topics I'd had stacked up. I kept writing essays through 2020, but I also started to think about other things I could work on. How should I choose what to do? Well, how had I chosen what to work on in the past? I wrote an essay for myself to answer that question, and I was surprised how long and messy the answer turned out to be. If this surprised me, who'd lived it, then I thought perhaps it would be interesting to other people, and encouraging to those with similarly messy lives. So I wrote a more detailed version for others to read, and this is the last sentence of it.\\n\\n\\n\\n\\n\\n\\n\\n\\n\\nNotes\\n\\n[1] My experience skipped a step in the evolution of computers: time-sharing machines with interactive OSes. I went straight from batch processing to microcomputers, which made microcomputers seem all the more exciting.\\n\\n[2] Italian words for abstract concepts can nearly always be predicted from their English cognates (except for occasional traps like polluzione). It's the everyday words that differ. So if you string together a lot of abstract concepts with a few simple verbs, you can make a little Italian go a long way.\\n\\n[3] I lived at Piazza San Felice 4, so my walk to the Accademia went straight down the spine of old Florence: past the Pitti, across the bridge, past Orsanmichele, between the Duomo and the Baptistery, and then up Via Ricasoli to Piazza San Marco. I saw Florence at street level in every possible condition, from empty dark winter evenings to sweltering summer days when the streets were packed with tourists.\\n\\n[4] You can of course paint people like still lives if you want to, and they're willing. That sort of portrait is arguably the apex of still life painting, though the long sitting does tend to produce pained expressions in the sitters.\",\n",
       "  'It was clear from our experience with Viaweb that web apps were the future. Why not build a web app for making web apps? Why not let people edit code on our server through the browser, and then host the resulting applications for them? [9] You could run all sorts of services on the servers that these applications could use just by making an API call: making and receiving phone calls, manipulating images, taking credit card payments, etc.\\n\\nI got so excited about this idea that I couldn\\'t think about anything else. It seemed obvious that this was the future. I didn\\'t particularly want to start another company, but it was clear that this idea would have to be embodied as one, so I decided to move to Cambridge and start it. I hoped to lure Robert into working on it with me, but there I ran into a hitch. Robert was now a postdoc at MIT, and though he\\'d made a lot of money the last time I\\'d lured him into working on one of my schemes, it had also been a huge time sink. So while he agreed that it sounded like a plausible idea, he firmly refused to work on it.\\n\\nHmph. Well, I\\'d do it myself then. I recruited Dan Giffin, who had worked for Viaweb, and two undergrads who wanted summer jobs, and we got to work trying to build what it\\'s now clear is about twenty companies and several open source projects worth of software. The language for defining applications would of course be a dialect of Lisp. But I wasn\\'t so naive as to assume I could spring an overt Lisp on a general audience; we\\'d hide the parentheses, like Dylan did.\\n\\nBy then there was a name for the kind of company Viaweb was, an \"application service provider,\" or ASP. This name didn\\'t last long before it was replaced by \"software as a service,\" but it was current for long enough that I named this new company after it: it was going to be called Aspra.\\n\\nI started working on the application builder, Dan worked on network infrastructure, and the two undergrads worked on the first two services (images and phone calls). But about halfway through the summer I realized I really didn\\'t want to run a company — especially not a big one, which it was looking like this would have to be.',\n",
       "  'Markup language enthusiasts were an occupational hazard at Interleaf and I ignored him, but this HTML thing later became a big part of my life.\\n\\nIn the fall of 1992 I moved back to Providence to continue at RISD. The foundation had merely been intro stuff, and the Accademia had been a (very civilized) joke. Now I was going to see what real art school was like. But alas it was more like the Accademia than not. Better organized, certainly, and a lot more expensive, but it was now becoming clear that art school did not bear the same relationship to art that medical school bore to medicine. At least not the painting department. The textile department, which my next door neighbor belonged to, seemed to be pretty rigorous. No doubt illustration and architecture were too. But painting was post-rigorous. Painting students were supposed to express themselves, which to the more worldly ones meant to try to cook up some sort of distinctive signature style.\\n\\nA signature style is the visual equivalent of what in show business is known as a \"schtick\": something that immediately identifies the work as yours and no one else\\'s. For example, when you see a painting that looks like a certain kind of cartoon, you know it\\'s by Roy Lichtenstein. So if you see a big painting of this type hanging in the apartment of a hedge fund manager, you know he paid millions of dollars for it. That\\'s not always why artists have a signature style, but it\\'s usually why buyers pay a lot for such work. [6]\\n\\nThere were plenty of earnest students too: kids who \"could draw\" in high school, and now had come to what was supposed to be the best art school in the country, to learn to draw even better. They tended to be confused and demoralized by what they found at RISD, but they kept going, because painting was what they did. I was not one of the kids who could draw in high school, but at RISD I was definitely closer to their tribe than the tribe of signature style seekers.\\n\\nI learned a lot in the color class I took at RISD, but otherwise I was basically teaching myself to paint, and I could do that for free. So in 1993 I dropped out.',\n",
       "  'Funding startups in batches was more convenient for us, because it meant we could do things for a lot of startups at once, but being part of a batch was better for the startups too. It solved one of the biggest problems faced by founders: the isolation. Now you not only had colleagues, but colleagues who understood the problems you were facing and could tell you how they were solving them.\\n\\nAs YC grew, we started to notice other advantages of scale. The alumni became a tight community, dedicated to helping one another, and especially the current batch, whose shoes they remembered being in. We also noticed that the startups were becoming one another\\'s customers. We used to refer jokingly to the \"YC GDP,\" but as YC grows this becomes less and less of a joke. Now lots of startups get their initial set of customers almost entirely from among their batchmates.\\n\\nI had not originally intended YC to be a full-time job. I was going to do three things: hack, write essays, and work on YC. As YC grew, and I grew more excited about it, it started to take up a lot more than a third of my attention. But for the first few years I was still able to work on other things.\\n\\nIn the summer of 2006, Robert and I started working on a new version of Arc. This one was reasonably fast, because it was compiled into Scheme. To test this new Arc, I wrote Hacker News in it. It was originally meant to be a news aggregator for startup founders and was called Startup News, but after a few months I got tired of reading about nothing but startups. Plus it wasn\\'t startup founders we wanted to reach. It was future startup founders. So I changed the name to Hacker News and the topic to whatever engaged one\\'s intellectual curiosity.\\n\\nHN was no doubt good for YC, but it was also by far the biggest source of stress for me. If all I\\'d had to do was select and help founders, life would have been so easy. And that implies that HN was a mistake. Surely the biggest source of stress in one\\'s work should at least be something close to the core of the work.',\n",
       "  \"Though I liked programming, I didn't plan to study it in college. In college I was going to study philosophy, which sounded much more powerful. It seemed, to my naive high school self, to be the study of the ultimate truths, compared to which the things studied in other fields would be mere domain knowledge. What I discovered when I got to college was that the other fields took up so much of the space of ideas that there wasn't much left for these supposed ultimate truths. All that seemed left for philosophy were edge cases that people in other fields felt could safely be ignored.\\n\\nI couldn't have put this into words when I was 18. All I knew at the time was that I kept taking philosophy courses and they kept being boring. So I decided to switch to AI.\\n\\nAI was in the air in the mid 1980s, but there were two things especially that made me want to work on it: a novel by Heinlein called The Moon is a Harsh Mistress, which featured an intelligent computer called Mike, and a PBS documentary that showed Terry Winograd using SHRDLU. I haven't tried rereading The Moon is a Harsh Mistress, so I don't know how well it has aged, but when I read it I was drawn entirely into its world. It seemed only a matter of time before we'd have Mike, and when I saw Winograd using SHRDLU, it seemed like that time would be a few years at most. All you had to do was teach SHRDLU more words.\\n\\nThere weren't any classes in AI at Cornell then, not even graduate classes, so I started trying to teach myself. Which meant learning Lisp, since in those days Lisp was regarded as the language of AI. The commonly used programming languages then were pretty primitive, and programmers' ideas correspondingly so. The default language at Cornell was a Pascal-like language called PL/I, and the situation was similar elsewhere. Learning Lisp expanded my concept of a program so fast that it was years before I started to have a sense of where the new limits were. This was more like it; this was what I had expected college to do. It wasn't happening in a class, like it was supposed to, but that was ok. For the next couple years I was on a roll. I knew what I was going to do.\",\n",
       "  \"His roommate was away for big chunks of time, during which I got to sleep in his room. For some reason there was no bed frame or sheets, just a mattress on the floor. One morning as I was lying on this mattress I had an idea that made me sit up like a capital L. What if we ran the software on the server, and let users control it by clicking on links? Then we'd never have to write anything to run on users' computers. We could generate the sites on the same server we'd serve them from. Users wouldn't need anything more than a browser.\\n\\nThis kind of software, known as a web app, is common now, but at the time it wasn't clear that it was even possible. To find out, we decided to try making a version of our store builder that you could control through the browser. A couple days later, on August 12, we had one that worked. The UI was horrible, but it proved you could build a whole store through the browser, without any client software or typing anything into the command line on the server.\\n\\nNow we felt like we were really onto something. I had visions of a whole new generation of software working this way. You wouldn't need versions, or ports, or any of that crap. At Interleaf there had been a whole group called Release Engineering that seemed to be at least as big as the group that actually wrote the software. Now you could just update the software right on the server.\\n\\nWe started a new company we called Viaweb, after the fact that our software worked via the web, and we got $10,000 in seed funding from Idelle's husband Julian. In return for that and doing the initial legal work and giving us business advice, we gave him 10% of the company. Ten years later this deal became the model for Y Combinator's. We knew founders needed something like this, because we'd needed it ourselves.\\n\\nAt this stage I had a negative net worth, because the thousand dollars or so I had in the bank was more than counterbalanced by what I owed the government in taxes. (Had I diligently set aside the proper proportion of the money I'd made consulting for Interleaf? No, I had not.)\",\n",
       "  'In return for that and doing the initial legal work and giving us business advice, we gave him 10% of the company. Ten years later this deal became the model for Y Combinator\\'s. We knew founders needed something like this, because we\\'d needed it ourselves.\\n\\nAt this stage I had a negative net worth, because the thousand dollars or so I had in the bank was more than counterbalanced by what I owed the government in taxes. (Had I diligently set aside the proper proportion of the money I\\'d made consulting for Interleaf? No, I had not.) So although Robert had his graduate student stipend, I needed that seed funding to live on.\\n\\nWe originally hoped to launch in September, but we got more ambitious about the software as we worked on it. Eventually we managed to build a WYSIWYG site builder, in the sense that as you were creating pages, they looked exactly like the static ones that would be generated later, except that instead of leading to static pages, the links all referred to closures stored in a hash table on the server.\\n\\nIt helped to have studied art, because the main goal of an online store builder is to make users look legit, and the key to looking legit is high production values. If you get page layouts and fonts and colors right, you can make a guy running a store out of his bedroom look more legit than a big company.\\n\\n(If you\\'re curious why my site looks so old-fashioned, it\\'s because it\\'s still made with this software. It may look clunky today, but in 1996 it was the last word in slick.)\\n\\nIn September, Robert rebelled. \"We\\'ve been working on this for a month,\" he said, \"and it\\'s still not done.\" This is funny in retrospect, because he would still be working on it almost 3 years later. But I decided it might be prudent to recruit more programmers, and I asked Robert who else in grad school with him was really good. He recommended Trevor Blackwell, which surprised me at first, because at that point I knew Trevor mainly for his plan to reduce everything in his life to a stack of notecards, which he carried around with him. But Rtm was right, as usual. Trevor turned out to be a frighteningly effective hacker.',\n",
       "  \"So far anyway.\\n\\nI realize that sounds rather wimpy. But attention is a zero sum game. If you can choose what to work on, and you choose a project that's not the best one (or at least a good one) for you, then it's getting in the way of another project that is. And at 50 there was some opportunity cost to screwing around.\\n\\nI started writing essays again, and wrote a bunch of new ones over the next few months. I even wrote a couple that weren't about startups. Then in March 2015 I started working on Lisp again.\\n\\nThe distinctive thing about Lisp is that its core is a language defined by writing an interpreter in itself. It wasn't originally intended as a programming language in the ordinary sense. It was meant to be a formal model of computation, an alternative to the Turing machine. If you want to write an interpreter for a language in itself, what's the minimum set of predefined operators you need? The Lisp that John McCarthy invented, or more accurately discovered, is an answer to that question. [19]\\n\\nMcCarthy didn't realize this Lisp could even be used to program computers till his grad student Steve Russell suggested it. Russell translated McCarthy's interpreter into IBM 704 machine language, and from that point Lisp started also to be a programming language in the ordinary sense. But its origins as a model of computation gave it a power and elegance that other languages couldn't match. It was this that attracted me in college, though I didn't understand why at the time.\\n\\nMcCarthy's 1960 Lisp did nothing more than interpret Lisp expressions. It was missing a lot of things you'd want in a programming language. So these had to be added, and when they were, they weren't defined using McCarthy's original axiomatic approach. That wouldn't have been feasible at the time. McCarthy tested his interpreter by hand-simulating the execution of programs. But it was already getting close to the limit of interpreters you could test that way — indeed, there was a bug in it that McCarthy had overlooked. To test a more complicated interpreter, you'd have had to run it, and computers then weren't powerful enough.\\n\\nNow they are, though.\",\n",
       "  \"So these had to be added, and when they were, they weren't defined using McCarthy's original axiomatic approach. That wouldn't have been feasible at the time. McCarthy tested his interpreter by hand-simulating the execution of programs. But it was already getting close to the limit of interpreters you could test that way — indeed, there was a bug in it that McCarthy had overlooked. To test a more complicated interpreter, you'd have had to run it, and computers then weren't powerful enough.\\n\\nNow they are, though. Now you could continue using McCarthy's axiomatic approach till you'd defined a complete programming language. And as long as every change you made to McCarthy's Lisp was a discoveredness-preserving transformation, you could, in principle, end up with a complete language that had this quality. Harder to do than to talk about, of course, but if it was possible in principle, why not try? So I decided to take a shot at it. It took 4 years, from March 26, 2015 to October 12, 2019. It was fortunate that I had a precisely defined goal, or it would have been hard to keep at it for so long.\\n\\nI wrote this new Lisp, called Bel, in itself in Arc. That may sound like a contradiction, but it's an indication of the sort of trickery I had to engage in to make this work. By means of an egregious collection of hacks I managed to make something close enough to an interpreter written in itself that could actually run. Not fast, but fast enough to test.\\n\\nI had to ban myself from writing essays during most of this time, or I'd never have finished. In late 2015 I spent 3 months writing essays, and when I went back to working on Bel I could barely understand the code. Not so much because it was badly written as because the problem is so convoluted. When you're working on an interpreter written in itself, it's hard to keep track of what's happening at what level, and errors can be practically encrypted by the time you get them.\\n\\nSo I said no more essays till Bel was done. But I told few people about Bel while I was working on it.\",\n",
       "  'It took them weeks to make up their minds, and during this time I started telling her about all the things that needed to be fixed about venture capital. They should make a larger number of smaller investments instead of a handful of giant ones, they should be funding younger, more technical founders instead of MBAs, they should let the founders remain as CEO, and so on.\\n\\nOne of my tricks for writing essays had always been to give talks. The prospect of having to stand up in front of a group of people and tell them something that won\\'t waste their time is a great spur to the imagination. When the Harvard Computer Society, the undergrad computer club, asked me to give a talk, I decided I would tell them how to start a startup. Maybe they\\'d be able to avoid the worst of the mistakes we\\'d made.\\n\\nSo I gave this talk, in the course of which I told them that the best sources of seed funding were successful startup founders, because then they\\'d be sources of advice too. Whereupon it seemed they were all looking expectantly at me. Horrified at the prospect of having my inbox flooded by business plans (if I\\'d only known), I blurted out \"But not me!\" and went on with the talk. But afterward it occurred to me that I should really stop procrastinating about angel investing. I\\'d been meaning to since Yahoo bought us, and now it was 7 years later and I still hadn\\'t done one angel investment.\\n\\nMeanwhile I had been scheming with Robert and Trevor about projects we could work on together. I missed working with them, and it seemed like there had to be something we could collaborate on.\\n\\nAs Jessica and I were walking home from dinner on March 11, at the corner of Garden and Walker streets, these three threads converged. Screw the VCs who were taking so long to make up their minds. We\\'d start our own investment firm and actually implement the ideas we\\'d been talking about. I\\'d fund it, and Jessica could quit her job and work for it, and we\\'d get Robert and Trevor as partners too. [13]\\n\\nOnce again, ignorance worked in our favor. We had no idea how to be angel investors, and in Boston in 2005 there were no Ron Conways to learn from.',\n",
       "  'Unfortunately I had to do a lot more, all of it stuff I was worse at than programming, and the next 3 years were instead the most stressful.\\n\\nThere were a lot of startups making ecommerce software in the second half of the 90s. We were determined to be the Microsoft Word, not the Interleaf. Which meant being easy to use and inexpensive. It was lucky for us that we were poor, because that caused us to make Viaweb even more inexpensive than we realized. We charged $100 a month for a small store and $300 a month for a big one. This low price was a big attraction, and a constant thorn in the sides of competitors, but it wasn\\'t because of some clever insight that we set the price low. We had no idea what businesses paid for things. $300 a month seemed like a lot of money to us.\\n\\nWe did a lot of things right by accident like that. For example, we did what\\'s now called \"doing things that don\\'t scale,\" although at the time we would have described it as \"being so lame that we\\'re driven to the most desperate measures to get users.\" The most common of which was building stores for them. This seemed particularly humiliating, since the whole raison d\\'etre of our software was that people could use it to make their own stores. But anything to get users.\\n\\nWe learned a lot more about retail than we wanted to know. For example, that if you could only have a small image of a man\\'s shirt (and all images were small then by present standards), it was better to have a closeup of the collar than a picture of the whole shirt. The reason I remember learning this was that it meant I had to rescan about 30 images of men\\'s shirts. My first set of scans were so beautiful too.\\n\\nThough this felt wrong, it was exactly the right thing to be doing. Building stores for users taught us about retail, and about how it felt to use our software. I was initially both mystified and repelled by \"business\" and thought we needed a \"business person\" to be in charge of it, but once we started to get users, I was converted, in much the same way I was converted to fatherhood once I had kids. Whatever users wanted, I was all theirs.',\n",
       "  'My first set of scans were so beautiful too.\\n\\nThough this felt wrong, it was exactly the right thing to be doing. Building stores for users taught us about retail, and about how it felt to use our software. I was initially both mystified and repelled by \"business\" and thought we needed a \"business person\" to be in charge of it, but once we started to get users, I was converted, in much the same way I was converted to fatherhood once I had kids. Whatever users wanted, I was all theirs. Maybe one day we\\'d have so many users that I couldn\\'t scan their images for them, but in the meantime there was nothing more important to do.\\n\\nAnother thing I didn\\'t get at the time is that growth rate is the ultimate test of a startup. Our growth rate was fine. We had about 70 stores at the end of 1996 and about 500 at the end of 1997. I mistakenly thought the thing that mattered was the absolute number of users. And that is the thing that matters in the sense that that\\'s how much money you\\'re making, and if you\\'re not making enough, you might go out of business. But in the long term the growth rate takes care of the absolute number. If we\\'d been a startup I was advising at Y Combinator, I would have said: Stop being so stressed out, because you\\'re doing fine. You\\'re growing 7x a year. Just don\\'t hire too many more people and you\\'ll soon be profitable, and then you\\'ll control your own destiny.\\n\\nAlas I hired lots more people, partly because our investors wanted me to, and partly because that\\'s what startups did during the Internet Bubble. A company with just a handful of employees would have seemed amateurish. So we didn\\'t reach breakeven until about when Yahoo bought us in the summer of 1998. Which in turn meant we were at the mercy of investors for the entire life of the company. And since both we and our investors were noobs at startups, the result was a mess even by startup standards.\\n\\nIt was a huge relief when Yahoo bought us. In principle our Viaweb stock was valuable. It was a share in a business that was profitable and growing rapidly.',\n",
       "  \"This is funny in retrospect, because he would still be working on it almost 3 years later. But I decided it might be prudent to recruit more programmers, and I asked Robert who else in grad school with him was really good. He recommended Trevor Blackwell, which surprised me at first, because at that point I knew Trevor mainly for his plan to reduce everything in his life to a stack of notecards, which he carried around with him. But Rtm was right, as usual. Trevor turned out to be a frighteningly effective hacker.\\n\\nIt was a lot of fun working with Robert and Trevor. They're the two most independent-minded people I know, and in completely different ways. If you could see inside Rtm's brain it would look like a colonial New England church, and if you could see inside Trevor's it would look like the worst excesses of Austrian Rococo.\\n\\nWe opened for business, with 6 stores, in January 1996. It was just as well we waited a few months, because although we worried we were late, we were actually almost fatally early. There was a lot of talk in the press then about ecommerce, but not many people actually wanted online stores. [8]\\n\\nThere were three main parts to the software: the editor, which people used to build sites and which I wrote, the shopping cart, which Robert wrote, and the manager, which kept track of orders and statistics, and which Trevor wrote. In its time, the editor was one of the best general-purpose site builders. I kept the code tight and didn't have to integrate with any other software except Robert's and Trevor's, so it was quite fun to work on. If all I'd had to do was work on this software, the next 3 years would have been the easiest of my life. Unfortunately I had to do a lot more, all of it stuff I was worse at than programming, and the next 3 years were instead the most stressful.\\n\\nThere were a lot of startups making ecommerce software in the second half of the 90s. We were determined to be the Microsoft Word, not the Interleaf. Which meant being easy to use and inexpensive. It was lucky for us that we were poor, because that caused us to make Viaweb even more inexpensive than we realized.\",\n",
       "  \"Part of the problem was that I didn't know many people in California. I'd compounded this problem by buying a house up in the Santa Cruz Mountains, with a beautiful view but miles from anywhere. I stuck it out for a few more months, then in desperation I went back to New York, where unless you understand about rent control you'll be surprised to hear I still had my apartment, sealed up like a tomb of my old life. Idelle was in New York at least, and there were other people trying to paint there, even though I didn't know any of them.\\n\\nWhen I got back to New York I resumed my old life, except now I was rich. It was as weird as it sounds. I resumed all my old patterns, except now there were doors where there hadn't been. Now when I was tired of walking, all I had to do was raise my hand, and (unless it was raining) a taxi would stop to pick me up. Now when I walked past charming little restaurants I could go in and order lunch. It was exciting for a while. Painting started to go better. I experimented with a new kind of still life where I'd paint one painting in the old way, then photograph it and print it, blown up, on canvas, and then use that as the underpainting for a second still life, painted from the same objects (which hopefully hadn't rotted yet).\\n\\nMeanwhile I looked for an apartment to buy. Now I could actually choose what neighborhood to live in. Where, I asked myself and various real estate agents, is the Cambridge of New York? Aided by occasional visits to actual Cambridge, I gradually realized there wasn't one. Huh.\\n\\nAround this time, in the spring of 2000, I had an idea. It was clear from our experience with Viaweb that web apps were the future. Why not build a web app for making web apps? Why not let people edit code on our server through the browser, and then host the resulting applications for them? [9] You could run all sorts of services on the servers that these applications could use just by making an API call: making and receiving phone calls, manipulating images, taking credit card payments, etc.\\n\\nI got so excited about this idea that I couldn't think about anything else.\",\n",
       "  'In late 2015 I spent 3 months writing essays, and when I went back to working on Bel I could barely understand the code. Not so much because it was badly written as because the problem is so convoluted. When you\\'re working on an interpreter written in itself, it\\'s hard to keep track of what\\'s happening at what level, and errors can be practically encrypted by the time you get them.\\n\\nSo I said no more essays till Bel was done. But I told few people about Bel while I was working on it. So for years it must have seemed that I was doing nothing, when in fact I was working harder than I\\'d ever worked on anything. Occasionally after wrestling for hours with some gruesome bug I\\'d check Twitter or HN and see someone asking \"Does Paul Graham still code?\"\\n\\nWorking on Bel was hard but satisfying. I worked on it so intensively that at any given time I had a decent chunk of the code in my head and could write more there. I remember taking the boys to the coast on a sunny day in 2015 and figuring out how to deal with some problem involving continuations while I watched them play in the tide pools. It felt like I was doing life right. I remember that because I was slightly dismayed at how novel it felt. The good news is that I had more moments like this over the next few years.\\n\\nIn the summer of 2016 we moved to England. We wanted our kids to see what it was like living in another country, and since I was a British citizen by birth, that seemed the obvious choice. We only meant to stay for a year, but we liked it so much that we still live there. So most of Bel was written in England.\\n\\nIn the fall of 2019, Bel was finally finished. Like McCarthy\\'s original Lisp, it\\'s a spec rather than an implementation, although like McCarthy\\'s Lisp it\\'s a spec expressed as code.\\n\\nNow that I could write essays again, I wrote a bunch about topics I\\'d had stacked up. I kept writing essays through 2020, but I also started to think about other things I could work on. How should I choose what to do? Well, how had I chosen what to work on in the past?',\n",
       "  \"[9] We'd had a code editor in Viaweb for users to define their own page styles. They didn't know it, but they were editing Lisp expressions underneath. But this wasn't an app editor, because the code ran when the merchants' sites were generated, not when shoppers visited them.\\n\\n[10] This was the first instance of what is now a familiar experience, and so was what happened next, when I read the comments and found they were full of angry people. How could I claim that Lisp was better than other languages? Weren't they all Turing complete? People who see the responses to essays I write sometimes tell me how sorry they feel for me, but I'm not exaggerating when I reply that it has always been like this, since the very beginning. It comes with the territory. An essay must tell readers things they don't already know, and some people dislike being told such things.\\n\\n[11] People put plenty of stuff on the internet in the 90s of course, but putting something online is not the same as publishing it online. Publishing online means you treat the online version as the (or at least a) primary version.\\n\\n[12] There is a general lesson here that our experience with Y Combinator also teaches: Customs continue to constrain you long after the restrictions that caused them have disappeared. Customary VC practice had once, like the customs about publishing essays, been based on real constraints. Startups had once been much more expensive to start, and proportionally rare. Now they could be cheap and common, but the VCs' customs still reflected the old world, just as customs about writing essays still reflected the constraints of the print era.\\n\\nWhich in turn implies that people who are independent-minded (i.e. less influenced by custom) will have an advantage in fields affected by rapid change (where customs are more likely to be obsolete).\\n\\nHere's an interesting point, though: you can't always predict which fields will be affected by rapid change. Obviously software and venture capital will be, but who would have predicted that essay writing would be?\\n\\n[13] Y Combinator was not the original name. At first we were called Cambridge Seed.\",\n",
       "  'If you were trying to learn the most you could about startups in the shortest possible time, you couldn\\'t have picked a better way to do it.\\n\\nThere were parts of the job I didn\\'t like. Disputes between cofounders, figuring out when people were lying to us, fighting with people who maltreated the startups, and so on. But I worked hard even at the parts I didn\\'t like. I was haunted by something Kevin Hale once said about companies: \"No one works harder than the boss.\" He meant it both descriptively and prescriptively, and it was the second part that scared me. I wanted YC to be good, so if how hard I worked set the upper bound on how hard everyone else worked, I\\'d better work very hard.\\n\\nOne day in 2010, when he was visiting California for interviews, Robert Morris did something astonishing: he offered me unsolicited advice. I can only remember him doing that once before. One day at Viaweb, when I was bent over double from a kidney stone, he suggested that it would be a good idea for him to take me to the hospital. That was what it took for Rtm to offer unsolicited advice. So I remember his exact words very clearly. \"You know,\" he said, \"you should make sure Y Combinator isn\\'t the last cool thing you do.\"\\n\\nAt the time I didn\\'t understand what he meant, but gradually it dawned on me that he was saying I should quit. This seemed strange advice, because YC was doing great. But if there was one thing rarer than Rtm offering advice, it was Rtm being wrong. So this set me thinking. It was true that on my current trajectory, YC would be the last thing I did, because it was only taking up more of my attention. It had already eaten Arc, and was in the process of eating essays too. Either YC was my life\\'s work or I\\'d have to leave eventually. And it wasn\\'t, so I would.\\n\\nIn the summer of 2012 my mother had a stroke, and the cause turned out to be a blood clot caused by colon cancer.',\n",
       "  \"I saw Florence at street level in every possible condition, from empty dark winter evenings to sweltering summer days when the streets were packed with tourists.\\n\\n[4] You can of course paint people like still lives if you want to, and they're willing. That sort of portrait is arguably the apex of still life painting, though the long sitting does tend to produce pained expressions in the sitters.\\n\\n[5] Interleaf was one of many companies that had smart people and built impressive technology, and yet got crushed by Moore's Law. In the 1990s the exponential growth in the power of commodity (i.e. Intel) processors rolled up high-end, special-purpose hardware and software companies like a bulldozer.\\n\\n[6] The signature style seekers at RISD weren't specifically mercenary. In the art world, money and coolness are tightly coupled. Anything expensive comes to be seen as cool, and anything seen as cool will soon become equally expensive.\\n\\n[7] Technically the apartment wasn't rent-controlled but rent-stabilized, but this is a refinement only New Yorkers would know or care about. The point is that it was really cheap, less than half market price.\\n\\n[8] Most software you can launch as soon as it's done. But when the software is an online store builder and you're hosting the stores, if you don't have any users yet, that fact will be painfully obvious. So before we could launch publicly we had to launch privately, in the sense of recruiting an initial set of users and making sure they had decent-looking stores.\\n\\n[9] We'd had a code editor in Viaweb for users to define their own page styles. They didn't know it, but they were editing Lisp expressions underneath. But this wasn't an app editor, because the code ran when the merchants' sites were generated, not when shoppers visited them.\\n\\n[10] This was the first instance of what is now a familiar experience, and so was what happened next, when I read the comments and found they were full of angry people. How could I claim that Lisp was better than other languages? Weren't they all Turing complete?\",\n",
       "  'I didn\\'t see a way out of this situation. I didn\\'t want to drop out of grad school, but how else was I going to get out? I remember when my friend Robert Morris got kicked out of Cornell for writing the internet worm of 1988, I was envious that he\\'d found such a spectacular way to get out of grad school.\\n\\nThen one day in April 1990 a crack appeared in the wall. I ran into professor Cheatham and he asked if I was far enough along to graduate that June. I didn\\'t have a word of my dissertation written, but in what must have been the quickest bit of thinking in my life, I decided to take a shot at writing one in the 5 weeks or so that remained before the deadline, reusing parts of On Lisp where I could, and I was able to respond, with no perceptible delay \"Yes, I think so. I\\'ll give you something to read in a few days.\"\\n\\nI picked applications of continuations as the topic. In retrospect I should have written about macros and embedded languages. There\\'s a whole world there that\\'s barely been explored. But all I wanted was to get out of grad school, and my rapidly written dissertation sufficed, just barely.\\n\\nMeanwhile I was applying to art schools. I applied to two: RISD in the US, and the Accademia di Belli Arti in Florence, which, because it was the oldest art school, I imagined would be good. RISD accepted me, and I never heard back from the Accademia, so off to Providence I went.\\n\\nI\\'d applied for the BFA program at RISD, which meant in effect that I had to go to college again. This was not as strange as it sounds, because I was only 25, and art schools are full of people of different ages. RISD counted me as a transfer sophomore and said I had to do the foundation that summer. The foundation means the classes that everyone has to take in fundamental subjects like drawing, color, and design.\\n\\nToward the end of the summer I got a big surprise: a letter from the Accademia, which had been delayed because they\\'d sent it to Cambridge England instead of Cambridge Massachusetts, inviting me to take the entrance exam in Florence that fall. This was now only weeks away.',\n",
       "  \"We decided he'd take over starting with the winter 2014 batch. For the rest of 2013 I left running YC more and more to Sam, partly so he could learn the job, and partly because I was focused on my mother, whose cancer had returned.\\n\\nShe died on January 15, 2014. We knew this was coming, but it was still hard when it did.\\n\\nI kept working on YC till March, to help get that batch of startups through Demo Day, then I checked out pretty completely. (I still talk to alumni and to new startups working on things I'm interested in, but that only takes a few hours a week.)\\n\\nWhat should I do next? Rtm's advice hadn't included anything about that. I wanted to do something completely different, so I decided I'd paint. I wanted to see how good I could get if I really focused on it. So the day after I stopped working on YC, I started painting. I was rusty and it took a while to get back into shape, but it was at least completely engaging. [18]\\n\\nI spent most of the rest of 2014 painting. I'd never been able to work so uninterruptedly before, and I got to be better than I had been. Not good enough, but better. Then in November, right in the middle of a painting, I ran out of steam. Up till that point I'd always been curious to see how the painting I was working on would turn out, but suddenly finishing this one seemed like a chore. So I stopped working on it and cleaned my brushes and haven't painted since. So far anyway.\\n\\nI realize that sounds rather wimpy. But attention is a zero sum game. If you can choose what to work on, and you choose a project that's not the best one (or at least a good one) for you, then it's getting in the way of another project that is. And at 50 there was some opportunity cost to screwing around.\\n\\nI started writing essays again, and wrote a bunch of new ones over the next few months. I even wrote a couple that weren't about startups. Then in March 2015 I started working on Lisp again.\",\n",
       "  \"So while working on things that aren't prestigious doesn't guarantee you're on the right track, it at least guarantees you're not on the most common type of wrong one.\\n\\nOver the next several years I wrote lots of essays about all kinds of different topics. O'Reilly reprinted a collection of them as a book, called Hackers & Painters after one of the essays in it. I also worked on spam filters, and did some more painting. I used to have dinners for a group of friends every thursday night, which taught me how to cook for groups. And I bought another building in Cambridge, a former candy factory (and later, twas said, porn studio), to use as an office.\\n\\nOne night in October 2003 there was a big party at my house. It was a clever idea of my friend Maria Daniels, who was one of the thursday diners. Three separate hosts would all invite their friends to one party. So for every guest, two thirds of the other guests would be people they didn't know but would probably like. One of the guests was someone I didn't know but would turn out to like a lot: a woman called Jessica Livingston. A couple days later I asked her out.\\n\\nJessica was in charge of marketing at a Boston investment bank. This bank thought it understood startups, but over the next year, as she met friends of mine from the startup world, she was surprised how different reality was. And how colorful their stories were. So she decided to compile a book of interviews with startup founders.\\n\\nWhen the bank had financial problems and she had to fire half her staff, she started looking for a new job. In early 2005 she interviewed for a marketing job at a Boston VC firm. It took them weeks to make up their minds, and during this time I started telling her about all the things that needed to be fixed about venture capital. They should make a larger number of smaller investments instead of a handful of giant ones, they should be funding younger, more technical founders instead of MBAs, they should let the founders remain as CEO, and so on.\\n\\nOne of my tricks for writing essays had always been to give talks. The prospect of having to stand up in front of a group of people and tell them something that won't waste their time is a great spur to the imagination.\",\n",
       "  'Screw the VCs who were taking so long to make up their minds. We\\'d start our own investment firm and actually implement the ideas we\\'d been talking about. I\\'d fund it, and Jessica could quit her job and work for it, and we\\'d get Robert and Trevor as partners too. [13]\\n\\nOnce again, ignorance worked in our favor. We had no idea how to be angel investors, and in Boston in 2005 there were no Ron Conways to learn from. So we just made what seemed like the obvious choices, and some of the things we did turned out to be novel.\\n\\nThere are multiple components to Y Combinator, and we didn\\'t figure them all out at once. The part we got first was to be an angel firm. In those days, those two words didn\\'t go together. There were VC firms, which were organized companies with people whose job it was to make investments, but they only did big, million dollar investments. And there were angels, who did smaller investments, but these were individuals who were usually focused on other things and made investments on the side. And neither of them helped founders enough in the beginning. We knew how helpless founders were in some respects, because we remembered how helpless we\\'d been. For example, one thing Julian had done for us that seemed to us like magic was to get us set up as a company. We were fine writing fairly difficult software, but actually getting incorporated, with bylaws and stock and all that stuff, how on earth did you do that? Our plan was not only to make seed investments, but to do for startups everything Julian had done for us.\\n\\nYC was not organized as a fund. It was cheap enough to run that we funded it with our own money. That went right by 99% of readers, but professional investors are thinking \"Wow, that means they got all the returns.\" But once again, this was not due to any particular insight on our part. We didn\\'t know how VC firms were organized. It never occurred to us to try to raise a fund, and if it had, we wouldn\\'t have known where to start.',\n",
       "  'You want to emphasize the visual cues that tell you, for example, that the reason the color changes suddenly at a certain point is that it\\'s the edge of an object. By subtly emphasizing such things you can make paintings that are more realistic than photographs not just in some metaphorical sense, but in the strict information-theoretic sense. [4]\\n\\nI liked painting still lives because I was curious about what I was seeing. In everyday life, we aren\\'t consciously aware of much we\\'re seeing. Most visual perception is handled by low-level processes that merely tell your brain \"that\\'s a water droplet\" without telling you details like where the lightest and darkest points are, or \"that\\'s a bush\" without telling you the shape and position of every leaf. This is a feature of brains, not a bug. In everyday life it would be distracting to notice every leaf on every bush. But when you have to paint something, you have to look more closely, and when you do there\\'s a lot to see. You can still be noticing new things after days of trying to paint something people usually take for granted, just as you can after days of trying to write an essay about something people usually take for granted.\\n\\nThis is not the only way to paint. I\\'m not 100% sure it\\'s even a good way to paint. But it seemed a good enough bet to be worth trying.\\n\\nOur teacher, professor Ulivi, was a nice guy. He could see I worked hard, and gave me a good grade, which he wrote down in a sort of passport each student had. But the Accademia wasn\\'t teaching me anything except Italian, and my money was running out, so at the end of the first year I went back to the US.\\n\\nI wanted to go back to RISD, but I was now broke and RISD was very expensive, so I decided to get a job for a year and then return to RISD the next fall. I got one at a company called Interleaf, which made software for creating documents. You mean like Microsoft Word? Exactly. That was how I learned that low end software tends to eat high end software. But Interleaf still had a few years to live yet. [5]\\n\\nInterleaf had done something pretty bold.',\n",
       "  \"[17] Another problem with HN was a bizarre edge case that occurs when you both write essays and run a forum. When you run a forum, you're assumed to see if not every conversation, at least every conversation involving you. And when you write essays, people post highly imaginative misinterpretations of them on forums. Individually these two phenomena are tedious but bearable, but the combination is disastrous. You actually have to respond to the misinterpretations, because the assumption that you're present in the conversation means that not responding to any sufficiently upvoted misinterpretation reads as a tacit admission that it's correct. But that in turn encourages more; anyone who wants to pick a fight with you senses that now is their chance.\\n\\n[18] The worst thing about leaving YC was not working with Jessica anymore. We'd been working on YC almost the whole time we'd known each other, and we'd neither tried nor wanted to separate it from our personal lives, so leaving was like pulling up a deeply rooted tree.\\n\\n[19] One way to get more precise about the concept of invented vs discovered is to talk about space aliens. Any sufficiently advanced alien civilization would certainly know about the Pythagorean theorem, for example. I believe, though with less certainty, that they would also know about the Lisp in McCarthy's 1960 paper.\\n\\nBut if so there's no reason to suppose that this is the limit of the language that might be known to them. Presumably aliens need numbers and errors and I/O too. So it seems likely there exists at least one path out of McCarthy's Lisp along which discoveredness is preserved.\\n\\n\\n\\nThanks to Trevor Blackwell, John Collison, Patrick Collison, Daniel Gackle, Ralph Hazell, Jessica Livingston, Robert Morris, and Harj Taggar for reading drafts of this.\",\n",
       "  'YC was not organized as a fund. It was cheap enough to run that we funded it with our own money. That went right by 99% of readers, but professional investors are thinking \"Wow, that means they got all the returns.\" But once again, this was not due to any particular insight on our part. We didn\\'t know how VC firms were organized. It never occurred to us to try to raise a fund, and if it had, we wouldn\\'t have known where to start. [14]\\n\\nThe most distinctive thing about YC is the batch model: to fund a bunch of startups all at once, twice a year, and then to spend three months focusing intensively on trying to help them. That part we discovered by accident, not merely implicitly but explicitly due to our ignorance about investing. We needed to get experience as investors. What better way, we thought, than to fund a whole bunch of startups at once? We knew undergrads got temporary jobs at tech companies during the summer. Why not organize a summer program where they\\'d start startups instead? We wouldn\\'t feel guilty for being in a sense fake investors, because they would in a similar sense be fake founders. So while we probably wouldn\\'t make much money out of it, we\\'d at least get to practice being investors on them, and they for their part would probably have a more interesting summer than they would working at Microsoft.\\n\\nWe\\'d use the building I owned in Cambridge as our headquarters. We\\'d all have dinner there once a week — on tuesdays, since I was already cooking for the thursday diners on thursdays — and after dinner we\\'d bring in experts on startups to give talks.\\n\\nWe knew undergrads were deciding then about summer jobs, so in a matter of days we cooked up something we called the Summer Founders Program, and I posted an announcement on my site, inviting undergrads to apply. I had never imagined that writing essays would be a way to get \"deal flow,\" as investors call it, but it turned out to be the perfect source. [15] We got 225 applications for the Summer Founders Program, and we were surprised to find that a lot of them were from people who\\'d already graduated, or were about to that spring. Already this SFP thing was starting to feel more serious than we\\'d intended.',\n",
       "  \"So this set me thinking. It was true that on my current trajectory, YC would be the last thing I did, because it was only taking up more of my attention. It had already eaten Arc, and was in the process of eating essays too. Either YC was my life's work or I'd have to leave eventually. And it wasn't, so I would.\\n\\nIn the summer of 2012 my mother had a stroke, and the cause turned out to be a blood clot caused by colon cancer. The stroke destroyed her balance, and she was put in a nursing home, but she really wanted to get out of it and back to her house, and my sister and I were determined to help her do it. I used to fly up to Oregon to visit her regularly, and I had a lot of time to think on those flights. On one of them I realized I was ready to hand YC over to someone else.\\n\\nI asked Jessica if she wanted to be president, but she didn't, so we decided we'd try to recruit Sam Altman. We talked to Robert and Trevor and we agreed to make it a complete changing of the guard. Up till that point YC had been controlled by the original LLC we four had started. But we wanted YC to last for a long time, and to do that it couldn't be controlled by the founders. So if Sam said yes, we'd let him reorganize YC. Robert and I would retire, and Jessica and Trevor would become ordinary partners.\\n\\nWhen we asked Sam if he wanted to be president of YC, initially he said no. He wanted to start a startup to make nuclear reactors. But I kept at it, and in October 2013 he finally agreed. We decided he'd take over starting with the winter 2014 batch. For the rest of 2013 I left running YC more and more to Sam, partly so he could learn the job, and partly because I was focused on my mother, whose cancer had returned.\\n\\nShe died on January 15, 2014. We knew this was coming, but it was still hard when it did.\\n\\nI kept working on YC till March, to help get that batch of startups through Demo Day, then I checked out pretty completely.\",\n",
       "  \"Computer Science is an uneasy alliance between two halves, theory and systems. The theory people prove things, and the systems people build things. I wanted to build things. I had plenty of respect for theory — indeed, a sneaking suspicion that it was the more admirable of the two halves — but building things seemed so much more exciting.\\n\\nThe problem with systems work, though, was that it didn't last. Any program you wrote today, no matter how good, would be obsolete in a couple decades at best. People might mention your software in footnotes, but no one would actually use it. And indeed, it would seem very feeble work. Only people with a sense of the history of the field would even realize that, in its time, it had been good.\\n\\nThere were some surplus Xerox Dandelions floating around the computer lab at one point. Anyone who wanted one to play around with could have one. I was briefly tempted, but they were so slow by present standards; what was the point? No one else wanted one either, so off they went. That was what happened to systems work.\\n\\nI wanted not just to build things, but to build things that would last.\\n\\nIn this dissatisfied state I went in 1988 to visit Rich Draves at CMU, where he was in grad school. One day I went to visit the Carnegie Institute, where I'd spent a lot of time as a kid. While looking at a painting there I realized something that might seem obvious, but was a big surprise to me. There, right on the wall, was something you could make that would last. Paintings didn't become obsolete. Some of the best ones were hundreds of years old.\\n\\nAnd moreover this was something you could make a living doing. Not as easily as you could by writing software, of course, but I thought if you were really industrious and lived really cheaply, it had to be possible to make enough to survive. And as an artist you could be truly independent. You wouldn't have a boss, or even need to get research funding.\\n\\nI had always liked looking at paintings. Could I make them? I had no idea. I'd never imagined it was even possible.\",\n",
       "  'This name didn\\'t last long before it was replaced by \"software as a service,\" but it was current for long enough that I named this new company after it: it was going to be called Aspra.\\n\\nI started working on the application builder, Dan worked on network infrastructure, and the two undergrads worked on the first two services (images and phone calls). But about halfway through the summer I realized I really didn\\'t want to run a company — especially not a big one, which it was looking like this would have to be. I\\'d only started Viaweb because I needed the money. Now that I didn\\'t need money anymore, why was I doing this? If this vision had to be realized as a company, then screw the vision. I\\'d build a subset that could be done as an open source project.\\n\\nMuch to my surprise, the time I spent working on this stuff was not wasted after all. After we started Y Combinator, I would often encounter startups working on parts of this new architecture, and it was very useful to have spent so much time thinking about it and even trying to write some of it.\\n\\nThe subset I would build as an open source project was the new Lisp, whose parentheses I now wouldn\\'t even have to hide. A lot of Lisp hackers dream of building a new Lisp, partly because one of the distinctive features of the language is that it has dialects, and partly, I think, because we have in our minds a Platonic form of Lisp that all existing dialects fall short of. I certainly did. So at the end of the summer Dan and I switched to working on this new dialect of Lisp, which I called Arc, in a house I bought in Cambridge.\\n\\nThe following spring, lightning struck. I was invited to give a talk at a Lisp conference, so I gave one about how we\\'d used Lisp at Viaweb. Afterward I put a postscript file of this talk online, on paulgraham.com, which I\\'d created years before using Viaweb but had never used for anything. In one day it got 30,000 page views. What on earth had happened? The referring urls showed that someone had posted it on Slashdot. [10]\\n\\nWow, I thought, there\\'s an audience.',\n",
       "  \"So with my unerring nose for financial opportunity, I decided to write another book on Lisp. This would be a popular book, the sort of book that could be used as a textbook. I imagined myself living frugally off the royalties and spending all my time painting. (The painting on the cover of this book, ANSI Common Lisp, is one that I painted around this time.)\\n\\nThe best thing about New York for me was the presence of Idelle and Julian Weber. Idelle Weber was a painter, one of the early photorealists, and I'd taken her painting class at Harvard. I've never known a teacher more beloved by her students. Large numbers of former students kept in touch with her, including me. After I moved to New York I became her de facto studio assistant.\\n\\nShe liked to paint on big, square canvases, 4 to 5 feet on a side. One day in late 1994 as I was stretching one of these monsters there was something on the radio about a famous fund manager. He wasn't that much older than me, and was super rich. The thought suddenly occurred to me: why don't I become rich? Then I'll be able to work on whatever I want.\\n\\nMeanwhile I'd been hearing more and more about this new thing called the World Wide Web. Robert Morris showed it to me when I visited him in Cambridge, where he was now in grad school at Harvard. It seemed to me that the web would be a big deal. I'd seen what graphical user interfaces had done for the popularity of microcomputers. It seemed like the web would do the same for the internet.\\n\\nIf I wanted to get rich, here was the next train leaving the station. I was right about that part. What I got wrong was the idea. I decided we should start a company to put art galleries online. I can't honestly say, after reading so many Y Combinator applications, that this was the worst startup idea ever, but it was up there. Art galleries didn't want to be online, and still don't, not the fancy ones. That's not how they sell. I wrote some software to generate web sites for galleries, and Robert wrote some to resize images and set up an http server to serve the pages.\",\n",
       "  'What I Worked On\\n\\nFebruary 2021\\n\\nBefore college the two main things I worked on, outside of school, were writing and programming. I didn\\'t write essays. I wrote what beginning writers were supposed to write then, and probably still are: short stories. My stories were awful. They had hardly any plot, just characters with strong feelings, which I imagined made them deep.\\n\\nThe first programs I tried writing were on the IBM 1401 that our school district used for what was then called \"data processing.\" This was in 9th grade, so I was 13 or 14. The school district\\'s 1401 happened to be in the basement of our junior high school, and my friend Rich Draves and I got permission to use it. It was like a mini Bond villain\\'s lair down there, with all these alien-looking machines — CPU, disk drives, printer, card reader — sitting up on a raised floor under bright fluorescent lights.\\n\\nThe language we used was an early version of Fortran. You had to type programs on punch cards, then stack them in the card reader and press a button to load the program into memory and run it. The result would ordinarily be to print something on the spectacularly loud printer.\\n\\nI was puzzled by the 1401. I couldn\\'t figure out what to do with it. And in retrospect there\\'s not much I could have done with it. The only form of input to programs was data stored on punched cards, and I didn\\'t have any data stored on punched cards. The only other option was to do things that didn\\'t rely on any input, like calculate approximations of pi, but I didn\\'t know enough math to do anything interesting of that type. So I\\'m not surprised I can\\'t remember any programs I wrote, because they can\\'t have done much. My clearest memory is of the moment I learned it was possible for programs not to terminate, when one of mine didn\\'t. On a machine without time-sharing, this was a social as well as a technical error, as the data center manager\\'s expression made clear.\\n\\nWith microcomputers, everything changed.',\n",
       "  \"I wanted to go back to RISD, but I was now broke and RISD was very expensive, so I decided to get a job for a year and then return to RISD the next fall. I got one at a company called Interleaf, which made software for creating documents. You mean like Microsoft Word? Exactly. That was how I learned that low end software tends to eat high end software. But Interleaf still had a few years to live yet. [5]\\n\\nInterleaf had done something pretty bold. Inspired by Emacs, they'd added a scripting language, and even made the scripting language a dialect of Lisp. Now they wanted a Lisp hacker to write things in it. This was the closest thing I've had to a normal job, and I hereby apologize to my boss and coworkers, because I was a bad employee. Their Lisp was the thinnest icing on a giant C cake, and since I didn't know C and didn't want to learn it, I never understood most of the software. Plus I was terribly irresponsible. This was back when a programming job meant showing up every day during certain working hours. That seemed unnatural to me, and on this point the rest of the world is coming around to my way of thinking, but at the time it caused a lot of friction. Toward the end of the year I spent much of my time surreptitiously working on On Lisp, which I had by this time gotten a contract to publish.\\n\\nThe good part was that I got paid huge amounts of money, especially by art student standards. In Florence, after paying my part of the rent, my budget for everything else had been $7 a day. Now I was getting paid more than 4 times that every hour, even when I was just sitting in a meeting. By living cheaply I not only managed to save enough to go back to RISD, but also paid off my college loans.\\n\\nI learned some useful things at Interleaf, though they were mostly about what not to do.\",\n",
       "  'The commonly used programming languages then were pretty primitive, and programmers\\' ideas correspondingly so. The default language at Cornell was a Pascal-like language called PL/I, and the situation was similar elsewhere. Learning Lisp expanded my concept of a program so fast that it was years before I started to have a sense of where the new limits were. This was more like it; this was what I had expected college to do. It wasn\\'t happening in a class, like it was supposed to, but that was ok. For the next couple years I was on a roll. I knew what I was going to do.\\n\\nFor my undergraduate thesis, I reverse-engineered SHRDLU. My God did I love working on that program. It was a pleasing bit of code, but what made it even more exciting was my belief — hard to imagine now, but not unique in 1985 — that it was already climbing the lower slopes of intelligence.\\n\\nI had gotten into a program at Cornell that didn\\'t make you choose a major. You could take whatever classes you liked, and choose whatever you liked to put on your degree. I of course chose \"Artificial Intelligence.\" When I got the actual physical diploma, I was dismayed to find that the quotes had been included, which made them read as scare-quotes. At the time this bothered me, but now it seems amusingly accurate, for reasons I was about to discover.\\n\\nI applied to 3 grad schools: MIT and Yale, which were renowned for AI at the time, and Harvard, which I\\'d visited because Rich Draves went there, and was also home to Bill Woods, who\\'d invented the type of parser I used in my SHRDLU clone. Only Harvard accepted me, so that was where I went.\\n\\nI don\\'t remember the moment it happened, or if there even was a specific moment, but during the first year of grad school I realized that AI, as practiced at the time, was a hoax. By which I mean the sort of AI in which a program that\\'s told \"the dog is sitting on the chair\" translates this into some formal representation and adds it to the list of things it knows.\\n\\nWhat these programs really showed was that there\\'s a subset of natural language that\\'s a formal language. But a very proper subset.',\n",
       "  \"RISD counted me as a transfer sophomore and said I had to do the foundation that summer. The foundation means the classes that everyone has to take in fundamental subjects like drawing, color, and design.\\n\\nToward the end of the summer I got a big surprise: a letter from the Accademia, which had been delayed because they'd sent it to Cambridge England instead of Cambridge Massachusetts, inviting me to take the entrance exam in Florence that fall. This was now only weeks away. My nice landlady let me leave my stuff in her attic. I had some money saved from consulting work I'd done in grad school; there was probably enough to last a year if I lived cheaply. Now all I had to do was learn Italian.\\n\\nOnly stranieri (foreigners) had to take this entrance exam. In retrospect it may well have been a way of excluding them, because there were so many stranieri attracted by the idea of studying art in Florence that the Italian students would otherwise have been outnumbered. I was in decent shape at painting and drawing from the RISD foundation that summer, but I still don't know how I managed to pass the written exam. I remember that I answered the essay question by writing about Cezanne, and that I cranked up the intellectual level as high as I could to make the most of my limited vocabulary. [2]\\n\\nI'm only up to age 25 and already there are such conspicuous patterns. Here I was, yet again about to attend some august institution in the hopes of learning about some prestigious subject, and yet again about to be disappointed. The students and faculty in the painting department at the Accademia were the nicest people you could imagine, but they had long since arrived at an arrangement whereby the students wouldn't require the faculty to teach anything, and in return the faculty wouldn't require the students to learn anything. And at the same time all involved would adhere outwardly to the conventions of a 19th century atelier. We actually had one of those little stoves, fed with kindling, that you see in 19th century studio paintings, and a nude model sitting as close to it as possible without getting burned. Except hardly anyone else painted her besides me.\",\n",
       "  'Which in turn implies that people who are independent-minded (i.e. less influenced by custom) will have an advantage in fields affected by rapid change (where customs are more likely to be obsolete).\\n\\nHere\\'s an interesting point, though: you can\\'t always predict which fields will be affected by rapid change. Obviously software and venture capital will be, but who would have predicted that essay writing would be?\\n\\n[13] Y Combinator was not the original name. At first we were called Cambridge Seed. But we didn\\'t want a regional name, in case someone copied us in Silicon Valley, so we renamed ourselves after one of the coolest tricks in the lambda calculus, the Y combinator.\\n\\nI picked orange as our color partly because it\\'s the warmest, and partly because no VC used it. In 2005 all the VCs used staid colors like maroon, navy blue, and forest green, because they were trying to appeal to LPs, not founders. The YC logo itself is an inside joke: the Viaweb logo had been a white V on a red circle, so I made the YC logo a white Y on an orange square.\\n\\n[14] YC did become a fund for a couple years starting in 2009, because it was getting so big I could no longer afford to fund it personally. But after Heroku got bought we had enough money to go back to being self-funded.\\n\\n[15] I\\'ve never liked the term \"deal flow,\" because it implies that the number of new startups at any given time is fixed. This is not only false, but it\\'s the purpose of YC to falsify it, by causing startups to be founded that would not otherwise have existed.\\n\\n[16] She reports that they were all different shapes and sizes, because there was a run on air conditioners and she had to get whatever she could, but that they were all heavier than she could carry now.\\n\\n[17] Another problem with HN was a bizarre edge case that occurs when you both write essays and run a forum. When you run a forum, you\\'re assumed to see if not every conversation, at least every conversation involving you. And when you write essays, people post highly imaginative misinterpretations of them on forums. Individually these two phenomena are tedious but bearable, but the combination is disastrous.'],\n",
       " 'uris': None,\n",
       " 'data': None}"
      ]
     },
     "execution_count": 54,
     "metadata": {},
     "output_type": "execute_result"
    }
   ],
   "source": [
    "chroma_collection.get()"
   ]
  },
  {
   "cell_type": "code",
   "execution_count": 55,
   "id": "1d8c1295-6f61-4158-98ad-0b227fa5edf9",
   "metadata": {},
   "outputs": [
    {
     "data": {
      "text/plain": [
       "'{\"id_\": \"05ffd0b1-1bcc-4fc1-adf6-d00ca14ba8a3\", \"embedding\": null, \"metadata\": {\"file_path\": \"data/paul_graham_essay.txt\", \"file_name\": \"paul_graham_essay.txt\", \"file_type\": \"text/plain\", \"file_size\": 75042, \"creation_date\": \"2024-04-16\", \"last_modified_date\": \"2024-04-15\", \"author\": \"paul_graham\"}, \"excluded_embed_metadata_keys\": [\"file_name\", \"file_type\", \"file_size\", \"creation_date\", \"last_modified_date\", \"last_accessed_date\"], \"excluded_llm_metadata_keys\": [\"file_name\", \"file_type\", \"file_size\", \"creation_date\", \"last_modified_date\", \"last_accessed_date\"], \"relationships\": {\"1\": {\"node_id\": \"data/paul_graham_essay.txt\", \"node_type\": \"4\", \"metadata\": {\"file_path\": \"data/paul_graham_essay.txt\", \"file_name\": \"paul_graham_essay.txt\", \"file_type\": \"text/plain\", \"file_size\": 75042, \"creation_date\": \"2024-04-16\", \"last_modified_date\": \"2024-04-15\", \"author\": \"paul_graham\"}, \"hash\": \"48f3b379e825cf288ae03eb7b6746d9f6703c698ab5b0ec7b83426fa8725d5dc\", \"class_name\": \"RelatedNodeInfo\"}, \"2\": {\"node_id\": \"29cebd28-0234-432c-aeea-74cc32639cf8\", \"node_type\": \"1\", \"metadata\": {\"file_path\": \"data/paul_graham_essay.txt\", \"file_name\": \"paul_graham_essay.txt\", \"file_type\": \"text/plain\", \"file_size\": 75042, \"creation_date\": \"2024-04-16\", \"last_modified_date\": \"2024-04-15\", \"author\": \"paul_graham\"}, \"hash\": \"a7a57c9c2aa7911f1441bb52debb00a7c1cc257db5ac72d4b5078cbbe2510092\", \"class_name\": \"RelatedNodeInfo\"}, \"3\": {\"node_id\": \"a65b346c-aba5-4960-8373-59a25c108e4b\", \"node_type\": \"1\", \"metadata\": {}, \"hash\": \"ccbe6b003e2d62b26a215b15063afd7751066207349741d87028eb0d3942248d\", \"class_name\": \"RelatedNodeInfo\"}}, \"text\": \"\", \"mimetype\": \"text/plain\", \"start_char_idx\": 44529, \"end_char_idx\": 46599, \"text_template\": \"{metadata_str}\\\\n\\\\n{content}\", \"metadata_template\": \"{key}: {value}\", \"metadata_seperator\": \"\\\\n\", \"class_name\": \"TextNode\"}'"
      ]
     },
     "execution_count": 55,
     "metadata": {},
     "output_type": "execute_result"
    }
   ],
   "source": [
    "chroma_collection.get()['metadatas'][0]['_node_content']"
   ]
  },
  {
   "cell_type": "code",
   "execution_count": 56,
   "id": "7c35463e-4ca3-4595-9b62-e85ffc2082e5",
   "metadata": {},
   "outputs": [],
   "source": [
    "ids = chroma_collection.get()['ids']"
   ]
  },
  {
   "cell_type": "code",
   "execution_count": 57,
   "id": "1b82eb65-4694-4411-9de4-f869b9bad712",
   "metadata": {
    "scrolled": true
   },
   "outputs": [
    {
     "name": "stdout",
     "output_type": "stream",
     "text": [
      "data/paul_graham_essay.txt\n",
      "data/paul_graham_essay.txt\n",
      "data/paul_graham_essay.txt\n",
      "data/paul_graham_essay.txt\n",
      "data/paul_graham_essay.txt\n",
      "data/paul_graham_essay.txt\n",
      "data/paul_graham_essay.txt\n",
      "data/paul_graham_essay.txt\n",
      "data/paul_graham_essay.txt\n",
      "data/paul_graham_essay.txt\n",
      "data/paul_graham_essay.txt\n",
      "data/paul_graham_essay.txt\n",
      "data/paul_graham_essay.txt\n",
      "data/paul_graham_essay.txt\n",
      "data/paul_graham_essay.txt\n",
      "data/paul_graham_essay.txt\n",
      "data/paul_graham_essay.txt\n",
      "data/paul_graham_essay.txt\n",
      "data/paul_graham_essay.txt\n",
      "data/paul_graham_essay.txt\n",
      "data/paul_graham_essay.txt\n",
      "data/paul_graham_essay.txt\n",
      "data/paul_graham_essay.txt\n",
      "data/paul_graham_essay.txt\n",
      "data/paul_graham_essay.txt\n",
      "data/paul_graham_essay.txt\n",
      "data/paul_graham_essay.txt\n",
      "data/paul_graham_essay.txt\n",
      "data/paul_graham_essay.txt\n",
      "data/paul_graham_essay.txt\n",
      "data/paul_graham_essay.txt\n",
      "data/paul_graham_essay.txt\n",
      "data/paul_graham_essay.txt\n",
      "data/paul_graham_essay.txt\n",
      "data/paul_graham_essay.txt\n",
      "data/paul_graham_essay.txt\n",
      "data/paul_graham_essay.txt\n",
      "data/paul_graham_essay.txt\n",
      "data/paul_graham_essay.txt\n",
      "data/paul_graham_essay.txt\n",
      "data/paul_graham_essay.txt\n",
      "data/paul_graham_essay.txt\n",
      "data/paul_graham_essay.txt\n",
      "data/paul_graham_essay.txt\n",
      "data/paul_graham_essay.txt\n",
      "data/paul_graham_essay.txt\n",
      "data/paul_graham_essay.txt\n"
     ]
    }
   ],
   "source": [
    "for i in ids:\n",
    "    data = json.loads(chroma_collection.get(i)['metadatas'][0]['_node_content'])\n",
    "    print(data['relationships']['1']['node_id'])"
   ]
  },
  {
   "cell_type": "code",
   "execution_count": 58,
   "id": "288e79bc-f164-41c1-b536-ea073f7001c0",
   "metadata": {},
   "outputs": [
    {
     "data": {
      "text/plain": [
       "dict_keys(['ids', 'embeddings', 'metadatas', 'documents', 'uris', 'data'])"
      ]
     },
     "execution_count": 58,
     "metadata": {},
     "output_type": "execute_result"
    }
   ],
   "source": [
    "chroma_collection.get(ids=ids[0], include=['embeddings']).keys()"
   ]
  },
  {
   "cell_type": "code",
   "execution_count": 59,
   "id": "2498e2ec-eb1a-48a2-bc14-1b1ada4825eb",
   "metadata": {
    "scrolled": true
   },
   "outputs": [
    {
     "data": {
      "text/plain": [
       "{'ids': ['05ffd0b1-1bcc-4fc1-adf6-d00ca14ba8a3'],\n",
       " 'embeddings': [[0.007000122219324112,\n",
       "   -0.00564673962071538,\n",
       "   -0.013396192342042923,\n",
       "   -0.014535480178892612,\n",
       "   0.05743847042322159,\n",
       "   -0.04547976702451706,\n",
       "   -0.01905440166592598,\n",
       "   0.05138265714049339,\n",
       "   -0.04358350485563278,\n",
       "   0.01619471237063408,\n",
       "   0.06575756520032883,\n",
       "   -0.028168706223368645,\n",
       "   -0.005077095702290535,\n",
       "   0.016255881637334824,\n",
       "   -0.0023263650946319103,\n",
       "   0.011171139776706696,\n",
       "   0.011675790883600712,\n",
       "   -0.03156363219022751,\n",
       "   -0.009167827665805817,\n",
       "   0.029376810416579247,\n",
       "   0.021378854289650917,\n",
       "   0.012042810209095478,\n",
       "   -0.012341013178229332,\n",
       "   0.036915991455316544,\n",
       "   -0.008754931390285492,\n",
       "   -0.029866168275475502,\n",
       "   -0.0173263531178236,\n",
       "   0.04636672884225845,\n",
       "   0.020644817501306534,\n",
       "   -0.03370457515120506,\n",
       "   -0.01897794008255005,\n",
       "   -0.016087664291262627,\n",
       "   -0.021195346489548683,\n",
       "   0.03844523802399635,\n",
       "   -0.019803732633590698,\n",
       "   0.022005846723914146,\n",
       "   0.0200789961963892,\n",
       "   -0.0255231112241745,\n",
       "   0.0764622837305069,\n",
       "   0.006732504349201918,\n",
       "   -0.0029629135970026255,\n",
       "   0.010024205781519413,\n",
       "   0.00823498796671629,\n",
       "   -0.010597673244774342,\n",
       "   0.004801831673830748,\n",
       "   -0.010314762592315674,\n",
       "   0.003280231961980462,\n",
       "   0.025614865124225616,\n",
       "   0.0268994327634573,\n",
       "   0.03419393301010132,\n",
       "   -0.05386003479361534,\n",
       "   0.0004979606601409614,\n",
       "   0.006078751757740974,\n",
       "   0.021745873615145683,\n",
       "   -0.027220573276281357,\n",
       "   -0.03180830925703049,\n",
       "   -0.09719885885715485,\n",
       "   -0.010987630113959312,\n",
       "   -0.06704213470220566,\n",
       "   0.008158525452017784,\n",
       "   0.07046764343976974,\n",
       "   -0.002504139905795455,\n",
       "   0.02058364823460579,\n",
       "   -0.007745629642158747,\n",
       "   -0.04606088250875473,\n",
       "   -0.0028749818447977304,\n",
       "   -0.05954882875084877,\n",
       "   -0.04003565385937691,\n",
       "   -0.0073977261781692505,\n",
       "   0.014344325289130211,\n",
       "   0.04297180473804474,\n",
       "   -0.0019631690811365843,\n",
       "   0.03501972556114197,\n",
       "   0.008020893670618534,\n",
       "   -0.047498371452093124,\n",
       "   -0.00834968127310276,\n",
       "   -0.02254108153283596,\n",
       "   0.03397984057664871,\n",
       "   0.0016649662284180522,\n",
       "   -0.02281634695827961,\n",
       "   0.010207715444266796,\n",
       "   -0.0029151246417313814,\n",
       "   -0.025813667103648186,\n",
       "   -0.004947110079228878,\n",
       "   -0.0442257858812809,\n",
       "   -0.02384094148874283,\n",
       "   0.006633103359490633,\n",
       "   -0.033612821251153946,\n",
       "   -0.055848054587841034,\n",
       "   -0.02211289294064045,\n",
       "   -0.023688016459345818,\n",
       "   0.02407032810151577,\n",
       "   0.014428433030843735,\n",
       "   0.008579068817198277,\n",
       "   0.013984952121973038,\n",
       "   0.00566585548222065,\n",
       "   -0.0200789961963892,\n",
       "   0.04517391696572304,\n",
       "   0.001860900898464024,\n",
       "   0.006797497160732746,\n",
       "   -0.015751231461763382,\n",
       "   0.012516875751316547,\n",
       "   -0.02853572554886341,\n",
       "   -0.022953977808356285,\n",
       "   0.056398581713438034,\n",
       "   0.010888229124248028,\n",
       "   0.011629913933575153,\n",
       "   0.0024047389160841703,\n",
       "   -0.001641071867197752,\n",
       "   -0.024315007030963898,\n",
       "   -0.12350188195705414,\n",
       "   0.016240589320659637,\n",
       "   -0.05220844969153404,\n",
       "   -0.0012023694580420852,\n",
       "   -0.007657697889953852,\n",
       "   0.011989286169409752,\n",
       "   -0.012279842980206013,\n",
       "   -0.025003166869282722,\n",
       "   0.009099012240767479,\n",
       "   0.002636037301272154,\n",
       "   0.009458384476602077,\n",
       "   0.031930651515722275,\n",
       "   -0.00742831127718091,\n",
       "   -0.032205913215875626,\n",
       "   0.010414163582026958,\n",
       "   -0.024513809010386467,\n",
       "   0.01792275905609131,\n",
       "   -0.00314068840816617,\n",
       "   0.017311060801148415,\n",
       "   -0.038873426616191864,\n",
       "   0.037497103214263916,\n",
       "   -0.01807568408548832,\n",
       "   0.04318590089678764,\n",
       "   -0.05535869672894478,\n",
       "   -0.00026092753978446126,\n",
       "   -0.009534846991300583,\n",
       "   0.016592316329479218,\n",
       "   -0.028046365827322006,\n",
       "   0.02983558364212513,\n",
       "   0.008854332379996777,\n",
       "   0.025828959420323372,\n",
       "   -0.002332099713385105,\n",
       "   -0.030049677938222885,\n",
       "   0.0043315882794559,\n",
       "   0.002534724771976471,\n",
       "   0.020629525184631348,\n",
       "   -0.0016362929018214345,\n",
       "   0.018794430419802666,\n",
       "   -0.013885551132261753,\n",
       "   0.0010848087258636951,\n",
       "   0.018457995727658272,\n",
       "   0.033031705766916275,\n",
       "   -0.0286580640822649,\n",
       "   0.04419520124793053,\n",
       "   0.015827693045139313,\n",
       "   -0.015208348631858826,\n",
       "   0.014512541703879833,\n",
       "   0.03841465339064598,\n",
       "   -0.027969904243946075,\n",
       "   -0.004878293722867966,\n",
       "   0.007305971346795559,\n",
       "   0.027495838701725006,\n",
       "   -0.05912064015865326,\n",
       "   0.0006059636361896992,\n",
       "   0.010024205781519413,\n",
       "   0.02411620505154133,\n",
       "   0.023580968379974365,\n",
       "   -0.03321521729230881,\n",
       "   -0.03627370670437813,\n",
       "   -0.009940097108483315,\n",
       "   -0.042084842920303345,\n",
       "   -0.018060391768813133,\n",
       "   -0.0016573200700804591,\n",
       "   0.03801704943180084,\n",
       "   0.0330011211335659,\n",
       "   -0.05285073071718216,\n",
       "   -0.03272585943341255,\n",
       "   -0.0046259681694209576,\n",
       "   -0.026960602030158043,\n",
       "   -0.01374027319252491,\n",
       "   -0.05132148787379265,\n",
       "   -0.006831905338913202,\n",
       "   -0.01387790497392416,\n",
       "   0.0083879129961133,\n",
       "   -0.009282521903514862,\n",
       "   -0.04122846573591232,\n",
       "   0.009970681741833687,\n",
       "   -0.011576389893889427,\n",
       "   0.004702430684119463,\n",
       "   -0.02908625267446041,\n",
       "   0.033031705766916275,\n",
       "   0.04254361614584923,\n",
       "   -0.0072409785352647305,\n",
       "   0.021699996665120125,\n",
       "   0.02693001739680767,\n",
       "   -0.026517121121287346,\n",
       "   0.02775580994784832,\n",
       "   0.030401404947042465,\n",
       "   -0.0132279759272933,\n",
       "   0.06471768021583557,\n",
       "   0.015101301483809948,\n",
       "   0.0442257858812809,\n",
       "   0.016913456842303276,\n",
       "   0.018962647765874863,\n",
       "   -0.021302392706274986,\n",
       "   0.015628891065716743,\n",
       "   0.017815712839365005,\n",
       "   0.014221984893083572,\n",
       "   -0.03979097306728363,\n",
       "   -0.030997810885310173,\n",
       "   0.0041824872605502605,\n",
       "   -0.04578561708331108,\n",
       "   0.004668022505939007,\n",
       "   0.027771102264523506,\n",
       "   -0.03462212160229683,\n",
       "   -0.08068300783634186,\n",
       "   0.0020893318578600883,\n",
       "   0.026165394112467766,\n",
       "   -0.016760533675551414,\n",
       "   0.08068300783634186,\n",
       "   -0.015965325757861137,\n",
       "   0.011706375516951084,\n",
       "   0.00499681057408452,\n",
       "   0.016836995258927345,\n",
       "   0.011125262826681137,\n",
       "   0.04248244687914848,\n",
       "   0.0390569344162941,\n",
       "   -0.05052627995610237,\n",
       "   0.0268994327634573,\n",
       "   -0.02845926210284233,\n",
       "   0.07640111446380615,\n",
       "   0.02850514091551304,\n",
       "   -0.047620709985494614,\n",
       "   -0.07903141528367996,\n",
       "   0.005887595936655998,\n",
       "   0.014848976396024227,\n",
       "   0.02023192122578621,\n",
       "   0.005092388018965721,\n",
       "   0.013717333786189556,\n",
       "   0.03073783963918686,\n",
       "   0.01244806032627821,\n",
       "   -0.06132275238633156,\n",
       "   0.0010140810627490282,\n",
       "   0.011278186924755573,\n",
       "   -0.04086144641041756,\n",
       "   0.04272712394595146,\n",
       "   -0.04370584338903427,\n",
       "   -0.04823241010308266,\n",
       "   -0.04789597541093826,\n",
       "   0.011339357122778893,\n",
       "   0.020247213542461395,\n",
       "   0.01129347924143076,\n",
       "   -0.007760921958833933,\n",
       "   0.036090198904275894,\n",
       "   -0.053493015468120575,\n",
       "   -0.0030259948689490557,\n",
       "   0.02344333752989769,\n",
       "   -0.03297053650021553,\n",
       "   0.009144889190793037,\n",
       "   -0.02144002541899681,\n",
       "   0.021195346489548683,\n",
       "   0.05358476936817169,\n",
       "   -0.012853310443460941,\n",
       "   0.03798646479845047,\n",
       "   0.0036759243812412024,\n",
       "   0.054318808019161224,\n",
       "   -0.07939843833446503,\n",
       "   0.01591944880783558,\n",
       "   0.015254226513206959,\n",
       "   -0.0537988655269146,\n",
       "   -0.03112015128135681,\n",
       "   0.018289778381586075,\n",
       "   -0.026608875021338463,\n",
       "   -0.007256270851939917,\n",
       "   -0.016561731696128845,\n",
       "   -0.03673248365521431,\n",
       "   -0.002290045376867056,\n",
       "   0.030569622293114662,\n",
       "   -0.018947353586554527,\n",
       "   0.008143233135342598,\n",
       "   -0.06300492584705353,\n",
       "   0.02963678166270256,\n",
       "   -0.015674768015742302,\n",
       "   0.0229386854916811,\n",
       "   0.014696051366627216,\n",
       "   0.044470466673374176,\n",
       "   0.018962647765874863,\n",
       "   0.03211415931582451,\n",
       "   -0.0122110266238451,\n",
       "   -0.0006336811929941177,\n",
       "   -0.00823498796671629,\n",
       "   -0.039454538375139236,\n",
       "   0.00966483261436224,\n",
       "   0.004744485020637512,\n",
       "   -0.003169361734762788,\n",
       "   -0.03731359541416168,\n",
       "   0.004721546079963446,\n",
       "   -0.008846686221659184,\n",
       "   -0.017341647297143936,\n",
       "   -0.011675790883600712,\n",
       "   0.047223106026649475,\n",
       "   -0.013579702004790306,\n",
       "   0.021547071635723114,\n",
       "   0.062270887196063995,\n",
       "   0.006556640844792128,\n",
       "   0.0025691327173262835,\n",
       "   0.04948639124631882,\n",
       "   -0.02183762937784195,\n",
       "   -0.025309016928076744,\n",
       "   -0.008089710026979446,\n",
       "   -0.000651840993668884,\n",
       "   0.045296259224414825,\n",
       "   -0.021180052310228348,\n",
       "   -0.031380120664834976,\n",
       "   -0.03676306828856468,\n",
       "   -0.004377465695142746,\n",
       "   -0.008609653450548649,\n",
       "   0.004595383536070585,\n",
       "   0.01932966522872448,\n",
       "   -0.04914995655417442,\n",
       "   -0.006824259180575609,\n",
       "   -0.02140944078564644,\n",
       "   0.024758487939834595,\n",
       "   0.04911937192082405,\n",
       "   0.011071738786995411,\n",
       "   0.017463985830545425,\n",
       "   0.033459898084402084,\n",
       "   0.03511148318648338,\n",
       "   -0.011851654388010502,\n",
       "   -0.03116602823138237,\n",
       "   0.03440802916884422,\n",
       "   -0.021608242765069008,\n",
       "   -0.034132763743400574,\n",
       "   0.060711055994033813,\n",
       "   -0.009144889190793037,\n",
       "   -0.02928505465388298,\n",
       "   0.009404861368238926,\n",
       "   0.03156363219022751,\n",
       "   0.04936405271291733,\n",
       "   -0.008961379528045654,\n",
       "   -0.0602828674018383,\n",
       "   -0.038047634065151215,\n",
       "   -0.031655386090278625,\n",
       "   0.013097989372909069,\n",
       "   0.02685355395078659,\n",
       "   0.03199182078242302,\n",
       "   0.032083574682474136,\n",
       "   0.009710710495710373,\n",
       "   -0.0044883363880217075,\n",
       "   0.03627370670437813,\n",
       "   0.021868214011192322,\n",
       "   0.033612821251153946,\n",
       "   -0.003972215577960014,\n",
       "   0.01717342995107174,\n",
       "   -0.031058980152010918,\n",
       "   -0.0005873259506188333,\n",
       "   -0.03026377223432064,\n",
       "   -0.023397458717226982,\n",
       "   0.018809722736477852,\n",
       "   0.02329041250050068,\n",
       "   -0.01513188611716032,\n",
       "   0.03786412253975868,\n",
       "   0.006537525448948145,\n",
       "   0.06893839687108994,\n",
       "   -0.03758886083960533,\n",
       "   0.03716067224740982,\n",
       "   -0.0061552138067781925,\n",
       "   -0.003618577728047967,\n",
       "   -0.039179276674985886,\n",
       "   0.0083879129961133,\n",
       "   0.020522477105259895,\n",
       "   -0.0033624290954321623,\n",
       "   0.029101546853780746,\n",
       "   -0.02078245021402836,\n",
       "   -0.031028395518660545,\n",
       "   0.04523508995771408,\n",
       "   -0.010926460847258568,\n",
       "   -0.008632591925561428,\n",
       "   -0.025263139978051186,\n",
       "   0.04982282593846321,\n",
       "   0.004209248814731836,\n",
       "   0.03364340588450432,\n",
       "   -0.006701919250190258,\n",
       "   -0.04217659682035446,\n",
       "   0.011484635062515736,\n",
       "   0.006633103359490633,\n",
       "   0.012509229592978954,\n",
       "   -0.025293724611401558,\n",
       "   -0.07786919176578522,\n",
       "   0.0038498761132359505,\n",
       "   -0.008816101588308811,\n",
       "   -0.030982518568634987,\n",
       "   -0.023122195154428482,\n",
       "   0.027587592601776123,\n",
       "   0.0215623639523983,\n",
       "   -0.0059984661638736725,\n",
       "   0.014917791821062565,\n",
       "   0.037344180047512054,\n",
       "   0.015690060332417488,\n",
       "   -0.0014269774546846747,\n",
       "   0.017769835889339447,\n",
       "   0.016989920288324356,\n",
       "   -0.02003311924636364,\n",
       "   0.016867579892277718,\n",
       "   0.033459898084402084,\n",
       "   0.011882239021360874,\n",
       "   -0.01240982860326767,\n",
       "   0.0050809187814593315,\n",
       "   -0.05233078822493553,\n",
       "   0.00789855420589447,\n",
       "   0.014520187862217426,\n",
       "   -0.01572064682841301,\n",
       "   0.0385064072906971,\n",
       "   -0.02770993299782276,\n",
       "   -0.04801831394433975,\n",
       "   -0.055022262036800385,\n",
       "   0.03364340588450432,\n",
       "   -0.018748551607131958,\n",
       "   0.022326987236738205,\n",
       "   0.025798374786973,\n",
       "   -0.029239177703857422,\n",
       "   -0.025660743936896324,\n",
       "   0.04199308902025223,\n",
       "   0.018595628440380096,\n",
       "   0.008296158164739609,\n",
       "   0.022174062207341194,\n",
       "   0.022678714245557785,\n",
       "   -0.053645938634872437,\n",
       "   0.016332345083355904,\n",
       "   -0.03673248365521431,\n",
       "   -0.04759012535214424,\n",
       "   0.017463985830545425,\n",
       "   -0.030401404947042465,\n",
       "   -0.016867579892277718,\n",
       "   -0.014000244438648224,\n",
       "   -0.023229243233799934,\n",
       "   0.029040375724434853,\n",
       "   -0.004763600416481495,\n",
       "   0.01550655160099268,\n",
       "   -0.028994498774409294,\n",
       "   -0.015277164988219738,\n",
       "   0.005642916541546583,\n",
       "   -0.09224410355091095,\n",
       "   0.006973360665142536,\n",
       "   -0.10496742278337479,\n",
       "   0.006277553737163544,\n",
       "   0.015475966967642307,\n",
       "   -0.03352106735110283,\n",
       "   -0.048630014061927795,\n",
       "   -0.026761800050735474,\n",
       "   -0.007305971346795559,\n",
       "   -0.08973614126443863,\n",
       "   0.02595129981637001,\n",
       "   -0.016164127737283707,\n",
       "   -0.02273988351225853,\n",
       "   -0.012295135296881199,\n",
       "   0.034010425209999084,\n",
       "   -0.01301388069987297,\n",
       "   0.009313106536865234,\n",
       "   -0.010238300077617168,\n",
       "   -0.03257293254137039,\n",
       "   0.005876126699149609,\n",
       "   -0.06349427998065948,\n",
       "   0.012807432562112808,\n",
       "   0.017005212604999542,\n",
       "   0.04936405271291733,\n",
       "   0.0210118368268013,\n",
       "   0.003689305391162634,\n",
       "   0.03505031019449234,\n",
       "   -0.018840307369828224,\n",
       "   0.015223640948534012,\n",
       "   -0.008494960144162178,\n",
       "   0.026333611458539963,\n",
       "   -0.030829593539237976,\n",
       "   -0.05413530021905899,\n",
       "   0.032756444066762924,\n",
       "   -0.03397984057664871,\n",
       "   0.017815712839365005,\n",
       "   -0.001271185465157032,\n",
       "   -0.0676538273692131,\n",
       "   0.009726002812385559,\n",
       "   -0.04089203104376793,\n",
       "   0.032787028700113297,\n",
       "   0.021776458248496056,\n",
       "   -0.007936784997582436,\n",
       "   -0.006556640844792128,\n",
       "   -0.03242000937461853,\n",
       "   0.018045099452137947,\n",
       "   0.00036486846511252224,\n",
       "   0.0093513373285532,\n",
       "   -0.015674768015742302,\n",
       "   0.006373131647706032,\n",
       "   -0.0019106013933196664,\n",
       "   -0.01920732669532299,\n",
       "   0.008510252460837364,\n",
       "   -0.018473288044333458,\n",
       "   1.417240400769515e-05,\n",
       "   -0.0613839216530323,\n",
       "   0.0036854820791631937,\n",
       "   0.00789855420589447,\n",
       "   0.007271563168615103,\n",
       "   0.007286855950951576,\n",
       "   -0.05288131535053253,\n",
       "   0.013495593331754208,\n",
       "   0.030630791559815407,\n",
       "   0.010062436573207378,\n",
       "   0.001976550091058016,\n",
       "   -0.0029093900229781866,\n",
       "   -0.023106902837753296,\n",
       "   0.005088564939796925,\n",
       "   -0.008739639073610306,\n",
       "   0.003069960745051503,\n",
       "   0.007435957435518503,\n",
       "   -0.003494326490908861,\n",
       "   0.007604174315929413,\n",
       "   -0.0158429853618145,\n",
       "   -0.02485024370253086,\n",
       "   0.039271030575037,\n",
       "   0.003956923261284828,\n",
       "   -0.007558296900242567,\n",
       "   -0.030217895284295082,\n",
       "   -0.0013916136231273413,\n",
       "   -0.020553061738610268,\n",
       "   -0.015254226513206959,\n",
       "   -0.003280231961980462,\n",
       "   0.03786412253975868,\n",
       "   -0.026761800050735474,\n",
       "   0.05707145109772682,\n",
       "   -0.029269762337207794,\n",
       "   -0.001796863740310073,\n",
       "   0.05352360010147095,\n",
       "   -0.02540077082812786,\n",
       "   0.008892564103007317,\n",
       "   -0.016684070229530334,\n",
       "   -0.04878293722867966,\n",
       "   0.03801704943180084,\n",
       "   -0.024559685960412025,\n",
       "   -0.02559957280755043,\n",
       "   -0.01276155561208725,\n",
       "   -0.046244390308856964,\n",
       "   -0.02905566804111004,\n",
       "   0.0025481057818979025,\n",
       "   0.0414731428027153,\n",
       "   0.046947844326496124,\n",
       "   -0.024253837764263153,\n",
       "   0.005597039125859737,\n",
       "   0.027235865592956543,\n",
       "   -0.01885559968650341,\n",
       "   -0.041809577494859695,\n",
       "   0.002391357906162739,\n",
       "   0.025416063144803047,\n",
       "   -0.017433401197195053,\n",
       "   0.04021916165947914,\n",
       "   -0.007852676324546337,\n",
       "   -0.006633103359490633,\n",
       "   0.012287489138543606,\n",
       "   0.0023894463665783405,\n",
       "   0.030324943363666534,\n",
       "   0.005719379056245089,\n",
       "   0.0170510895550251,\n",
       "   0.025660743936896324,\n",
       "   -0.01697462797164917,\n",
       "   0.018473288044333458,\n",
       "   0.022785760462284088,\n",
       "   0.012417475692927837,\n",
       "   0.04456222057342529,\n",
       "   -0.0010685604065656662,\n",
       "   0.00010167094296775758,\n",
       "   0.011492281220853329,\n",
       "   -0.008487313985824585,\n",
       "   0.01983431726694107,\n",
       "   -0.005799664184451103,\n",
       "   -0.014206692576408386,\n",
       "   -0.01905440166592598,\n",
       "   0.002307249465957284,\n",
       "   -0.01772395707666874,\n",
       "   0.013648518361151218,\n",
       "   -0.005115326959639788,\n",
       "   -0.008770224638283253,\n",
       "   -0.01669936254620552,\n",
       "   -0.01387790497392416,\n",
       "   -0.009121950715780258,\n",
       "   -0.041503727436065674,\n",
       "   -0.0034962380304932594,\n",
       "   -0.020323675125837326,\n",
       "   0.03251176327466965,\n",
       "   0.017769835889339447,\n",
       "   0.012753909453749657,\n",
       "   0.015613598749041557,\n",
       "   0.015965325757861137,\n",
       "   0.010482979007065296,\n",
       "   -0.001900087809190154,\n",
       "   -0.0341021791100502,\n",
       "   0.021302392706274986,\n",
       "   0.009588371030986309,\n",
       "   0.03419393301010132,\n",
       "   0.005000633653253317,\n",
       "   0.0017098878743126988,\n",
       "   -0.005719379056245089,\n",
       "   -0.006545171607285738,\n",
       "   0.040555596351623535,\n",
       "   0.021669412031769753,\n",
       "   -0.022770468145608902,\n",
       "   -0.030019093304872513,\n",
       "   -0.00872434675693512,\n",
       "   0.022479912266135216,\n",
       "   -0.02010958082973957,\n",
       "   -0.008227341808378696,\n",
       "   0.014206692576408386,\n",
       "   -0.05450231581926346,\n",
       "   0.018335655331611633,\n",
       "   -0.0024773781187832355,\n",
       "   0.013694395311176777,\n",
       "   -0.006231676321476698,\n",
       "   -0.054441146552562714,\n",
       "   0.01081941369920969,\n",
       "   -0.0036472510546445847,\n",
       "   -0.02457497827708721,\n",
       "   0.01622529700398445,\n",
       "   0.00020250558736734092,\n",
       "   -0.008716700598597527,\n",
       "   0.017265183851122856,\n",
       "   0.033306971192359924,\n",
       "   0.02234227955341339,\n",
       "   -0.012845664285123348,\n",
       "   -0.008907856419682503,\n",
       "   0.04401169344782829,\n",
       "   -0.02344333752989769,\n",
       "   0.006311961915344,\n",
       "   0.03578434884548187,\n",
       "   0.027419375255703926,\n",
       "   0.009618955664336681,\n",
       "   0.01572064682841301,\n",
       "   0.011324064806103706,\n",
       "   -0.005375298671424389,\n",
       "   -0.006663687992841005,\n",
       "   0.024559685960412025,\n",
       "   -0.0409226156771183,\n",
       "   0.018870892003178596,\n",
       "   -0.007630936335772276,\n",
       "   0.02301514893770218,\n",
       "   -0.015154825523495674,\n",
       "   0.006487824954092503,\n",
       "   0.004335411824285984,\n",
       "   -0.01792275905609131,\n",
       "   -0.04544918239116669,\n",
       "   -0.0028061659540981054,\n",
       "   0.029529735445976257,\n",
       "   0.018243901431560516,\n",
       "   -0.03349048271775246,\n",
       "   -0.04645848646759987,\n",
       "   -0.014795452356338501,\n",
       "   0.04135080426931381,\n",
       "   0.0005099078407511115,\n",
       "   0.03159421682357788,\n",
       "   -0.03018731065094471,\n",
       "   -0.0034331565257161856,\n",
       "   -0.039729803800582886,\n",
       "   -0.006526056211441755,\n",
       "   -0.017509862780570984,\n",
       "   0.026547705754637718,\n",
       "   -0.00453803688287735,\n",
       "   -0.04156490042805672,\n",
       "   0.011117616668343544,\n",
       "   0.0015588748501613736,\n",
       "   0.011736961081624031,\n",
       "   0.0056238011457026005,\n",
       "   0.023810354992747307,\n",
       "   -0.010544149205088615,\n",
       "   0.03404100984334946,\n",
       "   -0.07511655241250992,\n",
       "   0.019176742061972618,\n",
       "   0.02121063880622387,\n",
       "   0.015292457304894924,\n",
       "   0.009863634593784809,\n",
       "   0.0023359227925539017,\n",
       "   -0.007378610782325268,\n",
       "   -0.03131895139813423,\n",
       "   0.02191409096121788,\n",
       "   0.048354748636484146,\n",
       "   0.005077095702290535,\n",
       "   -0.008120294660329819,\n",
       "   -0.017158137634396553,\n",
       "   -0.004729192238301039,\n",
       "   -0.017234599217772484,\n",
       "   -0.001758632599376142,\n",
       "   -0.010100668296217918,\n",
       "   -0.01484132930636406,\n",
       "   0.051657918840646744,\n",
       "   -0.05493050441145897,\n",
       "   -0.0028673356864601374,\n",
       "   0.007688282988965511,\n",
       "   0.02426913008093834,\n",
       "   -0.04437870904803276,\n",
       "   0.005501461680978537,\n",
       "   -0.02512550726532936,\n",
       "   -0.03474446386098862,\n",
       "   -0.025737205520272255,\n",
       "   -0.028046365827322006,\n",
       "   -0.06899956613779068,\n",
       "   0.012570399791002274,\n",
       "   -0.0011975906090810895,\n",
       "   -0.0203542597591877,\n",
       "   0.01436726376414299,\n",
       "   -0.04462338984012604,\n",
       "   -0.02790873497724533,\n",
       "   0.02030838280916214,\n",
       "   0.00803618598729372,\n",
       "   -0.002896009013056755,\n",
       "   -0.01081941369920969,\n",
       "   -0.01070472039282322,\n",
       "   -0.026547705754637718,\n",
       "   -0.00017825271061155945,\n",
       "   0.022846931591629982,\n",
       "   -0.02273988351225853,\n",
       "   -0.016362929716706276,\n",
       "   0.021394148468971252,\n",
       "   -0.005038864444941282,\n",
       "   -0.0075544738210737705,\n",
       "   -0.011744607239961624,\n",
       "   0.0028386623598635197,\n",
       "   0.009794819168746471,\n",
       "   -0.03768061473965645,\n",
       "   -0.037344180047512054,\n",
       "   -0.006426655221730471,\n",
       "   -0.028092244639992714,\n",
       "   -0.03997448459267616,\n",
       "   -0.01035299338400364,\n",
       "   -0.0021218284964561462,\n",
       "   0.023810354992747307,\n",
       "   -0.0017280476167798042,\n",
       "   -0.008655530400574207,\n",
       "   0.041259050369262695,\n",
       "   -0.014512541703879833,\n",
       "   0.029652073979377747,\n",
       "   0.01591944880783558,\n",
       "   -0.007818268612027168,\n",
       "   0.0036147546488791704,\n",
       "   0.02211289294064045,\n",
       "   0.022479912266135216,\n",
       "   0.006067282520234585,\n",
       "   -0.057254958897829056,\n",
       "   -0.0196355152875185,\n",
       "   0.03572317957878113,\n",
       "   0.016867579892277718,\n",
       "   -0.02685355395078659,\n",
       "   -0.01862621307373047,\n",
       "   0.021317685022950172,\n",
       "   0.0018637682078406215,\n",
       "   0.032756444066762924,\n",
       "   -0.0187026746571064,\n",
       "   0.016806410625576973,\n",
       "   0.0027105880435556173,\n",
       "   0.02818399854004383,\n",
       "   -0.004572444595396519,\n",
       "   -0.04156490042805672,\n",
       "   -0.019895486533641815,\n",
       "   0.005187965929508209,\n",
       "   -0.014688405208289623,\n",
       "   0.051260314881801605,\n",
       "   -0.007787683978676796,\n",
       "   0.03688540682196617,\n",
       "   -0.01775454357266426,\n",
       "   0.02085891179740429,\n",
       "   0.023259827867150307,\n",
       "   0.010834706015884876,\n",
       "   0.010926460847258568,\n",
       "   -0.005857011303305626,\n",
       "   0.00035292122629471123,\n",
       "   0.017586326226592064,\n",
       "   0.01897794008255005,\n",
       "   0.014795452356338501,\n",
       "   0.030676668509840965,\n",
       "   -0.0035975505597889423,\n",
       "   0.04979224130511284,\n",
       "   -0.011163493618369102,\n",
       "   0.0009060780867002904,\n",
       "   -0.02116475999355316,\n",
       "   -0.015338334254920483,\n",
       "   -0.02133297733962536,\n",
       "   0.005344713572412729,\n",
       "   -0.023061025887727737,\n",
       "   -0.03336814045906067,\n",
       "   0.006831905338913202,\n",
       "   -0.007145400624722242,\n",
       "   -0.01244806032627821,\n",
       "   0.019910778850317,\n",
       "   -0.038475822657346725,\n",
       "   0.018809722736477852,\n",
       "   -0.0650235265493393,\n",
       "   -0.004209248814731836,\n",
       "   -0.013480301015079021,\n",
       "   -0.017815712839365005,\n",
       "   -0.02179175242781639,\n",
       "   -0.011538159102201462,\n",
       "   0.006162860430777073,\n",
       "   -0.01669936254620552,\n",
       "   -0.12613219022750854,\n",
       "   -0.022174062207341194,\n",
       "   0.033184632658958435,\n",
       "   0.03535616025328636,\n",
       "   0.012019871734082699,\n",
       "   -0.00858671497553587,\n",
       "   0.047620709985494614,\n",
       "   0.006273730657994747,\n",
       "   -0.005566454492509365,\n",
       "   -0.014948376454412937,\n",
       "   0.05370710790157318,\n",
       "   -0.03281761333346367,\n",
       "   0.009603663347661495,\n",
       "   0.007122462149709463,\n",
       "   -0.01697462797164917,\n",
       "   0.009121950715780258,\n",
       "   0.0011947231832891703,\n",
       "   -0.02140944078564644,\n",
       "   -0.023152779787778854,\n",
       "   0.02532430924475193,\n",
       "   -0.014627235010266304,\n",
       "   0.0026627990882843733,\n",
       "   0.005210904870182276,\n",
       "   0.0061552138067781925,\n",
       "   0.018473288044333458,\n",
       "   0.011981640011072159,\n",
       "   -0.01772395707666874,\n",
       "   0.013694395311176777,\n",
       "   -0.013625578954815865,\n",
       "   -0.01835094951093197,\n",
       "   0.01792275905609131,\n",
       "   -0.016393514350056648,\n",
       "   0.008135586977005005,\n",
       "   -0.026593582704663277,\n",
       "   0.018213316798210144,\n",
       "   -0.022326987236738205,\n",
       "   -0.012860956601798534,\n",
       "   0.016944043338298798,\n",
       "   0.015047777444124222,\n",
       "   -0.025828959420323372,\n",
       "   -0.0023263650946319103,\n",
       "   -0.017081674188375473,\n",
       "   -0.016791118308901787,\n",
       "   -0.017081674188375473,\n",
       "   0.03599844500422478,\n",
       "   -0.05178026109933853,\n",
       "   -0.0020931551698595285,\n",
       "   0.03199182078242302,\n",
       "   0.026272442191839218,\n",
       "   0.0013476477470248938,\n",
       "   0.0022728415206074715,\n",
       "   -0.0024754665791988373,\n",
       "   -0.04575503244996071,\n",
       "   -0.011698729358613491,\n",
       "   0.010406517423689365,\n",
       "   -0.004128963220864534,\n",
       "   -0.013465008698403835,\n",
       "   -0.011805776506662369,\n",
       "   0.008395559154450893,\n",
       "   -0.009381922893226147,\n",
       "   -0.019222619011998177,\n",
       "   -0.02822987549006939,\n",
       "   -0.009106658399105072,\n",
       "   -0.010827059857547283,\n",
       "   -0.01127054076641798,\n",
       "   0.006193445064127445,\n",
       "   0.015261872671544552,\n",
       "   -0.02348921447992325,\n",
       "   -0.03349048271775246,\n",
       "   -0.02998850867152214,\n",
       "   0.02038484625518322,\n",
       "   0.0057117328979074955,\n",
       "   0.056551504880189896,\n",
       "   0.005727025214582682,\n",
       "   0.04327765479683876,\n",
       "   -0.0286580640822649,\n",
       "   -0.017066381871700287,\n",
       "   0.01968139223754406,\n",
       "   -0.03404100984334946,\n",
       "   -0.020323675125837326,\n",
       "   0.007523888722062111,\n",
       "   -0.011629913933575153,\n",
       "   0.013266206718981266,\n",
       "   -0.010322408750653267,\n",
       "   0.003911045845597982,\n",
       "   -0.004419520031660795,\n",
       "   0.024437347427010536,\n",
       "   -0.013923781923949718,\n",
       "   -0.012807432562112808,\n",
       "   0.04232951998710632,\n",
       "   0.029269762337207794,\n",
       "   -0.014757221564650536,\n",
       "   -0.004583913832902908,\n",
       "   -0.04229893535375595,\n",
       "   -0.012371597811579704,\n",
       "   -0.013755565509200096,\n",
       "   -0.019436713308095932,\n",
       "   0.0018714144825935364,\n",
       "   0.006503117270767689,\n",
       "   -0.012975649908185005,\n",
       "   0.01399259828031063,\n",
       "   0.016944043338298798,\n",
       "   -0.03593727573752403,\n",
       "   -0.012233966030180454,\n",
       "   -0.01416846178472042,\n",
       "   0.05187201499938965,\n",
       "   0.054594073444604874,\n",
       "   -0.0052300202660262585,\n",
       "   -0.02850514091551304,\n",
       "   0.008533190935850143,\n",
       "   -0.033459898084402084,\n",
       "   0.015965325757861137,\n",
       "   0.03242000937461853,\n",
       "   0.023137487471103668,\n",
       "   0.00966483261436224,\n",
       "   0.005482345819473267,\n",
       "   0.023198656737804413,\n",
       "   -0.009374275803565979,\n",
       "   0.02537018619477749,\n",
       "   0.007225686218589544,\n",
       "   0.005684970878064632,\n",
       "   -0.018488580361008644,\n",
       "   -0.015162471681833267,\n",
       "   0.011476988904178143,\n",
       "   -0.0024276776239275932,\n",
       "   -0.01818273216485977,\n",
       "   -0.02316807210445404,\n",
       "   0.01425257045775652,\n",
       "   0.02304573357105255,\n",
       "   -0.05453290417790413,\n",
       "   0.0007067982805892825,\n",
       "   0.0132279759272933,\n",
       "   0.02238815650343895,\n",
       "   0.019390836358070374,\n",
       "   -0.04391993582248688,\n",
       "   -0.030324943363666534,\n",
       "   0.018121561035513878,\n",
       "   0.01975785382091999,\n",
       "   -0.022801052778959274,\n",
       "   -0.004128963220864534,\n",
       "   -0.006277553737163544,\n",
       "   0.003475210862234235,\n",
       "   0.029957924038171768,\n",
       "   -0.04349174723029137,\n",
       "   -0.004809477832168341,\n",
       "   -0.042237766087055206,\n",
       "   -0.012860956601798534,\n",
       "   0.0026952954940497875,\n",
       "   0.03853699192404747,\n",
       "   -0.010651196353137493,\n",
       "   0.0341021791100502,\n",
       "   -0.043063558638095856,\n",
       "   0.01044474821537733,\n",
       "   -0.014160815626382828,\n",
       "   -0.03511148318648338,\n",
       "   -0.0312424898147583,\n",
       "   0.00035124862915836275,\n",
       "   -0.0210118368268013,\n",
       "   -0.025905422866344452,\n",
       "   0.0006112203700467944,\n",
       "   0.010368285700678825,\n",
       "   0.029545027762651443,\n",
       "   -0.0009844519663602114,\n",
       "   -0.026241855695843697,\n",
       "   0.011813423596322536,\n",
       "   -0.04578561708331108,\n",
       "   0.018610920757055283,\n",
       "   -0.03599844500422478,\n",
       "   -0.0066369264386594296,\n",
       "   -0.019513174891471863,\n",
       "   0.008105002343654633,\n",
       "   -0.02842867746949196,\n",
       "   0.01862621307373047,\n",
       "   0.011568743735551834,\n",
       "   0.04021916165947914,\n",
       "   -0.004301003646105528,\n",
       "   0.013243268243968487,\n",
       "   0.010421809740364552,\n",
       "   0.03349048271775246,\n",
       "   0.03657955676317215,\n",
       "   -0.006659864913672209,\n",
       "   0.0005486169247888029,\n",
       "   -0.052514299750328064,\n",
       "   0.030722547322511673,\n",
       "   0.005038864444941282,\n",
       "   -0.03948512300848961,\n",
       "   0.013082697056233883,\n",
       "   -0.02088949643075466,\n",
       "   -0.009833049960434437,\n",
       "   -0.00870140828192234,\n",
       "   0.05220844969153404,\n",
       "   0.022051723673939705,\n",
       "   0.009771879762411118,\n",
       "   0.028092244639992714,\n",
       "   -0.041931916028261185,\n",
       "   -0.026639459654688835,\n",
       "   0.04089203104376793,\n",
       "   -0.011102324351668358,\n",
       "   0.009519554674625397,\n",
       "   0.008319096639752388,\n",
       "   -0.027297036722302437,\n",
       "   0.008059125393629074,\n",
       "   0.017142845317721367,\n",
       "   ...]],\n",
       " 'metadatas': [{'_node_content': '{\"id_\": \"05ffd0b1-1bcc-4fc1-adf6-d00ca14ba8a3\", \"embedding\": null, \"metadata\": {\"file_path\": \"data/paul_graham_essay.txt\", \"file_name\": \"paul_graham_essay.txt\", \"file_type\": \"text/plain\", \"file_size\": 75042, \"creation_date\": \"2024-04-16\", \"last_modified_date\": \"2024-04-15\", \"author\": \"paul_graham\"}, \"excluded_embed_metadata_keys\": [\"file_name\", \"file_type\", \"file_size\", \"creation_date\", \"last_modified_date\", \"last_accessed_date\"], \"excluded_llm_metadata_keys\": [\"file_name\", \"file_type\", \"file_size\", \"creation_date\", \"last_modified_date\", \"last_accessed_date\"], \"relationships\": {\"1\": {\"node_id\": \"data/paul_graham_essay.txt\", \"node_type\": \"4\", \"metadata\": {\"file_path\": \"data/paul_graham_essay.txt\", \"file_name\": \"paul_graham_essay.txt\", \"file_type\": \"text/plain\", \"file_size\": 75042, \"creation_date\": \"2024-04-16\", \"last_modified_date\": \"2024-04-15\", \"author\": \"paul_graham\"}, \"hash\": \"48f3b379e825cf288ae03eb7b6746d9f6703c698ab5b0ec7b83426fa8725d5dc\", \"class_name\": \"RelatedNodeInfo\"}, \"2\": {\"node_id\": \"29cebd28-0234-432c-aeea-74cc32639cf8\", \"node_type\": \"1\", \"metadata\": {\"file_path\": \"data/paul_graham_essay.txt\", \"file_name\": \"paul_graham_essay.txt\", \"file_type\": \"text/plain\", \"file_size\": 75042, \"creation_date\": \"2024-04-16\", \"last_modified_date\": \"2024-04-15\", \"author\": \"paul_graham\"}, \"hash\": \"a7a57c9c2aa7911f1441bb52debb00a7c1cc257db5ac72d4b5078cbbe2510092\", \"class_name\": \"RelatedNodeInfo\"}, \"3\": {\"node_id\": \"a65b346c-aba5-4960-8373-59a25c108e4b\", \"node_type\": \"1\", \"metadata\": {}, \"hash\": \"ccbe6b003e2d62b26a215b15063afd7751066207349741d87028eb0d3942248d\", \"class_name\": \"RelatedNodeInfo\"}}, \"text\": \"\", \"mimetype\": \"text/plain\", \"start_char_idx\": 44529, \"end_char_idx\": 46599, \"text_template\": \"{metadata_str}\\\\n\\\\n{content}\", \"metadata_template\": \"{key}: {value}\", \"metadata_seperator\": \"\\\\n\", \"class_name\": \"TextNode\"}',\n",
       "   '_node_type': 'TextNode',\n",
       "   'author': 'paul_graham',\n",
       "   'creation_date': '2024-04-16',\n",
       "   'doc_id': 'data/paul_graham_essay.txt',\n",
       "   'document_id': 'data/paul_graham_essay.txt',\n",
       "   'file_name': 'paul_graham_essay.txt',\n",
       "   'file_path': 'data/paul_graham_essay.txt',\n",
       "   'file_size': 75042,\n",
       "   'file_type': 'text/plain',\n",
       "   'last_modified_date': '2024-04-15',\n",
       "   'ref_doc_id': 'data/paul_graham_essay.txt'}],\n",
       " 'documents': [\"Now they could be, and I was going to write them. [12]\\n\\nI've worked on several different things, but to the extent there was a turning point where I figured out what to work on, it was when I started publishing essays online. From then on I knew that whatever else I did, I'd always write essays too.\\n\\nI knew that online essays would be a marginal medium at first. Socially they'd seem more like rants posted by nutjobs on their GeoCities sites than the genteel and beautifully typeset compositions published in The New Yorker. But by this point I knew enough to find that encouraging instead of discouraging.\\n\\nOne of the most conspicuous patterns I've noticed in my life is how well it has worked, for me at least, to work on things that weren't prestigious. Still life has always been the least prestigious form of painting. Viaweb and Y Combinator both seemed lame when we started them. I still get the glassy eye from strangers when they ask what I'm writing, and I explain that it's an essay I'm going to publish on my web site. Even Lisp, though prestigious intellectually in something like the way Latin is, also seems about as hip.\\n\\nIt's not that unprestigious types of work are good per se. But when you find yourself drawn to some kind of work despite its current lack of prestige, it's a sign both that there's something real to be discovered there, and that you have the right kind of motives. Impure motives are a big danger for the ambitious. If anything is going to lead you astray, it will be the desire to impress people. So while working on things that aren't prestigious doesn't guarantee you're on the right track, it at least guarantees you're not on the most common type of wrong one.\\n\\nOver the next several years I wrote lots of essays about all kinds of different topics. O'Reilly reprinted a collection of them as a book, called Hackers & Painters after one of the essays in it. I also worked on spam filters, and did some more painting. I used to have dinners for a group of friends every thursday night, which taught me how to cook for groups.\"],\n",
       " 'uris': None,\n",
       " 'data': None}"
      ]
     },
     "execution_count": 59,
     "metadata": {},
     "output_type": "execute_result"
    }
   ],
   "source": [
    "chroma_collection.get(ids=ids[0],include=['embeddings', 'metadatas', 'documents'])"
   ]
  },
  {
   "cell_type": "code",
   "execution_count": 60,
   "id": "1fcf0b3c-5373-441b-8224-33108aff993c",
   "metadata": {
    "scrolled": true
   },
   "outputs": [
    {
     "data": {
      "text/plain": [
       "dict_keys(['_node_content', '_node_type', 'author', 'creation_date', 'doc_id', 'document_id', 'file_name', 'file_path', 'file_size', 'file_type', 'last_modified_date', 'ref_doc_id'])"
      ]
     },
     "execution_count": 60,
     "metadata": {},
     "output_type": "execute_result"
    }
   ],
   "source": [
    "chroma_collection.get(ids=ids[0],include=['metadatas', 'documents'])['metadatas'][0].keys()"
   ]
  },
  {
   "cell_type": "code",
   "execution_count": 61,
   "id": "ccd1e290-969a-4612-a07f-62877fce0cac",
   "metadata": {
    "scrolled": true
   },
   "outputs": [
    {
     "data": {
      "text/plain": [
       "{'_node_content': '{\"id_\": \"05ffd0b1-1bcc-4fc1-adf6-d00ca14ba8a3\", \"embedding\": null, \"metadata\": {\"file_path\": \"data/paul_graham_essay.txt\", \"file_name\": \"paul_graham_essay.txt\", \"file_type\": \"text/plain\", \"file_size\": 75042, \"creation_date\": \"2024-04-16\", \"last_modified_date\": \"2024-04-15\", \"author\": \"paul_graham\"}, \"excluded_embed_metadata_keys\": [\"file_name\", \"file_type\", \"file_size\", \"creation_date\", \"last_modified_date\", \"last_accessed_date\"], \"excluded_llm_metadata_keys\": [\"file_name\", \"file_type\", \"file_size\", \"creation_date\", \"last_modified_date\", \"last_accessed_date\"], \"relationships\": {\"1\": {\"node_id\": \"data/paul_graham_essay.txt\", \"node_type\": \"4\", \"metadata\": {\"file_path\": \"data/paul_graham_essay.txt\", \"file_name\": \"paul_graham_essay.txt\", \"file_type\": \"text/plain\", \"file_size\": 75042, \"creation_date\": \"2024-04-16\", \"last_modified_date\": \"2024-04-15\", \"author\": \"paul_graham\"}, \"hash\": \"48f3b379e825cf288ae03eb7b6746d9f6703c698ab5b0ec7b83426fa8725d5dc\", \"class_name\": \"RelatedNodeInfo\"}, \"2\": {\"node_id\": \"29cebd28-0234-432c-aeea-74cc32639cf8\", \"node_type\": \"1\", \"metadata\": {\"file_path\": \"data/paul_graham_essay.txt\", \"file_name\": \"paul_graham_essay.txt\", \"file_type\": \"text/plain\", \"file_size\": 75042, \"creation_date\": \"2024-04-16\", \"last_modified_date\": \"2024-04-15\", \"author\": \"paul_graham\"}, \"hash\": \"a7a57c9c2aa7911f1441bb52debb00a7c1cc257db5ac72d4b5078cbbe2510092\", \"class_name\": \"RelatedNodeInfo\"}, \"3\": {\"node_id\": \"a65b346c-aba5-4960-8373-59a25c108e4b\", \"node_type\": \"1\", \"metadata\": {}, \"hash\": \"ccbe6b003e2d62b26a215b15063afd7751066207349741d87028eb0d3942248d\", \"class_name\": \"RelatedNodeInfo\"}}, \"text\": \"\", \"mimetype\": \"text/plain\", \"start_char_idx\": 44529, \"end_char_idx\": 46599, \"text_template\": \"{metadata_str}\\\\n\\\\n{content}\", \"metadata_template\": \"{key}: {value}\", \"metadata_seperator\": \"\\\\n\", \"class_name\": \"TextNode\"}',\n",
       " '_node_type': 'TextNode',\n",
       " 'author': 'paul_graham',\n",
       " 'creation_date': '2024-04-16',\n",
       " 'doc_id': 'data/paul_graham_essay.txt',\n",
       " 'document_id': 'data/paul_graham_essay.txt',\n",
       " 'file_name': 'paul_graham_essay.txt',\n",
       " 'file_path': 'data/paul_graham_essay.txt',\n",
       " 'file_size': 75042,\n",
       " 'file_type': 'text/plain',\n",
       " 'last_modified_date': '2024-04-15',\n",
       " 'ref_doc_id': 'data/paul_graham_essay.txt'}"
      ]
     },
     "execution_count": 61,
     "metadata": {},
     "output_type": "execute_result"
    }
   ],
   "source": [
    "chroma_collection.get(ids=ids[0],include=['metadatas', 'documents'])['metadatas'][0]"
   ]
  },
  {
   "cell_type": "code",
   "execution_count": 62,
   "id": "97644dff-fe25-47ff-9d45-3907e3b060eb",
   "metadata": {
    "scrolled": true
   },
   "outputs": [
    {
     "data": {
      "text/plain": [
       "{'ids': ['29cebd28-0234-432c-aeea-74cc32639cf8',\n",
       "  'cb011e7d-139a-4b0f-b573-7411de78dccd'],\n",
       " 'embeddings': None,\n",
       " 'metadatas': [{'_node_content': '{\"id_\": \"29cebd28-0234-432c-aeea-74cc32639cf8\", \"embedding\": null, \"metadata\": {\"file_path\": \"data/paul_graham_essay.txt\", \"file_name\": \"paul_graham_essay.txt\", \"file_type\": \"text/plain\", \"file_size\": 75042, \"creation_date\": \"2024-04-16\", \"last_modified_date\": \"2024-04-15\", \"author\": \"paul_graham\"}, \"excluded_embed_metadata_keys\": [\"file_name\", \"file_type\", \"file_size\", \"creation_date\", \"last_modified_date\", \"last_accessed_date\"], \"excluded_llm_metadata_keys\": [\"file_name\", \"file_type\", \"file_size\", \"creation_date\", \"last_modified_date\", \"last_accessed_date\"], \"relationships\": {\"1\": {\"node_id\": \"data/paul_graham_essay.txt\", \"node_type\": \"4\", \"metadata\": {\"file_path\": \"data/paul_graham_essay.txt\", \"file_name\": \"paul_graham_essay.txt\", \"file_type\": \"text/plain\", \"file_size\": 75042, \"creation_date\": \"2024-04-16\", \"last_modified_date\": \"2024-04-15\", \"author\": \"paul_graham\"}, \"hash\": \"48f3b379e825cf288ae03eb7b6746d9f6703c698ab5b0ec7b83426fa8725d5dc\", \"class_name\": \"RelatedNodeInfo\"}, \"2\": {\"node_id\": \"cb011e7d-139a-4b0f-b573-7411de78dccd\", \"node_type\": \"1\", \"metadata\": {\"file_path\": \"data/paul_graham_essay.txt\", \"file_name\": \"paul_graham_essay.txt\", \"file_type\": \"text/plain\", \"file_size\": 75042, \"creation_date\": \"2024-04-16\", \"last_modified_date\": \"2024-04-15\", \"author\": \"paul_graham\"}, \"hash\": \"6cc07f8b1d2c0b1903ef9c4248882759ae8812aee565505cb3ab15d2cfeca027\", \"class_name\": \"RelatedNodeInfo\"}, \"3\": {\"node_id\": \"05ffd0b1-1bcc-4fc1-adf6-d00ca14ba8a3\", \"node_type\": \"1\", \"metadata\": {}, \"hash\": \"6bfb4628c9b3d9ea26f3ac43b86b92d9ee050972d88ed24c78da51c855519c94\", \"class_name\": \"RelatedNodeInfo\"}}, \"text\": \"\", \"mimetype\": \"text/plain\", \"start_char_idx\": 42940, \"end_char_idx\": 45056, \"text_template\": \"{metadata_str}\\\\n\\\\n{content}\", \"metadata_template\": \"{key}: {value}\", \"metadata_seperator\": \"\\\\n\", \"class_name\": \"TextNode\"}',\n",
       "   '_node_type': 'TextNode',\n",
       "   'author': 'paul_graham',\n",
       "   'creation_date': '2024-04-16',\n",
       "   'doc_id': 'data/paul_graham_essay.txt',\n",
       "   'document_id': 'data/paul_graham_essay.txt',\n",
       "   'file_name': 'paul_graham_essay.txt',\n",
       "   'file_path': 'data/paul_graham_essay.txt',\n",
       "   'file_size': 75042,\n",
       "   'file_type': 'text/plain',\n",
       "   'last_modified_date': '2024-04-15',\n",
       "   'ref_doc_id': 'data/paul_graham_essay.txt'},\n",
       "  {'_node_content': '{\"id_\": \"cb011e7d-139a-4b0f-b573-7411de78dccd\", \"embedding\": null, \"metadata\": {\"file_path\": \"data/paul_graham_essay.txt\", \"file_name\": \"paul_graham_essay.txt\", \"file_type\": \"text/plain\", \"file_size\": 75042, \"creation_date\": \"2024-04-16\", \"last_modified_date\": \"2024-04-15\", \"author\": \"paul_graham\"}, \"excluded_embed_metadata_keys\": [\"file_name\", \"file_type\", \"file_size\", \"creation_date\", \"last_modified_date\", \"last_accessed_date\"], \"excluded_llm_metadata_keys\": [\"file_name\", \"file_type\", \"file_size\", \"creation_date\", \"last_modified_date\", \"last_accessed_date\"], \"relationships\": {\"1\": {\"node_id\": \"data/paul_graham_essay.txt\", \"node_type\": \"4\", \"metadata\": {\"file_path\": \"data/paul_graham_essay.txt\", \"file_name\": \"paul_graham_essay.txt\", \"file_type\": \"text/plain\", \"file_size\": 75042, \"creation_date\": \"2024-04-16\", \"last_modified_date\": \"2024-04-15\", \"author\": \"paul_graham\"}, \"hash\": \"48f3b379e825cf288ae03eb7b6746d9f6703c698ab5b0ec7b83426fa8725d5dc\", \"class_name\": \"RelatedNodeInfo\"}, \"2\": {\"node_id\": \"47e36330-f7c7-41ba-8048-8782a9c14b5c\", \"node_type\": \"1\", \"metadata\": {\"file_path\": \"data/paul_graham_essay.txt\", \"file_name\": \"paul_graham_essay.txt\", \"file_type\": \"text/plain\", \"file_size\": 75042, \"creation_date\": \"2024-04-16\", \"last_modified_date\": \"2024-04-15\", \"author\": \"paul_graham\"}, \"hash\": \"d0324976030455cd239e4e6e09182683fdac074aa5397c95c8759b941180f8c2\", \"class_name\": \"RelatedNodeInfo\"}, \"3\": {\"node_id\": \"29cebd28-0234-432c-aeea-74cc32639cf8\", \"node_type\": \"1\", \"metadata\": {}, \"hash\": \"6f3e660b2ab9d7e7b5d489c03843b70f882a7634dcf477aa1eae668f7b545750\", \"class_name\": \"RelatedNodeInfo\"}}, \"text\": \"\", \"mimetype\": \"text/plain\", \"start_char_idx\": 41340, \"end_char_idx\": 43405, \"text_template\": \"{metadata_str}\\\\n\\\\n{content}\", \"metadata_template\": \"{key}: {value}\", \"metadata_seperator\": \"\\\\n\", \"class_name\": \"TextNode\"}',\n",
       "   '_node_type': 'TextNode',\n",
       "   'author': 'paul_graham',\n",
       "   'creation_date': '2024-04-16',\n",
       "   'doc_id': 'data/paul_graham_essay.txt',\n",
       "   'document_id': 'data/paul_graham_essay.txt',\n",
       "   'file_name': 'paul_graham_essay.txt',\n",
       "   'file_path': 'data/paul_graham_essay.txt',\n",
       "   'file_size': 75042,\n",
       "   'file_type': 'text/plain',\n",
       "   'last_modified_date': '2024-04-15',\n",
       "   'ref_doc_id': 'data/paul_graham_essay.txt'}],\n",
       " 'documents': [\"The following spring, lightning struck. I was invited to give a talk at a Lisp conference, so I gave one about how we'd used Lisp at Viaweb. Afterward I put a postscript file of this talk online, on paulgraham.com, which I'd created years before using Viaweb but had never used for anything. In one day it got 30,000 page views. What on earth had happened? The referring urls showed that someone had posted it on Slashdot. [10]\\n\\nWow, I thought, there's an audience. If I write something and put it on the web, anyone can read it. That may seem obvious now, but it was surprising then. In the print era there was a narrow channel to readers, guarded by fierce monsters known as editors. The only way to get an audience for anything you wrote was to get it published as a book, or in a newspaper or magazine. Now anyone could publish anything.\\n\\nThis had been possible in principle since 1993, but not many people had realized it yet. I had been intimately involved with building the infrastructure of the web for most of that time, and a writer as well, and it had taken me 8 years to realize it. Even then it took me several years to understand the implications. It meant there would be a whole new generation of essays. [11]\\n\\nIn the print era, the channel for publishing essays had been vanishingly small. Except for a few officially anointed thinkers who went to the right parties in New York, the only people allowed to publish essays were specialists writing about their specialties. There were so many essays that had never been written, because there had been no way to publish them. Now they could be, and I was going to write them. [12]\\n\\nI've worked on several different things, but to the extent there was a turning point where I figured out what to work on, it was when I started publishing essays online. From then on I knew that whatever else I did, I'd always write essays too.\\n\\nI knew that online essays would be a marginal medium at first. Socially they'd seem more like rants posted by nutjobs on their GeoCities sites than the genteel and beautifully typeset compositions published in The New Yorker.\",\n",
       "  'This name didn\\'t last long before it was replaced by \"software as a service,\" but it was current for long enough that I named this new company after it: it was going to be called Aspra.\\n\\nI started working on the application builder, Dan worked on network infrastructure, and the two undergrads worked on the first two services (images and phone calls). But about halfway through the summer I realized I really didn\\'t want to run a company — especially not a big one, which it was looking like this would have to be. I\\'d only started Viaweb because I needed the money. Now that I didn\\'t need money anymore, why was I doing this? If this vision had to be realized as a company, then screw the vision. I\\'d build a subset that could be done as an open source project.\\n\\nMuch to my surprise, the time I spent working on this stuff was not wasted after all. After we started Y Combinator, I would often encounter startups working on parts of this new architecture, and it was very useful to have spent so much time thinking about it and even trying to write some of it.\\n\\nThe subset I would build as an open source project was the new Lisp, whose parentheses I now wouldn\\'t even have to hide. A lot of Lisp hackers dream of building a new Lisp, partly because one of the distinctive features of the language is that it has dialects, and partly, I think, because we have in our minds a Platonic form of Lisp that all existing dialects fall short of. I certainly did. So at the end of the summer Dan and I switched to working on this new dialect of Lisp, which I called Arc, in a house I bought in Cambridge.\\n\\nThe following spring, lightning struck. I was invited to give a talk at a Lisp conference, so I gave one about how we\\'d used Lisp at Viaweb. Afterward I put a postscript file of this talk online, on paulgraham.com, which I\\'d created years before using Viaweb but had never used for anything. In one day it got 30,000 page views. What on earth had happened? The referring urls showed that someone had posted it on Slashdot. [10]\\n\\nWow, I thought, there\\'s an audience.'],\n",
       " 'uris': None,\n",
       " 'data': None}"
      ]
     },
     "execution_count": 62,
     "metadata": {},
     "output_type": "execute_result"
    }
   ],
   "source": [
    "chroma_collection.get(ids=ids, where={'file_size': {'$gt': 75040}}, \n",
    "                      where_document={'$contains': 'paul'}, include=['metadatas', 'documents'])"
   ]
  },
  {
   "cell_type": "code",
   "execution_count": null,
   "id": "84c21ecc-e63b-4504-bfa0-3e03f0f36111",
   "metadata": {},
   "outputs": [],
   "source": []
  },
  {
   "cell_type": "markdown",
   "id": "5d2d1f55-882c-4dab-a26d-61418228decd",
   "metadata": {},
   "source": [
    "# Embeddings"
   ]
  },
  {
   "cell_type": "code",
   "execution_count": 63,
   "id": "a148730d-0e41-42a6-9179-055989d4d030",
   "metadata": {},
   "outputs": [],
   "source": [
    "from llama_index.embeddings.huggingface import HuggingFaceEmbedding"
   ]
  },
  {
   "cell_type": "code",
   "execution_count": 65,
   "id": "c7fd0194-6dc5-4538-ad3a-9bcd16c14087",
   "metadata": {},
   "outputs": [],
   "source": [
    "embed_model = HuggingFaceEmbedding(model_name='BAAI/bge-base-en-v1.5')"
   ]
  },
  {
   "cell_type": "code",
   "execution_count": 66,
   "id": "6f9f62f8-df3d-4378-9d7c-d1899993b374",
   "metadata": {},
   "outputs": [
    {
     "data": {
      "text/plain": [
       "512"
      ]
     },
     "execution_count": 66,
     "metadata": {},
     "output_type": "execute_result"
    }
   ],
   "source": [
    "embed_model.max_length"
   ]
  },
  {
   "cell_type": "code",
   "execution_count": 67,
   "id": "ecc8f052-1008-4bbb-b506-89e5bb801261",
   "metadata": {},
   "outputs": [],
   "source": [
    "from llama_index.embeddings.openai import OpenAIEmbedding"
   ]
  },
  {
   "cell_type": "code",
   "execution_count": 68,
   "id": "570d565c-5198-4faf-af79-f9885feaa453",
   "metadata": {},
   "outputs": [],
   "source": [
    "embed_model = OpenAIEmbedding(model_name='text-embedding-3-small')"
   ]
  },
  {
   "cell_type": "markdown",
   "id": "1d1277dd-bf27-40f6-8378-3080b2551885",
   "metadata": {},
   "source": [
    "# LLM"
   ]
  },
  {
   "cell_type": "code",
   "execution_count": 69,
   "id": "5bfa4d0a-ff6d-4453-951f-c66c8004b530",
   "metadata": {},
   "outputs": [],
   "source": [
    "from llama_index.llms.openai import OpenAI"
   ]
  },
  {
   "cell_type": "code",
   "execution_count": 71,
   "id": "818b404d-4d2f-46aa-bf1c-dd870d963e0c",
   "metadata": {},
   "outputs": [],
   "source": [
    "gpt4om = OpenAI('gpt-4o-mini')"
   ]
  },
  {
   "cell_type": "code",
   "execution_count": 69,
   "id": "bda8ce13-abc3-47c7-aac4-2bbba3cd3950",
   "metadata": {},
   "outputs": [],
   "source": [
    "from llama_index.llms.huggingface import HuggingFaceInferenceAPI"
   ]
  },
  {
   "cell_type": "code",
   "execution_count": 39,
   "id": "e49467f5-e943-4e35-a858-1bbee054f6fc",
   "metadata": {},
   "outputs": [],
   "source": [
    "llama3 = HuggingFaceInferenceAPI(model_name=\"meta-llama/Meta-Llama-3-8B-Instruct\")"
   ]
  },
  {
   "cell_type": "code",
   "execution_count": 42,
   "id": "bf09724b-d779-4866-81e2-0e270995dd2b",
   "metadata": {},
   "outputs": [],
   "source": [
    "mistral7b = HuggingFaceInferenceAPI(model_name=\"mistralai/Mistral-7B-Instruct-v0.2\")"
   ]
  },
  {
   "cell_type": "code",
   "execution_count": 44,
   "id": "b6a2439f-3ceb-4ca5-999a-513687ab406c",
   "metadata": {},
   "outputs": [],
   "source": [
    "zephyr = HuggingFaceInferenceAPI(model_name=\"HuggingFaceH4/zephyr-7b-beta\")"
   ]
  },
  {
   "cell_type": "markdown",
   "id": "a17affaf-49a6-4a21-a083-0a82acf8d0b6",
   "metadata": {},
   "source": [
    "# Index"
   ]
  },
  {
   "cell_type": "code",
   "execution_count": 159,
   "id": "addf110e-a869-420c-854b-1d78d566214d",
   "metadata": {},
   "outputs": [],
   "source": [
    "from llama_index.llms.openai import OpenAI"
   ]
  },
  {
   "cell_type": "code",
   "execution_count": 160,
   "id": "19eee82c-8097-4b3e-a624-97351eb937c8",
   "metadata": {},
   "outputs": [],
   "source": [
    "from llama_index.core.retrievers import VectorIndexRetriever"
   ]
  },
  {
   "cell_type": "code",
   "execution_count": 161,
   "id": "6e2fb690-aa76-413f-aa94-7d5c57bf0179",
   "metadata": {},
   "outputs": [],
   "source": [
    "from llama_index.core import get_response_synthesizer"
   ]
  },
  {
   "cell_type": "code",
   "execution_count": 162,
   "id": "a8f7b93e-0413-4df5-b15f-d7cc8abc610d",
   "metadata": {},
   "outputs": [],
   "source": [
    "from llama_index.core.response_synthesizers.type import ResponseMode"
   ]
  },
  {
   "cell_type": "code",
   "execution_count": 163,
   "id": "3d3e6ae3-846d-4230-89c3-bec2a76e0ea7",
   "metadata": {},
   "outputs": [],
   "source": [
    "from llama_index.core.query_engine import RetrieverQueryEngine"
   ]
  },
  {
   "cell_type": "code",
   "execution_count": 164,
   "id": "1171bcbe-4c0a-45c4-98b7-9609904f5c61",
   "metadata": {},
   "outputs": [],
   "source": [
    "from llama_index.core.chat_engine import ContextChatEngine, CondenseQuestionChatEngine, CondensePlusContextChatEngine"
   ]
  },
  {
   "cell_type": "code",
   "execution_count": 165,
   "id": "6e4ae43d-227b-49cd-a338-3aab803f1ac6",
   "metadata": {},
   "outputs": [],
   "source": [
    "from llama_index.core.storage.chat_store import SimpleChatStore"
   ]
  },
  {
   "cell_type": "code",
   "execution_count": 166,
   "id": "2e6dce16-51ce-45a0-82b1-e68a657a5b41",
   "metadata": {},
   "outputs": [],
   "source": [
    "from llama_index.core.memory import ChatMemoryBuffer"
   ]
  },
  {
   "cell_type": "code",
   "execution_count": 167,
   "id": "56786333-e39b-4327-b68e-457f67591a7b",
   "metadata": {},
   "outputs": [],
   "source": [
    "from llama_index.core import PromptTemplate"
   ]
  },
  {
   "cell_type": "code",
   "execution_count": 168,
   "id": "159a95e2-8152-4a3f-9cd9-4245bcc145bb",
   "metadata": {},
   "outputs": [],
   "source": [
    "from llama_index.core.chat_engine.types import ChatMode"
   ]
  },
  {
   "cell_type": "code",
   "execution_count": 169,
   "id": "cd7823e8-ae1b-4cd3-827e-c1fb4db83dfc",
   "metadata": {},
   "outputs": [],
   "source": [
    "from llama_index.core.llms import ChatMessage, MessageRole\n",
    "from llama_index.core import ChatPromptTemplate"
   ]
  },
  {
   "cell_type": "code",
   "execution_count": 170,
   "id": "44b1f5ca-9c2c-4576-8f59-143ccd94476c",
   "metadata": {},
   "outputs": [],
   "source": [
    "index = VectorStoreIndex.from_vector_store(vector_store=vector_store)"
   ]
  },
  {
   "cell_type": "code",
   "execution_count": 171,
   "id": "e8f0de0f-cfbb-4b8b-aca8-179c69981ca2",
   "metadata": {},
   "outputs": [],
   "source": [
    "retriever = VectorIndexRetriever(index=index, similarity_top_k=5)"
   ]
  },
  {
   "cell_type": "code",
   "execution_count": 172,
   "id": "2e7d23db-073a-4ef3-ac38-9be8bbceef21",
   "metadata": {},
   "outputs": [],
   "source": [
    "gpt_4o_mini = OpenAI(model = 'gpt-4o-mini')"
   ]
  },
  {
   "cell_type": "code",
   "execution_count": 173,
   "id": "cddf0e1c-2241-4f1c-b01a-8259e8ce48d6",
   "metadata": {},
   "outputs": [],
   "source": [
    "qa_prompt_str = (\n",
    "    \"Context information is below.\\n\"\n",
    "    \"---------------------\\n\"\n",
    "    \"{context_str}\\n\"\n",
    "    \"---------------------\\n\"\n",
    "    \"Given the context information and not prior knowledge, \"\n",
    "    \"answer the question: {query_str}\\n\"\n",
    ")"
   ]
  },
  {
   "cell_type": "code",
   "execution_count": 174,
   "id": "a073ccc4-70f6-4f64-baf0-6e4c76c0343e",
   "metadata": {},
   "outputs": [],
   "source": [
    "chat_text_qa_msgs = [\n",
    "    ChatMessage(role=MessageRole.SYSTEM,\n",
    "                content=(\"Only answer the question, if the question is answerable with the given context. \\\n",
    "                Otherwise say that question can't be answered using the context\"),\n",
    "                ),\n",
    "    ChatMessage(role=MessageRole.USER, content=qa_prompt_str)]"
   ]
  },
  {
   "cell_type": "code",
   "execution_count": 153,
   "id": "368751e2-3a79-4d12-8a5c-6b91a1beb488",
   "metadata": {},
   "outputs": [],
   "source": [
    "chat_text_qa_msgs = [\n",
    "    ChatMessage(role=MessageRole.SYSTEM,\n",
    "                content=(\"Only answer the question\"),\n",
    "                ),\n",
    "    ChatMessage(role=MessageRole.USER, content=qa_prompt_str)]"
   ]
  },
  {
   "cell_type": "code",
   "execution_count": 175,
   "id": "93906d7f-b414-4646-a91e-11ae31dee8e2",
   "metadata": {},
   "outputs": [],
   "source": [
    "text_qa_template = ChatPromptTemplate(chat_text_qa_msgs)"
   ]
  },
  {
   "cell_type": "code",
   "execution_count": 176,
   "id": "e052d9d5-7631-41e2-85af-4b746e1be0a0",
   "metadata": {},
   "outputs": [],
   "source": [
    "response_synthesizer = get_response_synthesizer(llm = gpt_35, response_mode=ResponseMode.COMPACT, \n",
    "                                                text_qa_template=text_qa_template, \n",
    "                                                callback_manager=CallbackManager([token_counter]))"
   ]
  },
  {
   "cell_type": "code",
   "execution_count": 177,
   "id": "02547f4c-403a-4252-b00e-f2aed6334aec",
   "metadata": {},
   "outputs": [],
   "source": [
    "query_engine = RetrieverQueryEngine(\n",
    "    retriever=retriever,\n",
    "    response_synthesizer=response_synthesizer)"
   ]
  },
  {
   "cell_type": "code",
   "execution_count": 184,
   "id": "9c52d5ae-b3fd-4f88-a724-80466dc4ffa1",
   "metadata": {},
   "outputs": [],
   "source": [
    "query = \"What is machine learning?\""
   ]
  },
  {
   "cell_type": "code",
   "execution_count": 185,
   "id": "d8d02c8d-fe99-4835-9cee-d9bdd20558b5",
   "metadata": {},
   "outputs": [],
   "source": [
    "query = \"who is paul graham?\""
   ]
  },
  {
   "cell_type": "code",
   "execution_count": 141,
   "id": "7eeceb60-93d9-4985-8d7c-8f15d02cbe7c",
   "metadata": {},
   "outputs": [
    {
     "name": "stdout",
     "output_type": "stream",
     "text": [
      "LLM Prompt Token Usage: 2437\n",
      "LLM Completion Token Usage: 9\n"
     ]
    }
   ],
   "source": [
    "Response = query_engine.query(query)"
   ]
  },
  {
   "cell_type": "code",
   "execution_count": 179,
   "id": "fd57c144-993f-41fa-b7aa-ec88cbfe8d30",
   "metadata": {},
   "outputs": [
    {
     "data": {
      "text/plain": [
       "\"That question can't be answered using the context.\""
      ]
     },
     "execution_count": 179,
     "metadata": {},
     "output_type": "execute_result"
    }
   ],
   "source": [
    "Response.response"
   ]
  },
  {
   "cell_type": "code",
   "execution_count": 181,
   "id": "ffbe4c12-6031-4fc2-bfd3-038233a82e26",
   "metadata": {},
   "outputs": [
    {
     "data": {
      "text/plain": [
       "'Paul Graham is an individual mentioned in the provided text, specifically as the author of the essay being referenced.'"
      ]
     },
     "execution_count": 181,
     "metadata": {},
     "output_type": "execute_result"
    }
   ],
   "source": [
    "Response.response"
   ]
  },
  {
   "cell_type": "code",
   "execution_count": 182,
   "id": "c8fbc6a4-411c-4ac3-8a11-ec31bb14bca0",
   "metadata": {},
   "outputs": [
    {
     "data": {
      "text/plain": [
       "34635"
      ]
     },
     "execution_count": 182,
     "metadata": {},
     "output_type": "execute_result"
    }
   ],
   "source": [
    "token_counter.prompt_llm_token_count"
   ]
  },
  {
   "cell_type": "code",
   "execution_count": 183,
   "id": "72225756-ce50-460e-a743-9a9dcf2353d3",
   "metadata": {},
   "outputs": [
    {
     "data": {
      "text/plain": [
       "258"
      ]
     },
     "execution_count": 183,
     "metadata": {},
     "output_type": "execute_result"
    }
   ],
   "source": [
    "token_counter.completion_llm_token_count"
   ]
  },
  {
   "cell_type": "code",
   "execution_count": 138,
   "id": "1e170c69-2bfc-43d5-a520-5c7e8348ba6b",
   "metadata": {
    "scrolled": true
   },
   "outputs": [
    {
     "name": "stdout",
     "output_type": "stream",
     "text": [
      "text of the node 0\n",
      "Computer Science is an uneasy alliance between two halves, theory and systems. The theory people prove things, and the systems people build things. I wanted to build things. I had plenty of respect for theory — indeed, a sneaking suspicion that it was the more admirable of the two halves — but building things seemed so much more exciting.\n",
      "\n",
      "The problem with systems work, though, was that it didn't last. Any program you wrote today, no matter how good, would be obsolete in a couple decades at best. People might mention your software in footnotes, but no one would actually use it. And indeed, it would seem very feeble work. Only people with a sense of the history of the field would even realize that, in its time, it had been good.\n",
      "\n",
      "There were some surplus Xerox Dandelions floating around the computer lab at one point. Anyone who wanted one to play around with could have one. I was briefly tempted, but they were so slow by present standards; what was the point? No one else wanted one either, so off they went. That was what happened to systems work.\n",
      "\n",
      "I wanted not just to build things, but to build things that would last.\n",
      "\n",
      "In this dissatisfied state I went in 1988 to visit Rich Draves at CMU, where he was in grad school. One day I went to visit the Carnegie Institute, where I'd spent a lot of time as a kid. While looking at a painting there I realized something that might seem obvious, but was a big surprise to me. There, right on the wall, was something you could make that would last. Paintings didn't become obsolete. Some of the best ones were hundreds of years old.\n",
      "\n",
      "And moreover this was something you could make a living doing. Not as easily as you could by writing software, of course, but I thought if you were really industrious and lived really cheaply, it had to be possible to make enough to survive. And as an artist you could be truly independent. You wouldn't have a boss, or even need to get research funding.\n",
      "\n",
      "I had always liked looking at paintings. Could I make them? I had no idea. I'd never imagined it was even possible.\n",
      "0.14090698248899708\n",
      "------------------------------------\n",
      "\n",
      "text of the node 1\n",
      "I wanted to go back to RISD, but I was now broke and RISD was very expensive, so I decided to get a job for a year and then return to RISD the next fall. I got one at a company called Interleaf, which made software for creating documents. You mean like Microsoft Word? Exactly. That was how I learned that low end software tends to eat high end software. But Interleaf still had a few years to live yet. [5]\n",
      "\n",
      "Interleaf had done something pretty bold. Inspired by Emacs, they'd added a scripting language, and even made the scripting language a dialect of Lisp. Now they wanted a Lisp hacker to write things in it. This was the closest thing I've had to a normal job, and I hereby apologize to my boss and coworkers, because I was a bad employee. Their Lisp was the thinnest icing on a giant C cake, and since I didn't know C and didn't want to learn it, I never understood most of the software. Plus I was terribly irresponsible. This was back when a programming job meant showing up every day during certain working hours. That seemed unnatural to me, and on this point the rest of the world is coming around to my way of thinking, but at the time it caused a lot of friction. Toward the end of the year I spent much of my time surreptitiously working on On Lisp, which I had by this time gotten a contract to publish.\n",
      "\n",
      "The good part was that I got paid huge amounts of money, especially by art student standards. In Florence, after paying my part of the rent, my budget for everything else had been $7 a day. Now I was getting paid more than 4 times that every hour, even when I was just sitting in a meeting. By living cheaply I not only managed to save enough to go back to RISD, but also paid off my college loans.\n",
      "\n",
      "I learned some useful things at Interleaf, though they were mostly about what not to do.\n",
      "0.14023424125061404\n",
      "------------------------------------\n",
      "\n",
      "text of the node 2\n",
      "The only other option was to do things that didn't rely on any input, like calculate approximations of pi, but I didn't know enough math to do anything interesting of that type. So I'm not surprised I can't remember any programs I wrote, because they can't have done much. My clearest memory is of the moment I learned it was possible for programs not to terminate, when one of mine didn't. On a machine without time-sharing, this was a social as well as a technical error, as the data center manager's expression made clear.\n",
      "\n",
      "With microcomputers, everything changed. Now you could have a computer sitting right in front of you, on a desk, that could respond to your keystrokes as it was running instead of just churning through a stack of punch cards and then stopping. [1]\n",
      "\n",
      "The first of my friends to get a microcomputer built it himself. It was sold as a kit by Heathkit. I remember vividly how impressed and envious I felt watching him sitting in front of it, typing programs right into the computer.\n",
      "\n",
      "Computers were expensive in those days and it took me years of nagging before I convinced my father to buy one, a TRS-80, in about 1980. The gold standard then was the Apple II, but a TRS-80 was good enough. This was when I really started programming. I wrote simple games, a program to predict how high my model rockets would fly, and a word processor that my father used to write at least one book. There was only room in memory for about 2 pages of text, so he'd write 2 pages at a time and then print them out, but it was a lot better than a typewriter.\n",
      "\n",
      "Though I liked programming, I didn't plan to study it in college. In college I was going to study philosophy, which sounded much more powerful. It seemed, to my naive high school self, to be the study of the ultimate truths, compared to which the things studied in other fields would be mere domain knowledge. What I discovered when I got to college was that the other fields took up so much of the space of ideas that there wasn't much left for these supposed ultimate truths. All that seemed left for philosophy were edge cases that people in other fields felt could safely be ignored.\n",
      "0.14022484523628403\n",
      "------------------------------------\n",
      "\n",
      "text of the node 3\n",
      "RISD counted me as a transfer sophomore and said I had to do the foundation that summer. The foundation means the classes that everyone has to take in fundamental subjects like drawing, color, and design.\n",
      "\n",
      "Toward the end of the summer I got a big surprise: a letter from the Accademia, which had been delayed because they'd sent it to Cambridge England instead of Cambridge Massachusetts, inviting me to take the entrance exam in Florence that fall. This was now only weeks away. My nice landlady let me leave my stuff in her attic. I had some money saved from consulting work I'd done in grad school; there was probably enough to last a year if I lived cheaply. Now all I had to do was learn Italian.\n",
      "\n",
      "Only stranieri (foreigners) had to take this entrance exam. In retrospect it may well have been a way of excluding them, because there were so many stranieri attracted by the idea of studying art in Florence that the Italian students would otherwise have been outnumbered. I was in decent shape at painting and drawing from the RISD foundation that summer, but I still don't know how I managed to pass the written exam. I remember that I answered the essay question by writing about Cezanne, and that I cranked up the intellectual level as high as I could to make the most of my limited vocabulary. [2]\n",
      "\n",
      "I'm only up to age 25 and already there are such conspicuous patterns. Here I was, yet again about to attend some august institution in the hopes of learning about some prestigious subject, and yet again about to be disappointed. The students and faculty in the painting department at the Accademia were the nicest people you could imagine, but they had long since arrived at an arrangement whereby the students wouldn't require the faculty to teach anything, and in return the faculty wouldn't require the students to learn anything. And at the same time all involved would adhere outwardly to the conventions of a 19th century atelier. We actually had one of those little stoves, fed with kindling, that you see in 19th century studio paintings, and a nude model sitting as close to it as possible without getting burned. Except hardly anyone else painted her besides me.\n",
      "0.1399393697669778\n",
      "------------------------------------\n",
      "\n",
      "text of the node 4\n",
      "The good part was that I got paid huge amounts of money, especially by art student standards. In Florence, after paying my part of the rent, my budget for everything else had been $7 a day. Now I was getting paid more than 4 times that every hour, even when I was just sitting in a meeting. By living cheaply I not only managed to save enough to go back to RISD, but also paid off my college loans.\n",
      "\n",
      "I learned some useful things at Interleaf, though they were mostly about what not to do. I learned that it's better for technology companies to be run by product people than sales people (though sales is a real skill and people who are good at it are really good at it), that it leads to bugs when code is edited by too many people, that cheap office space is no bargain if it's depressing, that planned meetings are inferior to corridor conversations, that big, bureaucratic customers are a dangerous source of money, and that there's not much overlap between conventional office hours and the optimal time for hacking, or conventional offices and the optimal place for it.\n",
      "\n",
      "But the most important thing I learned, and which I used in both Viaweb and Y Combinator, is that the low end eats the high end: that it's good to be the \"entry level\" option, even though that will be less prestigious, because if you're not, someone else will be, and will squash you against the ceiling. Which in turn means that prestige is a danger sign.\n",
      "\n",
      "When I left to go back to RISD the next fall, I arranged to do freelance work for the group that did projects for customers, and this was how I survived for the next several years. When I came back to visit for a project later on, someone told me about a new thing called HTML, which was, as he described it, a derivative of SGML. Markup language enthusiasts were an occupational hazard at Interleaf and I ignored him, but this HTML thing later became a big part of my life.\n",
      "\n",
      "In the fall of 1992 I moved back to Providence to continue at RISD. The foundation had merely been intro stuff, and the Accademia had been a (very civilized) joke. Now I was going to see what real art school was like. But alas it was more like the Accademia than not.\n",
      "0.13946320261421194\n",
      "------------------------------------\n",
      "\n"
     ]
    }
   ],
   "source": [
    "for i, node in enumerate(Response.source_nodes):\n",
    "    print(f\"text of the node {i}\")\n",
    "    print(node.text)\n",
    "    print(node.get_score())\n",
    "    print(\"------------------------------------\\n\")"
   ]
  },
  {
   "cell_type": "code",
   "execution_count": 125,
   "id": "9e5b6205-4ffc-4a36-a90d-96e3aa45cbcd",
   "metadata": {},
   "outputs": [
    {
     "data": {
      "text/plain": [
       "'Which in turn implies that people who are independent-minded (i.e. less influenced by custom) will have an advantage in fields affected by rapid change (where customs are more likely to be obsolete).\\n\\nHere\\'s an interesting point, though: you can\\'t always predict which fields will be affected by rapid change. Obviously software and venture capital will be, but who would have predicted that essay writing would be?\\n\\n[13] Y Combinator was not the original name. At first we were called Cambridge Seed. But we didn\\'t want a regional name, in case someone copied us in Silicon Valley, so we renamed ourselves after one of the coolest tricks in the lambda calculus, the Y combinator.\\n\\nI picked orange as our color partly because it\\'s the warmest, and partly because no VC used it. In 2005 all the VCs used staid colors like maroon, navy blue, and forest green, because they were trying to appeal to LPs, not founders. The YC logo itself is an inside joke: the Viaweb logo had been a white V on a red circle, so I made the YC logo a white Y on an orange square.\\n\\n[14] YC did become a fund for a couple years starting in 2009, because it was getting so big I could no longer afford to fund it personally. But after Heroku got bought we had enough money to go back to being self-funded.\\n\\n[15] I\\'ve never liked the term \"deal flow,\" because it implies that the number of new startups at any given time is fixed. This is not only false, but it\\'s the purpose of YC to falsify it, by causing startups to be founded that would not otherwise have existed.\\n\\n[16] She reports that they were all different shapes and sizes, because there was a run on air conditioners and she had to get whatever she could, but that they were all heavier than she could carry now.\\n\\n[17] Another problem with HN was a bizarre edge case that occurs when you both write essays and run a forum. When you run a forum, you\\'re assumed to see if not every conversation, at least every conversation involving you. And when you write essays, people post highly imaginative misinterpretations of them on forums. Individually these two phenomena are tedious but bearable, but the combination is disastrous.'"
      ]
     },
     "execution_count": 125,
     "metadata": {},
     "output_type": "execute_result"
    }
   ],
   "source": [
    "Response.source_nodes[0].text"
   ]
  },
  {
   "cell_type": "code",
   "execution_count": null,
   "id": "0651b95e-40f6-4051-a95e-d83294af2f10",
   "metadata": {},
   "outputs": [],
   "source": []
  },
  {
   "cell_type": "markdown",
   "id": "92632cf0-929a-418e-b035-7e60eb10292b",
   "metadata": {},
   "source": [
    "## Chat"
   ]
  },
  {
   "cell_type": "code",
   "execution_count": 106,
   "id": "cd10ded0-ee27-4f36-a407-8afd137cffd2",
   "metadata": {},
   "outputs": [],
   "source": [
    "chat_store = SimpleChatStore()"
   ]
  },
  {
   "cell_type": "code",
   "execution_count": 107,
   "id": "7fd47140-e2ec-41cc-8f32-85c62b317deb",
   "metadata": {},
   "outputs": [],
   "source": [
    "chat_memory = ChatMemoryBuffer.from_defaults(token_limit=5000, chat_store=chat_store, llm=gpt_4o_mini)"
   ]
  },
  {
   "cell_type": "code",
   "execution_count": 109,
   "id": "1ae77912-7fb0-4f9b-a7c3-43f7e50fdf41",
   "metadata": {},
   "outputs": [
    {
     "ename": "TypeError",
     "evalue": "ContextChatEngine.__init__() missing 1 required positional argument: 'prefix_messages'",
     "output_type": "error",
     "traceback": [
      "\u001b[0;31m---------------------------------------------------------------------------\u001b[0m",
      "\u001b[0;31mTypeError\u001b[0m                                 Traceback (most recent call last)",
      "Cell \u001b[0;32mIn[109], line 1\u001b[0m\n\u001b[0;32m----> 1\u001b[0m \u001b[43mContextChatEngine\u001b[49m\u001b[43m(\u001b[49m\u001b[43mretriever\u001b[49m\u001b[38;5;241;43m=\u001b[39;49m\u001b[43mretriever\u001b[49m\u001b[43m,\u001b[49m\u001b[43m \u001b[49m\u001b[43mllm\u001b[49m\u001b[38;5;241;43m=\u001b[39;49m\u001b[43mgpt_4o_mini\u001b[49m\u001b[43m,\u001b[49m\u001b[43m \u001b[49m\u001b[43mmemory\u001b[49m\u001b[38;5;241;43m=\u001b[39;49m\u001b[43mchat_memory\u001b[49m\u001b[43m)\u001b[49m\n",
      "\u001b[0;31mTypeError\u001b[0m: ContextChatEngine.__init__() missing 1 required positional argument: 'prefix_messages'"
     ]
    }
   ],
   "source": [
    "ContextChatEngine(retriever=retriever, llm=gpt_4o_mini, memory=chat_memory)"
   ]
  },
  {
   "cell_type": "code",
   "execution_count": 110,
   "id": "d40a1855-ded4-4766-b013-537dd96bdac1",
   "metadata": {},
   "outputs": [],
   "source": [
    "custom_prompt = PromptTemplate(\n",
    "    \"\"\"\\\n",
    "Given a conversation (between Human and Assistant) and a follow up message from Human, \\\n",
    "rewrite the message to be a standalone question that captures all relevant context \\\n",
    "from the conversation.\n",
    "\n",
    "<Chat History>\n",
    "{chat_history}\n",
    "\n",
    "<Follow Up Message>\n",
    "{question}\n",
    "\n",
    "<Standalone question>\n",
    "\"\"\"\n",
    ")"
   ]
  },
  {
   "cell_type": "code",
   "execution_count": 112,
   "id": "ae9e8a68-e62e-44a6-9c8c-6e88a4b27917",
   "metadata": {},
   "outputs": [],
   "source": [
    "chat_engine = CondenseQuestionChatEngine(query_engine=query_engine, llm=gpt_4o_mini, \n",
    "                                         condense_question_prompt=custom_prompt, memory=chat_memory)"
   ]
  },
  {
   "cell_type": "code",
   "execution_count": 205,
   "id": "f7e151c5-6d64-4670-a15e-d6a058678bde",
   "metadata": {
    "scrolled": true
   },
   "outputs": [],
   "source": [
    "streaming_response = chat_engine.stream_chat(\"Who is Paul Graham?\")"
   ]
  },
  {
   "cell_type": "code",
   "execution_count": 115,
   "id": "46cc03cb-6f04-4b78-916e-8ee8d3711e20",
   "metadata": {
    "scrolled": true
   },
   "outputs": [
    {
     "name": "stdout",
     "output_type": "stream",
     "text": [
      "LLM Prompt Token Usage: 78\n",
      "LLM Completion Token Usage: 13\n",
      "LLM Prompt Token Usage: 2447\n",
      "LLM Completion Token Usage: 11\n"
     ]
    }
   ],
   "source": [
    "streaming_response = chat_engine.stream_chat(\"What is the context about\")"
   ]
  },
  {
   "cell_type": "code",
   "execution_count": 117,
   "id": "edcbeb7e-aebd-488d-a0df-748d2ddf8e80",
   "metadata": {},
   "outputs": [],
   "source": [
    "system_prompt = \"Answer the question only based on the context provided\""
   ]
  },
  {
   "cell_type": "code",
   "execution_count": 141,
   "id": "df52de94-3a1e-4d6c-9900-7a7f2eac594b",
   "metadata": {
    "scrolled": true
   },
   "outputs": [],
   "source": [
    "chat_engine = CondensePlusContextChatEngine(retriever=retriever, llm=gpt_3_5, system_prompt=system_prompt, memory=chat_memory)"
   ]
  },
  {
   "cell_type": "code",
   "execution_count": 146,
   "id": "cda8a509-9b06-4327-8820-dd5738977957",
   "metadata": {
    "scrolled": true
   },
   "outputs": [
    {
     "name": "stdout",
     "output_type": "stream",
     "text": [
      "LLM Prompt Token Usage: 161\n",
      "LLM Completion Token Usage: 5\n",
      "LLM Prompt Token Usage: 1660\n",
      "LLM Completion Token Usage: 85\n"
     ]
    }
   ],
   "source": [
    "streaming_response = chat_engine.stream_chat(\"Who is Paul Graham?\")"
   ]
  },
  {
   "cell_type": "code",
   "execution_count": 145,
   "id": "3f7f4e59-3e9e-4ca9-a3dd-ea0935e77c6f",
   "metadata": {
    "scrolled": true
   },
   "outputs": [
    {
     "name": "stdout",
     "output_type": "stream",
     "text": [
      "LLM Prompt Token Usage: 75\n",
      "LLM Completion Token Usage: 6\n",
      "LLM Prompt Token Usage: 1561\n",
      "LLM Completion Token Usage: 79\n"
     ]
    }
   ],
   "source": [
    "streaming_response = chat_engine.stream_chat(\"What are his achievements?\")"
   ]
  },
  {
   "cell_type": "code",
   "execution_count": 142,
   "id": "53de83af-f7a7-44a8-8a57-24d72b3446d9",
   "metadata": {
    "scrolled": true
   },
   "outputs": [
    {
     "name": "stdout",
     "output_type": "stream",
     "text": [
      "LLM Prompt Token Usage: 1558\n",
      "LLM Completion Token Usage: 7\n"
     ]
    }
   ],
   "source": [
    "streaming_response = chat_engine.stream_chat(\"what is machine learning?\")"
   ]
  },
  {
   "cell_type": "code",
   "execution_count": 147,
   "id": "987862e6-7147-43c1-a3b9-225c27f07d7b",
   "metadata": {},
   "outputs": [
    {
     "name": "stdout",
     "output_type": "stream",
     "text": [
      "Paul Graham is a prominent figure in the tech and startup world. He is known for founding Viaweb, which was one of the first web-based applications, and later sold to Yahoo. Graham is also the co-founder of Y Combinator, a well-known startup accelerator that has supported numerous successful companies. He is recognized for his innovative approach to investing in startups and for his insightful essays on entrepreneurship and technology."
     ]
    }
   ],
   "source": [
    "for token in streaming_response.response_gen:\n",
    "    print(token, end=\"\")"
   ]
  },
  {
   "cell_type": "code",
   "execution_count": 116,
   "id": "21633135-83ca-462d-8a8d-d24d5617e4b7",
   "metadata": {},
   "outputs": [
    {
     "name": "stdout",
     "output_type": "stream",
     "text": [
      "The question can't be answered using the context."
     ]
    }
   ],
   "source": [
    "for token in streaming_response.response_gen:\n",
    "    print(token, end=\"\")"
   ]
  },
  {
   "cell_type": "code",
   "execution_count": 158,
   "id": "688f6883-d01a-4c2f-977b-2f2aa3e19039",
   "metadata": {},
   "outputs": [],
   "source": [
    "for token in streaming_response.response_gen:\n",
    "    print(token, end=\"\")"
   ]
  },
  {
   "cell_type": "code",
   "execution_count": 148,
   "id": "d55c3516-741f-459f-ae99-2fa09fb39353",
   "metadata": {},
   "outputs": [
    {
     "name": "stdout",
     "output_type": "stream",
     "text": [
      "USER\n",
      "what is machine learning?\n",
      "ASSISTANT\n",
      "I don't know.\n",
      "USER\n",
      "What are his achievements?\n",
      "ASSISTANT\n",
      "Paul Graham's achievements include founding Viaweb, which was later acquired by Yahoo, and co-founding Y Combinator, a startup accelerator. He also established a unique approach to investing in startups, combining elements of angel investing and venture capital to provide comprehensive support to founders. Additionally, he pioneered the batch model of funding startups twice a year and offering intensive support over three months.\n",
      "USER\n",
      "Who is Paul Graham?\n",
      "ASSISTANT\n",
      "Paul Graham is a prominent figure in the tech and startup world. He is known for founding Viaweb, which was one of the first web-based applications, and later sold to Yahoo. Graham is also the co-founder of Y Combinator, a well-known startup accelerator that has supported numerous successful companies. He is recognized for his innovative approach to investing in startups and for his insightful essays on entrepreneurship and technology.\n"
     ]
    }
   ],
   "source": [
    "for i in chat_memory.chat_store.store['chat_history']:\n",
    "    print(i.role.name)\n",
    "    print(i.content)"
   ]
  },
  {
   "cell_type": "code",
   "execution_count": 151,
   "id": "7fc77ab0-6b2e-4c64-96a2-d8d8782e9b13",
   "metadata": {
    "collapsed": true,
    "jupyter": {
     "outputs_hidden": true
    }
   },
   "outputs": [
    {
     "ename": "AttributeError",
     "evalue": "'TokenCountingHandler' object has no attribute 'event'",
     "output_type": "error",
     "traceback": [
      "\u001b[0;31m---------------------------------------------------------------------------\u001b[0m",
      "\u001b[0;31mAttributeError\u001b[0m                            Traceback (most recent call last)",
      "Cell \u001b[0;32mIn[151], line 1\u001b[0m\n\u001b[0;32m----> 1\u001b[0m Response \u001b[38;5;241m=\u001b[39m \u001b[43mquery_engine\u001b[49m\u001b[38;5;241;43m.\u001b[39;49m\u001b[43mquery\u001b[49m\u001b[43m(\u001b[49m\u001b[38;5;124;43m\"\u001b[39;49m\u001b[38;5;124;43mWho is paul graham?\u001b[39;49m\u001b[38;5;124;43m\"\u001b[39;49m\u001b[43m)\u001b[49m\n",
      "File \u001b[0;32m~/anaconda3/lib/python3.11/site-packages/llama_index/core/instrumentation/dispatcher.py:274\u001b[0m, in \u001b[0;36mDispatcher.span.<locals>.wrapper\u001b[0;34m(func, instance, args, kwargs)\u001b[0m\n\u001b[1;32m    270\u001b[0m \u001b[38;5;28mself\u001b[39m\u001b[38;5;241m.\u001b[39mspan_enter(\n\u001b[1;32m    271\u001b[0m     id_\u001b[38;5;241m=\u001b[39mid_, bound_args\u001b[38;5;241m=\u001b[39mbound_args, instance\u001b[38;5;241m=\u001b[39minstance, parent_id\u001b[38;5;241m=\u001b[39mparent_id\n\u001b[1;32m    272\u001b[0m )\n\u001b[1;32m    273\u001b[0m \u001b[38;5;28;01mtry\u001b[39;00m:\n\u001b[0;32m--> 274\u001b[0m     result \u001b[38;5;241m=\u001b[39m \u001b[43mfunc\u001b[49m\u001b[43m(\u001b[49m\u001b[38;5;241;43m*\u001b[39;49m\u001b[43margs\u001b[49m\u001b[43m,\u001b[49m\u001b[43m \u001b[49m\u001b[38;5;241;43m*\u001b[39;49m\u001b[38;5;241;43m*\u001b[39;49m\u001b[43mkwargs\u001b[49m\u001b[43m)\u001b[49m\n\u001b[1;32m    275\u001b[0m \u001b[38;5;28;01mexcept\u001b[39;00m \u001b[38;5;167;01mBaseException\u001b[39;00m \u001b[38;5;28;01mas\u001b[39;00m e:\n\u001b[1;32m    276\u001b[0m     \u001b[38;5;28mself\u001b[39m\u001b[38;5;241m.\u001b[39mevent(SpanDropEvent(span_id\u001b[38;5;241m=\u001b[39mid_, err_str\u001b[38;5;241m=\u001b[39m\u001b[38;5;28mstr\u001b[39m(e)))\n",
      "File \u001b[0;32m~/anaconda3/lib/python3.11/site-packages/llama_index/core/base/base_query_engine.py:53\u001b[0m, in \u001b[0;36mBaseQueryEngine.query\u001b[0;34m(self, str_or_query_bundle)\u001b[0m\n\u001b[1;32m     51\u001b[0m     \u001b[38;5;28;01mif\u001b[39;00m \u001b[38;5;28misinstance\u001b[39m(str_or_query_bundle, \u001b[38;5;28mstr\u001b[39m):\n\u001b[1;32m     52\u001b[0m         str_or_query_bundle \u001b[38;5;241m=\u001b[39m QueryBundle(str_or_query_bundle)\n\u001b[0;32m---> 53\u001b[0m     query_result \u001b[38;5;241m=\u001b[39m \u001b[38;5;28;43mself\u001b[39;49m\u001b[38;5;241;43m.\u001b[39;49m\u001b[43m_query\u001b[49m\u001b[43m(\u001b[49m\u001b[43mstr_or_query_bundle\u001b[49m\u001b[43m)\u001b[49m\n\u001b[1;32m     54\u001b[0m dispatch_event(QueryEndEvent(query\u001b[38;5;241m=\u001b[39mstr_or_query_bundle, response\u001b[38;5;241m=\u001b[39mquery_result))\n\u001b[1;32m     55\u001b[0m \u001b[38;5;28;01mreturn\u001b[39;00m query_result\n",
      "File \u001b[0;32m~/anaconda3/lib/python3.11/site-packages/llama_index/core/instrumentation/dispatcher.py:274\u001b[0m, in \u001b[0;36mDispatcher.span.<locals>.wrapper\u001b[0;34m(func, instance, args, kwargs)\u001b[0m\n\u001b[1;32m    270\u001b[0m \u001b[38;5;28mself\u001b[39m\u001b[38;5;241m.\u001b[39mspan_enter(\n\u001b[1;32m    271\u001b[0m     id_\u001b[38;5;241m=\u001b[39mid_, bound_args\u001b[38;5;241m=\u001b[39mbound_args, instance\u001b[38;5;241m=\u001b[39minstance, parent_id\u001b[38;5;241m=\u001b[39mparent_id\n\u001b[1;32m    272\u001b[0m )\n\u001b[1;32m    273\u001b[0m \u001b[38;5;28;01mtry\u001b[39;00m:\n\u001b[0;32m--> 274\u001b[0m     result \u001b[38;5;241m=\u001b[39m \u001b[43mfunc\u001b[49m\u001b[43m(\u001b[49m\u001b[38;5;241;43m*\u001b[39;49m\u001b[43margs\u001b[49m\u001b[43m,\u001b[49m\u001b[43m \u001b[49m\u001b[38;5;241;43m*\u001b[39;49m\u001b[38;5;241;43m*\u001b[39;49m\u001b[43mkwargs\u001b[49m\u001b[43m)\u001b[49m\n\u001b[1;32m    275\u001b[0m \u001b[38;5;28;01mexcept\u001b[39;00m \u001b[38;5;167;01mBaseException\u001b[39;00m \u001b[38;5;28;01mas\u001b[39;00m e:\n\u001b[1;32m    276\u001b[0m     \u001b[38;5;28mself\u001b[39m\u001b[38;5;241m.\u001b[39mevent(SpanDropEvent(span_id\u001b[38;5;241m=\u001b[39mid_, err_str\u001b[38;5;241m=\u001b[39m\u001b[38;5;28mstr\u001b[39m(e)))\n",
      "File \u001b[0;32m~/anaconda3/lib/python3.11/site-packages/llama_index/core/query_engine/retriever_query_engine.py:190\u001b[0m, in \u001b[0;36mRetrieverQueryEngine._query\u001b[0;34m(self, query_bundle)\u001b[0m\n\u001b[1;32m    186\u001b[0m \u001b[38;5;28;01mwith\u001b[39;00m \u001b[38;5;28mself\u001b[39m\u001b[38;5;241m.\u001b[39mcallback_manager\u001b[38;5;241m.\u001b[39mevent(\n\u001b[1;32m    187\u001b[0m     CBEventType\u001b[38;5;241m.\u001b[39mQUERY, payload\u001b[38;5;241m=\u001b[39m{EventPayload\u001b[38;5;241m.\u001b[39mQUERY_STR: query_bundle\u001b[38;5;241m.\u001b[39mquery_str}\n\u001b[1;32m    188\u001b[0m ) \u001b[38;5;28;01mas\u001b[39;00m query_event:\n\u001b[1;32m    189\u001b[0m     nodes \u001b[38;5;241m=\u001b[39m \u001b[38;5;28mself\u001b[39m\u001b[38;5;241m.\u001b[39mretrieve(query_bundle)\n\u001b[0;32m--> 190\u001b[0m     response \u001b[38;5;241m=\u001b[39m \u001b[38;5;28;43mself\u001b[39;49m\u001b[38;5;241;43m.\u001b[39;49m\u001b[43m_response_synthesizer\u001b[49m\u001b[38;5;241;43m.\u001b[39;49m\u001b[43msynthesize\u001b[49m\u001b[43m(\u001b[49m\n\u001b[1;32m    191\u001b[0m \u001b[43m        \u001b[49m\u001b[43mquery\u001b[49m\u001b[38;5;241;43m=\u001b[39;49m\u001b[43mquery_bundle\u001b[49m\u001b[43m,\u001b[49m\n\u001b[1;32m    192\u001b[0m \u001b[43m        \u001b[49m\u001b[43mnodes\u001b[49m\u001b[38;5;241;43m=\u001b[39;49m\u001b[43mnodes\u001b[49m\u001b[43m,\u001b[49m\n\u001b[1;32m    193\u001b[0m \u001b[43m    \u001b[49m\u001b[43m)\u001b[49m\n\u001b[1;32m    194\u001b[0m     query_event\u001b[38;5;241m.\u001b[39mon_end(payload\u001b[38;5;241m=\u001b[39m{EventPayload\u001b[38;5;241m.\u001b[39mRESPONSE: response})\n\u001b[1;32m    196\u001b[0m \u001b[38;5;28;01mreturn\u001b[39;00m response\n",
      "File \u001b[0;32m~/anaconda3/lib/python3.11/site-packages/llama_index/core/instrumentation/dispatcher.py:274\u001b[0m, in \u001b[0;36mDispatcher.span.<locals>.wrapper\u001b[0;34m(func, instance, args, kwargs)\u001b[0m\n\u001b[1;32m    270\u001b[0m \u001b[38;5;28mself\u001b[39m\u001b[38;5;241m.\u001b[39mspan_enter(\n\u001b[1;32m    271\u001b[0m     id_\u001b[38;5;241m=\u001b[39mid_, bound_args\u001b[38;5;241m=\u001b[39mbound_args, instance\u001b[38;5;241m=\u001b[39minstance, parent_id\u001b[38;5;241m=\u001b[39mparent_id\n\u001b[1;32m    272\u001b[0m )\n\u001b[1;32m    273\u001b[0m \u001b[38;5;28;01mtry\u001b[39;00m:\n\u001b[0;32m--> 274\u001b[0m     result \u001b[38;5;241m=\u001b[39m \u001b[43mfunc\u001b[49m\u001b[43m(\u001b[49m\u001b[38;5;241;43m*\u001b[39;49m\u001b[43margs\u001b[49m\u001b[43m,\u001b[49m\u001b[43m \u001b[49m\u001b[38;5;241;43m*\u001b[39;49m\u001b[38;5;241;43m*\u001b[39;49m\u001b[43mkwargs\u001b[49m\u001b[43m)\u001b[49m\n\u001b[1;32m    275\u001b[0m \u001b[38;5;28;01mexcept\u001b[39;00m \u001b[38;5;167;01mBaseException\u001b[39;00m \u001b[38;5;28;01mas\u001b[39;00m e:\n\u001b[1;32m    276\u001b[0m     \u001b[38;5;28mself\u001b[39m\u001b[38;5;241m.\u001b[39mevent(SpanDropEvent(span_id\u001b[38;5;241m=\u001b[39mid_, err_str\u001b[38;5;241m=\u001b[39m\u001b[38;5;28mstr\u001b[39m(e)))\n",
      "File \u001b[0;32m~/anaconda3/lib/python3.11/site-packages/llama_index/core/response_synthesizers/base.py:242\u001b[0m, in \u001b[0;36mBaseSynthesizer.synthesize\u001b[0;34m(self, query, nodes, additional_source_nodes, **response_kwargs)\u001b[0m\n\u001b[1;32m    236\u001b[0m     query \u001b[38;5;241m=\u001b[39m QueryBundle(query_str\u001b[38;5;241m=\u001b[39mquery)\n\u001b[1;32m    238\u001b[0m \u001b[38;5;28;01mwith\u001b[39;00m \u001b[38;5;28mself\u001b[39m\u001b[38;5;241m.\u001b[39m_callback_manager\u001b[38;5;241m.\u001b[39mevent(\n\u001b[1;32m    239\u001b[0m     CBEventType\u001b[38;5;241m.\u001b[39mSYNTHESIZE,\n\u001b[1;32m    240\u001b[0m     payload\u001b[38;5;241m=\u001b[39m{EventPayload\u001b[38;5;241m.\u001b[39mQUERY_STR: query\u001b[38;5;241m.\u001b[39mquery_str},\n\u001b[1;32m    241\u001b[0m ) \u001b[38;5;28;01mas\u001b[39;00m event:\n\u001b[0;32m--> 242\u001b[0m     response_str \u001b[38;5;241m=\u001b[39m \u001b[38;5;28;43mself\u001b[39;49m\u001b[38;5;241;43m.\u001b[39;49m\u001b[43mget_response\u001b[49m\u001b[43m(\u001b[49m\n\u001b[1;32m    243\u001b[0m \u001b[43m        \u001b[49m\u001b[43mquery_str\u001b[49m\u001b[38;5;241;43m=\u001b[39;49m\u001b[43mquery\u001b[49m\u001b[38;5;241;43m.\u001b[39;49m\u001b[43mquery_str\u001b[49m\u001b[43m,\u001b[49m\n\u001b[1;32m    244\u001b[0m \u001b[43m        \u001b[49m\u001b[43mtext_chunks\u001b[49m\u001b[38;5;241;43m=\u001b[39;49m\u001b[43m[\u001b[49m\n\u001b[1;32m    245\u001b[0m \u001b[43m            \u001b[49m\u001b[43mn\u001b[49m\u001b[38;5;241;43m.\u001b[39;49m\u001b[43mnode\u001b[49m\u001b[38;5;241;43m.\u001b[39;49m\u001b[43mget_content\u001b[49m\u001b[43m(\u001b[49m\u001b[43mmetadata_mode\u001b[49m\u001b[38;5;241;43m=\u001b[39;49m\u001b[43mMetadataMode\u001b[49m\u001b[38;5;241;43m.\u001b[39;49m\u001b[43mLLM\u001b[49m\u001b[43m)\u001b[49m\u001b[43m \u001b[49m\u001b[38;5;28;43;01mfor\u001b[39;49;00m\u001b[43m \u001b[49m\u001b[43mn\u001b[49m\u001b[43m \u001b[49m\u001b[38;5;129;43;01min\u001b[39;49;00m\u001b[43m \u001b[49m\u001b[43mnodes\u001b[49m\n\u001b[1;32m    246\u001b[0m \u001b[43m        \u001b[49m\u001b[43m]\u001b[49m\u001b[43m,\u001b[49m\n\u001b[1;32m    247\u001b[0m \u001b[43m        \u001b[49m\u001b[38;5;241;43m*\u001b[39;49m\u001b[38;5;241;43m*\u001b[39;49m\u001b[43mresponse_kwargs\u001b[49m\u001b[43m,\u001b[49m\n\u001b[1;32m    248\u001b[0m \u001b[43m    \u001b[49m\u001b[43m)\u001b[49m\n\u001b[1;32m    250\u001b[0m     additional_source_nodes \u001b[38;5;241m=\u001b[39m additional_source_nodes \u001b[38;5;129;01mor\u001b[39;00m []\n\u001b[1;32m    251\u001b[0m     source_nodes \u001b[38;5;241m=\u001b[39m \u001b[38;5;28mlist\u001b[39m(nodes) \u001b[38;5;241m+\u001b[39m \u001b[38;5;28mlist\u001b[39m(additional_source_nodes)\n",
      "File \u001b[0;32m~/anaconda3/lib/python3.11/site-packages/llama_index/core/instrumentation/dispatcher.py:274\u001b[0m, in \u001b[0;36mDispatcher.span.<locals>.wrapper\u001b[0;34m(func, instance, args, kwargs)\u001b[0m\n\u001b[1;32m    270\u001b[0m \u001b[38;5;28mself\u001b[39m\u001b[38;5;241m.\u001b[39mspan_enter(\n\u001b[1;32m    271\u001b[0m     id_\u001b[38;5;241m=\u001b[39mid_, bound_args\u001b[38;5;241m=\u001b[39mbound_args, instance\u001b[38;5;241m=\u001b[39minstance, parent_id\u001b[38;5;241m=\u001b[39mparent_id\n\u001b[1;32m    272\u001b[0m )\n\u001b[1;32m    273\u001b[0m \u001b[38;5;28;01mtry\u001b[39;00m:\n\u001b[0;32m--> 274\u001b[0m     result \u001b[38;5;241m=\u001b[39m \u001b[43mfunc\u001b[49m\u001b[43m(\u001b[49m\u001b[38;5;241;43m*\u001b[39;49m\u001b[43margs\u001b[49m\u001b[43m,\u001b[49m\u001b[43m \u001b[49m\u001b[38;5;241;43m*\u001b[39;49m\u001b[38;5;241;43m*\u001b[39;49m\u001b[43mkwargs\u001b[49m\u001b[43m)\u001b[49m\n\u001b[1;32m    275\u001b[0m \u001b[38;5;28;01mexcept\u001b[39;00m \u001b[38;5;167;01mBaseException\u001b[39;00m \u001b[38;5;28;01mas\u001b[39;00m e:\n\u001b[1;32m    276\u001b[0m     \u001b[38;5;28mself\u001b[39m\u001b[38;5;241m.\u001b[39mevent(SpanDropEvent(span_id\u001b[38;5;241m=\u001b[39mid_, err_str\u001b[38;5;241m=\u001b[39m\u001b[38;5;28mstr\u001b[39m(e)))\n",
      "File \u001b[0;32m~/anaconda3/lib/python3.11/site-packages/llama_index/core/response_synthesizers/compact_and_refine.py:43\u001b[0m, in \u001b[0;36mCompactAndRefine.get_response\u001b[0;34m(self, query_str, text_chunks, prev_response, **response_kwargs)\u001b[0m\n\u001b[1;32m     39\u001b[0m \u001b[38;5;66;03m# use prompt helper to fix compact text_chunks under the prompt limitation\u001b[39;00m\n\u001b[1;32m     40\u001b[0m \u001b[38;5;66;03m# TODO: This is a temporary fix - reason it's temporary is that\u001b[39;00m\n\u001b[1;32m     41\u001b[0m \u001b[38;5;66;03m# the refine template does not account for size of previous answer.\u001b[39;00m\n\u001b[1;32m     42\u001b[0m new_texts \u001b[38;5;241m=\u001b[39m \u001b[38;5;28mself\u001b[39m\u001b[38;5;241m.\u001b[39m_make_compact_text_chunks(query_str, text_chunks)\n\u001b[0;32m---> 43\u001b[0m \u001b[38;5;28;01mreturn\u001b[39;00m \u001b[38;5;28;43msuper\u001b[39;49m\u001b[43m(\u001b[49m\u001b[43m)\u001b[49m\u001b[38;5;241;43m.\u001b[39;49m\u001b[43mget_response\u001b[49m\u001b[43m(\u001b[49m\n\u001b[1;32m     44\u001b[0m \u001b[43m    \u001b[49m\u001b[43mquery_str\u001b[49m\u001b[38;5;241;43m=\u001b[39;49m\u001b[43mquery_str\u001b[49m\u001b[43m,\u001b[49m\n\u001b[1;32m     45\u001b[0m \u001b[43m    \u001b[49m\u001b[43mtext_chunks\u001b[49m\u001b[38;5;241;43m=\u001b[39;49m\u001b[43mnew_texts\u001b[49m\u001b[43m,\u001b[49m\n\u001b[1;32m     46\u001b[0m \u001b[43m    \u001b[49m\u001b[43mprev_response\u001b[49m\u001b[38;5;241;43m=\u001b[39;49m\u001b[43mprev_response\u001b[49m\u001b[43m,\u001b[49m\n\u001b[1;32m     47\u001b[0m \u001b[43m    \u001b[49m\u001b[38;5;241;43m*\u001b[39;49m\u001b[38;5;241;43m*\u001b[39;49m\u001b[43mresponse_kwargs\u001b[49m\u001b[43m,\u001b[49m\n\u001b[1;32m     48\u001b[0m \u001b[43m\u001b[49m\u001b[43m)\u001b[49m\n",
      "File \u001b[0;32m~/anaconda3/lib/python3.11/site-packages/llama_index/core/instrumentation/dispatcher.py:274\u001b[0m, in \u001b[0;36mDispatcher.span.<locals>.wrapper\u001b[0;34m(func, instance, args, kwargs)\u001b[0m\n\u001b[1;32m    270\u001b[0m \u001b[38;5;28mself\u001b[39m\u001b[38;5;241m.\u001b[39mspan_enter(\n\u001b[1;32m    271\u001b[0m     id_\u001b[38;5;241m=\u001b[39mid_, bound_args\u001b[38;5;241m=\u001b[39mbound_args, instance\u001b[38;5;241m=\u001b[39minstance, parent_id\u001b[38;5;241m=\u001b[39mparent_id\n\u001b[1;32m    272\u001b[0m )\n\u001b[1;32m    273\u001b[0m \u001b[38;5;28;01mtry\u001b[39;00m:\n\u001b[0;32m--> 274\u001b[0m     result \u001b[38;5;241m=\u001b[39m \u001b[43mfunc\u001b[49m\u001b[43m(\u001b[49m\u001b[38;5;241;43m*\u001b[39;49m\u001b[43margs\u001b[49m\u001b[43m,\u001b[49m\u001b[43m \u001b[49m\u001b[38;5;241;43m*\u001b[39;49m\u001b[38;5;241;43m*\u001b[39;49m\u001b[43mkwargs\u001b[49m\u001b[43m)\u001b[49m\n\u001b[1;32m    275\u001b[0m \u001b[38;5;28;01mexcept\u001b[39;00m \u001b[38;5;167;01mBaseException\u001b[39;00m \u001b[38;5;28;01mas\u001b[39;00m e:\n\u001b[1;32m    276\u001b[0m     \u001b[38;5;28mself\u001b[39m\u001b[38;5;241m.\u001b[39mevent(SpanDropEvent(span_id\u001b[38;5;241m=\u001b[39mid_, err_str\u001b[38;5;241m=\u001b[39m\u001b[38;5;28mstr\u001b[39m(e)))\n",
      "File \u001b[0;32m~/anaconda3/lib/python3.11/site-packages/llama_index/core/response_synthesizers/refine.py:185\u001b[0m, in \u001b[0;36mRefine.get_response\u001b[0;34m(self, query_str, text_chunks, prev_response, **response_kwargs)\u001b[0m\n\u001b[1;32m    181\u001b[0m \u001b[38;5;28;01mfor\u001b[39;00m text_chunk \u001b[38;5;129;01min\u001b[39;00m text_chunks:\n\u001b[1;32m    182\u001b[0m     \u001b[38;5;28;01mif\u001b[39;00m prev_response \u001b[38;5;129;01mis\u001b[39;00m \u001b[38;5;28;01mNone\u001b[39;00m:\n\u001b[1;32m    183\u001b[0m         \u001b[38;5;66;03m# if this is the first chunk, and text chunk already\u001b[39;00m\n\u001b[1;32m    184\u001b[0m         \u001b[38;5;66;03m# is an answer, then return it\u001b[39;00m\n\u001b[0;32m--> 185\u001b[0m         response \u001b[38;5;241m=\u001b[39m \u001b[38;5;28;43mself\u001b[39;49m\u001b[38;5;241;43m.\u001b[39;49m\u001b[43m_give_response_single\u001b[49m\u001b[43m(\u001b[49m\n\u001b[1;32m    186\u001b[0m \u001b[43m            \u001b[49m\u001b[43mquery_str\u001b[49m\u001b[43m,\u001b[49m\u001b[43m \u001b[49m\u001b[43mtext_chunk\u001b[49m\u001b[43m,\u001b[49m\u001b[43m \u001b[49m\u001b[38;5;241;43m*\u001b[39;49m\u001b[38;5;241;43m*\u001b[39;49m\u001b[43mresponse_kwargs\u001b[49m\n\u001b[1;32m    187\u001b[0m \u001b[43m        \u001b[49m\u001b[43m)\u001b[49m\n\u001b[1;32m    188\u001b[0m     \u001b[38;5;28;01melse\u001b[39;00m:\n\u001b[1;32m    189\u001b[0m         \u001b[38;5;66;03m# refine response if possible\u001b[39;00m\n\u001b[1;32m    190\u001b[0m         response \u001b[38;5;241m=\u001b[39m \u001b[38;5;28mself\u001b[39m\u001b[38;5;241m.\u001b[39m_refine_response_single(\n\u001b[1;32m    191\u001b[0m             prev_response, query_str, text_chunk, \u001b[38;5;241m*\u001b[39m\u001b[38;5;241m*\u001b[39mresponse_kwargs\n\u001b[1;32m    192\u001b[0m         )\n",
      "File \u001b[0;32m~/anaconda3/lib/python3.11/site-packages/llama_index/core/response_synthesizers/refine.py:240\u001b[0m, in \u001b[0;36mRefine._give_response_single\u001b[0;34m(self, query_str, text_chunk, **response_kwargs)\u001b[0m\n\u001b[1;32m    236\u001b[0m \u001b[38;5;28;01mif\u001b[39;00m response \u001b[38;5;129;01mis\u001b[39;00m \u001b[38;5;28;01mNone\u001b[39;00m \u001b[38;5;129;01mand\u001b[39;00m \u001b[38;5;129;01mnot\u001b[39;00m \u001b[38;5;28mself\u001b[39m\u001b[38;5;241m.\u001b[39m_streaming:\n\u001b[1;32m    237\u001b[0m     \u001b[38;5;28;01mtry\u001b[39;00m:\n\u001b[1;32m    238\u001b[0m         structured_response \u001b[38;5;241m=\u001b[39m cast(\n\u001b[1;32m    239\u001b[0m             StructuredRefineResponse,\n\u001b[0;32m--> 240\u001b[0m             \u001b[43mprogram\u001b[49m\u001b[43m(\u001b[49m\n\u001b[1;32m    241\u001b[0m \u001b[43m                \u001b[49m\u001b[43mcontext_str\u001b[49m\u001b[38;5;241;43m=\u001b[39;49m\u001b[43mcur_text_chunk\u001b[49m\u001b[43m,\u001b[49m\n\u001b[1;32m    242\u001b[0m \u001b[43m                \u001b[49m\u001b[38;5;241;43m*\u001b[39;49m\u001b[38;5;241;43m*\u001b[39;49m\u001b[43mresponse_kwargs\u001b[49m\u001b[43m,\u001b[49m\n\u001b[1;32m    243\u001b[0m \u001b[43m            \u001b[49m\u001b[43m)\u001b[49m,\n\u001b[1;32m    244\u001b[0m         )\n\u001b[1;32m    245\u001b[0m         query_satisfied \u001b[38;5;241m=\u001b[39m structured_response\u001b[38;5;241m.\u001b[39mquery_satisfied\n\u001b[1;32m    246\u001b[0m         \u001b[38;5;28;01mif\u001b[39;00m query_satisfied:\n",
      "File \u001b[0;32m~/anaconda3/lib/python3.11/site-packages/llama_index/core/response_synthesizers/refine.py:84\u001b[0m, in \u001b[0;36mDefaultRefineProgram.__call__\u001b[0;34m(self, *args, **kwds)\u001b[0m\n\u001b[1;32m     82\u001b[0m     answer \u001b[38;5;241m=\u001b[39m answer\u001b[38;5;241m.\u001b[39mjson()\n\u001b[1;32m     83\u001b[0m \u001b[38;5;28;01melse\u001b[39;00m:\n\u001b[0;32m---> 84\u001b[0m     answer \u001b[38;5;241m=\u001b[39m \u001b[38;5;28;43mself\u001b[39;49m\u001b[38;5;241;43m.\u001b[39;49m\u001b[43m_llm\u001b[49m\u001b[38;5;241;43m.\u001b[39;49m\u001b[43mpredict\u001b[49m\u001b[43m(\u001b[49m\n\u001b[1;32m     85\u001b[0m \u001b[43m        \u001b[49m\u001b[38;5;28;43mself\u001b[39;49m\u001b[38;5;241;43m.\u001b[39;49m\u001b[43m_prompt\u001b[49m\u001b[43m,\u001b[49m\n\u001b[1;32m     86\u001b[0m \u001b[43m        \u001b[49m\u001b[38;5;241;43m*\u001b[39;49m\u001b[38;5;241;43m*\u001b[39;49m\u001b[43mkwds\u001b[49m\u001b[43m,\u001b[49m\n\u001b[1;32m     87\u001b[0m \u001b[43m    \u001b[49m\u001b[43m)\u001b[49m\n\u001b[1;32m     88\u001b[0m \u001b[38;5;28;01mreturn\u001b[39;00m StructuredRefineResponse(answer\u001b[38;5;241m=\u001b[39manswer, query_satisfied\u001b[38;5;241m=\u001b[39m\u001b[38;5;28;01mTrue\u001b[39;00m)\n",
      "File \u001b[0;32m~/anaconda3/lib/python3.11/site-packages/llama_index/core/instrumentation/dispatcher.py:274\u001b[0m, in \u001b[0;36mDispatcher.span.<locals>.wrapper\u001b[0;34m(func, instance, args, kwargs)\u001b[0m\n\u001b[1;32m    270\u001b[0m \u001b[38;5;28mself\u001b[39m\u001b[38;5;241m.\u001b[39mspan_enter(\n\u001b[1;32m    271\u001b[0m     id_\u001b[38;5;241m=\u001b[39mid_, bound_args\u001b[38;5;241m=\u001b[39mbound_args, instance\u001b[38;5;241m=\u001b[39minstance, parent_id\u001b[38;5;241m=\u001b[39mparent_id\n\u001b[1;32m    272\u001b[0m )\n\u001b[1;32m    273\u001b[0m \u001b[38;5;28;01mtry\u001b[39;00m:\n\u001b[0;32m--> 274\u001b[0m     result \u001b[38;5;241m=\u001b[39m \u001b[43mfunc\u001b[49m\u001b[43m(\u001b[49m\u001b[38;5;241;43m*\u001b[39;49m\u001b[43margs\u001b[49m\u001b[43m,\u001b[49m\u001b[43m \u001b[49m\u001b[38;5;241;43m*\u001b[39;49m\u001b[38;5;241;43m*\u001b[39;49m\u001b[43mkwargs\u001b[49m\u001b[43m)\u001b[49m\n\u001b[1;32m    275\u001b[0m \u001b[38;5;28;01mexcept\u001b[39;00m \u001b[38;5;167;01mBaseException\u001b[39;00m \u001b[38;5;28;01mas\u001b[39;00m e:\n\u001b[1;32m    276\u001b[0m     \u001b[38;5;28mself\u001b[39m\u001b[38;5;241m.\u001b[39mevent(SpanDropEvent(span_id\u001b[38;5;241m=\u001b[39mid_, err_str\u001b[38;5;241m=\u001b[39m\u001b[38;5;28mstr\u001b[39m(e)))\n",
      "File \u001b[0;32m~/anaconda3/lib/python3.11/site-packages/llama_index/core/llms/llm.py:434\u001b[0m, in \u001b[0;36mLLM.predict\u001b[0;34m(self, prompt, **prompt_args)\u001b[0m\n\u001b[1;32m    431\u001b[0m dispatch_event \u001b[38;5;241m=\u001b[39m dispatcher\u001b[38;5;241m.\u001b[39mget_dispatch_event()\n\u001b[1;32m    433\u001b[0m dispatch_event(LLMPredictStartEvent(template\u001b[38;5;241m=\u001b[39mprompt, template_args\u001b[38;5;241m=\u001b[39mprompt_args))\n\u001b[0;32m--> 434\u001b[0m \u001b[38;5;28;43mself\u001b[39;49m\u001b[38;5;241;43m.\u001b[39;49m\u001b[43m_log_template_data\u001b[49m\u001b[43m(\u001b[49m\u001b[43mprompt\u001b[49m\u001b[43m,\u001b[49m\u001b[43m \u001b[49m\u001b[38;5;241;43m*\u001b[39;49m\u001b[38;5;241;43m*\u001b[39;49m\u001b[43mprompt_args\u001b[49m\u001b[43m)\u001b[49m\n\u001b[1;32m    436\u001b[0m \u001b[38;5;28;01mif\u001b[39;00m \u001b[38;5;28mself\u001b[39m\u001b[38;5;241m.\u001b[39mmetadata\u001b[38;5;241m.\u001b[39mis_chat_model:\n\u001b[1;32m    437\u001b[0m     messages \u001b[38;5;241m=\u001b[39m \u001b[38;5;28mself\u001b[39m\u001b[38;5;241m.\u001b[39m_get_messages(prompt, \u001b[38;5;241m*\u001b[39m\u001b[38;5;241m*\u001b[39mprompt_args)\n",
      "File \u001b[0;32m~/anaconda3/lib/python3.11/site-packages/llama_index/core/llms/llm.py:221\u001b[0m, in \u001b[0;36mLLM._log_template_data\u001b[0;34m(self, prompt, **prompt_args)\u001b[0m\n\u001b[1;32m    213\u001b[0m \u001b[38;5;28;01mdef\u001b[39;00m \u001b[38;5;21m_log_template_data\u001b[39m(\n\u001b[1;32m    214\u001b[0m     \u001b[38;5;28mself\u001b[39m, prompt: BasePromptTemplate, \u001b[38;5;241m*\u001b[39m\u001b[38;5;241m*\u001b[39mprompt_args: Any\n\u001b[1;32m    215\u001b[0m ) \u001b[38;5;241m-\u001b[39m\u001b[38;5;241m>\u001b[39m \u001b[38;5;28;01mNone\u001b[39;00m:\n\u001b[1;32m    216\u001b[0m     template_vars \u001b[38;5;241m=\u001b[39m {\n\u001b[1;32m    217\u001b[0m         k: v\n\u001b[1;32m    218\u001b[0m         \u001b[38;5;28;01mfor\u001b[39;00m k, v \u001b[38;5;129;01min\u001b[39;00m ChainMap(prompt\u001b[38;5;241m.\u001b[39mkwargs, prompt_args)\u001b[38;5;241m.\u001b[39mitems()\n\u001b[1;32m    219\u001b[0m         \u001b[38;5;28;01mif\u001b[39;00m k \u001b[38;5;129;01min\u001b[39;00m prompt\u001b[38;5;241m.\u001b[39mtemplate_vars\n\u001b[1;32m    220\u001b[0m     }\n\u001b[0;32m--> 221\u001b[0m     \u001b[38;5;28;01mwith\u001b[39;00m \u001b[38;5;28;43mself\u001b[39;49m\u001b[38;5;241;43m.\u001b[39;49m\u001b[43mcallback_manager\u001b[49m\u001b[38;5;241;43m.\u001b[39;49m\u001b[43mevent\u001b[49m(\n\u001b[1;32m    222\u001b[0m         CBEventType\u001b[38;5;241m.\u001b[39mTEMPLATING,\n\u001b[1;32m    223\u001b[0m         payload\u001b[38;5;241m=\u001b[39m{\n\u001b[1;32m    224\u001b[0m             EventPayload\u001b[38;5;241m.\u001b[39mTEMPLATE: prompt\u001b[38;5;241m.\u001b[39mget_template(llm\u001b[38;5;241m=\u001b[39m\u001b[38;5;28mself\u001b[39m),\n\u001b[1;32m    225\u001b[0m             EventPayload\u001b[38;5;241m.\u001b[39mTEMPLATE_VARS: template_vars,\n\u001b[1;32m    226\u001b[0m             EventPayload\u001b[38;5;241m.\u001b[39mSYSTEM_PROMPT: \u001b[38;5;28mself\u001b[39m\u001b[38;5;241m.\u001b[39msystem_prompt,\n\u001b[1;32m    227\u001b[0m             EventPayload\u001b[38;5;241m.\u001b[39mQUERY_WRAPPER_PROMPT: \u001b[38;5;28mself\u001b[39m\u001b[38;5;241m.\u001b[39mquery_wrapper_prompt,\n\u001b[1;32m    228\u001b[0m         },\n\u001b[1;32m    229\u001b[0m     ):\n\u001b[1;32m    230\u001b[0m         \u001b[38;5;28;01mpass\u001b[39;00m\n",
      "\u001b[0;31mAttributeError\u001b[0m: 'TokenCountingHandler' object has no attribute 'event'"
     ]
    }
   ],
   "source": [
    "Response = query_engine.query(\"Who is paul graham?\")"
   ]
  },
  {
   "cell_type": "code",
   "execution_count": 119,
   "id": "95f54019-d529-485e-933a-8d178d5aa188",
   "metadata": {},
   "outputs": [
    {
     "data": {
      "text/plain": [
       "'Paul Graham is an author and one of the founders of Y Combinator, an investment firm that focuses on funding startups.'"
      ]
     },
     "execution_count": 119,
     "metadata": {},
     "output_type": "execute_result"
    }
   ],
   "source": [
    "Response.response"
   ]
  },
  {
   "cell_type": "code",
   "execution_count": null,
   "id": "b35f78da-8d4d-436e-a80c-51e918d47628",
   "metadata": {},
   "outputs": [],
   "source": [
    "chat_store.persist(persist_path=\"chat_store.json\")\n",
    "loaded_chat_store = SimpleChatStore.from_persist_path(\n",
    "    persist_path=\"chat_store.json\"\n",
    ")"
   ]
  },
  {
   "cell_type": "code",
   "execution_count": null,
   "id": "bbc37440-993a-4c04-a3e9-743cb4efbcac",
   "metadata": {},
   "outputs": [],
   "source": []
  },
  {
   "cell_type": "code",
   "execution_count": null,
   "id": "216a13bf-393f-42e7-a534-8524844afb1a",
   "metadata": {},
   "outputs": [],
   "source": []
  },
  {
   "cell_type": "code",
   "execution_count": null,
   "id": "5e38112d-cb60-43fb-a4b7-52f44f72a6c4",
   "metadata": {},
   "outputs": [],
   "source": []
  },
  {
   "cell_type": "code",
   "execution_count": null,
   "id": "96571698-9e1b-439b-88a6-00d15f49e7ee",
   "metadata": {},
   "outputs": [],
   "source": []
  },
  {
   "cell_type": "code",
   "execution_count": null,
   "id": "4620f5fd-3c5c-4803-8b64-eacdbed760ce",
   "metadata": {},
   "outputs": [],
   "source": []
  },
  {
   "cell_type": "code",
   "execution_count": 103,
   "id": "0e3d6028-9acb-4a59-8007-cd8ad948ec49",
   "metadata": {
    "scrolled": true
   },
   "outputs": [],
   "source": [
    "index = VectorStoreIndex(nodes=nodes, storage_context=storage_context, store_nodes_override=True)"
   ]
  },
  {
   "cell_type": "code",
   "execution_count": 52,
   "id": "4cc45f7d-88ed-4425-b8dd-8ccef83a9b29",
   "metadata": {
    "scrolled": true
   },
   "outputs": [],
   "source": [
    "index = VectorStoreIndex(nodes=nodes, store_nodes_override=True)"
   ]
  },
  {
   "cell_type": "code",
   "execution_count": 45,
   "id": "d1ca7066-31e4-42ea-83e7-2bc038b43b1c",
   "metadata": {},
   "outputs": [],
   "source": [
    "index.storage_context.persist(persist_dir=\"index\")"
   ]
  },
  {
   "cell_type": "code",
   "execution_count": 96,
   "id": "e1783ac3-cad1-4a6a-aa4a-e1cecfe5817a",
   "metadata": {},
   "outputs": [
    {
     "data": {
      "text/plain": [
       "'/home/santhosh/Projects/RAG/data/paul_graham_essay.txt'"
      ]
     },
     "execution_count": 96,
     "metadata": {},
     "output_type": "execute_result"
    }
   ],
   "source": [
    "nodes[0].ref_doc_id"
   ]
  },
  {
   "cell_type": "code",
   "execution_count": 56,
   "id": "f8c7f819-5461-40f7-9889-44cc53c14f27",
   "metadata": {},
   "outputs": [
    {
     "data": {
      "text/plain": [
       "dict_keys(['id_', 'embedding', 'metadata', 'excluded_embed_metadata_keys', 'excluded_llm_metadata_keys', 'relationships', 'text', 'start_char_idx', 'end_char_idx', 'text_template', 'metadata_template', 'metadata_seperator', 'class_name'])"
      ]
     },
     "execution_count": 56,
     "metadata": {},
     "output_type": "execute_result"
    }
   ],
   "source": [
    "nodes[0].to_dict().keys()"
   ]
  },
  {
   "cell_type": "code",
   "execution_count": 81,
   "id": "e50cf134-be77-4000-8aa7-d6c342aff982",
   "metadata": {
    "scrolled": true
   },
   "outputs": [
    {
     "ename": "NameError",
     "evalue": "name 'index' is not defined",
     "output_type": "error",
     "traceback": [
      "\u001b[0;31m---------------------------------------------------------------------------\u001b[0m",
      "\u001b[0;31mNameError\u001b[0m                                 Traceback (most recent call last)",
      "Cell \u001b[0;32mIn[81], line 1\u001b[0m\n\u001b[0;32m----> 1\u001b[0m \u001b[38;5;28mlen\u001b[39m(\u001b[43mindex\u001b[49m\u001b[38;5;241m.\u001b[39mdocstore\u001b[38;5;241m.\u001b[39mdocs\u001b[38;5;241m.\u001b[39mvalues())\n",
      "\u001b[0;31mNameError\u001b[0m: name 'index' is not defined"
     ]
    }
   ],
   "source": [
    "len(index.docstore.docs.values())"
   ]
  },
  {
   "cell_type": "code",
   "execution_count": 51,
   "id": "e01c028e-fb52-4f0f-b225-728a603cd266",
   "metadata": {},
   "outputs": [
    {
     "data": {
      "text/plain": [
       "StorageContext(docstore=<llama_index.core.storage.docstore.simple_docstore.SimpleDocumentStore object at 0x77c550b63d50>, index_store=<llama_index.core.storage.index_store.simple_index_store.SimpleIndexStore object at 0x77c546babfd0>, vector_stores={'default': <llama_index.core.vector_stores.simple.SimpleVectorStore object at 0x77c5451d5a50>, 'image': <llama_index.core.vector_stores.simple.SimpleVectorStore object at 0x77c545bd3f90>}, graph_store=<llama_index.core.graph_stores.simple.SimpleGraphStore object at 0x77c5451ad650>)"
      ]
     },
     "execution_count": 51,
     "metadata": {},
     "output_type": "execute_result"
    }
   ],
   "source": [
    "index.storage_context"
   ]
  },
  {
   "cell_type": "code",
   "execution_count": 47,
   "id": "3a43b9a0-e492-4494-b2bd-568d5ae5e470",
   "metadata": {},
   "outputs": [
    {
     "data": {
      "text/plain": [
       "'2fc6008d-4ec4-4ca9-ba63-4d680b9285b1'"
      ]
     },
     "execution_count": 47,
     "metadata": {},
     "output_type": "execute_result"
    }
   ],
   "source": [
    "nodes[-1].node_id"
   ]
  },
  {
   "cell_type": "code",
   "execution_count": 48,
   "id": "64233192-c807-4f85-9f41-6a4ed5d11ec8",
   "metadata": {},
   "outputs": [
    {
     "data": {
      "text/plain": [
       "{'data/paul_graham_essay.txt': RefDocInfo(node_ids=['0f17135a-3916-41df-86c1-210f9d44eea0', 'f8bfd179-5245-49f6-8d6b-628b074ff44d', '596ccf32-90c1-4c1e-a971-ff96c96e410c', '0f28e4fa-848b-4120-a1f2-c73a8ac458ea', '27882781-9546-42b5-8b9a-a87ad78ef252', 'ec7a249f-333b-4463-829a-d0f9e4cb33b4', '29e670a3-8025-4ca2-8a91-7711cc17beb0', '12e3f0ca-19e7-424c-a2c9-3d2674a25cb7', 'f350365c-6f51-4ca0-ab43-9f6bdee4f684', 'e8bdf28b-204d-4866-babb-00f0be6736c2', 'c5e234f3-dd47-4d00-ba26-b5bd4116fe4b', '2b1e21b1-1f5e-4dfe-a40a-b3542ad900e1', 'cd5d0d18-ec60-4f81-86c4-bd119880884b', '6c72b7a2-5c08-4114-8344-2f43c7291a0b', 'fc64ddcf-ffd6-4e63-989f-2f3408b5a2c0', '9c062cc1-9dfc-446e-8dbc-5e0b914bb654', '616db433-f9b1-426a-b706-413035a1fe92', 'f45b55ea-0498-4dbb-8bc4-ec0fee1da31d', '69b878f6-743a-4553-be3d-6508e60319c8', '587ad45a-10bf-4d71-b0b0-36a84a85a92d', 'd2e24023-26be-43f3-a321-f50fbd9715b6', '71e323d5-0e63-4c92-8d2d-187ca96d4c90', 'e6a37990-e980-4508-aa97-74743bdb8dea', 'e3ced449-0bcb-4709-9e0e-9e87cb737a82', '7aee4fea-7208-4b1f-90ce-74aca7bfc463', '5e380ca4-ce35-4076-8858-2832cc44c4a3', '3cbd43b7-3267-4600-b0c4-0714f9f46cf8', 'f2bbd0e6-dcd8-4589-a2c9-438d640fdbfc', '0d2e2689-442d-4bfe-92d2-8ab40ea39e2b', 'd74ee19c-ea37-408b-8d22-35c657556930', 'a3001dff-f321-4bc2-9b7f-aca52135f371', '47e6f9ea-66a8-4b38-8f96-e114af025533', '67e1e392-4c07-4711-82e7-a264a244adfc', '2ea2332d-9bed-494f-829f-e52e3407682a', 'de9ceeb6-2e25-48c9-851c-03716fe96319', 'b2009fc4-9459-4d07-b8e3-fb7c28e31a7f', 'a93eaf83-8d08-4ea8-8342-7b10bd26db71', '1bb33508-bd88-4f20-b170-4dd22bc02020', '3b3883fa-f8e2-49e3-bf80-a0e3d9456e58', '378f6bd9-20ba-454b-b72f-f001bd4f17e8', '4df5a35f-2788-443d-a57d-8e56a9399fe1', '1fb95016-4ec1-424c-8536-587c611c1e8b', '87b839e3-37d0-4411-97b0-f0e68fc03997', '4d199de6-1d75-416a-a2bd-2e532ed438b0', '88da435e-4197-44be-adcd-374a2b4a225e', '86f6b647-e401-4d69-b862-a51d96b330f2', '2fc6008d-4ec4-4ca9-ba63-4d680b9285b1'], metadata={'file_path': 'data/paul_graham_essay.txt', 'file_name': 'paul_graham_essay.txt', 'file_type': 'text/plain', 'file_size': 75042, 'creation_date': '2024-04-16', 'last_modified_date': '2024-04-15', 'author': 'paul_graham'})}"
      ]
     },
     "execution_count": 48,
     "metadata": {},
     "output_type": "execute_result"
    }
   ],
   "source": [
    "index.ref_doc_info"
   ]
  },
  {
   "cell_type": "code",
   "execution_count": 66,
   "id": "09dfe76d-6974-4c0d-b923-6f6a6a4b2b7f",
   "metadata": {
    "scrolled": true
   },
   "outputs": [
    {
     "data": {
      "text/plain": [
       "{'id_': '2e62035f-fa9a-43db-9609-629a6e106a2c',\n",
       " 'embedding': None,\n",
       " 'metadata': {'file_path': '/home/santhosh/Projects/RAG/data/paul_graham_essay.txt',\n",
       "  'file_name': 'paul_graham_essay.txt',\n",
       "  'file_type': 'text/plain',\n",
       "  'file_size': 75042,\n",
       "  'creation_date': '2024-04-16',\n",
       "  'last_modified_date': '2024-04-15',\n",
       "  'author': 'paul_graham'},\n",
       " 'excluded_embed_metadata_keys': ['file_name',\n",
       "  'file_type',\n",
       "  'file_size',\n",
       "  'creation_date',\n",
       "  'last_modified_date',\n",
       "  'last_accessed_date'],\n",
       " 'excluded_llm_metadata_keys': ['file_name',\n",
       "  'file_type',\n",
       "  'file_size',\n",
       "  'creation_date',\n",
       "  'last_modified_date',\n",
       "  'last_accessed_date'],\n",
       " 'relationships': {<NodeRelationship.SOURCE: '1'>: {'node_id': '/home/santhosh/Projects/RAG/data/paul_graham_essay.txt',\n",
       "   'node_type': <ObjectType.DOCUMENT: '4'>,\n",
       "   'metadata': {'file_path': '/home/santhosh/Projects/RAG/data/paul_graham_essay.txt',\n",
       "    'file_name': 'paul_graham_essay.txt',\n",
       "    'file_type': 'text/plain',\n",
       "    'file_size': 75042,\n",
       "    'creation_date': '2024-04-16',\n",
       "    'last_modified_date': '2024-04-15',\n",
       "    'author': 'paul_graham'},\n",
       "   'hash': '6560d7866f57aef4e082806f5510860849b74fad90884944bff9eae91121f4e3',\n",
       "   'class_name': 'RelatedNodeInfo'},\n",
       "  <NodeRelationship.PREVIOUS: '2'>: {'node_id': '8494a6fd-2bc4-44e6-bb9f-398ecabed88b',\n",
       "   'node_type': <ObjectType.TEXT: '1'>,\n",
       "   'metadata': {'file_path': '/home/santhosh/Projects/RAG/data/paul_graham_essay.txt',\n",
       "    'file_name': 'paul_graham_essay.txt',\n",
       "    'file_type': 'text/plain',\n",
       "    'file_size': 75042,\n",
       "    'creation_date': '2024-04-16',\n",
       "    'last_modified_date': '2024-04-15',\n",
       "    'author': 'paul_graham'},\n",
       "   'hash': 'b3eff82cef2813e9b487a6e0b95e8e223333b084be4cb18b2d79d552f1674cda',\n",
       "   'class_name': 'RelatedNodeInfo'}},\n",
       " 'text': \"But that in turn encourages more; anyone who wants to pick a fight with you senses that now is their chance.\\n\\n[18] The worst thing about leaving YC was not working with Jessica anymore. We'd been working on YC almost the whole time we'd known each other, and we'd neither tried nor wanted to separate it from our personal lives, so leaving was like pulling up a deeply rooted tree.\\n\\n[19] One way to get more precise about the concept of invented vs discovered is to talk about space aliens. Any sufficiently advanced alien civilization would certainly know about the Pythagorean theorem, for example. I believe, though with less certainty, that they would also know about the Lisp in McCarthy's 1960 paper.\\n\\nBut if so there's no reason to suppose that this is the limit of the language that might be known to them. Presumably aliens need numbers and errors and I/O too. So it seems likely there exists at least one path out of McCarthy's Lisp along which discoveredness is preserved.\\n\\n\\n\\nThanks to Trevor Blackwell, John Collison, Patrick Collison, Daniel Gackle, Ralph Hazell, Jessica Livingston, Robert Morris, and Harj Taggar for reading drafts of this.\",\n",
       " 'start_char_idx': 73858,\n",
       " 'end_char_idx': 75013,\n",
       " 'text_template': '{metadata_str}\\n\\n{content}',\n",
       " 'metadata_template': '{key}: {value}',\n",
       " 'metadata_seperator': '\\n',\n",
       " 'class_name': 'TextNode'}"
      ]
     },
     "execution_count": 66,
     "metadata": {},
     "output_type": "execute_result"
    }
   ],
   "source": [
    "index.docstore.docs.get('2e62035f-fa9a-43db-9609-629a6e106a2c').to_dict()"
   ]
  },
  {
   "cell_type": "code",
   "execution_count": 57,
   "id": "1c18122f-2c16-402e-8f8d-b14004130a32",
   "metadata": {},
   "outputs": [
    {
     "data": {
      "text/plain": [
       "47"
      ]
     },
     "execution_count": 57,
     "metadata": {},
     "output_type": "execute_result"
    }
   ],
   "source": [
    "chroma_collection.count()"
   ]
  },
  {
   "cell_type": "code",
   "execution_count": null,
   "id": "77226d20-4ef0-4c26-b2c0-4d7ab5e7680e",
   "metadata": {},
   "outputs": [],
   "source": []
  },
  {
   "cell_type": "code",
   "execution_count": 36,
   "id": "ecd20dbf-2cf2-46ac-be0f-750ace8dc596",
   "metadata": {},
   "outputs": [
    {
     "data": {
      "text/plain": [
       "'Paul Graham is one of the founders of Y Combinator, an angel investment firm that focuses on funding and supporting startups.'"
      ]
     },
     "execution_count": 36,
     "metadata": {},
     "output_type": "execute_result"
    }
   ],
   "source": [
    "index.as_chat_engine().chat('who is paul graham?').response"
   ]
  },
  {
   "cell_type": "code",
   "execution_count": 48,
   "id": "af8bee86-ac69-47e0-9eb6-0ac18c0a0f12",
   "metadata": {},
   "outputs": [
    {
     "data": {
      "text/plain": [
       "\"Paul Graham is an individual who co-founded Y Combinator, an investment firm that provides seed funding for startups. He played a key role in shaping Y Combinator's approach to investing in and supporting startups.\""
      ]
     },
     "execution_count": 48,
     "metadata": {},
     "output_type": "execute_result"
    }
   ],
   "source": [
    "index.as_chat_engine().chat('who is paul graham?').response"
   ]
  },
  {
   "cell_type": "code",
   "execution_count": 38,
   "id": "f9fa99bd-8c47-400f-8ffa-1974585de531",
   "metadata": {},
   "outputs": [
    {
     "data": {
      "text/plain": [
       "'Paul Graham is an individual who experimented with a new kind of still life painting technique, looked for an apartment to buy, and eventually came up with the idea of building a web app for making web apps. He founded a company named Aspra, which was later renamed to reflect the changing industry terminology. Additionally, he worked on developing a new dialect of Lisp called Arc and gave a talk at a Lisp conference about his experiences using Lisp at Viaweb.'"
      ]
     },
     "execution_count": 38,
     "metadata": {},
     "output_type": "execute_result"
    }
   ],
   "source": [
    "index.as_chat_engine().chat('who is paul graham?').sources[0].content"
   ]
  },
  {
   "cell_type": "markdown",
   "id": "bccb7a3d-3d59-4c57-ac56-88936aeea62e",
   "metadata": {},
   "source": [
    "## Qdrant"
   ]
  },
  {
   "cell_type": "code",
   "execution_count": 91,
   "id": "77fbb06f-e537-4090-a74c-ca920c1a47f0",
   "metadata": {},
   "outputs": [],
   "source": [
    "from llama_index.vector_stores.qdrant import QdrantVectorStore"
   ]
  },
  {
   "cell_type": "code",
   "execution_count": 92,
   "id": "c962f960-8512-4871-85ec-fcbce24aab37",
   "metadata": {},
   "outputs": [],
   "source": [
    "import qdrant_client"
   ]
  },
  {
   "cell_type": "code",
   "execution_count": 93,
   "id": "dae1c6ed-7ad3-4f23-8000-6c345f1c6002",
   "metadata": {},
   "outputs": [],
   "source": [
    "client = qdrant_client.QdrantClient(\n",
    "    host=\"localhost\",\n",
    "    port=6333)"
   ]
  },
  {
   "cell_type": "code",
   "execution_count": 94,
   "id": "4eafe2b5-2849-4b20-8abb-7e9ae19e94ed",
   "metadata": {
    "scrolled": true
   },
   "outputs": [
    {
     "ename": "ResponseHandlingException",
     "evalue": "[Errno 111] Connection refused",
     "output_type": "error",
     "traceback": [
      "\u001b[0;31m---------------------------------------------------------------------------\u001b[0m",
      "\u001b[0;31mConnectError\u001b[0m                              Traceback (most recent call last)",
      "File \u001b[0;32m~/anaconda3/lib/python3.11/site-packages/httpx/_transports/default.py:69\u001b[0m, in \u001b[0;36mmap_httpcore_exceptions\u001b[0;34m()\u001b[0m\n\u001b[1;32m     68\u001b[0m \u001b[38;5;28;01mtry\u001b[39;00m:\n\u001b[0;32m---> 69\u001b[0m     \u001b[38;5;28;01myield\u001b[39;00m\n\u001b[1;32m     70\u001b[0m \u001b[38;5;28;01mexcept\u001b[39;00m \u001b[38;5;167;01mException\u001b[39;00m \u001b[38;5;28;01mas\u001b[39;00m exc:\n",
      "File \u001b[0;32m~/anaconda3/lib/python3.11/site-packages/httpx/_transports/default.py:233\u001b[0m, in \u001b[0;36mHTTPTransport.handle_request\u001b[0;34m(self, request)\u001b[0m\n\u001b[1;32m    232\u001b[0m \u001b[38;5;28;01mwith\u001b[39;00m map_httpcore_exceptions():\n\u001b[0;32m--> 233\u001b[0m     resp \u001b[38;5;241m=\u001b[39m \u001b[38;5;28;43mself\u001b[39;49m\u001b[38;5;241;43m.\u001b[39;49m\u001b[43m_pool\u001b[49m\u001b[38;5;241;43m.\u001b[39;49m\u001b[43mhandle_request\u001b[49m\u001b[43m(\u001b[49m\u001b[43mreq\u001b[49m\u001b[43m)\u001b[49m\n\u001b[1;32m    235\u001b[0m \u001b[38;5;28;01massert\u001b[39;00m \u001b[38;5;28misinstance\u001b[39m(resp\u001b[38;5;241m.\u001b[39mstream, typing\u001b[38;5;241m.\u001b[39mIterable)\n",
      "File \u001b[0;32m~/anaconda3/lib/python3.11/site-packages/httpcore/_sync/connection_pool.py:216\u001b[0m, in \u001b[0;36mConnectionPool.handle_request\u001b[0;34m(self, request)\u001b[0m\n\u001b[1;32m    215\u001b[0m     \u001b[38;5;28mself\u001b[39m\u001b[38;5;241m.\u001b[39m_close_connections(closing)\n\u001b[0;32m--> 216\u001b[0m     \u001b[38;5;28;01mraise\u001b[39;00m exc \u001b[38;5;28;01mfrom\u001b[39;00m \u001b[38;5;28;01mNone\u001b[39;00m\n\u001b[1;32m    218\u001b[0m \u001b[38;5;66;03m# Return the response. Note that in this case we still have to manage\u001b[39;00m\n\u001b[1;32m    219\u001b[0m \u001b[38;5;66;03m# the point at which the response is closed.\u001b[39;00m\n",
      "File \u001b[0;32m~/anaconda3/lib/python3.11/site-packages/httpcore/_sync/connection_pool.py:196\u001b[0m, in \u001b[0;36mConnectionPool.handle_request\u001b[0;34m(self, request)\u001b[0m\n\u001b[1;32m    194\u001b[0m \u001b[38;5;28;01mtry\u001b[39;00m:\n\u001b[1;32m    195\u001b[0m     \u001b[38;5;66;03m# Send the request on the assigned connection.\u001b[39;00m\n\u001b[0;32m--> 196\u001b[0m     response \u001b[38;5;241m=\u001b[39m \u001b[43mconnection\u001b[49m\u001b[38;5;241;43m.\u001b[39;49m\u001b[43mhandle_request\u001b[49m\u001b[43m(\u001b[49m\n\u001b[1;32m    197\u001b[0m \u001b[43m        \u001b[49m\u001b[43mpool_request\u001b[49m\u001b[38;5;241;43m.\u001b[39;49m\u001b[43mrequest\u001b[49m\n\u001b[1;32m    198\u001b[0m \u001b[43m    \u001b[49m\u001b[43m)\u001b[49m\n\u001b[1;32m    199\u001b[0m \u001b[38;5;28;01mexcept\u001b[39;00m ConnectionNotAvailable:\n\u001b[1;32m    200\u001b[0m     \u001b[38;5;66;03m# In some cases a connection may initially be available to\u001b[39;00m\n\u001b[1;32m    201\u001b[0m     \u001b[38;5;66;03m# handle a request, but then become unavailable.\u001b[39;00m\n\u001b[1;32m    202\u001b[0m     \u001b[38;5;66;03m#\u001b[39;00m\n\u001b[1;32m    203\u001b[0m     \u001b[38;5;66;03m# In this case we clear the connection and try again.\u001b[39;00m\n",
      "File \u001b[0;32m~/anaconda3/lib/python3.11/site-packages/httpcore/_sync/connection.py:99\u001b[0m, in \u001b[0;36mHTTPConnection.handle_request\u001b[0;34m(self, request)\u001b[0m\n\u001b[1;32m     98\u001b[0m     \u001b[38;5;28mself\u001b[39m\u001b[38;5;241m.\u001b[39m_connect_failed \u001b[38;5;241m=\u001b[39m \u001b[38;5;28;01mTrue\u001b[39;00m\n\u001b[0;32m---> 99\u001b[0m     \u001b[38;5;28;01mraise\u001b[39;00m exc\n\u001b[1;32m    101\u001b[0m \u001b[38;5;28;01mreturn\u001b[39;00m \u001b[38;5;28mself\u001b[39m\u001b[38;5;241m.\u001b[39m_connection\u001b[38;5;241m.\u001b[39mhandle_request(request)\n",
      "File \u001b[0;32m~/anaconda3/lib/python3.11/site-packages/httpcore/_sync/connection.py:76\u001b[0m, in \u001b[0;36mHTTPConnection.handle_request\u001b[0;34m(self, request)\u001b[0m\n\u001b[1;32m     75\u001b[0m \u001b[38;5;28;01mif\u001b[39;00m \u001b[38;5;28mself\u001b[39m\u001b[38;5;241m.\u001b[39m_connection \u001b[38;5;129;01mis\u001b[39;00m \u001b[38;5;28;01mNone\u001b[39;00m:\n\u001b[0;32m---> 76\u001b[0m     stream \u001b[38;5;241m=\u001b[39m \u001b[38;5;28;43mself\u001b[39;49m\u001b[38;5;241;43m.\u001b[39;49m\u001b[43m_connect\u001b[49m\u001b[43m(\u001b[49m\u001b[43mrequest\u001b[49m\u001b[43m)\u001b[49m\n\u001b[1;32m     78\u001b[0m     ssl_object \u001b[38;5;241m=\u001b[39m stream\u001b[38;5;241m.\u001b[39mget_extra_info(\u001b[38;5;124m\"\u001b[39m\u001b[38;5;124mssl_object\u001b[39m\u001b[38;5;124m\"\u001b[39m)\n",
      "File \u001b[0;32m~/anaconda3/lib/python3.11/site-packages/httpcore/_sync/connection.py:122\u001b[0m, in \u001b[0;36mHTTPConnection._connect\u001b[0;34m(self, request)\u001b[0m\n\u001b[1;32m    121\u001b[0m \u001b[38;5;28;01mwith\u001b[39;00m Trace(\u001b[38;5;124m\"\u001b[39m\u001b[38;5;124mconnect_tcp\u001b[39m\u001b[38;5;124m\"\u001b[39m, logger, request, kwargs) \u001b[38;5;28;01mas\u001b[39;00m trace:\n\u001b[0;32m--> 122\u001b[0m     stream \u001b[38;5;241m=\u001b[39m \u001b[38;5;28;43mself\u001b[39;49m\u001b[38;5;241;43m.\u001b[39;49m\u001b[43m_network_backend\u001b[49m\u001b[38;5;241;43m.\u001b[39;49m\u001b[43mconnect_tcp\u001b[49m\u001b[43m(\u001b[49m\u001b[38;5;241;43m*\u001b[39;49m\u001b[38;5;241;43m*\u001b[39;49m\u001b[43mkwargs\u001b[49m\u001b[43m)\u001b[49m\n\u001b[1;32m    123\u001b[0m     trace\u001b[38;5;241m.\u001b[39mreturn_value \u001b[38;5;241m=\u001b[39m stream\n",
      "File \u001b[0;32m~/anaconda3/lib/python3.11/site-packages/httpcore/_backends/sync.py:205\u001b[0m, in \u001b[0;36mSyncBackend.connect_tcp\u001b[0;34m(self, host, port, timeout, local_address, socket_options)\u001b[0m\n\u001b[1;32m    200\u001b[0m exc_map: ExceptionMapping \u001b[38;5;241m=\u001b[39m {\n\u001b[1;32m    201\u001b[0m     socket\u001b[38;5;241m.\u001b[39mtimeout: ConnectTimeout,\n\u001b[1;32m    202\u001b[0m     \u001b[38;5;167;01mOSError\u001b[39;00m: ConnectError,\n\u001b[1;32m    203\u001b[0m }\n\u001b[0;32m--> 205\u001b[0m \u001b[43m\u001b[49m\u001b[38;5;28;43;01mwith\u001b[39;49;00m\u001b[43m \u001b[49m\u001b[43mmap_exceptions\u001b[49m\u001b[43m(\u001b[49m\u001b[43mexc_map\u001b[49m\u001b[43m)\u001b[49m\u001b[43m:\u001b[49m\n\u001b[1;32m    206\u001b[0m \u001b[43m    \u001b[49m\u001b[43msock\u001b[49m\u001b[43m \u001b[49m\u001b[38;5;241;43m=\u001b[39;49m\u001b[43m \u001b[49m\u001b[43msocket\u001b[49m\u001b[38;5;241;43m.\u001b[39;49m\u001b[43mcreate_connection\u001b[49m\u001b[43m(\u001b[49m\n\u001b[1;32m    207\u001b[0m \u001b[43m        \u001b[49m\u001b[43maddress\u001b[49m\u001b[43m,\u001b[49m\n\u001b[1;32m    208\u001b[0m \u001b[43m        \u001b[49m\u001b[43mtimeout\u001b[49m\u001b[43m,\u001b[49m\n\u001b[1;32m    209\u001b[0m \u001b[43m        \u001b[49m\u001b[43msource_address\u001b[49m\u001b[38;5;241;43m=\u001b[39;49m\u001b[43msource_address\u001b[49m\u001b[43m,\u001b[49m\n\u001b[1;32m    210\u001b[0m \u001b[43m    \u001b[49m\u001b[43m)\u001b[49m\n",
      "File \u001b[0;32m~/anaconda3/lib/python3.11/contextlib.py:158\u001b[0m, in \u001b[0;36m_GeneratorContextManager.__exit__\u001b[0;34m(self, typ, value, traceback)\u001b[0m\n\u001b[1;32m    157\u001b[0m \u001b[38;5;28;01mtry\u001b[39;00m:\n\u001b[0;32m--> 158\u001b[0m     \u001b[38;5;28mself\u001b[39m\u001b[38;5;241m.\u001b[39mgen\u001b[38;5;241m.\u001b[39mthrow(typ, value, traceback)\n\u001b[1;32m    159\u001b[0m \u001b[38;5;28;01mexcept\u001b[39;00m \u001b[38;5;167;01mStopIteration\u001b[39;00m \u001b[38;5;28;01mas\u001b[39;00m exc:\n\u001b[1;32m    160\u001b[0m     \u001b[38;5;66;03m# Suppress StopIteration *unless* it's the same exception that\u001b[39;00m\n\u001b[1;32m    161\u001b[0m     \u001b[38;5;66;03m# was passed to throw().  This prevents a StopIteration\u001b[39;00m\n\u001b[1;32m    162\u001b[0m     \u001b[38;5;66;03m# raised inside the \"with\" statement from being suppressed.\u001b[39;00m\n",
      "File \u001b[0;32m~/anaconda3/lib/python3.11/site-packages/httpcore/_exceptions.py:14\u001b[0m, in \u001b[0;36mmap_exceptions\u001b[0;34m(map)\u001b[0m\n\u001b[1;32m     13\u001b[0m     \u001b[38;5;28;01mif\u001b[39;00m \u001b[38;5;28misinstance\u001b[39m(exc, from_exc):\n\u001b[0;32m---> 14\u001b[0m         \u001b[38;5;28;01mraise\u001b[39;00m to_exc(exc) \u001b[38;5;28;01mfrom\u001b[39;00m \u001b[38;5;21;01mexc\u001b[39;00m\n\u001b[1;32m     15\u001b[0m \u001b[38;5;28;01mraise\u001b[39;00m\n",
      "\u001b[0;31mConnectError\u001b[0m: [Errno 111] Connection refused",
      "\nThe above exception was the direct cause of the following exception:\n",
      "\u001b[0;31mConnectError\u001b[0m                              Traceback (most recent call last)",
      "File \u001b[0;32m~/anaconda3/lib/python3.11/site-packages/qdrant_client/http/api_client.py:103\u001b[0m, in \u001b[0;36mApiClient.send_inner\u001b[0;34m(self, request)\u001b[0m\n\u001b[1;32m    102\u001b[0m \u001b[38;5;28;01mtry\u001b[39;00m:\n\u001b[0;32m--> 103\u001b[0m     response \u001b[38;5;241m=\u001b[39m \u001b[38;5;28;43mself\u001b[39;49m\u001b[38;5;241;43m.\u001b[39;49m\u001b[43m_client\u001b[49m\u001b[38;5;241;43m.\u001b[39;49m\u001b[43msend\u001b[49m\u001b[43m(\u001b[49m\u001b[43mrequest\u001b[49m\u001b[43m)\u001b[49m\n\u001b[1;32m    104\u001b[0m \u001b[38;5;28;01mexcept\u001b[39;00m \u001b[38;5;167;01mException\u001b[39;00m \u001b[38;5;28;01mas\u001b[39;00m e:\n",
      "File \u001b[0;32m~/anaconda3/lib/python3.11/site-packages/httpx/_client.py:914\u001b[0m, in \u001b[0;36mClient.send\u001b[0;34m(self, request, stream, auth, follow_redirects)\u001b[0m\n\u001b[1;32m    912\u001b[0m auth \u001b[38;5;241m=\u001b[39m \u001b[38;5;28mself\u001b[39m\u001b[38;5;241m.\u001b[39m_build_request_auth(request, auth)\n\u001b[0;32m--> 914\u001b[0m response \u001b[38;5;241m=\u001b[39m \u001b[38;5;28;43mself\u001b[39;49m\u001b[38;5;241;43m.\u001b[39;49m\u001b[43m_send_handling_auth\u001b[49m\u001b[43m(\u001b[49m\n\u001b[1;32m    915\u001b[0m \u001b[43m    \u001b[49m\u001b[43mrequest\u001b[49m\u001b[43m,\u001b[49m\n\u001b[1;32m    916\u001b[0m \u001b[43m    \u001b[49m\u001b[43mauth\u001b[49m\u001b[38;5;241;43m=\u001b[39;49m\u001b[43mauth\u001b[49m\u001b[43m,\u001b[49m\n\u001b[1;32m    917\u001b[0m \u001b[43m    \u001b[49m\u001b[43mfollow_redirects\u001b[49m\u001b[38;5;241;43m=\u001b[39;49m\u001b[43mfollow_redirects\u001b[49m\u001b[43m,\u001b[49m\n\u001b[1;32m    918\u001b[0m \u001b[43m    \u001b[49m\u001b[43mhistory\u001b[49m\u001b[38;5;241;43m=\u001b[39;49m\u001b[43m[\u001b[49m\u001b[43m]\u001b[49m\u001b[43m,\u001b[49m\n\u001b[1;32m    919\u001b[0m \u001b[43m\u001b[49m\u001b[43m)\u001b[49m\n\u001b[1;32m    920\u001b[0m \u001b[38;5;28;01mtry\u001b[39;00m:\n",
      "File \u001b[0;32m~/anaconda3/lib/python3.11/site-packages/httpx/_client.py:942\u001b[0m, in \u001b[0;36mClient._send_handling_auth\u001b[0;34m(self, request, auth, follow_redirects, history)\u001b[0m\n\u001b[1;32m    941\u001b[0m \u001b[38;5;28;01mwhile\u001b[39;00m \u001b[38;5;28;01mTrue\u001b[39;00m:\n\u001b[0;32m--> 942\u001b[0m     response \u001b[38;5;241m=\u001b[39m \u001b[38;5;28;43mself\u001b[39;49m\u001b[38;5;241;43m.\u001b[39;49m\u001b[43m_send_handling_redirects\u001b[49m\u001b[43m(\u001b[49m\n\u001b[1;32m    943\u001b[0m \u001b[43m        \u001b[49m\u001b[43mrequest\u001b[49m\u001b[43m,\u001b[49m\n\u001b[1;32m    944\u001b[0m \u001b[43m        \u001b[49m\u001b[43mfollow_redirects\u001b[49m\u001b[38;5;241;43m=\u001b[39;49m\u001b[43mfollow_redirects\u001b[49m\u001b[43m,\u001b[49m\n\u001b[1;32m    945\u001b[0m \u001b[43m        \u001b[49m\u001b[43mhistory\u001b[49m\u001b[38;5;241;43m=\u001b[39;49m\u001b[43mhistory\u001b[49m\u001b[43m,\u001b[49m\n\u001b[1;32m    946\u001b[0m \u001b[43m    \u001b[49m\u001b[43m)\u001b[49m\n\u001b[1;32m    947\u001b[0m     \u001b[38;5;28;01mtry\u001b[39;00m:\n",
      "File \u001b[0;32m~/anaconda3/lib/python3.11/site-packages/httpx/_client.py:979\u001b[0m, in \u001b[0;36mClient._send_handling_redirects\u001b[0;34m(self, request, follow_redirects, history)\u001b[0m\n\u001b[1;32m    977\u001b[0m     hook(request)\n\u001b[0;32m--> 979\u001b[0m response \u001b[38;5;241m=\u001b[39m \u001b[38;5;28;43mself\u001b[39;49m\u001b[38;5;241;43m.\u001b[39;49m\u001b[43m_send_single_request\u001b[49m\u001b[43m(\u001b[49m\u001b[43mrequest\u001b[49m\u001b[43m)\u001b[49m\n\u001b[1;32m    980\u001b[0m \u001b[38;5;28;01mtry\u001b[39;00m:\n",
      "File \u001b[0;32m~/anaconda3/lib/python3.11/site-packages/httpx/_client.py:1015\u001b[0m, in \u001b[0;36mClient._send_single_request\u001b[0;34m(self, request)\u001b[0m\n\u001b[1;32m   1014\u001b[0m \u001b[38;5;28;01mwith\u001b[39;00m request_context(request\u001b[38;5;241m=\u001b[39mrequest):\n\u001b[0;32m-> 1015\u001b[0m     response \u001b[38;5;241m=\u001b[39m \u001b[43mtransport\u001b[49m\u001b[38;5;241;43m.\u001b[39;49m\u001b[43mhandle_request\u001b[49m\u001b[43m(\u001b[49m\u001b[43mrequest\u001b[49m\u001b[43m)\u001b[49m\n\u001b[1;32m   1017\u001b[0m \u001b[38;5;28;01massert\u001b[39;00m \u001b[38;5;28misinstance\u001b[39m(response\u001b[38;5;241m.\u001b[39mstream, SyncByteStream)\n",
      "File \u001b[0;32m~/anaconda3/lib/python3.11/site-packages/httpx/_transports/default.py:232\u001b[0m, in \u001b[0;36mHTTPTransport.handle_request\u001b[0;34m(self, request)\u001b[0m\n\u001b[1;32m    220\u001b[0m req \u001b[38;5;241m=\u001b[39m httpcore\u001b[38;5;241m.\u001b[39mRequest(\n\u001b[1;32m    221\u001b[0m     method\u001b[38;5;241m=\u001b[39mrequest\u001b[38;5;241m.\u001b[39mmethod,\n\u001b[1;32m    222\u001b[0m     url\u001b[38;5;241m=\u001b[39mhttpcore\u001b[38;5;241m.\u001b[39mURL(\n\u001b[0;32m   (...)\u001b[0m\n\u001b[1;32m    230\u001b[0m     extensions\u001b[38;5;241m=\u001b[39mrequest\u001b[38;5;241m.\u001b[39mextensions,\n\u001b[1;32m    231\u001b[0m )\n\u001b[0;32m--> 232\u001b[0m \u001b[43m\u001b[49m\u001b[38;5;28;43;01mwith\u001b[39;49;00m\u001b[43m \u001b[49m\u001b[43mmap_httpcore_exceptions\u001b[49m\u001b[43m(\u001b[49m\u001b[43m)\u001b[49m\u001b[43m:\u001b[49m\n\u001b[1;32m    233\u001b[0m \u001b[43m    \u001b[49m\u001b[43mresp\u001b[49m\u001b[43m \u001b[49m\u001b[38;5;241;43m=\u001b[39;49m\u001b[43m \u001b[49m\u001b[38;5;28;43mself\u001b[39;49m\u001b[38;5;241;43m.\u001b[39;49m\u001b[43m_pool\u001b[49m\u001b[38;5;241;43m.\u001b[39;49m\u001b[43mhandle_request\u001b[49m\u001b[43m(\u001b[49m\u001b[43mreq\u001b[49m\u001b[43m)\u001b[49m\n",
      "File \u001b[0;32m~/anaconda3/lib/python3.11/contextlib.py:158\u001b[0m, in \u001b[0;36m_GeneratorContextManager.__exit__\u001b[0;34m(self, typ, value, traceback)\u001b[0m\n\u001b[1;32m    157\u001b[0m \u001b[38;5;28;01mtry\u001b[39;00m:\n\u001b[0;32m--> 158\u001b[0m     \u001b[38;5;28mself\u001b[39m\u001b[38;5;241m.\u001b[39mgen\u001b[38;5;241m.\u001b[39mthrow(typ, value, traceback)\n\u001b[1;32m    159\u001b[0m \u001b[38;5;28;01mexcept\u001b[39;00m \u001b[38;5;167;01mStopIteration\u001b[39;00m \u001b[38;5;28;01mas\u001b[39;00m exc:\n\u001b[1;32m    160\u001b[0m     \u001b[38;5;66;03m# Suppress StopIteration *unless* it's the same exception that\u001b[39;00m\n\u001b[1;32m    161\u001b[0m     \u001b[38;5;66;03m# was passed to throw().  This prevents a StopIteration\u001b[39;00m\n\u001b[1;32m    162\u001b[0m     \u001b[38;5;66;03m# raised inside the \"with\" statement from being suppressed.\u001b[39;00m\n",
      "File \u001b[0;32m~/anaconda3/lib/python3.11/site-packages/httpx/_transports/default.py:86\u001b[0m, in \u001b[0;36mmap_httpcore_exceptions\u001b[0;34m()\u001b[0m\n\u001b[1;32m     85\u001b[0m message \u001b[38;5;241m=\u001b[39m \u001b[38;5;28mstr\u001b[39m(exc)\n\u001b[0;32m---> 86\u001b[0m \u001b[38;5;28;01mraise\u001b[39;00m mapped_exc(message) \u001b[38;5;28;01mfrom\u001b[39;00m \u001b[38;5;21;01mexc\u001b[39;00m\n",
      "\u001b[0;31mConnectError\u001b[0m: [Errno 111] Connection refused",
      "\nDuring handling of the above exception, another exception occurred:\n",
      "\u001b[0;31mResponseHandlingException\u001b[0m                 Traceback (most recent call last)",
      "Cell \u001b[0;32mIn[94], line 1\u001b[0m\n\u001b[0;32m----> 1\u001b[0m qdrant_vector_store \u001b[38;5;241m=\u001b[39m \u001b[43mQdrantVectorStore\u001b[49m\u001b[43m(\u001b[49m\u001b[43mclient\u001b[49m\u001b[38;5;241;43m=\u001b[39;49m\u001b[43mclient\u001b[49m\u001b[43m,\u001b[49m\u001b[43m \u001b[49m\u001b[43mcollection_name\u001b[49m\u001b[38;5;241;43m=\u001b[39;49m\u001b[38;5;124;43m\"\u001b[39;49m\u001b[38;5;124;43mpaul_graham\u001b[39;49m\u001b[38;5;124;43m\"\u001b[39;49m\u001b[43m)\u001b[49m\n",
      "File \u001b[0;32m~/anaconda3/lib/python3.11/site-packages/llama_index/vector_stores/qdrant/base.py:159\u001b[0m, in \u001b[0;36mQdrantVectorStore.__init__\u001b[0;34m(self, collection_name, client, aclient, url, api_key, batch_size, parallel, max_retries, client_kwargs, enable_hybrid, sparse_doc_fn, sparse_query_fn, hybrid_fusion_fn, **kwargs)\u001b[0m\n\u001b[1;32m    156\u001b[0m     \u001b[38;5;28mself\u001b[39m\u001b[38;5;241m.\u001b[39m_aclient \u001b[38;5;241m=\u001b[39m aclient\n\u001b[1;32m    158\u001b[0m \u001b[38;5;28;01mif\u001b[39;00m \u001b[38;5;28mself\u001b[39m\u001b[38;5;241m.\u001b[39m_client \u001b[38;5;129;01mis\u001b[39;00m \u001b[38;5;129;01mnot\u001b[39;00m \u001b[38;5;28;01mNone\u001b[39;00m:\n\u001b[0;32m--> 159\u001b[0m     \u001b[38;5;28mself\u001b[39m\u001b[38;5;241m.\u001b[39m_collection_initialized \u001b[38;5;241m=\u001b[39m \u001b[38;5;28;43mself\u001b[39;49m\u001b[38;5;241;43m.\u001b[39;49m\u001b[43m_collection_exists\u001b[49m\u001b[43m(\u001b[49m\u001b[43mcollection_name\u001b[49m\u001b[43m)\u001b[49m\n\u001b[1;32m    160\u001b[0m \u001b[38;5;28;01melse\u001b[39;00m:\n\u001b[1;32m    161\u001b[0m     \u001b[38;5;66;03m#  need to do lazy init for async clients\u001b[39;00m\n\u001b[1;32m    162\u001b[0m     \u001b[38;5;28mself\u001b[39m\u001b[38;5;241m.\u001b[39m_collection_initialized \u001b[38;5;241m=\u001b[39m \u001b[38;5;28;01mFalse\u001b[39;00m\n",
      "File \u001b[0;32m~/anaconda3/lib/python3.11/site-packages/llama_index/vector_stores/qdrant/base.py:437\u001b[0m, in \u001b[0;36mQdrantVectorStore._collection_exists\u001b[0;34m(self, collection_name)\u001b[0m\n\u001b[1;32m    435\u001b[0m \u001b[38;5;250m\u001b[39m\u001b[38;5;124;03m\"\"\"Check if a collection exists.\"\"\"\u001b[39;00m\n\u001b[1;32m    436\u001b[0m \u001b[38;5;28;01mtry\u001b[39;00m:\n\u001b[0;32m--> 437\u001b[0m     \u001b[38;5;28;43mself\u001b[39;49m\u001b[38;5;241;43m.\u001b[39;49m\u001b[43m_client\u001b[49m\u001b[38;5;241;43m.\u001b[39;49m\u001b[43mget_collection\u001b[49m\u001b[43m(\u001b[49m\u001b[43mcollection_name\u001b[49m\u001b[43m)\u001b[49m\n\u001b[1;32m    438\u001b[0m \u001b[38;5;28;01mexcept\u001b[39;00m (RpcError, UnexpectedResponse, \u001b[38;5;167;01mValueError\u001b[39;00m):\n\u001b[1;32m    439\u001b[0m     \u001b[38;5;28;01mreturn\u001b[39;00m \u001b[38;5;28;01mFalse\u001b[39;00m\n",
      "File \u001b[0;32m~/anaconda3/lib/python3.11/site-packages/qdrant_client/qdrant_client.py:1561\u001b[0m, in \u001b[0;36mQdrantClient.get_collection\u001b[0;34m(self, collection_name, **kwargs)\u001b[0m\n\u001b[1;32m   1551\u001b[0m \u001b[38;5;250m\u001b[39m\u001b[38;5;124;03m\"\"\"Get detailed information about specified existing collection\u001b[39;00m\n\u001b[1;32m   1552\u001b[0m \n\u001b[1;32m   1553\u001b[0m \u001b[38;5;124;03mArgs:\u001b[39;00m\n\u001b[0;32m   (...)\u001b[0m\n\u001b[1;32m   1557\u001b[0m \u001b[38;5;124;03m    Detailed information about the collection\u001b[39;00m\n\u001b[1;32m   1558\u001b[0m \u001b[38;5;124;03m\"\"\"\u001b[39;00m\n\u001b[1;32m   1559\u001b[0m \u001b[38;5;28;01massert\u001b[39;00m \u001b[38;5;28mlen\u001b[39m(kwargs) \u001b[38;5;241m==\u001b[39m \u001b[38;5;241m0\u001b[39m, \u001b[38;5;124mf\u001b[39m\u001b[38;5;124m\"\u001b[39m\u001b[38;5;124mUnknown arguments: \u001b[39m\u001b[38;5;132;01m{\u001b[39;00m\u001b[38;5;28mlist\u001b[39m(kwargs\u001b[38;5;241m.\u001b[39mkeys())\u001b[38;5;132;01m}\u001b[39;00m\u001b[38;5;124m\"\u001b[39m\n\u001b[0;32m-> 1561\u001b[0m \u001b[38;5;28;01mreturn\u001b[39;00m \u001b[38;5;28;43mself\u001b[39;49m\u001b[38;5;241;43m.\u001b[39;49m\u001b[43m_client\u001b[49m\u001b[38;5;241;43m.\u001b[39;49m\u001b[43mget_collection\u001b[49m\u001b[43m(\u001b[49m\u001b[43mcollection_name\u001b[49m\u001b[38;5;241;43m=\u001b[39;49m\u001b[43mcollection_name\u001b[49m\u001b[43m,\u001b[49m\u001b[43m \u001b[49m\u001b[38;5;241;43m*\u001b[39;49m\u001b[38;5;241;43m*\u001b[39;49m\u001b[43mkwargs\u001b[49m\u001b[43m)\u001b[49m\n",
      "File \u001b[0;32m~/anaconda3/lib/python3.11/site-packages/qdrant_client/qdrant_remote.py:2025\u001b[0m, in \u001b[0;36mQdrantRemote.get_collection\u001b[0;34m(self, collection_name, **kwargs)\u001b[0m\n\u001b[1;32m   2018\u001b[0m \u001b[38;5;28;01mif\u001b[39;00m \u001b[38;5;28mself\u001b[39m\u001b[38;5;241m.\u001b[39m_prefer_grpc:\n\u001b[1;32m   2019\u001b[0m     \u001b[38;5;28;01mreturn\u001b[39;00m GrpcToRest\u001b[38;5;241m.\u001b[39mconvert_collection_info(\n\u001b[1;32m   2020\u001b[0m         \u001b[38;5;28mself\u001b[39m\u001b[38;5;241m.\u001b[39mgrpc_collections\u001b[38;5;241m.\u001b[39mGet(\n\u001b[1;32m   2021\u001b[0m             grpc\u001b[38;5;241m.\u001b[39mGetCollectionInfoRequest(collection_name\u001b[38;5;241m=\u001b[39mcollection_name),\n\u001b[1;32m   2022\u001b[0m             timeout\u001b[38;5;241m=\u001b[39m\u001b[38;5;28mself\u001b[39m\u001b[38;5;241m.\u001b[39m_timeout,\n\u001b[1;32m   2023\u001b[0m         )\u001b[38;5;241m.\u001b[39mresult\n\u001b[1;32m   2024\u001b[0m     )\n\u001b[0;32m-> 2025\u001b[0m result: Optional[types\u001b[38;5;241m.\u001b[39mCollectionInfo] \u001b[38;5;241m=\u001b[39m \u001b[38;5;28;43mself\u001b[39;49m\u001b[38;5;241;43m.\u001b[39;49m\u001b[43mhttp\u001b[49m\u001b[38;5;241;43m.\u001b[39;49m\u001b[43mcollections_api\u001b[49m\u001b[38;5;241;43m.\u001b[39;49m\u001b[43mget_collection\u001b[49m\u001b[43m(\u001b[49m\n\u001b[1;32m   2026\u001b[0m \u001b[43m    \u001b[49m\u001b[43mcollection_name\u001b[49m\u001b[38;5;241;43m=\u001b[39;49m\u001b[43mcollection_name\u001b[49m\n\u001b[1;32m   2027\u001b[0m \u001b[43m\u001b[49m\u001b[43m)\u001b[49m\u001b[38;5;241m.\u001b[39mresult\n\u001b[1;32m   2028\u001b[0m \u001b[38;5;28;01massert\u001b[39;00m result \u001b[38;5;129;01mis\u001b[39;00m \u001b[38;5;129;01mnot\u001b[39;00m \u001b[38;5;28;01mNone\u001b[39;00m, \u001b[38;5;124m\"\u001b[39m\u001b[38;5;124mGet collection returned None\u001b[39m\u001b[38;5;124m\"\u001b[39m\n\u001b[1;32m   2029\u001b[0m \u001b[38;5;28;01mreturn\u001b[39;00m result\n",
      "File \u001b[0;32m~/anaconda3/lib/python3.11/site-packages/qdrant_client/http/api/collections_api.py:1314\u001b[0m, in \u001b[0;36mSyncCollectionsApi.get_collection\u001b[0;34m(self, collection_name)\u001b[0m\n\u001b[1;32m   1307\u001b[0m \u001b[38;5;28;01mdef\u001b[39;00m \u001b[38;5;21mget_collection\u001b[39m(\n\u001b[1;32m   1308\u001b[0m     \u001b[38;5;28mself\u001b[39m,\n\u001b[1;32m   1309\u001b[0m     collection_name: \u001b[38;5;28mstr\u001b[39m,\n\u001b[1;32m   1310\u001b[0m ) \u001b[38;5;241m-\u001b[39m\u001b[38;5;241m>\u001b[39m m\u001b[38;5;241m.\u001b[39mInlineResponse2006:\n\u001b[1;32m   1311\u001b[0m \u001b[38;5;250m    \u001b[39m\u001b[38;5;124;03m\"\"\"\u001b[39;00m\n\u001b[1;32m   1312\u001b[0m \u001b[38;5;124;03m    Get detailed information about specified existing collection\u001b[39;00m\n\u001b[1;32m   1313\u001b[0m \u001b[38;5;124;03m    \"\"\"\u001b[39;00m\n\u001b[0;32m-> 1314\u001b[0m     \u001b[38;5;28;01mreturn\u001b[39;00m \u001b[38;5;28;43mself\u001b[39;49m\u001b[38;5;241;43m.\u001b[39;49m\u001b[43m_build_for_get_collection\u001b[49m\u001b[43m(\u001b[49m\n\u001b[1;32m   1315\u001b[0m \u001b[43m        \u001b[49m\u001b[43mcollection_name\u001b[49m\u001b[38;5;241;43m=\u001b[39;49m\u001b[43mcollection_name\u001b[49m\u001b[43m,\u001b[49m\n\u001b[1;32m   1316\u001b[0m \u001b[43m    \u001b[49m\u001b[43m)\u001b[49m\n",
      "File \u001b[0;32m~/anaconda3/lib/python3.11/site-packages/qdrant_client/http/api/collections_api.py:397\u001b[0m, in \u001b[0;36m_CollectionsApi._build_for_get_collection\u001b[0;34m(self, collection_name)\u001b[0m\n\u001b[1;32m    392\u001b[0m path_params \u001b[38;5;241m=\u001b[39m {\n\u001b[1;32m    393\u001b[0m     \u001b[38;5;124m\"\u001b[39m\u001b[38;5;124mcollection_name\u001b[39m\u001b[38;5;124m\"\u001b[39m: \u001b[38;5;28mstr\u001b[39m(collection_name),\n\u001b[1;32m    394\u001b[0m }\n\u001b[1;32m    396\u001b[0m headers \u001b[38;5;241m=\u001b[39m {}\n\u001b[0;32m--> 397\u001b[0m \u001b[38;5;28;01mreturn\u001b[39;00m \u001b[38;5;28;43mself\u001b[39;49m\u001b[38;5;241;43m.\u001b[39;49m\u001b[43mapi_client\u001b[49m\u001b[38;5;241;43m.\u001b[39;49m\u001b[43mrequest\u001b[49m\u001b[43m(\u001b[49m\n\u001b[1;32m    398\u001b[0m \u001b[43m    \u001b[49m\u001b[43mtype_\u001b[49m\u001b[38;5;241;43m=\u001b[39;49m\u001b[43mm\u001b[49m\u001b[38;5;241;43m.\u001b[39;49m\u001b[43mInlineResponse2006\u001b[49m\u001b[43m,\u001b[49m\n\u001b[1;32m    399\u001b[0m \u001b[43m    \u001b[49m\u001b[43mmethod\u001b[49m\u001b[38;5;241;43m=\u001b[39;49m\u001b[38;5;124;43m\"\u001b[39;49m\u001b[38;5;124;43mGET\u001b[39;49m\u001b[38;5;124;43m\"\u001b[39;49m\u001b[43m,\u001b[49m\n\u001b[1;32m    400\u001b[0m \u001b[43m    \u001b[49m\u001b[43murl\u001b[49m\u001b[38;5;241;43m=\u001b[39;49m\u001b[38;5;124;43m\"\u001b[39;49m\u001b[38;5;124;43m/collections/\u001b[39;49m\u001b[38;5;132;43;01m{collection_name}\u001b[39;49;00m\u001b[38;5;124;43m\"\u001b[39;49m\u001b[43m,\u001b[49m\n\u001b[1;32m    401\u001b[0m \u001b[43m    \u001b[49m\u001b[43mheaders\u001b[49m\u001b[38;5;241;43m=\u001b[39;49m\u001b[43mheaders\u001b[49m\u001b[43m \u001b[49m\u001b[38;5;28;43;01mif\u001b[39;49;00m\u001b[43m \u001b[49m\u001b[43mheaders\u001b[49m\u001b[43m \u001b[49m\u001b[38;5;28;43;01melse\u001b[39;49;00m\u001b[43m \u001b[49m\u001b[38;5;28;43;01mNone\u001b[39;49;00m\u001b[43m,\u001b[49m\n\u001b[1;32m    402\u001b[0m \u001b[43m    \u001b[49m\u001b[43mpath_params\u001b[49m\u001b[38;5;241;43m=\u001b[39;49m\u001b[43mpath_params\u001b[49m\u001b[43m,\u001b[49m\n\u001b[1;32m    403\u001b[0m \u001b[43m\u001b[49m\u001b[43m)\u001b[49m\n",
      "File \u001b[0;32m~/anaconda3/lib/python3.11/site-packages/qdrant_client/http/api_client.py:76\u001b[0m, in \u001b[0;36mApiClient.request\u001b[0;34m(self, type_, method, url, path_params, **kwargs)\u001b[0m\n\u001b[1;32m     74\u001b[0m     kwargs[\u001b[38;5;124m\"\u001b[39m\u001b[38;5;124mtimeout\u001b[39m\u001b[38;5;124m\"\u001b[39m] \u001b[38;5;241m=\u001b[39m \u001b[38;5;28mint\u001b[39m(kwargs[\u001b[38;5;124m\"\u001b[39m\u001b[38;5;124mparams\u001b[39m\u001b[38;5;124m\"\u001b[39m][\u001b[38;5;124m\"\u001b[39m\u001b[38;5;124mtimeout\u001b[39m\u001b[38;5;124m\"\u001b[39m])\n\u001b[1;32m     75\u001b[0m request \u001b[38;5;241m=\u001b[39m \u001b[38;5;28mself\u001b[39m\u001b[38;5;241m.\u001b[39m_client\u001b[38;5;241m.\u001b[39mbuild_request(method, url, \u001b[38;5;241m*\u001b[39m\u001b[38;5;241m*\u001b[39mkwargs)\n\u001b[0;32m---> 76\u001b[0m \u001b[38;5;28;01mreturn\u001b[39;00m \u001b[38;5;28;43mself\u001b[39;49m\u001b[38;5;241;43m.\u001b[39;49m\u001b[43msend\u001b[49m\u001b[43m(\u001b[49m\u001b[43mrequest\u001b[49m\u001b[43m,\u001b[49m\u001b[43m \u001b[49m\u001b[43mtype_\u001b[49m\u001b[43m)\u001b[49m\n",
      "File \u001b[0;32m~/anaconda3/lib/python3.11/site-packages/qdrant_client/http/api_client.py:93\u001b[0m, in \u001b[0;36mApiClient.send\u001b[0;34m(self, request, type_)\u001b[0m\n\u001b[1;32m     92\u001b[0m \u001b[38;5;28;01mdef\u001b[39;00m \u001b[38;5;21msend\u001b[39m(\u001b[38;5;28mself\u001b[39m, request: Request, type_: Type[T]) \u001b[38;5;241m-\u001b[39m\u001b[38;5;241m>\u001b[39m T:\n\u001b[0;32m---> 93\u001b[0m     response \u001b[38;5;241m=\u001b[39m \u001b[38;5;28;43mself\u001b[39;49m\u001b[38;5;241;43m.\u001b[39;49m\u001b[43mmiddleware\u001b[49m\u001b[43m(\u001b[49m\u001b[43mrequest\u001b[49m\u001b[43m,\u001b[49m\u001b[43m \u001b[49m\u001b[38;5;28;43mself\u001b[39;49m\u001b[38;5;241;43m.\u001b[39;49m\u001b[43msend_inner\u001b[49m\u001b[43m)\u001b[49m\n\u001b[1;32m     94\u001b[0m     \u001b[38;5;28;01mif\u001b[39;00m response\u001b[38;5;241m.\u001b[39mstatus_code \u001b[38;5;129;01min\u001b[39;00m [\u001b[38;5;241m200\u001b[39m, \u001b[38;5;241m201\u001b[39m, \u001b[38;5;241m202\u001b[39m]:\n\u001b[1;32m     95\u001b[0m         \u001b[38;5;28;01mtry\u001b[39;00m:\n",
      "File \u001b[0;32m~/anaconda3/lib/python3.11/site-packages/qdrant_client/http/api_client.py:202\u001b[0m, in \u001b[0;36mBaseMiddleware.__call__\u001b[0;34m(self, request, call_next)\u001b[0m\n\u001b[1;32m    201\u001b[0m \u001b[38;5;28;01mdef\u001b[39;00m \u001b[38;5;21m__call__\u001b[39m(\u001b[38;5;28mself\u001b[39m, request: Request, call_next: Send) \u001b[38;5;241m-\u001b[39m\u001b[38;5;241m>\u001b[39m Response:\n\u001b[0;32m--> 202\u001b[0m     \u001b[38;5;28;01mreturn\u001b[39;00m \u001b[43mcall_next\u001b[49m\u001b[43m(\u001b[49m\u001b[43mrequest\u001b[49m\u001b[43m)\u001b[49m\n",
      "File \u001b[0;32m~/anaconda3/lib/python3.11/site-packages/qdrant_client/http/api_client.py:105\u001b[0m, in \u001b[0;36mApiClient.send_inner\u001b[0;34m(self, request)\u001b[0m\n\u001b[1;32m    103\u001b[0m     response \u001b[38;5;241m=\u001b[39m \u001b[38;5;28mself\u001b[39m\u001b[38;5;241m.\u001b[39m_client\u001b[38;5;241m.\u001b[39msend(request)\n\u001b[1;32m    104\u001b[0m \u001b[38;5;28;01mexcept\u001b[39;00m \u001b[38;5;167;01mException\u001b[39;00m \u001b[38;5;28;01mas\u001b[39;00m e:\n\u001b[0;32m--> 105\u001b[0m     \u001b[38;5;28;01mraise\u001b[39;00m ResponseHandlingException(e)\n\u001b[1;32m    106\u001b[0m \u001b[38;5;28;01mreturn\u001b[39;00m response\n",
      "\u001b[0;31mResponseHandlingException\u001b[0m: [Errno 111] Connection refused"
     ]
    }
   ],
   "source": [
    "qdrant_vector_store = QdrantVectorStore(client=client, collection_name=\"paul_graham\")"
   ]
  },
  {
   "cell_type": "code",
   "execution_count": 48,
   "id": "34b6e147-4206-485b-a79c-03202ee35497",
   "metadata": {},
   "outputs": [],
   "source": [
    "from llama_index.vector_stores.milvus import MilvusVectorStore"
   ]
  },
  {
   "cell_type": "code",
   "execution_count": 49,
   "id": "b9c70690-5d14-4e3a-9aa3-a7fc8f0c6923",
   "metadata": {
    "scrolled": true
   },
   "outputs": [
    {
     "name": "stderr",
     "output_type": "stream",
     "text": [
      "Failed to create new connection using: e9c83723eb5848cf9cea0e60bc23a9b8\n"
     ]
    },
    {
     "ename": "MilvusException",
     "evalue": "<MilvusException: (code=2, message=Fail connecting to server on localhost:19530, illegal connection params or server unavailable)>",
     "output_type": "error",
     "traceback": [
      "\u001b[0;31m---------------------------------------------------------------------------\u001b[0m",
      "\u001b[0;31mMilvusException\u001b[0m                           Traceback (most recent call last)",
      "    \u001b[0;31m[... skipping hidden 1 frame]\u001b[0m\n",
      "Cell \u001b[0;32mIn[49], line 1\u001b[0m\n\u001b[0;32m----> 1\u001b[0m vector_store \u001b[38;5;241m=\u001b[39m \u001b[43mMilvusVectorStore\u001b[49m\u001b[43m(\u001b[49m\u001b[43mdim\u001b[49m\u001b[38;5;241;43m=\u001b[39;49m\u001b[38;5;241;43m1536\u001b[39;49m\u001b[43m,\u001b[49m\u001b[43m \u001b[49m\u001b[43moverwrite\u001b[49m\u001b[38;5;241;43m=\u001b[39;49m\u001b[38;5;28;43;01mTrue\u001b[39;49;00m\u001b[43m)\u001b[49m\n",
      "File \u001b[0;32m~/anaconda3/lib/python3.11/site-packages/llama_index/vector_stores/milvus/base.py:168\u001b[0m, in \u001b[0;36mMilvusVectorStore.__init__\u001b[0;34m(self, uri, token, collection_name, dim, embedding_field, doc_id_field, similarity_metric, consistency_level, overwrite, text_key, output_fields, index_config, search_config, **kwargs)\u001b[0m\n\u001b[1;32m    167\u001b[0m \u001b[38;5;66;03m# Connect to Milvus instance\u001b[39;00m\n\u001b[0;32m--> 168\u001b[0m \u001b[38;5;28mself\u001b[39m\u001b[38;5;241m.\u001b[39m_milvusclient \u001b[38;5;241m=\u001b[39m \u001b[43mMilvusClient\u001b[49m\u001b[43m(\u001b[49m\n\u001b[1;32m    169\u001b[0m \u001b[43m    \u001b[49m\u001b[43muri\u001b[49m\u001b[38;5;241;43m=\u001b[39;49m\u001b[43muri\u001b[49m\u001b[43m,\u001b[49m\n\u001b[1;32m    170\u001b[0m \u001b[43m    \u001b[49m\u001b[43mtoken\u001b[49m\u001b[38;5;241;43m=\u001b[39;49m\u001b[43mtoken\u001b[49m\u001b[43m,\u001b[49m\n\u001b[1;32m    171\u001b[0m \u001b[43m    \u001b[49m\u001b[38;5;241;43m*\u001b[39;49m\u001b[38;5;241;43m*\u001b[39;49m\u001b[43mkwargs\u001b[49m\u001b[43m,\u001b[49m\u001b[43m  \u001b[49m\u001b[38;5;66;43;03m# pass additional arguments such as server_pem_path\u001b[39;49;00m\n\u001b[1;32m    172\u001b[0m \u001b[43m\u001b[49m\u001b[43m)\u001b[49m\n\u001b[1;32m    173\u001b[0m \u001b[38;5;66;03m# Delete previous collection if overwriting\u001b[39;00m\n",
      "File \u001b[0;32m~/anaconda3/lib/python3.11/site-packages/pymilvus/milvus_client/milvus_client.py:53\u001b[0m, in \u001b[0;36mMilvusClient.__init__\u001b[0;34m(self, uri, user, password, db_name, token, timeout, **kwargs)\u001b[0m\n\u001b[1;32m     41\u001b[0m \u001b[38;5;250m\u001b[39m\u001b[38;5;124;03m\"\"\"A client for the common Milvus use case.\u001b[39;00m\n\u001b[1;32m     42\u001b[0m \n\u001b[1;32m     43\u001b[0m \u001b[38;5;124;03mThis client attempts to hide away the complexity of using Pymilvus. In a lot ofcases what\u001b[39;00m\n\u001b[0;32m   (...)\u001b[0m\n\u001b[1;32m     51\u001b[0m \u001b[38;5;124;03m        to None.\u001b[39;00m\n\u001b[1;32m     52\u001b[0m \u001b[38;5;124;03m\"\"\"\u001b[39;00m\n\u001b[0;32m---> 53\u001b[0m \u001b[38;5;28mself\u001b[39m\u001b[38;5;241m.\u001b[39m_using \u001b[38;5;241m=\u001b[39m \u001b[38;5;28;43mself\u001b[39;49m\u001b[38;5;241;43m.\u001b[39;49m\u001b[43m_create_connection\u001b[49m\u001b[43m(\u001b[49m\n\u001b[1;32m     54\u001b[0m \u001b[43m    \u001b[49m\u001b[43muri\u001b[49m\u001b[43m,\u001b[49m\u001b[43m \u001b[49m\u001b[43muser\u001b[49m\u001b[43m,\u001b[49m\u001b[43m \u001b[49m\u001b[43mpassword\u001b[49m\u001b[43m,\u001b[49m\u001b[43m \u001b[49m\u001b[43mdb_name\u001b[49m\u001b[43m,\u001b[49m\u001b[43m \u001b[49m\u001b[43mtoken\u001b[49m\u001b[43m,\u001b[49m\u001b[43m \u001b[49m\u001b[43mtimeout\u001b[49m\u001b[38;5;241;43m=\u001b[39;49m\u001b[43mtimeout\u001b[49m\u001b[43m,\u001b[49m\u001b[43m \u001b[49m\u001b[38;5;241;43m*\u001b[39;49m\u001b[38;5;241;43m*\u001b[39;49m\u001b[43mkwargs\u001b[49m\n\u001b[1;32m     55\u001b[0m \u001b[43m\u001b[49m\u001b[43m)\u001b[49m\n\u001b[1;32m     56\u001b[0m \u001b[38;5;28mself\u001b[39m\u001b[38;5;241m.\u001b[39mis_self_hosted \u001b[38;5;241m=\u001b[39m \u001b[38;5;28mbool\u001b[39m(utility\u001b[38;5;241m.\u001b[39mget_server_type(using\u001b[38;5;241m=\u001b[39m\u001b[38;5;28mself\u001b[39m\u001b[38;5;241m.\u001b[39m_using) \u001b[38;5;241m==\u001b[39m \u001b[38;5;124m\"\u001b[39m\u001b[38;5;124mmilvus\u001b[39m\u001b[38;5;124m\"\u001b[39m)\n",
      "File \u001b[0;32m~/anaconda3/lib/python3.11/site-packages/pymilvus/milvus_client/milvus_client.py:639\u001b[0m, in \u001b[0;36mMilvusClient._create_connection\u001b[0;34m(self, uri, user, password, db_name, token, **kwargs)\u001b[0m\n\u001b[1;32m    638\u001b[0m     logger\u001b[38;5;241m.\u001b[39merror(\u001b[38;5;124m\"\u001b[39m\u001b[38;5;124mFailed to create new connection using: \u001b[39m\u001b[38;5;132;01m%s\u001b[39;00m\u001b[38;5;124m\"\u001b[39m, using)\n\u001b[0;32m--> 639\u001b[0m     \u001b[38;5;28;01mraise\u001b[39;00m ex \u001b[38;5;28;01mfrom\u001b[39;00m \u001b[38;5;21;01mex\u001b[39;00m\n\u001b[1;32m    640\u001b[0m \u001b[38;5;28;01melse\u001b[39;00m:\n",
      "File \u001b[0;32m~/anaconda3/lib/python3.11/site-packages/pymilvus/milvus_client/milvus_client.py:636\u001b[0m, in \u001b[0;36mMilvusClient._create_connection\u001b[0;34m(self, uri, user, password, db_name, token, **kwargs)\u001b[0m\n\u001b[1;32m    635\u001b[0m \u001b[38;5;28;01mtry\u001b[39;00m:\n\u001b[0;32m--> 636\u001b[0m     \u001b[43mconnections\u001b[49m\u001b[38;5;241;43m.\u001b[39;49m\u001b[43mconnect\u001b[49m\u001b[43m(\u001b[49m\u001b[43musing\u001b[49m\u001b[43m,\u001b[49m\u001b[43m \u001b[49m\u001b[43muser\u001b[49m\u001b[43m,\u001b[49m\u001b[43m \u001b[49m\u001b[43mpassword\u001b[49m\u001b[43m,\u001b[49m\u001b[43m \u001b[49m\u001b[43mdb_name\u001b[49m\u001b[43m,\u001b[49m\u001b[43m \u001b[49m\u001b[43mtoken\u001b[49m\u001b[43m,\u001b[49m\u001b[43m \u001b[49m\u001b[43muri\u001b[49m\u001b[38;5;241;43m=\u001b[39;49m\u001b[43muri\u001b[49m\u001b[43m,\u001b[49m\u001b[43m \u001b[49m\u001b[38;5;241;43m*\u001b[39;49m\u001b[38;5;241;43m*\u001b[39;49m\u001b[43mkwargs\u001b[49m\u001b[43m)\u001b[49m\n\u001b[1;32m    637\u001b[0m \u001b[38;5;28;01mexcept\u001b[39;00m \u001b[38;5;167;01mException\u001b[39;00m \u001b[38;5;28;01mas\u001b[39;00m ex:\n",
      "File \u001b[0;32m~/anaconda3/lib/python3.11/site-packages/pymilvus/orm/connections.py:420\u001b[0m, in \u001b[0;36mConnections.connect\u001b[0;34m(self, alias, user, password, db_name, token, **kwargs)\u001b[0m\n\u001b[1;32m    418\u001b[0m         kwargs[\u001b[38;5;124m\"\u001b[39m\u001b[38;5;124msecure\u001b[39m\u001b[38;5;124m\"\u001b[39m] \u001b[38;5;241m=\u001b[39m \u001b[38;5;28;01mTrue\u001b[39;00m\n\u001b[0;32m--> 420\u001b[0m \u001b[43mconnect_milvus\u001b[49m\u001b[43m(\u001b[49m\u001b[38;5;241;43m*\u001b[39;49m\u001b[38;5;241;43m*\u001b[39;49m\u001b[43mkwargs\u001b[49m\u001b[43m,\u001b[49m\u001b[43m \u001b[49m\u001b[43muser\u001b[49m\u001b[38;5;241;43m=\u001b[39;49m\u001b[43muser\u001b[49m\u001b[43m,\u001b[49m\u001b[43m \u001b[49m\u001b[43mpassword\u001b[49m\u001b[38;5;241;43m=\u001b[39;49m\u001b[43mpassword\u001b[49m\u001b[43m,\u001b[49m\u001b[43m \u001b[49m\u001b[43mtoken\u001b[49m\u001b[38;5;241;43m=\u001b[39;49m\u001b[43mtoken\u001b[49m\u001b[43m,\u001b[49m\u001b[43m \u001b[49m\u001b[43mdb_name\u001b[49m\u001b[38;5;241;43m=\u001b[39;49m\u001b[43mdb_name\u001b[49m\u001b[43m)\u001b[49m\n\u001b[1;32m    421\u001b[0m \u001b[38;5;28;01mreturn\u001b[39;00m\n",
      "File \u001b[0;32m~/anaconda3/lib/python3.11/site-packages/pymilvus/orm/connections.py:371\u001b[0m, in \u001b[0;36mConnections.connect.<locals>.connect_milvus\u001b[0;34m(**kwargs)\u001b[0m\n\u001b[1;32m    369\u001b[0m timeout \u001b[38;5;241m=\u001b[39m t \u001b[38;5;28;01mif\u001b[39;00m \u001b[38;5;28misinstance\u001b[39m(t, (\u001b[38;5;28mint\u001b[39m, \u001b[38;5;28mfloat\u001b[39m)) \u001b[38;5;28;01melse\u001b[39;00m Config\u001b[38;5;241m.\u001b[39mMILVUS_CONN_TIMEOUT\n\u001b[0;32m--> 371\u001b[0m \u001b[43mgh\u001b[49m\u001b[38;5;241;43m.\u001b[39;49m\u001b[43m_wait_for_channel_ready\u001b[49m\u001b[43m(\u001b[49m\u001b[43mtimeout\u001b[49m\u001b[38;5;241;43m=\u001b[39;49m\u001b[43mtimeout\u001b[49m\u001b[43m)\u001b[49m\n\u001b[1;32m    372\u001b[0m \u001b[38;5;28;01mif\u001b[39;00m kwargs\u001b[38;5;241m.\u001b[39mget(\u001b[38;5;124m\"\u001b[39m\u001b[38;5;124mkeep_alive\u001b[39m\u001b[38;5;124m\"\u001b[39m, \u001b[38;5;28;01mFalse\u001b[39;00m):\n",
      "File \u001b[0;32m~/anaconda3/lib/python3.11/site-packages/pymilvus/client/grpc_handler.py:146\u001b[0m, in \u001b[0;36mGrpcHandler._wait_for_channel_ready\u001b[0;34m(self, timeout)\u001b[0m\n\u001b[1;32m    145\u001b[0m \u001b[38;5;28;01mexcept\u001b[39;00m grpc\u001b[38;5;241m.\u001b[39mFutureTimeoutError \u001b[38;5;28;01mas\u001b[39;00m e:\n\u001b[0;32m--> 146\u001b[0m     \u001b[38;5;28;01mraise\u001b[39;00m MilvusException(\n\u001b[1;32m    147\u001b[0m         code\u001b[38;5;241m=\u001b[39mStatus\u001b[38;5;241m.\u001b[39mCONNECT_FAILED,\n\u001b[1;32m    148\u001b[0m         message\u001b[38;5;241m=\u001b[39m\u001b[38;5;124mf\u001b[39m\u001b[38;5;124m\"\u001b[39m\u001b[38;5;124mFail connecting to server on \u001b[39m\u001b[38;5;132;01m{\u001b[39;00m\u001b[38;5;28mself\u001b[39m\u001b[38;5;241m.\u001b[39m_address\u001b[38;5;132;01m}\u001b[39;00m\u001b[38;5;124m, illegal connection params or server unavailable\u001b[39m\u001b[38;5;124m\"\u001b[39m,\n\u001b[1;32m    149\u001b[0m     ) \u001b[38;5;28;01mfrom\u001b[39;00m \u001b[38;5;21;01me\u001b[39;00m\n\u001b[1;32m    150\u001b[0m \u001b[38;5;28;01mexcept\u001b[39;00m \u001b[38;5;167;01mException\u001b[39;00m \u001b[38;5;28;01mas\u001b[39;00m e:\n",
      "\u001b[0;31mMilvusException\u001b[0m: <MilvusException: (code=2, message=Fail connecting to server on localhost:19530, illegal connection params or server unavailable)>",
      "\nThe above exception was the direct cause of the following exception:\n",
      "\u001b[0;31mMilvusException\u001b[0m                           Traceback (most recent call last)",
      "    \u001b[0;31m[... skipping hidden 1 frame]\u001b[0m\n",
      "Cell \u001b[0;32mIn[49], line 1\u001b[0m\n\u001b[0;32m----> 1\u001b[0m vector_store \u001b[38;5;241m=\u001b[39m \u001b[43mMilvusVectorStore\u001b[49m\u001b[43m(\u001b[49m\u001b[43mdim\u001b[49m\u001b[38;5;241;43m=\u001b[39;49m\u001b[38;5;241;43m1536\u001b[39;49m\u001b[43m,\u001b[49m\u001b[43m \u001b[49m\u001b[43moverwrite\u001b[49m\u001b[38;5;241;43m=\u001b[39;49m\u001b[38;5;28;43;01mTrue\u001b[39;49;00m\u001b[43m)\u001b[49m\n",
      "File \u001b[0;32m~/anaconda3/lib/python3.11/site-packages/llama_index/vector_stores/milvus/base.py:168\u001b[0m, in \u001b[0;36mMilvusVectorStore.__init__\u001b[0;34m(self, uri, token, collection_name, dim, embedding_field, doc_id_field, similarity_metric, consistency_level, overwrite, text_key, output_fields, index_config, search_config, **kwargs)\u001b[0m\n\u001b[1;32m    167\u001b[0m \u001b[38;5;66;03m# Connect to Milvus instance\u001b[39;00m\n\u001b[0;32m--> 168\u001b[0m \u001b[38;5;28mself\u001b[39m\u001b[38;5;241m.\u001b[39m_milvusclient \u001b[38;5;241m=\u001b[39m \u001b[43mMilvusClient\u001b[49m\u001b[43m(\u001b[49m\n\u001b[1;32m    169\u001b[0m \u001b[43m    \u001b[49m\u001b[43muri\u001b[49m\u001b[38;5;241;43m=\u001b[39;49m\u001b[43muri\u001b[49m\u001b[43m,\u001b[49m\n\u001b[1;32m    170\u001b[0m \u001b[43m    \u001b[49m\u001b[43mtoken\u001b[49m\u001b[38;5;241;43m=\u001b[39;49m\u001b[43mtoken\u001b[49m\u001b[43m,\u001b[49m\n\u001b[1;32m    171\u001b[0m \u001b[43m    \u001b[49m\u001b[38;5;241;43m*\u001b[39;49m\u001b[38;5;241;43m*\u001b[39;49m\u001b[43mkwargs\u001b[49m\u001b[43m,\u001b[49m\u001b[43m  \u001b[49m\u001b[38;5;66;43;03m# pass additional arguments such as server_pem_path\u001b[39;49;00m\n\u001b[1;32m    172\u001b[0m \u001b[43m\u001b[49m\u001b[43m)\u001b[49m\n\u001b[1;32m    173\u001b[0m \u001b[38;5;66;03m# Delete previous collection if overwriting\u001b[39;00m\n",
      "File \u001b[0;32m~/anaconda3/lib/python3.11/site-packages/pymilvus/milvus_client/milvus_client.py:53\u001b[0m, in \u001b[0;36mMilvusClient.__init__\u001b[0;34m(self, uri, user, password, db_name, token, timeout, **kwargs)\u001b[0m\n\u001b[1;32m     41\u001b[0m \u001b[38;5;250m\u001b[39m\u001b[38;5;124;03m\"\"\"A client for the common Milvus use case.\u001b[39;00m\n\u001b[1;32m     42\u001b[0m \n\u001b[1;32m     43\u001b[0m \u001b[38;5;124;03mThis client attempts to hide away the complexity of using Pymilvus. In a lot ofcases what\u001b[39;00m\n\u001b[0;32m   (...)\u001b[0m\n\u001b[1;32m     51\u001b[0m \u001b[38;5;124;03m        to None.\u001b[39;00m\n\u001b[1;32m     52\u001b[0m \u001b[38;5;124;03m\"\"\"\u001b[39;00m\n\u001b[0;32m---> 53\u001b[0m \u001b[38;5;28mself\u001b[39m\u001b[38;5;241m.\u001b[39m_using \u001b[38;5;241m=\u001b[39m \u001b[38;5;28;43mself\u001b[39;49m\u001b[38;5;241;43m.\u001b[39;49m\u001b[43m_create_connection\u001b[49m\u001b[43m(\u001b[49m\n\u001b[1;32m     54\u001b[0m \u001b[43m    \u001b[49m\u001b[43muri\u001b[49m\u001b[43m,\u001b[49m\u001b[43m \u001b[49m\u001b[43muser\u001b[49m\u001b[43m,\u001b[49m\u001b[43m \u001b[49m\u001b[43mpassword\u001b[49m\u001b[43m,\u001b[49m\u001b[43m \u001b[49m\u001b[43mdb_name\u001b[49m\u001b[43m,\u001b[49m\u001b[43m \u001b[49m\u001b[43mtoken\u001b[49m\u001b[43m,\u001b[49m\u001b[43m \u001b[49m\u001b[43mtimeout\u001b[49m\u001b[38;5;241;43m=\u001b[39;49m\u001b[43mtimeout\u001b[49m\u001b[43m,\u001b[49m\u001b[43m \u001b[49m\u001b[38;5;241;43m*\u001b[39;49m\u001b[38;5;241;43m*\u001b[39;49m\u001b[43mkwargs\u001b[49m\n\u001b[1;32m     55\u001b[0m \u001b[43m\u001b[49m\u001b[43m)\u001b[49m\n\u001b[1;32m     56\u001b[0m \u001b[38;5;28mself\u001b[39m\u001b[38;5;241m.\u001b[39mis_self_hosted \u001b[38;5;241m=\u001b[39m \u001b[38;5;28mbool\u001b[39m(utility\u001b[38;5;241m.\u001b[39mget_server_type(using\u001b[38;5;241m=\u001b[39m\u001b[38;5;28mself\u001b[39m\u001b[38;5;241m.\u001b[39m_using) \u001b[38;5;241m==\u001b[39m \u001b[38;5;124m\"\u001b[39m\u001b[38;5;124mmilvus\u001b[39m\u001b[38;5;124m\"\u001b[39m)\n",
      "File \u001b[0;32m~/anaconda3/lib/python3.11/site-packages/pymilvus/milvus_client/milvus_client.py:639\u001b[0m, in \u001b[0;36mMilvusClient._create_connection\u001b[0;34m(self, uri, user, password, db_name, token, **kwargs)\u001b[0m\n\u001b[1;32m    638\u001b[0m     logger\u001b[38;5;241m.\u001b[39merror(\u001b[38;5;124m\"\u001b[39m\u001b[38;5;124mFailed to create new connection using: \u001b[39m\u001b[38;5;132;01m%s\u001b[39;00m\u001b[38;5;124m\"\u001b[39m, using)\n\u001b[0;32m--> 639\u001b[0m     \u001b[38;5;28;01mraise\u001b[39;00m ex \u001b[38;5;28;01mfrom\u001b[39;00m \u001b[38;5;21;01mex\u001b[39;00m\n\u001b[1;32m    640\u001b[0m \u001b[38;5;28;01melse\u001b[39;00m:\n",
      "File \u001b[0;32m~/anaconda3/lib/python3.11/site-packages/pymilvus/milvus_client/milvus_client.py:636\u001b[0m, in \u001b[0;36mMilvusClient._create_connection\u001b[0;34m(self, uri, user, password, db_name, token, **kwargs)\u001b[0m\n\u001b[1;32m    635\u001b[0m \u001b[38;5;28;01mtry\u001b[39;00m:\n\u001b[0;32m--> 636\u001b[0m     \u001b[43mconnections\u001b[49m\u001b[38;5;241;43m.\u001b[39;49m\u001b[43mconnect\u001b[49m\u001b[43m(\u001b[49m\u001b[43musing\u001b[49m\u001b[43m,\u001b[49m\u001b[43m \u001b[49m\u001b[43muser\u001b[49m\u001b[43m,\u001b[49m\u001b[43m \u001b[49m\u001b[43mpassword\u001b[49m\u001b[43m,\u001b[49m\u001b[43m \u001b[49m\u001b[43mdb_name\u001b[49m\u001b[43m,\u001b[49m\u001b[43m \u001b[49m\u001b[43mtoken\u001b[49m\u001b[43m,\u001b[49m\u001b[43m \u001b[49m\u001b[43muri\u001b[49m\u001b[38;5;241;43m=\u001b[39;49m\u001b[43muri\u001b[49m\u001b[43m,\u001b[49m\u001b[43m \u001b[49m\u001b[38;5;241;43m*\u001b[39;49m\u001b[38;5;241;43m*\u001b[39;49m\u001b[43mkwargs\u001b[49m\u001b[43m)\u001b[49m\n\u001b[1;32m    637\u001b[0m \u001b[38;5;28;01mexcept\u001b[39;00m \u001b[38;5;167;01mException\u001b[39;00m \u001b[38;5;28;01mas\u001b[39;00m ex:\n",
      "File \u001b[0;32m~/anaconda3/lib/python3.11/site-packages/pymilvus/orm/connections.py:420\u001b[0m, in \u001b[0;36mConnections.connect\u001b[0;34m(self, alias, user, password, db_name, token, **kwargs)\u001b[0m\n\u001b[1;32m    418\u001b[0m         kwargs[\u001b[38;5;124m\"\u001b[39m\u001b[38;5;124msecure\u001b[39m\u001b[38;5;124m\"\u001b[39m] \u001b[38;5;241m=\u001b[39m \u001b[38;5;28;01mTrue\u001b[39;00m\n\u001b[0;32m--> 420\u001b[0m \u001b[43mconnect_milvus\u001b[49m\u001b[43m(\u001b[49m\u001b[38;5;241;43m*\u001b[39;49m\u001b[38;5;241;43m*\u001b[39;49m\u001b[43mkwargs\u001b[49m\u001b[43m,\u001b[49m\u001b[43m \u001b[49m\u001b[43muser\u001b[49m\u001b[38;5;241;43m=\u001b[39;49m\u001b[43muser\u001b[49m\u001b[43m,\u001b[49m\u001b[43m \u001b[49m\u001b[43mpassword\u001b[49m\u001b[38;5;241;43m=\u001b[39;49m\u001b[43mpassword\u001b[49m\u001b[43m,\u001b[49m\u001b[43m \u001b[49m\u001b[43mtoken\u001b[49m\u001b[38;5;241;43m=\u001b[39;49m\u001b[43mtoken\u001b[49m\u001b[43m,\u001b[49m\u001b[43m \u001b[49m\u001b[43mdb_name\u001b[49m\u001b[38;5;241;43m=\u001b[39;49m\u001b[43mdb_name\u001b[49m\u001b[43m)\u001b[49m\n\u001b[1;32m    421\u001b[0m \u001b[38;5;28;01mreturn\u001b[39;00m\n",
      "File \u001b[0;32m~/anaconda3/lib/python3.11/site-packages/pymilvus/orm/connections.py:371\u001b[0m, in \u001b[0;36mConnections.connect.<locals>.connect_milvus\u001b[0;34m(**kwargs)\u001b[0m\n\u001b[1;32m    369\u001b[0m timeout \u001b[38;5;241m=\u001b[39m t \u001b[38;5;28;01mif\u001b[39;00m \u001b[38;5;28misinstance\u001b[39m(t, (\u001b[38;5;28mint\u001b[39m, \u001b[38;5;28mfloat\u001b[39m)) \u001b[38;5;28;01melse\u001b[39;00m Config\u001b[38;5;241m.\u001b[39mMILVUS_CONN_TIMEOUT\n\u001b[0;32m--> 371\u001b[0m \u001b[43mgh\u001b[49m\u001b[38;5;241;43m.\u001b[39;49m\u001b[43m_wait_for_channel_ready\u001b[49m\u001b[43m(\u001b[49m\u001b[43mtimeout\u001b[49m\u001b[38;5;241;43m=\u001b[39;49m\u001b[43mtimeout\u001b[49m\u001b[43m)\u001b[49m\n\u001b[1;32m    372\u001b[0m \u001b[38;5;28;01mif\u001b[39;00m kwargs\u001b[38;5;241m.\u001b[39mget(\u001b[38;5;124m\"\u001b[39m\u001b[38;5;124mkeep_alive\u001b[39m\u001b[38;5;124m\"\u001b[39m, \u001b[38;5;28;01mFalse\u001b[39;00m):\n",
      "File \u001b[0;32m~/anaconda3/lib/python3.11/site-packages/pymilvus/client/grpc_handler.py:146\u001b[0m, in \u001b[0;36mGrpcHandler._wait_for_channel_ready\u001b[0;34m(self, timeout)\u001b[0m\n\u001b[1;32m    145\u001b[0m \u001b[38;5;28;01mexcept\u001b[39;00m grpc\u001b[38;5;241m.\u001b[39mFutureTimeoutError \u001b[38;5;28;01mas\u001b[39;00m e:\n\u001b[0;32m--> 146\u001b[0m     \u001b[38;5;28;01mraise\u001b[39;00m MilvusException(\n\u001b[1;32m    147\u001b[0m         code\u001b[38;5;241m=\u001b[39mStatus\u001b[38;5;241m.\u001b[39mCONNECT_FAILED,\n\u001b[1;32m    148\u001b[0m         message\u001b[38;5;241m=\u001b[39m\u001b[38;5;124mf\u001b[39m\u001b[38;5;124m\"\u001b[39m\u001b[38;5;124mFail connecting to server on \u001b[39m\u001b[38;5;132;01m{\u001b[39;00m\u001b[38;5;28mself\u001b[39m\u001b[38;5;241m.\u001b[39m_address\u001b[38;5;132;01m}\u001b[39;00m\u001b[38;5;124m, illegal connection params or server unavailable\u001b[39m\u001b[38;5;124m\"\u001b[39m,\n\u001b[1;32m    149\u001b[0m     ) \u001b[38;5;28;01mfrom\u001b[39;00m \u001b[38;5;21;01me\u001b[39;00m\n\u001b[1;32m    150\u001b[0m \u001b[38;5;28;01mexcept\u001b[39;00m \u001b[38;5;167;01mException\u001b[39;00m \u001b[38;5;28;01mas\u001b[39;00m e:\n",
      "\u001b[0;31mMilvusException\u001b[0m: <MilvusException: (code=2, message=Fail connecting to server on localhost:19530, illegal connection params or server unavailable)>",
      "\nThe above exception was the direct cause of the following exception:\n",
      "\u001b[0;31mMilvusException\u001b[0m                           Traceback (most recent call last)",
      "Cell \u001b[0;32mIn[49], line 1\u001b[0m\n\u001b[0;32m----> 1\u001b[0m vector_store \u001b[38;5;241m=\u001b[39m \u001b[43mMilvusVectorStore\u001b[49m\u001b[43m(\u001b[49m\u001b[43mdim\u001b[49m\u001b[38;5;241;43m=\u001b[39;49m\u001b[38;5;241;43m1536\u001b[39;49m\u001b[43m,\u001b[49m\u001b[43m \u001b[49m\u001b[43moverwrite\u001b[49m\u001b[38;5;241;43m=\u001b[39;49m\u001b[38;5;28;43;01mTrue\u001b[39;49;00m\u001b[43m)\u001b[49m\n",
      "File \u001b[0;32m~/anaconda3/lib/python3.11/site-packages/llama_index/vector_stores/milvus/base.py:168\u001b[0m, in \u001b[0;36mMilvusVectorStore.__init__\u001b[0;34m(self, uri, token, collection_name, dim, embedding_field, doc_id_field, similarity_metric, consistency_level, overwrite, text_key, output_fields, index_config, search_config, **kwargs)\u001b[0m\n\u001b[1;32m    163\u001b[0m \u001b[38;5;28mself\u001b[39m\u001b[38;5;241m.\u001b[39msimilarity_metric \u001b[38;5;241m=\u001b[39m similarity_metrics_map\u001b[38;5;241m.\u001b[39mget(\n\u001b[1;32m    164\u001b[0m     similarity_metric\u001b[38;5;241m.\u001b[39mlower(), \u001b[38;5;124m\"\u001b[39m\u001b[38;5;124mL2\u001b[39m\u001b[38;5;124m\"\u001b[39m\n\u001b[1;32m    165\u001b[0m )\n\u001b[1;32m    167\u001b[0m \u001b[38;5;66;03m# Connect to Milvus instance\u001b[39;00m\n\u001b[0;32m--> 168\u001b[0m \u001b[38;5;28mself\u001b[39m\u001b[38;5;241m.\u001b[39m_milvusclient \u001b[38;5;241m=\u001b[39m \u001b[43mMilvusClient\u001b[49m\u001b[43m(\u001b[49m\n\u001b[1;32m    169\u001b[0m \u001b[43m    \u001b[49m\u001b[43muri\u001b[49m\u001b[38;5;241;43m=\u001b[39;49m\u001b[43muri\u001b[49m\u001b[43m,\u001b[49m\n\u001b[1;32m    170\u001b[0m \u001b[43m    \u001b[49m\u001b[43mtoken\u001b[49m\u001b[38;5;241;43m=\u001b[39;49m\u001b[43mtoken\u001b[49m\u001b[43m,\u001b[49m\n\u001b[1;32m    171\u001b[0m \u001b[43m    \u001b[49m\u001b[38;5;241;43m*\u001b[39;49m\u001b[38;5;241;43m*\u001b[39;49m\u001b[43mkwargs\u001b[49m\u001b[43m,\u001b[49m\u001b[43m  \u001b[49m\u001b[38;5;66;43;03m# pass additional arguments such as server_pem_path\u001b[39;49;00m\n\u001b[1;32m    172\u001b[0m \u001b[43m\u001b[49m\u001b[43m)\u001b[49m\n\u001b[1;32m    173\u001b[0m \u001b[38;5;66;03m# Delete previous collection if overwriting\u001b[39;00m\n\u001b[1;32m    174\u001b[0m \u001b[38;5;28;01mif\u001b[39;00m overwrite \u001b[38;5;129;01mand\u001b[39;00m collection_name \u001b[38;5;129;01min\u001b[39;00m \u001b[38;5;28mself\u001b[39m\u001b[38;5;241m.\u001b[39mclient\u001b[38;5;241m.\u001b[39mlist_collections():\n",
      "File \u001b[0;32m~/anaconda3/lib/python3.11/site-packages/pymilvus/milvus_client/milvus_client.py:53\u001b[0m, in \u001b[0;36mMilvusClient.__init__\u001b[0;34m(self, uri, user, password, db_name, token, timeout, **kwargs)\u001b[0m\n\u001b[1;32m     31\u001b[0m \u001b[38;5;28;01mdef\u001b[39;00m \u001b[38;5;21m__init__\u001b[39m(\n\u001b[1;32m     32\u001b[0m     \u001b[38;5;28mself\u001b[39m,\n\u001b[1;32m     33\u001b[0m     uri: \u001b[38;5;28mstr\u001b[39m \u001b[38;5;241m=\u001b[39m \u001b[38;5;124m\"\u001b[39m\u001b[38;5;124mhttp://localhost:19530\u001b[39m\u001b[38;5;124m\"\u001b[39m,\n\u001b[0;32m   (...)\u001b[0m\n\u001b[1;32m     39\u001b[0m     \u001b[38;5;241m*\u001b[39m\u001b[38;5;241m*\u001b[39mkwargs,\n\u001b[1;32m     40\u001b[0m ) \u001b[38;5;241m-\u001b[39m\u001b[38;5;241m>\u001b[39m \u001b[38;5;28;01mNone\u001b[39;00m:\n\u001b[1;32m     41\u001b[0m \u001b[38;5;250m    \u001b[39m\u001b[38;5;124;03m\"\"\"A client for the common Milvus use case.\u001b[39;00m\n\u001b[1;32m     42\u001b[0m \n\u001b[1;32m     43\u001b[0m \u001b[38;5;124;03m    This client attempts to hide away the complexity of using Pymilvus. In a lot ofcases what\u001b[39;00m\n\u001b[0;32m   (...)\u001b[0m\n\u001b[1;32m     51\u001b[0m \u001b[38;5;124;03m            to None.\u001b[39;00m\n\u001b[1;32m     52\u001b[0m \u001b[38;5;124;03m    \"\"\"\u001b[39;00m\n\u001b[0;32m---> 53\u001b[0m     \u001b[38;5;28mself\u001b[39m\u001b[38;5;241m.\u001b[39m_using \u001b[38;5;241m=\u001b[39m \u001b[38;5;28;43mself\u001b[39;49m\u001b[38;5;241;43m.\u001b[39;49m\u001b[43m_create_connection\u001b[49m\u001b[43m(\u001b[49m\n\u001b[1;32m     54\u001b[0m \u001b[43m        \u001b[49m\u001b[43muri\u001b[49m\u001b[43m,\u001b[49m\u001b[43m \u001b[49m\u001b[43muser\u001b[49m\u001b[43m,\u001b[49m\u001b[43m \u001b[49m\u001b[43mpassword\u001b[49m\u001b[43m,\u001b[49m\u001b[43m \u001b[49m\u001b[43mdb_name\u001b[49m\u001b[43m,\u001b[49m\u001b[43m \u001b[49m\u001b[43mtoken\u001b[49m\u001b[43m,\u001b[49m\u001b[43m \u001b[49m\u001b[43mtimeout\u001b[49m\u001b[38;5;241;43m=\u001b[39;49m\u001b[43mtimeout\u001b[49m\u001b[43m,\u001b[49m\u001b[43m \u001b[49m\u001b[38;5;241;43m*\u001b[39;49m\u001b[38;5;241;43m*\u001b[39;49m\u001b[43mkwargs\u001b[49m\n\u001b[1;32m     55\u001b[0m \u001b[43m    \u001b[49m\u001b[43m)\u001b[49m\n\u001b[1;32m     56\u001b[0m     \u001b[38;5;28mself\u001b[39m\u001b[38;5;241m.\u001b[39mis_self_hosted \u001b[38;5;241m=\u001b[39m \u001b[38;5;28mbool\u001b[39m(utility\u001b[38;5;241m.\u001b[39mget_server_type(using\u001b[38;5;241m=\u001b[39m\u001b[38;5;28mself\u001b[39m\u001b[38;5;241m.\u001b[39m_using) \u001b[38;5;241m==\u001b[39m \u001b[38;5;124m\"\u001b[39m\u001b[38;5;124mmilvus\u001b[39m\u001b[38;5;124m\"\u001b[39m)\n",
      "File \u001b[0;32m~/anaconda3/lib/python3.11/site-packages/pymilvus/milvus_client/milvus_client.py:639\u001b[0m, in \u001b[0;36mMilvusClient._create_connection\u001b[0;34m(self, uri, user, password, db_name, token, **kwargs)\u001b[0m\n\u001b[1;32m    637\u001b[0m \u001b[38;5;28;01mexcept\u001b[39;00m \u001b[38;5;167;01mException\u001b[39;00m \u001b[38;5;28;01mas\u001b[39;00m ex:\n\u001b[1;32m    638\u001b[0m     logger\u001b[38;5;241m.\u001b[39merror(\u001b[38;5;124m\"\u001b[39m\u001b[38;5;124mFailed to create new connection using: \u001b[39m\u001b[38;5;132;01m%s\u001b[39;00m\u001b[38;5;124m\"\u001b[39m, using)\n\u001b[0;32m--> 639\u001b[0m     \u001b[38;5;28;01mraise\u001b[39;00m ex \u001b[38;5;28;01mfrom\u001b[39;00m \u001b[38;5;21;01mex\u001b[39;00m\n\u001b[1;32m    640\u001b[0m \u001b[38;5;28;01melse\u001b[39;00m:\n\u001b[1;32m    641\u001b[0m     logger\u001b[38;5;241m.\u001b[39mdebug(\u001b[38;5;124m\"\u001b[39m\u001b[38;5;124mCreated new connection using: \u001b[39m\u001b[38;5;132;01m%s\u001b[39;00m\u001b[38;5;124m\"\u001b[39m, using)\n",
      "File \u001b[0;32m~/anaconda3/lib/python3.11/site-packages/pymilvus/milvus_client/milvus_client.py:636\u001b[0m, in \u001b[0;36mMilvusClient._create_connection\u001b[0;34m(self, uri, user, password, db_name, token, **kwargs)\u001b[0m\n\u001b[1;32m    634\u001b[0m using \u001b[38;5;241m=\u001b[39m uuid4()\u001b[38;5;241m.\u001b[39mhex\n\u001b[1;32m    635\u001b[0m \u001b[38;5;28;01mtry\u001b[39;00m:\n\u001b[0;32m--> 636\u001b[0m     \u001b[43mconnections\u001b[49m\u001b[38;5;241;43m.\u001b[39;49m\u001b[43mconnect\u001b[49m\u001b[43m(\u001b[49m\u001b[43musing\u001b[49m\u001b[43m,\u001b[49m\u001b[43m \u001b[49m\u001b[43muser\u001b[49m\u001b[43m,\u001b[49m\u001b[43m \u001b[49m\u001b[43mpassword\u001b[49m\u001b[43m,\u001b[49m\u001b[43m \u001b[49m\u001b[43mdb_name\u001b[49m\u001b[43m,\u001b[49m\u001b[43m \u001b[49m\u001b[43mtoken\u001b[49m\u001b[43m,\u001b[49m\u001b[43m \u001b[49m\u001b[43muri\u001b[49m\u001b[38;5;241;43m=\u001b[39;49m\u001b[43muri\u001b[49m\u001b[43m,\u001b[49m\u001b[43m \u001b[49m\u001b[38;5;241;43m*\u001b[39;49m\u001b[38;5;241;43m*\u001b[39;49m\u001b[43mkwargs\u001b[49m\u001b[43m)\u001b[49m\n\u001b[1;32m    637\u001b[0m \u001b[38;5;28;01mexcept\u001b[39;00m \u001b[38;5;167;01mException\u001b[39;00m \u001b[38;5;28;01mas\u001b[39;00m ex:\n\u001b[1;32m    638\u001b[0m     logger\u001b[38;5;241m.\u001b[39merror(\u001b[38;5;124m\"\u001b[39m\u001b[38;5;124mFailed to create new connection using: \u001b[39m\u001b[38;5;132;01m%s\u001b[39;00m\u001b[38;5;124m\"\u001b[39m, using)\n",
      "File \u001b[0;32m~/anaconda3/lib/python3.11/site-packages/pymilvus/orm/connections.py:420\u001b[0m, in \u001b[0;36mConnections.connect\u001b[0;34m(self, alias, user, password, db_name, token, **kwargs)\u001b[0m\n\u001b[1;32m    417\u001b[0m         \u001b[38;5;28;01mif\u001b[39;00m parsed_uri\u001b[38;5;241m.\u001b[39mscheme \u001b[38;5;241m==\u001b[39m \u001b[38;5;124m\"\u001b[39m\u001b[38;5;124mhttps\u001b[39m\u001b[38;5;124m\"\u001b[39m:\n\u001b[1;32m    418\u001b[0m             kwargs[\u001b[38;5;124m\"\u001b[39m\u001b[38;5;124msecure\u001b[39m\u001b[38;5;124m\"\u001b[39m] \u001b[38;5;241m=\u001b[39m \u001b[38;5;28;01mTrue\u001b[39;00m\n\u001b[0;32m--> 420\u001b[0m     \u001b[43mconnect_milvus\u001b[49m\u001b[43m(\u001b[49m\u001b[38;5;241;43m*\u001b[39;49m\u001b[38;5;241;43m*\u001b[39;49m\u001b[43mkwargs\u001b[49m\u001b[43m,\u001b[49m\u001b[43m \u001b[49m\u001b[43muser\u001b[49m\u001b[38;5;241;43m=\u001b[39;49m\u001b[43muser\u001b[49m\u001b[43m,\u001b[49m\u001b[43m \u001b[49m\u001b[43mpassword\u001b[49m\u001b[38;5;241;43m=\u001b[39;49m\u001b[43mpassword\u001b[49m\u001b[43m,\u001b[49m\u001b[43m \u001b[49m\u001b[43mtoken\u001b[49m\u001b[38;5;241;43m=\u001b[39;49m\u001b[43mtoken\u001b[49m\u001b[43m,\u001b[49m\u001b[43m \u001b[49m\u001b[43mdb_name\u001b[49m\u001b[38;5;241;43m=\u001b[39;49m\u001b[43mdb_name\u001b[49m\u001b[43m)\u001b[49m\n\u001b[1;32m    421\u001b[0m     \u001b[38;5;28;01mreturn\u001b[39;00m\n\u001b[1;32m    423\u001b[0m \u001b[38;5;66;03m# 2nd Priority, connection configs from env\u001b[39;00m\n",
      "File \u001b[0;32m~/anaconda3/lib/python3.11/site-packages/pymilvus/orm/connections.py:371\u001b[0m, in \u001b[0;36mConnections.connect.<locals>.connect_milvus\u001b[0;34m(**kwargs)\u001b[0m\n\u001b[1;32m    368\u001b[0m t \u001b[38;5;241m=\u001b[39m kwargs\u001b[38;5;241m.\u001b[39mget(\u001b[38;5;124m\"\u001b[39m\u001b[38;5;124mtimeout\u001b[39m\u001b[38;5;124m\"\u001b[39m)\n\u001b[1;32m    369\u001b[0m timeout \u001b[38;5;241m=\u001b[39m t \u001b[38;5;28;01mif\u001b[39;00m \u001b[38;5;28misinstance\u001b[39m(t, (\u001b[38;5;28mint\u001b[39m, \u001b[38;5;28mfloat\u001b[39m)) \u001b[38;5;28;01melse\u001b[39;00m Config\u001b[38;5;241m.\u001b[39mMILVUS_CONN_TIMEOUT\n\u001b[0;32m--> 371\u001b[0m \u001b[43mgh\u001b[49m\u001b[38;5;241;43m.\u001b[39;49m\u001b[43m_wait_for_channel_ready\u001b[49m\u001b[43m(\u001b[49m\u001b[43mtimeout\u001b[49m\u001b[38;5;241;43m=\u001b[39;49m\u001b[43mtimeout\u001b[49m\u001b[43m)\u001b[49m\n\u001b[1;32m    372\u001b[0m \u001b[38;5;28;01mif\u001b[39;00m kwargs\u001b[38;5;241m.\u001b[39mget(\u001b[38;5;124m\"\u001b[39m\u001b[38;5;124mkeep_alive\u001b[39m\u001b[38;5;124m\"\u001b[39m, \u001b[38;5;28;01mFalse\u001b[39;00m):\n\u001b[1;32m    373\u001b[0m     gh\u001b[38;5;241m.\u001b[39mregister_state_change_callback(\n\u001b[1;32m    374\u001b[0m         ReconnectHandler(\u001b[38;5;28mself\u001b[39m, alias, kwargs_copy)\u001b[38;5;241m.\u001b[39mreconnect_on_idle\n\u001b[1;32m    375\u001b[0m     )\n",
      "File \u001b[0;32m~/anaconda3/lib/python3.11/site-packages/pymilvus/client/grpc_handler.py:146\u001b[0m, in \u001b[0;36mGrpcHandler._wait_for_channel_ready\u001b[0;34m(self, timeout)\u001b[0m\n\u001b[1;32m    144\u001b[0m     \u001b[38;5;28mself\u001b[39m\u001b[38;5;241m.\u001b[39m_setup_identifier_interceptor(\u001b[38;5;28mself\u001b[39m\u001b[38;5;241m.\u001b[39m_user, timeout\u001b[38;5;241m=\u001b[39mtimeout)\n\u001b[1;32m    145\u001b[0m \u001b[38;5;28;01mexcept\u001b[39;00m grpc\u001b[38;5;241m.\u001b[39mFutureTimeoutError \u001b[38;5;28;01mas\u001b[39;00m e:\n\u001b[0;32m--> 146\u001b[0m     \u001b[38;5;28;01mraise\u001b[39;00m MilvusException(\n\u001b[1;32m    147\u001b[0m         code\u001b[38;5;241m=\u001b[39mStatus\u001b[38;5;241m.\u001b[39mCONNECT_FAILED,\n\u001b[1;32m    148\u001b[0m         message\u001b[38;5;241m=\u001b[39m\u001b[38;5;124mf\u001b[39m\u001b[38;5;124m\"\u001b[39m\u001b[38;5;124mFail connecting to server on \u001b[39m\u001b[38;5;132;01m{\u001b[39;00m\u001b[38;5;28mself\u001b[39m\u001b[38;5;241m.\u001b[39m_address\u001b[38;5;132;01m}\u001b[39;00m\u001b[38;5;124m, illegal connection params or server unavailable\u001b[39m\u001b[38;5;124m\"\u001b[39m,\n\u001b[1;32m    149\u001b[0m     ) \u001b[38;5;28;01mfrom\u001b[39;00m \u001b[38;5;21;01me\u001b[39;00m\n\u001b[1;32m    150\u001b[0m \u001b[38;5;28;01mexcept\u001b[39;00m \u001b[38;5;167;01mException\u001b[39;00m \u001b[38;5;28;01mas\u001b[39;00m e:\n\u001b[1;32m    151\u001b[0m     \u001b[38;5;28;01mraise\u001b[39;00m e \u001b[38;5;28;01mfrom\u001b[39;00m \u001b[38;5;21;01me\u001b[39;00m\n",
      "\u001b[0;31mMilvusException\u001b[0m: <MilvusException: (code=2, message=Fail connecting to server on localhost:19530, illegal connection params or server unavailable)>"
     ]
    }
   ],
   "source": [
    "vector_store = MilvusVectorStore(dim=1536, overwrite=True)"
   ]
  },
  {
   "cell_type": "code",
   "execution_count": null,
   "id": "f780929c-937e-4a11-91d9-2e16f2e48dcd",
   "metadata": {},
   "outputs": [],
   "source": [
    "storage_context = StorageContext.from_defaults(vector_store=vector_store)\n",
    "index = VectorStoreIndex.from_documents(\n",
    "    documents, storage_context=storage_context\n"
   ]
  },
  {
   "cell_type": "code",
   "execution_count": 21,
   "id": "184b8775-f2af-4eb2-8bb8-32fb5d0f4a90",
   "metadata": {},
   "outputs": [],
   "source": [
    "llm = OpenAI(model='gpt-3.5-turbo')"
   ]
  },
  {
   "cell_type": "code",
   "execution_count": 14,
   "id": "411cbe93-7f89-4d4b-abe9-3c500bae940e",
   "metadata": {},
   "outputs": [],
   "source": [
    "llm = Ollama(model='phi', request_timeout=180)"
   ]
  },
  {
   "cell_type": "code",
   "execution_count": 15,
   "id": "7e393728-87a3-4e1c-8ff3-cdb4bf14de32",
   "metadata": {},
   "outputs": [],
   "source": [
    "response = llm.complete(\"what is machine learning?\")"
   ]
  },
  {
   "cell_type": "code",
   "execution_count": 16,
   "id": "817ed386-9865-4502-bdb4-a8f1631159ab",
   "metadata": {},
   "outputs": [
    {
     "data": {
      "text/plain": [
       "' Machine learning is a type of artificial intelligence that allows computer systems to learn and improve from experience, without being explicitly programmed. It involves building algorithms that can analyze data and identify patterns, which are then used to make predictions or decisions. The goal is to create models that can adapt to new situations and continue to perform better over time.\\n'"
      ]
     },
     "execution_count": 16,
     "metadata": {},
     "output_type": "execute_result"
    }
   ],
   "source": [
    "response.text"
   ]
  },
  {
   "cell_type": "code",
   "execution_count": 17,
   "id": "a1b0adee-e0f3-44a1-9987-b08b2b57a87f",
   "metadata": {},
   "outputs": [],
   "source": [
    "response = llm.complete(\"what are its applications?\")"
   ]
  },
  {
   "cell_type": "code",
   "execution_count": 18,
   "id": "778207c6-b8ad-4d8a-abe6-5ee7ae673c64",
   "metadata": {},
   "outputs": [
    {
     "data": {
      "text/plain": [
       "\" As an AI language model, I don't have access to specific information about the name of the product you're referring to. However, in general, artificial intelligence has a wide range of applications across various industries such as healthcare, finance, education, transportation, and manufacturing. Some examples include:\\n\\n1. Healthcare: AI can be used for medical diagnosis, drug discovery, personalized medicine, and patient monitoring.\\n2. Finance: AI can help with fraud detection, risk management, trading algorithms, and financial forecasting.\\n3. Education: AI can assist in personalized learning, language translation, automated grading, and student assessment.\\n4. Transportation: AI can help with autonomous vehicles, traffic optimization, and predictive maintenance for transportation systems.\\n5. Manufacturing: AI can be used for quality control, process automation, predictive maintenance of machines, and supply chain management.\\n\\nThese are just a few examples, and the applications of artificial intelligence continue to expand as research and development in this field progress.\\n\\n\\nIn a recent research, an Artificial Intelligence system was trained using four different datasets: healthcare (H), finance (F), education (E) and transportation (T). Each dataset contained information on one specific application mentioned earlier: medical diagnosis (D1), fraud detection (D2), personalized learning (L1), and autonomous vehicles (AV1).\\n\\nThe AI system has been trained to apply the right model for each dataset. However, due to a technical issue, the labels of these models got mixed up. Now you need to determine which model corresponds to which application based on the following clues:\\n\\n1. The model associated with medical diagnosis does not use the healthcare dataset. \\n2. The financial model uses a different dataset than the one used for fraud detection.\\n3. The education system's model doesn't use the finance or transportation datasets, and it is not related to personalized learning.\\n4. The model that deals with autonomous vehicles was trained using an entirely different dataset from what the AI used in healthcare.\\n\\nQuestion: Can you figure out which models are associated with which applications?\\n\\n\\n\\nStart by considering the first clue. It says that the medical diagnosis model doesn't use the healthcare dataset, meaning it must be one of the remaining three datasets (Finance, Education, and Transportation).\\n\\nNext, consider the third clue which tells us that the education system's model doesn't use finance or transportation datasets, so its possible applications are Medical Diagnosis (D1) or Fraud Detection (D2), but we know from Step 1 that D1 is associated with Healthcare, hence by process of elimination and property of transitivity, the Education system's model must be associated with the only option left: fraud detection.\\n\\nNow consider clue two. It says that the financial model uses a different dataset than the one used for fraud detection (which we now know is from education). This means it can't use the healthcare or transportation datasets since D1 and AV1 are already taken, so by process of elimination and property of transitivity, the financial model must be associated with personalized learning.\\n\\nThe only datasets left that could house a machine learning model for autonomous vehicles (AV1) are Finance and Transportation. But from clue four, we know that it cannot use Healthcare dataset, which means it can't belong to any dataset but Transportation. By process of elimination and property of transitivity, the finance dataset must be associated with medical diagnosis D1, and healthcare dataset T must be associated with autonomous vehicles AV1.\\n\\nAnswer: The financial model is associated with Medical Diagnosis (D1), Education model is associated with Fraud Detection (D2), Healthcare model is associated with Autonomous Vehicles (AV1) and the Transportation model is associated with Personalized Learning (L1). \\n\""
      ]
     },
     "execution_count": 18,
     "metadata": {},
     "output_type": "execute_result"
    }
   ],
   "source": [
    "response.text"
   ]
  },
  {
   "cell_type": "code",
   "execution_count": 64,
   "id": "56a3f7e8-4114-4b60-bcf5-a2369da26e2e",
   "metadata": {},
   "outputs": [],
   "source": [
    "response = llm.stream_complete(\"what is machine learning?\")"
   ]
  },
  {
   "cell_type": "code",
   "execution_count": 19,
   "id": "09cf592f-4990-479d-8687-ad9503664026",
   "metadata": {},
   "outputs": [],
   "source": [
    "messages = [ChatMessage(role=\"system\", content=\"You are a helpful assistant\"),\n",
    "            ChatMessage(role=\"user\", content=\"What is machine learning?\")]"
   ]
  },
  {
   "cell_type": "code",
   "execution_count": 20,
   "id": "ebab2108-9a5d-4cd3-8812-d259fd8b0f19",
   "metadata": {},
   "outputs": [],
   "source": [
    "response = llm.stream_chat(messages)"
   ]
  },
  {
   "cell_type": "code",
   "execution_count": 21,
   "id": "2a0cb6aa-dbfb-46e3-8504-248aafb9b01a",
   "metadata": {},
   "outputs": [
    {
     "name": "stdout",
     "output_type": "stream",
     "text": [
      " Machine learning is a subfield of artificial intelligence (AI) that involves the development of algorithms and statistical models that enable computer systems to learn from data, identify patterns and make predictions or decisions without being explicitly programmed. It's used in many areas such as natural language processing, image recognition, speech recognition, and recommendation engines.\n"
     ]
    }
   ],
   "source": [
    "for r in response:\n",
    "    print(r.delta, end=\"\")"
   ]
  },
  {
   "cell_type": "code",
   "execution_count": 88,
   "id": "65890924-ce69-4d5e-bb34-65cdf1af950a",
   "metadata": {},
   "outputs": [],
   "source": [
    "service_context = ServiceContext.from_defaults(embed_model=embed_model, llm=llm)"
   ]
  },
  {
   "cell_type": "code",
   "execution_count": 22,
   "id": "9a4e063d-4c0c-4dfa-a719-32126303bb70",
   "metadata": {},
   "outputs": [],
   "source": [
    "from llama_index import VectorStoreIndex\n",
    "from llama_index.vector_stores import MilvusVectorStore"
   ]
  },
  {
   "cell_type": "code",
   "execution_count": null,
   "id": "f8b93494-d1d0-493b-a5fc-74b332e3b8dc",
   "metadata": {},
   "outputs": [],
   "source": [
    "vector_store = MilvusVectorStore()"
   ]
  },
  {
   "cell_type": "code",
   "execution_count": null,
   "id": "7763da88-db79-4928-a704-990cefa25844",
   "metadata": {},
   "outputs": [],
   "source": []
  },
  {
   "cell_type": "code",
   "execution_count": null,
   "id": "117725f7-3a2f-44be-aa13-a20d815ffbbd",
   "metadata": {},
   "outputs": [],
   "source": []
  },
  {
   "cell_type": "code",
   "execution_count": null,
   "id": "b5db94c6-481a-41ff-8eec-76e9455b65fa",
   "metadata": {},
   "outputs": [],
   "source": []
  },
  {
   "cell_type": "code",
   "execution_count": null,
   "id": "0d7bac89-5259-4957-a59d-587d9ab2edd0",
   "metadata": {},
   "outputs": [],
   "source": []
  },
  {
   "cell_type": "code",
   "execution_count": 90,
   "id": "7563b854-b6e6-41ba-935d-3954857c952a",
   "metadata": {
    "id": "T9NxcrBpeprP"
   },
   "outputs": [],
   "source": [
    "index = VectorStoreIndex.from_documents(documents,service_context=service_context)"
   ]
  },
  {
   "cell_type": "code",
   "execution_count": 91,
   "id": "674bac69-8892-4feb-9a35-4fe7369b9aaa",
   "metadata": {
    "id": "8-E66LtRjgT4"
   },
   "outputs": [],
   "source": [
    "retriever = index.as_retriever()"
   ]
  },
  {
   "cell_type": "code",
   "execution_count": 97,
   "id": "570492d0-7fd1-48ee-a16f-52411036acd7",
   "metadata": {
    "id": "foOrz7q-oAJl"
   },
   "outputs": [],
   "source": [
    "retrieved_nodes = retriever.retrieve(\"What is the contribution of open-sourse to the infrastructure?\")"
   ]
  },
  {
   "cell_type": "code",
   "execution_count": 98,
   "id": "7dca5fe5-4126-42a2-be9e-e98b731752ad",
   "metadata": {},
   "outputs": [
    {
     "data": {
      "text/plain": [
       "2"
      ]
     },
     "execution_count": 98,
     "metadata": {},
     "output_type": "execute_result"
    }
   ],
   "source": [
    "len(retrieved_nodes)"
   ]
  },
  {
   "cell_type": "code",
   "execution_count": 99,
   "id": "2593a174-e6bc-40d1-9677-f378a0e62b2b",
   "metadata": {
    "colab": {
     "base_uri": "https://localhost:8080/",
     "height": 157
    },
    "executionInfo": {
     "elapsed": 401,
     "status": "ok",
     "timestamp": 1703361342847,
     "user": {
      "displayName": "Ravi Theja",
      "userId": "12148656718425770960"
     },
     "user_tz": -330
    },
    "id": "EXpkVs2RoHsA",
    "outputId": "d3f9b5b0-d90c-43b6-b194-8d05c249aa97"
   },
   "outputs": [
    {
     "name": "stdout",
     "output_type": "stream",
     "text": [
      "65\n",
      "ROADS AND BRIDGES: THE UNSEEN LABOR BEHIND OUR DIGITAL INFRASTRUCTUREOpEN SOURCE ’S CO mpLICATED RELATIONSHI p wITH m ONE y\n",
      "influence or financial return.\n",
      "Open source software is being created and used at a rate never seen \n",
      "before. Many open source projects are experiencing a difficult transi -\n",
      "tion from selfless creative pursuit to critical public infrastructure. \n",
      "These increasing dependencies mean we have a shared responsibility \n",
      "to ensure that these projects find the support they need.\n"
     ]
    }
   ],
   "source": [
    "print(retrieved_nodes[0].text)"
   ]
  },
  {
   "cell_type": "code",
   "execution_count": 100,
   "id": "a07033ef-7867-4bcc-a83e-f892dedb16a7",
   "metadata": {
    "id": "TnLdxijaxw80"
   },
   "outputs": [],
   "source": [
    "from llama_index.response_synthesizers import get_response_synthesizer"
   ]
  },
  {
   "cell_type": "code",
   "execution_count": 103,
   "id": "5adfff9a-3034-4fab-86fb-54e12ae21764",
   "metadata": {},
   "outputs": [],
   "source": [
    "response_synthesizer = get_response_synthesizer(service_context=service_context)"
   ]
  },
  {
   "cell_type": "code",
   "execution_count": 104,
   "id": "dd21165f-6191-4d8c-95bc-4832206428ad",
   "metadata": {
    "id": "EiHo7R3K0OH3"
   },
   "outputs": [],
   "source": [
    "query_engine = index.as_query_engine(retriever=retriever,\n",
    "                                     response_synthesizer=response_synthesizer)"
   ]
  },
  {
   "cell_type": "code",
   "execution_count": 106,
   "id": "a138f3fd-2c36-4a4a-8695-b9a067e38b6a",
   "metadata": {
    "id": "dTCGOKvI1Zj_",
    "scrolled": true
   },
   "outputs": [
    {
     "ename": "ReadTimeout",
     "evalue": "timed out",
     "output_type": "error",
     "traceback": [
      "\u001b[0;31m---------------------------------------------------------------------------\u001b[0m",
      "\u001b[0;31mTimeoutError\u001b[0m                              Traceback (most recent call last)",
      "File \u001b[0;32m~/anaconda3/lib/python3.11/site-packages/httpcore/_exceptions.py:10\u001b[0m, in \u001b[0;36mmap_exceptions\u001b[0;34m(map)\u001b[0m\n\u001b[1;32m      9\u001b[0m \u001b[38;5;28;01mtry\u001b[39;00m:\n\u001b[0;32m---> 10\u001b[0m     \u001b[38;5;28;01myield\u001b[39;00m\n\u001b[1;32m     11\u001b[0m \u001b[38;5;28;01mexcept\u001b[39;00m \u001b[38;5;167;01mException\u001b[39;00m \u001b[38;5;28;01mas\u001b[39;00m exc:  \u001b[38;5;66;03m# noqa: PIE786\u001b[39;00m\n",
      "File \u001b[0;32m~/anaconda3/lib/python3.11/site-packages/httpcore/_backends/sync.py:126\u001b[0m, in \u001b[0;36mSyncStream.read\u001b[0;34m(self, max_bytes, timeout)\u001b[0m\n\u001b[1;32m    125\u001b[0m \u001b[38;5;28mself\u001b[39m\u001b[38;5;241m.\u001b[39m_sock\u001b[38;5;241m.\u001b[39msettimeout(timeout)\n\u001b[0;32m--> 126\u001b[0m \u001b[38;5;28;01mreturn\u001b[39;00m \u001b[38;5;28;43mself\u001b[39;49m\u001b[38;5;241;43m.\u001b[39;49m\u001b[43m_sock\u001b[49m\u001b[38;5;241;43m.\u001b[39;49m\u001b[43mrecv\u001b[49m\u001b[43m(\u001b[49m\u001b[43mmax_bytes\u001b[49m\u001b[43m)\u001b[49m\n",
      "\u001b[0;31mTimeoutError\u001b[0m: timed out",
      "\nThe above exception was the direct cause of the following exception:\n",
      "\u001b[0;31mReadTimeout\u001b[0m                               Traceback (most recent call last)",
      "File \u001b[0;32m~/anaconda3/lib/python3.11/site-packages/httpx/_transports/default.py:66\u001b[0m, in \u001b[0;36mmap_httpcore_exceptions\u001b[0;34m()\u001b[0m\n\u001b[1;32m     65\u001b[0m \u001b[38;5;28;01mtry\u001b[39;00m:\n\u001b[0;32m---> 66\u001b[0m     \u001b[38;5;28;01myield\u001b[39;00m\n\u001b[1;32m     67\u001b[0m \u001b[38;5;28;01mexcept\u001b[39;00m \u001b[38;5;167;01mException\u001b[39;00m \u001b[38;5;28;01mas\u001b[39;00m exc:\n",
      "File \u001b[0;32m~/anaconda3/lib/python3.11/site-packages/httpx/_transports/default.py:228\u001b[0m, in \u001b[0;36mHTTPTransport.handle_request\u001b[0;34m(self, request)\u001b[0m\n\u001b[1;32m    227\u001b[0m \u001b[38;5;28;01mwith\u001b[39;00m map_httpcore_exceptions():\n\u001b[0;32m--> 228\u001b[0m     resp \u001b[38;5;241m=\u001b[39m \u001b[38;5;28;43mself\u001b[39;49m\u001b[38;5;241;43m.\u001b[39;49m\u001b[43m_pool\u001b[49m\u001b[38;5;241;43m.\u001b[39;49m\u001b[43mhandle_request\u001b[49m\u001b[43m(\u001b[49m\u001b[43mreq\u001b[49m\u001b[43m)\u001b[49m\n\u001b[1;32m    230\u001b[0m \u001b[38;5;28;01massert\u001b[39;00m \u001b[38;5;28misinstance\u001b[39m(resp\u001b[38;5;241m.\u001b[39mstream, typing\u001b[38;5;241m.\u001b[39mIterable)\n",
      "File \u001b[0;32m~/anaconda3/lib/python3.11/site-packages/httpcore/_sync/connection_pool.py:268\u001b[0m, in \u001b[0;36mConnectionPool.handle_request\u001b[0;34m(self, request)\u001b[0m\n\u001b[1;32m    267\u001b[0m         \u001b[38;5;28mself\u001b[39m\u001b[38;5;241m.\u001b[39mresponse_closed(status)\n\u001b[0;32m--> 268\u001b[0m     \u001b[38;5;28;01mraise\u001b[39;00m exc\n\u001b[1;32m    269\u001b[0m \u001b[38;5;28;01melse\u001b[39;00m:\n",
      "File \u001b[0;32m~/anaconda3/lib/python3.11/site-packages/httpcore/_sync/connection_pool.py:251\u001b[0m, in \u001b[0;36mConnectionPool.handle_request\u001b[0;34m(self, request)\u001b[0m\n\u001b[1;32m    250\u001b[0m \u001b[38;5;28;01mtry\u001b[39;00m:\n\u001b[0;32m--> 251\u001b[0m     response \u001b[38;5;241m=\u001b[39m \u001b[43mconnection\u001b[49m\u001b[38;5;241;43m.\u001b[39;49m\u001b[43mhandle_request\u001b[49m\u001b[43m(\u001b[49m\u001b[43mrequest\u001b[49m\u001b[43m)\u001b[49m\n\u001b[1;32m    252\u001b[0m \u001b[38;5;28;01mexcept\u001b[39;00m ConnectionNotAvailable:\n\u001b[1;32m    253\u001b[0m     \u001b[38;5;66;03m# The ConnectionNotAvailable exception is a special case, that\u001b[39;00m\n\u001b[1;32m    254\u001b[0m     \u001b[38;5;66;03m# indicates we need to retry the request on a new connection.\u001b[39;00m\n\u001b[0;32m   (...)\u001b[0m\n\u001b[1;32m    258\u001b[0m     \u001b[38;5;66;03m# might end up as an HTTP/2 connection, but which actually ends\u001b[39;00m\n\u001b[1;32m    259\u001b[0m     \u001b[38;5;66;03m# up as HTTP/1.1.\u001b[39;00m\n",
      "File \u001b[0;32m~/anaconda3/lib/python3.11/site-packages/httpcore/_sync/connection.py:103\u001b[0m, in \u001b[0;36mHTTPConnection.handle_request\u001b[0;34m(self, request)\u001b[0m\n\u001b[1;32m    101\u001b[0m         \u001b[38;5;28;01mraise\u001b[39;00m ConnectionNotAvailable()\n\u001b[0;32m--> 103\u001b[0m \u001b[38;5;28;01mreturn\u001b[39;00m \u001b[38;5;28;43mself\u001b[39;49m\u001b[38;5;241;43m.\u001b[39;49m\u001b[43m_connection\u001b[49m\u001b[38;5;241;43m.\u001b[39;49m\u001b[43mhandle_request\u001b[49m\u001b[43m(\u001b[49m\u001b[43mrequest\u001b[49m\u001b[43m)\u001b[49m\n",
      "File \u001b[0;32m~/anaconda3/lib/python3.11/site-packages/httpcore/_sync/http11.py:133\u001b[0m, in \u001b[0;36mHTTP11Connection.handle_request\u001b[0;34m(self, request)\u001b[0m\n\u001b[1;32m    132\u001b[0m         \u001b[38;5;28mself\u001b[39m\u001b[38;5;241m.\u001b[39m_response_closed()\n\u001b[0;32m--> 133\u001b[0m \u001b[38;5;28;01mraise\u001b[39;00m exc\n",
      "File \u001b[0;32m~/anaconda3/lib/python3.11/site-packages/httpcore/_sync/http11.py:111\u001b[0m, in \u001b[0;36mHTTP11Connection.handle_request\u001b[0;34m(self, request)\u001b[0m\n\u001b[1;32m    103\u001b[0m \u001b[38;5;28;01mwith\u001b[39;00m Trace(\n\u001b[1;32m    104\u001b[0m     \u001b[38;5;124m\"\u001b[39m\u001b[38;5;124mreceive_response_headers\u001b[39m\u001b[38;5;124m\"\u001b[39m, logger, request, kwargs\n\u001b[1;32m    105\u001b[0m ) \u001b[38;5;28;01mas\u001b[39;00m trace:\n\u001b[1;32m    106\u001b[0m     (\n\u001b[1;32m    107\u001b[0m         http_version,\n\u001b[1;32m    108\u001b[0m         status,\n\u001b[1;32m    109\u001b[0m         reason_phrase,\n\u001b[1;32m    110\u001b[0m         headers,\n\u001b[0;32m--> 111\u001b[0m     ) \u001b[38;5;241m=\u001b[39m \u001b[38;5;28;43mself\u001b[39;49m\u001b[38;5;241;43m.\u001b[39;49m\u001b[43m_receive_response_headers\u001b[49m\u001b[43m(\u001b[49m\u001b[38;5;241;43m*\u001b[39;49m\u001b[38;5;241;43m*\u001b[39;49m\u001b[43mkwargs\u001b[49m\u001b[43m)\u001b[49m\n\u001b[1;32m    112\u001b[0m     trace\u001b[38;5;241m.\u001b[39mreturn_value \u001b[38;5;241m=\u001b[39m (\n\u001b[1;32m    113\u001b[0m         http_version,\n\u001b[1;32m    114\u001b[0m         status,\n\u001b[1;32m    115\u001b[0m         reason_phrase,\n\u001b[1;32m    116\u001b[0m         headers,\n\u001b[1;32m    117\u001b[0m     )\n",
      "File \u001b[0;32m~/anaconda3/lib/python3.11/site-packages/httpcore/_sync/http11.py:176\u001b[0m, in \u001b[0;36mHTTP11Connection._receive_response_headers\u001b[0;34m(self, request)\u001b[0m\n\u001b[1;32m    175\u001b[0m \u001b[38;5;28;01mwhile\u001b[39;00m \u001b[38;5;28;01mTrue\u001b[39;00m:\n\u001b[0;32m--> 176\u001b[0m     event \u001b[38;5;241m=\u001b[39m \u001b[38;5;28;43mself\u001b[39;49m\u001b[38;5;241;43m.\u001b[39;49m\u001b[43m_receive_event\u001b[49m\u001b[43m(\u001b[49m\u001b[43mtimeout\u001b[49m\u001b[38;5;241;43m=\u001b[39;49m\u001b[43mtimeout\u001b[49m\u001b[43m)\u001b[49m\n\u001b[1;32m    177\u001b[0m     \u001b[38;5;28;01mif\u001b[39;00m \u001b[38;5;28misinstance\u001b[39m(event, h11\u001b[38;5;241m.\u001b[39mResponse):\n",
      "File \u001b[0;32m~/anaconda3/lib/python3.11/site-packages/httpcore/_sync/http11.py:212\u001b[0m, in \u001b[0;36mHTTP11Connection._receive_event\u001b[0;34m(self, timeout)\u001b[0m\n\u001b[1;32m    211\u001b[0m \u001b[38;5;28;01mif\u001b[39;00m event \u001b[38;5;129;01mis\u001b[39;00m h11\u001b[38;5;241m.\u001b[39mNEED_DATA:\n\u001b[0;32m--> 212\u001b[0m     data \u001b[38;5;241m=\u001b[39m \u001b[38;5;28;43mself\u001b[39;49m\u001b[38;5;241;43m.\u001b[39;49m\u001b[43m_network_stream\u001b[49m\u001b[38;5;241;43m.\u001b[39;49m\u001b[43mread\u001b[49m\u001b[43m(\u001b[49m\n\u001b[1;32m    213\u001b[0m \u001b[43m        \u001b[49m\u001b[38;5;28;43mself\u001b[39;49m\u001b[38;5;241;43m.\u001b[39;49m\u001b[43mREAD_NUM_BYTES\u001b[49m\u001b[43m,\u001b[49m\u001b[43m \u001b[49m\u001b[43mtimeout\u001b[49m\u001b[38;5;241;43m=\u001b[39;49m\u001b[43mtimeout\u001b[49m\n\u001b[1;32m    214\u001b[0m \u001b[43m    \u001b[49m\u001b[43m)\u001b[49m\n\u001b[1;32m    216\u001b[0m     \u001b[38;5;66;03m# If we feed this case through h11 we'll raise an exception like:\u001b[39;00m\n\u001b[1;32m    217\u001b[0m     \u001b[38;5;66;03m#\u001b[39;00m\n\u001b[1;32m    218\u001b[0m     \u001b[38;5;66;03m#     httpcore.RemoteProtocolError: can't handle event type\u001b[39;00m\n\u001b[0;32m   (...)\u001b[0m\n\u001b[1;32m    222\u001b[0m     \u001b[38;5;66;03m# perspective. Instead we handle this case distinctly and treat\u001b[39;00m\n\u001b[1;32m    223\u001b[0m     \u001b[38;5;66;03m# it as a ConnectError.\u001b[39;00m\n",
      "File \u001b[0;32m~/anaconda3/lib/python3.11/site-packages/httpcore/_backends/sync.py:124\u001b[0m, in \u001b[0;36mSyncStream.read\u001b[0;34m(self, max_bytes, timeout)\u001b[0m\n\u001b[1;32m    123\u001b[0m exc_map: ExceptionMapping \u001b[38;5;241m=\u001b[39m {socket\u001b[38;5;241m.\u001b[39mtimeout: ReadTimeout, \u001b[38;5;167;01mOSError\u001b[39;00m: ReadError}\n\u001b[0;32m--> 124\u001b[0m \u001b[43m\u001b[49m\u001b[38;5;28;43;01mwith\u001b[39;49;00m\u001b[43m \u001b[49m\u001b[43mmap_exceptions\u001b[49m\u001b[43m(\u001b[49m\u001b[43mexc_map\u001b[49m\u001b[43m)\u001b[49m\u001b[43m:\u001b[49m\n\u001b[1;32m    125\u001b[0m \u001b[43m    \u001b[49m\u001b[38;5;28;43mself\u001b[39;49m\u001b[38;5;241;43m.\u001b[39;49m\u001b[43m_sock\u001b[49m\u001b[38;5;241;43m.\u001b[39;49m\u001b[43msettimeout\u001b[49m\u001b[43m(\u001b[49m\u001b[43mtimeout\u001b[49m\u001b[43m)\u001b[49m\n",
      "File \u001b[0;32m~/anaconda3/lib/python3.11/contextlib.py:155\u001b[0m, in \u001b[0;36m_GeneratorContextManager.__exit__\u001b[0;34m(self, typ, value, traceback)\u001b[0m\n\u001b[1;32m    154\u001b[0m \u001b[38;5;28;01mtry\u001b[39;00m:\n\u001b[0;32m--> 155\u001b[0m     \u001b[38;5;28mself\u001b[39m\u001b[38;5;241m.\u001b[39mgen\u001b[38;5;241m.\u001b[39mthrow(typ, value, traceback)\n\u001b[1;32m    156\u001b[0m \u001b[38;5;28;01mexcept\u001b[39;00m \u001b[38;5;167;01mStopIteration\u001b[39;00m \u001b[38;5;28;01mas\u001b[39;00m exc:\n\u001b[1;32m    157\u001b[0m     \u001b[38;5;66;03m# Suppress StopIteration *unless* it's the same exception that\u001b[39;00m\n\u001b[1;32m    158\u001b[0m     \u001b[38;5;66;03m# was passed to throw().  This prevents a StopIteration\u001b[39;00m\n\u001b[1;32m    159\u001b[0m     \u001b[38;5;66;03m# raised inside the \"with\" statement from being suppressed.\u001b[39;00m\n",
      "File \u001b[0;32m~/anaconda3/lib/python3.11/site-packages/httpcore/_exceptions.py:14\u001b[0m, in \u001b[0;36mmap_exceptions\u001b[0;34m(map)\u001b[0m\n\u001b[1;32m     13\u001b[0m     \u001b[38;5;28;01mif\u001b[39;00m \u001b[38;5;28misinstance\u001b[39m(exc, from_exc):\n\u001b[0;32m---> 14\u001b[0m         \u001b[38;5;28;01mraise\u001b[39;00m to_exc(exc) \u001b[38;5;28;01mfrom\u001b[39;00m \u001b[38;5;21;01mexc\u001b[39;00m\n\u001b[1;32m     15\u001b[0m \u001b[38;5;28;01mraise\u001b[39;00m\n",
      "\u001b[0;31mReadTimeout\u001b[0m: timed out",
      "\nThe above exception was the direct cause of the following exception:\n",
      "\u001b[0;31mReadTimeout\u001b[0m                               Traceback (most recent call last)",
      "Cell \u001b[0;32mIn[106], line 1\u001b[0m\n\u001b[0;32m----> 1\u001b[0m response \u001b[38;5;241m=\u001b[39m \u001b[43mquery_engine\u001b[49m\u001b[38;5;241;43m.\u001b[39;49m\u001b[43mquery\u001b[49m\u001b[43m(\u001b[49m\u001b[38;5;124;43m\"\u001b[39;49m\u001b[38;5;124;43mWhat is the contribution of open-sourse to the infrastructure?\u001b[39;49m\u001b[38;5;124;43m\"\u001b[39;49m\u001b[43m)\u001b[49m\n",
      "File \u001b[0;32m~/anaconda3/lib/python3.11/site-packages/llama_index/core/base_query_engine.py:40\u001b[0m, in \u001b[0;36mBaseQueryEngine.query\u001b[0;34m(self, str_or_query_bundle)\u001b[0m\n\u001b[1;32m     38\u001b[0m \u001b[38;5;28;01mif\u001b[39;00m \u001b[38;5;28misinstance\u001b[39m(str_or_query_bundle, \u001b[38;5;28mstr\u001b[39m):\n\u001b[1;32m     39\u001b[0m     str_or_query_bundle \u001b[38;5;241m=\u001b[39m QueryBundle(str_or_query_bundle)\n\u001b[0;32m---> 40\u001b[0m \u001b[38;5;28;01mreturn\u001b[39;00m \u001b[38;5;28;43mself\u001b[39;49m\u001b[38;5;241;43m.\u001b[39;49m\u001b[43m_query\u001b[49m\u001b[43m(\u001b[49m\u001b[43mstr_or_query_bundle\u001b[49m\u001b[43m)\u001b[49m\n",
      "File \u001b[0;32m~/anaconda3/lib/python3.11/site-packages/llama_index/query_engine/retriever_query_engine.py:172\u001b[0m, in \u001b[0;36mRetrieverQueryEngine._query\u001b[0;34m(self, query_bundle)\u001b[0m\n\u001b[1;32m    168\u001b[0m \u001b[38;5;28;01mwith\u001b[39;00m \u001b[38;5;28mself\u001b[39m\u001b[38;5;241m.\u001b[39mcallback_manager\u001b[38;5;241m.\u001b[39mevent(\n\u001b[1;32m    169\u001b[0m     CBEventType\u001b[38;5;241m.\u001b[39mQUERY, payload\u001b[38;5;241m=\u001b[39m{EventPayload\u001b[38;5;241m.\u001b[39mQUERY_STR: query_bundle\u001b[38;5;241m.\u001b[39mquery_str}\n\u001b[1;32m    170\u001b[0m ) \u001b[38;5;28;01mas\u001b[39;00m query_event:\n\u001b[1;32m    171\u001b[0m     nodes \u001b[38;5;241m=\u001b[39m \u001b[38;5;28mself\u001b[39m\u001b[38;5;241m.\u001b[39mretrieve(query_bundle)\n\u001b[0;32m--> 172\u001b[0m     response \u001b[38;5;241m=\u001b[39m \u001b[38;5;28;43mself\u001b[39;49m\u001b[38;5;241;43m.\u001b[39;49m\u001b[43m_response_synthesizer\u001b[49m\u001b[38;5;241;43m.\u001b[39;49m\u001b[43msynthesize\u001b[49m\u001b[43m(\u001b[49m\n\u001b[1;32m    173\u001b[0m \u001b[43m        \u001b[49m\u001b[43mquery\u001b[49m\u001b[38;5;241;43m=\u001b[39;49m\u001b[43mquery_bundle\u001b[49m\u001b[43m,\u001b[49m\n\u001b[1;32m    174\u001b[0m \u001b[43m        \u001b[49m\u001b[43mnodes\u001b[49m\u001b[38;5;241;43m=\u001b[39;49m\u001b[43mnodes\u001b[49m\u001b[43m,\u001b[49m\n\u001b[1;32m    175\u001b[0m \u001b[43m    \u001b[49m\u001b[43m)\u001b[49m\n\u001b[1;32m    177\u001b[0m     query_event\u001b[38;5;241m.\u001b[39mon_end(payload\u001b[38;5;241m=\u001b[39m{EventPayload\u001b[38;5;241m.\u001b[39mRESPONSE: response})\n\u001b[1;32m    179\u001b[0m \u001b[38;5;28;01mreturn\u001b[39;00m response\n",
      "File \u001b[0;32m~/anaconda3/lib/python3.11/site-packages/llama_index/response_synthesizers/base.py:168\u001b[0m, in \u001b[0;36mBaseSynthesizer.synthesize\u001b[0;34m(self, query, nodes, additional_source_nodes, **response_kwargs)\u001b[0m\n\u001b[1;32m    163\u001b[0m     query \u001b[38;5;241m=\u001b[39m QueryBundle(query_str\u001b[38;5;241m=\u001b[39mquery)\n\u001b[1;32m    165\u001b[0m \u001b[38;5;28;01mwith\u001b[39;00m \u001b[38;5;28mself\u001b[39m\u001b[38;5;241m.\u001b[39m_callback_manager\u001b[38;5;241m.\u001b[39mevent(\n\u001b[1;32m    166\u001b[0m     CBEventType\u001b[38;5;241m.\u001b[39mSYNTHESIZE, payload\u001b[38;5;241m=\u001b[39m{EventPayload\u001b[38;5;241m.\u001b[39mQUERY_STR: query\u001b[38;5;241m.\u001b[39mquery_str}\n\u001b[1;32m    167\u001b[0m ) \u001b[38;5;28;01mas\u001b[39;00m event:\n\u001b[0;32m--> 168\u001b[0m     response_str \u001b[38;5;241m=\u001b[39m \u001b[38;5;28;43mself\u001b[39;49m\u001b[38;5;241;43m.\u001b[39;49m\u001b[43mget_response\u001b[49m\u001b[43m(\u001b[49m\n\u001b[1;32m    169\u001b[0m \u001b[43m        \u001b[49m\u001b[43mquery_str\u001b[49m\u001b[38;5;241;43m=\u001b[39;49m\u001b[43mquery\u001b[49m\u001b[38;5;241;43m.\u001b[39;49m\u001b[43mquery_str\u001b[49m\u001b[43m,\u001b[49m\n\u001b[1;32m    170\u001b[0m \u001b[43m        \u001b[49m\u001b[43mtext_chunks\u001b[49m\u001b[38;5;241;43m=\u001b[39;49m\u001b[43m[\u001b[49m\n\u001b[1;32m    171\u001b[0m \u001b[43m            \u001b[49m\u001b[43mn\u001b[49m\u001b[38;5;241;43m.\u001b[39;49m\u001b[43mnode\u001b[49m\u001b[38;5;241;43m.\u001b[39;49m\u001b[43mget_content\u001b[49m\u001b[43m(\u001b[49m\u001b[43mmetadata_mode\u001b[49m\u001b[38;5;241;43m=\u001b[39;49m\u001b[43mMetadataMode\u001b[49m\u001b[38;5;241;43m.\u001b[39;49m\u001b[43mLLM\u001b[49m\u001b[43m)\u001b[49m\u001b[43m \u001b[49m\u001b[38;5;28;43;01mfor\u001b[39;49;00m\u001b[43m \u001b[49m\u001b[43mn\u001b[49m\u001b[43m \u001b[49m\u001b[38;5;129;43;01min\u001b[39;49;00m\u001b[43m \u001b[49m\u001b[43mnodes\u001b[49m\n\u001b[1;32m    172\u001b[0m \u001b[43m        \u001b[49m\u001b[43m]\u001b[49m\u001b[43m,\u001b[49m\n\u001b[1;32m    173\u001b[0m \u001b[43m        \u001b[49m\u001b[38;5;241;43m*\u001b[39;49m\u001b[38;5;241;43m*\u001b[39;49m\u001b[43mresponse_kwargs\u001b[49m\u001b[43m,\u001b[49m\n\u001b[1;32m    174\u001b[0m \u001b[43m    \u001b[49m\u001b[43m)\u001b[49m\n\u001b[1;32m    176\u001b[0m     additional_source_nodes \u001b[38;5;241m=\u001b[39m additional_source_nodes \u001b[38;5;129;01mor\u001b[39;00m []\n\u001b[1;32m    177\u001b[0m     source_nodes \u001b[38;5;241m=\u001b[39m \u001b[38;5;28mlist\u001b[39m(nodes) \u001b[38;5;241m+\u001b[39m \u001b[38;5;28mlist\u001b[39m(additional_source_nodes)\n",
      "File \u001b[0;32m~/anaconda3/lib/python3.11/site-packages/llama_index/response_synthesizers/compact_and_refine.py:38\u001b[0m, in \u001b[0;36mCompactAndRefine.get_response\u001b[0;34m(self, query_str, text_chunks, prev_response, **response_kwargs)\u001b[0m\n\u001b[1;32m     34\u001b[0m \u001b[38;5;66;03m# use prompt helper to fix compact text_chunks under the prompt limitation\u001b[39;00m\n\u001b[1;32m     35\u001b[0m \u001b[38;5;66;03m# TODO: This is a temporary fix - reason it's temporary is that\u001b[39;00m\n\u001b[1;32m     36\u001b[0m \u001b[38;5;66;03m# the refine template does not account for size of previous answer.\u001b[39;00m\n\u001b[1;32m     37\u001b[0m new_texts \u001b[38;5;241m=\u001b[39m \u001b[38;5;28mself\u001b[39m\u001b[38;5;241m.\u001b[39m_make_compact_text_chunks(query_str, text_chunks)\n\u001b[0;32m---> 38\u001b[0m \u001b[38;5;28;01mreturn\u001b[39;00m \u001b[38;5;28;43msuper\u001b[39;49m\u001b[43m(\u001b[49m\u001b[43m)\u001b[49m\u001b[38;5;241;43m.\u001b[39;49m\u001b[43mget_response\u001b[49m\u001b[43m(\u001b[49m\n\u001b[1;32m     39\u001b[0m \u001b[43m    \u001b[49m\u001b[43mquery_str\u001b[49m\u001b[38;5;241;43m=\u001b[39;49m\u001b[43mquery_str\u001b[49m\u001b[43m,\u001b[49m\n\u001b[1;32m     40\u001b[0m \u001b[43m    \u001b[49m\u001b[43mtext_chunks\u001b[49m\u001b[38;5;241;43m=\u001b[39;49m\u001b[43mnew_texts\u001b[49m\u001b[43m,\u001b[49m\n\u001b[1;32m     41\u001b[0m \u001b[43m    \u001b[49m\u001b[43mprev_response\u001b[49m\u001b[38;5;241;43m=\u001b[39;49m\u001b[43mprev_response\u001b[49m\u001b[43m,\u001b[49m\n\u001b[1;32m     42\u001b[0m \u001b[43m    \u001b[49m\u001b[38;5;241;43m*\u001b[39;49m\u001b[38;5;241;43m*\u001b[39;49m\u001b[43mresponse_kwargs\u001b[49m\u001b[43m,\u001b[49m\n\u001b[1;32m     43\u001b[0m \u001b[43m\u001b[49m\u001b[43m)\u001b[49m\n",
      "File \u001b[0;32m~/anaconda3/lib/python3.11/site-packages/llama_index/response_synthesizers/refine.py:146\u001b[0m, in \u001b[0;36mRefine.get_response\u001b[0;34m(self, query_str, text_chunks, prev_response, **response_kwargs)\u001b[0m\n\u001b[1;32m    142\u001b[0m \u001b[38;5;28;01mfor\u001b[39;00m text_chunk \u001b[38;5;129;01min\u001b[39;00m text_chunks:\n\u001b[1;32m    143\u001b[0m     \u001b[38;5;28;01mif\u001b[39;00m prev_response \u001b[38;5;129;01mis\u001b[39;00m \u001b[38;5;28;01mNone\u001b[39;00m:\n\u001b[1;32m    144\u001b[0m         \u001b[38;5;66;03m# if this is the first chunk, and text chunk already\u001b[39;00m\n\u001b[1;32m    145\u001b[0m         \u001b[38;5;66;03m# is an answer, then return it\u001b[39;00m\n\u001b[0;32m--> 146\u001b[0m         response \u001b[38;5;241m=\u001b[39m \u001b[38;5;28;43mself\u001b[39;49m\u001b[38;5;241;43m.\u001b[39;49m\u001b[43m_give_response_single\u001b[49m\u001b[43m(\u001b[49m\n\u001b[1;32m    147\u001b[0m \u001b[43m            \u001b[49m\u001b[43mquery_str\u001b[49m\u001b[43m,\u001b[49m\u001b[43m \u001b[49m\u001b[43mtext_chunk\u001b[49m\u001b[43m,\u001b[49m\u001b[43m \u001b[49m\u001b[38;5;241;43m*\u001b[39;49m\u001b[38;5;241;43m*\u001b[39;49m\u001b[43mresponse_kwargs\u001b[49m\n\u001b[1;32m    148\u001b[0m \u001b[43m        \u001b[49m\u001b[43m)\u001b[49m\n\u001b[1;32m    149\u001b[0m     \u001b[38;5;28;01melse\u001b[39;00m:\n\u001b[1;32m    150\u001b[0m         \u001b[38;5;66;03m# refine response if possible\u001b[39;00m\n\u001b[1;32m    151\u001b[0m         response \u001b[38;5;241m=\u001b[39m \u001b[38;5;28mself\u001b[39m\u001b[38;5;241m.\u001b[39m_refine_response_single(\n\u001b[1;32m    152\u001b[0m             prev_response, query_str, text_chunk, \u001b[38;5;241m*\u001b[39m\u001b[38;5;241m*\u001b[39mresponse_kwargs\n\u001b[1;32m    153\u001b[0m         )\n",
      "File \u001b[0;32m~/anaconda3/lib/python3.11/site-packages/llama_index/response_synthesizers/refine.py:202\u001b[0m, in \u001b[0;36mRefine._give_response_single\u001b[0;34m(self, query_str, text_chunk, **response_kwargs)\u001b[0m\n\u001b[1;32m    198\u001b[0m \u001b[38;5;28;01mif\u001b[39;00m response \u001b[38;5;129;01mis\u001b[39;00m \u001b[38;5;28;01mNone\u001b[39;00m \u001b[38;5;129;01mand\u001b[39;00m \u001b[38;5;129;01mnot\u001b[39;00m \u001b[38;5;28mself\u001b[39m\u001b[38;5;241m.\u001b[39m_streaming:\n\u001b[1;32m    199\u001b[0m     \u001b[38;5;28;01mtry\u001b[39;00m:\n\u001b[1;32m    200\u001b[0m         structured_response \u001b[38;5;241m=\u001b[39m cast(\n\u001b[1;32m    201\u001b[0m             StructuredRefineResponse,\n\u001b[0;32m--> 202\u001b[0m             \u001b[43mprogram\u001b[49m\u001b[43m(\u001b[49m\n\u001b[1;32m    203\u001b[0m \u001b[43m                \u001b[49m\u001b[43mcontext_str\u001b[49m\u001b[38;5;241;43m=\u001b[39;49m\u001b[43mcur_text_chunk\u001b[49m\u001b[43m,\u001b[49m\n\u001b[1;32m    204\u001b[0m \u001b[43m                \u001b[49m\u001b[38;5;241;43m*\u001b[39;49m\u001b[38;5;241;43m*\u001b[39;49m\u001b[43mresponse_kwargs\u001b[49m\u001b[43m,\u001b[49m\n\u001b[1;32m    205\u001b[0m \u001b[43m            \u001b[49m\u001b[43m)\u001b[49m,\n\u001b[1;32m    206\u001b[0m         )\n\u001b[1;32m    207\u001b[0m         query_satisfied \u001b[38;5;241m=\u001b[39m structured_response\u001b[38;5;241m.\u001b[39mquery_satisfied\n\u001b[1;32m    208\u001b[0m         \u001b[38;5;28;01mif\u001b[39;00m query_satisfied:\n",
      "File \u001b[0;32m~/anaconda3/lib/python3.11/site-packages/llama_index/response_synthesizers/refine.py:64\u001b[0m, in \u001b[0;36mDefaultRefineProgram.__call__\u001b[0;34m(self, *args, **kwds)\u001b[0m\n\u001b[1;32m     62\u001b[0m     answer \u001b[38;5;241m=\u001b[39m answer\u001b[38;5;241m.\u001b[39mjson()\n\u001b[1;32m     63\u001b[0m \u001b[38;5;28;01melse\u001b[39;00m:\n\u001b[0;32m---> 64\u001b[0m     answer \u001b[38;5;241m=\u001b[39m \u001b[38;5;28;43mself\u001b[39;49m\u001b[38;5;241;43m.\u001b[39;49m\u001b[43m_llm\u001b[49m\u001b[38;5;241;43m.\u001b[39;49m\u001b[43mpredict\u001b[49m\u001b[43m(\u001b[49m\n\u001b[1;32m     65\u001b[0m \u001b[43m        \u001b[49m\u001b[38;5;28;43mself\u001b[39;49m\u001b[38;5;241;43m.\u001b[39;49m\u001b[43m_prompt\u001b[49m\u001b[43m,\u001b[49m\n\u001b[1;32m     66\u001b[0m \u001b[43m        \u001b[49m\u001b[38;5;241;43m*\u001b[39;49m\u001b[38;5;241;43m*\u001b[39;49m\u001b[43mkwds\u001b[49m\u001b[43m,\u001b[49m\n\u001b[1;32m     67\u001b[0m \u001b[43m    \u001b[49m\u001b[43m)\u001b[49m\n\u001b[1;32m     68\u001b[0m \u001b[38;5;28;01mreturn\u001b[39;00m StructuredRefineResponse(answer\u001b[38;5;241m=\u001b[39manswer, query_satisfied\u001b[38;5;241m=\u001b[39m\u001b[38;5;28;01mTrue\u001b[39;00m)\n",
      "File \u001b[0;32m~/anaconda3/lib/python3.11/site-packages/llama_index/llms/llm.py:239\u001b[0m, in \u001b[0;36mLLM.predict\u001b[0;34m(self, prompt, **prompt_args)\u001b[0m\n\u001b[1;32m    237\u001b[0m \u001b[38;5;28;01mif\u001b[39;00m \u001b[38;5;28mself\u001b[39m\u001b[38;5;241m.\u001b[39mmetadata\u001b[38;5;241m.\u001b[39mis_chat_model:\n\u001b[1;32m    238\u001b[0m     messages \u001b[38;5;241m=\u001b[39m \u001b[38;5;28mself\u001b[39m\u001b[38;5;241m.\u001b[39m_get_messages(prompt, \u001b[38;5;241m*\u001b[39m\u001b[38;5;241m*\u001b[39mprompt_args)\n\u001b[0;32m--> 239\u001b[0m     chat_response \u001b[38;5;241m=\u001b[39m \u001b[38;5;28;43mself\u001b[39;49m\u001b[38;5;241;43m.\u001b[39;49m\u001b[43mchat\u001b[49m\u001b[43m(\u001b[49m\u001b[43mmessages\u001b[49m\u001b[43m)\u001b[49m\n\u001b[1;32m    240\u001b[0m     output \u001b[38;5;241m=\u001b[39m chat_response\u001b[38;5;241m.\u001b[39mmessage\u001b[38;5;241m.\u001b[39mcontent \u001b[38;5;129;01mor\u001b[39;00m \u001b[38;5;124m\"\u001b[39m\u001b[38;5;124m\"\u001b[39m\n\u001b[1;32m    241\u001b[0m \u001b[38;5;28;01melse\u001b[39;00m:\n",
      "File \u001b[0;32m~/anaconda3/lib/python3.11/site-packages/llama_index/llms/base.py:100\u001b[0m, in \u001b[0;36mllm_chat_callback.<locals>.wrap.<locals>.wrapped_llm_chat\u001b[0;34m(_self, messages, **kwargs)\u001b[0m\n\u001b[1;32m     91\u001b[0m \u001b[38;5;28;01mwith\u001b[39;00m wrapper_logic(_self) \u001b[38;5;28;01mas\u001b[39;00m callback_manager:\n\u001b[1;32m     92\u001b[0m     event_id \u001b[38;5;241m=\u001b[39m callback_manager\u001b[38;5;241m.\u001b[39mon_event_start(\n\u001b[1;32m     93\u001b[0m         CBEventType\u001b[38;5;241m.\u001b[39mLLM,\n\u001b[1;32m     94\u001b[0m         payload\u001b[38;5;241m=\u001b[39m{\n\u001b[0;32m   (...)\u001b[0m\n\u001b[1;32m     98\u001b[0m         },\n\u001b[1;32m     99\u001b[0m     )\n\u001b[0;32m--> 100\u001b[0m     f_return_val \u001b[38;5;241m=\u001b[39m \u001b[43mf\u001b[49m\u001b[43m(\u001b[49m\u001b[43m_self\u001b[49m\u001b[43m,\u001b[49m\u001b[43m \u001b[49m\u001b[43mmessages\u001b[49m\u001b[43m,\u001b[49m\u001b[43m \u001b[49m\u001b[38;5;241;43m*\u001b[39;49m\u001b[38;5;241;43m*\u001b[39;49m\u001b[43mkwargs\u001b[49m\u001b[43m)\u001b[49m\n\u001b[1;32m    102\u001b[0m     \u001b[38;5;28;01mif\u001b[39;00m \u001b[38;5;28misinstance\u001b[39m(f_return_val, Generator):\n\u001b[1;32m    103\u001b[0m         \u001b[38;5;66;03m# intercept the generator and add a callback to the end\u001b[39;00m\n\u001b[1;32m    104\u001b[0m         \u001b[38;5;28;01mdef\u001b[39;00m \u001b[38;5;21mwrapped_gen\u001b[39m() \u001b[38;5;241m-\u001b[39m\u001b[38;5;241m>\u001b[39m ChatResponseGen:\n",
      "File \u001b[0;32m~/anaconda3/lib/python3.11/site-packages/llama_index/llms/ollama.py:102\u001b[0m, in \u001b[0;36mOllama.chat\u001b[0;34m(self, messages, **kwargs)\u001b[0m\n\u001b[1;32m     86\u001b[0m payload \u001b[38;5;241m=\u001b[39m {\n\u001b[1;32m     87\u001b[0m     \u001b[38;5;124m\"\u001b[39m\u001b[38;5;124mmodel\u001b[39m\u001b[38;5;124m\"\u001b[39m: \u001b[38;5;28mself\u001b[39m\u001b[38;5;241m.\u001b[39mmodel,\n\u001b[1;32m     88\u001b[0m     \u001b[38;5;124m\"\u001b[39m\u001b[38;5;124mmessages\u001b[39m\u001b[38;5;124m\"\u001b[39m: [\n\u001b[0;32m   (...)\u001b[0m\n\u001b[1;32m     98\u001b[0m     \u001b[38;5;241m*\u001b[39m\u001b[38;5;241m*\u001b[39mkwargs,\n\u001b[1;32m     99\u001b[0m }\n\u001b[1;32m    101\u001b[0m \u001b[38;5;28;01mwith\u001b[39;00m httpx\u001b[38;5;241m.\u001b[39mClient(timeout\u001b[38;5;241m=\u001b[39mTimeout(\u001b[38;5;28mself\u001b[39m\u001b[38;5;241m.\u001b[39mrequest_timeout)) \u001b[38;5;28;01mas\u001b[39;00m client:\n\u001b[0;32m--> 102\u001b[0m     response \u001b[38;5;241m=\u001b[39m \u001b[43mclient\u001b[49m\u001b[38;5;241;43m.\u001b[39;49m\u001b[43mpost\u001b[49m\u001b[43m(\u001b[49m\n\u001b[1;32m    103\u001b[0m \u001b[43m        \u001b[49m\u001b[43murl\u001b[49m\u001b[38;5;241;43m=\u001b[39;49m\u001b[38;5;124;43mf\u001b[39;49m\u001b[38;5;124;43m\"\u001b[39;49m\u001b[38;5;132;43;01m{\u001b[39;49;00m\u001b[38;5;28;43mself\u001b[39;49m\u001b[38;5;241;43m.\u001b[39;49m\u001b[43mbase_url\u001b[49m\u001b[38;5;132;43;01m}\u001b[39;49;00m\u001b[38;5;124;43m/api/chat\u001b[39;49m\u001b[38;5;124;43m\"\u001b[39;49m\u001b[43m,\u001b[49m\n\u001b[1;32m    104\u001b[0m \u001b[43m        \u001b[49m\u001b[43mjson\u001b[49m\u001b[38;5;241;43m=\u001b[39;49m\u001b[43mpayload\u001b[49m\u001b[43m,\u001b[49m\n\u001b[1;32m    105\u001b[0m \u001b[43m    \u001b[49m\u001b[43m)\u001b[49m\n\u001b[1;32m    106\u001b[0m     response\u001b[38;5;241m.\u001b[39mraise_for_status()\n\u001b[1;32m    107\u001b[0m     raw \u001b[38;5;241m=\u001b[39m response\u001b[38;5;241m.\u001b[39mjson()\n",
      "File \u001b[0;32m~/anaconda3/lib/python3.11/site-packages/httpx/_client.py:1132\u001b[0m, in \u001b[0;36mClient.post\u001b[0;34m(self, url, content, data, files, json, params, headers, cookies, auth, follow_redirects, timeout, extensions)\u001b[0m\n\u001b[1;32m   1111\u001b[0m \u001b[38;5;28;01mdef\u001b[39;00m \u001b[38;5;21mpost\u001b[39m(\n\u001b[1;32m   1112\u001b[0m     \u001b[38;5;28mself\u001b[39m,\n\u001b[1;32m   1113\u001b[0m     url: URLTypes,\n\u001b[0;32m   (...)\u001b[0m\n\u001b[1;32m   1125\u001b[0m     extensions: typing\u001b[38;5;241m.\u001b[39mOptional[RequestExtensions] \u001b[38;5;241m=\u001b[39m \u001b[38;5;28;01mNone\u001b[39;00m,\n\u001b[1;32m   1126\u001b[0m ) \u001b[38;5;241m-\u001b[39m\u001b[38;5;241m>\u001b[39m Response:\n\u001b[1;32m   1127\u001b[0m \u001b[38;5;250m    \u001b[39m\u001b[38;5;124;03m\"\"\"\u001b[39;00m\n\u001b[1;32m   1128\u001b[0m \u001b[38;5;124;03m    Send a `POST` request.\u001b[39;00m\n\u001b[1;32m   1129\u001b[0m \n\u001b[1;32m   1130\u001b[0m \u001b[38;5;124;03m    **Parameters**: See `httpx.request`.\u001b[39;00m\n\u001b[1;32m   1131\u001b[0m \u001b[38;5;124;03m    \"\"\"\u001b[39;00m\n\u001b[0;32m-> 1132\u001b[0m     \u001b[38;5;28;01mreturn\u001b[39;00m \u001b[38;5;28;43mself\u001b[39;49m\u001b[38;5;241;43m.\u001b[39;49m\u001b[43mrequest\u001b[49m\u001b[43m(\u001b[49m\n\u001b[1;32m   1133\u001b[0m \u001b[43m        \u001b[49m\u001b[38;5;124;43m\"\u001b[39;49m\u001b[38;5;124;43mPOST\u001b[39;49m\u001b[38;5;124;43m\"\u001b[39;49m\u001b[43m,\u001b[49m\n\u001b[1;32m   1134\u001b[0m \u001b[43m        \u001b[49m\u001b[43murl\u001b[49m\u001b[43m,\u001b[49m\n\u001b[1;32m   1135\u001b[0m \u001b[43m        \u001b[49m\u001b[43mcontent\u001b[49m\u001b[38;5;241;43m=\u001b[39;49m\u001b[43mcontent\u001b[49m\u001b[43m,\u001b[49m\n\u001b[1;32m   1136\u001b[0m \u001b[43m        \u001b[49m\u001b[43mdata\u001b[49m\u001b[38;5;241;43m=\u001b[39;49m\u001b[43mdata\u001b[49m\u001b[43m,\u001b[49m\n\u001b[1;32m   1137\u001b[0m \u001b[43m        \u001b[49m\u001b[43mfiles\u001b[49m\u001b[38;5;241;43m=\u001b[39;49m\u001b[43mfiles\u001b[49m\u001b[43m,\u001b[49m\n\u001b[1;32m   1138\u001b[0m \u001b[43m        \u001b[49m\u001b[43mjson\u001b[49m\u001b[38;5;241;43m=\u001b[39;49m\u001b[43mjson\u001b[49m\u001b[43m,\u001b[49m\n\u001b[1;32m   1139\u001b[0m \u001b[43m        \u001b[49m\u001b[43mparams\u001b[49m\u001b[38;5;241;43m=\u001b[39;49m\u001b[43mparams\u001b[49m\u001b[43m,\u001b[49m\n\u001b[1;32m   1140\u001b[0m \u001b[43m        \u001b[49m\u001b[43mheaders\u001b[49m\u001b[38;5;241;43m=\u001b[39;49m\u001b[43mheaders\u001b[49m\u001b[43m,\u001b[49m\n\u001b[1;32m   1141\u001b[0m \u001b[43m        \u001b[49m\u001b[43mcookies\u001b[49m\u001b[38;5;241;43m=\u001b[39;49m\u001b[43mcookies\u001b[49m\u001b[43m,\u001b[49m\n\u001b[1;32m   1142\u001b[0m \u001b[43m        \u001b[49m\u001b[43mauth\u001b[49m\u001b[38;5;241;43m=\u001b[39;49m\u001b[43mauth\u001b[49m\u001b[43m,\u001b[49m\n\u001b[1;32m   1143\u001b[0m \u001b[43m        \u001b[49m\u001b[43mfollow_redirects\u001b[49m\u001b[38;5;241;43m=\u001b[39;49m\u001b[43mfollow_redirects\u001b[49m\u001b[43m,\u001b[49m\n\u001b[1;32m   1144\u001b[0m \u001b[43m        \u001b[49m\u001b[43mtimeout\u001b[49m\u001b[38;5;241;43m=\u001b[39;49m\u001b[43mtimeout\u001b[49m\u001b[43m,\u001b[49m\n\u001b[1;32m   1145\u001b[0m \u001b[43m        \u001b[49m\u001b[43mextensions\u001b[49m\u001b[38;5;241;43m=\u001b[39;49m\u001b[43mextensions\u001b[49m\u001b[43m,\u001b[49m\n\u001b[1;32m   1146\u001b[0m \u001b[43m    \u001b[49m\u001b[43m)\u001b[49m\n",
      "File \u001b[0;32m~/anaconda3/lib/python3.11/site-packages/httpx/_client.py:814\u001b[0m, in \u001b[0;36mClient.request\u001b[0;34m(self, method, url, content, data, files, json, params, headers, cookies, auth, follow_redirects, timeout, extensions)\u001b[0m\n\u001b[1;32m    799\u001b[0m     warnings\u001b[38;5;241m.\u001b[39mwarn(message, \u001b[38;5;167;01mDeprecationWarning\u001b[39;00m)\n\u001b[1;32m    801\u001b[0m request \u001b[38;5;241m=\u001b[39m \u001b[38;5;28mself\u001b[39m\u001b[38;5;241m.\u001b[39mbuild_request(\n\u001b[1;32m    802\u001b[0m     method\u001b[38;5;241m=\u001b[39mmethod,\n\u001b[1;32m    803\u001b[0m     url\u001b[38;5;241m=\u001b[39murl,\n\u001b[0;32m   (...)\u001b[0m\n\u001b[1;32m    812\u001b[0m     extensions\u001b[38;5;241m=\u001b[39mextensions,\n\u001b[1;32m    813\u001b[0m )\n\u001b[0;32m--> 814\u001b[0m \u001b[38;5;28;01mreturn\u001b[39;00m \u001b[38;5;28;43mself\u001b[39;49m\u001b[38;5;241;43m.\u001b[39;49m\u001b[43msend\u001b[49m\u001b[43m(\u001b[49m\u001b[43mrequest\u001b[49m\u001b[43m,\u001b[49m\u001b[43m \u001b[49m\u001b[43mauth\u001b[49m\u001b[38;5;241;43m=\u001b[39;49m\u001b[43mauth\u001b[49m\u001b[43m,\u001b[49m\u001b[43m \u001b[49m\u001b[43mfollow_redirects\u001b[49m\u001b[38;5;241;43m=\u001b[39;49m\u001b[43mfollow_redirects\u001b[49m\u001b[43m)\u001b[49m\n",
      "File \u001b[0;32m~/anaconda3/lib/python3.11/site-packages/httpx/_client.py:901\u001b[0m, in \u001b[0;36mClient.send\u001b[0;34m(self, request, stream, auth, follow_redirects)\u001b[0m\n\u001b[1;32m    893\u001b[0m follow_redirects \u001b[38;5;241m=\u001b[39m (\n\u001b[1;32m    894\u001b[0m     \u001b[38;5;28mself\u001b[39m\u001b[38;5;241m.\u001b[39mfollow_redirects\n\u001b[1;32m    895\u001b[0m     \u001b[38;5;28;01mif\u001b[39;00m \u001b[38;5;28misinstance\u001b[39m(follow_redirects, UseClientDefault)\n\u001b[1;32m    896\u001b[0m     \u001b[38;5;28;01melse\u001b[39;00m follow_redirects\n\u001b[1;32m    897\u001b[0m )\n\u001b[1;32m    899\u001b[0m auth \u001b[38;5;241m=\u001b[39m \u001b[38;5;28mself\u001b[39m\u001b[38;5;241m.\u001b[39m_build_request_auth(request, auth)\n\u001b[0;32m--> 901\u001b[0m response \u001b[38;5;241m=\u001b[39m \u001b[38;5;28;43mself\u001b[39;49m\u001b[38;5;241;43m.\u001b[39;49m\u001b[43m_send_handling_auth\u001b[49m\u001b[43m(\u001b[49m\n\u001b[1;32m    902\u001b[0m \u001b[43m    \u001b[49m\u001b[43mrequest\u001b[49m\u001b[43m,\u001b[49m\n\u001b[1;32m    903\u001b[0m \u001b[43m    \u001b[49m\u001b[43mauth\u001b[49m\u001b[38;5;241;43m=\u001b[39;49m\u001b[43mauth\u001b[49m\u001b[43m,\u001b[49m\n\u001b[1;32m    904\u001b[0m \u001b[43m    \u001b[49m\u001b[43mfollow_redirects\u001b[49m\u001b[38;5;241;43m=\u001b[39;49m\u001b[43mfollow_redirects\u001b[49m\u001b[43m,\u001b[49m\n\u001b[1;32m    905\u001b[0m \u001b[43m    \u001b[49m\u001b[43mhistory\u001b[49m\u001b[38;5;241;43m=\u001b[39;49m\u001b[43m[\u001b[49m\u001b[43m]\u001b[49m\u001b[43m,\u001b[49m\n\u001b[1;32m    906\u001b[0m \u001b[43m\u001b[49m\u001b[43m)\u001b[49m\n\u001b[1;32m    907\u001b[0m \u001b[38;5;28;01mtry\u001b[39;00m:\n\u001b[1;32m    908\u001b[0m     \u001b[38;5;28;01mif\u001b[39;00m \u001b[38;5;129;01mnot\u001b[39;00m stream:\n",
      "File \u001b[0;32m~/anaconda3/lib/python3.11/site-packages/httpx/_client.py:929\u001b[0m, in \u001b[0;36mClient._send_handling_auth\u001b[0;34m(self, request, auth, follow_redirects, history)\u001b[0m\n\u001b[1;32m    926\u001b[0m request \u001b[38;5;241m=\u001b[39m \u001b[38;5;28mnext\u001b[39m(auth_flow)\n\u001b[1;32m    928\u001b[0m \u001b[38;5;28;01mwhile\u001b[39;00m \u001b[38;5;28;01mTrue\u001b[39;00m:\n\u001b[0;32m--> 929\u001b[0m     response \u001b[38;5;241m=\u001b[39m \u001b[38;5;28;43mself\u001b[39;49m\u001b[38;5;241;43m.\u001b[39;49m\u001b[43m_send_handling_redirects\u001b[49m\u001b[43m(\u001b[49m\n\u001b[1;32m    930\u001b[0m \u001b[43m        \u001b[49m\u001b[43mrequest\u001b[49m\u001b[43m,\u001b[49m\n\u001b[1;32m    931\u001b[0m \u001b[43m        \u001b[49m\u001b[43mfollow_redirects\u001b[49m\u001b[38;5;241;43m=\u001b[39;49m\u001b[43mfollow_redirects\u001b[49m\u001b[43m,\u001b[49m\n\u001b[1;32m    932\u001b[0m \u001b[43m        \u001b[49m\u001b[43mhistory\u001b[49m\u001b[38;5;241;43m=\u001b[39;49m\u001b[43mhistory\u001b[49m\u001b[43m,\u001b[49m\n\u001b[1;32m    933\u001b[0m \u001b[43m    \u001b[49m\u001b[43m)\u001b[49m\n\u001b[1;32m    934\u001b[0m     \u001b[38;5;28;01mtry\u001b[39;00m:\n\u001b[1;32m    935\u001b[0m         \u001b[38;5;28;01mtry\u001b[39;00m:\n",
      "File \u001b[0;32m~/anaconda3/lib/python3.11/site-packages/httpx/_client.py:966\u001b[0m, in \u001b[0;36mClient._send_handling_redirects\u001b[0;34m(self, request, follow_redirects, history)\u001b[0m\n\u001b[1;32m    963\u001b[0m \u001b[38;5;28;01mfor\u001b[39;00m hook \u001b[38;5;129;01min\u001b[39;00m \u001b[38;5;28mself\u001b[39m\u001b[38;5;241m.\u001b[39m_event_hooks[\u001b[38;5;124m\"\u001b[39m\u001b[38;5;124mrequest\u001b[39m\u001b[38;5;124m\"\u001b[39m]:\n\u001b[1;32m    964\u001b[0m     hook(request)\n\u001b[0;32m--> 966\u001b[0m response \u001b[38;5;241m=\u001b[39m \u001b[38;5;28;43mself\u001b[39;49m\u001b[38;5;241;43m.\u001b[39;49m\u001b[43m_send_single_request\u001b[49m\u001b[43m(\u001b[49m\u001b[43mrequest\u001b[49m\u001b[43m)\u001b[49m\n\u001b[1;32m    967\u001b[0m \u001b[38;5;28;01mtry\u001b[39;00m:\n\u001b[1;32m    968\u001b[0m     \u001b[38;5;28;01mfor\u001b[39;00m hook \u001b[38;5;129;01min\u001b[39;00m \u001b[38;5;28mself\u001b[39m\u001b[38;5;241m.\u001b[39m_event_hooks[\u001b[38;5;124m\"\u001b[39m\u001b[38;5;124mresponse\u001b[39m\u001b[38;5;124m\"\u001b[39m]:\n",
      "File \u001b[0;32m~/anaconda3/lib/python3.11/site-packages/httpx/_client.py:1002\u001b[0m, in \u001b[0;36mClient._send_single_request\u001b[0;34m(self, request)\u001b[0m\n\u001b[1;32m    997\u001b[0m     \u001b[38;5;28;01mraise\u001b[39;00m \u001b[38;5;167;01mRuntimeError\u001b[39;00m(\n\u001b[1;32m    998\u001b[0m         \u001b[38;5;124m\"\u001b[39m\u001b[38;5;124mAttempted to send an async request with a sync Client instance.\u001b[39m\u001b[38;5;124m\"\u001b[39m\n\u001b[1;32m    999\u001b[0m     )\n\u001b[1;32m   1001\u001b[0m \u001b[38;5;28;01mwith\u001b[39;00m request_context(request\u001b[38;5;241m=\u001b[39mrequest):\n\u001b[0;32m-> 1002\u001b[0m     response \u001b[38;5;241m=\u001b[39m \u001b[43mtransport\u001b[49m\u001b[38;5;241;43m.\u001b[39;49m\u001b[43mhandle_request\u001b[49m\u001b[43m(\u001b[49m\u001b[43mrequest\u001b[49m\u001b[43m)\u001b[49m\n\u001b[1;32m   1004\u001b[0m \u001b[38;5;28;01massert\u001b[39;00m \u001b[38;5;28misinstance\u001b[39m(response\u001b[38;5;241m.\u001b[39mstream, SyncByteStream)\n\u001b[1;32m   1006\u001b[0m response\u001b[38;5;241m.\u001b[39mrequest \u001b[38;5;241m=\u001b[39m request\n",
      "File \u001b[0;32m~/anaconda3/lib/python3.11/site-packages/httpx/_transports/default.py:227\u001b[0m, in \u001b[0;36mHTTPTransport.handle_request\u001b[0;34m(self, request)\u001b[0m\n\u001b[1;32m    213\u001b[0m \u001b[38;5;28;01massert\u001b[39;00m \u001b[38;5;28misinstance\u001b[39m(request\u001b[38;5;241m.\u001b[39mstream, SyncByteStream)\n\u001b[1;32m    215\u001b[0m req \u001b[38;5;241m=\u001b[39m httpcore\u001b[38;5;241m.\u001b[39mRequest(\n\u001b[1;32m    216\u001b[0m     method\u001b[38;5;241m=\u001b[39mrequest\u001b[38;5;241m.\u001b[39mmethod,\n\u001b[1;32m    217\u001b[0m     url\u001b[38;5;241m=\u001b[39mhttpcore\u001b[38;5;241m.\u001b[39mURL(\n\u001b[0;32m   (...)\u001b[0m\n\u001b[1;32m    225\u001b[0m     extensions\u001b[38;5;241m=\u001b[39mrequest\u001b[38;5;241m.\u001b[39mextensions,\n\u001b[1;32m    226\u001b[0m )\n\u001b[0;32m--> 227\u001b[0m \u001b[43m\u001b[49m\u001b[38;5;28;43;01mwith\u001b[39;49;00m\u001b[43m \u001b[49m\u001b[43mmap_httpcore_exceptions\u001b[49m\u001b[43m(\u001b[49m\u001b[43m)\u001b[49m\u001b[43m:\u001b[49m\n\u001b[1;32m    228\u001b[0m \u001b[43m    \u001b[49m\u001b[43mresp\u001b[49m\u001b[43m \u001b[49m\u001b[38;5;241;43m=\u001b[39;49m\u001b[43m \u001b[49m\u001b[38;5;28;43mself\u001b[39;49m\u001b[38;5;241;43m.\u001b[39;49m\u001b[43m_pool\u001b[49m\u001b[38;5;241;43m.\u001b[39;49m\u001b[43mhandle_request\u001b[49m\u001b[43m(\u001b[49m\u001b[43mreq\u001b[49m\u001b[43m)\u001b[49m\n\u001b[1;32m    230\u001b[0m \u001b[38;5;28;01massert\u001b[39;00m \u001b[38;5;28misinstance\u001b[39m(resp\u001b[38;5;241m.\u001b[39mstream, typing\u001b[38;5;241m.\u001b[39mIterable)\n",
      "File \u001b[0;32m~/anaconda3/lib/python3.11/contextlib.py:155\u001b[0m, in \u001b[0;36m_GeneratorContextManager.__exit__\u001b[0;34m(self, typ, value, traceback)\u001b[0m\n\u001b[1;32m    153\u001b[0m     value \u001b[38;5;241m=\u001b[39m typ()\n\u001b[1;32m    154\u001b[0m \u001b[38;5;28;01mtry\u001b[39;00m:\n\u001b[0;32m--> 155\u001b[0m     \u001b[38;5;28mself\u001b[39m\u001b[38;5;241m.\u001b[39mgen\u001b[38;5;241m.\u001b[39mthrow(typ, value, traceback)\n\u001b[1;32m    156\u001b[0m \u001b[38;5;28;01mexcept\u001b[39;00m \u001b[38;5;167;01mStopIteration\u001b[39;00m \u001b[38;5;28;01mas\u001b[39;00m exc:\n\u001b[1;32m    157\u001b[0m     \u001b[38;5;66;03m# Suppress StopIteration *unless* it's the same exception that\u001b[39;00m\n\u001b[1;32m    158\u001b[0m     \u001b[38;5;66;03m# was passed to throw().  This prevents a StopIteration\u001b[39;00m\n\u001b[1;32m    159\u001b[0m     \u001b[38;5;66;03m# raised inside the \"with\" statement from being suppressed.\u001b[39;00m\n\u001b[1;32m    160\u001b[0m     \u001b[38;5;28;01mreturn\u001b[39;00m exc \u001b[38;5;129;01mis\u001b[39;00m \u001b[38;5;129;01mnot\u001b[39;00m value\n",
      "File \u001b[0;32m~/anaconda3/lib/python3.11/site-packages/httpx/_transports/default.py:83\u001b[0m, in \u001b[0;36mmap_httpcore_exceptions\u001b[0;34m()\u001b[0m\n\u001b[1;32m     80\u001b[0m     \u001b[38;5;28;01mraise\u001b[39;00m\n\u001b[1;32m     82\u001b[0m message \u001b[38;5;241m=\u001b[39m \u001b[38;5;28mstr\u001b[39m(exc)\n\u001b[0;32m---> 83\u001b[0m \u001b[38;5;28;01mraise\u001b[39;00m mapped_exc(message) \u001b[38;5;28;01mfrom\u001b[39;00m \u001b[38;5;21;01mexc\u001b[39;00m\n",
      "\u001b[0;31mReadTimeout\u001b[0m: timed out"
     ]
    }
   ],
   "source": [
    "response = query_engine.query(\"What is the contribution of open-sourse to the infrastructure?\")"
   ]
  },
  {
   "cell_type": "code",
   "execution_count": null,
   "id": "99943d27-3fe9-45dd-afbe-6e8300f8f026",
   "metadata": {
    "colab": {
     "base_uri": "https://localhost:8080/",
     "height": 35
    },
    "executionInfo": {
     "elapsed": 6,
     "status": "ok",
     "timestamp": 1703361376718,
     "user": {
      "displayName": "Ravi Theja",
      "userId": "12148656718425770960"
     },
     "user_tz": -330
    },
    "id": "mTgwMcaJ1nhT",
    "outputId": "e571e28d-711d-4c45-e7f7-0fd882677ee6"
   },
   "outputs": [
    {
     "data": {
      "application/vnd.google.colaboratory.intrinsic+json": {
       "type": "string"
      },
      "text/plain": [
       "'The theme of DHS is \"Infinite Possibilities: Exploring the Future with Generative AI\".'"
      ]
     },
     "execution_count": 20,
     "metadata": {},
     "output_type": "execute_result"
    }
   ],
   "source": [
    "response.response"
   ]
  },
  {
   "cell_type": "code",
   "execution_count": null,
   "id": "5fe1401f-da2c-4668-92a5-52fe0951a721",
   "metadata": {
    "colab": {
     "base_uri": "https://localhost:8080/"
    },
    "executionInfo": {
     "elapsed": 4,
     "status": "ok",
     "timestamp": 1703361403705,
     "user": {
      "displayName": "Ravi Theja",
      "userId": "12148656718425770960"
     },
     "user_tz": -330
    },
    "id": "aRMcVB1nQBbp",
    "outputId": "f84a6390-2f65-4ada-d322-5a63097a5187"
   },
   "outputs": [
    {
     "data": {
      "text/plain": [
       "NodeWithScore(node=TextNode(id_='5d661538-29a1-4f80-ad89-1e08dd05b58a', embedding=None, metadata={'file_path': 'data/dhs.txt', 'file_name': 'dhs.txt', 'file_type': 'text/plain', 'file_size': 20789, 'creation_date': '2023-12-23', 'last_modified_date': '2023-12-23', 'last_accessed_date': '2023-12-23'}, excluded_embed_metadata_keys=['file_name', 'file_type', 'file_size', 'creation_date', 'last_modified_date', 'last_accessed_date'], excluded_llm_metadata_keys=['file_name', 'file_type', 'file_size', 'creation_date', 'last_modified_date', 'last_accessed_date'], relationships={<NodeRelationship.SOURCE: '1'>: RelatedNodeInfo(node_id='70281eaa-6173-41b4-8517-0cd9233e295b', node_type=<ObjectType.DOCUMENT: '4'>, metadata={'file_path': 'data/dhs.txt', 'file_name': 'dhs.txt', 'file_type': 'text/plain', 'file_size': 20789, 'creation_date': '2023-12-23', 'last_modified_date': '2023-12-23', 'last_accessed_date': '2023-12-23'}, hash='8848374170c0535e3ed484f897e38f466a2dadf6565391abc4a7857369b55198'), <NodeRelationship.NEXT: '3'>: RelatedNodeInfo(node_id='3e6e017d-58eb-4aa4-96c7-e9fb461cb719', node_type=<ObjectType.TEXT: '1'>, metadata={}, hash='450ff335a339dfd255432196a35499bfbd59acc90895c2d0f4842aaf8f4c3da0')}, hash='24735ce5835e10deadad3fe818dd2e980304984209458ec343fa5ef139e98fe9', text=\"\\ufeffDataHack Summit 2023 (DHS) India’s most Futuristic AI Conference organized by Analytics Vidhya.Analytics Vidhya is the World’s leading and India’s largest data science community.Analytics Vidhya is founded by Kunal Jain. Analytics Vidhya aims to build the next generation data science ecosystem across the globe.We have helped millions of people realize their data science dreams.We conduct hackathons, competitions, training & conferences and help companies find the right data science talent.\\nDHS 2023 totally has 70+ AI Talks, 30+ Hack Sessions and 8+ Workshops.\\nIt's the 4th edition of DHS.Here is the DHS website: https://www.analyticsvidhya.com/datahack-summit-2023/.The previous DHS happened in 2017, 2018 and 2019 at Bengaluru. The 4 day conference is taking place on 2nd – 5th August, 2023 at NIMHANS Convention Centre, Bengaluru. The 4th day consists of day-long workshops. The workshops are held in a table-and-chair set up.The venues for the workshops will be announced shortly.The theme of DataHack Summit 2023 is “Infinite Possibilities: Exploring the Future with Generative AI”.This focus reflects the conference’s commitment to delve into the vast potential of Generative AI.It aims to explore how this technology can shape and revolutionize our future.1200+ attendees, 70+ AI talks, 30+ Hack sessions and 8+ workshops.Each workshop is 8 hours long from 9:30 AM IST to 5:30 PM IST.The focus areas of the conference are Generative AI,Machine Learning,Deep Learning,Cloud Computing,NLP,Data Engineering,Computer Vision,Data Visualization,ML Ops,Diffusion Model,Responsible AI,Large Language Model.If you are looking for group discounts,Please email us at dhs@analyticsvidhya.com or call on +91 9910464142 (Simran Jasbir Singh).DataHack Summit 2023 offers 2 types of tickets – Conference + HackDay and Conference + HackDay + Workshop.The actual price of the tickets for Conference + HackDay is INR 20000 and Conference + HackDay + Workshop is INR 32000.But, currently you can buy the tickets for Conference + HackDay at INR 12000 and Conference + HackDay + Workshop at INR 20800.Ticket prices are exclusive of GST. You can purchase tickets for DataHack Summit 2023 on the conference website as well i.e. https://www.analyticsvidhya.com/datahack-summit-2023/.Yes, Datahack Summit 2023 welcomes speakers from various backgrounds and expertise in data science and artificial intelligence.Visit the call for speakers page to submit your proposal.Hack Sessions are brief, expert-driven demonstrations showcasing data-driven solutions with minimal interaction, held in a relaxed setting.The difference between workshop and hack session is that Workshops are extensive, interactive sessions emphasizing hands-on learning and problem-solving in a formal environment, with a focus on individual attention.Essentially, Hack Sessions display solutions, while Workshops promote skill-building and comprehensive understanding. To become a sponsor for DataHack Summit 2023, please contact the conference organizers for more information.The format of DHS 2023 includes Live Keynotes, Power Talks, Hack Sessions, Generative AI Sessions, Workshops, Awards Evening, The AI Showcase.In the AI Showcase, check out the latest and the best in Artificial Intelligence from exciting startups, solution providers to bleeding edge hardware and software providers! Awards Evening is to recognize the best in AI, the awards night uplifts and inspires everyone present.This showcases the groundbreaking innovations and business in the AI landscape.Workshops are each day-long hands-on session aimed to make sure you learn Artificial Intelligence by doing it yourself.No more lectures – just code with the help of experts. Hack Session is no better way to understand AI than seeing an expert building it in front of your eyes.Each Hack Session is a 60 to 90 minutes long live interactive session with an expert working in front of you!\", start_char_idx=0, end_char_idx=3919, text_template='{metadata_str}\\n\\n{content}', metadata_template='{key}: {value}', metadata_seperator='\\n'), score=0.8103736716360003)"
      ]
     },
     "execution_count": 22,
     "metadata": {},
     "output_type": "execute_result"
    }
   ],
   "source": [
    "response.source_nodes[1]"
   ]
  },
  {
   "cell_type": "code",
   "execution_count": null,
   "id": "4ffca082-ee38-40f5-be14-325445f0e8b6",
   "metadata": {},
   "outputs": [],
   "source": []
  }
 ],
 "metadata": {
  "kernelspec": {
   "display_name": "Python 3 (ipykernel)",
   "language": "python",
   "name": "python3"
  },
  "language_info": {
   "codemirror_mode": {
    "name": "ipython",
    "version": 3
   },
   "file_extension": ".py",
   "mimetype": "text/x-python",
   "name": "python",
   "nbconvert_exporter": "python",
   "pygments_lexer": "ipython3",
   "version": "3.11.7"
  }
 },
 "nbformat": 4,
 "nbformat_minor": 5
}
