{
 "cells": [
  {
   "cell_type": "code",
   "execution_count": 1,
   "id": "d8ed2ef9-7e07-41a3-b6af-28d2f0da4a46",
   "metadata": {
    "id": "cKlax-updNW-"
   },
   "outputs": [],
   "source": [
    "import os"
   ]
  },
  {
   "cell_type": "code",
   "execution_count": 2,
   "id": "abd53eb2-d761-41ff-8d44-c08082e52baf",
   "metadata": {},
   "outputs": [],
   "source": [
    "from dotenv import load_dotenv"
   ]
  },
  {
   "cell_type": "code",
   "execution_count": 3,
   "id": "f9779ae5-153f-4593-873e-e3ca1a20a319",
   "metadata": {},
   "outputs": [
    {
     "data": {
      "text/plain": [
       "True"
      ]
     },
     "execution_count": 3,
     "metadata": {},
     "output_type": "execute_result"
    }
   ],
   "source": [
    "load_dotenv('/home/santhosh/Projects/courses/Pinnacle/.env')"
   ]
  },
  {
   "cell_type": "code",
   "execution_count": 4,
   "id": "bb3748f4-2408-4de5-99be-6b9c0da4b30a",
   "metadata": {},
   "outputs": [],
   "source": [
    "OPENAI_API_KEY = os.environ['OPENAI_API_KEY']"
   ]
  },
  {
   "cell_type": "code",
   "execution_count": 5,
   "id": "c47522cc-f033-47fa-a904-8eecd8316602",
   "metadata": {},
   "outputs": [],
   "source": [
    "HF_TOKEN = os.environ['HUGGINGFACE_API_KEY']"
   ]
  },
  {
   "cell_type": "markdown",
   "id": "42484d5f-e1e3-4eb6-98c1-f21a0144484b",
   "metadata": {},
   "source": [
    "# File Loader"
   ]
  },
  {
   "cell_type": "code",
   "execution_count": 6,
   "id": "6d627345-e90b-44fc-b671-8b3289f0b119",
   "metadata": {},
   "outputs": [],
   "source": [
    "from llama_index.core import SimpleDirectoryReader"
   ]
  },
  {
   "cell_type": "markdown",
   "id": "cd67e274-c7a9-4dc8-ac58-fdb3803544b9",
   "metadata": {},
   "source": [
    "https://github.com/run-llama/llama_index/blob/main/docs/docs/examples/data/paul_graham/paul_graham_essay.txt"
   ]
  },
  {
   "cell_type": "code",
   "execution_count": 7,
   "id": "dd38c274-09a2-4ecb-83e6-9a9f07d4f235",
   "metadata": {},
   "outputs": [
    {
     "name": "stderr",
     "output_type": "stream",
     "text": [
      "Loading files: 100%|██████████| 2/2 [00:00<00:00, 136.57file/s]\n"
     ]
    }
   ],
   "source": [
    "documents = SimpleDirectoryReader(input_dir=\"./data\", filename_as_id=True).load_data(show_progress=True)"
   ]
  },
  {
   "cell_type": "code",
   "execution_count": 8,
   "id": "afe45cfa-f894-4ab8-a84b-775673e74c8d",
   "metadata": {},
   "outputs": [
    {
     "name": "stderr",
     "output_type": "stream",
     "text": [
      "Loading files: 100%|██████████| 1/1 [00:00<00:00, 1129.02file/s]\n"
     ]
    }
   ],
   "source": [
    "documents = SimpleDirectoryReader(input_files=[\"./data/paul_graham_essay.txt\"], \n",
    "                                  filename_as_id=True).load_data(show_progress=True)"
   ]
  },
  {
   "cell_type": "markdown",
   "id": "1e22b646-1e50-4d90-afb9-a479e396a061",
   "metadata": {},
   "source": [
    "# Ingestion Pipeline"
   ]
  },
  {
   "cell_type": "code",
   "execution_count": null,
   "id": "12f78c1e-9d65-403d-b7b8-808807e2fe6b",
   "metadata": {},
   "outputs": [],
   "source": []
  },
  {
   "cell_type": "code",
   "execution_count": null,
   "id": "713dc38f-280d-4f74-b46a-13bf246ba654",
   "metadata": {},
   "outputs": [],
   "source": [
    "import nest_asyncio\n",
    "\n",
    "nest_asyncio.apply()\n",
    "\n",
    "import tiktoken\n",
    "\n",
    "from llama_index.core.callbacks import CallbackManager, TokenCountingHandler\n",
    "\n",
    "from llama_index.core import MockEmbedding\n",
    "from llama_index.core.llms import MockLLM\n",
    "\n",
    "from llama_index.core.node_parser import SentenceSplitter, SentenceWindowNodeParser, HierarchicalNodeParser\n",
    "\n",
    "from llama_index.core.ingestion import IngestionPipeline\n",
    "\n",
    "from llama_index.core.extractors import TitleExtractor, SummaryExtractor"
   ]
  },
  {
   "cell_type": "code",
   "execution_count": null,
   "id": "b6e7a7fd-e50b-4e8f-986f-0d83f70ef01b",
   "metadata": {},
   "outputs": [],
   "source": []
  },
  {
   "cell_type": "code",
   "execution_count": null,
   "id": "42033a8a-9a5a-47fe-b9bd-6f0f553fbadd",
   "metadata": {},
   "outputs": [],
   "source": []
  },
  {
   "cell_type": "code",
   "execution_count": null,
   "id": "8e8b99e6-7a7d-4495-920b-296170ef7544",
   "metadata": {},
   "outputs": [],
   "source": []
  },
  {
   "cell_type": "code",
   "execution_count": 38,
   "id": "55bfc9e1-f146-4b14-a883-d14b3eae825e",
   "metadata": {},
   "outputs": [],
   "source": [
    "import nest_asyncio\n",
    "\n",
    "nest_asyncio.apply()\n"
   ]
  },
  {
   "cell_type": "code",
   "execution_count": 19,
   "id": "9e6193a3-ae20-4ebd-ae7e-9f390490e7eb",
   "metadata": {},
   "outputs": [],
   "source": [
    "import tiktoken"
   ]
  },
  {
   "cell_type": "code",
   "execution_count": 20,
   "id": "0cdcb1f7-bcca-4d1a-afb4-91273bd46f46",
   "metadata": {},
   "outputs": [],
   "source": [
    "from llama_index.core.callbacks import CallbackManager, TokenCountingHandler"
   ]
  },
  {
   "cell_type": "code",
   "execution_count": 21,
   "id": "ac4086eb-4d80-4aa0-9633-ab352c025b01",
   "metadata": {},
   "outputs": [],
   "source": [
    "from llama_index.core import MockEmbedding\n",
    "from llama_index.core.llms import MockLLM"
   ]
  },
  {
   "cell_type": "code",
   "execution_count": 22,
   "id": "86247c16-677a-47d6-b5fd-2c04b9af9b85",
   "metadata": {},
   "outputs": [],
   "source": [
    "from llama_index.core.node_parser import SentenceSplitter, SentenceWindowNodeParser, SemanticSplitterNodeParser, HierarchicalNodeParser"
   ]
  },
  {
   "cell_type": "code",
   "execution_count": 23,
   "id": "6e395dcd-273b-455f-ac91-6e9a7e7bccde",
   "metadata": {},
   "outputs": [],
   "source": [
    "from llama_index.core.ingestion import IngestionPipeline"
   ]
  },
  {
   "cell_type": "code",
   "execution_count": 24,
   "id": "1bc8543f-2c9d-44a0-a8ef-9bf66217bd58",
   "metadata": {},
   "outputs": [],
   "source": [
    "from llama_index.core.extractors import TitleExtractor, SummaryExtractor"
   ]
  },
  {
   "cell_type": "code",
   "execution_count": 25,
   "id": "4eea5d10-491c-4b6f-9598-89c854ec78c5",
   "metadata": {},
   "outputs": [],
   "source": [
    "from llama_index.embeddings.openai import OpenAIEmbedding"
   ]
  },
  {
   "cell_type": "code",
   "execution_count": 26,
   "id": "38079b4b-85c0-41f3-bd68-dbf976fb8634",
   "metadata": {},
   "outputs": [],
   "source": [
    "from llama_index.core.storage.docstore import SimpleDocumentStore"
   ]
  },
  {
   "cell_type": "code",
   "execution_count": 27,
   "id": "57697972-c4b5-467d-9d07-dc4724b84dc1",
   "metadata": {},
   "outputs": [],
   "source": [
    "from llama_index.core import VectorStoreIndex"
   ]
  },
  {
   "cell_type": "code",
   "execution_count": 52,
   "id": "b93ecb6c-a4d3-4859-85df-f5056f332c78",
   "metadata": {},
   "outputs": [],
   "source": [
    "token_counter = TokenCountingHandler(\n",
    "    tokenizer=tiktoken.encoding_for_model(\"gpt-3.5-turbo\").encode,\n",
    "    verbose=True\n",
    ")"
   ]
  },
  {
   "cell_type": "code",
   "execution_count": 53,
   "id": "d3b89951-26b5-49f1-a426-8e635267a8f6",
   "metadata": {},
   "outputs": [],
   "source": [
    "token_counter.reset_counts()"
   ]
  },
  {
   "cell_type": "code",
   "execution_count": 54,
   "id": "e98f84b2-bdd3-44a9-9d6a-902e4793b1d0",
   "metadata": {},
   "outputs": [
    {
     "data": {
      "text/plain": [
       "0"
      ]
     },
     "execution_count": 54,
     "metadata": {},
     "output_type": "execute_result"
    }
   ],
   "source": [
    "token_counter.total_embedding_token_count"
   ]
  },
  {
   "cell_type": "code",
   "execution_count": 55,
   "id": "3497bd81-2c5e-4a4e-bfee-b321fff600a6",
   "metadata": {},
   "outputs": [],
   "source": [
    "mock_pipeline = IngestionPipeline(\n",
    "    transformations = [SentenceSplitter(chunk_size=512, chunk_overlap=64),\n",
    "                       TitleExtractor(llm=MockLLM(callback_manager=CallbackManager([token_counter]))),\n",
    "                      MockEmbedding(embed_dim=1536, callback_manager=CallbackManager([token_counter]))])"
   ]
  },
  {
   "cell_type": "code",
   "execution_count": 25,
   "id": "3ed2d08f-3028-4450-b54d-6f8354d1352d",
   "metadata": {},
   "outputs": [],
   "source": [
    "mock_pipeline = IngestionPipeline(\n",
    "    transformations = [SentenceWindowNodeParser.from_defaults(window_size=3),\n",
    "                      MockEmbedding(embed_dim=1536, callback_manager=CallbackManager([token_counter]))])"
   ]
  },
  {
   "cell_type": "code",
   "execution_count": 30,
   "id": "05cfa01b-c673-48a8-8954-19e6c24d8a75",
   "metadata": {},
   "outputs": [],
   "source": [
    "mock_pipeline = IngestionPipeline(\n",
    "    transformations = [SemanticSplitterNodeParser(breakpoint_percentile_threshold=95, \n",
    "                                                  embed_model=MockEmbedding(embed_dim=1536, \n",
    "                                                                            callback_manager=CallbackManager([token_counter]))),\n",
    "                      MockEmbedding(embed_dim=1536, callback_manager=CallbackManager([token_counter]))])"
   ]
  },
  {
   "cell_type": "code",
   "execution_count": 33,
   "id": "2578a914-d73f-4780-8470-58348589a7cd",
   "metadata": {},
   "outputs": [],
   "source": [
    "mock_pipeline = IngestionPipeline(\n",
    "    transformations = [HierarchicalNodeParser.from_defaults(chunk_sizes=[2048, 512, 128]),\n",
    "                      MockEmbedding(embed_dim=1536, callback_manager=CallbackManager([token_counter]))])"
   ]
  },
  {
   "cell_type": "code",
   "execution_count": 32,
   "id": "ee1ba73c-e12a-46ee-a3bf-39a440801e7c",
   "metadata": {},
   "outputs": [
    {
     "data": {
      "text/plain": [
       "{'include_metadata': True,\n",
       " 'include_prev_next_rel': True,\n",
       " 'chunk_size': 512,\n",
       " 'chunk_overlap': 128,\n",
       " 'separator': ' ',\n",
       " 'paragraph_separator': '\\n\\n\\n',\n",
       " 'secondary_chunking_regex': '[^,.;。？！]+[,.;。？！]?',\n",
       " 'class_name': 'SentenceSplitter'}"
      ]
     },
     "execution_count": 32,
     "metadata": {},
     "output_type": "execute_result"
    }
   ],
   "source": [
    "mock_pipeline.transformations[0].dict()"
   ]
  },
  {
   "cell_type": "code",
   "execution_count": 56,
   "id": "d6a4ba06-65b1-4308-885e-5f990cbb0bfd",
   "metadata": {
    "scrolled": true
   },
   "outputs": [
    {
     "data": {
      "application/vnd.jupyter.widget-view+json": {
       "model_id": "620d1cfb23324b28bf872d210b91b854",
       "version_major": 2,
       "version_minor": 0
      },
      "text/plain": [
       "Parsing nodes:   0%|          | 0/1 [00:00<?, ?it/s]"
      ]
     },
     "metadata": {},
     "output_type": "display_data"
    },
    {
     "name": "stderr",
     "output_type": "stream",
     "text": [
      "  0%|          | 0/5 [00:00<?, ?it/s]"
     ]
    },
    {
     "name": "stdout",
     "output_type": "stream",
     "text": [
      "LLM Prompt Token Usage: 490\n",
      "LLM Completion Token Usage: 490\n",
      "LLM Prompt Token Usage: 490\n",
      "LLM Completion Token Usage: 490\n",
      "LLM Prompt Token Usage: 500\n",
      "LLM Completion Token Usage: 500\n",
      "LLM Prompt Token Usage: 500\n",
      "LLM Completion Token Usage: 500\n",
      "LLM Prompt Token Usage: 508\n",
      "LLM Completion Token Usage: 508\n",
      "LLM Prompt Token Usage: 508\n",
      "LLM Completion Token Usage: 508\n",
      "LLM Prompt Token Usage: 487\n",
      "LLM Completion Token Usage: 487\n",
      "LLM Prompt Token Usage: 487\n",
      "LLM Completion Token Usage: 487\n",
      "LLM Prompt Token Usage: 503\n",
      "LLM Completion Token Usage: 503\n",
      "LLM Prompt Token Usage: 503\n",
      "LLM Completion Token Usage: 503\n"
     ]
    },
    {
     "name": "stderr",
     "output_type": "stream",
     "text": [
      "100%|██████████| 5/5 [00:00<00:00, 348.85it/s]"
     ]
    },
    {
     "name": "stdout",
     "output_type": "stream",
     "text": [
      "LLM Prompt Token Usage: 2509\n",
      "LLM Completion Token Usage: 2509\n",
      "LLM Prompt Token Usage: 2509\n",
      "LLM Completion Token Usage: 2509\n"
     ]
    },
    {
     "name": "stderr",
     "output_type": "stream",
     "text": [
      "\n"
     ]
    },
    {
     "data": {
      "application/vnd.jupyter.widget-view+json": {
       "model_id": "73683b26a11c4305baa8dcf8a7b3c0ca",
       "version_major": 2,
       "version_minor": 0
      },
      "text/plain": [
       "Generating embeddings:   0%|          | 0/40 [00:00<?, ?it/s]"
      ]
     },
     "metadata": {},
     "output_type": "display_data"
    },
    {
     "name": "stdout",
     "output_type": "stream",
     "text": [
      "Embedding Token Usage: 30036\n",
      "Embedding Token Usage: 30009\n",
      "Embedding Token Usage: 29976\n",
      "Embedding Token Usage: 29741\n"
     ]
    }
   ],
   "source": [
    "nodes = mock_pipeline.run(documents=documents, show_progress=True, num_workers=-1)"
   ]
  },
  {
   "cell_type": "code",
   "execution_count": 57,
   "id": "7802ed53-2e87-4d0e-b6ba-c262f72cd49b",
   "metadata": {},
   "outputs": [
    {
     "data": {
      "text/plain": [
       "119762"
      ]
     },
     "execution_count": 57,
     "metadata": {},
     "output_type": "execute_result"
    }
   ],
   "source": [
    "token_counter.total_embedding_token_count"
   ]
  },
  {
   "cell_type": "code",
   "execution_count": 58,
   "id": "cf0e16a8-3ef9-43e1-b399-90e57bf31a00",
   "metadata": {},
   "outputs": [
    {
     "data": {
      "text/plain": [
       "19988"
      ]
     },
     "execution_count": 58,
     "metadata": {},
     "output_type": "execute_result"
    }
   ],
   "source": [
    "token_counter.total_llm_token_count"
   ]
  },
  {
   "cell_type": "code",
   "execution_count": 32,
   "id": "f5bcfed3-0d6e-4005-ae45-194be5d2224c",
   "metadata": {},
   "outputs": [
    {
     "data": {
      "text/plain": [
       "126890"
      ]
     },
     "execution_count": 32,
     "metadata": {},
     "output_type": "execute_result"
    }
   ],
   "source": [
    "token_counter.total_embedding_token_count"
   ]
  },
  {
   "cell_type": "code",
   "execution_count": 35,
   "id": "d1bd167d-5143-47e0-a80e-7e4a09ee873a",
   "metadata": {},
   "outputs": [
    {
     "data": {
      "text/plain": [
       "186505"
      ]
     },
     "execution_count": 35,
     "metadata": {},
     "output_type": "execute_result"
    }
   ],
   "source": [
    "token_counter.total_embedding_token_count"
   ]
  },
  {
   "cell_type": "code",
   "execution_count": 23,
   "id": "5e362fa4-9177-46f0-a712-38829d6acc5d",
   "metadata": {},
   "outputs": [],
   "source": [
    "pipeline = IngestionPipeline(\n",
    "    transformations = [SentenceSplitter(chunk_size=512, chunk_overlap=128),\n",
    "                       OpenAIEmbedding(model_name='text-embedding-3-small', callback_manager=CallbackManager([token_counter]))],\n",
    "    docstore=SimpleDocumentStore())"
   ]
  },
  {
   "cell_type": "code",
   "execution_count": 24,
   "id": "4cb95a15-ee6d-41fc-a1c8-b4f1d624efc9",
   "metadata": {
    "scrolled": true
   },
   "outputs": [
    {
     "name": "stdout",
     "output_type": "stream",
     "text": [
      "Docstore strategy set to upserts, but no vector store. Switching to duplicates_only strategy.\n"
     ]
    },
    {
     "data": {
      "application/vnd.jupyter.widget-view+json": {
       "model_id": "c41a3f4d9a7e42b8a44a7102ef6d65cd",
       "version_major": 2,
       "version_minor": 0
      },
      "text/plain": [
       "Parsing nodes:   0%|          | 0/2 [00:00<?, ?it/s]"
      ]
     },
     "metadata": {},
     "output_type": "display_data"
    },
    {
     "data": {
      "application/vnd.jupyter.widget-view+json": {
       "model_id": "206d2006203e4da19079e3524861c459",
       "version_major": 2,
       "version_minor": 0
      },
      "text/plain": [
       "Generating embeddings:   0%|          | 0/50 [00:00<?, ?it/s]"
      ]
     },
     "metadata": {},
     "output_type": "display_data"
    },
    {
     "name": "stdout",
     "output_type": "stream",
     "text": [
      "Embedding Token Usage: 23673\n"
     ]
    }
   ],
   "source": [
    "nodes = pipeline.run(documents=documents, show_progress=True, num_workers=-1)"
   ]
  },
  {
   "cell_type": "code",
   "execution_count": 25,
   "id": "2c9bc334-568a-47d9-b2e7-60ca7da0c1d3",
   "metadata": {},
   "outputs": [
    {
     "data": {
      "text/plain": [
       "47346"
      ]
     },
     "execution_count": 25,
     "metadata": {},
     "output_type": "execute_result"
    }
   ],
   "source": [
    "token_counter.total_embedding_token_count"
   ]
  },
  {
   "cell_type": "code",
   "execution_count": null,
   "id": "b92677cb-9a97-4380-a44a-9a1f5f4068c8",
   "metadata": {},
   "outputs": [],
   "source": []
  },
  {
   "cell_type": "code",
   "execution_count": 14,
   "id": "4e8798d0-6609-4f3d-b36b-4caecd0fd07d",
   "metadata": {},
   "outputs": [],
   "source": [
    "from llama_index.core import MockEmbedding\n",
    "from llama_index.core.llms import MockLLM"
   ]
  },
  {
   "cell_type": "code",
   "execution_count": 15,
   "id": "3c779d6c-13b0-48e1-896f-8e5f13434f52",
   "metadata": {},
   "outputs": [],
   "source": [
    "import tiktoken"
   ]
  },
  {
   "cell_type": "code",
   "execution_count": 16,
   "id": "f8bd0c8b-fd52-4707-85a2-fdf67df9fa0c",
   "metadata": {},
   "outputs": [],
   "source": [
    "from llama_index.core.callbacks import CallbackManager, TokenCountingHandler"
   ]
  },
  {
   "cell_type": "code",
   "execution_count": 17,
   "id": "1494af72-601c-4fab-ad47-36cfc464a108",
   "metadata": {},
   "outputs": [],
   "source": [
    "token_counter = TokenCountingHandler(\n",
    "    tokenizer=tiktoken.encoding_for_model(\"gpt-3.5-turbo\").encode,\n",
    "    verbose=True\n",
    ")"
   ]
  },
  {
   "cell_type": "code",
   "execution_count": 18,
   "id": "b7b1ed26-55b8-4841-8732-bf4e83d3dadd",
   "metadata": {},
   "outputs": [],
   "source": [
    "token_counter.reset_counts()"
   ]
  },
  {
   "cell_type": "code",
   "execution_count": 19,
   "id": "a9441dec-8510-43e2-86f4-6c3558f8b8b1",
   "metadata": {},
   "outputs": [
    {
     "data": {
      "text/plain": [
       "0"
      ]
     },
     "execution_count": 19,
     "metadata": {},
     "output_type": "execute_result"
    }
   ],
   "source": [
    "token_counter.total_embedding_token_count"
   ]
  },
  {
   "cell_type": "code",
   "execution_count": 23,
   "id": "3aa05f8a-5611-4ff7-ad39-b2c103e3ad89",
   "metadata": {
    "collapsed": true,
    "jupyter": {
     "outputs_hidden": true
    }
   },
   "outputs": [
    {
     "name": "stdout",
     "output_type": "stream",
     "text": [
      "Embedding Token Usage: 9014\n",
      "Embedding Token Usage: 7793\n",
      "Embedding Token Usage: 8338\n",
      "Embedding Token Usage: 8068\n",
      "Embedding Token Usage: 7999\n",
      "Embedding Token Usage: 8031\n",
      "Embedding Token Usage: 8256\n",
      "Embedding Token Usage: 8234\n",
      "Embedding Token Usage: 8173\n",
      "Embedding Token Usage: 8432\n",
      "Embedding Token Usage: 8466\n",
      "Embedding Token Usage: 7694\n",
      "Embedding Token Usage: 7872\n",
      "Embedding Token Usage: 8549\n",
      "Embedding Token Usage: 8030\n",
      "Embedding Token Usage: 8309\n",
      "Embedding Token Usage: 8227\n",
      "Embedding Token Usage: 8830\n",
      "Embedding Token Usage: 8593\n",
      "Embedding Token Usage: 8771\n",
      "Embedding Token Usage: 8518\n",
      "Embedding Token Usage: 8242\n",
      "Embedding Token Usage: 8354\n",
      "Embedding Token Usage: 8565\n",
      "Embedding Token Usage: 8062\n",
      "Embedding Token Usage: 8699\n",
      "Embedding Token Usage: 8927\n",
      "Embedding Token Usage: 8140\n",
      "Embedding Token Usage: 5541\n"
     ]
    }
   ],
   "source": [
    "index = VectorStoreIndex.from_documents(documents, \n",
    "                                        embed_model=MockEmbedding(embed_dim=1536, callback_manager=CallbackManager([token_counter])), \n",
    "                                        llm=MockLLM(callback_manager=CallbackManager([token_counter])),\n",
    "                                       callback_manager=CallbackManager([token_counter]))"
   ]
  },
  {
   "cell_type": "code",
   "execution_count": 24,
   "id": "c3c4c6d3-b661-45bd-88e9-51492f1a3108",
   "metadata": {},
   "outputs": [
    {
     "data": {
      "text/plain": [
       "238727"
      ]
     },
     "execution_count": 24,
     "metadata": {},
     "output_type": "execute_result"
    }
   ],
   "source": [
    "token_counter.total_embedding_token_count"
   ]
  },
  {
   "cell_type": "code",
   "execution_count": 25,
   "id": "38e4ae37-15fe-4458-9a16-f893ca5c6b2e",
   "metadata": {},
   "outputs": [
    {
     "data": {
      "text/plain": [
       "0"
      ]
     },
     "execution_count": 25,
     "metadata": {},
     "output_type": "execute_result"
    }
   ],
   "source": [
    "token_counter.total_llm_token_count"
   ]
  }
 ],
 "metadata": {
  "kernelspec": {
   "display_name": "Python 3 (ipykernel)",
   "language": "python",
   "name": "python3"
  },
  "language_info": {
   "codemirror_mode": {
    "name": "ipython",
    "version": 3
   },
   "file_extension": ".py",
   "mimetype": "text/x-python",
   "name": "python",
   "nbconvert_exporter": "python",
   "pygments_lexer": "ipython3",
   "version": "3.11.7"
  }
 },
 "nbformat": 4,
 "nbformat_minor": 5
}
