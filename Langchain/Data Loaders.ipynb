{
 "cells": [
  {
   "cell_type": "code",
   "execution_count": 1,
   "id": "e83753f5-7f82-4373-b6e6-69c2873cc24f",
   "metadata": {},
   "outputs": [],
   "source": [
    "import langchain"
   ]
  },
  {
   "cell_type": "code",
   "execution_count": 2,
   "id": "c4b7633b-bf04-4e71-bc13-507d5c1849cc",
   "metadata": {},
   "outputs": [
    {
     "data": {
      "text/plain": [
       "'0.2.6'"
      ]
     },
     "execution_count": 2,
     "metadata": {},
     "output_type": "execute_result"
    }
   ],
   "source": [
    "langchain.__version__"
   ]
  },
  {
   "cell_type": "markdown",
   "id": "3da000e1-2042-46c8-bf8c-d540ad41a1e3",
   "metadata": {},
   "source": [
    "# Document"
   ]
  },
  {
   "cell_type": "code",
   "execution_count": 3,
   "id": "cd6e4bd4-5b73-4040-b6ee-ab220290300f",
   "metadata": {},
   "outputs": [],
   "source": [
    "from langchain_core.documents import Document"
   ]
  },
  {
   "cell_type": "code",
   "execution_count": 24,
   "id": "d57d585d-f473-49b6-b383-3b32674a399f",
   "metadata": {},
   "outputs": [],
   "source": [
    "data = Document(page_content='This is the article about document loaders of Langchain', id=1, metadata={'source':'AV'})"
   ]
  },
  {
   "cell_type": "code",
   "execution_count": 17,
   "id": "04f0b05f-8a2c-4bcc-9729-2dc8aa296711",
   "metadata": {},
   "outputs": [],
   "source": [
    "data = Document(page_content=21, id=1, metadata={'source':'AV'})"
   ]
  },
  {
   "cell_type": "code",
   "execution_count": 21,
   "id": "5d6504c9-6461-4261-9721-8227bec56aec",
   "metadata": {},
   "outputs": [],
   "source": [
    "data.page_content = 43"
   ]
  },
  {
   "cell_type": "code",
   "execution_count": 26,
   "id": "48a6f72c-5e60-4ac6-9e86-6a6697fd5c11",
   "metadata": {},
   "outputs": [
    {
     "data": {
      "text/plain": [
       "Document(id='1', metadata={'source': 'AV'}, page_content='This is the article about document loaders of Langchain')"
      ]
     },
     "execution_count": 26,
     "metadata": {},
     "output_type": "execute_result"
    }
   ],
   "source": [
    "data"
   ]
  },
  {
   "cell_type": "code",
   "execution_count": 28,
   "id": "15b2bcd7-43fe-4b5a-b68d-089d3aa990c1",
   "metadata": {},
   "outputs": [
    {
     "data": {
      "text/plain": [
       "'This is the article about document loaders of Langchain'"
      ]
     },
     "execution_count": 28,
     "metadata": {},
     "output_type": "execute_result"
    }
   ],
   "source": [
    "data.page_content"
   ]
  },
  {
   "cell_type": "code",
   "execution_count": 29,
   "id": "60bdb1f0-046a-46e3-a075-f2113dcbbaad",
   "metadata": {},
   "outputs": [],
   "source": [
    "data.id = 2"
   ]
  },
  {
   "cell_type": "code",
   "execution_count": 30,
   "id": "a6a7145d-5638-4f26-a559-9e57ae506d14",
   "metadata": {},
   "outputs": [
    {
     "data": {
      "text/plain": [
       "Document(id=2, metadata={'source': 'AV'}, page_content='This is the article about document loaders of Langchain')"
      ]
     },
     "execution_count": 30,
     "metadata": {},
     "output_type": "execute_result"
    }
   ],
   "source": [
    "data"
   ]
  },
  {
   "cell_type": "code",
   "execution_count": 12,
   "id": "e4f93dd9-5271-4ddb-a49d-758b042d2485",
   "metadata": {},
   "outputs": [
    {
     "data": {
      "text/plain": [
       "{'id': '1',\n",
       " 'metadata': {'source': 'AV'},\n",
       " 'page_content': 'This is the article about document loaders of Langchain',\n",
       " 'type': 'Document'}"
      ]
     },
     "execution_count": 12,
     "metadata": {},
     "output_type": "execute_result"
    }
   ],
   "source": [
    "data.dict()"
   ]
  },
  {
   "cell_type": "code",
   "execution_count": 16,
   "id": "ca992e8e-5930-4f1f-9de0-c06faed111ef",
   "metadata": {},
   "outputs": [
    {
     "data": {
      "text/plain": [
       "{'title': 'Document',\n",
       " 'description': 'Class for storing a piece of text and associated metadata.\\n\\nExample:\\n\\n    .. code-block:: python\\n\\n        from langchain_core.documents import Document\\n\\n        document = Document(\\n            page_content=\"Hello, world!\",\\n            metadata={\"source\": \"https://example.com\"}\\n        )',\n",
       " 'type': 'object',\n",
       " 'properties': {'id': {'title': 'Id', 'type': 'string'},\n",
       "  'metadata': {'title': 'Metadata', 'type': 'object'},\n",
       "  'page_content': {'title': 'Page Content', 'type': 'string'},\n",
       "  'type': {'title': 'Type',\n",
       "   'default': 'Document',\n",
       "   'enum': ['Document'],\n",
       "   'type': 'string'}},\n",
       " 'required': ['page_content']}"
      ]
     },
     "execution_count": 16,
     "metadata": {},
     "output_type": "execute_result"
    }
   ],
   "source": [
    "data.schema()"
   ]
  },
  {
   "cell_type": "markdown",
   "id": "f2dc0e5b-cd30-49bc-89e1-467ed8f2d6fc",
   "metadata": {},
   "source": [
    "# CSV"
   ]
  },
  {
   "cell_type": "code",
   "execution_count": 308,
   "id": "4b64a06f-3313-451c-a953-fc03939ee99f",
   "metadata": {},
   "outputs": [],
   "source": [
    "from langchain_community.document_loaders.csv_loader import CSVLoader"
   ]
  },
  {
   "cell_type": "code",
   "execution_count": 309,
   "id": "6e8c03a4-c1ee-410f-a8be-e70d9948acc7",
   "metadata": {},
   "outputs": [],
   "source": [
    "file_path = \"./iris.csv\"\n",
    "\n",
    "loader = CSVLoader(file_path=file_path, source_column='species', metadata_columns=['species'], csv_args={\"delimiter\": \",\"})"
   ]
  },
  {
   "cell_type": "code",
   "execution_count": 313,
   "id": "bca82eaf-d735-4fbe-9947-ef19d8d8bc6b",
   "metadata": {},
   "outputs": [],
   "source": [
    "loader = CSVLoader(file_path=\"./iris.csv\", metadata_columns=['species'], csv_args={\"delimiter\": \",\"})"
   ]
  },
  {
   "cell_type": "code",
   "execution_count": 314,
   "id": "20572eb6-9a48-4641-af95-29d7993aaf16",
   "metadata": {},
   "outputs": [],
   "source": [
    "data = loader.load()"
   ]
  },
  {
   "cell_type": "code",
   "execution_count": 315,
   "id": "54ab82d1-3f2b-4cfc-a9be-f82aa18895a2",
   "metadata": {},
   "outputs": [
    {
     "data": {
      "text/plain": [
       "150"
      ]
     },
     "execution_count": 315,
     "metadata": {},
     "output_type": "execute_result"
    }
   ],
   "source": [
    "len(data)"
   ]
  },
  {
   "cell_type": "code",
   "execution_count": 312,
   "id": "ddaaad32-9bf5-4b39-b142-9fb1f519ee42",
   "metadata": {},
   "outputs": [
    {
     "data": {
      "text/plain": [
       "{'source': 'setosa', 'row': 0, 'species': 'setosa'}"
      ]
     },
     "execution_count": 312,
     "metadata": {},
     "output_type": "execute_result"
    }
   ],
   "source": [
    "data[0].metadata"
   ]
  },
  {
   "cell_type": "code",
   "execution_count": 316,
   "id": "ce93869b-e744-404c-bd13-43f639c43740",
   "metadata": {},
   "outputs": [
    {
     "data": {
      "text/plain": [
       "{'source': './iris.csv', 'row': 0, 'species': 'setosa'}"
      ]
     },
     "execution_count": 316,
     "metadata": {},
     "output_type": "execute_result"
    }
   ],
   "source": [
    "data[0].metadata"
   ]
  },
  {
   "cell_type": "code",
   "execution_count": 317,
   "id": "829c59f0-65bf-4feb-b834-96e81daa7078",
   "metadata": {},
   "outputs": [
    {
     "data": {
      "text/plain": [
       "{'id': None, 'metadata': {'source': './iris.csv', 'row': 0, 'species': 'setosa'}, 'page_content': 'sepal_length: 5.1\\nsepal_width: 3.5\\npetal_length: 1.4\\npetal_width: 0.2', 'type': 'Document'}"
      ]
     },
     "execution_count": 317,
     "metadata": {},
     "output_type": "execute_result"
    }
   ],
   "source": [
    "data[0].dict()"
   ]
  },
  {
   "cell_type": "code",
   "execution_count": 318,
   "id": "d0a0fcbc-b3c6-409a-8ebb-3fc49a0f0285",
   "metadata": {},
   "outputs": [
    {
     "data": {
      "text/plain": [
       "{'id': None, 'metadata': {'source': './iris.csv', 'row': 130, 'species': 'virginica'}, 'page_content': 'sepal_length: 7.4\\nsepal_width: 2.8\\npetal_length: 6.1\\npetal_width: 1.9', 'type': 'Document'}"
      ]
     },
     "execution_count": 318,
     "metadata": {},
     "output_type": "execute_result"
    }
   ],
   "source": [
    "data[130].dict()"
   ]
  },
  {
   "cell_type": "code",
   "execution_count": 319,
   "id": "167c63a2-e527-42b0-815a-057289de6c71",
   "metadata": {},
   "outputs": [
    {
     "name": "stdout",
     "output_type": "stream",
     "text": [
      "page_content='sepal_length: 5.1\n",
      "sepal_width: 3.5\n",
      "petal_length: 1.4\n",
      "petal_width: 0.2' metadata={'source': './iris.csv', 'row': 0, 'species': 'setosa'}\n",
      "page_content='sepal_length: 4.9\n",
      "sepal_width: 3.0\n",
      "petal_length: 1.4\n",
      "petal_width: 0.2' metadata={'source': './iris.csv', 'row': 1, 'species': 'setosa'}\n"
     ]
    }
   ],
   "source": [
    "for record in data[:2]:\n",
    "    print(record)"
   ]
  },
  {
   "cell_type": "markdown",
   "id": "bfb7adb6-5ed4-477e-ae98-482e7f72502b",
   "metadata": {},
   "source": [
    "# HTML"
   ]
  },
  {
   "cell_type": "code",
   "execution_count": 1,
   "id": "9687e08e-15e8-4d5b-929f-b919cc1ac985",
   "metadata": {},
   "outputs": [],
   "source": [
    "from langchain_community.document_loaders import UnstructuredHTMLLoader"
   ]
  },
  {
   "cell_type": "code",
   "execution_count": 320,
   "id": "d3a9f055-4ffe-4349-9bdd-c3dc415e2eec",
   "metadata": {},
   "outputs": [],
   "source": [
    "from langchain_community.document_loaders import UnstructuredURLLoader"
   ]
  },
  {
   "cell_type": "code",
   "execution_count": 327,
   "id": "74c6b65b-0c3d-4b34-8442-6be707f5b865",
   "metadata": {},
   "outputs": [],
   "source": [
    "loader = UnstructuredURLLoader(urls=['https://diataxis.fr'], mode='elements')"
   ]
  },
  {
   "cell_type": "code",
   "execution_count": 328,
   "id": "0b83892d-674f-42dd-be3b-0a9a67f0c0dc",
   "metadata": {},
   "outputs": [],
   "source": [
    "data = loader.load()"
   ]
  },
  {
   "cell_type": "code",
   "execution_count": 329,
   "id": "2b27692a-72af-4028-91ad-d7d2f98b5047",
   "metadata": {},
   "outputs": [
    {
     "data": {
      "text/plain": [
       "61"
      ]
     },
     "execution_count": 329,
     "metadata": {},
     "output_type": "execute_result"
    }
   ],
   "source": [
    "len(data)"
   ]
  },
  {
   "cell_type": "code",
   "execution_count": 333,
   "id": "7851fa3e-e003-40ca-8dcc-6c9acb61b019",
   "metadata": {},
   "outputs": [
    {
     "data": {
      "text/plain": [
       "{'languages': ['eng'], 'parent_id': '312017038db4f2ad1e9332fc5a40bb9d', 'filetype': 'text/html', 'url': 'https://diataxis.fr', 'category': 'NarrativeText'}"
      ]
     },
     "execution_count": 333,
     "metadata": {},
     "output_type": "execute_result"
    }
   ],
   "source": [
    "data[28].metadata"
   ]
  },
  {
   "cell_type": "code",
   "execution_count": 45,
   "id": "10a86fe0-241e-49f4-893c-ca0685187a88",
   "metadata": {},
   "outputs": [
    {
     "data": {
      "text/plain": [
       "{'category_depth': 1,\n",
       " 'link_texts': ['Reference'],\n",
       " 'link_urls': ['reference/'],\n",
       " 'link_start_indexes': [0],\n",
       " 'languages': ['eng'],\n",
       " 'parent_id': '0fad7a6f72048eb5d179263aebc48c5a',\n",
       " 'filetype': 'text/html',\n",
       " 'url': 'https://diataxis.fr',\n",
       " 'category': 'ListItem'}"
      ]
     },
     "execution_count": 45,
     "metadata": {},
     "output_type": "execute_result"
    }
   ],
   "source": [
    "data[10].metadata"
   ]
  },
  {
   "cell_type": "code",
   "execution_count": 334,
   "id": "5f9da88d-a10b-4511-8e0a-2180e0ed65f8",
   "metadata": {},
   "outputs": [
    {
     "data": {
      "text/plain": [
       "{'category_depth': 1, 'link_texts': ['Reference'], 'link_urls': ['reference/'], 'link_start_indexes': [0], 'languages': ['eng'], 'parent_id': '0fad7a6f72048eb5d179263aebc48c5a', 'filetype': 'text/html', 'url': 'https://diataxis.fr', 'category': 'ListItem'}"
      ]
     },
     "execution_count": 334,
     "metadata": {},
     "output_type": "execute_result"
    }
   ],
   "source": [
    "data[10].metadata"
   ]
  },
  {
   "cell_type": "code",
   "execution_count": 51,
   "id": "314a536a-d142-4ab7-adb6-6d82857c4340",
   "metadata": {
    "scrolled": true
   },
   "outputs": [
    {
     "name": "stdout",
     "output_type": "stream",
     "text": [
      "Reference\n"
     ]
    }
   ],
   "source": [
    "print(data[40].page_content)"
   ]
  },
  {
   "cell_type": "code",
   "execution_count": 332,
   "id": "d8445077-e877-4d80-892e-7213d537f5f4",
   "metadata": {
    "scrolled": true
   },
   "outputs": [
    {
     "name": "stdout",
     "output_type": "stream",
     "text": [
      "Diátaxis is a way of thinking about and doing documentation.\n"
     ]
    }
   ],
   "source": [
    "print(data[28].page_content)"
   ]
  },
  {
   "cell_type": "code",
   "execution_count": 54,
   "id": "a1b2956e-910b-4f5a-aee3-6973e2ba7cdb",
   "metadata": {},
   "outputs": [
    {
     "name": "stdout",
     "output_type": "stream",
     "text": [
      "A systematic approach to technical documentation authoring.\n",
      "Diátaxis is a way of thinking about and doing documentation.\n",
      "It prescribes approaches to content, architecture and form that emerge from a systematic approach to understanding the needs of documentation users.\n",
      "Diátaxis, from the Ancient Greek δῐᾰ́τᾰξῐς: dia (“across”) and taxis (“arrangement”).\n",
      "Diátaxis identifies four distinct needs, and four corresponding forms of documentation - tutorials, how-to guides, technical reference and explanation. It places them in a systematic relationship, and proposes that documentation should itself be organised around the structures of those needs.\n",
      "Diátaxis solves problems related to documentation content (what to write), style (how to write it) and architecture (how to organise it).\n",
      "As well as serving the users of documentation, Diátaxis has value for documentation creators and maintainers. It is light-weight, easy to grasp and straightforward to apply. It doesn’t impose implementation constraints. It brings an active principle of quality to documentation that helps maintainers think effectively about their own work.\n",
      "Contents¶\n",
      "This website is divided into two main sections, to help apply and understand Diátaxis.\n",
      "Start here. These pages will help make immediate, concrete sense of the approach.\n"
     ]
    }
   ],
   "source": [
    "for i, element in enumerate(data[27:37]):\n",
    "    # print(i)\n",
    "    # print(element.metadata)\n",
    "    print(element.page_content)"
   ]
  },
  {
   "cell_type": "markdown",
   "id": "cf03dd72-6ef9-47d5-924e-76a20f0c0c24",
   "metadata": {},
   "source": [
    "# Markdown"
   ]
  },
  {
   "cell_type": "code",
   "execution_count": 2,
   "id": "8ae33caf-da13-4b5b-9d4f-4262336c25d8",
   "metadata": {},
   "outputs": [],
   "source": [
    "from langchain_community.document_loaders import UnstructuredMarkdownLoader"
   ]
  },
  {
   "cell_type": "code",
   "execution_count": 10,
   "id": "2c40b0d5-b060-4bbf-bae0-597bb737e87b",
   "metadata": {},
   "outputs": [],
   "source": [
    "loader = UnstructuredMarkdownLoader('README.md', mode='elements')"
   ]
  },
  {
   "cell_type": "code",
   "execution_count": 7,
   "id": "1e0a8de0-7a4b-478c-8110-87ce9bf8dd93",
   "metadata": {},
   "outputs": [],
   "source": [
    "loader = UnstructuredMarkdownLoader('README.md', mode='paged')"
   ]
  },
  {
   "cell_type": "code",
   "execution_count": 11,
   "id": "ada11d00-1dbc-454d-a76b-1028b162a4e4",
   "metadata": {},
   "outputs": [],
   "source": [
    "data = loader.load()"
   ]
  },
  {
   "cell_type": "code",
   "execution_count": 12,
   "id": "1579746d-e89f-4294-bf84-1f59a1d5cdc0",
   "metadata": {},
   "outputs": [
    {
     "data": {
      "text/plain": [
       "1458"
      ]
     },
     "execution_count": 12,
     "metadata": {},
     "output_type": "execute_result"
    }
   ],
   "source": [
    "len(data)"
   ]
  },
  {
   "cell_type": "code",
   "execution_count": 349,
   "id": "9ac9df18-d953-4b10-aa32-5658357d5856",
   "metadata": {},
   "outputs": [
    {
     "data": {
      "text/plain": [
       "{'source': 'README.md', 'last_modified': '2024-07-09T12:52:53', 'languages': ['eng'], 'filetype': 'text/markdown', 'filename': 'README.md', 'category': 'Title'}"
      ]
     },
     "execution_count": 349,
     "metadata": {},
     "output_type": "execute_result"
    }
   ],
   "source": [
    "data[0].metadata"
   ]
  },
  {
   "cell_type": "code",
   "execution_count": 350,
   "id": "c3143779-dc28-4911-94ae-19ee7e4b8c0b",
   "metadata": {},
   "outputs": [
    {
     "data": {
      "text/plain": [
       "{'source': 'README.md', 'last_modified': '2024-07-09T12:52:53', 'languages': ['eng'], 'filetype': 'text/markdown', 'filename': 'README.md', 'category': 'Title'}"
      ]
     },
     "execution_count": 350,
     "metadata": {},
     "output_type": "execute_result"
    }
   ],
   "source": [
    "data[0].metadata"
   ]
  },
  {
   "cell_type": "code",
   "execution_count": 351,
   "id": "2fe016c3-af26-4649-bf2b-b2037a2d8ff4",
   "metadata": {},
   "outputs": [
    {
     "data": {
      "text/plain": [
       "{'source': 'README.md', 'last_modified': '2024-07-09T12:52:53', 'languages': ['eng'], 'filetype': 'text/markdown', 'filename': 'README.md', 'category': 'Title'}"
      ]
     },
     "execution_count": 351,
     "metadata": {},
     "output_type": "execute_result"
    }
   ],
   "source": [
    "data[700].metadata"
   ]
  },
  {
   "cell_type": "code",
   "execution_count": 352,
   "id": "70c0a5aa-b8ac-4048-9288-370491cb94a1",
   "metadata": {},
   "outputs": [
    {
     "data": {
      "text/plain": [
       "'NeuralProphet (🥈28 ·  ⭐ 3.7K) - NeuralProphet: A simple forecasting package.'"
      ]
     },
     "execution_count": 352,
     "metadata": {},
     "output_type": "execute_result"
    }
   ],
   "source": [
    "data[700].page_content"
   ]
  },
  {
   "cell_type": "markdown",
   "id": "5ec3e3d2-f8bd-4219-aad7-16b35de579a7",
   "metadata": {},
   "source": [
    "# JSON"
   ]
  },
  {
   "cell_type": "code",
   "execution_count": 58,
   "id": "09a46c8a-877b-464b-b3c1-16d8e934a1a7",
   "metadata": {},
   "outputs": [],
   "source": [
    "import json"
   ]
  },
  {
   "cell_type": "code",
   "execution_count": 87,
   "id": "0ebef612-300b-4a6a-903b-2b30b1b6e480",
   "metadata": {},
   "outputs": [],
   "source": [
    "from pprint import pprint"
   ]
  },
  {
   "cell_type": "code",
   "execution_count": 353,
   "id": "ff5e6092-94ae-42ff-a5ff-7c0a93814559",
   "metadata": {},
   "outputs": [],
   "source": [
    "from langchain_community.document_loaders import JSONLoader"
   ]
  },
  {
   "cell_type": "code",
   "execution_count": 354,
   "id": "c0e62363-8b01-4ad2-a0c0-1ddd5df97752",
   "metadata": {},
   "outputs": [],
   "source": [
    "loader = JSONLoader(file_path='chat.json', jq_schema='.', text_content=False)"
   ]
  },
  {
   "cell_type": "code",
   "execution_count": 355,
   "id": "a81fdc6f-ebd1-44e2-9269-0b1cefb7d245",
   "metadata": {},
   "outputs": [],
   "source": [
    "data = loader.load()"
   ]
  },
  {
   "cell_type": "code",
   "execution_count": 356,
   "id": "d4adb82e-f41b-4cd3-896f-241ab95936fc",
   "metadata": {},
   "outputs": [
    {
     "data": {
      "text/plain": [
       "1"
      ]
     },
     "execution_count": 356,
     "metadata": {},
     "output_type": "execute_result"
    }
   ],
   "source": [
    "len(data)"
   ]
  },
  {
   "cell_type": "code",
   "execution_count": 357,
   "id": "cd3943f6-8f73-4a7f-ae1a-b0078d13ebad",
   "metadata": {},
   "outputs": [
    {
     "data": {
      "text/plain": [
       "{'source': '/home/santhosh/Projects/RAG/Langchain/chat.json', 'seq_num': 1}"
      ]
     },
     "execution_count": 357,
     "metadata": {},
     "output_type": "execute_result"
    }
   ],
   "source": [
    "data[0].metadata"
   ]
  },
  {
   "cell_type": "code",
   "execution_count": 358,
   "id": "198380b6-3c5b-4f9f-9bb2-d0fc9728fe3e",
   "metadata": {},
   "outputs": [
    {
     "name": "stdout",
     "output_type": "stream",
     "text": [
      "('{\"image\": {\"creation_timestamp\": 1675549016, \"uri\": '\n",
      " '\"image_of_the_chat.jpg\"}, \"is_still_participant\": true, \"joinable_mode\": '\n",
      " '{\"link\": \"\", \"mode\": 1}, \"magic_words\": [], \"messages\": [{\"content\": \"Bye!\", '\n",
      " '\"sender_name\": \"User 2\", \"timestamp_ms\": 1675597571851}, {\"content\": \"Oh no '\n",
      " 'worries! Bye\", \"sender_name\": \"User 1\", \"timestamp_ms\": 1675597435669}, '\n",
      " '{\"content\": \"No Im sorry it was my mistake, the blue one is not for sale\", '\n",
      " '\"sender_name\": \"User 2\", \"timestamp_ms\": 1675596277579}, {\"content\": \"I '\n",
      " 'thought you were selling the blue one!\", \"sender_name\": \"User 1\", '\n",
      " '\"timestamp_ms\": 1675595140251}, {\"content\": \"Im not interested in this bag. '\n",
      " 'Im interested in the blue one!\", \"sender_name\": \"User 1\", \"timestamp_ms\": '\n",
      " '1675595109305}, {\"content\": \"Here is $129\", \"sender_name\": \"User 2\", '\n",
      " '\"timestamp_ms\": 1675595068468}, {\"photos\": [{\"creation_timestamp\": '\n",
      " '1675595059, \"uri\": \"url_of_some_picture.jpg\"}], \"sender_name\": \"User 2\", '\n",
      " '\"timestamp_ms\": 1675595060730}, {\"content\": \"Online is at least $100\", '\n",
      " '\"sender_name\": \"User 2\", \"timestamp_ms\": 1675595045152}, {\"content\": \"How '\n",
      " 'much do you want?\", \"sender_name\": \"User 1\", \"timestamp_ms\": 1675594799696}, '\n",
      " '{\"content\": \"Goodmorning! $50 is too low.\", \"sender_name\": \"User 2\", '\n",
      " '\"timestamp_ms\": 1675577876645}, {\"content\": \"Hi! Im interested in your bag. '\n",
      " 'Im offering $50. Let me know if you are interested. Thanks!\", \"sender_name\": '\n",
      " '\"User 1\", \"timestamp_ms\": 1675549022673}], \"participants\": [{\"name\": \"User '\n",
      " '1\"}, {\"name\": \"User 2\"}], \"thread_path\": \"inbox/User 1 and User 2 chat\", '\n",
      " '\"title\": \"User 1 and User 2 chat\"}')\n"
     ]
    }
   ],
   "source": [
    "pprint(data[0].page_content)"
   ]
  },
  {
   "cell_type": "code",
   "execution_count": 368,
   "id": "5d0e94c7-24b3-4786-9b46-c8fdb00fc3c0",
   "metadata": {},
   "outputs": [],
   "source": [
    "loader = JSONLoader(file_path='chat.json', jq_schema='.messages[].content', text_content=False)"
   ]
  },
  {
   "cell_type": "code",
   "execution_count": 363,
   "id": "8e751949-24d0-489f-b77a-9aa3cfe81ef8",
   "metadata": {},
   "outputs": [],
   "source": [
    "loader = JSONLoader(file_path='chat.json', jq_schema='.messages[]', text_content=False)"
   ]
  },
  {
   "cell_type": "code",
   "execution_count": 359,
   "id": "0323317a-14e8-4cc3-9f42-b77ca963b690",
   "metadata": {},
   "outputs": [],
   "source": [
    "loader = JSONLoader(file_path='chat.json', jq_schema='.title', text_content=False)"
   ]
  },
  {
   "cell_type": "code",
   "execution_count": 369,
   "id": "6ff0dd0d-80e8-4895-a3de-1d00e28e89df",
   "metadata": {},
   "outputs": [],
   "source": [
    "data = loader.load()"
   ]
  },
  {
   "cell_type": "code",
   "execution_count": 370,
   "id": "98826409-a9ad-41d9-a8d1-b6d4b1ab03b3",
   "metadata": {},
   "outputs": [
    {
     "data": {
      "text/plain": [
       "11"
      ]
     },
     "execution_count": 370,
     "metadata": {},
     "output_type": "execute_result"
    }
   ],
   "source": [
    "len(data)"
   ]
  },
  {
   "cell_type": "code",
   "execution_count": 371,
   "id": "5e558bff-5f53-4523-bced-3b939f8bacef",
   "metadata": {},
   "outputs": [
    {
     "data": {
      "text/plain": [
       "{'source': '/home/santhosh/Projects/RAG/Langchain/chat.json', 'seq_num': 1}"
      ]
     },
     "execution_count": 371,
     "metadata": {},
     "output_type": "execute_result"
    }
   ],
   "source": [
    "data[0].metadata"
   ]
  },
  {
   "cell_type": "code",
   "execution_count": 372,
   "id": "78595422-3d0d-43f4-836e-8d90d77d498a",
   "metadata": {},
   "outputs": [
    {
     "name": "stdout",
     "output_type": "stream",
     "text": [
      "'Bye!'\n"
     ]
    }
   ],
   "source": [
    "pprint(data[0].page_content)"
   ]
  },
  {
   "cell_type": "markdown",
   "id": "dece4ba7-4177-4f09-8737-92819d9b009f",
   "metadata": {},
   "source": [
    "# Word"
   ]
  },
  {
   "cell_type": "code",
   "execution_count": 108,
   "id": "d1a8dce1-8d59-401b-bc54-4b4226dd4e6b",
   "metadata": {},
   "outputs": [],
   "source": [
    "from langchain_community.document_loaders import UnstructuredWordDocumentLoader"
   ]
  },
  {
   "cell_type": "markdown",
   "id": "ad71bb9b-127e-4041-b36e-447cad9736fd",
   "metadata": {},
   "source": [
    "https://github.com/Unstructured-IO/unstructured/blob/main/unstructured/chunking/dispatch.py"
   ]
  },
  {
   "cell_type": "code",
   "execution_count": 231,
   "id": "50032e1b-b151-4d57-a280-05fdb59853e6",
   "metadata": {},
   "outputs": [],
   "source": [
    "loader = UnstructuredWordDocumentLoader(file_path='Polars.docx', mode='elements', chunking_strategy='by_title', \n",
    "                                        max_characters=200, new_after_n_chars=20)"
   ]
  },
  {
   "cell_type": "code",
   "execution_count": 232,
   "id": "ff7e874a-8fef-446d-8fdd-6cbb604ed552",
   "metadata": {},
   "outputs": [],
   "source": [
    "data = loader.load()"
   ]
  },
  {
   "cell_type": "code",
   "execution_count": 233,
   "id": "5b4b5274-6fe5-49c3-b51c-d271d40c0781",
   "metadata": {},
   "outputs": [
    {
     "data": {
      "text/plain": [
       "67"
      ]
     },
     "execution_count": 233,
     "metadata": {},
     "output_type": "execute_result"
    }
   ],
   "source": [
    "len(data)"
   ]
  },
  {
   "cell_type": "code",
   "execution_count": 234,
   "id": "325c7ec4-a74b-44be-9030-f25549783de6",
   "metadata": {},
   "outputs": [
    {
     "data": {
      "text/plain": [
       "{'source': 'Polars.docx', 'emphasized_text_contents': ['Introduction'], 'emphasized_text_tags': ['b'], 'filename': 'Polars.docx', 'languages': ['eng'], 'last_modified': '2024-07-09T17:49:42', 'orig_elements': 'eJxtj81uwjAQhF8F+VyjkDi4yRtw64EbQtbi3QRL/omSRYIi3h07nCr1OvONZub0FOQpUGTjUPQbYS+oW2hR0qAbqbDZS9BoJbbfzb7W1ClVia+NCMSAwJAzT2GBaUzzwyBNfM3SLhMUpiss7pfQMN3Z2BQ59yzZPolD5DnhzbJLUZz/oRnGD3lZ7cF5ihCoTPxJHuZli8neyxIPcbzBSB+c4rgGPCxsQkI3OFqP1VWtZKVl1R13ulddr2rxymBpK/6fRUV/TGvb0bEn8Tq/Ad4UXrY=', 'filetype': 'application/vnd.openxmlformats-officedocument.wordprocessingml.document', 'category': 'CompositeElement'}"
      ]
     },
     "execution_count": 234,
     "metadata": {},
     "output_type": "execute_result"
    }
   ],
   "source": [
    "data[0].metadata"
   ]
  },
  {
   "cell_type": "code",
   "execution_count": 235,
   "id": "b276dfd1-cc08-461b-b44d-eaa840ff8f8f",
   "metadata": {},
   "outputs": [
    {
     "data": {
      "text/plain": [
       "'Introduction'"
      ]
     },
     "execution_count": 235,
     "metadata": {},
     "output_type": "execute_result"
    }
   ],
   "source": [
    "data[0].page_content"
   ]
  },
  {
   "cell_type": "code",
   "execution_count": 236,
   "id": "4bea9fb6-82c4-4840-86cc-1d4680e7c5e7",
   "metadata": {},
   "outputs": [
    {
     "data": {
      "text/plain": [
       "'q.show_graph(optimized=False)123456789python'"
      ]
     },
     "execution_count": 236,
     "metadata": {},
     "output_type": "execute_result"
    }
   ],
   "source": [
    "data[40].page_content"
   ]
  },
  {
   "cell_type": "markdown",
   "id": "3418126f-d6de-4b11-b7a9-24e1070f624a",
   "metadata": {},
   "source": [
    "# PDF"
   ]
  },
  {
   "cell_type": "markdown",
   "id": "2d2fff68-c39f-46c3-afa1-898bd44c7983",
   "metadata": {},
   "source": [
    "https://github.com/py-pdf/benchmarks"
   ]
  },
  {
   "cell_type": "code",
   "execution_count": 79,
   "id": "acab8c22-52b0-4927-888b-541488b429dd",
   "metadata": {},
   "outputs": [],
   "source": [
    "from langchain_community.document_loaders import PyMuPDFLoader"
   ]
  },
  {
   "cell_type": "code",
   "execution_count": 80,
   "id": "9de54e07-14ff-41ca-8877-20923810bcf3",
   "metadata": {},
   "outputs": [],
   "source": [
    "loader = PyMuPDFLoader(file_path='how-to-formulate-successful-business-strategy.pdf', extract_images=True)"
   ]
  },
  {
   "cell_type": "code",
   "execution_count": 81,
   "id": "c2500fff-4fd1-4c0e-ba83-36e883521096",
   "metadata": {},
   "outputs": [],
   "source": [
    "data = loader.load()"
   ]
  },
  {
   "cell_type": "code",
   "execution_count": 377,
   "id": "c38038b2-809a-46b7-af09-95c7638ff9be",
   "metadata": {},
   "outputs": [
    {
     "data": {
      "text/plain": [
       "23"
      ]
     },
     "execution_count": 377,
     "metadata": {},
     "output_type": "execute_result"
    }
   ],
   "source": [
    "len(data)"
   ]
  },
  {
   "cell_type": "code",
   "execution_count": 378,
   "id": "1541b833-62cf-4403-81b3-498ddbaca45f",
   "metadata": {},
   "outputs": [
    {
     "data": {
      "text/plain": [
       "{'source': 'how-to-formulate-successful-business-strategy.pdf', 'file_path': 'how-to-formulate-successful-business-strategy.pdf', 'page': 0, 'total_pages': 23, 'format': 'PDF 1.7', 'title': 'How to Formulate a Successful Business Strategy', 'author': 'Harvard Business School Online', 'subject': '', 'keywords': '', 'creator': 'Adobe InDesign 17.4 (Macintosh)', 'producer': 'Adobe PDF Library 16.0.7', 'creationDate': \"D:20221018124609-04'00'\", 'modDate': \"D:20221018124635-04'00'\", 'trapped': ''}"
      ]
     },
     "execution_count": 378,
     "metadata": {},
     "output_type": "execute_result"
    }
   ],
   "source": [
    "data[0].metadata"
   ]
  },
  {
   "cell_type": "code",
   "execution_count": 379,
   "id": "5345da79-fb2e-4c15-a959-f6e87d175acb",
   "metadata": {},
   "outputs": [
    {
     "data": {
      "text/plain": [
       "'How to Formulate \\na\\xa0Successful \\nBusiness\\xa0Strategy\\nOnline'"
      ]
     },
     "execution_count": 379,
     "metadata": {},
     "output_type": "execute_result"
    }
   ],
   "source": [
    "data[0].page_content"
   ]
  },
  {
   "cell_type": "code",
   "execution_count": null,
   "id": "f0f33139-21cb-44f8-9221-db3428b339a6",
   "metadata": {},
   "outputs": [],
   "source": []
  },
  {
   "cell_type": "code",
   "execution_count": 1,
   "id": "fd55a0a3-6403-4393-a2ff-58ad822293d6",
   "metadata": {},
   "outputs": [],
   "source": [
    "from langchain_community.document_loaders import UnstructuredPDFLoader"
   ]
  },
  {
   "cell_type": "code",
   "execution_count": 2,
   "id": "d8a926fe-7b15-4604-8424-e61affb4c3e2",
   "metadata": {},
   "outputs": [],
   "source": [
    "loader = UnstructuredPDFLoader('how-to-formulate-successful-business-strategy.pdf', mode='elements', strategy=\"auto\")"
   ]
  },
  {
   "cell_type": "code",
   "execution_count": 3,
   "id": "bdeebc13-6f10-4616-906a-3d896a230652",
   "metadata": {},
   "outputs": [],
   "source": [
    "data = loader.load()"
   ]
  },
  {
   "cell_type": "code",
   "execution_count": 383,
   "id": "802557a7-e76f-4ef3-b3bb-0840fea97252",
   "metadata": {},
   "outputs": [
    {
     "data": {
      "text/plain": [
       "177"
      ]
     },
     "execution_count": 383,
     "metadata": {},
     "output_type": "execute_result"
    }
   ],
   "source": [
    "len(data)"
   ]
  },
  {
   "cell_type": "code",
   "execution_count": 267,
   "id": "9f822fd7-e45a-4173-b865-8831e6efd710",
   "metadata": {},
   "outputs": [
    {
     "data": {
      "text/plain": [
       "{'source': 'how-to-formulate-successful-business-strategy.pdf', 'coordinates': {'points': ((71.94, 211.28069999999997), (71.94, 407.2807), (587.8439999999999, 407.2807), (587.8439999999999, 211.28069999999997)), 'system': 'PixelSpace', 'layout_width': 792.0, 'layout_height': 612.0}, 'filename': 'how-to-formulate-successful-business-strategy.pdf', 'languages': ['eng'], 'last_modified': '2023-02-24T01:43:06', 'page_number': 1, 'filetype': 'application/pdf', 'category': 'Title'}"
      ]
     },
     "execution_count": 267,
     "metadata": {},
     "output_type": "execute_result"
    }
   ],
   "source": [
    "data[0].metadata"
   ]
  },
  {
   "cell_type": "code",
   "execution_count": 268,
   "id": "9e2ed400-9c83-47e4-8604-49c2f951b3c4",
   "metadata": {},
   "outputs": [
    {
     "data": {
      "text/plain": [
       "'How to Formulate a Successful Business Strategy'"
      ]
     },
     "execution_count": 268,
     "metadata": {},
     "output_type": "execute_result"
    }
   ],
   "source": [
    "data[0].page_content"
   ]
  },
  {
   "cell_type": "code",
   "execution_count": 269,
   "id": "80755b56-1ca1-4b92-b168-6ee26a2ca038",
   "metadata": {},
   "outputs": [
    {
     "data": {
      "text/plain": [
       "'Strategic planning is the ongoing organizational process of using available knowledge to document a business’s intended direction. This process is used to prioritize efforts, effectively allocate resources, align shareholders and employees on goals, and ensure those goals are backed by data and sound reasoning.'"
      ]
     },
     "execution_count": 269,
     "metadata": {},
     "output_type": "execute_result"
    }
   ],
   "source": [
    "data[16].page_content"
   ]
  },
  {
   "cell_type": "markdown",
   "id": "84e5d6ca-ddf9-4a53-8aed-9d487b311aec",
   "metadata": {},
   "source": [
    "# Directory"
   ]
  },
  {
   "cell_type": "code",
   "execution_count": 270,
   "id": "34fe40fc-8a82-4a3c-b692-df7be40e2501",
   "metadata": {},
   "outputs": [],
   "source": [
    "from langchain_community.document_loaders import DirectoryLoader"
   ]
  },
  {
   "cell_type": "code",
   "execution_count": 304,
   "id": "29224d69-8829-48da-b050-53c3e7572265",
   "metadata": {},
   "outputs": [],
   "source": [
    "loader = DirectoryLoader(\".\", glob=\"**/*.json\", loader_cls=JSONLoader, loader_kwargs={'jq_schema': '.', 'text_content':False},\n",
    "                         show_progress=True, use_multithreading=True)"
   ]
  },
  {
   "cell_type": "code",
   "execution_count": 305,
   "id": "95ffc9c2-c37c-49de-adf8-29f8844b1607",
   "metadata": {},
   "outputs": [
    {
     "name": "stderr",
     "output_type": "stream",
     "text": [
      "\n",
      "\n",
      "\n",
      "\n",
      "\n",
      "100%|██████████| 1/1 [00:00<00:00, 154.49it/s]\u001b[A\u001b[A\n"
     ]
    }
   ],
   "source": [
    "docs = loader.load()"
   ]
  },
  {
   "cell_type": "code",
   "execution_count": 306,
   "id": "98ce667b-8fa7-49b3-9d85-5bdb86bc3d5f",
   "metadata": {
    "scrolled": true
   },
   "outputs": [
    {
     "data": {
      "text/plain": [
       "1"
      ]
     },
     "execution_count": 306,
     "metadata": {},
     "output_type": "execute_result"
    }
   ],
   "source": [
    "len(docs)"
   ]
  },
  {
   "cell_type": "code",
   "execution_count": 307,
   "id": "bac0b578-dedd-4e60-9785-9ebe2eb8a2f0",
   "metadata": {},
   "outputs": [
    {
     "data": {
      "text/plain": [
       "'{\"image\": {\"creation_timestamp\": 1675549016, \"uri\": \"image_of_the_chat.jpg\"}, \"is_still_participant\": true, \"joinable_mode\": {\"link\": \"\", \"mode\": 1}, \"magic_words\": [], \"messages\": [{\"content\": \"Bye!\", \"sender_name\": \"User 2\", \"timestamp_ms\": 1675597571851}, {\"content\": \"Oh no worries! Bye\", \"sender_name\": \"User 1\", \"timestamp_ms\": 1675597435669}, {\"content\": \"No Im sorry it was my mistake, the blue one is not for sale\", \"sender_name\": \"User 2\", \"timestamp_ms\": 1675596277579}, {\"content\": \"I thought you were selling the blue one!\", \"sender_name\": \"User 1\", \"timestamp_ms\": 1675595140251}, {\"content\": \"Im not interested in this bag. Im interested in the blue one!\", \"sender_name\": \"User 1\", \"timestamp_ms\": 1675595109305}, {\"content\": \"Here is $129\", \"sender_name\": \"User 2\", \"timestamp_ms\": 1675595068468}, {\"photos\": [{\"creation_timestamp\": 1675595059, \"uri\": \"url_of_some_picture.jpg\"}], \"sender_name\": \"User 2\", \"timestamp_ms\": 1675595060730}, {\"content\": \"Online is at least $100\", \"sender_name\": \"User 2\", \"timestamp_ms\": 1675595045152}, {\"content\": \"How much do you want?\", \"sender_name\": \"User 1\", \"timestamp_ms\": 1675594799696}, {\"content\": \"Goodmorning! $50 is too low.\", \"sender_name\": \"User 2\", \"timestamp_ms\": 1675577876645}, {\"content\": \"Hi! Im interested in your bag. Im offering $50. Let me know if you are interested. Thanks!\", \"sender_name\": \"User 1\", \"timestamp_ms\": 1675549022673}], \"participants\": [{\"name\": \"User 1\"}, {\"name\": \"User 2\"}], \"thread_path\": \"inbox/User 1 and User 2 chat\", \"title\": \"User 1 and User 2 chat\"}'"
      ]
     },
     "execution_count": 307,
     "metadata": {},
     "output_type": "execute_result"
    }
   ],
   "source": [
    "docs[0].page_content"
   ]
  },
  {
   "cell_type": "markdown",
   "id": "aead7f59-9e7d-4e73-929e-55e770efa348",
   "metadata": {},
   "source": [
    "# YouTube"
   ]
  },
  {
   "cell_type": "code",
   "execution_count": 31,
   "id": "e4113a01-5d4a-4aa3-8dec-1088252c47bd",
   "metadata": {},
   "outputs": [],
   "source": [
    "from langchain_community.document_loaders import YoutubeLoader"
   ]
  },
  {
   "cell_type": "code",
   "execution_count": 40,
   "id": "e489e1c1-c220-4dad-8329-10aa45b30d40",
   "metadata": {},
   "outputs": [],
   "source": [
    "video_url = 'https://www.youtube.com/watch?v=LKCVKw9CzFo'"
   ]
  },
  {
   "cell_type": "code",
   "execution_count": 66,
   "id": "45d5aec7-a2f7-4893-bda3-d69924337c78",
   "metadata": {},
   "outputs": [],
   "source": [
    "loader = YoutubeLoader(video_id='LKCVKw9CzFo', add_video_info=True)"
   ]
  },
  {
   "cell_type": "code",
   "execution_count": 67,
   "id": "27eb4f2e-1374-4af1-9d45-63f3fb1a656d",
   "metadata": {},
   "outputs": [],
   "source": [
    "data = loader.load()"
   ]
  },
  {
   "cell_type": "code",
   "execution_count": 68,
   "id": "6de2e528-08fc-409d-9b8d-e8938b5a1912",
   "metadata": {},
   "outputs": [
    {
     "data": {
      "text/plain": [
       "1"
      ]
     },
     "execution_count": 68,
     "metadata": {},
     "output_type": "execute_result"
    }
   ],
   "source": [
    "len(data)"
   ]
  },
  {
   "cell_type": "code",
   "execution_count": 69,
   "id": "cbc0552c-d3fb-4c04-9441-0eebc71d38c0",
   "metadata": {},
   "outputs": [
    {
     "data": {
      "text/plain": [
       "{'source': 'LKCVKw9CzFo',\n",
       " 'title': '100+ Linux Things you Need to Know',\n",
       " 'description': 'Unknown',\n",
       " 'view_count': 713960,\n",
       " 'thumbnail_url': 'https://i.ytimg.com/vi/LKCVKw9CzFo/hq720.jpg?sqp=-oaymwEmCIAKENAF8quKqQMa8AEB-AH-CYAC0AWKAgwIABABGDsgUShyMA8=&rs=AOn4CLBBFIS2VzRUY1irEVO3f41PZkS1aw',\n",
       " 'publish_date': '2024-07-06 00:00:00',\n",
       " 'length': 742,\n",
       " 'author': 'Fireship'}"
      ]
     },
     "execution_count": 69,
     "metadata": {},
     "output_type": "execute_result"
    }
   ],
   "source": [
    "data[0].metadata"
   ]
  },
  {
   "cell_type": "code",
   "execution_count": 70,
   "id": "768274ff-7c44-43b5-926e-ea345fd86415",
   "metadata": {
    "scrolled": true
   },
   "outputs": [
    {
     "data": {
      "text/plain": [
       "\"statistically 96% of the humans watching this video are not using Linux and that's just like really sad because it's a superior free open source operating system but only has a 4% share of the PC market luckily though 96% of the non-human Bots watching this video are using Linux because it is the dominant OS on the server if you're a programmer or developer you need to know Linux that's where your code will eventually run and fail and if you can't SSH into a Linux terminal and fix it you are screwed in today's video you'll learn everything you need to know about Linux by looking at 101 essential Concepts over the next 10 minutes if you survive until the end you should magically grow neck beard and be able to technobabble like an arch user before one can understand Linux though one must recognize what came before it Unix an operating system developed at AT&T Bell labs in the 70s its development led to a standardization called posix or portable operating system interface to ensure that different systems would be compatible with each other its influence remains strong today with Ma ma OS Android FreeBSD and most Linux dros being posix compliant in 1987 an OS called Minix for academic use was developed but redistribution of its code was restricted this inspired a Finnish computer science student named lonus torald to develop Linux in 1991 importantly it's free open- source software licens under GPL 2.0 and by free I mean free is in Freedom it's free to distribute modify and make money off of now what I'm referring to as Linux is in fact not an operating system but rather an operating system kernel it's written in the C programming language and is the black magic that sits between your software applications and the hardware when you hit the power button on your computer the boot loader which is usually grub will load the Linux kernel into random access memory from there it detects hardware and starts the init system which is typically a tool called system D although Alternatives do exist once initialized the kernel will start up applications in user space which will typically bring the user to a login screen as the user starts doing stuff the kernel has a lot of respons ibility it allocates and deallocates memory for processes and can even create virtual memory to use more memory than is physically available by tapping into your hard drive speaking of the hard drive the kernel also provides a virtual file system to interact with files on different systems the fourth extended file system is the most common default on Linux but it's not the only option the kernel also interacts with all these peripheral devices via drivers pretty cool but you can't just walk up and mess around with the kernel and that's because it's surrounded by the cpu's protection ring at ring zero we have the kernel with the highest level of privilege While most of us normies in user space live in ring three with the lowest level of privilege but often you'll want to do something that requires access to the kernel like write a file to the file system and that's where system calls come in in the C code here you'll notice that I'm making a CIS call to write which will transition from ring three to ring zero to Output some text to the console however right itself is not a system call it's actually a rapper provided by GBC which is the G new standard library for C and provides all kinds of rappers for making system calls that can do almost anything on your OS but wait a minute what is gnu it's pronounced gnu and it's a project that predates the Linux kernel itself and was started all the way back in 1983 by Richard stalman it provides all the core utilities for Linux which are all the software utilities that make the kernel useful to humans the best way to start exploring these core Libs is to open up the terminal which is a graphical user interface that allows you to send commands via the shell now they call this thing a shell because it provides a layer of protection between user space and the kernel there are many different flavors of shells but the most common is Bash let's say hello to the Linux kernel by running the ganu shell utility Echo and providing a string argument to it this command takes our message and prints it to the standard output pretty simple but what actually happened under the hood is that a system call was made to the kernel which checked permissions and manage drivers to turn those ones and zeros into pixels on the screen as an end user though I don't care my friend told me about a cool command called touch but I have no idea what it does the cool thing about Linux is that you can pull up the manual for any command by hitting up my main man man it looks like this command is used to create a new file man Isn't that cool let's go ahead and try it out now by creating a new text file it looks like nothing happened but I promise it worked I can prove it by using the ls command to list out the files in this directory and there it is and we can read the file contents with the cat command but again nothing happens because there's no data in this file however there is a bunch bunch of metadata like timestamps that we can access with the stat command is stat rhymes with cat and when we run it we know this file's birth time when it was modified and when it was last accessed that's useful but we can also get more information from the ls command by appending Flags to it like the L flag to list more details and the H flag to make them human readable when we run that command we can now see the exact size of every file and we can also combine flags and Linux to make this command more concise I don't want an empty file though so I'm just going to remove it with the RM command the cool thing about the Linux terminal is that it's really easy to combine commands like I can take Echo and use this angle bracket to redirect its output to a new file in addition I can flip this angle bracket around to also redirect the input of a file that's cool but pipes are even cooler they allow you to take the output of one command and pass it off to another command like for example if we have a log file of our broken code we might first use cat to read that file but then we could pipe the output to sort which would sort it line by line and then unique to remove any duplicates there's so much more we could do just from the terminal but if you find yourself doing the same thing over and over again it might be time to write a bash script in its own dedicated file but to create that file we'll use an interactive text editor if you have a few years to spare you could try learning Vim or if you have no life at all you could try emac but I'm going to create this file with Nano a minimal text editor built into most Linux dros at the top of the file We'll add a shebang that tells Linux to use the bash interpreter then we can add as much bash code as we want here like we might use Echo and then read to read a value from the standard input and then Echo to once again Echo it back and now if we save this file we can execute it by simply entering the file path in the terminal and that brings us to the halfway mark unfortunately 100 topics is not nearly enough to cover the entire Linux ecosystem if your goal is to become an apex Alpha Linux gigachad and check out my brand new full Linux course for fireship pro members the course contains over 30 videos of Hands-On Linux topics along with quizzes for regular dopamine hits that will help you master the fundamentals of Linux quickly but most importantly it will teach you how to spin up your own virtual private server to self-host your own applications but one major drawback of using Linux is that it might trigger an existential crisis and you might ask yourself who am I when you enter that command it's going to return your Linux username in addition every user has a unique uid that can be viewed with the ID command my ID is 1000 but there is one special user with a uid of zero called root AKA admin super user or daddy root has the highest level of privilege and you can switch to the root user with the Su command or prefix any command with pseudo to run it with elevated privilege any user can be granted pseudo privilege and you can check your privilege right now by running pseudo flag l in addition to users Linux also has groups groups have group IDs and make it easier to manage permissions for multiple users before we talk about permissions though let's explore the file system by default we're in our home directory which is like a personal workspace for the user you're logged in as we might make a new directory here using the make dur command then use CD to change directories into it now run PWD to print the current working directory but now let's venture outside of our home into the root of the file system by running cd/ if you hit LS here you'll find a bunch of critical directories that you need to know aot like boot contains the Linux kernel itself Dev contains external devices like hard drives Etc contains config files and VAR contains log files the most interesting directory here though is bin which holds your binaries and spin for system binaries you see when you run a command like LS Linux looks for an executable binary on your system to execute the thing is binaries not only live here but also under the user system Resources directory and potentially anywhere you want on the file system and that begs the question how does Linux know where to find the right binary well that's where path comes in it's a special environment variable that contains paths to directories separated by colons when you enter a command Linux will search through the path for a matching binary in each directory and execute the first one it finds its value is set on the system by default but it's common to customize it by using the export keyword which will set the value for an environment variable the most common technique is to update the path for an individual user by customizing The Bash RC file which itself is a script that will run before every terminal session and now that we're inside this file we can also do things like customize the PS1 environment variable to change the terminal prompt to look more like a mega hardcore hacker when coding at Starbucks which is a proven way to attract a mate as a Linux user but now it's time to talk about file permissions use LS flag L on any file to view permissions and notice these cryptic nine characters these are called symbolic permissions the first triplet represents the owner the middle the group and the last triplet is for everyone else each one contains a letter that represents read write and execute privileges if the letter is present it means access granted but if there's a dash it means permission denied these can also be represented as numbers in o notation for example 777 lets anybody do anything to a file I know Triple 7 is good on slot machines but in Linux it's generally a bad idea because you want to always follow the principle of lease privilege Grant access to things only when necessary and trust no one now you can modify the permissions on a file with the chamod command like here I'm using it to Grant read access to a document for everybody we can also change the owner of a file with Chon or assign groups with ch group and now that we know what all these things mean permissions aren't so cryp now anytime you run a command or execute a program it creates a process on the CPU which is managed by the Linux kernel you can view these processes with a command and notice how each one has a unique process ID along with the user who created it or better yet use htop to get an interactive breakdown of processes that can be filtered some of these are just system demons that run in the background we all have our demons in fact if you have a long running script you can even create your own background process by adding an Amper sand to the end of it or if you want a a script run on a specific schedule like a reminder to do something at 4:20 p.m. today you can accomplish that by adding your script to the cron tab that's cool but occasionally you'll have a bad process that needs to be killed the kill command can do that by gracefully sending a Sig term signal to the process if that doesn't do the trick though use the nine flag to forcefully kill it with Sig kill we've barely scratched the surface but so far everything we've looked at is pretty standard on most Linux machines other utilities you should know about include GP for searching through text said for modifying tax gzip for making files smaller and tar for archiving directories but the Linux experience varies wildly when talking about different dros a Linux distribution is just a complete operating system built on the Linux kernel and each drro has a highly opinionated set of default software for their target audience some are designed for beginners others for hardcore hackers and everything in between dros can have different package managers to install new software like a yum and Pac-Man and they might also have different release schedules like some have a predictable fixed release date While others have ruling releases that keep their software on The Cutting Edge at all times and one thing we didn't even talk about is desktop environments if using Linux as a PC your Dro will have a default desktop environment like gnome or KD plasma and that makes a huge difference in the experience some distro families you should know about include slackware the Original Gangster from the 9s Debian the most popular Dro overall famous for its open philosophy and ease of use red hat the dro of choice and Enterprise for its long-term support plans and finally the arch family if someday you find yourself saying I use Arch by the way unironically it means you've embrace the Paradox of complexity and simplicity and your operating system is no longer just a tool but a reflection of your own dominance and Mastery over the digital world thanks for watching check out the full course if you want to go deeper and I will see you in the next one\""
      ]
     },
     "execution_count": 70,
     "metadata": {},
     "output_type": "execute_result"
    }
   ],
   "source": [
    "data[0].page_content"
   ]
  },
  {
   "cell_type": "markdown",
   "id": "81946049-ed98-4af9-86cf-80b79e5df3a9",
   "metadata": {},
   "source": [
    "# Wikipedia"
   ]
  },
  {
   "cell_type": "code",
   "execution_count": 47,
   "id": "7fa5215f-5127-4619-9c8f-71e847280577",
   "metadata": {},
   "outputs": [],
   "source": [
    "from langchain_community.document_loaders import WikipediaLoader"
   ]
  },
  {
   "cell_type": "code",
   "execution_count": 71,
   "id": "4c381e88-dba7-437d-9d4f-db2470617dcb",
   "metadata": {},
   "outputs": [],
   "source": [
    "loader = WikipediaLoader(query='Generative AI', load_max_docs=5, doc_content_chars_max=5000, load_all_available_meta=True)"
   ]
  },
  {
   "cell_type": "code",
   "execution_count": 72,
   "id": "00ce0674-57df-4eb0-b4d4-89437ba91c42",
   "metadata": {},
   "outputs": [],
   "source": [
    "data = loader.load()"
   ]
  },
  {
   "cell_type": "code",
   "execution_count": 73,
   "id": "ddca5db6-4ffe-4b42-b48a-00e601168920",
   "metadata": {},
   "outputs": [
    {
     "data": {
      "text/plain": [
       "5"
      ]
     },
     "execution_count": 73,
     "metadata": {},
     "output_type": "execute_result"
    }
   ],
   "source": [
    "len(data)"
   ]
  },
  {
   "cell_type": "code",
   "execution_count": 76,
   "id": "ac3fe0b1-6d37-42ef-8697-aa6c2b064ea2",
   "metadata": {
    "scrolled": true
   },
   "outputs": [
    {
     "data": {
      "text/plain": [
       "dict_keys(['title', 'summary', 'source', 'categories', 'page_url', 'image_urls', 'related_titles', 'parent_id', 'references', 'revision_id', 'sections'])"
      ]
     },
     "execution_count": 76,
     "metadata": {},
     "output_type": "execute_result"
    }
   ],
   "source": [
    "data[0].metadata.keys()"
   ]
  },
  {
   "cell_type": "code",
   "execution_count": 78,
   "id": "2e7c298c-1704-4235-a3a4-b285dcaa8f1a",
   "metadata": {
    "scrolled": true
   },
   "outputs": [
    {
     "name": "stdout",
     "output_type": "stream",
     "text": [
      "Generative artificial intelligence\n",
      "AI boom\n",
      "Generative pre-trained transformer\n",
      "ChatGPT\n",
      "Artificial intelligence\n"
     ]
    }
   ],
   "source": [
    "for i in data:\n",
    "    print(i.metadata['title'])"
   ]
  },
  {
   "cell_type": "code",
   "execution_count": 77,
   "id": "930a63c9-a55c-4f9a-a101-6659df99c0c1",
   "metadata": {
    "scrolled": true
   },
   "outputs": [
    {
     "data": {
      "text/plain": [
       "'Generative artificial intelligence'"
      ]
     },
     "execution_count": 77,
     "metadata": {},
     "output_type": "execute_result"
    }
   ],
   "source": [
    "data[0].metadata['title']"
   ]
  },
  {
   "cell_type": "code",
   "execution_count": 60,
   "id": "695eef7b-2f5f-4fe4-bca0-70d694db80d9",
   "metadata": {},
   "outputs": [
    {
     "data": {
      "text/plain": [
       "'Generative artificial intelligence (generative AI, GenAI, or GAI) is artificial intelligence capable of generating text, images, videos, or other data using generative models, often in response to prompts. Generative AI models learn the patterns and structure of their input training data and then generate new data that has similar characteristics.\\nImprovements in transformer-based deep neural networks, particularly large language models (LLMs), enabled an AI boom of generative AI systems in the early 2020s. These include chatbots such as ChatGPT, Copilot, Gemini and LLaMA, text-to-image artificial intelligence image generation systems such as Stable Diffusion, Midjourney and DALL-E, and text-to-video AI generators such as Sora. Companies such as OpenAI, Anthropic, Microsoft, Google, and Baidu as well as numerous smaller firms have developed generative AI models.\\nGenerative AI has uses across a wide range of industries, including software development, healthcare, finance, entertainment, customer service, sales and marketing, art, writing, fashion, and product design. However, concerns have been raised about the potential misuse of generative AI such as cybercrime, the use of fake news or deepfakes to deceive or manipulate people, and the mass replacement of human jobs.\\n\\n\\n== History ==\\n\\nThe academic discipline of artificial intelligence was established at a research workshop held at Dartmouth College in 1956 and has experienced several waves of advancement and optimism in the decades since. Since its inception, researchers in the field have raised philosophical and ethical arguments about the nature of the human mind and the consequences of creating artificial beings with human-like intelligence; these issues have previously been explored by myth, fiction and philosophy since antiquity. The concept of automated art dates back at least to the automata of ancient Greek civilization, where inventors such as Daedalus and Hero of Alexandria were described as having designed machines capable of writing text, generating sounds, and playing music. The tradition of creative automatons has flourished throughout history, exemplified by Maillardet\\'s automaton created in the early 1800s.\\nArtificial Intelligence is an idea that has been captivating society since the mid-20th century. It began with science fiction familiarizing the world with the concept but the idea was not fully seen in the scientific manner until Alan Turing, a polymath, was curious about the feasibility of the concept. Turing\\'s groundbreaking 1950 paper, \"Computing Machinery and Intelligence,\" posed fundamental questions about machine reasoning similar to human intelligence, significantly contributing to the conceptual groundwork of AI. The development of AI was not very rapid at first because of the high costs and the fact that computers were not able to store commands. This changed during the 1956 Dartmouth Summer Research Project on AI where there was an inspiring call for AI research, setting the precedent for two decades of rapid advancements in the field.\\nSince the founding of AI in the 1950s, artists and researchers have used artificial intelligence to create artistic works. By the early 1970s, Harold Cohen was creating and exhibiting generative AI works created by AARON, the computer program Cohen created to generate paintings.\\nMarkov chains have long been used to model natural languages since their development by Russian mathematician Andrey Markov in the early 20th century. Markov published his first paper on the topic in 1906, and analyzed the pattern of vowels and consonants in the novel Eugeny Onegin using Markov chains. Once a Markov chain is learned on a text corpus, it can then be used as a probabilistic text generator.\\nThe field of machine learning often uses statistical models, including generative models, to model and predict data. Beginning in the late 2000s, the emergence of deep learning drove progress and research in image classification, speech recognition, natural language processing and other tasks. Neural networks in this era were typically trained as discriminative models, due to the difficulty of generative modeling.\\nIn 2014, advancements such as the variational autoencoder and generative adversarial network produced the first practical deep neural networks capable of learning generative models, as opposed to discriminative ones, for complex data such as images. These deep generative models were the first to output not only class labels for images but also entire images.\\nIn 2017, the Transformer network enabled advancements in generative models compared to older Long-Short Term Memory models, leading to the first generative pre-trained transformer (GPT), known as GPT-1, in 2018. This was followed in 2019 by GPT-2 which demonstrated the ability to generalize unsupervised to many different tasks as a Foundation model.\\nIn 2021, the release of DALL-E, a transformer-based pixel generative model, followed by Midjourney and Stable '"
      ]
     },
     "execution_count": 60,
     "metadata": {},
     "output_type": "execute_result"
    }
   ],
   "source": [
    "data[0].page_content"
   ]
  },
  {
   "cell_type": "code",
   "execution_count": null,
   "id": "8190b0ac-a27d-4933-b923-78e462fd956c",
   "metadata": {},
   "outputs": [],
   "source": []
  }
 ],
 "metadata": {
  "kernelspec": {
   "display_name": "Python 3 (ipykernel)",
   "language": "python",
   "name": "python3"
  },
  "language_info": {
   "codemirror_mode": {
    "name": "ipython",
    "version": 3
   },
   "file_extension": ".py",
   "mimetype": "text/x-python",
   "name": "python",
   "nbconvert_exporter": "python",
   "pygments_lexer": "ipython3",
   "version": "3.11.7"
  }
 },
 "nbformat": 4,
 "nbformat_minor": 5
}
