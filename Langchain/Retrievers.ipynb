{
 "cells": [
  {
   "cell_type": "code",
   "execution_count": 1,
   "id": "601b6f46-ef7d-4ced-b539-823b83df3315",
   "metadata": {},
   "outputs": [],
   "source": [
    "import langchain\n",
    "import langchain_community"
   ]
  },
  {
   "cell_type": "code",
   "execution_count": 3,
   "id": "30f1fee0-69a0-4b23-9edb-e348666ee35c",
   "metadata": {},
   "outputs": [
    {
     "data": {
      "text/plain": [
       "'0.2.14'"
      ]
     },
     "execution_count": 3,
     "metadata": {},
     "output_type": "execute_result"
    }
   ],
   "source": [
    "langchain.__version__"
   ]
  },
  {
   "cell_type": "code",
   "execution_count": 5,
   "id": "4bd880e6-d6cf-422e-a424-9dccbb606efa",
   "metadata": {},
   "outputs": [
    {
     "data": {
      "text/plain": [
       "'0.2.12'"
      ]
     },
     "execution_count": 5,
     "metadata": {},
     "output_type": "execute_result"
    }
   ],
   "source": [
    "langchain_community.__version__"
   ]
  },
  {
   "cell_type": "code",
   "execution_count": 7,
   "id": "fa5292e5-be93-40f1-be63-9892c25ecfb7",
   "metadata": {
    "id": "cKlax-updNW-"
   },
   "outputs": [],
   "source": [
    "import os"
   ]
  },
  {
   "cell_type": "code",
   "execution_count": 9,
   "id": "c129f23e-bd78-4d7b-8a62-65165839a9ca",
   "metadata": {},
   "outputs": [],
   "source": [
    "from dotenv import load_dotenv"
   ]
  },
  {
   "cell_type": "code",
   "execution_count": 6,
   "id": "8a8d76d4-06b3-4a36-a2bd-80daccae13ff",
   "metadata": {},
   "outputs": [
    {
     "data": {
      "text/plain": [
       "True"
      ]
     },
     "execution_count": 6,
     "metadata": {},
     "output_type": "execute_result"
    }
   ],
   "source": [
    "load_dotenv('/home/santhosh/Projects/courses/Pinnacle/.env')"
   ]
  },
  {
   "cell_type": "code",
   "execution_count": 11,
   "id": "9d4af6bc-a7ae-42ee-a836-463e0ae73be4",
   "metadata": {},
   "outputs": [
    {
     "data": {
      "text/plain": [
       "True"
      ]
     },
     "execution_count": 11,
     "metadata": {},
     "output_type": "execute_result"
    }
   ],
   "source": [
    "load_dotenv('D:/projects/env')"
   ]
  },
  {
   "cell_type": "code",
   "execution_count": 13,
   "id": "82164aff-fc23-4610-ae6b-d05775d9bd5e",
   "metadata": {},
   "outputs": [],
   "source": [
    "OPENAI_API_KEY = os.environ['OPENAI_API_KEY']"
   ]
  },
  {
   "cell_type": "markdown",
   "id": "71e32ad8-a437-403d-925b-785035812433",
   "metadata": {},
   "source": [
    "# Data"
   ]
  },
  {
   "cell_type": "code",
   "execution_count": 16,
   "id": "3c84e414-e493-4619-85a2-5b795e7f2d79",
   "metadata": {},
   "outputs": [],
   "source": [
    "from langchain_community.document_loaders import UnstructuredWordDocumentLoader, UnstructuredPDFLoader"
   ]
  },
  {
   "cell_type": "code",
   "execution_count": 17,
   "id": "2e875894-0f55-4a00-aab0-6b957af3ec60",
   "metadata": {},
   "outputs": [],
   "source": [
    "from langchain_community.document_loaders import PyMuPDFLoader"
   ]
  },
  {
   "cell_type": "code",
   "execution_count": 20,
   "id": "c9ec1712-7cef-496a-9b1b-1a87d4a6fe05",
   "metadata": {},
   "outputs": [],
   "source": [
    "from langchain_text_splitters import CharacterTextSplitter"
   ]
  },
  {
   "cell_type": "markdown",
   "id": "f9df0d88-ec1a-437d-8cab-e44ad1eb0fc1",
   "metadata": {},
   "source": [
    "https://info.email.online.hbs.edu/strategy-formulation-ebook"
   ]
  },
  {
   "cell_type": "code",
   "execution_count": 23,
   "id": "ef761dbf-76fb-49a9-8f43-5b8c674300c4",
   "metadata": {},
   "outputs": [],
   "source": [
    "loader = PyMuPDFLoader(file_path='how-to-formulate-successful-business-strategy.pdf', extract_images=False)"
   ]
  },
  {
   "cell_type": "code",
   "execution_count": 25,
   "id": "d4d2b523-cfde-4cac-947a-17890b400ab2",
   "metadata": {},
   "outputs": [],
   "source": [
    "data = loader.load()"
   ]
  },
  {
   "cell_type": "code",
   "execution_count": 27,
   "id": "c162e3b9-7474-46d9-8f9f-8a86a0ec5ba4",
   "metadata": {},
   "outputs": [
    {
     "data": {
      "text/plain": [
       "23"
      ]
     },
     "execution_count": 27,
     "metadata": {},
     "output_type": "execute_result"
    }
   ],
   "source": [
    "len(data)"
   ]
  },
  {
   "cell_type": "code",
   "execution_count": 29,
   "id": "316317c1-5374-4feb-9024-7e8454c13fd7",
   "metadata": {},
   "outputs": [],
   "source": [
    "text_splitter = CharacterTextSplitter(\n",
    "    separator=\"\\n\",\n",
    "    chunk_size=500,\n",
    "    chunk_overlap=0,\n",
    "    is_separator_regex=False,\n",
    ")"
   ]
  },
  {
   "cell_type": "code",
   "execution_count": 31,
   "id": "3d60c663-d4b2-4142-83e0-413f6916e635",
   "metadata": {},
   "outputs": [],
   "source": [
    "texts = text_splitter.split_documents(data)"
   ]
  },
  {
   "cell_type": "code",
   "execution_count": 33,
   "id": "f557d0cf-e57c-4120-8d2d-a3d7785b445e",
   "metadata": {},
   "outputs": [
    {
     "data": {
      "text/plain": [
       "69"
      ]
     },
     "execution_count": 33,
     "metadata": {},
     "output_type": "execute_result"
    }
   ],
   "source": [
    "len(texts)"
   ]
  },
  {
   "cell_type": "code",
   "execution_count": 35,
   "id": "5a1b8bd3-fdb3-4c86-9b01-0634a875af9b",
   "metadata": {},
   "outputs": [
    {
     "data": {
      "text/plain": [
       "Document(metadata={'source': 'how-to-formulate-successful-business-strategy.pdf', 'file_path': 'how-to-formulate-successful-business-strategy.pdf', 'page': 0, 'total_pages': 23, 'format': 'PDF 1.7', 'title': 'How to Formulate a Successful Business Strategy', 'author': 'Harvard Business School Online', 'subject': '', 'keywords': '', 'creator': 'Adobe InDesign 17.4 (Macintosh)', 'producer': 'Adobe PDF Library 16.0.7', 'creationDate': \"D:20221018124609-04'00'\", 'modDate': \"D:20221018124635-04'00'\", 'trapped': ''}, page_content='How to Formulate \\na\\xa0Successful \\nBusiness\\xa0Strategy')"
      ]
     },
     "execution_count": 35,
     "metadata": {},
     "output_type": "execute_result"
    }
   ],
   "source": [
    "texts[0]"
   ]
  },
  {
   "cell_type": "markdown",
   "id": "36432a74-84ad-46df-8e36-323f7bd0dcc1",
   "metadata": {},
   "source": [
    "# Embeddings"
   ]
  },
  {
   "cell_type": "code",
   "execution_count": 38,
   "id": "c3c053fe-4ff0-4854-bb20-0413879b79b8",
   "metadata": {},
   "outputs": [],
   "source": [
    "from langchain_openai import OpenAIEmbeddings"
   ]
  },
  {
   "cell_type": "code",
   "execution_count": 39,
   "id": "daefb130-0a3b-422f-aa37-5fbdd1602f69",
   "metadata": {},
   "outputs": [],
   "source": [
    "embedding_model = OpenAIEmbeddings(model='text-embedding-3-small', show_progress_bar=True)"
   ]
  },
  {
   "cell_type": "code",
   "execution_count": 41,
   "id": "4af78861-37cd-462d-aa57-0aabd4c167e7",
   "metadata": {},
   "outputs": [],
   "source": [
    "from langchain_chroma import Chroma"
   ]
  },
  {
   "cell_type": "code",
   "execution_count": 68,
   "id": "55e7a162-09e8-49aa-84ef-50eef084c06e",
   "metadata": {},
   "outputs": [
    {
     "data": {
      "application/vnd.jupyter.widget-view+json": {
       "model_id": "cb4c3379d1ca4187af549580c9a909d6",
       "version_major": 2,
       "version_minor": 0
      },
      "text/plain": [
       "  0%|          | 0/1 [00:00<?, ?it/s]"
      ]
     },
     "metadata": {},
     "output_type": "display_data"
    }
   ],
   "source": [
    "db = Chroma.from_documents(documents=texts, embedding=embedding_model, persist_directory='./strategy_db',\n",
    "                       collection_name='business-strategy', collection_metadata={\"hnsw:space\": \"cosine\"})"
   ]
  },
  {
   "cell_type": "code",
   "execution_count": 44,
   "id": "9827661f-33dc-4c07-8ebf-8c9584e7e67f",
   "metadata": {},
   "outputs": [],
   "source": [
    "db = Chroma(persist_directory=\"./strategy_db/\", \n",
    "            collection_name='business-strategy', embedding_function=embedding_model)"
   ]
  },
  {
   "cell_type": "code",
   "execution_count": 46,
   "id": "9c80578d-9fa4-4276-bcd6-dee519ad0910",
   "metadata": {},
   "outputs": [],
   "source": [
    "retriever = db.as_retriever(search_type=\"mmr\", search_kwargs={\"k\": 3})"
   ]
  },
  {
   "cell_type": "code",
   "execution_count": 48,
   "id": "1509f1a0-af87-48c1-9356-130389970cc9",
   "metadata": {},
   "outputs": [
    {
     "data": {
      "application/vnd.jupyter.widget-view+json": {
       "model_id": "48293e7348e3475dba3578ad644085fb",
       "version_major": 2,
       "version_minor": 0
      },
      "text/plain": [
       "  0%|          | 0/1 [00:00<?, ?it/s]"
      ]
     },
     "metadata": {},
     "output_type": "display_data"
    }
   ],
   "source": [
    "docs = retriever.invoke(\"wat role do employees play?\")"
   ]
  },
  {
   "cell_type": "code",
   "execution_count": 52,
   "id": "dede9d84-f56e-49ae-a7c9-795a333aac63",
   "metadata": {},
   "outputs": [
    {
     "name": "stdout",
     "output_type": "stream",
     "text": [
      "0 aware of your company’s goals, how and why you chose those goals, and what they can \n",
      "do to help reach them, you can create an increased sense of responsibility throughout \n",
      "your organization.\n",
      "This can also have trickle-down effects. For instance, if a manager isn’t clear on your \n",
      "organization’s strategy or the reasoning used to craft it, they could make decisions that \n",
      "counteract it. With one vision to unite around, everyone at your organization can act \n",
      "with a broader strategy in mind.\n",
      "\n",
      "1 How can my business create value for employees? \n",
      "And how can my business create value by \n",
      "collaborating with suppliers? Think of a company’s \n",
      "strategy as an answer to these three questions.”\n",
      "HBS Professor Felix Oberholzer-Gee \n",
      "in Business Strategy\n",
      "\n",
      "2 generates for its \n",
      "shareholders. \n",
      "PEOPLE\n",
      "refers to a company’s \n",
      "commitment to making \n",
      "a societal impact in \n",
      "communities locally and \n",
      "abroad. \n",
      "PLANET\n",
      "refers to the impact \n",
      "an organization \n",
      "makes on the \n",
      "environment.\n",
      "\n"
     ]
    }
   ],
   "source": [
    "for i, doc in enumerate(docs):\n",
    "    # print(doc.metadata)\n",
    "    print(i, doc.page_content, end='\\n\\n')"
   ]
  },
  {
   "cell_type": "code",
   "execution_count": 54,
   "id": "869642f5-99d5-45bf-8cea-4db75e7d7c83",
   "metadata": {},
   "outputs": [],
   "source": [
    "from typing import List\n",
    "from langchain_core.documents import Document\n",
    "from langchain_core.runnables import chain"
   ]
  },
  {
   "cell_type": "code",
   "execution_count": 56,
   "id": "899f88b0-f0eb-41bc-95b1-ebe201bc8eb4",
   "metadata": {},
   "outputs": [],
   "source": [
    "@chain\n",
    "def retriever(query: str) -> List[Document]:\n",
    "    docs, scores = zip(*db.similarity_search_with_score(query, k=3))\n",
    "    for doc, score in zip(docs, scores):\n",
    "        doc.metadata[\"score\"] = score\n",
    "\n",
    "    return docs"
   ]
  },
  {
   "cell_type": "code",
   "execution_count": 58,
   "id": "8b0fb61d-e2cf-46c2-9b0d-8850204c0489",
   "metadata": {},
   "outputs": [
    {
     "data": {
      "application/vnd.jupyter.widget-view+json": {
       "model_id": "c8590661b0074798b24cf94eca7487e7",
       "version_major": 2,
       "version_minor": 0
      },
      "text/plain": [
       "  0%|          | 0/1 [00:00<?, ?it/s]"
      ]
     },
     "metadata": {},
     "output_type": "display_data"
    }
   ],
   "source": [
    "docs = retriever.invoke(\"wat role do employees play?\")"
   ]
  },
  {
   "cell_type": "code",
   "execution_count": 60,
   "id": "b02ccc80-ea63-4cc5-832c-d6590407e5c6",
   "metadata": {},
   "outputs": [
    {
     "name": "stdout",
     "output_type": "stream",
     "text": [
      "0.5587170512512736\n",
      "0 aware of your company’s goals, how and why you chose those goals, and what they can \n",
      "do to help reach them, you can create an increased sense of responsibility throughout \n",
      "your organization.\n",
      "This can also have trickle-down effects. For instance, if a manager isn’t clear on your \n",
      "organization’s strategy or the reasoning used to craft it, they could make decisions that \n",
      "counteract it. With one vision to unite around, everyone at your organization can act \n",
      "with a broader strategy in mind.\n",
      "\n",
      "0.5931993625165801\n",
      "1 How can my business create value for employees? \n",
      "And how can my business create value by \n",
      "collaborating with suppliers? Think of a company’s \n",
      "strategy as an answer to these three questions.”\n",
      "HBS Professor Felix Oberholzer-Gee \n",
      "in Business Strategy\n",
      "\n",
      "0.6429791127071118\n",
      "2 execution requires organization-wide effort.\n",
      "Crafting a strategy is crucial, but it can’t be successful unless \n",
      "it’s effectively and artfully communicated to all employees \n",
      "so they feel empowered and responsible for reaching the \n",
      "company’s goals.\n",
      "5. Think of Strategy as an \n",
      "Ongoing Process\n",
      "Once you’ve formulated and communicated a strategic plan, \n",
      "it can be tempting to assume the strategic planning process is \n",
      "complete. According to HBS Professor Clayton Christensen,\n",
      "\n"
     ]
    }
   ],
   "source": [
    "for i, doc in enumerate(docs):\n",
    "    print(doc.metadata['score'])\n",
    "    print(i, doc.page_content, end='\\n\\n')"
   ]
  },
  {
   "cell_type": "code",
   "execution_count": null,
   "id": "ead1fb6d-2cac-44e9-8f1a-d0f8155e1663",
   "metadata": {},
   "outputs": [],
   "source": []
  }
 ],
 "metadata": {
  "kernelspec": {
   "display_name": "Python 3 (ipykernel)",
   "language": "python",
   "name": "python3"
  },
  "language_info": {
   "codemirror_mode": {
    "name": "ipython",
    "version": 3
   },
   "file_extension": ".py",
   "mimetype": "text/x-python",
   "name": "python",
   "nbconvert_exporter": "python",
   "pygments_lexer": "ipython3",
   "version": "3.12.3"
  }
 },
 "nbformat": 4,
 "nbformat_minor": 5
}
